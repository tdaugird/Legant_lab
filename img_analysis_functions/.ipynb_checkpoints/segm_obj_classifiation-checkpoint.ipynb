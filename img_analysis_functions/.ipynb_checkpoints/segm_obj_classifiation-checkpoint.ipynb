{
 "cells": [
  {
   "cell_type": "markdown",
   "metadata": {},
   "source": [
    "06-20-20\n",
    "This is code to annotate nucleus mask images. I have used this pretty extensively for annotating output from Cell Profiler. Included here is is script for:\n",
    "    -Labeling masked image and creating pd dataframe containing size and shape parameters of objects in a labeled objects\n",
    "    -displaying dataframe and associated image for annotation\n",
    "    -creating training dataframes containing annotations\n",
    "    -Training and testing random forest classifier.\n",
    "This is just genreal version that will need to be modified as needed."
   ]
  },
  {
   "cell_type": "code",
   "execution_count": 1,
   "metadata": {},
   "outputs": [],
   "source": [
    "import os\n",
    "import numpy as np\n",
    "from skimage import io\n",
    "from skimage import measure\n",
    "import matplotlib.pyplot as plt\n",
    "import pandas as pd"
   ]
  },
  {
   "cell_type": "markdown",
   "metadata": {},
   "source": [
    "# Annotate data"
   ]
  },
  {
   "cell_type": "markdown",
   "metadata": {},
   "source": [
    "## Set up directorys and read in files"
   ]
  },
  {
   "cell_type": "code",
   "execution_count": 2,
   "metadata": {},
   "outputs": [],
   "source": [
    "'''These will each need to be modified'''\n",
    "\n",
    "orig_img_dir = r'Z:\\TAD\\190718_3t3l1_time_course_r5\\stad3-28' #directory that contains the original not mask image\n",
    "segm_img_dir = r'Z:\\TAD\\200428_adipogenesis_timecourses_revisited\\190718_3t3l1_time_course_r5' #directory that contains the masked image\n",
    "annotated_csv_dir = r'C:\\Users\\LegantLab\\Documents\\git\\tad\\Legant_lab\\200428_adipogenesis_timecourses_revisited\\190718_3t3l1_time_course_r5\\annotated_csvs_pythong' #out put directory for placement of annotated .csv files\n",
    "base_img_name = 'stad3-32-xy7c1' #name of original image without file type\n",
    "segm_img_filename = base_img_name + '.tiff' #name of the segmented image"
   ]
  },
  {
   "cell_type": "code",
   "execution_count": 6,
   "metadata": {},
   "outputs": [],
   "source": [
    "'''this is function to read in the segmented image output form cp. These are rbg images so they need to be altered a little bit'''\n",
    "#def read_in_segm_img(img_):\n",
    " #   rbg_img = io.imread(img_)\n",
    "  #  float_img = rbg_img.astype('float32')\n",
    "    #ate_bit = np.sqrt(ate_bit)\n",
    "  #  float_img[:, :, 0] = np.multiply(1.001, float_img[:, :, 0])\n",
    "   # float_img[:, :, 1] = np.multiply(1.002, float_img[:, :, 1])\n",
    "    #return(np.sum(float_img, axis = 2))"
   ]
  },
  {
   "cell_type": "markdown",
   "metadata": {},
   "source": [
    "## Set up image and corresponding dataframe"
   ]
  },
  {
   "cell_type": "code",
   "execution_count": 7,
   "metadata": {},
   "outputs": [
    {
     "data": {
      "text/plain": [
       "<matplotlib.image.AxesImage at 0x2354e0cd2c8>"
      ]
     },
     "execution_count": 7,
     "metadata": {},
     "output_type": "execute_result"
    },
    {
     "data": {
      "image/png": "[encoded data removed]",
      "text/plain": [
       "<Figure size 432x288 with 1 Axes>"
      ]
     },
     "metadata": {
      "needs_background": "light"
     },
     "output_type": "display_data"
    }
   ],
   "source": [
    "os.chdir(segm_img_dir)\n",
    "segm_img = io.imread(segm_img_filename) #read in the segmented image\n",
    "labeled_img = measure.label(segm_img) #label\n",
    "#plt.imshow(labeled_img) #test display of image"
   ]
  },
  {
   "cell_type": "code",
   "execution_count": 8,
   "metadata": {},
   "outputs": [],
   "source": [
    "'''make a dataframe of object parameters'''\n",
    "df_whole = pd.DataFrame(measure.regionprops_table(labeled_img, properties = ('label',  'area',  'bbox_area', 'centroid', 'convex_area', \n",
    "                                                       'eccentricity', 'equivalent_diameter',\n",
    "                                                       'extent', 'local_centroid', 'major_axis_length', \n",
    "                                                                   'minor_axis_length', 'perimeter', 'solidity', 'inertia_tensor_eigvals',\n",
    "                                                                            'moments_hu',)))"
   ]
  },
  {
   "cell_type": "markdown",
   "metadata": {},
   "source": [
    "## Annotate images"
   ]
  },
  {
   "cell_type": "code",
   "execution_count": 16,
   "metadata": {},
   "outputs": [],
   "source": [
    "%matplotlib qt"
   ]
  },
  {
   "cell_type": "code",
   "execution_count": 17,
   "metadata": {},
   "outputs": [
    {
     "data": {
      "text/html": [
       "<div>\n",
       "<style scoped>\n",
       "    .dataframe tbody tr th:only-of-type {\n",
       "        vertical-align: middle;\n",
       "    }\n",
       "\n",
       "    .dataframe tbody tr th {\n",
       "        vertical-align: top;\n",
       "    }\n",
       "\n",
       "    .dataframe thead th {\n",
       "        text-align: right;\n",
       "    }\n",
       "</style>\n",
       "<table border=\"1\" class=\"dataframe\">\n",
       "  <thead>\n",
       "    <tr style=\"text-align: right;\">\n",
       "      <th></th>\n",
       "      <th>label</th>\n",
       "      <th>centroid-1</th>\n",
       "      <th>centroid-0</th>\n",
       "    </tr>\n",
       "  </thead>\n",
       "  <tbody>\n",
       "    <tr>\n",
       "      <th>0</th>\n",
       "      <td>1</td>\n",
       "      <td>326</td>\n",
       "      <td>69</td>\n",
       "    </tr>\n",
       "    <tr>\n",
       "      <th>1</th>\n",
       "      <td>2</td>\n",
       "      <td>1421</td>\n",
       "      <td>93</td>\n",
       "    </tr>\n",
       "    <tr>\n",
       "      <th>2</th>\n",
       "      <td>3</td>\n",
       "      <td>136</td>\n",
       "      <td>272</td>\n",
       "    </tr>\n",
       "    <tr>\n",
       "      <th>3</th>\n",
       "      <td>4</td>\n",
       "      <td>1994</td>\n",
       "      <td>391</td>\n",
       "    </tr>\n",
       "    <tr>\n",
       "      <th>4</th>\n",
       "      <td>5</td>\n",
       "      <td>101</td>\n",
       "      <td>551</td>\n",
       "    </tr>\n",
       "    <tr>\n",
       "      <th>5</th>\n",
       "      <td>6</td>\n",
       "      <td>864</td>\n",
       "      <td>501</td>\n",
       "    </tr>\n",
       "    <tr>\n",
       "      <th>6</th>\n",
       "      <td>7</td>\n",
       "      <td>615</td>\n",
       "      <td>635</td>\n",
       "    </tr>\n",
       "    <tr>\n",
       "      <th>7</th>\n",
       "      <td>8</td>\n",
       "      <td>1195</td>\n",
       "      <td>955</td>\n",
       "    </tr>\n",
       "    <tr>\n",
       "      <th>8</th>\n",
       "      <td>9</td>\n",
       "      <td>177</td>\n",
       "      <td>1023</td>\n",
       "    </tr>\n",
       "    <tr>\n",
       "      <th>9</th>\n",
       "      <td>10</td>\n",
       "      <td>584</td>\n",
       "      <td>1086</td>\n",
       "    </tr>\n",
       "    <tr>\n",
       "      <th>10</th>\n",
       "      <td>11</td>\n",
       "      <td>1602</td>\n",
       "      <td>1097</td>\n",
       "    </tr>\n",
       "    <tr>\n",
       "      <th>11</th>\n",
       "      <td>12</td>\n",
       "      <td>2026</td>\n",
       "      <td>1184</td>\n",
       "    </tr>\n",
       "    <tr>\n",
       "      <th>12</th>\n",
       "      <td>13</td>\n",
       "      <td>2000</td>\n",
       "      <td>1396</td>\n",
       "    </tr>\n",
       "    <tr>\n",
       "      <th>13</th>\n",
       "      <td>14</td>\n",
       "      <td>1100</td>\n",
       "      <td>1546</td>\n",
       "    </tr>\n",
       "    <tr>\n",
       "      <th>14</th>\n",
       "      <td>15</td>\n",
       "      <td>1674</td>\n",
       "      <td>1552</td>\n",
       "    </tr>\n",
       "    <tr>\n",
       "      <th>15</th>\n",
       "      <td>16</td>\n",
       "      <td>1321</td>\n",
       "      <td>1613</td>\n",
       "    </tr>\n",
       "    <tr>\n",
       "      <th>16</th>\n",
       "      <td>17</td>\n",
       "      <td>1120</td>\n",
       "      <td>1879</td>\n",
       "    </tr>\n",
       "    <tr>\n",
       "      <th>17</th>\n",
       "      <td>18</td>\n",
       "      <td>1792</td>\n",
       "      <td>1949</td>\n",
       "    </tr>\n",
       "    <tr>\n",
       "      <th>18</th>\n",
       "      <td>19</td>\n",
       "      <td>307</td>\n",
       "      <td>1957</td>\n",
       "    </tr>\n",
       "    <tr>\n",
       "      <th>20</th>\n",
       "      <td>21</td>\n",
       "      <td>33</td>\n",
       "      <td>2013</td>\n",
       "    </tr>\n",
       "    <tr>\n",
       "      <th>21</th>\n",
       "      <td>22</td>\n",
       "      <td>910</td>\n",
       "      <td>2018</td>\n",
       "    </tr>\n",
       "  </tbody>\n",
       "</table>\n",
       "</div>"
      ],
      "text/plain": [
       "    label  centroid-1  centroid-0\n",
       "0       1         326          69\n",
       "1       2        1421          93\n",
       "2       3         136         272\n",
       "3       4        1994         391\n",
       "4       5         101         551\n",
       "5       6         864         501\n",
       "6       7         615         635\n",
       "7       8        1195         955\n",
       "8       9         177        1023\n",
       "9      10         584        1086\n",
       "10     11        1602        1097\n",
       "11     12        2026        1184\n",
       "12     13        2000        1396\n",
       "13     14        1100        1546\n",
       "14     15        1674        1552\n",
       "15     16        1321        1613\n",
       "16     17        1120        1879\n",
       "17     18        1792        1949\n",
       "18     19         307        1957\n",
       "20     21          33        2013\n",
       "21     22         910        2018"
      ]
     },
     "execution_count": 17,
     "metadata": {},
     "output_type": "execute_result"
    }
   ],
   "source": [
    "'''drop all of the small objects and display dataframe containing label, x and y coordinates'''\n",
    "df_working = df_whole.loc[df_whole.area > 1000]\n",
    "df_working = df_working[['label', 'centroid-1', 'centroid-0']]\n",
    "df_working"
   ]
  },
  {
   "cell_type": "code",
   "execution_count": 18,
   "metadata": {},
   "outputs": [
    {
     "data": {
      "text/plain": [
       "<matplotlib.collections.PathCollection at 0x23551b667c8>"
      ]
     },
     "execution_count": 18,
     "metadata": {},
     "output_type": "execute_result"
    }
   ],
   "source": [
    "'''plot the labeled image and the centroid of each object on the same plot'''\n",
    "plt.imshow(labeled_img)\n",
    "plt.scatter(df_working['centroid-1'], df_working['centroid-0'], color = 'r')"
   ]
  },
  {
   "cell_type": "code",
   "execution_count": 15,
   "metadata": {},
   "outputs": [],
   "source": [
    "'''anotate the objects to keep'''\n",
    "in_obj_lst = [7, 10,17, 14, 16, 19, 17, 8, 9, 18, 11] #manually chosen objects to keepo\n",
    "in_obj_lst = np.unique(in_obj_lst) #confirm that things are not duplicated\n",
    "out_obj_lst_concat = np.setdiff1d(np.unique(df_whole.label), in_obj_lst, assume_unique=False) #Take everything that is not chosen and put it into a seperate file "
   ]
  },
  {
   "cell_type": "code",
   "execution_count": null,
   "metadata": {},
   "outputs": [],
   "source": [
    "df_in = df_whole.loc[df_whole.label.isin(in_obj_lst)] #from the regionprops table, make a seperate df with only the objects to keep\n",
    "df_out = df_whole.loc[df_whole.label.isin(out_obj_lst_concat)] #same as above with objects to not keep"
   ]
  },
  {
   "cell_type": "code",
   "execution_count": null,
   "metadata": {},
   "outputs": [],
   "source": [
    "'''write the dataframes into .csv files'''\n",
    "os.chdir(annotated_csv_dir)\n",
    "df_in.to_csv(base_img_name+'_in_objs.csv')\n",
    "df_out.to_csv(base_img_name+'_out_objs.csv')"
   ]
  },
  {
   "cell_type": "markdown",
   "metadata": {},
   "source": [
    "# Train and test classifier"
   ]
  },
  {
   "cell_type": "code",
   "execution_count": null,
   "metadata": {},
   "outputs": [],
   "source": [
    "from sklearn.ensemble import RandomForestClassifier\n",
    "from sklearn.naive_bayes import GaussianNB\n",
    "from sklearn.model_selection import train_test_split\n",
    "from sklearn.preprocessing import StandardScaler\n",
    "from sklearn.metrics import accuracy_score, precision_score, confusion_matrix"
   ]
  },
  {
   "cell_type": "markdown",
   "metadata": {},
   "source": [
    "## Read in and compile all the training data"
   ]
  },
  {
   "cell_type": "code",
   "execution_count": null,
   "metadata": {},
   "outputs": [],
   "source": [
    "'''compile all of the annotated csv files into one dataframe'''\n",
    "annotated_df_lst = []\n",
    "\n",
    "for csv_name in os.listdir():\n",
    "    if 'in' in csv_name:\n",
    "        df_ = pd.read_csv(csv_name)\n",
    "        df_['in_object'] = np.ones(len(df_))\n",
    "        annotated_df_lst.append(df_)\n",
    "    if 'out' in csv_name:\n",
    "        df_ = pd.read_csv(csv_name)\n",
    "        df_['in_object'] = np.zeros(len(df_))\n",
    "        annotated_df_lst.append(df_)\n",
    "df_train_orig = pd.concat(annotated_df_lst)"
   ]
  },
  {
   "cell_type": "markdown",
   "metadata": {},
   "source": [
    "## Train random forest classifier"
   ]
  },
  {
   "cell_type": "code",
   "execution_count": null,
   "metadata": {},
   "outputs": [],
   "source": [
    "\n",
    "#categories to be used in training\n",
    "keep_cats = [ 'area', \n",
    "             'bbox_area',\n",
    "             'centroid-0',\n",
    "             'centroid-1',\n",
    "             'convex_area',\n",
    "             'eccentricity',\n",
    "             'equivalent_diameter',\n",
    "             'extent',\n",
    "             'local_centroid-0',\n",
    "             'local_centroid-1',\n",
    "             'major_axis_length',\n",
    "             'minor_axis_length',\n",
    "             'perimeter',\n",
    "             'solidity',\n",
    "             'inertia_tensor_eigvals-0',\n",
    "             'inertia_tensor_eigvals-1',\n",
    "             'moments_hu-0',\n",
    "             'moments_hu-1',\n",
    "             'moments_hu-2',\n",
    "             'moments_hu-3',\n",
    "             'moments_hu-4',\n",
    "             'moments_hu-5',\n",
    "             'moments_hu-6',\n",
    "             'in_object']\n",
    "\n",
    "'''set up dataframe from which to choos training and target params'''\n",
    "df_train = df_train_orig[keep_cats] # make a copy of original df. I am going to alter this a little bit in order to pull out train and test cats\n",
    "df_train = df_train.dropna() #get rid of of any entries that haf NA\n",
    "\n",
    "'''set up target parameter'''\n",
    "target_cat_name = 'in_object' #this is target category for the training the classifier\n",
    "\n",
    "'''define train and target data'''\n",
    "x_train = df_train.drop('in_object', axis = 1)\n",
    "y_train = df_train[target_cat_name]\n",
    "\n",
    "#x_test = df_\n",
    "#y_test = df_whole.[target_cat_name]\n",
    "\n",
    "\n",
    "x_train, x_test, y_train, y_test = train_test_split(x_train, y_train, test_size = .25, random_state = 42) #'''split data into train and test sets'''\n",
    "\n",
    "'''this is a feature scaling step. This will normalize all of the data in order to pull everything into the same range'''\n",
    "sc_X = StandardScaler()\n",
    "x_train = sc_X.fit_transform(x_train)\n",
    "x_test = sc_X.transform(x_test)\n",
    "\n",
    "'''random forest classifier'''\n",
    "clf=RandomForestClassifier(n_estimators=100)\n",
    "model = GaussianNB()\n",
    "\n",
    "'''Train the model using the training sets y_pred=clf.predict(X_test)'''\n",
    "clf.fit(x_train,y_train)\n",
    "model.fit(x_train, y_train)"
   ]
  },
  {
   "cell_type": "code",
   "execution_count": null,
   "metadata": {},
   "outputs": [],
   "source": [
    "'''check how well model is performing'''\n",
    "y_pred = clf.predict(x_test)\n",
    "'''double check accuracy and precisiton of model'''\n",
    "accuracy = accuracy_score(y_test, y_pred)\n",
    "precision = precision_score(y_test, y_pred)\n",
    "\n",
    "print('accuracy: ', accuracy, ' precision: ', precision)\n",
    "confusion_matrix(y_test, y_pred)"
   ]
  }
 ],
 "metadata": {
  "kernelspec": {
   "display_name": "img_analysis",
   "language": "python",
   "name": "img_analysis"
  },
  "language_info": {
   "codemirror_mode": {
    "name": "ipython",
    "version": 3
   },
   "file_extension": ".py",
   "mimetype": "text/x-python",
   "name": "python",
   "nbconvert_exporter": "python",
   "pygments_lexer": "ipython3",
   "version": "3.7.6"
  },
  "toc-autonumbering": true
 },
 "nbformat": 4,
 "nbformat_minor": 4
}
