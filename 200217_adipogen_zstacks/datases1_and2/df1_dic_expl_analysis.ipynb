{
 "cells": [
  {
   "cell_type": "markdown",
   "metadata": {},
   "source": [
    "### It appears as thought the CEBPb expression for the first data set is not going as I would have thought. I would like to see if there are lipid droplets in the final time point in order to try to pin down what is going wrong here"
   ]
  },
  {
   "cell_type": "code",
   "execution_count": 1,
   "metadata": {},
   "outputs": [
    {
     "name": "stderr",
     "output_type": "stream",
     "text": [
      "C:\\ProgramData\\Anaconda3\\lib\\site-packages\\napari\\__init__.py:27: UserWarning: \n",
      "    napari was tested with QT library `>=5.12.3`.\n",
      "    The version installed is 5.9.6. Please report any issues with this\n",
      "    specific QT version at https://github.com/Napari/napari/issues.\n",
      "    \n",
      "  warn(message=warn_message)\n"
     ]
    }
   ],
   "source": [
    "import os\n",
    "import numpy as np\n",
    "import pandas as pd\n",
    "from skimage import io\n",
    "import matplotlib.pyplot as plt\n",
    "import seaborn as sns\n",
    "from scipy.fftpack import dct\n",
    "import shutil\n",
    "%gui qt\n",
    "import napari"
   ]
  },
  {
   "cell_type": "markdown",
   "metadata": {},
   "source": [
    "### First thing will be to load in the dataset in order to get an idea of what is happening"
   ]
  },
  {
   "cell_type": "code",
   "execution_count": 2,
   "metadata": {},
   "outputs": [],
   "source": [
    "'''load in data set'''\n",
    "\n",
    "home_dir = r'C:\\Users\\LegantLab\\Documents\\git\\tad\\Legant_lab\\200217_adipogen_zstacks\\datases1_and2\\dcts_output'\n",
    "os.chdir(home_dir)\n"
   ]
  },
  {
   "cell_type": "code",
   "execution_count": 10,
   "metadata": {},
   "outputs": [],
   "source": [
    "'''read in dataframes'''\n",
    "df1 = pd.read_csv('df1_nb_parsed.csv')\n",
    "df2 = pd.read_csv('df2_nb_parsed.csv')"
   ]
  },
  {
   "cell_type": "code",
   "execution_count": 12,
   "metadata": {},
   "outputs": [
    {
     "data": {
      "text/plain": [
       "<matplotlib.legend.Legend at 0x27a0d0ae888>"
      ]
     },
     "execution_count": 12,
     "metadata": {},
     "output_type": "execute_result"
    },
    {
     "data": {
      "image/png": "[encoded data removed]",
      "text/plain": [
       "<Figure size 432x288 with 1 Axes>"
      ]
     },
     "metadata": {
      "needs_background": "light"
     },
     "output_type": "display_data"
    }
   ],
   "source": [
    "sns.lineplot(df1.time, df1.Intensity_IntegratedIntensity_cebp)\n",
    "sns.lineplot(df2.time, df2.Intensity_IntegratedIntensity_cebp)\n",
    "plt.legend(['df1', 'df2'])"
   ]
  },
  {
   "cell_type": "markdown",
   "metadata": {},
   "source": [
    "### So there is clearly something funny that is happening here with df1. I am not entirely certian how to interpret this as these should be biological replicates of each other"
   ]
  },
  {
   "cell_type": "markdown",
   "metadata": {},
   "source": [
    "### stad447 should be the last time point and it looks like I have some DIC images here so I will take a quick gander at these"
   ]
  },
  {
   "cell_type": "code",
   "execution_count": 9,
   "metadata": {},
   "outputs": [
    {
     "data": {
      "text/plain": [
       "1726"
      ]
     },
     "execution_count": 9,
     "metadata": {},
     "output_type": "execute_result"
    }
   ],
   "source": [
    "len(df2)"
   ]
  },
  {
   "cell_type": "code",
   "execution_count": 16,
   "metadata": {},
   "outputs": [
    {
     "data": {
      "text/plain": [
       "'this is not code that needs to be repeated so I commented it out'"
      ]
     },
     "execution_count": 16,
     "metadata": {},
     "output_type": "execute_result"
    }
   ],
   "source": [
    "'''I need to move things into a seperate directory'''\n",
    "\n",
    "'''this is not code that needs to be repeated so I commented it out'''\n",
    "\n",
    "#working_dir = r'Z:\\TAD\\200217_adipogen_z_stacks\\stad447_dic'\n",
    "#os.chdir(working_dir)\n",
    "#\n",
    "#dir_names_ = []\n",
    "#for i in os.listdir():\n",
    "#    if i.endswith('.tif'):\n",
    "#        dir_names_.append(i[:4])\n",
    "#dir_names = list(np.unique(dir_names_))\n",
    "#\n",
    "#for i in dir_names:\n",
    "#    os.mkdir(i)\n",
    "#\n",
    "#for i in dir_names:\n",
    "#    destination_dir = working_dir + '\\\\' + i\n",
    "#    tiff_files = []\n",
    "#    for j in os.listdir():\n",
    "#        if (j.endswith('.tif')):\n",
    "#            tiff_files.append(j)\n",
    "#    for j in tiff_files:\n",
    "#        if (j[:4] in i):\n",
    "#            shutil.move(working_dir + '\\\\' + j, destination_dir + '\\\\' + j) "
   ]
  },
  {
   "cell_type": "code",
   "execution_count": 3,
   "metadata": {},
   "outputs": [],
   "source": [
    "'''this is most recent verion of this function as of 04-17-20. This updated version can change to different directories.\n",
    "it also returns arrays that are the\n",
    "appropriate data type'''\n",
    "def make_z_stack(num_channels, bit_depth = 'uint16'):\n",
    "    \n",
    "    ###Get home directory to switch back to at the end\n",
    "   # home_dir = os.getcwd()\n",
    "    \n",
    "    #change to directory that has set of .tiff files\n",
    "   # if directory != os.getcwd():\n",
    "    #    os.chdir(directory)\n",
    "    \n",
    "    #the data type that you would like the final images to be\n",
    "  #  if bit_depth == 16:\n",
    "  #      bit = 'uint16'\n",
    "  #  if bit_depth == 8:\n",
    "  #      bit = 'uint8'\n",
    "  #  if bit_depth ==:\n",
    "  #      bit = np.float32\n",
    "    bit = bit_depth\n",
    "        \n",
    "        \n",
    "    ## if stupid Thumbs.db is present in the file then this will remove it\n",
    "    if 'Thumbs.db' in os.listdir():\n",
    "        os.remove('Thumbs.db')\n",
    "        \n",
    "    \n",
    "    ###generate list of sorted images\n",
    "    image_lst = np.sort(os.listdir())\n",
    "    ### figure out shape of empty zeros array for image\n",
    "    img_ = io.imread(image_lst[0])\n",
    "    n_row = img_.shape[0]\n",
    "    n_col = img_.shape[1]\n",
    "    n_plane = int(len(image_lst) / num_channels)\n",
    "    #shape_tupple = np.zeros((n_z, n_row, n_col))\n",
    "    \n",
    "    ### generate some empyt arrays to be filled up\n",
    "    c1_img = np.ndarray((n_plane, n_row, n_col), dtype = bit)\n",
    "    c2_img = np.ndarray((n_plane, n_row, n_col), dtype = bit)\n",
    "    c3_img = np.ndarray((n_plane, n_row, n_col), dtype = bit)\n",
    "    c4_img = np.ndarray((n_plane, n_row, n_col), dtype = bit)\n",
    "    c5_img = np.ndarray((n_plane, n_row, n_col), dtype = bit)\n",
    "    \n",
    "    ###read in and generate z-stack for each channel\n",
    "    z_slice = 0\n",
    "    for i in range(0 , (len(image_lst))- num_channels, num_channels):\n",
    "        if num_channels == 1:\n",
    "            c1_img[z_slice, :, :] = io.imread(image_lst[i])\n",
    "        if num_channels == 2:\n",
    "            c1_img[z_slice, :, :] = io.imread(image_lst[i])\n",
    "            c2_img[z_slice, :, :] = io.imread(image_lst[i + 1])\n",
    "        if num_channels == 3:\n",
    "            c1_img[z_slice, :, :] = io.imread(image_lst[i])\n",
    "            c2_img[z_slice, :, :] = io.imread(image_lst[i + 1])\n",
    "            c3_img[z_slice, :, :] = io.imread(image_lst[i + 2])\n",
    "        if num_channels == 4:\n",
    "            c1_img[z_slice, :, :] = io.imread(image_lst[i])\n",
    "            c2_img[z_slice, :, :] = io.imread(image_lst[i + 1])\n",
    "            c3_img[z_slice, :, :] = io.imread(image_lst[i + 2])\n",
    "            c4_img[z_slice, :, :] = io.imread(image_lst[i + 3])\n",
    "        if num_channels == 5:\n",
    "            c1_img[z_slice, :, :] = io.imread(image_lst[i])\n",
    "            c2_img[z_slice, :, :] = io.imread(image_lst[i + 1])\n",
    "            c3_img[z_slice, :, :] = io.imread(image_lst[i + 2])\n",
    "            c4_img[z_slice, :, :] = io.imread(image_lst[i + 3])\n",
    "            c5_img[z_slice, :, :] = io.imread(image_lst[i + 4])\n",
    "        z_slice += 1\n",
    "     \n",
    "    ###change back to original directory\n",
    "    os.chdir(home_dir)\n",
    "    \n",
    "    \n",
    "    if num_channels == 1:\n",
    "        c1_img = c1_img.astype(bit)\n",
    "        return(c1_img)\n",
    "    if num_channels == 2:\n",
    "        c1_img = c1_img.astype(bit)\n",
    "        c2_img = c2_img.astype(bit)\n",
    "        return(c1_img, c2_img)\n",
    "    if num_channels == 3:\n",
    "        c1_img = c1_img.astype(bit)\n",
    "        c2_img = c2_img.astype(bit)\n",
    "        c3_img = c2_img.astype(bit)\n",
    "        return(c1_img, c2_img, c3_img)\n",
    "    if num_channels == 4:\n",
    "        c1_img = c1_img.astype(bit)\n",
    "        c2_img = c2_img.astype(bit)\n",
    "        c3_img = c3_img.astype(bit)\n",
    "        c4_img = c4_img.astype(bit)\n",
    "        return(c1_img, c2_img, c3_img, c4_img)\n",
    "\n",
    "    if num_channels  == 5:\n",
    "        c1_img = c1_img.astype(bit)\n",
    "        c2_img = c2_img.astype(bit)\n",
    "        c3_img = c3_img.astype(bit)\n",
    "        c4_img = c4_img.astype(bit)\n",
    "        c5_img = c5_imglastype(bit)\n",
    "        return(c1_img.astype(bit), c2_img.astype(bit), c3_img.astype(bit), c4_img.astype(bit), c5_img.astype(bit))"
   ]
  },
  {
   "cell_type": "code",
   "execution_count": 4,
   "metadata": {},
   "outputs": [],
   "source": [
    "os.chdir(r'Z:\\TAD\\200217_adipogen_z_stacks\\stad447_2_dic\\xy03')\n",
    "\n",
    "c1_dic, c2_dic = make_z_stack(2)\n",
    "\n",
    "os.chdir(home_dir)\n"
   ]
  },
  {
   "cell_type": "code",
   "execution_count": null,
   "metadata": {},
   "outputs": [],
   "source": [
    "'''I would like to see if these images match up to the four color fluorescent images that I too before'''\n"
   ]
  },
  {
   "cell_type": "code",
   "execution_count": 20,
   "metadata": {},
   "outputs": [
    {
     "data": {
      "text/plain": [
       "<Image layer 'c2' at 0x27a0d173c08>"
      ]
     },
     "execution_count": 20,
     "metadata": {},
     "output_type": "execute_result"
    }
   ],
   "source": []
  },
  {
   "cell_type": "code",
   "execution_count": 5,
   "metadata": {},
   "outputs": [],
   "source": [
    "'''red in maybe corresponding fluorescent images'''\n",
    "os.chdir(r'Z:\\TAD\\200217_adipogen_z_stacks\\stad447\\xy03')\n",
    "c1, c2, c3, c4 = make_z_stack(4, bit_depth=np. float32)\n",
    "os.chdir(home_dir)"
   ]
  },
  {
   "cell_type": "code",
   "execution_count": 38,
   "metadata": {},
   "outputs": [
    {
     "data": {
      "text/plain": [
       "<Image layer 'c4_f' at 0x27a5f7c2748>"
      ]
     },
     "execution_count": 38,
     "metadata": {},
     "output_type": "execute_result"
    }
   ],
   "source": [
    "viewer = napari.Viewer()\n",
    "viewer.add_image(c1_dic, name = 'c1_dic')\n",
    "viewer.add_image(c2_dic, name = 'c2_dic')\n",
    "viewer.add_image(c4_f, name = 'c4_f')"
   ]
  },
  {
   "cell_type": "markdown",
   "metadata": {},
   "source": [
    "### Alrigt so it looks like these image sets line up correctly. They are not exactly register in xy but I think that they are close eought. \n"
   ]
  },
  {
   "cell_type": "markdown",
   "metadata": {},
   "source": [
    "### I would like to figure where the middle of each of the DIC images is as well and if this lines up reasonibly with the other images"
   ]
  },
  {
   "cell_type": "code",
   "execution_count": 6,
   "metadata": {},
   "outputs": [],
   "source": [
    "'''This will calculate and return the shannon entropy of the normalized discrete cosine transform. This is \n",
    "taken from strategy used in doi: 10.1038/nbt.3708. takes in a 2D array and spits out a scaler, the dcst.\n",
    "'''\n",
    "def dcts(img_):\n",
    "    dis_cos = dct(img_) #take the discrete cosine transform of the image\n",
    "    l2 = np.sqrt(np.sum(np.square(img_))) #perform l2 normalization\n",
    "    inner_term = np.divide(dis_cos, l2) #inner term of the shannon enropy\n",
    "    '''need to get rid of any zeros that occur in inner term'''\n",
    "    inner_term[inner_term == 0] = .0001\n",
    "    first_term = np.abs(inner_term) #first term of shannon entropy\n",
    "    second_term = np.log2(np.abs(inner_term)) #second term of shannon entropy \n",
    "    return(np.multiply(-1, np.sum(np.multiply(first_term, second_term))))\n",
    "    #return(second_term)\n",
    "                        "
   ]
  },
  {
   "cell_type": "code",
   "execution_count": 7,
   "metadata": {},
   "outputs": [],
   "source": [
    "'''this iterates over each of the stacks and pulls out the dcts and the std of each slice and places them into\n",
    "respective lists'''\n",
    "\n",
    "#lists to be populated with the dcts of each channel\n",
    "c1_dcts_lst = []\n",
    "c2_dcts_lst = []\n",
    "c3_dcts_lst = []\n",
    "c4_dcts_lst = []\n",
    "\n",
    "#lists to be populated with the std of each channel\n",
    "c1_std_lst = []\n",
    "c2_std_lst = []\n",
    "c3_std_lst = []\n",
    "c4_std_lst = []\n",
    "\n",
    "\n",
    "for i in range(44):\n",
    "    c1_slice  = c1[i, :, :]\n",
    "    c2_slice = c2[i, :, :]\n",
    "    c3_slice = c3[i, :, :]\n",
    "    c4_slice = c4[i, :, :]\n",
    "    \n",
    "    c1_dcts_lst.append(dcts(c1_slice))\n",
    "    c2_dcts_lst.append(dcts(c2_slice))\n",
    "    c3_dcts_lst.append(dcts(c3_slice))\n",
    "    c4_dcts_lst.append(dcts(c4_slice))\n",
    "    \n",
    "    c1_std_lst.append(np.std(c1_slice.flatten()))\n",
    "    c2_std_lst.append(np.std(c2_slice.flatten()))\n",
    "    c3_std_lst.append(np.std(c3_slice.flatten()))\n",
    "    c4_std_lst.append(np.std(c4_slice.flatten()))"
   ]
  },
  {
   "cell_type": "code",
   "execution_count": 8,
   "metadata": {},
   "outputs": [
    {
     "data": {
      "text/plain": [
       "<matplotlib.legend.Legend at 0x23e5f353808>"
      ]
     },
     "execution_count": 8,
     "metadata": {},
     "output_type": "execute_result"
    },
    {
     "data": {
      "image/png": "[encoded data removed]",
      "text/plain": [
       "<Figure size 432x288 with 1 Axes>"
      ]
     },
     "metadata": {
      "needs_background": "light"
     },
     "output_type": "display_data"
    }
   ],
   "source": [
    "slice_lst = list(range(44))\n",
    "ax = plt.plot(slice_lst, c1_dcts_lst)\n",
    "ax = plt.plot(slice_lst, c2_dcts_lst)\n",
    "ax = plt.plot(slice_lst, c3_dcts_lst)\n",
    "ax = plt.plot(slice_lst, c4_dcts_lst)\n",
    "plt.legend(['cebp_b', 'cjun', 'rnap', 'dapi'])"
   ]
  },
  {
   "cell_type": "code",
   "execution_count": 9,
   "metadata": {},
   "outputs": [
    {
     "data": {
      "image/png": "[encoded data removed]",
      "text/plain": [
       "<Figure size 432x288 with 1 Axes>"
      ]
     },
     "metadata": {
      "needs_background": "light"
     },
     "output_type": "display_data"
    }
   ],
   "source": [
    "ax = plt.plot(slice_lst, c1_dcts_lst)"
   ]
  },
  {
   "cell_type": "code",
   "execution_count": 40,
   "metadata": {},
   "outputs": [
    {
     "data": {
      "text/plain": [
       "(45, 2048, 2044)"
      ]
     },
     "execution_count": 40,
     "metadata": {},
     "output_type": "execute_result"
    }
   ],
   "source": [
    "c4_f.shape"
   ]
  },
  {
   "cell_type": "code",
   "execution_count": 53,
   "metadata": {},
   "outputs": [],
   "source": [
    "'''find the highese DCTS for each image'''\n",
    "\n",
    "'''iterate over each slice of the cebp image and find the one with the highest dcts'''\n",
    "#lists to be populated with the std of each channel\n",
    "c1_dic_lst = []\n",
    "c2_dic_lst = []\n",
    "c1_f_lst = []\n",
    "c4_f_lst = []\n",
    "\n",
    "\n",
    "for i in range(44):\n",
    "    c1_dic_slice  = c1_dic[i, :, :].astype('float32')\n",
    "    c2_dic_slice = c2_dic[i, :, :].astype('float32')\n",
    "    c1_f_slice = c1_f[i, :, :].astype('float32')\n",
    "    c4_f_slice = c4_f[i, :, :].astype('float32')\n",
    "    \n",
    "    c1_dic_lst.append(dcts(c1_dic_slice))\n",
    "    c2_dic_lst.append(dcts(c2_dic_slice))\n",
    "    c1_f_lst.append(dcts(c1_f_slice))\n",
    "    c4_f_lst.append(dcts(c4_f_slice))\n",
    "    "
   ]
  },
  {
   "cell_type": "code",
   "execution_count": 56,
   "metadata": {},
   "outputs": [
    {
     "data": {
      "text/plain": [
       "dtype('float32')"
      ]
     },
     "execution_count": 56,
     "metadata": {},
     "output_type": "execute_result"
    }
   ],
   "source": [
    "c1_dic_slice.dtype"
   ]
  },
  {
   "cell_type": "code",
   "execution_count": 54,
   "metadata": {},
   "outputs": [
    {
     "data": {
      "text/plain": [
       "<matplotlib.legend.Legend at 0x27a67b0ca08>"
      ]
     },
     "execution_count": 54,
     "metadata": {},
     "output_type": "execute_result"
    },
    {
     "data": {
      "image/png": "[encoded data removed]",
      "text/plain": [
       "<Figure size 432x288 with 1 Axes>"
      ]
     },
     "metadata": {
      "needs_background": "light"
     },
     "output_type": "display_data"
    }
   ],
   "source": [
    "slice_n = list(range(0, c4_f.shape[0] -1))\n",
    "\n",
    "plt.plot(slice_n, c1_dic_dcts)\n",
    "plt.plot(slice_n, c2_dic_dcts)\n",
    "plt.plot(slice_n, dapi_f_dcts)\n",
    "plt.plot(slice_n, cebp_f_dcts)\n",
    "plt.legend(['dapi_dic', 'dic', 'dapi_f', 'cebp_f'])"
   ]
  },
  {
   "cell_type": "code",
   "execution_count": 34,
   "metadata": {},
   "outputs": [
    {
     "data": {
      "text/plain": [
       "[<matplotlib.lines.Line2D at 0x27a342f80c8>]"
      ]
     },
     "execution_count": 34,
     "metadata": {},
     "output_type": "execute_result"
    },
    {
     "data": {
      "image/png": "[encoded data removed]",
      "text/plain": [
       "<Figure size 432x288 with 1 Axes>"
      ]
     },
     "metadata": {
      "needs_background": "light"
     },
     "output_type": "display_data"
    }
   ],
   "source": [
    "plt.plot(slice_n, dapi_f_dcts)"
   ]
  },
  {
   "cell_type": "code",
   "execution_count": 58,
   "metadata": {},
   "outputs": [],
   "source": [
    "os.chdir(r'Z:\\TAD\\200217_adipogen_z_stacks\\stad442\\xy01')\n",
    "c1, c2, c3, c4 = make_z_stack(4, bit_depth = np.float32)"
   ]
  },
  {
   "cell_type": "code",
   "execution_count": 63,
   "metadata": {},
   "outputs": [],
   "source": [
    "'''this iterates over each of the stacks and pulls out the dcts and the std of each slice and places them into\n",
    "respective lists'''\n",
    "c1 = c1_dic.copy()\n",
    "c2 = c2_dic.copy()\n",
    "c3 = c1_f.copy()\n",
    "c4 = c4_f.copy()\n",
    "\n",
    "\n",
    "#lists to be populated with the dcts of each channel\n",
    "c1_dcts_lst = []\n",
    "c2_dcts_lst = []\n",
    "c3_dcts_lst = []\n",
    "c4_dcts_lst = []\n",
    "\n",
    "#lists to be populated with the std of each channel\n",
    "c1_std_lst = []\n",
    "c2_std_lst = []\n",
    "c3_std_lst = []\n",
    "c4_std_lst = []\n",
    "\n",
    "\n",
    "for i in range(44):\n",
    "    c1_slice  = c1[i, :, :]\n",
    "    c2_slice = c2[i, :, :]\n",
    "    c3_slice = c3[i, :, :]\n",
    "    c4_slice = c4[i, :, :]\n",
    "    \n",
    "    c1_dcts_lst.append(dcts(c1_slice))\n",
    "    c2_dcts_lst.append(dcts(c2_slice))\n",
    "    c3_dcts_lst.append(dcts(c3_slice))\n",
    "    c4_dcts_lst.append(dcts(c4_slice))\n",
    "    \n",
    "    c1_std_lst.append(np.std(c1_slice.flatten()))\n",
    "    c2_std_lst.append(np.std(c2_slice.flatten()))\n",
    "    c3_std_lst.append(np.std(c3_slice.flatten()))\n",
    "    c4_std_lst.append(np.std(c4_slice.flatten()))\n",
    "    "
   ]
  },
  {
   "cell_type": "code",
   "execution_count": 71,
   "metadata": {},
   "outputs": [
    {
     "data": {
      "text/plain": [
       "<matplotlib.legend.Legend at 0x27a67d48948>"
      ]
     },
     "execution_count": 71,
     "metadata": {},
     "output_type": "execute_result"
    },
    {
     "data": {
      "image/png": "[encoded data removed]",
      "text/plain": [
       "<Figure size 432x288 with 1 Axes>"
      ]
     },
     "metadata": {
      "needs_background": "light"
     },
     "output_type": "display_data"
    }
   ],
   "source": [
    "slice_lst = list(range(44))\n",
    "ax = plt.plot(slice_lst, c1_dcts_lst)\n",
    "ax = plt.plot(slice_lst, c2_dcts_lst)\n",
    "#ax = plt.plot(slice_lst, c3_dcts_lst)\n",
    "#ax = plt.plot(slice_lst, c4_dcts_lst)\n",
    "plt.legend(['dic', 'dapi_dic', 'dapi_f', 'cebp_f'])"
   ]
  },
  {
   "cell_type": "code",
   "execution_count": 69,
   "metadata": {},
   "outputs": [
    {
     "data": {
      "text/plain": [
       "<Image layer 'Image' at 0x27a67ac4808>"
      ]
     },
     "execution_count": 69,
     "metadata": {},
     "output_type": "execute_result"
    }
   ],
   "source": [
    "viewer = napari.Viewer()\n",
    "viewer.add_image(c4)"
   ]
  },
  {
   "cell_type": "code",
   "execution_count": 68,
   "metadata": {},
   "outputs": [],
   "source": [
    "import napari"
   ]
  },
  {
   "cell_type": "code",
   "execution_count": null,
   "metadata": {},
   "outputs": [],
   "source": []
  }
 ],
 "metadata": {
  "kernelspec": {
   "display_name": "Python 3",
   "language": "python",
   "name": "python3"
  },
  "language_info": {
   "codemirror_mode": {
    "name": "ipython",
    "version": 3
   },
   "file_extension": ".py",
   "mimetype": "text/x-python",
   "name": "python",
   "nbconvert_exporter": "python",
   "pygments_lexer": "ipython3",
   "version": "3.7.6"
  }
 },
 "nbformat": 4,
 "nbformat_minor": 4
}
