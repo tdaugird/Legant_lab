{
 "cells": [
  {
   "cell_type": "markdown",
   "metadata": {},
   "source": [
    "### This is just quick to see if I can get a naiive bayes classifier up and running for datasets"
   ]
  },
  {
   "cell_type": "code",
   "execution_count": 147,
   "metadata": {},
   "outputs": [],
   "source": [
    "import os\n",
    "import numpy as np\n",
    "import pandas as pd\n",
    "from sklearn.model_selection import train_test_split\n",
    "from sklearn.naive_bayes import GaussianNB\n",
    "from sklearn.metrics import accuracy_score, precision_score, confusion_matrix\n",
    "import matplotlib.pyplot as plt\n",
    "import seaborn as sns\n",
    "from sklearn.preprocessing import StandardScaler\n",
    "from sklearn\n",
    "#from sklearn.preprocessing import Imputer"
   ]
  },
  {
   "cell_type": "code",
   "execution_count": null,
   "metadata": {},
   "outputs": [],
   "source": []
  },
  {
   "cell_type": "code",
   "execution_count": 2,
   "metadata": {},
   "outputs": [],
   "source": [
    "os.chdir(r'C:\\Users\\timdaugird\\Google Drive\\legant_lab\\_projects\\200217_adipogen_zstacks\\cell_profiler_output\\dcts_output\\segm_img_tests\\in_out_csvs')"
   ]
  },
  {
   "cell_type": "code",
   "execution_count": 3,
   "metadata": {},
   "outputs": [
    {
     "data": {
      "text/plain": [
       "['instad438-xy07.csv',\n",
       " 'in_stad436-xy01.csv',\n",
       " 'in_stad440-xy10.csv',\n",
       " 'in_stad441-xy01.csv',\n",
       " 'in_stad444-xy02.csv',\n",
       " 'in_stad445-xy04.csv',\n",
       " 'in_stad445-xy06.csv',\n",
       " 'in_stad445-xy09.csv',\n",
       " 'in_stad446-xy04.csv',\n",
       " 'in_stad446-xy07.csv',\n",
       " 'in_stad446-xy09.csv',\n",
       " 'in_stad446-xy10.csv',\n",
       " 'in_stad447-xy03.csv',\n",
       " 'in_stad447-xy07.csv',\n",
       " 'in_stad447-xy09.csv',\n",
       " 'outstad438-xy07.csv',\n",
       " 'out_shapestad438-xy07.csv',\n",
       " 'out_shapestad441-xy01.csv',\n",
       " 'out_shape_stad436-xy01.csv',\n",
       " 'out_shape_stad440-xy10.csv',\n",
       " 'out_shape_stad441-xy01.csv',\n",
       " 'out_shape_stad444-xy02.csv',\n",
       " 'out_shape_stad445-xy04.csv',\n",
       " 'out_shape_stad445-xy06.csv',\n",
       " 'out_shape_stad445-xy09.csv',\n",
       " 'out_shape_stad446-xy04.csv',\n",
       " 'out_shape_stad446-xy07.csv',\n",
       " 'out_shape_stad446-xy09.csv',\n",
       " 'out_shape_stad446-xy10.csv',\n",
       " 'out_shape_stad447-xy03.csv',\n",
       " 'out_shape_stad447-xy07.csv',\n",
       " 'out_shape_stad447-xy09.csv',\n",
       " 'out_sizestad438-xy07.csv',\n",
       " 'out_sizestad441-xy01.csv',\n",
       " 'out_size_stad436-xy01.csv',\n",
       " 'out_size_stad440-xy10.csv',\n",
       " 'out_size_stad441-xy01.csv',\n",
       " 'out_size_stad444-xy02.csv',\n",
       " 'out_size_stad445-xy04.csv',\n",
       " 'out_size_stad445-xy06.csv',\n",
       " 'out_size_stad445-xy09.csv',\n",
       " 'out_size_stad446-xy04.csv',\n",
       " 'out_size_stad446-xy07.csv',\n",
       " 'out_size_stad446-xy09.csv',\n",
       " 'out_size_stad446-xy10.csv',\n",
       " 'out_size_stad447-xy03.csv',\n",
       " 'out_size_stad447-xy07.csv',\n",
       " 'out_size_stad447-xy09.csv',\n",
       " 'out_stad436-xy01.csv',\n",
       " 'out_stad440-xy10.csv',\n",
       " 'out_stad441-xy01.csv',\n",
       " 'out_stad444-xy02.csv',\n",
       " 'out_stad445-xy04.csv',\n",
       " 'out_stad445-xy06.csv',\n",
       " 'out_stad445-xy09.csv',\n",
       " 'out_stad446-xy04.csv',\n",
       " 'out_stad446-xy07.csv',\n",
       " 'out_stad446-xy09.csv',\n",
       " 'out_stad446-xy10.csv',\n",
       " 'out_stad447-xy03.csv',\n",
       " 'out_stad447-xy07.csv',\n",
       " 'out_stad447-xy09.csv']"
      ]
     },
     "execution_count": 3,
     "metadata": {},
     "output_type": "execute_result"
    }
   ],
   "source": [
    "os.listdir()"
   ]
  },
  {
   "cell_type": "code",
   "execution_count": 52,
   "metadata": {},
   "outputs": [],
   "source": [
    "'''list of csv files to be read in'''\n",
    "csv_lst = ['instad438-xy07.csv',\n",
    " 'in_stad436-xy01.csv',\n",
    " 'in_stad440-xy10.csv',\n",
    " 'in_stad441-xy01.csv',\n",
    " 'in_stad444-xy02.csv',\n",
    " 'in_stad445-xy04.csv',\n",
    " 'in_stad445-xy06.csv',\n",
    " 'in_stad445-xy09.csv',\n",
    " 'in_stad446-xy04.csv',\n",
    " 'in_stad446-xy07.csv',\n",
    " 'in_stad446-xy09.csv',\n",
    " 'in_stad446-xy10.csv',\n",
    " 'in_stad447-xy03.csv',\n",
    " 'in_stad447-xy07.csv',\n",
    " 'in_stad447-xy09.csv',\n",
    " 'outstad438-xy07.csv',\n",
    "           'out_stad436-xy01.csv',\n",
    " 'out_stad440-xy10.csv',\n",
    " 'out_stad441-xy01.csv',\n",
    " 'out_stad444-xy02.csv',\n",
    " 'out_stad445-xy04.csv',\n",
    " 'out_stad445-xy06.csv',\n",
    " 'out_stad445-xy09.csv',\n",
    " 'out_stad446-xy04.csv',\n",
    " 'out_stad446-xy07.csv',\n",
    " 'out_stad446-xy09.csv',\n",
    " 'out_stad446-xy10.csv',\n",
    " 'out_stad447-xy03.csv',\n",
    " 'out_stad447-xy07.csv',\n",
    " 'out_stad447-xy09.csv']"
   ]
  },
  {
   "cell_type": "code",
   "execution_count": 53,
   "metadata": {},
   "outputs": [],
   "source": [
    "'''read in all of the .csv files and concatenate into one big df'''\n",
    "\n",
    "df_lst = []\n",
    "\n",
    "for i in csv_lst:\n",
    "    df_lst.append(pd.read_csv(i))\n",
    "df_whole = pd.concat(df_lst)"
   ]
  },
  {
   "cell_type": "code",
   "execution_count": 106,
   "metadata": {},
   "outputs": [
    {
     "data": {
      "text/plain": [
       "Index(['AreaShape_Area_x', 'AreaShape_Center_X', 'AreaShape_Center_Y',\n",
       "       'AreaShape_Center_Z', 'AreaShape_Compactness_x',\n",
       "       'AreaShape_Eccentricity_x', 'AreaShape_EulerNumber_x',\n",
       "       'AreaShape_Extent_x', 'AreaShape_FormFactor_x',\n",
       "       'AreaShape_MajorAxisLength_x', 'AreaShape_MaxFeretDiameter_x',\n",
       "       'AreaShape_MaximumRadius_x', 'AreaShape_MeanRadius_x',\n",
       "       'AreaShape_MedianRadius_x', 'AreaShape_MinFeretDiameter_x',\n",
       "       'AreaShape_MinorAxisLength_x', 'AreaShape_Orientation_x',\n",
       "       'AreaShape_Perimeter_x', 'AreaShape_Solidity_x',\n",
       "       'Intensity_IntegratedIntensityEdge_dapi',\n",
       "       'Intensity_IntegratedIntensity_dapi',\n",
       "       'Intensity_LowerQuartileIntensity_dapi', 'Intensity_MADIntensity_dapi',\n",
       "       'Intensity_MassDisplacement_dapi', 'Intensity_MaxIntensityEdge_dapi',\n",
       "       'Intensity_MaxIntensity_dapi', 'Intensity_MeanIntensityEdge_dapi',\n",
       "       'Intensity_MeanIntensity_dapi', 'Intensity_MedianIntensity_dapi',\n",
       "       'Intensity_MinIntensityEdge_dapi', 'Intensity_MinIntensity_dapi',\n",
       "       'Intensity_StdIntensityEdge_dapi', 'Intensity_StdIntensity_dapi',\n",
       "       'Intensity_UpperQuartileIntensity_dapi',\n",
       "       'Location_CenterMassIntensity_X_dapi',\n",
       "       'Location_CenterMassIntensity_Y_dapi',\n",
       "       'Location_CenterMassIntensity_Z_dapi', 'Location_Center_X',\n",
       "       'Location_Center_Y', 'Location_Center_Z',\n",
       "       'Location_MaxIntensity_X_dapi', 'Location_MaxIntensity_Y_dapi',\n",
       "       'Location_MaxIntensity_Z_dapi', 'in_object'],\n",
       "      dtype='object')"
      ]
     },
     "execution_count": 106,
     "metadata": {},
     "output_type": "execute_result"
    }
   ],
   "source": [
    "df_whole.columns"
   ]
  },
  {
   "cell_type": "code",
   "execution_count": 107,
   "metadata": {},
   "outputs": [],
   "source": [
    "'''Just to make sure that I didnt miss some small object in the manual curation I will turn everything less than 10000 to the out category '''\n",
    "df_in = df_whole.loc[df_whole.in_object == 1]\n",
    "df_out_ = df_whole.loc[df_whole.in_object == 0]\n",
    "\n",
    "'''pull out smalle values in the df_in df'''\n",
    "#df_in_change = df_in.loc[df_in.AreaShape_Area < 20000] #these are the wrong attributed entries in df_in\n",
    "#df_in = df_in.loc[df_in.AreaShape_Area >= 20000] #these are the right entries for df_in\n",
    "df_in_change = df_in.loc[df_in.AreaShape_Area_x < 20000] #these are the wrong attributed entries in df_in\n",
    "df_in = df_in.loc[df_in.AreaShape_Area_x >= 20000] #these are the right entries for df_in\n",
    "df_in_change.in_object = np.zeros(len(df_in_change)) #switch in_object for all of the wrong entries\n",
    "df_out = pd.concat([df_out_, df_in_change]) #move the wrong entries from df_in to df_out\n",
    "\n",
    "df_whole = pd.concat([df_in, df_out]) #make one big dataframe again\n"
   ]
  },
  {
   "cell_type": "code",
   "execution_count": 108,
   "metadata": {},
   "outputs": [
    {
     "data": {
      "text/plain": [
       "0.0"
      ]
     },
     "execution_count": 108,
     "metadata": {},
     "output_type": "execute_result"
    }
   ],
   "source": [
    "'''double check that the above rearrangement worked as planned'''\n",
    "df_ = df_whole.loc[df_whole.AreaShape_Area_x < 20000]\n",
    "np.sum(df_.in_object)"
   ]
  },
  {
   "cell_type": "markdown",
   "metadata": {},
   "source": [
    "### this is almost entirely taken from https://heartbeat.fritz.ai/naive-bayes-classifier-in-python-using-scikit-learn-13c4deb83bcf"
   ]
  },
  {
   "cell_type": "markdown",
   "metadata": {},
   "source": [
    "### Start off with some preprocessing steps"
   ]
  },
  {
   "cell_type": "code",
   "execution_count": 110,
   "metadata": {},
   "outputs": [],
   "source": [
    "'''split the data into train and target sets. In this caes x will be the train data and y will be the target parameter'''\n",
    "df = df_whole.copy() # make a copy of original df. I am going to alter this a little bit in order to pull out train and test cats\n",
    "\n",
    "target_cat_name = 'in_object'\n",
    "\n",
    "'''remove unwanted categories'''\n",
    "#unwanted_cat = ['Unnamed: 0', 'ImageNumber', 'ObjectNumber']\n",
    "#df.drop(unwanted_cat, axis = 1, inplace = True)\n",
    "\n",
    "'''define train and target data'''\n",
    "x = df.drop('in_object', axis = 1)\n",
    "y = df[target_cat_name]"
   ]
  },
  {
   "cell_type": "code",
   "execution_count": 111,
   "metadata": {},
   "outputs": [
    {
     "data": {
      "text/html": [
       "<div>\n",
       "<style scoped>\n",
       "    .dataframe tbody tr th:only-of-type {\n",
       "        vertical-align: middle;\n",
       "    }\n",
       "\n",
       "    .dataframe tbody tr th {\n",
       "        vertical-align: top;\n",
       "    }\n",
       "\n",
       "    .dataframe thead th {\n",
       "        text-align: right;\n",
       "    }\n",
       "</style>\n",
       "<table border=\"1\" class=\"dataframe\">\n",
       "  <thead>\n",
       "    <tr style=\"text-align: right;\">\n",
       "      <th></th>\n",
       "      <th>AreaShape_Area_x</th>\n",
       "      <th>AreaShape_Center_X</th>\n",
       "      <th>AreaShape_Center_Y</th>\n",
       "      <th>AreaShape_Center_Z</th>\n",
       "      <th>AreaShape_Compactness_x</th>\n",
       "      <th>AreaShape_Eccentricity_x</th>\n",
       "      <th>AreaShape_EulerNumber_x</th>\n",
       "      <th>AreaShape_Extent_x</th>\n",
       "      <th>AreaShape_FormFactor_x</th>\n",
       "      <th>AreaShape_MajorAxisLength_x</th>\n",
       "      <th>...</th>\n",
       "      <th>Location_CenterMassIntensity_X_dapi</th>\n",
       "      <th>Location_CenterMassIntensity_Y_dapi</th>\n",
       "      <th>Location_CenterMassIntensity_Z_dapi</th>\n",
       "      <th>Location_Center_X</th>\n",
       "      <th>Location_Center_Y</th>\n",
       "      <th>Location_Center_Z</th>\n",
       "      <th>Location_MaxIntensity_X_dapi</th>\n",
       "      <th>Location_MaxIntensity_Y_dapi</th>\n",
       "      <th>Location_MaxIntensity_Z_dapi</th>\n",
       "      <th>in_object</th>\n",
       "    </tr>\n",
       "  </thead>\n",
       "  <tbody>\n",
       "    <tr>\n",
       "      <th>2</th>\n",
       "      <td>54217</td>\n",
       "      <td>1186.0</td>\n",
       "      <td>186.0</td>\n",
       "      <td>1.0</td>\n",
       "      <td>1.018289</td>\n",
       "      <td>0.560011</td>\n",
       "      <td>1.0</td>\n",
       "      <td>0.755912</td>\n",
       "      <td>0.883736</td>\n",
       "      <td>288.113029</td>\n",
       "      <td>...</td>\n",
       "      <td>1184.478240</td>\n",
       "      <td>188.679428</td>\n",
       "      <td>0.0</td>\n",
       "      <td>1185.255252</td>\n",
       "      <td>186.132394</td>\n",
       "      <td>0</td>\n",
       "      <td>1121.0</td>\n",
       "      <td>226.0</td>\n",
       "      <td>0.0</td>\n",
       "      <td>1.0</td>\n",
       "    </tr>\n",
       "    <tr>\n",
       "      <th>3</th>\n",
       "      <td>46013</td>\n",
       "      <td>455.0</td>\n",
       "      <td>474.0</td>\n",
       "      <td>1.0</td>\n",
       "      <td>1.013055</td>\n",
       "      <td>0.511901</td>\n",
       "      <td>1.0</td>\n",
       "      <td>0.776630</td>\n",
       "      <td>0.879143</td>\n",
       "      <td>260.789140</td>\n",
       "      <td>...</td>\n",
       "      <td>457.863619</td>\n",
       "      <td>470.246954</td>\n",
       "      <td>0.0</td>\n",
       "      <td>457.088214</td>\n",
       "      <td>468.432573</td>\n",
       "      <td>0</td>\n",
       "      <td>511.0</td>\n",
       "      <td>513.0</td>\n",
       "      <td>0.0</td>\n",
       "      <td>1.0</td>\n",
       "    </tr>\n",
       "    <tr>\n",
       "      <th>4</th>\n",
       "      <td>38938</td>\n",
       "      <td>1336.0</td>\n",
       "      <td>473.0</td>\n",
       "      <td>1.0</td>\n",
       "      <td>1.025519</td>\n",
       "      <td>0.598589</td>\n",
       "      <td>1.0</td>\n",
       "      <td>0.749168</td>\n",
       "      <td>0.878855</td>\n",
       "      <td>248.358038</td>\n",
       "      <td>...</td>\n",
       "      <td>1346.701876</td>\n",
       "      <td>470.424959</td>\n",
       "      <td>0.0</td>\n",
       "      <td>1344.709461</td>\n",
       "      <td>465.271765</td>\n",
       "      <td>0</td>\n",
       "      <td>1286.0</td>\n",
       "      <td>531.0</td>\n",
       "      <td>0.0</td>\n",
       "      <td>1.0</td>\n",
       "    </tr>\n",
       "    <tr>\n",
       "      <th>5</th>\n",
       "      <td>37143</td>\n",
       "      <td>1638.0</td>\n",
       "      <td>603.0</td>\n",
       "      <td>1.0</td>\n",
       "      <td>1.001414</td>\n",
       "      <td>0.195747</td>\n",
       "      <td>1.0</td>\n",
       "      <td>0.789051</td>\n",
       "      <td>0.893726</td>\n",
       "      <td>219.282429</td>\n",
       "      <td>...</td>\n",
       "      <td>1638.702575</td>\n",
       "      <td>602.238092</td>\n",
       "      <td>0.0</td>\n",
       "      <td>1639.836362</td>\n",
       "      <td>603.160676</td>\n",
       "      <td>0</td>\n",
       "      <td>1589.0</td>\n",
       "      <td>640.0</td>\n",
       "      <td>0.0</td>\n",
       "      <td>1.0</td>\n",
       "    </tr>\n",
       "    <tr>\n",
       "      <th>6</th>\n",
       "      <td>41741</td>\n",
       "      <td>1129.0</td>\n",
       "      <td>702.0</td>\n",
       "      <td>1.0</td>\n",
       "      <td>1.015753</td>\n",
       "      <td>0.543809</td>\n",
       "      <td>1.0</td>\n",
       "      <td>0.774416</td>\n",
       "      <td>0.881953</td>\n",
       "      <td>251.169172</td>\n",
       "      <td>...</td>\n",
       "      <td>1134.320520</td>\n",
       "      <td>703.623501</td>\n",
       "      <td>0.0</td>\n",
       "      <td>1134.146163</td>\n",
       "      <td>703.708320</td>\n",
       "      <td>0</td>\n",
       "      <td>1204.0</td>\n",
       "      <td>739.0</td>\n",
       "      <td>0.0</td>\n",
       "      <td>1.0</td>\n",
       "    </tr>\n",
       "  </tbody>\n",
       "</table>\n",
       "<p>5 rows × 44 columns</p>\n",
       "</div>"
      ],
      "text/plain": [
       "   AreaShape_Area_x  AreaShape_Center_X  AreaShape_Center_Y  \\\n",
       "2             54217              1186.0               186.0   \n",
       "3             46013               455.0               474.0   \n",
       "4             38938              1336.0               473.0   \n",
       "5             37143              1638.0               603.0   \n",
       "6             41741              1129.0               702.0   \n",
       "\n",
       "   AreaShape_Center_Z  AreaShape_Compactness_x  AreaShape_Eccentricity_x  \\\n",
       "2                 1.0                 1.018289                  0.560011   \n",
       "3                 1.0                 1.013055                  0.511901   \n",
       "4                 1.0                 1.025519                  0.598589   \n",
       "5                 1.0                 1.001414                  0.195747   \n",
       "6                 1.0                 1.015753                  0.543809   \n",
       "\n",
       "   AreaShape_EulerNumber_x  AreaShape_Extent_x  AreaShape_FormFactor_x  \\\n",
       "2                      1.0            0.755912                0.883736   \n",
       "3                      1.0            0.776630                0.879143   \n",
       "4                      1.0            0.749168                0.878855   \n",
       "5                      1.0            0.789051                0.893726   \n",
       "6                      1.0            0.774416                0.881953   \n",
       "\n",
       "   AreaShape_MajorAxisLength_x  ...  Location_CenterMassIntensity_X_dapi  \\\n",
       "2                   288.113029  ...                          1184.478240   \n",
       "3                   260.789140  ...                           457.863619   \n",
       "4                   248.358038  ...                          1346.701876   \n",
       "5                   219.282429  ...                          1638.702575   \n",
       "6                   251.169172  ...                          1134.320520   \n",
       "\n",
       "   Location_CenterMassIntensity_Y_dapi  Location_CenterMassIntensity_Z_dapi  \\\n",
       "2                           188.679428                                  0.0   \n",
       "3                           470.246954                                  0.0   \n",
       "4                           470.424959                                  0.0   \n",
       "5                           602.238092                                  0.0   \n",
       "6                           703.623501                                  0.0   \n",
       "\n",
       "   Location_Center_X  Location_Center_Y  Location_Center_Z  \\\n",
       "2        1185.255252         186.132394                  0   \n",
       "3         457.088214         468.432573                  0   \n",
       "4        1344.709461         465.271765                  0   \n",
       "5        1639.836362         603.160676                  0   \n",
       "6        1134.146163         703.708320                  0   \n",
       "\n",
       "   Location_MaxIntensity_X_dapi  Location_MaxIntensity_Y_dapi  \\\n",
       "2                        1121.0                         226.0   \n",
       "3                         511.0                         513.0   \n",
       "4                        1286.0                         531.0   \n",
       "5                        1589.0                         640.0   \n",
       "6                        1204.0                         739.0   \n",
       "\n",
       "   Location_MaxIntensity_Z_dapi  in_object  \n",
       "2                           0.0        1.0  \n",
       "3                           0.0        1.0  \n",
       "4                           0.0        1.0  \n",
       "5                           0.0        1.0  \n",
       "6                           0.0        1.0  \n",
       "\n",
       "[5 rows x 44 columns]"
      ]
     },
     "execution_count": 111,
     "metadata": {},
     "output_type": "execute_result"
    }
   ],
   "source": [
    "df.head()"
   ]
  },
  {
   "cell_type": "code",
   "execution_count": null,
   "metadata": {},
   "outputs": [],
   "source": []
  },
  {
   "cell_type": "code",
   "execution_count": 112,
   "metadata": {},
   "outputs": [
    {
     "data": {
      "text/plain": [
       "AreaShape_Area_x                          0\n",
       "AreaShape_Center_X                        0\n",
       "AreaShape_Center_Y                        0\n",
       "AreaShape_Center_Z                        0\n",
       "AreaShape_Compactness_x                   0\n",
       "AreaShape_Eccentricity_x                  0\n",
       "AreaShape_EulerNumber_x                   0\n",
       "AreaShape_Extent_x                        0\n",
       "AreaShape_FormFactor_x                    0\n",
       "AreaShape_MajorAxisLength_x               0\n",
       "AreaShape_MaxFeretDiameter_x              0\n",
       "AreaShape_MaximumRadius_x                 0\n",
       "AreaShape_MeanRadius_x                    0\n",
       "AreaShape_MedianRadius_x                  0\n",
       "AreaShape_MinFeretDiameter_x              0\n",
       "AreaShape_MinorAxisLength_x               0\n",
       "AreaShape_Orientation_x                   0\n",
       "AreaShape_Perimeter_x                     0\n",
       "AreaShape_Solidity_x                      0\n",
       "Intensity_IntegratedIntensityEdge_dapi    0\n",
       "Intensity_IntegratedIntensity_dapi        0\n",
       "Intensity_LowerQuartileIntensity_dapi     0\n",
       "Intensity_MADIntensity_dapi               0\n",
       "Intensity_MassDisplacement_dapi           0\n",
       "Intensity_MaxIntensityEdge_dapi           0\n",
       "Intensity_MaxIntensity_dapi               0\n",
       "Intensity_MeanIntensityEdge_dapi          0\n",
       "Intensity_MeanIntensity_dapi              0\n",
       "Intensity_MedianIntensity_dapi            0\n",
       "Intensity_MinIntensityEdge_dapi           0\n",
       "Intensity_MinIntensity_dapi               0\n",
       "Intensity_StdIntensityEdge_dapi           0\n",
       "Intensity_StdIntensity_dapi               0\n",
       "Intensity_UpperQuartileIntensity_dapi     0\n",
       "Location_CenterMassIntensity_X_dapi       0\n",
       "Location_CenterMassIntensity_Y_dapi       0\n",
       "Location_CenterMassIntensity_Z_dapi       0\n",
       "Location_Center_X                         0\n",
       "Location_Center_Y                         0\n",
       "Location_Center_Z                         0\n",
       "Location_MaxIntensity_X_dapi              0\n",
       "Location_MaxIntensity_Y_dapi              0\n",
       "Location_MaxIntensity_Z_dapi              0\n",
       "in_object                                 0\n",
       "dtype: int64"
      ]
     },
     "execution_count": 112,
     "metadata": {},
     "output_type": "execute_result"
    }
   ],
   "source": [
    "'''check for missing values'''\n",
    "df.isnull().sum()"
   ]
  },
  {
   "cell_type": "code",
   "execution_count": null,
   "metadata": {},
   "outputs": [],
   "source": [
    "'''If I had run into some null values then I could use the following'''\n",
    "from sklearn.preprocessing import Imputer\n",
    "imputer = Imputer(missing_values = \"NaN\", strategy = \"mean\", axis = 0)\n",
    "imputer = imputer.fit(x[:,:])\n",
    "x[:, 1:3] = imputer.transform(x[:, 1:3])"
   ]
  },
  {
   "cell_type": "code",
   "execution_count": 113,
   "metadata": {},
   "outputs": [
    {
     "data": {
      "text/plain": [
       "AreaShape_Area_x                            int64\n",
       "AreaShape_Center_X                        float64\n",
       "AreaShape_Center_Y                        float64\n",
       "AreaShape_Center_Z                        float64\n",
       "AreaShape_Compactness_x                   float64\n",
       "AreaShape_Eccentricity_x                  float64\n",
       "AreaShape_EulerNumber_x                   float64\n",
       "AreaShape_Extent_x                        float64\n",
       "AreaShape_FormFactor_x                    float64\n",
       "AreaShape_MajorAxisLength_x               float64\n",
       "AreaShape_MaxFeretDiameter_x              float64\n",
       "AreaShape_MaximumRadius_x                 float64\n",
       "AreaShape_MeanRadius_x                    float64\n",
       "AreaShape_MedianRadius_x                  float64\n",
       "AreaShape_MinFeretDiameter_x              float64\n",
       "AreaShape_MinorAxisLength_x               float64\n",
       "AreaShape_Orientation_x                   float64\n",
       "AreaShape_Perimeter_x                     float64\n",
       "AreaShape_Solidity_x                      float64\n",
       "Intensity_IntegratedIntensityEdge_dapi    float64\n",
       "Intensity_IntegratedIntensity_dapi        float64\n",
       "Intensity_LowerQuartileIntensity_dapi     float64\n",
       "Intensity_MADIntensity_dapi               float64\n",
       "Intensity_MassDisplacement_dapi           float64\n",
       "Intensity_MaxIntensityEdge_dapi           float64\n",
       "Intensity_MaxIntensity_dapi               float64\n",
       "Intensity_MeanIntensityEdge_dapi          float64\n",
       "Intensity_MeanIntensity_dapi              float64\n",
       "Intensity_MedianIntensity_dapi            float64\n",
       "Intensity_MinIntensityEdge_dapi           float64\n",
       "Intensity_MinIntensity_dapi               float64\n",
       "Intensity_StdIntensityEdge_dapi           float64\n",
       "Intensity_StdIntensity_dapi               float64\n",
       "Intensity_UpperQuartileIntensity_dapi     float64\n",
       "Location_CenterMassIntensity_X_dapi       float64\n",
       "Location_CenterMassIntensity_Y_dapi       float64\n",
       "Location_CenterMassIntensity_Z_dapi       float64\n",
       "Location_Center_X                         float64\n",
       "Location_Center_Y                         float64\n",
       "Location_Center_Z                           int64\n",
       "Location_MaxIntensity_X_dapi              float64\n",
       "Location_MaxIntensity_Y_dapi              float64\n",
       "Location_MaxIntensity_Z_dapi              float64\n",
       "in_object                                 float64\n",
       "dtype: object"
      ]
     },
     "execution_count": 113,
     "metadata": {},
     "output_type": "execute_result"
    }
   ],
   "source": [
    "'''check uniform data types'''\n",
    "df.dtypes"
   ]
  },
  {
   "cell_type": "code",
   "execution_count": null,
   "metadata": {},
   "outputs": [],
   "source": []
  },
  {
   "cell_type": "code",
   "execution_count": 150,
   "metadata": {},
   "outputs": [],
   "source": [
    "'''split data into train and test sets'''\n",
    "x_train, x_test, y_train, y_test = train_test_split(x, y, test_size = .25, random_state = 1)"
   ]
  },
  {
   "cell_type": "code",
   "execution_count": 151,
   "metadata": {},
   "outputs": [],
   "source": [
    "'''this is a feature scaling step. This will standardize all of the data in order to pull everything into the same range'''\n",
    "\n",
    "sc_X = StandardScaler()\n",
    "x_train = sc_X.fit_transform(x_train)\n",
    "x_test = sc_X.transform(x_test)"
   ]
  },
  {
   "cell_type": "code",
   "execution_count": 152,
   "metadata": {},
   "outputs": [
    {
     "data": {
      "text/plain": [
       "GaussianNB(priors=None, var_smoothing=1e-09)"
      ]
     },
     "execution_count": 152,
     "metadata": {},
     "output_type": "execute_result"
    }
   ],
   "source": [
    "'''set up gaussian naive bayes model and fit it to the data'''\n",
    "model = GaussianNB()\n",
    "model.fit(x_train, y_train)"
   ]
  },
  {
   "cell_type": "code",
   "execution_count": 153,
   "metadata": {},
   "outputs": [],
   "source": [
    "'''make predictions based on the trained data'''\n",
    "y_pred = model.predict(x_test)\n"
   ]
  },
  {
   "cell_type": "code",
   "execution_count": 154,
   "metadata": {},
   "outputs": [],
   "source": [
    "accuracy = accuracy_score(y_test, y_pred)\n",
    "precision = precision_score(y_test, y_pred)\n"
   ]
  },
  {
   "cell_type": "code",
   "execution_count": 155,
   "metadata": {},
   "outputs": [
    {
     "data": {
      "text/plain": [
       "0.925531914893617"
      ]
     },
     "execution_count": 155,
     "metadata": {},
     "output_type": "execute_result"
    }
   ],
   "source": [
    "accuracy"
   ]
  },
  {
   "cell_type": "code",
   "execution_count": 156,
   "metadata": {},
   "outputs": [
    {
     "data": {
      "text/plain": [
       "0.8983050847457628"
      ]
     },
     "execution_count": 156,
     "metadata": {},
     "output_type": "execute_result"
    }
   ],
   "source": [
    "precision"
   ]
  },
  {
   "cell_type": "code",
   "execution_count": 157,
   "metadata": {},
   "outputs": [
    {
     "data": {
      "text/plain": [
       "array([[34,  6],\n",
       "       [ 1, 53]], dtype=int64)"
      ]
     },
     "execution_count": 157,
     "metadata": {},
     "output_type": "execute_result"
    }
   ],
   "source": [
    "confusion_matrix(y_test, y_pred)"
   ]
  },
  {
   "cell_type": "markdown",
   "metadata": {},
   "source": [
    "### A little for shits and giggles I would as well to see if I can get better fit through using more categories"
   ]
  },
  {
   "cell_type": "code",
   "execution_count": 75,
   "metadata": {},
   "outputs": [],
   "source": [
    "os.chdir(r'C:\\Users\\timdaugird\\Google Drive\\legant_lab\\_projects\\200217_adipogen_zstacks\\cell_profiler_output\\dcts_output')"
   ]
  },
  {
   "cell_type": "code",
   "execution_count": 76,
   "metadata": {},
   "outputs": [],
   "source": [
    "df_orig = pd.read_csv('MyExpt_nuclei.csv')"
   ]
  },
  {
   "cell_type": "code",
   "execution_count": 77,
   "metadata": {},
   "outputs": [
    {
     "data": {
      "text/html": [
       "<div>\n",
       "<style scoped>\n",
       "    .dataframe tbody tr th:only-of-type {\n",
       "        vertical-align: middle;\n",
       "    }\n",
       "\n",
       "    .dataframe tbody tr th {\n",
       "        vertical-align: top;\n",
       "    }\n",
       "\n",
       "    .dataframe thead th {\n",
       "        text-align: right;\n",
       "    }\n",
       "</style>\n",
       "<table border=\"1\" class=\"dataframe\">\n",
       "  <thead>\n",
       "    <tr style=\"text-align: right;\">\n",
       "      <th></th>\n",
       "      <th>ImageNumber</th>\n",
       "      <th>ObjectNumber</th>\n",
       "      <th>AreaShape_Area</th>\n",
       "      <th>AreaShape_Center_X</th>\n",
       "      <th>AreaShape_Center_Y</th>\n",
       "      <th>AreaShape_Center_Z</th>\n",
       "      <th>AreaShape_Compactness</th>\n",
       "      <th>AreaShape_Eccentricity</th>\n",
       "      <th>AreaShape_EulerNumber</th>\n",
       "      <th>AreaShape_Extent</th>\n",
       "      <th>...</th>\n",
       "      <th>Location_MaxIntensity_X_dapi</th>\n",
       "      <th>Location_MaxIntensity_Y_c2</th>\n",
       "      <th>Location_MaxIntensity_Y_c3</th>\n",
       "      <th>Location_MaxIntensity_Y_cebp</th>\n",
       "      <th>Location_MaxIntensity_Y_dapi</th>\n",
       "      <th>Location_MaxIntensity_Z_c2</th>\n",
       "      <th>Location_MaxIntensity_Z_c3</th>\n",
       "      <th>Location_MaxIntensity_Z_cebp</th>\n",
       "      <th>Location_MaxIntensity_Z_dapi</th>\n",
       "      <th>Number_Object_Number</th>\n",
       "    </tr>\n",
       "  </thead>\n",
       "  <tbody>\n",
       "    <tr>\n",
       "      <th>0</th>\n",
       "      <td>1</td>\n",
       "      <td>1</td>\n",
       "      <td>8331</td>\n",
       "      <td>282.0</td>\n",
       "      <td>0.0</td>\n",
       "      <td>1.0</td>\n",
       "      <td>2.352487</td>\n",
       "      <td>0.968781</td>\n",
       "      <td>1.0</td>\n",
       "      <td>0.658577</td>\n",
       "      <td>...</td>\n",
       "      <td>351.0</td>\n",
       "      <td>3.0</td>\n",
       "      <td>21.0</td>\n",
       "      <td>5.0</td>\n",
       "      <td>4.0</td>\n",
       "      <td>0.0</td>\n",
       "      <td>0.0</td>\n",
       "      <td>0.0</td>\n",
       "      <td>0.0</td>\n",
       "      <td>1</td>\n",
       "    </tr>\n",
       "    <tr>\n",
       "      <th>1</th>\n",
       "      <td>1</td>\n",
       "      <td>2</td>\n",
       "      <td>49529</td>\n",
       "      <td>2043.0</td>\n",
       "      <td>89.0</td>\n",
       "      <td>1.0</td>\n",
       "      <td>1.809739</td>\n",
       "      <td>0.919641</td>\n",
       "      <td>1.0</td>\n",
       "      <td>0.578779</td>\n",
       "      <td>...</td>\n",
       "      <td>2043.0</td>\n",
       "      <td>45.0</td>\n",
       "      <td>52.0</td>\n",
       "      <td>186.0</td>\n",
       "      <td>376.0</td>\n",
       "      <td>0.0</td>\n",
       "      <td>0.0</td>\n",
       "      <td>0.0</td>\n",
       "      <td>0.0</td>\n",
       "      <td>2</td>\n",
       "    </tr>\n",
       "    <tr>\n",
       "      <th>2</th>\n",
       "      <td>1</td>\n",
       "      <td>3</td>\n",
       "      <td>54217</td>\n",
       "      <td>1186.0</td>\n",
       "      <td>186.0</td>\n",
       "      <td>1.0</td>\n",
       "      <td>1.018289</td>\n",
       "      <td>0.560011</td>\n",
       "      <td>1.0</td>\n",
       "      <td>0.755912</td>\n",
       "      <td>...</td>\n",
       "      <td>1121.0</td>\n",
       "      <td>226.0</td>\n",
       "      <td>291.0</td>\n",
       "      <td>213.0</td>\n",
       "      <td>226.0</td>\n",
       "      <td>0.0</td>\n",
       "      <td>0.0</td>\n",
       "      <td>0.0</td>\n",
       "      <td>0.0</td>\n",
       "      <td>3</td>\n",
       "    </tr>\n",
       "    <tr>\n",
       "      <th>3</th>\n",
       "      <td>1</td>\n",
       "      <td>4</td>\n",
       "      <td>46013</td>\n",
       "      <td>455.0</td>\n",
       "      <td>474.0</td>\n",
       "      <td>1.0</td>\n",
       "      <td>1.013055</td>\n",
       "      <td>0.511901</td>\n",
       "      <td>1.0</td>\n",
       "      <td>0.776630</td>\n",
       "      <td>...</td>\n",
       "      <td>511.0</td>\n",
       "      <td>364.0</td>\n",
       "      <td>456.0</td>\n",
       "      <td>426.0</td>\n",
       "      <td>513.0</td>\n",
       "      <td>0.0</td>\n",
       "      <td>0.0</td>\n",
       "      <td>0.0</td>\n",
       "      <td>0.0</td>\n",
       "      <td>4</td>\n",
       "    </tr>\n",
       "    <tr>\n",
       "      <th>4</th>\n",
       "      <td>1</td>\n",
       "      <td>5</td>\n",
       "      <td>38938</td>\n",
       "      <td>1336.0</td>\n",
       "      <td>473.0</td>\n",
       "      <td>1.0</td>\n",
       "      <td>1.025519</td>\n",
       "      <td>0.598589</td>\n",
       "      <td>1.0</td>\n",
       "      <td>0.749168</td>\n",
       "      <td>...</td>\n",
       "      <td>1286.0</td>\n",
       "      <td>489.0</td>\n",
       "      <td>437.0</td>\n",
       "      <td>471.0</td>\n",
       "      <td>531.0</td>\n",
       "      <td>0.0</td>\n",
       "      <td>0.0</td>\n",
       "      <td>0.0</td>\n",
       "      <td>0.0</td>\n",
       "      <td>5</td>\n",
       "    </tr>\n",
       "  </tbody>\n",
       "</table>\n",
       "<p>5 rows × 109 columns</p>\n",
       "</div>"
      ],
      "text/plain": [
       "   ImageNumber  ObjectNumber  AreaShape_Area  AreaShape_Center_X  \\\n",
       "0            1             1            8331               282.0   \n",
       "1            1             2           49529              2043.0   \n",
       "2            1             3           54217              1186.0   \n",
       "3            1             4           46013               455.0   \n",
       "4            1             5           38938              1336.0   \n",
       "\n",
       "   AreaShape_Center_Y  AreaShape_Center_Z  AreaShape_Compactness  \\\n",
       "0                 0.0                 1.0               2.352487   \n",
       "1                89.0                 1.0               1.809739   \n",
       "2               186.0                 1.0               1.018289   \n",
       "3               474.0                 1.0               1.013055   \n",
       "4               473.0                 1.0               1.025519   \n",
       "\n",
       "   AreaShape_Eccentricity  AreaShape_EulerNumber  AreaShape_Extent  ...  \\\n",
       "0                0.968781                    1.0          0.658577  ...   \n",
       "1                0.919641                    1.0          0.578779  ...   \n",
       "2                0.560011                    1.0          0.755912  ...   \n",
       "3                0.511901                    1.0          0.776630  ...   \n",
       "4                0.598589                    1.0          0.749168  ...   \n",
       "\n",
       "   Location_MaxIntensity_X_dapi  Location_MaxIntensity_Y_c2  \\\n",
       "0                         351.0                         3.0   \n",
       "1                        2043.0                        45.0   \n",
       "2                        1121.0                       226.0   \n",
       "3                         511.0                       364.0   \n",
       "4                        1286.0                       489.0   \n",
       "\n",
       "   Location_MaxIntensity_Y_c3  Location_MaxIntensity_Y_cebp  \\\n",
       "0                        21.0                           5.0   \n",
       "1                        52.0                         186.0   \n",
       "2                       291.0                         213.0   \n",
       "3                       456.0                         426.0   \n",
       "4                       437.0                         471.0   \n",
       "\n",
       "   Location_MaxIntensity_Y_dapi  Location_MaxIntensity_Z_c2  \\\n",
       "0                           4.0                         0.0   \n",
       "1                         376.0                         0.0   \n",
       "2                         226.0                         0.0   \n",
       "3                         513.0                         0.0   \n",
       "4                         531.0                         0.0   \n",
       "\n",
       "   Location_MaxIntensity_Z_c3  Location_MaxIntensity_Z_cebp  \\\n",
       "0                         0.0                           0.0   \n",
       "1                         0.0                           0.0   \n",
       "2                         0.0                           0.0   \n",
       "3                         0.0                           0.0   \n",
       "4                         0.0                           0.0   \n",
       "\n",
       "   Location_MaxIntensity_Z_dapi  Number_Object_Number  \n",
       "0                           0.0                     1  \n",
       "1                           0.0                     2  \n",
       "2                           0.0                     3  \n",
       "3                           0.0                     4  \n",
       "4                           0.0                     5  \n",
       "\n",
       "[5 rows x 109 columns]"
      ]
     },
     "execution_count": 77,
     "metadata": {},
     "output_type": "execute_result"
    }
   ],
   "source": [
    "df_orig.head()"
   ]
  },
  {
   "cell_type": "code",
   "execution_count": 78,
   "metadata": {},
   "outputs": [
    {
     "data": {
      "text/html": [
       "<div>\n",
       "<style scoped>\n",
       "    .dataframe tbody tr th:only-of-type {\n",
       "        vertical-align: middle;\n",
       "    }\n",
       "\n",
       "    .dataframe tbody tr th {\n",
       "        vertical-align: top;\n",
       "    }\n",
       "\n",
       "    .dataframe thead th {\n",
       "        text-align: right;\n",
       "    }\n",
       "</style>\n",
       "<table border=\"1\" class=\"dataframe\">\n",
       "  <thead>\n",
       "    <tr style=\"text-align: right;\">\n",
       "      <th></th>\n",
       "      <th>Unnamed: 0</th>\n",
       "      <th>ImageNumber</th>\n",
       "      <th>ObjectNumber</th>\n",
       "      <th>AreaShape_Area</th>\n",
       "      <th>AreaShape_Compactness</th>\n",
       "      <th>AreaShape_Eccentricity</th>\n",
       "      <th>AreaShape_EulerNumber</th>\n",
       "      <th>AreaShape_Extent</th>\n",
       "      <th>AreaShape_FormFactor</th>\n",
       "      <th>AreaShape_MajorAxisLength</th>\n",
       "      <th>AreaShape_MaxFeretDiameter</th>\n",
       "      <th>AreaShape_MaximumRadius</th>\n",
       "      <th>AreaShape_MeanRadius</th>\n",
       "      <th>AreaShape_MedianRadius</th>\n",
       "      <th>AreaShape_MinFeretDiameter</th>\n",
       "      <th>AreaShape_MinorAxisLength</th>\n",
       "      <th>AreaShape_Orientation</th>\n",
       "      <th>AreaShape_Perimeter</th>\n",
       "      <th>AreaShape_Solidity</th>\n",
       "      <th>in_object</th>\n",
       "    </tr>\n",
       "  </thead>\n",
       "  <tbody>\n",
       "    <tr>\n",
       "      <th>0</th>\n",
       "      <td>594</td>\n",
       "      <td>27</td>\n",
       "      <td>3</td>\n",
       "      <td>74859</td>\n",
       "      <td>1.074712</td>\n",
       "      <td>0.729003</td>\n",
       "      <td>1.0</td>\n",
       "      <td>0.781515</td>\n",
       "      <td>0.827715</td>\n",
       "      <td>372.677181</td>\n",
       "      <td>371.052557</td>\n",
       "      <td>125.027997</td>\n",
       "      <td>47.883260</td>\n",
       "      <td>43.046487</td>\n",
       "      <td>252.479586</td>\n",
       "      <td>255.101597</td>\n",
       "      <td>-9.452530</td>\n",
       "      <td>1066.072</td>\n",
       "      <td>0.987286</td>\n",
       "      <td>1.0</td>\n",
       "    </tr>\n",
       "    <tr>\n",
       "      <th>1</th>\n",
       "      <td>595</td>\n",
       "      <td>27</td>\n",
       "      <td>4</td>\n",
       "      <td>32432</td>\n",
       "      <td>1.006775</td>\n",
       "      <td>0.442021</td>\n",
       "      <td>1.0</td>\n",
       "      <td>0.779391</td>\n",
       "      <td>0.891989</td>\n",
       "      <td>214.213060</td>\n",
       "      <td>215.336945</td>\n",
       "      <td>96.400207</td>\n",
       "      <td>33.711333</td>\n",
       "      <td>29.732137</td>\n",
       "      <td>192.952764</td>\n",
       "      <td>192.150156</td>\n",
       "      <td>39.930114</td>\n",
       "      <td>675.946</td>\n",
       "      <td>0.990184</td>\n",
       "      <td>1.0</td>\n",
       "    </tr>\n",
       "    <tr>\n",
       "      <th>2</th>\n",
       "      <td>596</td>\n",
       "      <td>27</td>\n",
       "      <td>5</td>\n",
       "      <td>34566</td>\n",
       "      <td>1.048914</td>\n",
       "      <td>0.678865</td>\n",
       "      <td>1.0</td>\n",
       "      <td>0.784806</td>\n",
       "      <td>0.872448</td>\n",
       "      <td>244.415322</td>\n",
       "      <td>244.092196</td>\n",
       "      <td>89.560036</td>\n",
       "      <td>33.612464</td>\n",
       "      <td>30.000000</td>\n",
       "      <td>179.194896</td>\n",
       "      <td>179.465131</td>\n",
       "      <td>-9.878368</td>\n",
       "      <td>705.602</td>\n",
       "      <td>0.991055</td>\n",
       "      <td>1.0</td>\n",
       "    </tr>\n",
       "    <tr>\n",
       "      <th>3</th>\n",
       "      <td>598</td>\n",
       "      <td>27</td>\n",
       "      <td>7</td>\n",
       "      <td>35730</td>\n",
       "      <td>1.005500</td>\n",
       "      <td>0.369907</td>\n",
       "      <td>1.0</td>\n",
       "      <td>0.772958</td>\n",
       "      <td>0.884276</td>\n",
       "      <td>221.135092</td>\n",
       "      <td>221.822001</td>\n",
       "      <td>100.498756</td>\n",
       "      <td>35.159082</td>\n",
       "      <td>31.048349</td>\n",
       "      <td>206.284046</td>\n",
       "      <td>205.449754</td>\n",
       "      <td>42.786364</td>\n",
       "      <td>712.570</td>\n",
       "      <td>0.989463</td>\n",
       "      <td>1.0</td>\n",
       "    </tr>\n",
       "    <tr>\n",
       "      <th>4</th>\n",
       "      <td>599</td>\n",
       "      <td>27</td>\n",
       "      <td>8</td>\n",
       "      <td>30534</td>\n",
       "      <td>1.016526</td>\n",
       "      <td>0.536300</td>\n",
       "      <td>1.0</td>\n",
       "      <td>0.778929</td>\n",
       "      <td>0.886743</td>\n",
       "      <td>214.408004</td>\n",
       "      <td>216.300717</td>\n",
       "      <td>90.271812</td>\n",
       "      <td>32.328783</td>\n",
       "      <td>28.635642</td>\n",
       "      <td>182.433550</td>\n",
       "      <td>180.966248</td>\n",
       "      <td>-47.438565</td>\n",
       "      <td>657.806</td>\n",
       "      <td>0.989837</td>\n",
       "      <td>1.0</td>\n",
       "    </tr>\n",
       "  </tbody>\n",
       "</table>\n",
       "</div>"
      ],
      "text/plain": [
       "   Unnamed: 0  ImageNumber  ObjectNumber  AreaShape_Area  \\\n",
       "0         594           27             3           74859   \n",
       "1         595           27             4           32432   \n",
       "2         596           27             5           34566   \n",
       "3         598           27             7           35730   \n",
       "4         599           27             8           30534   \n",
       "\n",
       "   AreaShape_Compactness  AreaShape_Eccentricity  AreaShape_EulerNumber  \\\n",
       "0               1.074712                0.729003                    1.0   \n",
       "1               1.006775                0.442021                    1.0   \n",
       "2               1.048914                0.678865                    1.0   \n",
       "3               1.005500                0.369907                    1.0   \n",
       "4               1.016526                0.536300                    1.0   \n",
       "\n",
       "   AreaShape_Extent  AreaShape_FormFactor  AreaShape_MajorAxisLength  \\\n",
       "0          0.781515              0.827715                 372.677181   \n",
       "1          0.779391              0.891989                 214.213060   \n",
       "2          0.784806              0.872448                 244.415322   \n",
       "3          0.772958              0.884276                 221.135092   \n",
       "4          0.778929              0.886743                 214.408004   \n",
       "\n",
       "   AreaShape_MaxFeretDiameter  AreaShape_MaximumRadius  AreaShape_MeanRadius  \\\n",
       "0                  371.052557               125.027997             47.883260   \n",
       "1                  215.336945                96.400207             33.711333   \n",
       "2                  244.092196                89.560036             33.612464   \n",
       "3                  221.822001               100.498756             35.159082   \n",
       "4                  216.300717                90.271812             32.328783   \n",
       "\n",
       "   AreaShape_MedianRadius  AreaShape_MinFeretDiameter  \\\n",
       "0               43.046487                  252.479586   \n",
       "1               29.732137                  192.952764   \n",
       "2               30.000000                  179.194896   \n",
       "3               31.048349                  206.284046   \n",
       "4               28.635642                  182.433550   \n",
       "\n",
       "   AreaShape_MinorAxisLength  AreaShape_Orientation  AreaShape_Perimeter  \\\n",
       "0                 255.101597              -9.452530             1066.072   \n",
       "1                 192.150156              39.930114              675.946   \n",
       "2                 179.465131              -9.878368              705.602   \n",
       "3                 205.449754              42.786364              712.570   \n",
       "4                 180.966248             -47.438565              657.806   \n",
       "\n",
       "   AreaShape_Solidity  in_object  \n",
       "0            0.987286        1.0  \n",
       "1            0.990184        1.0  \n",
       "2            0.991055        1.0  \n",
       "3            0.989463        1.0  \n",
       "4            0.989837        1.0  "
      ]
     },
     "execution_count": 78,
     "metadata": {},
     "output_type": "execute_result"
    }
   ],
   "source": [
    "df_whole.head()"
   ]
  },
  {
   "cell_type": "code",
   "execution_count": 92,
   "metadata": {},
   "outputs": [],
   "source": [
    "df_jnk = pd.merge(df_orig, df_whole, on = ['ImageNumber', 'ObjectNumber'])"
   ]
  },
  {
   "cell_type": "markdown",
   "metadata": {},
   "source": [
    "### right now a couple of the categories are duplicated so I will need to take care of that"
   ]
  },
  {
   "cell_type": "code",
   "execution_count": 96,
   "metadata": {},
   "outputs": [
    {
     "data": {
      "text/plain": [
       "['ImageNumber',\n",
       " 'ObjectNumber',\n",
       " 'AreaShape_Area_x',\n",
       " 'AreaShape_Center_X',\n",
       " 'AreaShape_Center_Y',\n",
       " 'AreaShape_Center_Z',\n",
       " 'AreaShape_Compactness_x',\n",
       " 'AreaShape_Eccentricity_x',\n",
       " 'AreaShape_EulerNumber_x',\n",
       " 'AreaShape_Extent_x',\n",
       " 'AreaShape_FormFactor_x',\n",
       " 'AreaShape_MajorAxisLength_x',\n",
       " 'AreaShape_MaxFeretDiameter_x',\n",
       " 'AreaShape_MaximumRadius_x',\n",
       " 'AreaShape_MeanRadius_x',\n",
       " 'AreaShape_MedianRadius_x',\n",
       " 'AreaShape_MinFeretDiameter_x',\n",
       " 'AreaShape_MinorAxisLength_x',\n",
       " 'AreaShape_Orientation_x',\n",
       " 'AreaShape_Perimeter_x',\n",
       " 'AreaShape_Solidity_x',\n",
       " 'Intensity_IntegratedIntensityEdge_c2',\n",
       " 'Intensity_IntegratedIntensityEdge_c3',\n",
       " 'Intensity_IntegratedIntensityEdge_cebp',\n",
       " 'Intensity_IntegratedIntensityEdge_dapi',\n",
       " 'Intensity_IntegratedIntensity_c2',\n",
       " 'Intensity_IntegratedIntensity_c3',\n",
       " 'Intensity_IntegratedIntensity_cebp',\n",
       " 'Intensity_IntegratedIntensity_dapi',\n",
       " 'Intensity_LowerQuartileIntensity_c2',\n",
       " 'Intensity_LowerQuartileIntensity_c3',\n",
       " 'Intensity_LowerQuartileIntensity_cebp',\n",
       " 'Intensity_LowerQuartileIntensity_dapi',\n",
       " 'Intensity_MADIntensity_c2',\n",
       " 'Intensity_MADIntensity_c3',\n",
       " 'Intensity_MADIntensity_cebp',\n",
       " 'Intensity_MADIntensity_dapi',\n",
       " 'Intensity_MassDisplacement_c2',\n",
       " 'Intensity_MassDisplacement_c3',\n",
       " 'Intensity_MassDisplacement_cebp',\n",
       " 'Intensity_MassDisplacement_dapi',\n",
       " 'Intensity_MaxIntensityEdge_c2',\n",
       " 'Intensity_MaxIntensityEdge_c3',\n",
       " 'Intensity_MaxIntensityEdge_cebp',\n",
       " 'Intensity_MaxIntensityEdge_dapi',\n",
       " 'Intensity_MaxIntensity_c2',\n",
       " 'Intensity_MaxIntensity_c3',\n",
       " 'Intensity_MaxIntensity_cebp',\n",
       " 'Intensity_MaxIntensity_dapi',\n",
       " 'Intensity_MeanIntensityEdge_c2',\n",
       " 'Intensity_MeanIntensityEdge_c3',\n",
       " 'Intensity_MeanIntensityEdge_cebp',\n",
       " 'Intensity_MeanIntensityEdge_dapi',\n",
       " 'Intensity_MeanIntensity_c2',\n",
       " 'Intensity_MeanIntensity_c3',\n",
       " 'Intensity_MeanIntensity_cebp',\n",
       " 'Intensity_MeanIntensity_dapi',\n",
       " 'Intensity_MedianIntensity_c2',\n",
       " 'Intensity_MedianIntensity_c3',\n",
       " 'Intensity_MedianIntensity_cebp',\n",
       " 'Intensity_MedianIntensity_dapi',\n",
       " 'Intensity_MinIntensityEdge_c2',\n",
       " 'Intensity_MinIntensityEdge_c3',\n",
       " 'Intensity_MinIntensityEdge_cebp',\n",
       " 'Intensity_MinIntensityEdge_dapi',\n",
       " 'Intensity_MinIntensity_c2',\n",
       " 'Intensity_MinIntensity_c3',\n",
       " 'Intensity_MinIntensity_cebp',\n",
       " 'Intensity_MinIntensity_dapi',\n",
       " 'Intensity_StdIntensityEdge_c2',\n",
       " 'Intensity_StdIntensityEdge_c3',\n",
       " 'Intensity_StdIntensityEdge_cebp',\n",
       " 'Intensity_StdIntensityEdge_dapi',\n",
       " 'Intensity_StdIntensity_c2',\n",
       " 'Intensity_StdIntensity_c3',\n",
       " 'Intensity_StdIntensity_cebp',\n",
       " 'Intensity_StdIntensity_dapi',\n",
       " 'Intensity_UpperQuartileIntensity_c2',\n",
       " 'Intensity_UpperQuartileIntensity_c3',\n",
       " 'Intensity_UpperQuartileIntensity_cebp',\n",
       " 'Intensity_UpperQuartileIntensity_dapi',\n",
       " 'Location_CenterMassIntensity_X_c2',\n",
       " 'Location_CenterMassIntensity_X_c3',\n",
       " 'Location_CenterMassIntensity_X_cebp',\n",
       " 'Location_CenterMassIntensity_X_dapi',\n",
       " 'Location_CenterMassIntensity_Y_c2',\n",
       " 'Location_CenterMassIntensity_Y_c3',\n",
       " 'Location_CenterMassIntensity_Y_cebp',\n",
       " 'Location_CenterMassIntensity_Y_dapi',\n",
       " 'Location_CenterMassIntensity_Z_c2',\n",
       " 'Location_CenterMassIntensity_Z_c3',\n",
       " 'Location_CenterMassIntensity_Z_cebp',\n",
       " 'Location_CenterMassIntensity_Z_dapi',\n",
       " 'Location_Center_X',\n",
       " 'Location_Center_Y',\n",
       " 'Location_Center_Z',\n",
       " 'Location_MaxIntensity_X_c2',\n",
       " 'Location_MaxIntensity_X_c3',\n",
       " 'Location_MaxIntensity_X_cebp',\n",
       " 'Location_MaxIntensity_X_dapi',\n",
       " 'Location_MaxIntensity_Y_c2',\n",
       " 'Location_MaxIntensity_Y_c3',\n",
       " 'Location_MaxIntensity_Y_cebp',\n",
       " 'Location_MaxIntensity_Y_dapi',\n",
       " 'Location_MaxIntensity_Z_c2',\n",
       " 'Location_MaxIntensity_Z_c3',\n",
       " 'Location_MaxIntensity_Z_cebp',\n",
       " 'Location_MaxIntensity_Z_dapi',\n",
       " 'Number_Object_Number',\n",
       " 'Unnamed: 0',\n",
       " 'AreaShape_Area_y',\n",
       " 'AreaShape_Compactness_y',\n",
       " 'AreaShape_Eccentricity_y',\n",
       " 'AreaShape_EulerNumber_y',\n",
       " 'AreaShape_Extent_y',\n",
       " 'AreaShape_FormFactor_y',\n",
       " 'AreaShape_MajorAxisLength_y',\n",
       " 'AreaShape_MaxFeretDiameter_y',\n",
       " 'AreaShape_MaximumRadius_y',\n",
       " 'AreaShape_MeanRadius_y',\n",
       " 'AreaShape_MedianRadius_y',\n",
       " 'AreaShape_MinFeretDiameter_y',\n",
       " 'AreaShape_MinorAxisLength_y',\n",
       " 'AreaShape_Orientation_y',\n",
       " 'AreaShape_Perimeter_y',\n",
       " 'AreaShape_Solidity_y',\n",
       " 'in_object']"
      ]
     },
     "execution_count": 96,
     "metadata": {},
     "output_type": "execute_result"
    }
   ],
   "source": [
    "list(df_jnk)"
   ]
  },
  {
   "cell_type": "code",
   "execution_count": 104,
   "metadata": {},
   "outputs": [],
   "source": [
    "cats_to_keep = [ 'AreaShape_Area_x',\n",
    " 'AreaShape_Center_X',\n",
    " 'AreaShape_Center_Y',\n",
    " 'AreaShape_Center_Z',\n",
    " 'AreaShape_Compactness_x',\n",
    " 'AreaShape_Eccentricity_x',\n",
    " 'AreaShape_EulerNumber_x',\n",
    " 'AreaShape_Extent_x',\n",
    " 'AreaShape_FormFactor_x',\n",
    " 'AreaShape_MajorAxisLength_x',\n",
    " 'AreaShape_MaxFeretDiameter_x',\n",
    " 'AreaShape_MaximumRadius_x',\n",
    " 'AreaShape_MeanRadius_x',\n",
    " 'AreaShape_MedianRadius_x',\n",
    " 'AreaShape_MinFeretDiameter_x',\n",
    " 'AreaShape_MinorAxisLength_x',\n",
    " 'AreaShape_Orientation_x',\n",
    " 'AreaShape_Perimeter_x',\n",
    " 'AreaShape_Solidity_x',\n",
    "\n",
    " 'Intensity_IntegratedIntensityEdge_dapi',\n",
    "\n",
    " 'Intensity_IntegratedIntensity_dapi',\n",
    " \n",
    " 'Intensity_LowerQuartileIntensity_dapi',\n",
    " \n",
    " 'Intensity_MADIntensity_dapi',\n",
    "\n",
    " 'Intensity_MassDisplacement_dapi',\n",
    "\n",
    " 'Intensity_MaxIntensityEdge_dapi',\n",
    " \n",
    " 'Intensity_MaxIntensity_dapi',\n",
    " \n",
    " 'Intensity_MeanIntensityEdge_dapi',\n",
    "\n",
    " 'Intensity_MeanIntensity_dapi',\n",
    "\n",
    " 'Intensity_MedianIntensity_dapi',\n",
    "\n",
    " 'Intensity_MinIntensityEdge_dapi',\n",
    "\n",
    " 'Intensity_MinIntensity_dapi',\n",
    "\n",
    " 'Intensity_StdIntensityEdge_dapi',\n",
    " \n",
    " 'Intensity_StdIntensity_dapi',\n",
    " \n",
    " 'Intensity_UpperQuartileIntensity_dapi',\n",
    "\n",
    " 'Location_CenterMassIntensity_X_dapi',\n",
    " \n",
    " 'Location_CenterMassIntensity_Y_dapi',\n",
    "\n",
    " 'Location_CenterMassIntensity_Z_dapi',\n",
    " 'Location_Center_X',\n",
    " 'Location_Center_Y',\n",
    " 'Location_Center_Z',\n",
    "\n",
    " 'Location_MaxIntensity_X_dapi',\n",
    "\n",
    " 'Location_MaxIntensity_Y_dapi',\n",
    "\n",
    " 'Location_MaxIntensity_Z_dapi',\n",
    "               'in_object']"
   ]
  },
  {
   "cell_type": "code",
   "execution_count": 105,
   "metadata": {},
   "outputs": [],
   "source": [
    "df_whole = df_jnk[cats_to_keep]"
   ]
  },
  {
   "cell_type": "code",
   "execution_count": 47,
   "metadata": {},
   "outputs": [],
   "source": [
    "train_cats = ['AreaShape_Area',\n",
    " 'AreaShape_Compactness',\n",
    " 'AreaShape_Eccentricity',\n",
    " 'AreaShape_EulerNumber',\n",
    " 'AreaShape_Extent',\n",
    " 'AreaShape_FormFactor',\n",
    " 'AreaShape_MajorAxisLength',\n",
    " 'AreaShape_MaxFeretDiameter',\n",
    " 'AreaShape_MaximumRadius',\n",
    " 'AreaShape_MeanRadius',\n",
    " 'AreaShape_MedianRadius',\n",
    " 'AreaShape_MinFeretDiameter',\n",
    " 'AreaShape_MinorAxisLength',\n",
    " 'AreaShape_Orientation',\n",
    " 'AreaShape_Perimeter',\n",
    " 'AreaShape_Solidity']"
   ]
  },
  {
   "cell_type": "code",
   "execution_count": 67,
   "metadata": {},
   "outputs": [],
   "source": [
    "from sklearn.datasets import load_iris"
   ]
  },
  {
   "cell_type": "code",
   "execution_count": 81,
   "metadata": {},
   "outputs": [],
   "source": [
    "train_data = np.array([np.array(df[train_cats[0]]),\n",
    "                       np.array(df[train_cats[1]]),\n",
    "                       np.array(df[train_cats[2]]),\n",
    "                       np.array(df[train_cats[3]]),\n",
    "                       np.array(df[train_cats[4]]),\n",
    "                       np.array(df[train_cats[5]]),\n",
    "                       np.array(df[train_cats[6]]),\n",
    "                       np.array(df[train_cats[7]]),\n",
    "                       np.array(df[train_cats[8]]),\n",
    "                       np.array(df[train_cats[9]]),\n",
    "                       np.array(df[train_cats[10]]),\n",
    "                       np.array(df[train_cats[11]]),\n",
    "                       np.array(df[train_cats[12]]),\n",
    "                       np.array(df[train_cats[13]]),\n",
    "                       np.array(df[train_cats[14]]),\n",
    "                       np.array(df[train_cats[15]])])\n"
   ]
  },
  {
   "cell_type": "code",
   "execution_count": 83,
   "metadata": {},
   "outputs": [
    {
     "data": {
      "text/plain": [
       "(16, 17)"
      ]
     },
     "execution_count": 83,
     "metadata": {},
     "output_type": "execute_result"
    }
   ],
   "source": [
    "train_data.shape"
   ]
  },
  {
   "cell_type": "code",
   "execution_count": 78,
   "metadata": {},
   "outputs": [
    {
     "data": {
      "text/plain": [
       "'AreaShape_Solidity'"
      ]
     },
     "execution_count": 78,
     "metadata": {},
     "output_type": "execute_result"
    }
   ],
   "source": [
    "train_cats[15]"
   ]
  },
  {
   "cell_type": "code",
   "execution_count": null,
   "metadata": {},
   "outputs": [],
   "source": [
    "gnb = Gau"
   ]
  },
  {
   "cell_type": "code",
   "execution_count": 11,
   "metadata": {},
   "outputs": [],
   "source": [
    "from sklearn import datasets"
   ]
  },
  {
   "cell_type": "code",
   "execution_count": 12,
   "metadata": {},
   "outputs": [],
   "source": [
    "wine = datasets.load_wine()"
   ]
  },
  {
   "cell_type": "code",
   "execution_count": 33,
   "metadata": {},
   "outputs": [
    {
     "ename": "AttributeError",
     "evalue": "ndim",
     "output_type": "error",
     "traceback": [
      "\u001b[1;31m---------------------------------------------------------------------------\u001b[0m",
      "\u001b[1;31mKeyError\u001b[0m                                  Traceback (most recent call last)",
      "\u001b[1;32mC:\\ProgramData\\Anaconda3\\lib\\site-packages\\sklearn\\utils\\__init__.py\u001b[0m in \u001b[0;36m__getattr__\u001b[1;34m(self, key)\u001b[0m\n\u001b[0;32m    113\u001b[0m         \u001b[1;32mtry\u001b[0m\u001b[1;33m:\u001b[0m\u001b[1;33m\u001b[0m\u001b[1;33m\u001b[0m\u001b[0m\n\u001b[1;32m--> 114\u001b[1;33m             \u001b[1;32mreturn\u001b[0m \u001b[0mself\u001b[0m\u001b[1;33m[\u001b[0m\u001b[0mkey\u001b[0m\u001b[1;33m]\u001b[0m\u001b[1;33m\u001b[0m\u001b[1;33m\u001b[0m\u001b[0m\n\u001b[0m\u001b[0;32m    115\u001b[0m         \u001b[1;32mexcept\u001b[0m \u001b[0mKeyError\u001b[0m\u001b[1;33m:\u001b[0m\u001b[1;33m\u001b[0m\u001b[1;33m\u001b[0m\u001b[0m\n",
      "\u001b[1;31mKeyError\u001b[0m: 'ndim'",
      "\nDuring handling of the above exception, another exception occurred:\n",
      "\u001b[1;31mAttributeError\u001b[0m                            Traceback (most recent call last)",
      "\u001b[1;32m<ipython-input-33-43367c3c353e>\u001b[0m in \u001b[0;36m<module>\u001b[1;34m\u001b[0m\n\u001b[1;32m----> 1\u001b[1;33m \u001b[0mwine\u001b[0m\u001b[1;33m.\u001b[0m\u001b[0mndim\u001b[0m\u001b[1;33m\u001b[0m\u001b[1;33m\u001b[0m\u001b[0m\n\u001b[0m",
      "\u001b[1;32mC:\\ProgramData\\Anaconda3\\lib\\site-packages\\sklearn\\utils\\__init__.py\u001b[0m in \u001b[0;36m__getattr__\u001b[1;34m(self, key)\u001b[0m\n\u001b[0;32m    114\u001b[0m             \u001b[1;32mreturn\u001b[0m \u001b[0mself\u001b[0m\u001b[1;33m[\u001b[0m\u001b[0mkey\u001b[0m\u001b[1;33m]\u001b[0m\u001b[1;33m\u001b[0m\u001b[1;33m\u001b[0m\u001b[0m\n\u001b[0;32m    115\u001b[0m         \u001b[1;32mexcept\u001b[0m \u001b[0mKeyError\u001b[0m\u001b[1;33m:\u001b[0m\u001b[1;33m\u001b[0m\u001b[1;33m\u001b[0m\u001b[0m\n\u001b[1;32m--> 116\u001b[1;33m             \u001b[1;32mraise\u001b[0m \u001b[0mAttributeError\u001b[0m\u001b[1;33m(\u001b[0m\u001b[0mkey\u001b[0m\u001b[1;33m)\u001b[0m\u001b[1;33m\u001b[0m\u001b[1;33m\u001b[0m\u001b[0m\n\u001b[0m\u001b[0;32m    117\u001b[0m \u001b[1;33m\u001b[0m\u001b[0m\n\u001b[0;32m    118\u001b[0m     \u001b[1;32mdef\u001b[0m \u001b[0m__setstate__\u001b[0m\u001b[1;33m(\u001b[0m\u001b[0mself\u001b[0m\u001b[1;33m,\u001b[0m \u001b[0mstate\u001b[0m\u001b[1;33m)\u001b[0m\u001b[1;33m:\u001b[0m\u001b[1;33m\u001b[0m\u001b[1;33m\u001b[0m\u001b[0m\n",
      "\u001b[1;31mAttributeError\u001b[0m: ndim"
     ]
    }
   ],
   "source": [
    "gn"
   ]
  },
  {
   "cell_type": "code",
   "execution_count": 41,
   "metadata": {},
   "outputs": [
    {
     "data": {
      "text/plain": [
       "(178, 13)"
      ]
     },
     "execution_count": 41,
     "metadata": {},
     "output_type": "execute_result"
    }
   ],
   "source": [
    "wine.data.shape"
   ]
  },
  {
   "cell_type": "code",
   "execution_count": 71,
   "metadata": {},
   "outputs": [
    {
     "data": {
      "text/plain": [
       "(178, 13)"
      ]
     },
     "execution_count": 71,
     "metadata": {},
     "output_type": "execute_result"
    }
   ],
   "source": [
    "wine.data.shape"
   ]
  },
  {
   "cell_type": "code",
   "execution_count": 85,
   "metadata": {},
   "outputs": [
    {
     "data": {
      "text/plain": [
       "(178,)"
      ]
     },
     "execution_count": 85,
     "metadata": {},
     "output_type": "execute_result"
    }
   ],
   "source": [
    "wine.target.shape"
   ]
  },
  {
   "cell_type": "code",
   "execution_count": 86,
   "metadata": {},
   "outputs": [
    {
     "data": {
      "text/plain": [
       "(17,)"
      ]
     },
     "execution_count": 86,
     "metadata": {},
     "output_type": "execute_result"
    }
   ],
   "source": [
    "y.shape"
   ]
  },
  {
   "cell_type": "code",
   "execution_count": 158,
   "metadata": {},
   "outputs": [],
   "source": [
    "os.chdir(r'C:\\Users\\timdaugird\\Google Drive\\legant_lab\\_projects\\200217_adipogen_zstacks\\cell_profiler_output\\dcts_output')"
   ]
  },
  {
   "cell_type": "code",
   "execution_count": 159,
   "metadata": {},
   "outputs": [],
   "source": [
    "df_whole.to_csv('data_for_nb_training.csv')"
   ]
  },
  {
   "cell_type": "code",
   "execution_count": 160,
   "metadata": {},
   "outputs": [
    {
     "data": {
      "text/plain": [
       "GaussianNB(priors=None, var_smoothing=1e-09)"
      ]
     },
     "execution_count": 160,
     "metadata": {},
     "output_type": "execute_result"
    }
   ],
   "source": [
    "model"
   ]
  },
  {
   "cell_type": "code",
   "execution_count": 162,
   "metadata": {},
   "outputs": [],
   "source": [
    "mod = model.fit(x_train, y_train)"
   ]
  },
  {
   "cell_type": "code",
   "execution_count": 171,
   "metadata": {},
   "outputs": [
    {
     "data": {
      "text/plain": [
       "{'priors': None, 'var_smoothing': 1e-09}"
      ]
     },
     "execution_count": 171,
     "metadata": {},
     "output_type": "execute_result"
    }
   ],
   "source": [
    "(model.get_params())"
   ]
  },
  {
   "cell_type": "code",
   "execution_count": null,
   "metadata": {},
   "outputs": [],
   "source": []
  }
 ],
 "metadata": {
  "kernelspec": {
   "display_name": "Python 3",
   "language": "python",
   "name": "python3"
  },
  "language_info": {
   "codemirror_mode": {
    "name": "ipython",
    "version": 3
   },
   "file_extension": ".py",
   "mimetype": "text/x-python",
   "name": "python",
   "nbconvert_exporter": "python",
   "pygments_lexer": "ipython3",
   "version": "3.7.6"
  }
 },
 "nbformat": 4,
 "nbformat_minor": 4
}
