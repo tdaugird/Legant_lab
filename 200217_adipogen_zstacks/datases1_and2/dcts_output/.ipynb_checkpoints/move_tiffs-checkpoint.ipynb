{
 "cells": [
  {
   "cell_type": "markdown",
   "metadata": {},
   "source": [
    "### This sorts through one big folder to split fields of view into seperate folders. "
   ]
  },
  {
   "cell_type": "code",
   "execution_count": 1,
   "metadata": {},
   "outputs": [],
   "source": [
    "import os\n",
    "import shutil\n",
    "import numpy as np"
   ]
  },
  {
   "cell_type": "code",
   "execution_count": 2,
   "metadata": {},
   "outputs": [],
   "source": [
    "working_dir = r'Z:\\TAD\\200217_adipogen_z_stacks\\stad346_2'\n",
    "\n",
    "os.chdir(working_dir)\n",
    "\n",
    "dir_names_ = []\n",
    "for i in os.listdir():\n",
    "    if i.endswith('.tif'):\n",
    "        dir_names_.append(i[:4])\n",
    "dir_names = list(np.unique(dir_names_))\n",
    "\n",
    "for i in dir_names:\n",
    "    os.mkdir(i)\n",
    "\n",
    "for i in dir_names:\n",
    "    destination_dir = working_dir + '\\\\' + i\n",
    "    tiff_files = []\n",
    "    for j in os.listdir():\n",
    "        if (j.endswith('.tif')):\n",
    "            tiff_files.append(j)\n",
    "    for j in tiff_files:\n",
    "        if (j[:4] in i):\n",
    "            shutil.move(working_dir + '\\\\' + j, destination_dir + '\\\\' + j) "
   ]
  },
  {
   "cell_type": "code",
   "execution_count": null,
   "metadata": {},
   "outputs": [],
   "source": []
  }
 ],
 "metadata": {
  "kernelspec": {
   "display_name": "Python 3",
   "language": "python",
   "name": "python3"
  },
  "language_info": {
   "codemirror_mode": {
    "name": "ipython",
    "version": 3
   },
   "file_extension": ".py",
   "mimetype": "text/x-python",
   "name": "python",
   "nbconvert_exporter": "python",
   "pygments_lexer": "ipython3",
   "version": "3.7.6"
  }
 },
 "nbformat": 4,
 "nbformat_minor": 4
}
