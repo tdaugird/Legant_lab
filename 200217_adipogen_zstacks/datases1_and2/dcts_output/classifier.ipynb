{
 "cells": [
  {
   "cell_type": "markdown",
   "metadata": {},
   "source": [
    "### This is just quick to see if I can get a naiive bayes classifier up and running for datasets"
   ]
  },
  {
   "cell_type": "code",
   "execution_count": 1,
   "metadata": {},
   "outputs": [],
   "source": [
    "import os\n",
    "import numpy as np\n",
    "import pandas as pd\n",
    "from sklearn.model_selection import train_test_split\n",
    "from sklearn.naive_bayes import GaussianNB\n",
    "from sklearn.metrics import accuracy_score, precision_score, confusion_matrix\n",
    "from sklearn.preprocessing import StandardScaler\n",
    "import matplotlib.pyplot as plt\n",
    "import seaborn as sns\n",
    "\n",
    "\n",
    "#from sklearn.preprocessing import Imputer"
   ]
  },
  {
   "cell_type": "markdown",
   "metadata": {},
   "source": [
    "### The next few lines are just for construction of the original df. I wrote the df into a .csv file so you can start things off a couple of cells down"
   ]
  },
  {
   "cell_type": "code",
   "execution_count": 2,
   "metadata": {},
   "outputs": [],
   "source": [
    "os.chdir(r'C:\\Users\\timdaugird\\Google Drive\\legant_lab\\_projects\\200217_adipogen_zstacks\\cell_profiler_output\\dcts_output\\segm_img_tests\\in_out_csvs')\n",
    "\n",
    "#os.listdir()\n",
    "\n",
    "'''list of csv files to be read in'''\n",
    "csv_lst = ['instad438-xy07.csv',\n",
    " 'in_stad436-xy01.csv',\n",
    " 'in_stad440-xy10.csv',\n",
    " 'in_stad441-xy01.csv',\n",
    " 'in_stad444-xy02.csv',\n",
    " 'in_stad445-xy04.csv',\n",
    " 'in_stad445-xy06.csv',\n",
    " 'in_stad445-xy09.csv',\n",
    " 'in_stad446-xy04.csv',\n",
    " 'in_stad446-xy07.csv',\n",
    " 'in_stad446-xy09.csv',\n",
    " 'in_stad446-xy10.csv',\n",
    " 'in_stad447-xy03.csv',\n",
    " 'in_stad447-xy07.csv',\n",
    " 'in_stad447-xy09.csv',\n",
    " 'outstad438-xy07.csv',\n",
    "           'out_stad436-xy01.csv',\n",
    " 'out_stad440-xy10.csv',\n",
    " 'out_stad441-xy01.csv',\n",
    " 'out_stad444-xy02.csv',\n",
    " 'out_stad445-xy04.csv',\n",
    " 'out_stad445-xy06.csv',\n",
    " 'out_stad445-xy09.csv',\n",
    " 'out_stad446-xy04.csv',\n",
    " 'out_stad446-xy07.csv',\n",
    " 'out_stad446-xy09.csv',\n",
    " 'out_stad446-xy10.csv',\n",
    " 'out_stad447-xy03.csv',\n",
    " 'out_stad447-xy07.csv',\n",
    " 'out_stad447-xy09.csv']\n",
    "\n",
    "'''read in all of the .csv files and concatenate into one big df'''\n",
    "\n",
    "df_lst = []\n",
    "\n",
    "for i in csv_lst:\n",
    "    df_lst.append(pd.read_csv(i))\n",
    "df_whole = pd.concat(df_lst)"
   ]
  },
  {
   "cell_type": "code",
   "execution_count": 5,
   "metadata": {},
   "outputs": [],
   "source": [
    "'''Just to make sure that I didnt miss some small object in the manual curation I will turn everything less than 10000 to the out category '''\n",
    "df_in = df_whole.loc[df_whole.in_object == 1]\n",
    "df_out_ = df_whole.loc[df_whole.in_object == 0]\n",
    "\n",
    "'''pull out smalle values in the df_in df'''\n",
    "df_in_change = df_in.loc[df_in.AreaShape_Area < 20000] #these are the wrong attributed entries in df_in\n",
    "df_in = df_in.loc[df_in.AreaShape_Area >= 20000] #these are the right entries for df_in\n",
    "\n",
    "df_in_change.in_object = np.zeros(len(df_in_change)) #switch in_object for all of the wrong entries\n",
    "df_out = pd.concat([df_out_, df_in_change]) #move the wrong entries from df_in to df_out\n",
    "\n",
    "df_whole = pd.concat([df_in, df_out]) #make one big dataframe again"
   ]
  },
  {
   "cell_type": "code",
   "execution_count": 6,
   "metadata": {},
   "outputs": [
    {
     "data": {
      "text/plain": [
       "0.0"
      ]
     },
     "execution_count": 6,
     "metadata": {},
     "output_type": "execute_result"
    }
   ],
   "source": [
    "\n",
    "\n",
    "\n",
    "'''double check that the above rearrangement worked as planned'''\n",
    "df_ = df_whole.loc[df_whole.AreaShape_Area < 20000]\n",
    "np.sum(df_.in_object)"
   ]
  },
  {
   "cell_type": "code",
   "execution_count": 2,
   "metadata": {},
   "outputs": [],
   "source": [
    "os.chdir(r'C:\\Users\\timdaugird\\Google Drive\\legant_lab\\_projects\\200217_adipogen_zstacks\\cell_profiler_output\\dcts_output')"
   ]
  },
  {
   "cell_type": "code",
   "execution_count": 3,
   "metadata": {},
   "outputs": [
    {
     "data": {
      "text/plain": [
       "['.ipynb_checkpoints',\n",
       " 'classifier.ipynb',\n",
       " 'data_for_nb_training.csv',\n",
       " 'df1.csv',\n",
       " 'df2.csv',\n",
       " 'img_ls.csv',\n",
       " 'MyExpt_Experiment.csv',\n",
       " 'MyExpt_Image.csv',\n",
       " 'MyExpt_nuclei.csv',\n",
       " 'segm_exp_analysis_nb_parsed.ipynb',\n",
       " 'segm_img_tests',\n",
       " 'segm_parse_testing.ipynb']"
      ]
     },
     "execution_count": 3,
     "metadata": {},
     "output_type": "execute_result"
    }
   ],
   "source": [
    "os.listdir()"
   ]
  },
  {
   "cell_type": "code",
   "execution_count": 4,
   "metadata": {},
   "outputs": [],
   "source": [
    "df_whole = pd.read_csv('data_for_nb_training.csv')"
   ]
  },
  {
   "cell_type": "code",
   "execution_count": 5,
   "metadata": {},
   "outputs": [
    {
     "data": {
      "text/plain": [
       "['Unnamed: 0',\n",
       " 'ImageNumber',\n",
       " 'ObjectNumber',\n",
       " 'AreaShape_Area',\n",
       " 'AreaShape_Center',\n",
       " 'AreaShape_Center.1',\n",
       " 'AreaShape_Center.2',\n",
       " 'AreaShape_Compactness',\n",
       " 'AreaShape_Eccentricity',\n",
       " 'AreaShape_EulerNumber',\n",
       " 'AreaShape_Extent',\n",
       " 'AreaShape_FormFactor',\n",
       " 'AreaShape_MajorAxisLength',\n",
       " 'AreaShape_MaxFeretDiameter',\n",
       " 'AreaShape_MaximumRadius',\n",
       " 'AreaShape_MeanRadius',\n",
       " 'AreaShape_MedianRadius',\n",
       " 'AreaShape_MinFeretDiameter',\n",
       " 'AreaShape_MinorAxisLength',\n",
       " 'AreaShape_Orientation',\n",
       " 'AreaShape_Perimeter',\n",
       " 'AreaShape_Solidity',\n",
       " 'Intensity_IntegratedIntensityEdge_dapi',\n",
       " 'Intensity_IntegratedIntensity_dapi',\n",
       " 'Intensity_LowerQuartileIntensity_dapi',\n",
       " 'Intensity_MADIntensity_dapi',\n",
       " 'Intensity_MassDisplacement_dapi',\n",
       " 'Intensity_MaxIntensityEdge_dapi',\n",
       " 'Intensity_MaxIntensity_dapi',\n",
       " 'Intensity_MeanIntensityEdge_dapi',\n",
       " 'Intensity_MeanIntensity_dapi',\n",
       " 'Intensity_MedianIntensity_dapi',\n",
       " 'Intensity_MinIntensityEdge_dapi',\n",
       " 'Intensity_MinIntensity_dapi',\n",
       " 'Intensity_StdIntensityEdge_dapi',\n",
       " 'Intensity_StdIntensity_dapi',\n",
       " 'Intensity_UpperQuartileIntensity_dapi',\n",
       " 'Location_CenterMassIntensity_X_dapi',\n",
       " 'Location_CenterMassIntensity_Y_dapi',\n",
       " 'Location_CenterMassIntensity_Z_dapi',\n",
       " 'Location_Center_X',\n",
       " 'Location_Center_Y',\n",
       " 'Location_Center_Z',\n",
       " 'Location_MaxIntensity_X_dapi',\n",
       " 'Location_MaxIntensity_Y_dapi',\n",
       " 'Location_MaxIntensity_Z_dapi',\n",
       " 'in_object']"
      ]
     },
     "execution_count": 5,
     "metadata": {},
     "output_type": "execute_result"
    }
   ],
   "source": [
    "list(df_whole)"
   ]
  },
  {
   "cell_type": "code",
   "execution_count": 6,
   "metadata": {},
   "outputs": [
    {
     "data": {
      "text/plain": [
       "376"
      ]
     },
     "execution_count": 6,
     "metadata": {},
     "output_type": "execute_result"
    }
   ],
   "source": [
    "len(df_whole_)"
   ]
  },
  {
   "cell_type": "code",
   "execution_count": 7,
   "metadata": {},
   "outputs": [
    {
     "data": {
      "text/plain": [
       "376"
      ]
     },
     "execution_count": 7,
     "metadata": {},
     "output_type": "execute_result"
    }
   ],
   "source": [
    "len(df_whole)"
   ]
  },
  {
   "cell_type": "markdown",
   "metadata": {},
   "source": [
    "### this is almost entirely taken from https://heartbeat.fritz.ai/naive-bayes-classifier-in-python-using-scikit-learn-13c4deb83bcf"
   ]
  },
  {
   "cell_type": "markdown",
   "metadata": {},
   "source": [
    "### Start off with some preprocessing steps"
   ]
  },
  {
   "cell_type": "code",
   "execution_count": 13,
   "metadata": {},
   "outputs": [],
   "source": [
    "'''split the data into train and target sets. In this caes x will be the train data and y will be the target parameter'''\n",
    "df = df_whole.copy() # make a copy of original df. I am going to alter this a little bit in order to pull out train and test cats\n",
    "\n",
    "target_cat_name = 'in_object'\n",
    "\n",
    "'''remove unwanted categories'''\n",
    "unwanted_cat = ['Unnamed: 0']#, 'ImageNumber', 'ObjectNumber']\n",
    "df.drop(unwanted_cat, axis = 1, inplace = True)\n",
    "\n",
    "'''define train and target data'''\n",
    "x = df.drop('in_object', axis = 1)\n",
    "y = df[target_cat_name]"
   ]
  },
  {
   "cell_type": "code",
   "execution_count": 14,
   "metadata": {},
   "outputs": [
    {
     "data": {
      "text/html": [
       "<div>\n",
       "<style scoped>\n",
       "    .dataframe tbody tr th:only-of-type {\n",
       "        vertical-align: middle;\n",
       "    }\n",
       "\n",
       "    .dataframe tbody tr th {\n",
       "        vertical-align: top;\n",
       "    }\n",
       "\n",
       "    .dataframe thead th {\n",
       "        text-align: right;\n",
       "    }\n",
       "</style>\n",
       "<table border=\"1\" class=\"dataframe\">\n",
       "  <thead>\n",
       "    <tr style=\"text-align: right;\">\n",
       "      <th></th>\n",
       "      <th>ImageNumber</th>\n",
       "      <th>ObjectNumber</th>\n",
       "      <th>AreaShape_Area</th>\n",
       "      <th>AreaShape_Center_X</th>\n",
       "      <th>AreaShape_Center_Y</th>\n",
       "      <th>AreaShape_Center_Z</th>\n",
       "      <th>AreaShape_Compactness</th>\n",
       "      <th>AreaShape_Eccentricity</th>\n",
       "      <th>AreaShape_EulerNumber</th>\n",
       "      <th>AreaShape_Extent</th>\n",
       "      <th>...</th>\n",
       "      <th>Location_MaxIntensity_Y_c2</th>\n",
       "      <th>Location_MaxIntensity_Y_c3</th>\n",
       "      <th>Location_MaxIntensity_Y_cebp</th>\n",
       "      <th>Location_MaxIntensity_Y_dapi</th>\n",
       "      <th>Location_MaxIntensity_Z_c2</th>\n",
       "      <th>Location_MaxIntensity_Z_c3</th>\n",
       "      <th>Location_MaxIntensity_Z_cebp</th>\n",
       "      <th>Location_MaxIntensity_Z_dapi</th>\n",
       "      <th>Number_Object_Number</th>\n",
       "      <th>in_object</th>\n",
       "    </tr>\n",
       "  </thead>\n",
       "  <tbody>\n",
       "    <tr>\n",
       "      <th>0</th>\n",
       "      <td>1</td>\n",
       "      <td>1</td>\n",
       "      <td>8331</td>\n",
       "      <td>282.0</td>\n",
       "      <td>0.0</td>\n",
       "      <td>1.0</td>\n",
       "      <td>2.352487</td>\n",
       "      <td>0.968781</td>\n",
       "      <td>1.0</td>\n",
       "      <td>0.658577</td>\n",
       "      <td>...</td>\n",
       "      <td>3.0</td>\n",
       "      <td>21.0</td>\n",
       "      <td>5.0</td>\n",
       "      <td>4.0</td>\n",
       "      <td>0.0</td>\n",
       "      <td>0.0</td>\n",
       "      <td>0.0</td>\n",
       "      <td>0.0</td>\n",
       "      <td>1</td>\n",
       "      <td>0.0</td>\n",
       "    </tr>\n",
       "    <tr>\n",
       "      <th>1</th>\n",
       "      <td>1</td>\n",
       "      <td>2</td>\n",
       "      <td>49529</td>\n",
       "      <td>2043.0</td>\n",
       "      <td>89.0</td>\n",
       "      <td>1.0</td>\n",
       "      <td>1.809739</td>\n",
       "      <td>0.919641</td>\n",
       "      <td>1.0</td>\n",
       "      <td>0.578779</td>\n",
       "      <td>...</td>\n",
       "      <td>45.0</td>\n",
       "      <td>52.0</td>\n",
       "      <td>186.0</td>\n",
       "      <td>376.0</td>\n",
       "      <td>0.0</td>\n",
       "      <td>0.0</td>\n",
       "      <td>0.0</td>\n",
       "      <td>0.0</td>\n",
       "      <td>2</td>\n",
       "      <td>0.0</td>\n",
       "    </tr>\n",
       "    <tr>\n",
       "      <th>2</th>\n",
       "      <td>1</td>\n",
       "      <td>3</td>\n",
       "      <td>54217</td>\n",
       "      <td>1186.0</td>\n",
       "      <td>186.0</td>\n",
       "      <td>1.0</td>\n",
       "      <td>1.018289</td>\n",
       "      <td>0.560011</td>\n",
       "      <td>1.0</td>\n",
       "      <td>0.755912</td>\n",
       "      <td>...</td>\n",
       "      <td>226.0</td>\n",
       "      <td>291.0</td>\n",
       "      <td>213.0</td>\n",
       "      <td>226.0</td>\n",
       "      <td>0.0</td>\n",
       "      <td>0.0</td>\n",
       "      <td>0.0</td>\n",
       "      <td>0.0</td>\n",
       "      <td>3</td>\n",
       "      <td>1.0</td>\n",
       "    </tr>\n",
       "    <tr>\n",
       "      <th>3</th>\n",
       "      <td>1</td>\n",
       "      <td>4</td>\n",
       "      <td>46013</td>\n",
       "      <td>455.0</td>\n",
       "      <td>474.0</td>\n",
       "      <td>1.0</td>\n",
       "      <td>1.013055</td>\n",
       "      <td>0.511901</td>\n",
       "      <td>1.0</td>\n",
       "      <td>0.776630</td>\n",
       "      <td>...</td>\n",
       "      <td>364.0</td>\n",
       "      <td>456.0</td>\n",
       "      <td>426.0</td>\n",
       "      <td>513.0</td>\n",
       "      <td>0.0</td>\n",
       "      <td>0.0</td>\n",
       "      <td>0.0</td>\n",
       "      <td>0.0</td>\n",
       "      <td>4</td>\n",
       "      <td>1.0</td>\n",
       "    </tr>\n",
       "    <tr>\n",
       "      <th>4</th>\n",
       "      <td>1</td>\n",
       "      <td>5</td>\n",
       "      <td>38938</td>\n",
       "      <td>1336.0</td>\n",
       "      <td>473.0</td>\n",
       "      <td>1.0</td>\n",
       "      <td>1.025519</td>\n",
       "      <td>0.598589</td>\n",
       "      <td>1.0</td>\n",
       "      <td>0.749168</td>\n",
       "      <td>...</td>\n",
       "      <td>489.0</td>\n",
       "      <td>437.0</td>\n",
       "      <td>471.0</td>\n",
       "      <td>531.0</td>\n",
       "      <td>0.0</td>\n",
       "      <td>0.0</td>\n",
       "      <td>0.0</td>\n",
       "      <td>0.0</td>\n",
       "      <td>5</td>\n",
       "      <td>1.0</td>\n",
       "    </tr>\n",
       "  </tbody>\n",
       "</table>\n",
       "<p>5 rows × 110 columns</p>\n",
       "</div>"
      ],
      "text/plain": [
       "   ImageNumber  ObjectNumber  AreaShape_Area  AreaShape_Center_X  \\\n",
       "0            1             1            8331               282.0   \n",
       "1            1             2           49529              2043.0   \n",
       "2            1             3           54217              1186.0   \n",
       "3            1             4           46013               455.0   \n",
       "4            1             5           38938              1336.0   \n",
       "\n",
       "   AreaShape_Center_Y  AreaShape_Center_Z  AreaShape_Compactness  \\\n",
       "0                 0.0                 1.0               2.352487   \n",
       "1                89.0                 1.0               1.809739   \n",
       "2               186.0                 1.0               1.018289   \n",
       "3               474.0                 1.0               1.013055   \n",
       "4               473.0                 1.0               1.025519   \n",
       "\n",
       "   AreaShape_Eccentricity  AreaShape_EulerNumber  AreaShape_Extent  ...  \\\n",
       "0                0.968781                    1.0          0.658577  ...   \n",
       "1                0.919641                    1.0          0.578779  ...   \n",
       "2                0.560011                    1.0          0.755912  ...   \n",
       "3                0.511901                    1.0          0.776630  ...   \n",
       "4                0.598589                    1.0          0.749168  ...   \n",
       "\n",
       "   Location_MaxIntensity_Y_c2  Location_MaxIntensity_Y_c3  \\\n",
       "0                         3.0                        21.0   \n",
       "1                        45.0                        52.0   \n",
       "2                       226.0                       291.0   \n",
       "3                       364.0                       456.0   \n",
       "4                       489.0                       437.0   \n",
       "\n",
       "   Location_MaxIntensity_Y_cebp  Location_MaxIntensity_Y_dapi  \\\n",
       "0                           5.0                           4.0   \n",
       "1                         186.0                         376.0   \n",
       "2                         213.0                         226.0   \n",
       "3                         426.0                         513.0   \n",
       "4                         471.0                         531.0   \n",
       "\n",
       "   Location_MaxIntensity_Z_c2  Location_MaxIntensity_Z_c3  \\\n",
       "0                         0.0                         0.0   \n",
       "1                         0.0                         0.0   \n",
       "2                         0.0                         0.0   \n",
       "3                         0.0                         0.0   \n",
       "4                         0.0                         0.0   \n",
       "\n",
       "   Location_MaxIntensity_Z_cebp  Location_MaxIntensity_Z_dapi  \\\n",
       "0                           0.0                           0.0   \n",
       "1                           0.0                           0.0   \n",
       "2                           0.0                           0.0   \n",
       "3                           0.0                           0.0   \n",
       "4                           0.0                           0.0   \n",
       "\n",
       "   Number_Object_Number  in_object  \n",
       "0                     1        0.0  \n",
       "1                     2        0.0  \n",
       "2                     3        1.0  \n",
       "3                     4        1.0  \n",
       "4                     5        1.0  \n",
       "\n",
       "[5 rows x 110 columns]"
      ]
     },
     "execution_count": 14,
     "metadata": {},
     "output_type": "execute_result"
    }
   ],
   "source": [
    "df.head()"
   ]
  },
  {
   "cell_type": "code",
   "execution_count": null,
   "metadata": {},
   "outputs": [],
   "source": []
  },
  {
   "cell_type": "code",
   "execution_count": 15,
   "metadata": {},
   "outputs": [
    {
     "data": {
      "text/plain": [
       "ImageNumber                     0\n",
       "ObjectNumber                    0\n",
       "AreaShape_Area                  0\n",
       "AreaShape_Center_X              0\n",
       "AreaShape_Center_Y              0\n",
       "                               ..\n",
       "Location_MaxIntensity_Z_c3      0\n",
       "Location_MaxIntensity_Z_cebp    0\n",
       "Location_MaxIntensity_Z_dapi    0\n",
       "Number_Object_Number            0\n",
       "in_object                       0\n",
       "Length: 110, dtype: int64"
      ]
     },
     "execution_count": 15,
     "metadata": {},
     "output_type": "execute_result"
    }
   ],
   "source": [
    "'''check for missing values'''\n",
    "df.isnull().sum()"
   ]
  },
  {
   "cell_type": "code",
   "execution_count": 18,
   "metadata": {},
   "outputs": [
    {
     "data": {
      "text/plain": [
       "'If I had run into some null values then I could use the following'"
      ]
     },
     "execution_count": 18,
     "metadata": {},
     "output_type": "execute_result"
    }
   ],
   "source": [
    "'''If I had run into some null values then I could use the following'''\n",
    "#from sklearn.preprocessing import Imputer\n",
    "#imputer = Imputer(missing_values = \"NaN\", strategy = \"mean\", axis = 0)\n",
    "#imputer = imputer.fit(x[:,:])\n",
    "#x[:, 1:3] = imputer.transform(x[:, 1:3])"
   ]
  },
  {
   "cell_type": "code",
   "execution_count": 12,
   "metadata": {},
   "outputs": [
    {
     "data": {
      "text/plain": [
       "Unnamed: 0                                  int64\n",
       "AreaShape_Area                              int64\n",
       "AreaShape_Center_X                        float64\n",
       "AreaShape_Center_Y                        float64\n",
       "AreaShape_Center_Z                        float64\n",
       "AreaShape_Compactness                     float64\n",
       "AreaShape_Eccentricity                    float64\n",
       "AreaShape_EulerNumber                     float64\n",
       "AreaShape_Extent                          float64\n",
       "AreaShape_FormFactor                      float64\n",
       "AreaShape_MajorAxisLength                 float64\n",
       "AreaShape_MaxFeretDiameter                float64\n",
       "AreaShape_MaximumRadius                   float64\n",
       "AreaShape_MeanRadius                      float64\n",
       "AreaShape_MedianRadius                    float64\n",
       "AreaShape_MinFeretDiameter                float64\n",
       "AreaShape_MinorAxisLength                 float64\n",
       "AreaShape_MinorAxisLength.1               float64\n",
       "AreaShape_MinorAxisLength.2               float64\n",
       "AreaShape_MinorAxisLength.3               float64\n",
       "AreaShape_Perimeter                       float64\n",
       "AreaShape_Solidity                        float64\n",
       "Intensity_IntegratedIntensityEdge_dapi    float64\n",
       "Intensity_IntegratedIntensity_dapi        float64\n",
       "Intensity_LowerQuartileIntensity_dapi     float64\n",
       "Intensity_MADIntensity_dapi               float64\n",
       "Intensity_MassDisplacement_dapi           float64\n",
       "Intensity_MaxIntensityEdge_dapi           float64\n",
       "Intensity_MaxIntensity_dapi               float64\n",
       "Intensity_MeanIntensityEdge_dapi          float64\n",
       "Intensity_MeanIntensity_dapi              float64\n",
       "Intensity_MedianIntensity_dapi            float64\n",
       "Intensity_MinIntensityEdge_dapi           float64\n",
       "Intensity_MinIntensity_dapi               float64\n",
       "Intensity_StdIntensityEdge_dapi           float64\n",
       "Intensity_StdIntensity_dapi               float64\n",
       "Intensity_UpperQuartileIntensity_dapi     float64\n",
       "Location_CenterMassIntensity_X_dapi       float64\n",
       "Location_CenterMassIntensity_Y_dapi       float64\n",
       "Location_CenterMassIntensity_Z_dapi       float64\n",
       "Location_Center_X                         float64\n",
       "Location_Center_Y                         float64\n",
       "Location_Center_Z                           int64\n",
       "Location_MaxIntensity_X_dapi              float64\n",
       "Location_MaxIntensity_Y_dapi              float64\n",
       "Location_MaxIntensity_Z_dapi              float64\n",
       "in_object                                 float64\n",
       "dtype: object"
      ]
     },
     "execution_count": 12,
     "metadata": {},
     "output_type": "execute_result"
    }
   ],
   "source": [
    "'''check uniform data types'''\n",
    "df.dtypes"
   ]
  },
  {
   "cell_type": "code",
   "execution_count": 16,
   "metadata": {},
   "outputs": [
    {
     "data": {
      "text/plain": [
       "pandas.core.frame.DataFrame"
      ]
     },
     "execution_count": 16,
     "metadata": {},
     "output_type": "execute_result"
    }
   ],
   "source": [
    "type(x)"
   ]
  },
  {
   "cell_type": "code",
   "execution_count": 17,
   "metadata": {},
   "outputs": [
    {
     "data": {
      "text/plain": [
       "numpy.ndarray"
      ]
     },
     "execution_count": 17,
     "metadata": {},
     "output_type": "execute_result"
    }
   ],
   "source": [
    "type(x_train)"
   ]
  },
  {
   "cell_type": "code",
   "execution_count": 6,
   "metadata": {},
   "outputs": [],
   "source": [
    "'''split data into train and test sets'''\n",
    "x_train, x_test, y_train, y_test = train_test_split(x, y, test_size = .25, random_state = 12)"
   ]
  },
  {
   "cell_type": "code",
   "execution_count": 7,
   "metadata": {},
   "outputs": [],
   "source": [
    "'''this is a feature scaling step. This will standardize all of the data in order to pull everything into the same range'''\n",
    "\n",
    "sc_X = StandardScaler()\n",
    "x_train = sc_X.fit_transform(x_train)\n",
    "x_test = sc_X.transform(x_test)"
   ]
  },
  {
   "cell_type": "code",
   "execution_count": 8,
   "metadata": {},
   "outputs": [
    {
     "data": {
      "text/plain": [
       "GaussianNB(priors=None, var_smoothing=1e-09)"
      ]
     },
     "execution_count": 8,
     "metadata": {},
     "output_type": "execute_result"
    }
   ],
   "source": [
    "'''set up gaussian naive bayes model and fit it to the data'''\n",
    "model = GaussianNB()\n",
    "model.fit(x_train, y_train)"
   ]
  },
  {
   "cell_type": "code",
   "execution_count": 9,
   "metadata": {},
   "outputs": [],
   "source": [
    "'''make predictions based on the trained data'''\n",
    "y_pred = model.predict(x_test)\n"
   ]
  },
  {
   "cell_type": "code",
   "execution_count": 10,
   "metadata": {},
   "outputs": [],
   "source": [
    "accuracy = accuracy_score(y_test, y_pred)\n",
    "precision = precision_score(y_test, y_pred)\n"
   ]
  },
  {
   "cell_type": "code",
   "execution_count": 11,
   "metadata": {},
   "outputs": [
    {
     "data": {
      "text/plain": [
       "0.9042553191489362"
      ]
     },
     "execution_count": 11,
     "metadata": {},
     "output_type": "execute_result"
    }
   ],
   "source": [
    "accuracy"
   ]
  },
  {
   "cell_type": "code",
   "execution_count": 12,
   "metadata": {},
   "outputs": [
    {
     "data": {
      "text/plain": [
       "0.9607843137254902"
      ]
     },
     "execution_count": 12,
     "metadata": {},
     "output_type": "execute_result"
    }
   ],
   "source": [
    "precision"
   ]
  },
  {
   "cell_type": "code",
   "execution_count": 23,
   "metadata": {},
   "outputs": [
    {
     "data": {
      "text/plain": [
       "array([[32,  5],\n",
       "       [ 5, 52]], dtype=int64)"
      ]
     },
     "execution_count": 23,
     "metadata": {},
     "output_type": "execute_result"
    }
   ],
   "source": [
    "confusion_matrix(y_test, y_pred)"
   ]
  },
  {
   "cell_type": "markdown",
   "metadata": {},
   "source": [
    "### A little for shits and giggles I would as well to see if I can get better fit through using more categories\n",
    "\n",
    "\n",
    "### this did end up working a bit better so I think that I will use that classifier from here on. I went ahead wrote the df with the additional categories into a .csv file for future use"
   ]
  },
  {
   "cell_type": "code",
   "execution_count": 7,
   "metadata": {},
   "outputs": [],
   "source": [
    "os.chdir(r'C:\\Users\\timdaugird\\Google Drive\\legant_lab\\_projects\\200217_adipogen_zstacks\\cell_profiler_output\\dcts_output')\n",
    "df_orig = pd.read_csv('MyExpt_nuclei.csv')"
   ]
  },
  {
   "cell_type": "code",
   "execution_count": 9,
   "metadata": {},
   "outputs": [],
   "source": [
    "df_final = df_orig.loc[(df_orig.ImageNumber.isin(df_whole.ImageNumber)) & df_orig.ObjectNumber.isin(df_whole.ObjectNumber)]"
   ]
  },
  {
   "cell_type": "code",
   "execution_count": 19,
   "metadata": {},
   "outputs": [
    {
     "data": {
      "text/plain": [
       "['ImageNumber',\n",
       " 'ObjectNumber',\n",
       " 'AreaShape_Area',\n",
       " 'AreaShape_Center_X',\n",
       " 'AreaShape_Center_Y',\n",
       " 'AreaShape_Center_Z',\n",
       " 'AreaShape_Compactness',\n",
       " 'AreaShape_Eccentricity',\n",
       " 'AreaShape_EulerNumber',\n",
       " 'AreaShape_Extent',\n",
       " 'AreaShape_FormFactor',\n",
       " 'AreaShape_MajorAxisLength',\n",
       " 'AreaShape_MaxFeretDiameter',\n",
       " 'AreaShape_MaximumRadius',\n",
       " 'AreaShape_MeanRadius',\n",
       " 'AreaShape_MedianRadius',\n",
       " 'AreaShape_MinFeretDiameter',\n",
       " 'AreaShape_MinorAxisLength',\n",
       " 'AreaShape_Orientation',\n",
       " 'AreaShape_Perimeter',\n",
       " 'AreaShape_Solidity',\n",
       " 'Intensity_IntegratedIntensityEdge_c2',\n",
       " 'Intensity_IntegratedIntensityEdge_c3',\n",
       " 'Intensity_IntegratedIntensityEdge_cebp',\n",
       " 'Intensity_IntegratedIntensityEdge_dapi',\n",
       " 'Intensity_IntegratedIntensity_c2',\n",
       " 'Intensity_IntegratedIntensity_c3',\n",
       " 'Intensity_IntegratedIntensity_cebp',\n",
       " 'Intensity_IntegratedIntensity_dapi',\n",
       " 'Intensity_LowerQuartileIntensity_c2',\n",
       " 'Intensity_LowerQuartileIntensity_c3',\n",
       " 'Intensity_LowerQuartileIntensity_cebp',\n",
       " 'Intensity_LowerQuartileIntensity_dapi',\n",
       " 'Intensity_MADIntensity_c2',\n",
       " 'Intensity_MADIntensity_c3',\n",
       " 'Intensity_MADIntensity_cebp',\n",
       " 'Intensity_MADIntensity_dapi',\n",
       " 'Intensity_MassDisplacement_c2',\n",
       " 'Intensity_MassDisplacement_c3',\n",
       " 'Intensity_MassDisplacement_cebp',\n",
       " 'Intensity_MassDisplacement_dapi',\n",
       " 'Intensity_MaxIntensityEdge_c2',\n",
       " 'Intensity_MaxIntensityEdge_c3',\n",
       " 'Intensity_MaxIntensityEdge_cebp',\n",
       " 'Intensity_MaxIntensityEdge_dapi',\n",
       " 'Intensity_MaxIntensity_c2',\n",
       " 'Intensity_MaxIntensity_c3',\n",
       " 'Intensity_MaxIntensity_cebp',\n",
       " 'Intensity_MaxIntensity_dapi',\n",
       " 'Intensity_MeanIntensityEdge_c2',\n",
       " 'Intensity_MeanIntensityEdge_c3',\n",
       " 'Intensity_MeanIntensityEdge_cebp',\n",
       " 'Intensity_MeanIntensityEdge_dapi',\n",
       " 'Intensity_MeanIntensity_c2',\n",
       " 'Intensity_MeanIntensity_c3',\n",
       " 'Intensity_MeanIntensity_cebp',\n",
       " 'Intensity_MeanIntensity_dapi',\n",
       " 'Intensity_MedianIntensity_c2',\n",
       " 'Intensity_MedianIntensity_c3',\n",
       " 'Intensity_MedianIntensity_cebp',\n",
       " 'Intensity_MedianIntensity_dapi',\n",
       " 'Intensity_MinIntensityEdge_c2',\n",
       " 'Intensity_MinIntensityEdge_c3',\n",
       " 'Intensity_MinIntensityEdge_cebp',\n",
       " 'Intensity_MinIntensityEdge_dapi',\n",
       " 'Intensity_MinIntensity_c2',\n",
       " 'Intensity_MinIntensity_c3',\n",
       " 'Intensity_MinIntensity_cebp',\n",
       " 'Intensity_MinIntensity_dapi',\n",
       " 'Intensity_StdIntensityEdge_c2',\n",
       " 'Intensity_StdIntensityEdge_c3',\n",
       " 'Intensity_StdIntensityEdge_cebp',\n",
       " 'Intensity_StdIntensityEdge_dapi',\n",
       " 'Intensity_StdIntensity_c2',\n",
       " 'Intensity_StdIntensity_c3',\n",
       " 'Intensity_StdIntensity_cebp',\n",
       " 'Intensity_StdIntensity_dapi',\n",
       " 'Intensity_UpperQuartileIntensity_c2',\n",
       " 'Intensity_UpperQuartileIntensity_c3',\n",
       " 'Intensity_UpperQuartileIntensity_cebp',\n",
       " 'Intensity_UpperQuartileIntensity_dapi',\n",
       " 'Location_CenterMassIntensity_X_c2',\n",
       " 'Location_CenterMassIntensity_X_c3',\n",
       " 'Location_CenterMassIntensity_X_cebp',\n",
       " 'Location_CenterMassIntensity_X_dapi',\n",
       " 'Location_CenterMassIntensity_Y_c2',\n",
       " 'Location_CenterMassIntensity_Y_c3',\n",
       " 'Location_CenterMassIntensity_Y_cebp',\n",
       " 'Location_CenterMassIntensity_Y_dapi',\n",
       " 'Location_CenterMassIntensity_Z_c2',\n",
       " 'Location_CenterMassIntensity_Z_c3',\n",
       " 'Location_CenterMassIntensity_Z_cebp',\n",
       " 'Location_CenterMassIntensity_Z_dapi',\n",
       " 'Location_Center_X',\n",
       " 'Location_Center_Y',\n",
       " 'Location_Center_Z',\n",
       " 'Location_MaxIntensity_X_c2',\n",
       " 'Location_MaxIntensity_X_c3',\n",
       " 'Location_MaxIntensity_X_cebp',\n",
       " 'Location_MaxIntensity_X_dapi',\n",
       " 'Location_MaxIntensity_Y_c2',\n",
       " 'Location_MaxIntensity_Y_c3',\n",
       " 'Location_MaxIntensity_Y_cebp',\n",
       " 'Location_MaxIntensity_Y_dapi',\n",
       " 'Location_MaxIntensity_Z_c2',\n",
       " 'Location_MaxIntensity_Z_c3',\n",
       " 'Location_MaxIntensity_Z_cebp',\n",
       " 'Location_MaxIntensity_Z_dapi',\n",
       " 'Number_Object_Number']"
      ]
     },
     "execution_count": 19,
     "metadata": {},
     "output_type": "execute_result"
    }
   ],
   "source": [
    "list(df_final)"
   ]
  },
  {
   "cell_type": "code",
   "execution_count": 21,
   "metadata": {},
   "outputs": [
    {
     "data": {
      "text/plain": [
       "0    0.0\n",
       "1    0.0\n",
       "0    1.0\n",
       "1    1.0\n",
       "2    1.0\n",
       "    ... \n",
       "4    1.0\n",
       "0    0.0\n",
       "5    1.0\n",
       "1    0.0\n",
       "6    1.0\n",
       "Name: in_object, Length: 376, dtype: float64"
      ]
     },
     "execution_count": 21,
     "metadata": {},
     "output_type": "execute_result"
    }
   ],
   "source": [
    "in_object_array"
   ]
  },
  {
   "cell_type": "code",
   "execution_count": 22,
   "metadata": {},
   "outputs": [
    {
     "name": "stderr",
     "output_type": "stream",
     "text": [
      "C:\\Users\\timdaugird\\AppData\\Roaming\\Python\\Python37\\site-packages\\ipykernel_launcher.py:1: SettingWithCopyWarning: \n",
      "A value is trying to be set on a copy of a slice from a DataFrame\n",
      "\n",
      "See the caveats in the documentation: https://pandas.pydata.org/pandas-docs/stable/user_guide/indexing.html#returning-a-view-versus-a-copy\n",
      "  \"\"\"Entry point for launching an IPython kernel.\n",
      "C:\\Users\\timdaugird\\AppData\\Roaming\\Python\\Python37\\site-packages\\ipykernel_launcher.py:6: SettingWithCopyWarning: \n",
      "A value is trying to be set on a copy of a slice from a DataFrame.\n",
      "Try using .loc[row_indexer,col_indexer] = value instead\n",
      "\n",
      "See the caveats in the documentation: https://pandas.pydata.org/pandas-docs/stable/user_guide/indexing.html#returning-a-view-versus-a-copy\n",
      "  \n"
     ]
    }
   ],
   "source": [
    "df_final.sort_values(['ImageNumber', 'ObjectNumber'], inplace = True)\n",
    "df_whole.sort_values(['ImageNumber', 'ObjectNumber'], inplace = True)\n",
    "\n",
    "in_object_array = df_whole.in_object\n",
    "\n",
    "df_final['in_object'] = np.array(in_object_array)"
   ]
  },
  {
   "cell_type": "code",
   "execution_count": 14,
   "metadata": {},
   "outputs": [
    {
     "data": {
      "text/plain": [
       "376"
      ]
     },
     "execution_count": 14,
     "metadata": {},
     "output_type": "execute_result"
    }
   ],
   "source": [
    "len(df_whole)"
   ]
  },
  {
   "cell_type": "code",
   "execution_count": 6,
   "metadata": {},
   "outputs": [
    {
     "data": {
      "text/html": [
       "<div>\n",
       "<style scoped>\n",
       "    .dataframe tbody tr th:only-of-type {\n",
       "        vertical-align: middle;\n",
       "    }\n",
       "\n",
       "    .dataframe tbody tr th {\n",
       "        vertical-align: top;\n",
       "    }\n",
       "\n",
       "    .dataframe thead th {\n",
       "        text-align: right;\n",
       "    }\n",
       "</style>\n",
       "<table border=\"1\" class=\"dataframe\">\n",
       "  <thead>\n",
       "    <tr style=\"text-align: right;\">\n",
       "      <th></th>\n",
       "      <th>ImageNumber</th>\n",
       "      <th>ObjectNumber</th>\n",
       "      <th>AreaShape_Area</th>\n",
       "      <th>AreaShape_Center_X</th>\n",
       "      <th>AreaShape_Center_Y</th>\n",
       "      <th>AreaShape_Center_Z</th>\n",
       "      <th>AreaShape_Compactness</th>\n",
       "      <th>AreaShape_Eccentricity</th>\n",
       "      <th>AreaShape_EulerNumber</th>\n",
       "      <th>AreaShape_Extent</th>\n",
       "      <th>...</th>\n",
       "      <th>Location_MaxIntensity_X_dapi</th>\n",
       "      <th>Location_MaxIntensity_Y_c2</th>\n",
       "      <th>Location_MaxIntensity_Y_c3</th>\n",
       "      <th>Location_MaxIntensity_Y_cebp</th>\n",
       "      <th>Location_MaxIntensity_Y_dapi</th>\n",
       "      <th>Location_MaxIntensity_Z_c2</th>\n",
       "      <th>Location_MaxIntensity_Z_c3</th>\n",
       "      <th>Location_MaxIntensity_Z_cebp</th>\n",
       "      <th>Location_MaxIntensity_Z_dapi</th>\n",
       "      <th>Number_Object_Number</th>\n",
       "    </tr>\n",
       "  </thead>\n",
       "  <tbody>\n",
       "    <tr>\n",
       "      <th>0</th>\n",
       "      <td>1</td>\n",
       "      <td>1</td>\n",
       "      <td>8331</td>\n",
       "      <td>282.0</td>\n",
       "      <td>0.0</td>\n",
       "      <td>1.0</td>\n",
       "      <td>2.352487</td>\n",
       "      <td>0.968781</td>\n",
       "      <td>1.0</td>\n",
       "      <td>0.658577</td>\n",
       "      <td>...</td>\n",
       "      <td>351.0</td>\n",
       "      <td>3.0</td>\n",
       "      <td>21.0</td>\n",
       "      <td>5.0</td>\n",
       "      <td>4.0</td>\n",
       "      <td>0.0</td>\n",
       "      <td>0.0</td>\n",
       "      <td>0.0</td>\n",
       "      <td>0.0</td>\n",
       "      <td>1</td>\n",
       "    </tr>\n",
       "    <tr>\n",
       "      <th>1</th>\n",
       "      <td>1</td>\n",
       "      <td>2</td>\n",
       "      <td>49529</td>\n",
       "      <td>2043.0</td>\n",
       "      <td>89.0</td>\n",
       "      <td>1.0</td>\n",
       "      <td>1.809739</td>\n",
       "      <td>0.919641</td>\n",
       "      <td>1.0</td>\n",
       "      <td>0.578779</td>\n",
       "      <td>...</td>\n",
       "      <td>2043.0</td>\n",
       "      <td>45.0</td>\n",
       "      <td>52.0</td>\n",
       "      <td>186.0</td>\n",
       "      <td>376.0</td>\n",
       "      <td>0.0</td>\n",
       "      <td>0.0</td>\n",
       "      <td>0.0</td>\n",
       "      <td>0.0</td>\n",
       "      <td>2</td>\n",
       "    </tr>\n",
       "    <tr>\n",
       "      <th>2</th>\n",
       "      <td>1</td>\n",
       "      <td>3</td>\n",
       "      <td>54217</td>\n",
       "      <td>1186.0</td>\n",
       "      <td>186.0</td>\n",
       "      <td>1.0</td>\n",
       "      <td>1.018289</td>\n",
       "      <td>0.560011</td>\n",
       "      <td>1.0</td>\n",
       "      <td>0.755912</td>\n",
       "      <td>...</td>\n",
       "      <td>1121.0</td>\n",
       "      <td>226.0</td>\n",
       "      <td>291.0</td>\n",
       "      <td>213.0</td>\n",
       "      <td>226.0</td>\n",
       "      <td>0.0</td>\n",
       "      <td>0.0</td>\n",
       "      <td>0.0</td>\n",
       "      <td>0.0</td>\n",
       "      <td>3</td>\n",
       "    </tr>\n",
       "    <tr>\n",
       "      <th>3</th>\n",
       "      <td>1</td>\n",
       "      <td>4</td>\n",
       "      <td>46013</td>\n",
       "      <td>455.0</td>\n",
       "      <td>474.0</td>\n",
       "      <td>1.0</td>\n",
       "      <td>1.013055</td>\n",
       "      <td>0.511901</td>\n",
       "      <td>1.0</td>\n",
       "      <td>0.776630</td>\n",
       "      <td>...</td>\n",
       "      <td>511.0</td>\n",
       "      <td>364.0</td>\n",
       "      <td>456.0</td>\n",
       "      <td>426.0</td>\n",
       "      <td>513.0</td>\n",
       "      <td>0.0</td>\n",
       "      <td>0.0</td>\n",
       "      <td>0.0</td>\n",
       "      <td>0.0</td>\n",
       "      <td>4</td>\n",
       "    </tr>\n",
       "    <tr>\n",
       "      <th>4</th>\n",
       "      <td>1</td>\n",
       "      <td>5</td>\n",
       "      <td>38938</td>\n",
       "      <td>1336.0</td>\n",
       "      <td>473.0</td>\n",
       "      <td>1.0</td>\n",
       "      <td>1.025519</td>\n",
       "      <td>0.598589</td>\n",
       "      <td>1.0</td>\n",
       "      <td>0.749168</td>\n",
       "      <td>...</td>\n",
       "      <td>1286.0</td>\n",
       "      <td>489.0</td>\n",
       "      <td>437.0</td>\n",
       "      <td>471.0</td>\n",
       "      <td>531.0</td>\n",
       "      <td>0.0</td>\n",
       "      <td>0.0</td>\n",
       "      <td>0.0</td>\n",
       "      <td>0.0</td>\n",
       "      <td>5</td>\n",
       "    </tr>\n",
       "  </tbody>\n",
       "</table>\n",
       "<p>5 rows × 109 columns</p>\n",
       "</div>"
      ],
      "text/plain": [
       "   ImageNumber  ObjectNumber  AreaShape_Area  AreaShape_Center_X  \\\n",
       "0            1             1            8331               282.0   \n",
       "1            1             2           49529              2043.0   \n",
       "2            1             3           54217              1186.0   \n",
       "3            1             4           46013               455.0   \n",
       "4            1             5           38938              1336.0   \n",
       "\n",
       "   AreaShape_Center_Y  AreaShape_Center_Z  AreaShape_Compactness  \\\n",
       "0                 0.0                 1.0               2.352487   \n",
       "1                89.0                 1.0               1.809739   \n",
       "2               186.0                 1.0               1.018289   \n",
       "3               474.0                 1.0               1.013055   \n",
       "4               473.0                 1.0               1.025519   \n",
       "\n",
       "   AreaShape_Eccentricity  AreaShape_EulerNumber  AreaShape_Extent  ...  \\\n",
       "0                0.968781                    1.0          0.658577  ...   \n",
       "1                0.919641                    1.0          0.578779  ...   \n",
       "2                0.560011                    1.0          0.755912  ...   \n",
       "3                0.511901                    1.0          0.776630  ...   \n",
       "4                0.598589                    1.0          0.749168  ...   \n",
       "\n",
       "   Location_MaxIntensity_X_dapi  Location_MaxIntensity_Y_c2  \\\n",
       "0                         351.0                         3.0   \n",
       "1                        2043.0                        45.0   \n",
       "2                        1121.0                       226.0   \n",
       "3                         511.0                       364.0   \n",
       "4                        1286.0                       489.0   \n",
       "\n",
       "   Location_MaxIntensity_Y_c3  Location_MaxIntensity_Y_cebp  \\\n",
       "0                        21.0                           5.0   \n",
       "1                        52.0                         186.0   \n",
       "2                       291.0                         213.0   \n",
       "3                       456.0                         426.0   \n",
       "4                       437.0                         471.0   \n",
       "\n",
       "   Location_MaxIntensity_Y_dapi  Location_MaxIntensity_Z_c2  \\\n",
       "0                           4.0                         0.0   \n",
       "1                         376.0                         0.0   \n",
       "2                         226.0                         0.0   \n",
       "3                         513.0                         0.0   \n",
       "4                         531.0                         0.0   \n",
       "\n",
       "   Location_MaxIntensity_Z_c3  Location_MaxIntensity_Z_cebp  \\\n",
       "0                         0.0                           0.0   \n",
       "1                         0.0                           0.0   \n",
       "2                         0.0                           0.0   \n",
       "3                         0.0                           0.0   \n",
       "4                         0.0                           0.0   \n",
       "\n",
       "   Location_MaxIntensity_Z_dapi  Number_Object_Number  \n",
       "0                           0.0                     1  \n",
       "1                           0.0                     2  \n",
       "2                           0.0                     3  \n",
       "3                           0.0                     4  \n",
       "4                           0.0                     5  \n",
       "\n",
       "[5 rows x 109 columns]"
      ]
     },
     "execution_count": 6,
     "metadata": {},
     "output_type": "execute_result"
    }
   ],
   "source": [
    "df_orig.head()"
   ]
  },
  {
   "cell_type": "code",
   "execution_count": 7,
   "metadata": {},
   "outputs": [
    {
     "data": {
      "text/plain": [
       "['Unnamed: 0',\n",
       " 'ImageNumber',\n",
       " 'ObjectNumber',\n",
       " 'AreaShape_Area',\n",
       " 'AreaShape_Compactness',\n",
       " 'AreaShape_Eccentricity',\n",
       " 'AreaShape_EulerNumber',\n",
       " 'AreaShape_Extent',\n",
       " 'AreaShape_FormFactor',\n",
       " 'AreaShape_MajorAxisLength',\n",
       " 'AreaShape_MaxFeretDiameter',\n",
       " 'AreaShape_MaximumRadius',\n",
       " 'AreaShape_MeanRadius',\n",
       " 'AreaShape_MedianRadius',\n",
       " 'AreaShape_MinFeretDiameter',\n",
       " 'AreaShape_MinorAxisLength',\n",
       " 'AreaShape_Orientation',\n",
       " 'AreaShape_Perimeter',\n",
       " 'AreaShape_Solidity',\n",
       " 'in_object']"
      ]
     },
     "execution_count": 7,
     "metadata": {},
     "output_type": "execute_result"
    }
   ],
   "source": [
    "list(df_whole)"
   ]
  },
  {
   "cell_type": "code",
   "execution_count": 8,
   "metadata": {},
   "outputs": [],
   "source": [
    "'''merge the data frames'''\n",
    "\n",
    "#df_merged = pd.merge(df_orig, df_whole, on = [ 'ImageNumber',\n",
    "# 'ObjectNumber',\n",
    "# 'AreaShape_Area',\n",
    "# 'AreaShape_Compactness',\n",
    "# 'AreaShape_Eccentricity',\n",
    "# 'AreaShape_EulerNumber',\n",
    "# 'AreaShape_Extent',\n",
    "# 'AreaShape_FormFactor',\n",
    "# 'AreaShape_MajorAxisLength',\n",
    "# 'AreaShape_MaxFeretDiameter',\n",
    "# 'AreaShape_MaximumRadius',\n",
    "# 'AreaShape_MeanRadius',\n",
    "# 'AreaShape_MedianRadius',\n",
    "# 'AreaShape_MinFeretDiameter',\n",
    "# 'AreaShape_MinorAxisLength',\n",
    "# 'AreaShape_Orientation',\n",
    "# 'AreaShape_Perimeter',\n",
    "# 'AreaShape_Solidity',], how = 'inner')"
   ]
  },
  {
   "cell_type": "code",
   "execution_count": 7,
   "metadata": {},
   "outputs": [],
   "source": [
    "df_merged = pd.merge(df_orig, df_whole, on = [ 'ImageNumber', 'ObjectNumber'], how = 'inner')"
   ]
  },
  {
   "cell_type": "code",
   "execution_count": 8,
   "metadata": {},
   "outputs": [
    {
     "data": {
      "text/plain": [
       "['ImageNumber',\n",
       " 'ObjectNumber',\n",
       " 'AreaShape_Area_x',\n",
       " 'AreaShape_Center_X',\n",
       " 'AreaShape_Center_Y',\n",
       " 'AreaShape_Center_Z',\n",
       " 'AreaShape_Compactness_x',\n",
       " 'AreaShape_Eccentricity_x',\n",
       " 'AreaShape_EulerNumber_x',\n",
       " 'AreaShape_Extent_x',\n",
       " 'AreaShape_FormFactor_x',\n",
       " 'AreaShape_MajorAxisLength_x',\n",
       " 'AreaShape_MaxFeretDiameter_x',\n",
       " 'AreaShape_MaximumRadius_x',\n",
       " 'AreaShape_MeanRadius_x',\n",
       " 'AreaShape_MedianRadius_x',\n",
       " 'AreaShape_MinFeretDiameter_x',\n",
       " 'AreaShape_MinorAxisLength_x',\n",
       " 'AreaShape_Orientation_x',\n",
       " 'AreaShape_Perimeter_x',\n",
       " 'AreaShape_Solidity_x',\n",
       " 'Intensity_IntegratedIntensityEdge_c2',\n",
       " 'Intensity_IntegratedIntensityEdge_c3',\n",
       " 'Intensity_IntegratedIntensityEdge_cebp',\n",
       " 'Intensity_IntegratedIntensityEdge_dapi',\n",
       " 'Intensity_IntegratedIntensity_c2',\n",
       " 'Intensity_IntegratedIntensity_c3',\n",
       " 'Intensity_IntegratedIntensity_cebp',\n",
       " 'Intensity_IntegratedIntensity_dapi',\n",
       " 'Intensity_LowerQuartileIntensity_c2',\n",
       " 'Intensity_LowerQuartileIntensity_c3',\n",
       " 'Intensity_LowerQuartileIntensity_cebp',\n",
       " 'Intensity_LowerQuartileIntensity_dapi',\n",
       " 'Intensity_MADIntensity_c2',\n",
       " 'Intensity_MADIntensity_c3',\n",
       " 'Intensity_MADIntensity_cebp',\n",
       " 'Intensity_MADIntensity_dapi',\n",
       " 'Intensity_MassDisplacement_c2',\n",
       " 'Intensity_MassDisplacement_c3',\n",
       " 'Intensity_MassDisplacement_cebp',\n",
       " 'Intensity_MassDisplacement_dapi',\n",
       " 'Intensity_MaxIntensityEdge_c2',\n",
       " 'Intensity_MaxIntensityEdge_c3',\n",
       " 'Intensity_MaxIntensityEdge_cebp',\n",
       " 'Intensity_MaxIntensityEdge_dapi',\n",
       " 'Intensity_MaxIntensity_c2',\n",
       " 'Intensity_MaxIntensity_c3',\n",
       " 'Intensity_MaxIntensity_cebp',\n",
       " 'Intensity_MaxIntensity_dapi',\n",
       " 'Intensity_MeanIntensityEdge_c2',\n",
       " 'Intensity_MeanIntensityEdge_c3',\n",
       " 'Intensity_MeanIntensityEdge_cebp',\n",
       " 'Intensity_MeanIntensityEdge_dapi',\n",
       " 'Intensity_MeanIntensity_c2',\n",
       " 'Intensity_MeanIntensity_c3',\n",
       " 'Intensity_MeanIntensity_cebp',\n",
       " 'Intensity_MeanIntensity_dapi',\n",
       " 'Intensity_MedianIntensity_c2',\n",
       " 'Intensity_MedianIntensity_c3',\n",
       " 'Intensity_MedianIntensity_cebp',\n",
       " 'Intensity_MedianIntensity_dapi',\n",
       " 'Intensity_MinIntensityEdge_c2',\n",
       " 'Intensity_MinIntensityEdge_c3',\n",
       " 'Intensity_MinIntensityEdge_cebp',\n",
       " 'Intensity_MinIntensityEdge_dapi',\n",
       " 'Intensity_MinIntensity_c2',\n",
       " 'Intensity_MinIntensity_c3',\n",
       " 'Intensity_MinIntensity_cebp',\n",
       " 'Intensity_MinIntensity_dapi',\n",
       " 'Intensity_StdIntensityEdge_c2',\n",
       " 'Intensity_StdIntensityEdge_c3',\n",
       " 'Intensity_StdIntensityEdge_cebp',\n",
       " 'Intensity_StdIntensityEdge_dapi',\n",
       " 'Intensity_StdIntensity_c2',\n",
       " 'Intensity_StdIntensity_c3',\n",
       " 'Intensity_StdIntensity_cebp',\n",
       " 'Intensity_StdIntensity_dapi',\n",
       " 'Intensity_UpperQuartileIntensity_c2',\n",
       " 'Intensity_UpperQuartileIntensity_c3',\n",
       " 'Intensity_UpperQuartileIntensity_cebp',\n",
       " 'Intensity_UpperQuartileIntensity_dapi',\n",
       " 'Location_CenterMassIntensity_X_c2',\n",
       " 'Location_CenterMassIntensity_X_c3',\n",
       " 'Location_CenterMassIntensity_X_cebp',\n",
       " 'Location_CenterMassIntensity_X_dapi',\n",
       " 'Location_CenterMassIntensity_Y_c2',\n",
       " 'Location_CenterMassIntensity_Y_c3',\n",
       " 'Location_CenterMassIntensity_Y_cebp',\n",
       " 'Location_CenterMassIntensity_Y_dapi',\n",
       " 'Location_CenterMassIntensity_Z_c2',\n",
       " 'Location_CenterMassIntensity_Z_c3',\n",
       " 'Location_CenterMassIntensity_Z_cebp',\n",
       " 'Location_CenterMassIntensity_Z_dapi',\n",
       " 'Location_Center_X',\n",
       " 'Location_Center_Y',\n",
       " 'Location_Center_Z',\n",
       " 'Location_MaxIntensity_X_c2',\n",
       " 'Location_MaxIntensity_X_c3',\n",
       " 'Location_MaxIntensity_X_cebp',\n",
       " 'Location_MaxIntensity_X_dapi',\n",
       " 'Location_MaxIntensity_Y_c2',\n",
       " 'Location_MaxIntensity_Y_c3',\n",
       " 'Location_MaxIntensity_Y_cebp',\n",
       " 'Location_MaxIntensity_Y_dapi',\n",
       " 'Location_MaxIntensity_Z_c2',\n",
       " 'Location_MaxIntensity_Z_c3',\n",
       " 'Location_MaxIntensity_Z_cebp',\n",
       " 'Location_MaxIntensity_Z_dapi',\n",
       " 'Number_Object_Number',\n",
       " 'Unnamed: 0',\n",
       " 'AreaShape_Area_y',\n",
       " 'AreaShape_Compactness_y',\n",
       " 'AreaShape_Eccentricity_y',\n",
       " 'AreaShape_EulerNumber_y',\n",
       " 'AreaShape_Extent_y',\n",
       " 'AreaShape_FormFactor_y',\n",
       " 'AreaShape_MajorAxisLength_y',\n",
       " 'AreaShape_MaxFeretDiameter_y',\n",
       " 'AreaShape_MaximumRadius_y',\n",
       " 'AreaShape_MeanRadius_y',\n",
       " 'AreaShape_MedianRadius_y',\n",
       " 'AreaShape_MinFeretDiameter_y',\n",
       " 'AreaShape_MinorAxisLength_y',\n",
       " 'AreaShape_Orientation_y',\n",
       " 'AreaShape_Perimeter_y',\n",
       " 'AreaShape_Solidity_y',\n",
       " 'in_object']"
      ]
     },
     "execution_count": 8,
     "metadata": {},
     "output_type": "execute_result"
    }
   ],
   "source": [
    "list(df_merged)"
   ]
  },
  {
   "cell_type": "code",
   "execution_count": 9,
   "metadata": {},
   "outputs": [
    {
     "data": {
      "text/plain": [
       "0      True\n",
       "1      True\n",
       "2      True\n",
       "3      True\n",
       "4      True\n",
       "       ... \n",
       "371    True\n",
       "372    True\n",
       "373    True\n",
       "374    True\n",
       "375    True\n",
       "Length: 376, dtype: bool"
      ]
     },
     "execution_count": 9,
     "metadata": {},
     "output_type": "execute_result"
    }
   ],
   "source": [
    "df_merged['AreaShape_Area_x'] == df_merged['AreaShape_Area_y']"
   ]
  },
  {
   "cell_type": "code",
   "execution_count": 10,
   "metadata": {},
   "outputs": [
    {
     "data": {
      "text/plain": [
       "376"
      ]
     },
     "execution_count": 10,
     "metadata": {},
     "output_type": "execute_result"
    }
   ],
   "source": [
    "len(df_whole)"
   ]
  },
  {
   "cell_type": "markdown",
   "metadata": {},
   "source": [
    "### right now a couple of the categories are duplicated so I will need to take care of that"
   ]
  },
  {
   "cell_type": "code",
   "execution_count": 31,
   "metadata": {},
   "outputs": [
    {
     "data": {
      "text/plain": [
       "['ImageNumber',\n",
       " 'ObjectNumber',\n",
       " 'AreaShape_Area_x',\n",
       " 'AreaShape_Center_X',\n",
       " 'AreaShape_Center_Y',\n",
       " 'AreaShape_Center_Z',\n",
       " 'AreaShape_Compactness_x',\n",
       " 'AreaShape_Eccentricity_x',\n",
       " 'AreaShape_EulerNumber_x',\n",
       " 'AreaShape_Extent_x',\n",
       " 'AreaShape_FormFactor_x',\n",
       " 'AreaShape_MajorAxisLength_x',\n",
       " 'AreaShape_MaxFeretDiameter_x',\n",
       " 'AreaShape_MaximumRadius_x',\n",
       " 'AreaShape_MeanRadius_x',\n",
       " 'AreaShape_MedianRadius_x',\n",
       " 'AreaShape_MinFeretDiameter_x',\n",
       " 'AreaShape_MinorAxisLength_x',\n",
       " 'AreaShape_Orientation_x',\n",
       " 'AreaShape_Perimeter_x',\n",
       " 'AreaShape_Solidity_x',\n",
       " 'Intensity_IntegratedIntensityEdge_c2',\n",
       " 'Intensity_IntegratedIntensityEdge_c3',\n",
       " 'Intensity_IntegratedIntensityEdge_cebp',\n",
       " 'Intensity_IntegratedIntensityEdge_dapi',\n",
       " 'Intensity_IntegratedIntensity_c2',\n",
       " 'Intensity_IntegratedIntensity_c3',\n",
       " 'Intensity_IntegratedIntensity_cebp',\n",
       " 'Intensity_IntegratedIntensity_dapi',\n",
       " 'Intensity_LowerQuartileIntensity_c2',\n",
       " 'Intensity_LowerQuartileIntensity_c3',\n",
       " 'Intensity_LowerQuartileIntensity_cebp',\n",
       " 'Intensity_LowerQuartileIntensity_dapi',\n",
       " 'Intensity_MADIntensity_c2',\n",
       " 'Intensity_MADIntensity_c3',\n",
       " 'Intensity_MADIntensity_cebp',\n",
       " 'Intensity_MADIntensity_dapi',\n",
       " 'Intensity_MassDisplacement_c2',\n",
       " 'Intensity_MassDisplacement_c3',\n",
       " 'Intensity_MassDisplacement_cebp',\n",
       " 'Intensity_MassDisplacement_dapi',\n",
       " 'Intensity_MaxIntensityEdge_c2',\n",
       " 'Intensity_MaxIntensityEdge_c3',\n",
       " 'Intensity_MaxIntensityEdge_cebp',\n",
       " 'Intensity_MaxIntensityEdge_dapi',\n",
       " 'Intensity_MaxIntensity_c2',\n",
       " 'Intensity_MaxIntensity_c3',\n",
       " 'Intensity_MaxIntensity_cebp',\n",
       " 'Intensity_MaxIntensity_dapi',\n",
       " 'Intensity_MeanIntensityEdge_c2',\n",
       " 'Intensity_MeanIntensityEdge_c3',\n",
       " 'Intensity_MeanIntensityEdge_cebp',\n",
       " 'Intensity_MeanIntensityEdge_dapi',\n",
       " 'Intensity_MeanIntensity_c2',\n",
       " 'Intensity_MeanIntensity_c3',\n",
       " 'Intensity_MeanIntensity_cebp',\n",
       " 'Intensity_MeanIntensity_dapi',\n",
       " 'Intensity_MedianIntensity_c2',\n",
       " 'Intensity_MedianIntensity_c3',\n",
       " 'Intensity_MedianIntensity_cebp',\n",
       " 'Intensity_MedianIntensity_dapi',\n",
       " 'Intensity_MinIntensityEdge_c2',\n",
       " 'Intensity_MinIntensityEdge_c3',\n",
       " 'Intensity_MinIntensityEdge_cebp',\n",
       " 'Intensity_MinIntensityEdge_dapi',\n",
       " 'Intensity_MinIntensity_c2',\n",
       " 'Intensity_MinIntensity_c3',\n",
       " 'Intensity_MinIntensity_cebp',\n",
       " 'Intensity_MinIntensity_dapi',\n",
       " 'Intensity_StdIntensityEdge_c2',\n",
       " 'Intensity_StdIntensityEdge_c3',\n",
       " 'Intensity_StdIntensityEdge_cebp',\n",
       " 'Intensity_StdIntensityEdge_dapi',\n",
       " 'Intensity_StdIntensity_c2',\n",
       " 'Intensity_StdIntensity_c3',\n",
       " 'Intensity_StdIntensity_cebp',\n",
       " 'Intensity_StdIntensity_dapi',\n",
       " 'Intensity_UpperQuartileIntensity_c2',\n",
       " 'Intensity_UpperQuartileIntensity_c3',\n",
       " 'Intensity_UpperQuartileIntensity_cebp',\n",
       " 'Intensity_UpperQuartileIntensity_dapi',\n",
       " 'Location_CenterMassIntensity_X_c2',\n",
       " 'Location_CenterMassIntensity_X_c3',\n",
       " 'Location_CenterMassIntensity_X_cebp',\n",
       " 'Location_CenterMassIntensity_X_dapi',\n",
       " 'Location_CenterMassIntensity_Y_c2',\n",
       " 'Location_CenterMassIntensity_Y_c3',\n",
       " 'Location_CenterMassIntensity_Y_cebp',\n",
       " 'Location_CenterMassIntensity_Y_dapi',\n",
       " 'Location_CenterMassIntensity_Z_c2',\n",
       " 'Location_CenterMassIntensity_Z_c3',\n",
       " 'Location_CenterMassIntensity_Z_cebp',\n",
       " 'Location_CenterMassIntensity_Z_dapi',\n",
       " 'Location_Center_X',\n",
       " 'Location_Center_Y',\n",
       " 'Location_Center_Z',\n",
       " 'Location_MaxIntensity_X_c2',\n",
       " 'Location_MaxIntensity_X_c3',\n",
       " 'Location_MaxIntensity_X_cebp',\n",
       " 'Location_MaxIntensity_X_dapi',\n",
       " 'Location_MaxIntensity_Y_c2',\n",
       " 'Location_MaxIntensity_Y_c3',\n",
       " 'Location_MaxIntensity_Y_cebp',\n",
       " 'Location_MaxIntensity_Y_dapi',\n",
       " 'Location_MaxIntensity_Z_c2',\n",
       " 'Location_MaxIntensity_Z_c3',\n",
       " 'Location_MaxIntensity_Z_cebp',\n",
       " 'Location_MaxIntensity_Z_dapi',\n",
       " 'Number_Object_Number',\n",
       " 'Unnamed: 0',\n",
       " 'AreaShape_Area_y',\n",
       " 'AreaShape_Compactness_y',\n",
       " 'AreaShape_Eccentricity_y',\n",
       " 'AreaShape_EulerNumber_y',\n",
       " 'AreaShape_Extent_y',\n",
       " 'AreaShape_FormFactor_y',\n",
       " 'AreaShape_MajorAxisLength_y',\n",
       " 'AreaShape_MaxFeretDiameter_y',\n",
       " 'AreaShape_MaximumRadius_y',\n",
       " 'AreaShape_MeanRadius_y',\n",
       " 'AreaShape_MedianRadius_y',\n",
       " 'AreaShape_MinFeretDiameter_y',\n",
       " 'AreaShape_MinorAxisLength_y',\n",
       " 'AreaShape_Orientation_y',\n",
       " 'AreaShape_Perimeter_y',\n",
       " 'AreaShape_Solidity_y',\n",
       " 'in_object']"
      ]
     },
     "execution_count": 31,
     "metadata": {},
     "output_type": "execute_result"
    }
   ],
   "source": [
    "list(df_merged)"
   ]
  },
  {
   "cell_type": "code",
   "execution_count": null,
   "metadata": {},
   "outputs": [],
   "source": []
  },
  {
   "cell_type": "code",
   "execution_count": null,
   "metadata": {},
   "outputs": [],
   "source": []
  },
  {
   "cell_type": "code",
   "execution_count": 10,
   "metadata": {},
   "outputs": [],
   "source": [
    "cats_to_keep = ['ImageNumber',\n",
    " 'ObjectNumber',\n",
    " 'AreaShape_Area_x',\n",
    " 'AreaShape_Center_X',\n",
    " 'AreaShape_Center_Y',\n",
    " 'AreaShape_Center_Z',\n",
    " 'AreaShape_Compactness_x',\n",
    " 'AreaShape_Eccentricity_x',\n",
    " 'AreaShape_EulerNumber_x',\n",
    " 'AreaShape_Extent_x',\n",
    " 'AreaShape_FormFactor_x',\n",
    " 'AreaShape_MajorAxisLength_x',\n",
    " 'AreaShape_MaxFeretDiameter_x',\n",
    " 'AreaShape_MaximumRadius_x',\n",
    " 'AreaShape_MeanRadius_x',\n",
    " 'AreaShape_MedianRadius_x',\n",
    " 'AreaShape_MinFeretDiameter_x',\n",
    " 'AreaShape_MinorAxisLength_x',\n",
    " 'AreaShape_Orientation_x',\n",
    " 'AreaShape_Perimeter_x',\n",
    " 'AreaShape_Solidity_x',\n",
    " 'Intensity_IntegratedIntensityEdge_dapi',\n",
    " 'Intensity_IntegratedIntensity_dapi',\n",
    " 'Intensity_LowerQuartileIntensity_dapi',\n",
    " 'Intensity_MADIntensity_dapi',\n",
    " 'Intensity_MassDisplacement_dapi',\n",
    " 'Intensity_MaxIntensityEdge_dapi',\n",
    " 'Intensity_MaxIntensity_dapi',\n",
    " 'Intensity_MeanIntensityEdge_dapi',\n",
    " 'Intensity_MeanIntensity_dapi',\n",
    " 'Intensity_MedianIntensity_dapi',\n",
    " 'Intensity_MinIntensityEdge_dapi',\n",
    " 'Intensity_MinIntensity_dapi',\n",
    " 'Intensity_StdIntensityEdge_dapi',\n",
    " 'Intensity_StdIntensity_dapi',\n",
    " 'Intensity_UpperQuartileIntensity_dapi',\n",
    " 'Location_CenterMassIntensity_X_dapi',\n",
    " 'Location_CenterMassIntensity_Y_dapi',\n",
    " 'Location_CenterMassIntensity_Z_dapi',\n",
    " 'Location_Center_X',\n",
    " 'Location_Center_Y',\n",
    " 'Location_Center_Z',\n",
    " 'Location_MaxIntensity_X_dapi',\n",
    " 'Location_MaxIntensity_Y_dapi',\n",
    " 'Location_MaxIntensity_Z_dapi',\n",
    "               'in_object']"
   ]
  },
  {
   "cell_type": "code",
   "execution_count": 23,
   "metadata": {},
   "outputs": [],
   "source": [
    "cats_to_keep = ['ImageNumber',\n",
    " 'ObjectNumber',\n",
    " 'AreaShape_Area',\n",
    " 'AreaShape_Center_X',\n",
    " 'AreaShape_Center_Y',\n",
    " 'AreaShape_Center_Z',\n",
    " 'AreaShape_Compactness',\n",
    " 'AreaShape_Eccentricity',\n",
    " 'AreaShape_EulerNumber',\n",
    " 'AreaShape_Extent',\n",
    " 'AreaShape_FormFactor',\n",
    " 'AreaShape_MajorAxisLength',\n",
    " 'AreaShape_MaxFeretDiameter',\n",
    " 'AreaShape_MaximumRadius',\n",
    " 'AreaShape_MeanRadius',\n",
    " 'AreaShape_MedianRadius',\n",
    " 'AreaShape_MinFeretDiameter',\n",
    " 'AreaShape_MinorAxisLength',\n",
    " 'AreaShape_Orientation',\n",
    " 'AreaShape_Perimeter',\n",
    " 'AreaShape_Solidity',\n",
    " 'Intensity_IntegratedIntensityEdge_dapi',\n",
    " 'Intensity_IntegratedIntensity_dapi',\n",
    " 'Intensity_LowerQuartileIntensity_dapi',\n",
    " 'Intensity_MADIntensity_dapi',\n",
    " 'Intensity_MassDisplacement_dapi',\n",
    " 'Intensity_MaxIntensityEdge_dapi',\n",
    " 'Intensity_MaxIntensity_dapi',\n",
    " 'Intensity_MeanIntensityEdge_dapi',\n",
    " 'Intensity_MeanIntensity_dapi',\n",
    " 'Intensity_MedianIntensity_dapi',\n",
    " 'Intensity_MinIntensityEdge_dapi',\n",
    " 'Intensity_MinIntensity_dapi',\n",
    " 'Intensity_StdIntensityEdge_dapi',\n",
    " 'Intensity_StdIntensity_dapi',\n",
    " 'Intensity_UpperQuartileIntensity_dapi',\n",
    " 'Location_CenterMassIntensity_X_dapi',\n",
    " 'Location_CenterMassIntensity_Y_dapi',\n",
    " 'Location_CenterMassIntensity_Z_dapi',\n",
    " 'Location_Center_X',\n",
    " 'Location_Center_Y',\n",
    " 'Location_Center_Z',\n",
    " 'Location_MaxIntensity_X_dapi',\n",
    " 'Location_MaxIntensity_Y_dapi',\n",
    " 'Location_MaxIntensity_Z_dapi',\n",
    "               'in_object']"
   ]
  },
  {
   "cell_type": "code",
   "execution_count": 24,
   "metadata": {},
   "outputs": [],
   "source": [
    "df_jnk = df_final[cats_to_keep]"
   ]
  },
  {
   "cell_type": "markdown",
   "metadata": {},
   "source": [
    "### I would like to clean up the feature names in the .csv file so that it makes future stuff a bit easier"
   ]
  },
  {
   "cell_type": "code",
   "execution_count": 17,
   "metadata": {},
   "outputs": [
    {
     "data": {
      "text/plain": [
       "['ImageNumber',\n",
       " 'ObjectNumber',\n",
       " 'AreaShape_Area_x',\n",
       " 'AreaShape_Center_X',\n",
       " 'AreaShape_Center_Y',\n",
       " 'AreaShape_Center_Z',\n",
       " 'AreaShape_Compactness_x',\n",
       " 'AreaShape_Eccentricity_x',\n",
       " 'AreaShape_EulerNumber_x',\n",
       " 'AreaShape_Extent_x',\n",
       " 'AreaShape_FormFactor_x',\n",
       " 'AreaShape_MajorAxisLength_x',\n",
       " 'AreaShape_MaxFeretDiameter_x',\n",
       " 'AreaShape_MaximumRadius_x',\n",
       " 'AreaShape_MeanRadius_x',\n",
       " 'AreaShape_MedianRadius_x',\n",
       " 'AreaShape_MinFeretDiameter_x',\n",
       " 'AreaShape_MinorAxisLength_x',\n",
       " 'AreaShape_Orientation_x',\n",
       " 'AreaShape_Perimeter_x',\n",
       " 'AreaShape_Solidity_x',\n",
       " 'Intensity_IntegratedIntensityEdge_dapi',\n",
       " 'Intensity_IntegratedIntensity_dapi',\n",
       " 'Intensity_LowerQuartileIntensity_dapi',\n",
       " 'Intensity_MADIntensity_dapi',\n",
       " 'Intensity_MassDisplacement_dapi',\n",
       " 'Intensity_MaxIntensityEdge_dapi',\n",
       " 'Intensity_MaxIntensity_dapi',\n",
       " 'Intensity_MeanIntensityEdge_dapi',\n",
       " 'Intensity_MeanIntensity_dapi',\n",
       " 'Intensity_MedianIntensity_dapi',\n",
       " 'Intensity_MinIntensityEdge_dapi',\n",
       " 'Intensity_MinIntensity_dapi',\n",
       " 'Intensity_StdIntensityEdge_dapi',\n",
       " 'Intensity_StdIntensity_dapi',\n",
       " 'Intensity_UpperQuartileIntensity_dapi',\n",
       " 'Location_CenterMassIntensity_X_dapi',\n",
       " 'Location_CenterMassIntensity_Y_dapi',\n",
       " 'Location_CenterMassIntensity_Z_dapi',\n",
       " 'Location_Center_X',\n",
       " 'Location_Center_Y',\n",
       " 'Location_Center_Z',\n",
       " 'Location_MaxIntensity_X_dapi',\n",
       " 'Location_MaxIntensity_Y_dapi',\n",
       " 'Location_MaxIntensity_Z_dapi',\n",
       " 'in_object']"
      ]
     },
     "execution_count": 17,
     "metadata": {},
     "output_type": "execute_result"
    }
   ],
   "source": [
    "list(df_jnk)"
   ]
  },
  {
   "cell_type": "code",
   "execution_count": null,
   "metadata": {},
   "outputs": [],
   "source": []
  },
  {
   "cell_type": "code",
   "execution_count": 34,
   "metadata": {},
   "outputs": [],
   "source": [
    "cat_renames = ['Unnamed: 0',\n",
    " 'AreaShape_Area',\n",
    " 'AreaShape_Center_X',\n",
    " 'AreaShape_Center_Y',\n",
    " 'AreaShape_Center_Z',\n",
    " 'AreaShape_Compactness',\n",
    " 'AreaShape_Eccentricity',\n",
    " 'AreaShape_EulerNumber',\n",
    " 'AreaShape_Extent',\n",
    " 'AreaShape_FormFactor',\n",
    " 'AreaShape_MajorAxisLength',\n",
    " 'AreaShape_MaxFeretDiameter',\n",
    " 'AreaShape_MaximumRadius',\n",
    " 'AreaShape_MeanRadius',\n",
    " 'AreaShape_MedianRadius',\n",
    " 'AreaShape_MinFeretDiameter',\n",
    " 'AreaShape_MinorAxisLength',\n",
    " 'AreaShape_Orientation',\n",
    " 'AreaShape_Perimeter',\n",
    " 'AreaShape_Solidity',\n",
    " 'Intensity_IntegratedIntensityEdge_dapi',\n",
    " 'Intensity_IntegratedIntensity_dapi',\n",
    " 'Intensity_LowerQuartileIntensity_dapi',\n",
    " 'Intensity_MADIntensity_dapi',\n",
    " 'Intensity_MassDisplacement_dapi',\n",
    " 'Intensity_MaxIntensityEdge_dapi',\n",
    " 'Intensity_MaxIntensity_dapi',\n",
    " 'Intensity_MeanIntensityEdge_dapi',\n",
    " 'Intensity_MeanIntensity_dapi',\n",
    " 'Intensity_MedianIntensity_dapi',\n",
    " 'Intensity_MinIntensityEdge_dapi',\n",
    " 'Intensity_MinIntensity_dapi',\n",
    " 'Intensity_StdIntensityEdge_dapi',\n",
    " 'Intensity_StdIntensity_dapi',\n",
    " 'Intensity_UpperQuartileIntensity_dapi',\n",
    " 'Location_CenterMassIntensity_X_dapi',\n",
    " 'Location_CenterMassIntensity_Y_dapi',\n",
    " 'Location_CenterMassIntensity_Z_dapi',\n",
    " 'Location_Center_X',\n",
    " 'Location_Center_Y',\n",
    " 'Location_Center_Z',\n",
    " 'Location_MaxIntensity_X_dapi',\n",
    " 'Location_MaxIntensity_Y_dapi',\n",
    " 'Location_MaxIntensity_Z_dapi',\n",
    " 'in_object']"
   ]
  },
  {
   "cell_type": "code",
   "execution_count": 18,
   "metadata": {},
   "outputs": [],
   "source": [
    "'''I need to create a dictionary for renaming things'''\n",
    "rename_dict = {}\n",
    "\n",
    "orig_names_lst = [ 'AreaShape_Area_x',\n",
    " 'AreaShape_Center_X',\n",
    " 'AreaShape_Center_Y',\n",
    " 'AreaShape_Center_Z',\n",
    " 'AreaShape_Compactness_x',\n",
    " 'AreaShape_Eccentricity_x',\n",
    " 'AreaShape_EulerNumber_x',\n",
    " 'AreaShape_Extent_x',\n",
    " 'AreaShape_FormFactor_x',\n",
    " 'AreaShape_MajorAxisLength_x',\n",
    " 'AreaShape_MaxFeretDiameter_x',\n",
    " 'AreaShape_MaximumRadius_x',\n",
    " 'AreaShape_MeanRadius_x',\n",
    " 'AreaShape_MedianRadius_x',\n",
    " 'AreaShape_MinFeretDiameter_x',\n",
    " 'AreaShape_MinorAxisLength_x',\n",
    " 'AreaShape_Orientation_x',\n",
    " 'AreaShape_Perimeter_x',\n",
    " 'AreaShape_Solidity_x']\n",
    "\n",
    "for i in orig_names_lst:\n",
    "    rename_dict.update({i : i[:-2]})"
   ]
  },
  {
   "cell_type": "code",
   "execution_count": 35,
   "metadata": {},
   "outputs": [
    {
     "data": {
      "text/plain": [
       "{'AreaShape_Area_x': 'AreaShape_Area',\n",
       " 'AreaShape_Center_X': 'AreaShape_Center',\n",
       " 'AreaShape_Center_Y': 'AreaShape_Center',\n",
       " 'AreaShape_Center_Z': 'AreaShape_Center',\n",
       " 'AreaShape_Compactness_x': 'AreaShape_Compactness',\n",
       " 'AreaShape_Eccentricity_x': 'AreaShape_Eccentricity',\n",
       " 'AreaShape_EulerNumber_x': 'AreaShape_EulerNumber',\n",
       " 'AreaShape_Extent_x': 'AreaShape_Extent',\n",
       " 'AreaShape_FormFactor_x': 'AreaShape_FormFactor',\n",
       " 'AreaShape_MajorAxisLength_x': 'AreaShape_MajorAxisLength',\n",
       " 'AreaShape_MaxFeretDiameter_x': 'AreaShape_MaxFeretDiameter',\n",
       " 'AreaShape_MaximumRadius_x': 'AreaShape_MaximumRadius',\n",
       " 'AreaShape_MeanRadius_x': 'AreaShape_MeanRadius',\n",
       " 'AreaShape_MedianRadius_x': 'AreaShape_MedianRadius',\n",
       " 'AreaShape_MinFeretDiameter_x': 'AreaShape_MinFeretDiameter',\n",
       " 'AreaShape_MinorAxisLength_x': 'AreaShape_MinorAxisLength',\n",
       " 'AreaShape_Orientation_x': 'AreaShape_Orientation',\n",
       " 'AreaShape_Perimeter_x': 'AreaShape_Perimeter',\n",
       " 'AreaShape_Solidity_x': 'AreaShape_Solidity'}"
      ]
     },
     "execution_count": 35,
     "metadata": {},
     "output_type": "execute_result"
    }
   ],
   "source": [
    "rename_dict"
   ]
  },
  {
   "cell_type": "code",
   "execution_count": 19,
   "metadata": {},
   "outputs": [],
   "source": [
    "df_final = df_jnk.rename(columns = rename_dict)"
   ]
  },
  {
   "cell_type": "code",
   "execution_count": 21,
   "metadata": {},
   "outputs": [
    {
     "data": {
      "text/plain": [
       "['ImageNumber',\n",
       " 'ObjectNumber',\n",
       " 'AreaShape_Area',\n",
       " 'AreaShape_Center',\n",
       " 'AreaShape_Center',\n",
       " 'AreaShape_Center',\n",
       " 'AreaShape_Compactness',\n",
       " 'AreaShape_Eccentricity',\n",
       " 'AreaShape_EulerNumber',\n",
       " 'AreaShape_Extent',\n",
       " 'AreaShape_FormFactor',\n",
       " 'AreaShape_MajorAxisLength',\n",
       " 'AreaShape_MaxFeretDiameter',\n",
       " 'AreaShape_MaximumRadius',\n",
       " 'AreaShape_MeanRadius',\n",
       " 'AreaShape_MedianRadius',\n",
       " 'AreaShape_MinFeretDiameter',\n",
       " 'AreaShape_MinorAxisLength',\n",
       " 'AreaShape_Orientation',\n",
       " 'AreaShape_Perimeter',\n",
       " 'AreaShape_Solidity',\n",
       " 'Intensity_IntegratedIntensityEdge_dapi',\n",
       " 'Intensity_IntegratedIntensity_dapi',\n",
       " 'Intensity_LowerQuartileIntensity_dapi',\n",
       " 'Intensity_MADIntensity_dapi',\n",
       " 'Intensity_MassDisplacement_dapi',\n",
       " 'Intensity_MaxIntensityEdge_dapi',\n",
       " 'Intensity_MaxIntensity_dapi',\n",
       " 'Intensity_MeanIntensityEdge_dapi',\n",
       " 'Intensity_MeanIntensity_dapi',\n",
       " 'Intensity_MedianIntensity_dapi',\n",
       " 'Intensity_MinIntensityEdge_dapi',\n",
       " 'Intensity_MinIntensity_dapi',\n",
       " 'Intensity_StdIntensityEdge_dapi',\n",
       " 'Intensity_StdIntensity_dapi',\n",
       " 'Intensity_UpperQuartileIntensity_dapi',\n",
       " 'Location_CenterMassIntensity_X_dapi',\n",
       " 'Location_CenterMassIntensity_Y_dapi',\n",
       " 'Location_CenterMassIntensity_Z_dapi',\n",
       " 'Location_Center_X',\n",
       " 'Location_Center_Y',\n",
       " 'Location_Center_Z',\n",
       " 'Location_MaxIntensity_X_dapi',\n",
       " 'Location_MaxIntensity_Y_dapi',\n",
       " 'Location_MaxIntensity_Z_dapi',\n",
       " 'in_object']"
      ]
     },
     "execution_count": 21,
     "metadata": {},
     "output_type": "execute_result"
    }
   ],
   "source": [
    "list(df_final)"
   ]
  },
  {
   "cell_type": "code",
   "execution_count": 25,
   "metadata": {},
   "outputs": [
    {
     "data": {
      "text/plain": [
       "376"
      ]
     },
     "execution_count": 25,
     "metadata": {},
     "output_type": "execute_result"
    }
   ],
   "source": [
    "len(df_jnk)"
   ]
  },
  {
   "cell_type": "code",
   "execution_count": 37,
   "metadata": {},
   "outputs": [],
   "source": [
    "df_whole = df_whole[[ 'AreaShape_Area',\n",
    " 'AreaShape_Center_X',\n",
    " 'AreaShape_Center_Y',\n",
    " 'AreaShape_Center_Z',\n",
    " 'AreaShape_Compactness',\n",
    " 'AreaShape_Eccentricity',\n",
    " 'AreaShape_EulerNumber',\n",
    " 'AreaShape_Extent',\n",
    " 'AreaShape_FormFactor',\n",
    " 'AreaShape_MajorAxisLength',\n",
    " 'AreaShape_MaxFeretDiameter',\n",
    " 'AreaShape_MaximumRadius',\n",
    " 'AreaShape_MeanRadius',\n",
    " 'AreaShape_MedianRadius',\n",
    " 'AreaShape_MinFeretDiameter',\n",
    " 'AreaShape_MinorAxisLength',\n",
    " 'AreaShape_MinorAxisLength',\n",
    " 'AreaShape_Perimeter',\n",
    " 'AreaShape_Solidity',\n",
    " 'Intensity_IntegratedIntensityEdge_dapi',\n",
    " 'Intensity_IntegratedIntensity_dapi',\n",
    " 'Intensity_LowerQuartileIntensity_dapi',\n",
    " 'Intensity_MADIntensity_dapi',\n",
    " 'Intensity_MassDisplacement_dapi',\n",
    " 'Intensity_MaxIntensityEdge_dapi',\n",
    " 'Intensity_MaxIntensity_dapi',\n",
    " 'Intensity_MeanIntensityEdge_dapi',\n",
    " 'Intensity_MeanIntensity_dapi',\n",
    " 'Intensity_MedianIntensity_dapi',\n",
    " 'Intensity_MinIntensityEdge_dapi',\n",
    " 'Intensity_MinIntensity_dapi',\n",
    " 'Intensity_StdIntensityEdge_dapi',\n",
    " 'Intensity_StdIntensity_dapi',\n",
    " 'Intensity_UpperQuartileIntensity_dapi',\n",
    " 'Location_CenterMassIntensity_X_dapi',\n",
    " 'Location_CenterMassIntensity_Y_dapi',\n",
    " 'Location_CenterMassIntensity_Z_dapi',\n",
    " 'Location_Center_X',\n",
    " 'Location_Center_Y',\n",
    " 'Location_Center_Z',\n",
    " 'Location_MaxIntensity_X_dapi',\n",
    " 'Location_MaxIntensity_Y_dapi',\n",
    " 'Location_MaxIntensity_Z_dapi',\n",
    " 'in_object']]"
   ]
  },
  {
   "cell_type": "code",
   "execution_count": 38,
   "metadata": {},
   "outputs": [
    {
     "data": {
      "text/plain": [
       "['AreaShape_Area',\n",
       " 'AreaShape_Center_X',\n",
       " 'AreaShape_Center_Y',\n",
       " 'AreaShape_Center_Z',\n",
       " 'AreaShape_Compactness',\n",
       " 'AreaShape_Eccentricity',\n",
       " 'AreaShape_EulerNumber',\n",
       " 'AreaShape_Extent',\n",
       " 'AreaShape_FormFactor',\n",
       " 'AreaShape_MajorAxisLength',\n",
       " 'AreaShape_MaxFeretDiameter',\n",
       " 'AreaShape_MaximumRadius',\n",
       " 'AreaShape_MeanRadius',\n",
       " 'AreaShape_MedianRadius',\n",
       " 'AreaShape_MinFeretDiameter',\n",
       " 'AreaShape_MinorAxisLength',\n",
       " 'AreaShape_MinorAxisLength',\n",
       " 'AreaShape_MinorAxisLength',\n",
       " 'AreaShape_MinorAxisLength',\n",
       " 'AreaShape_Perimeter',\n",
       " 'AreaShape_Solidity',\n",
       " 'Intensity_IntegratedIntensityEdge_dapi',\n",
       " 'Intensity_IntegratedIntensity_dapi',\n",
       " 'Intensity_LowerQuartileIntensity_dapi',\n",
       " 'Intensity_MADIntensity_dapi',\n",
       " 'Intensity_MassDisplacement_dapi',\n",
       " 'Intensity_MaxIntensityEdge_dapi',\n",
       " 'Intensity_MaxIntensity_dapi',\n",
       " 'Intensity_MeanIntensityEdge_dapi',\n",
       " 'Intensity_MeanIntensity_dapi',\n",
       " 'Intensity_MedianIntensity_dapi',\n",
       " 'Intensity_MinIntensityEdge_dapi',\n",
       " 'Intensity_MinIntensity_dapi',\n",
       " 'Intensity_StdIntensityEdge_dapi',\n",
       " 'Intensity_StdIntensity_dapi',\n",
       " 'Intensity_UpperQuartileIntensity_dapi',\n",
       " 'Location_CenterMassIntensity_X_dapi',\n",
       " 'Location_CenterMassIntensity_Y_dapi',\n",
       " 'Location_CenterMassIntensity_Z_dapi',\n",
       " 'Location_Center_X',\n",
       " 'Location_Center_Y',\n",
       " 'Location_Center_Z',\n",
       " 'Location_MaxIntensity_X_dapi',\n",
       " 'Location_MaxIntensity_Y_dapi',\n",
       " 'Location_MaxIntensity_Z_dapi',\n",
       " 'in_object']"
      ]
     },
     "execution_count": 38,
     "metadata": {},
     "output_type": "execute_result"
    }
   ],
   "source": [
    "list(df_whole)"
   ]
  },
  {
   "cell_type": "code",
   "execution_count": 25,
   "metadata": {},
   "outputs": [],
   "source": [
    "os.chdir(r'C:\\Users\\timdaugird\\Google Drive\\legant_lab\\_projects\\200217_adipogen_zstacks\\cell_profiler_output\\dcts_output')"
   ]
  },
  {
   "cell_type": "code",
   "execution_count": 26,
   "metadata": {},
   "outputs": [],
   "source": [
    "df_final.to_csv('data_for_nb_training.csv')"
   ]
  },
  {
   "cell_type": "code",
   "execution_count": 25,
   "metadata": {},
   "outputs": [
    {
     "data": {
      "text/html": [
       "<div>\n",
       "<style scoped>\n",
       "    .dataframe tbody tr th:only-of-type {\n",
       "        vertical-align: middle;\n",
       "    }\n",
       "\n",
       "    .dataframe tbody tr th {\n",
       "        vertical-align: top;\n",
       "    }\n",
       "\n",
       "    .dataframe thead th {\n",
       "        text-align: right;\n",
       "    }\n",
       "</style>\n",
       "<table border=\"1\" class=\"dataframe\">\n",
       "  <thead>\n",
       "    <tr style=\"text-align: right;\">\n",
       "      <th></th>\n",
       "      <th>ImageNumber</th>\n",
       "      <th>ObjectNumber</th>\n",
       "      <th>AreaShape_Area</th>\n",
       "      <th>AreaShape_Center</th>\n",
       "      <th>AreaShape_Center</th>\n",
       "      <th>AreaShape_Center</th>\n",
       "      <th>AreaShape_Compactness</th>\n",
       "      <th>AreaShape_Eccentricity</th>\n",
       "      <th>AreaShape_EulerNumber</th>\n",
       "      <th>AreaShape_Extent</th>\n",
       "      <th>...</th>\n",
       "      <th>Location_CenterMassIntensity_X_dapi</th>\n",
       "      <th>Location_CenterMassIntensity_Y_dapi</th>\n",
       "      <th>Location_CenterMassIntensity_Z_dapi</th>\n",
       "      <th>Location_Center_X</th>\n",
       "      <th>Location_Center_Y</th>\n",
       "      <th>Location_Center_Z</th>\n",
       "      <th>Location_MaxIntensity_X_dapi</th>\n",
       "      <th>Location_MaxIntensity_Y_dapi</th>\n",
       "      <th>Location_MaxIntensity_Z_dapi</th>\n",
       "      <th>in_object</th>\n",
       "    </tr>\n",
       "  </thead>\n",
       "  <tbody>\n",
       "    <tr>\n",
       "      <th>0</th>\n",
       "      <td>1</td>\n",
       "      <td>1</td>\n",
       "      <td>8331</td>\n",
       "      <td>282.0</td>\n",
       "      <td>0.0</td>\n",
       "      <td>1.0</td>\n",
       "      <td>2.352487</td>\n",
       "      <td>0.968781</td>\n",
       "      <td>1.0</td>\n",
       "      <td>0.658577</td>\n",
       "      <td>...</td>\n",
       "      <td>280.604103</td>\n",
       "      <td>18.974834</td>\n",
       "      <td>0.0</td>\n",
       "      <td>279.505582</td>\n",
       "      <td>20.227464</td>\n",
       "      <td>0</td>\n",
       "      <td>351.0</td>\n",
       "      <td>4.0</td>\n",
       "      <td>0.0</td>\n",
       "      <td>0.0</td>\n",
       "    </tr>\n",
       "    <tr>\n",
       "      <th>1</th>\n",
       "      <td>1</td>\n",
       "      <td>2</td>\n",
       "      <td>49529</td>\n",
       "      <td>2043.0</td>\n",
       "      <td>89.0</td>\n",
       "      <td>1.0</td>\n",
       "      <td>1.809739</td>\n",
       "      <td>0.919641</td>\n",
       "      <td>1.0</td>\n",
       "      <td>0.578779</td>\n",
       "      <td>...</td>\n",
       "      <td>1976.412703</td>\n",
       "      <td>155.525121</td>\n",
       "      <td>0.0</td>\n",
       "      <td>1972.332613</td>\n",
       "      <td>160.861556</td>\n",
       "      <td>0</td>\n",
       "      <td>2043.0</td>\n",
       "      <td>376.0</td>\n",
       "      <td>0.0</td>\n",
       "      <td>0.0</td>\n",
       "    </tr>\n",
       "    <tr>\n",
       "      <th>2</th>\n",
       "      <td>1</td>\n",
       "      <td>3</td>\n",
       "      <td>54217</td>\n",
       "      <td>1186.0</td>\n",
       "      <td>186.0</td>\n",
       "      <td>1.0</td>\n",
       "      <td>1.018289</td>\n",
       "      <td>0.560011</td>\n",
       "      <td>1.0</td>\n",
       "      <td>0.755912</td>\n",
       "      <td>...</td>\n",
       "      <td>1184.478240</td>\n",
       "      <td>188.679428</td>\n",
       "      <td>0.0</td>\n",
       "      <td>1185.255252</td>\n",
       "      <td>186.132394</td>\n",
       "      <td>0</td>\n",
       "      <td>1121.0</td>\n",
       "      <td>226.0</td>\n",
       "      <td>0.0</td>\n",
       "      <td>1.0</td>\n",
       "    </tr>\n",
       "    <tr>\n",
       "      <th>3</th>\n",
       "      <td>1</td>\n",
       "      <td>4</td>\n",
       "      <td>46013</td>\n",
       "      <td>455.0</td>\n",
       "      <td>474.0</td>\n",
       "      <td>1.0</td>\n",
       "      <td>1.013055</td>\n",
       "      <td>0.511901</td>\n",
       "      <td>1.0</td>\n",
       "      <td>0.776630</td>\n",
       "      <td>...</td>\n",
       "      <td>457.863619</td>\n",
       "      <td>470.246954</td>\n",
       "      <td>0.0</td>\n",
       "      <td>457.088214</td>\n",
       "      <td>468.432573</td>\n",
       "      <td>0</td>\n",
       "      <td>511.0</td>\n",
       "      <td>513.0</td>\n",
       "      <td>0.0</td>\n",
       "      <td>1.0</td>\n",
       "    </tr>\n",
       "    <tr>\n",
       "      <th>4</th>\n",
       "      <td>1</td>\n",
       "      <td>5</td>\n",
       "      <td>38938</td>\n",
       "      <td>1336.0</td>\n",
       "      <td>473.0</td>\n",
       "      <td>1.0</td>\n",
       "      <td>1.025519</td>\n",
       "      <td>0.598589</td>\n",
       "      <td>1.0</td>\n",
       "      <td>0.749168</td>\n",
       "      <td>...</td>\n",
       "      <td>1346.701876</td>\n",
       "      <td>470.424959</td>\n",
       "      <td>0.0</td>\n",
       "      <td>1344.709461</td>\n",
       "      <td>465.271765</td>\n",
       "      <td>0</td>\n",
       "      <td>1286.0</td>\n",
       "      <td>531.0</td>\n",
       "      <td>0.0</td>\n",
       "      <td>1.0</td>\n",
       "    </tr>\n",
       "  </tbody>\n",
       "</table>\n",
       "<p>5 rows × 46 columns</p>\n",
       "</div>"
      ],
      "text/plain": [
       "   ImageNumber  ObjectNumber  AreaShape_Area  AreaShape_Center  \\\n",
       "0            1             1            8331             282.0   \n",
       "1            1             2           49529            2043.0   \n",
       "2            1             3           54217            1186.0   \n",
       "3            1             4           46013             455.0   \n",
       "4            1             5           38938            1336.0   \n",
       "\n",
       "   AreaShape_Center  AreaShape_Center  AreaShape_Compactness  \\\n",
       "0               0.0               1.0               2.352487   \n",
       "1              89.0               1.0               1.809739   \n",
       "2             186.0               1.0               1.018289   \n",
       "3             474.0               1.0               1.013055   \n",
       "4             473.0               1.0               1.025519   \n",
       "\n",
       "   AreaShape_Eccentricity  AreaShape_EulerNumber  AreaShape_Extent  ...  \\\n",
       "0                0.968781                    1.0          0.658577  ...   \n",
       "1                0.919641                    1.0          0.578779  ...   \n",
       "2                0.560011                    1.0          0.755912  ...   \n",
       "3                0.511901                    1.0          0.776630  ...   \n",
       "4                0.598589                    1.0          0.749168  ...   \n",
       "\n",
       "   Location_CenterMassIntensity_X_dapi  Location_CenterMassIntensity_Y_dapi  \\\n",
       "0                           280.604103                            18.974834   \n",
       "1                          1976.412703                           155.525121   \n",
       "2                          1184.478240                           188.679428   \n",
       "3                           457.863619                           470.246954   \n",
       "4                          1346.701876                           470.424959   \n",
       "\n",
       "   Location_CenterMassIntensity_Z_dapi  Location_Center_X  Location_Center_Y  \\\n",
       "0                                  0.0         279.505582          20.227464   \n",
       "1                                  0.0        1972.332613         160.861556   \n",
       "2                                  0.0        1185.255252         186.132394   \n",
       "3                                  0.0         457.088214         468.432573   \n",
       "4                                  0.0        1344.709461         465.271765   \n",
       "\n",
       "   Location_Center_Z  Location_MaxIntensity_X_dapi  \\\n",
       "0                  0                         351.0   \n",
       "1                  0                        2043.0   \n",
       "2                  0                        1121.0   \n",
       "3                  0                         511.0   \n",
       "4                  0                        1286.0   \n",
       "\n",
       "   Location_MaxIntensity_Y_dapi  Location_MaxIntensity_Z_dapi  in_object  \n",
       "0                           4.0                           0.0        0.0  \n",
       "1                         376.0                           0.0        0.0  \n",
       "2                         226.0                           0.0        1.0  \n",
       "3                         513.0                           0.0        1.0  \n",
       "4                         531.0                           0.0        1.0  \n",
       "\n",
       "[5 rows x 46 columns]"
      ]
     },
     "execution_count": 25,
     "metadata": {},
     "output_type": "execute_result"
    }
   ],
   "source": [
    "df_final.head()"
   ]
  },
  {
   "cell_type": "code",
   "execution_count": 39,
   "metadata": {},
   "outputs": [
    {
     "data": {
      "text/plain": [
       "376"
      ]
     },
     "execution_count": 39,
     "metadata": {},
     "output_type": "execute_result"
    }
   ],
   "source": [
    "len(df_jnk)"
   ]
  },
  {
   "cell_type": "code",
   "execution_count": null,
   "metadata": {},
   "outputs": [],
   "source": []
  },
  {
   "cell_type": "code",
   "execution_count": null,
   "metadata": {},
   "outputs": [],
   "source": []
  },
  {
   "cell_type": "markdown",
   "metadata": {},
   "source": [
    "### I would as well like to figure out if this classifier is doing better than just my original cutoffs:\n",
    "area > 20000\n",
    "eccentricity > .55"
   ]
  },
  {
   "cell_type": "code",
   "execution_count": 36,
   "metadata": {},
   "outputs": [],
   "source": [
    "'''make a df according to original parameters'''\n",
    "df_parsed = df_whole.loc[df_whole.AreaShape_Area > 20000]\n",
    "df_parsed = df_parsed.loc[df_parsed.AreaShape_Eccentricity > .55]\n",
    "'''make the opposite dataframe'''\n",
    "df_unparsed = df_whole[~df_whole.isin(df_parsed)].dropna()"
   ]
  },
  {
   "cell_type": "code",
   "execution_count": 52,
   "metadata": {},
   "outputs": [
    {
     "data": {
      "text/plain": [
       "46.0"
      ]
     },
     "execution_count": 52,
     "metadata": {},
     "output_type": "execute_result"
    }
   ],
   "source": [
    "'''determing the false positive'''\n",
    "fp = np.sum(np.subtract(np.ones(len(df_parsed)), df_parsed.in_object)) #false positive\n",
    "fp"
   ]
  },
  {
   "cell_type": "code",
   "execution_count": 54,
   "metadata": {},
   "outputs": [
    {
     "data": {
      "text/plain": [
       "115.0"
      ]
     },
     "execution_count": 54,
     "metadata": {},
     "output_type": "execute_result"
    }
   ],
   "source": [
    "'''determine false negatives'''\n",
    "fn = np.sum(df_unparsed.in_object)\n",
    "fn"
   ]
  },
  {
   "cell_type": "code",
   "execution_count": 51,
   "metadata": {},
   "outputs": [
    {
     "data": {
      "text/plain": [
       "0.5718085106382979"
      ]
     },
     "execution_count": 51,
     "metadata": {},
     "output_type": "execute_result"
    }
   ],
   "source": [
    "'''first thing will be to figure out accuracy according to tp + tn / tp + tn + fp + fn'''\n",
    "one_array = np.ones(len(df_parsed))\n",
    "tp = np.sum(df_parsed.in_object) # true positives\n",
    "tn = np.sum(np.subtract(np.ones(len(df_unparsed)), df_unparsed.in_object)) #true negatives basically this is summation of all of the zeros\n",
    "accur = (tp + tn) / (tp + tn + fp + fn)\n",
    "accur"
   ]
  },
  {
   "cell_type": "code",
   "execution_count": 50,
   "metadata": {},
   "outputs": [
    {
     "data": {
      "text/plain": [
       "0.7051282051282052"
      ]
     },
     "execution_count": 50,
     "metadata": {},
     "output_type": "execute_result"
    }
   ],
   "source": [
    "tp / (tp + fp)"
   ]
  },
  {
   "cell_type": "code",
   "execution_count": 43,
   "metadata": {},
   "outputs": [
    {
     "data": {
      "text/plain": [
       "110.0"
      ]
     },
     "execution_count": 43,
     "metadata": {},
     "output_type": "execute_result"
    }
   ],
   "source": [
    "tp #true positive"
   ]
  },
  {
   "cell_type": "code",
   "execution_count": 44,
   "metadata": {},
   "outputs": [
    {
     "data": {
      "text/plain": [
       "105.0"
      ]
     },
     "execution_count": 44,
     "metadata": {},
     "output_type": "execute_result"
    }
   ],
   "source": [
    "tn #true negative"
   ]
  },
  {
   "cell_type": "code",
   "execution_count": 48,
   "metadata": {},
   "outputs": [
    {
     "data": {
      "text/plain": [
       "46.0"
      ]
     },
     "execution_count": 48,
     "metadata": {},
     "output_type": "execute_result"
    }
   ],
   "source": []
  },
  {
   "cell_type": "code",
   "execution_count": 49,
   "metadata": {},
   "outputs": [
    {
     "data": {
      "text/plain": [
       "115.0"
      ]
     },
     "execution_count": 49,
     "metadata": {},
     "output_type": "execute_result"
    }
   ],
   "source": []
  },
  {
   "cell_type": "code",
   "execution_count": null,
   "metadata": {},
   "outputs": [],
   "source": [
    "tp / (tp + )"
   ]
  },
  {
   "cell_type": "code",
   "execution_count": 27,
   "metadata": {},
   "outputs": [
    {
     "data": {
      "text/html": [
       "<div>\n",
       "<style scoped>\n",
       "    .dataframe tbody tr th:only-of-type {\n",
       "        vertical-align: middle;\n",
       "    }\n",
       "\n",
       "    .dataframe tbody tr th {\n",
       "        vertical-align: top;\n",
       "    }\n",
       "\n",
       "    .dataframe thead th {\n",
       "        text-align: right;\n",
       "    }\n",
       "</style>\n",
       "<table border=\"1\" class=\"dataframe\">\n",
       "  <thead>\n",
       "    <tr style=\"text-align: right;\">\n",
       "      <th></th>\n",
       "      <th>Unnamed: 0</th>\n",
       "      <th>AreaShape_Area_x</th>\n",
       "      <th>AreaShape_Center_X</th>\n",
       "      <th>AreaShape_Center_Y</th>\n",
       "      <th>AreaShape_Center_Z</th>\n",
       "      <th>AreaShape_Compactness_x</th>\n",
       "      <th>AreaShape_Eccentricity_x</th>\n",
       "      <th>AreaShape_EulerNumber_x</th>\n",
       "      <th>AreaShape_Extent_x</th>\n",
       "      <th>AreaShape_FormFactor_x</th>\n",
       "      <th>...</th>\n",
       "      <th>Location_CenterMassIntensity_X_dapi</th>\n",
       "      <th>Location_CenterMassIntensity_Y_dapi</th>\n",
       "      <th>Location_CenterMassIntensity_Z_dapi</th>\n",
       "      <th>Location_Center_X</th>\n",
       "      <th>Location_Center_Y</th>\n",
       "      <th>Location_Center_Z</th>\n",
       "      <th>Location_MaxIntensity_X_dapi</th>\n",
       "      <th>Location_MaxIntensity_Y_dapi</th>\n",
       "      <th>Location_MaxIntensity_Z_dapi</th>\n",
       "      <th>in_object</th>\n",
       "    </tr>\n",
       "  </thead>\n",
       "  <tbody>\n",
       "    <tr>\n",
       "      <th>0</th>\n",
       "      <td>2</td>\n",
       "      <td>54217</td>\n",
       "      <td>1186.0</td>\n",
       "      <td>186.0</td>\n",
       "      <td>1.0</td>\n",
       "      <td>1.018289</td>\n",
       "      <td>0.560011</td>\n",
       "      <td>1.0</td>\n",
       "      <td>0.755912</td>\n",
       "      <td>0.883736</td>\n",
       "      <td>...</td>\n",
       "      <td>1184.478240</td>\n",
       "      <td>188.679428</td>\n",
       "      <td>0.0</td>\n",
       "      <td>1185.255252</td>\n",
       "      <td>186.132394</td>\n",
       "      <td>0</td>\n",
       "      <td>1121.0</td>\n",
       "      <td>226.0</td>\n",
       "      <td>0.0</td>\n",
       "      <td>1.0</td>\n",
       "    </tr>\n",
       "    <tr>\n",
       "      <th>1</th>\n",
       "      <td>3</td>\n",
       "      <td>46013</td>\n",
       "      <td>455.0</td>\n",
       "      <td>474.0</td>\n",
       "      <td>1.0</td>\n",
       "      <td>1.013055</td>\n",
       "      <td>0.511901</td>\n",
       "      <td>1.0</td>\n",
       "      <td>0.776630</td>\n",
       "      <td>0.879143</td>\n",
       "      <td>...</td>\n",
       "      <td>457.863619</td>\n",
       "      <td>470.246954</td>\n",
       "      <td>0.0</td>\n",
       "      <td>457.088214</td>\n",
       "      <td>468.432573</td>\n",
       "      <td>0</td>\n",
       "      <td>511.0</td>\n",
       "      <td>513.0</td>\n",
       "      <td>0.0</td>\n",
       "      <td>1.0</td>\n",
       "    </tr>\n",
       "    <tr>\n",
       "      <th>2</th>\n",
       "      <td>4</td>\n",
       "      <td>38938</td>\n",
       "      <td>1336.0</td>\n",
       "      <td>473.0</td>\n",
       "      <td>1.0</td>\n",
       "      <td>1.025519</td>\n",
       "      <td>0.598589</td>\n",
       "      <td>1.0</td>\n",
       "      <td>0.749168</td>\n",
       "      <td>0.878855</td>\n",
       "      <td>...</td>\n",
       "      <td>1346.701876</td>\n",
       "      <td>470.424959</td>\n",
       "      <td>0.0</td>\n",
       "      <td>1344.709461</td>\n",
       "      <td>465.271765</td>\n",
       "      <td>0</td>\n",
       "      <td>1286.0</td>\n",
       "      <td>531.0</td>\n",
       "      <td>0.0</td>\n",
       "      <td>1.0</td>\n",
       "    </tr>\n",
       "    <tr>\n",
       "      <th>3</th>\n",
       "      <td>5</td>\n",
       "      <td>37143</td>\n",
       "      <td>1638.0</td>\n",
       "      <td>603.0</td>\n",
       "      <td>1.0</td>\n",
       "      <td>1.001414</td>\n",
       "      <td>0.195747</td>\n",
       "      <td>1.0</td>\n",
       "      <td>0.789051</td>\n",
       "      <td>0.893726</td>\n",
       "      <td>...</td>\n",
       "      <td>1638.702575</td>\n",
       "      <td>602.238092</td>\n",
       "      <td>0.0</td>\n",
       "      <td>1639.836362</td>\n",
       "      <td>603.160676</td>\n",
       "      <td>0</td>\n",
       "      <td>1589.0</td>\n",
       "      <td>640.0</td>\n",
       "      <td>0.0</td>\n",
       "      <td>1.0</td>\n",
       "    </tr>\n",
       "    <tr>\n",
       "      <th>4</th>\n",
       "      <td>6</td>\n",
       "      <td>41741</td>\n",
       "      <td>1129.0</td>\n",
       "      <td>702.0</td>\n",
       "      <td>1.0</td>\n",
       "      <td>1.015753</td>\n",
       "      <td>0.543809</td>\n",
       "      <td>1.0</td>\n",
       "      <td>0.774416</td>\n",
       "      <td>0.881953</td>\n",
       "      <td>...</td>\n",
       "      <td>1134.320520</td>\n",
       "      <td>703.623501</td>\n",
       "      <td>0.0</td>\n",
       "      <td>1134.146163</td>\n",
       "      <td>703.708320</td>\n",
       "      <td>0</td>\n",
       "      <td>1204.0</td>\n",
       "      <td>739.0</td>\n",
       "      <td>0.0</td>\n",
       "      <td>1.0</td>\n",
       "    </tr>\n",
       "  </tbody>\n",
       "</table>\n",
       "<p>5 rows × 45 columns</p>\n",
       "</div>"
      ],
      "text/plain": [
       "   Unnamed: 0  AreaShape_Area_x  AreaShape_Center_X  AreaShape_Center_Y  \\\n",
       "0           2             54217              1186.0               186.0   \n",
       "1           3             46013               455.0               474.0   \n",
       "2           4             38938              1336.0               473.0   \n",
       "3           5             37143              1638.0               603.0   \n",
       "4           6             41741              1129.0               702.0   \n",
       "\n",
       "   AreaShape_Center_Z  AreaShape_Compactness_x  AreaShape_Eccentricity_x  \\\n",
       "0                 1.0                 1.018289                  0.560011   \n",
       "1                 1.0                 1.013055                  0.511901   \n",
       "2                 1.0                 1.025519                  0.598589   \n",
       "3                 1.0                 1.001414                  0.195747   \n",
       "4                 1.0                 1.015753                  0.543809   \n",
       "\n",
       "   AreaShape_EulerNumber_x  AreaShape_Extent_x  AreaShape_FormFactor_x  ...  \\\n",
       "0                      1.0            0.755912                0.883736  ...   \n",
       "1                      1.0            0.776630                0.879143  ...   \n",
       "2                      1.0            0.749168                0.878855  ...   \n",
       "3                      1.0            0.789051                0.893726  ...   \n",
       "4                      1.0            0.774416                0.881953  ...   \n",
       "\n",
       "   Location_CenterMassIntensity_X_dapi  Location_CenterMassIntensity_Y_dapi  \\\n",
       "0                          1184.478240                           188.679428   \n",
       "1                           457.863619                           470.246954   \n",
       "2                          1346.701876                           470.424959   \n",
       "3                          1638.702575                           602.238092   \n",
       "4                          1134.320520                           703.623501   \n",
       "\n",
       "   Location_CenterMassIntensity_Z_dapi  Location_Center_X  Location_Center_Y  \\\n",
       "0                                  0.0        1185.255252         186.132394   \n",
       "1                                  0.0         457.088214         468.432573   \n",
       "2                                  0.0        1344.709461         465.271765   \n",
       "3                                  0.0        1639.836362         603.160676   \n",
       "4                                  0.0        1134.146163         703.708320   \n",
       "\n",
       "   Location_Center_Z  Location_MaxIntensity_X_dapi  \\\n",
       "0                  0                        1121.0   \n",
       "1                  0                         511.0   \n",
       "2                  0                        1286.0   \n",
       "3                  0                        1589.0   \n",
       "4                  0                        1204.0   \n",
       "\n",
       "   Location_MaxIntensity_Y_dapi  Location_MaxIntensity_Z_dapi  in_object  \n",
       "0                         226.0                           0.0        1.0  \n",
       "1                         513.0                           0.0        1.0  \n",
       "2                         531.0                           0.0        1.0  \n",
       "3                         640.0                           0.0        1.0  \n",
       "4                         739.0                           0.0        1.0  \n",
       "\n",
       "[5 rows x 45 columns]"
      ]
     },
     "execution_count": 27,
     "metadata": {},
     "output_type": "execute_result"
    }
   ],
   "source": [
    "df_whole.head()"
   ]
  },
  {
   "cell_type": "code",
   "execution_count": null,
   "metadata": {},
   "outputs": [],
   "source": [
    "df_parsed = df_whole.loc[df.AreaShape_Area_x]"
   ]
  },
  {
   "cell_type": "code",
   "execution_count": null,
   "metadata": {},
   "outputs": [],
   "source": []
  },
  {
   "cell_type": "code",
   "execution_count": null,
   "metadata": {},
   "outputs": [],
   "source": []
  },
  {
   "cell_type": "code",
   "execution_count": null,
   "metadata": {},
   "outputs": [],
   "source": []
  },
  {
   "cell_type": "code",
   "execution_count": null,
   "metadata": {},
   "outputs": [],
   "source": []
  },
  {
   "cell_type": "code",
   "execution_count": null,
   "metadata": {},
   "outputs": [],
   "source": []
  },
  {
   "cell_type": "code",
   "execution_count": null,
   "metadata": {},
   "outputs": [],
   "source": []
  },
  {
   "cell_type": "code",
   "execution_count": null,
   "metadata": {},
   "outputs": [],
   "source": []
  },
  {
   "cell_type": "code",
   "execution_count": null,
   "metadata": {},
   "outputs": [],
   "source": []
  },
  {
   "cell_type": "markdown",
   "metadata": {},
   "source": [
    "### the rest is some bullshit that I had to trudge through in before figuring out just how easy this actually was. It was one of those moments where I got frustrated thinking that it shouldn't be so hard to do something. Turns out it was not anywhere near as hard as I was making it out to be"
   ]
  },
  {
   "cell_type": "code",
   "execution_count": null,
   "metadata": {},
   "outputs": [],
   "source": [
    "train_cats = ['AreaShape_Area',\n",
    " 'AreaShape_Compactness',\n",
    " 'AreaShape_Eccentricity',\n",
    " 'AreaShape_EulerNumber',\n",
    " 'AreaShape_Extent',\n",
    " 'AreaShape_FormFactor',\n",
    " 'AreaShape_MajorAxisLength',\n",
    " 'AreaShape_MaxFeretDiameter',\n",
    " 'AreaShape_MaximumRadius',\n",
    " 'AreaShape_MeanRadius',\n",
    " 'AreaShape_MedianRadius',\n",
    " 'AreaShape_MinFeretDiameter',\n",
    " 'AreaShape_MinorAxisLength',\n",
    " 'AreaShape_Orientation',\n",
    " 'AreaShape_Perimeter',\n",
    " 'AreaShape_Solidity']"
   ]
  },
  {
   "cell_type": "code",
   "execution_count": 67,
   "metadata": {},
   "outputs": [],
   "source": [
    "from sklearn.datasets import load_iris"
   ]
  },
  {
   "cell_type": "code",
   "execution_count": 81,
   "metadata": {},
   "outputs": [],
   "source": [
    "train_data = np.array([np.array(df[train_cats[0]]),\n",
    "                       np.array(df[train_cats[1]]),\n",
    "                       np.array(df[train_cats[2]]),\n",
    "                       np.array(df[train_cats[3]]),\n",
    "                       np.array(df[train_cats[4]]),\n",
    "                       np.array(df[train_cats[5]]),\n",
    "                       np.array(df[train_cats[6]]),\n",
    "                       np.array(df[train_cats[7]]),\n",
    "                       np.array(df[train_cats[8]]),\n",
    "                       np.array(df[train_cats[9]]),\n",
    "                       np.array(df[train_cats[10]]),\n",
    "                       np.array(df[train_cats[11]]),\n",
    "                       np.array(df[train_cats[12]]),\n",
    "                       np.array(df[train_cats[13]]),\n",
    "                       np.array(df[train_cats[14]]),\n",
    "                       np.array(df[train_cats[15]])])\n"
   ]
  },
  {
   "cell_type": "code",
   "execution_count": 83,
   "metadata": {},
   "outputs": [
    {
     "data": {
      "text/plain": [
       "(16, 17)"
      ]
     },
     "execution_count": 83,
     "metadata": {},
     "output_type": "execute_result"
    }
   ],
   "source": [
    "train_data.shape"
   ]
  },
  {
   "cell_type": "code",
   "execution_count": 78,
   "metadata": {},
   "outputs": [
    {
     "data": {
      "text/plain": [
       "'AreaShape_Solidity'"
      ]
     },
     "execution_count": 78,
     "metadata": {},
     "output_type": "execute_result"
    }
   ],
   "source": [
    "train_cats[15]"
   ]
  },
  {
   "cell_type": "code",
   "execution_count": null,
   "metadata": {},
   "outputs": [],
   "source": [
    "gnb = Gau"
   ]
  },
  {
   "cell_type": "code",
   "execution_count": 11,
   "metadata": {},
   "outputs": [],
   "source": [
    "from sklearn import datasets"
   ]
  },
  {
   "cell_type": "code",
   "execution_count": 12,
   "metadata": {},
   "outputs": [],
   "source": [
    "wine = datasets.load_wine()"
   ]
  },
  {
   "cell_type": "code",
   "execution_count": 33,
   "metadata": {},
   "outputs": [
    {
     "ename": "AttributeError",
     "evalue": "ndim",
     "output_type": "error",
     "traceback": [
      "\u001b[1;31m---------------------------------------------------------------------------\u001b[0m",
      "\u001b[1;31mKeyError\u001b[0m                                  Traceback (most recent call last)",
      "\u001b[1;32mC:\\ProgramData\\Anaconda3\\lib\\site-packages\\sklearn\\utils\\__init__.py\u001b[0m in \u001b[0;36m__getattr__\u001b[1;34m(self, key)\u001b[0m\n\u001b[0;32m    113\u001b[0m         \u001b[1;32mtry\u001b[0m\u001b[1;33m:\u001b[0m\u001b[1;33m\u001b[0m\u001b[1;33m\u001b[0m\u001b[0m\n\u001b[1;32m--> 114\u001b[1;33m             \u001b[1;32mreturn\u001b[0m \u001b[0mself\u001b[0m\u001b[1;33m[\u001b[0m\u001b[0mkey\u001b[0m\u001b[1;33m]\u001b[0m\u001b[1;33m\u001b[0m\u001b[1;33m\u001b[0m\u001b[0m\n\u001b[0m\u001b[0;32m    115\u001b[0m         \u001b[1;32mexcept\u001b[0m \u001b[0mKeyError\u001b[0m\u001b[1;33m:\u001b[0m\u001b[1;33m\u001b[0m\u001b[1;33m\u001b[0m\u001b[0m\n",
      "\u001b[1;31mKeyError\u001b[0m: 'ndim'",
      "\nDuring handling of the above exception, another exception occurred:\n",
      "\u001b[1;31mAttributeError\u001b[0m                            Traceback (most recent call last)",
      "\u001b[1;32m<ipython-input-33-43367c3c353e>\u001b[0m in \u001b[0;36m<module>\u001b[1;34m\u001b[0m\n\u001b[1;32m----> 1\u001b[1;33m \u001b[0mwine\u001b[0m\u001b[1;33m.\u001b[0m\u001b[0mndim\u001b[0m\u001b[1;33m\u001b[0m\u001b[1;33m\u001b[0m\u001b[0m\n\u001b[0m",
      "\u001b[1;32mC:\\ProgramData\\Anaconda3\\lib\\site-packages\\sklearn\\utils\\__init__.py\u001b[0m in \u001b[0;36m__getattr__\u001b[1;34m(self, key)\u001b[0m\n\u001b[0;32m    114\u001b[0m             \u001b[1;32mreturn\u001b[0m \u001b[0mself\u001b[0m\u001b[1;33m[\u001b[0m\u001b[0mkey\u001b[0m\u001b[1;33m]\u001b[0m\u001b[1;33m\u001b[0m\u001b[1;33m\u001b[0m\u001b[0m\n\u001b[0;32m    115\u001b[0m         \u001b[1;32mexcept\u001b[0m \u001b[0mKeyError\u001b[0m\u001b[1;33m:\u001b[0m\u001b[1;33m\u001b[0m\u001b[1;33m\u001b[0m\u001b[0m\n\u001b[1;32m--> 116\u001b[1;33m             \u001b[1;32mraise\u001b[0m \u001b[0mAttributeError\u001b[0m\u001b[1;33m(\u001b[0m\u001b[0mkey\u001b[0m\u001b[1;33m)\u001b[0m\u001b[1;33m\u001b[0m\u001b[1;33m\u001b[0m\u001b[0m\n\u001b[0m\u001b[0;32m    117\u001b[0m \u001b[1;33m\u001b[0m\u001b[0m\n\u001b[0;32m    118\u001b[0m     \u001b[1;32mdef\u001b[0m \u001b[0m__setstate__\u001b[0m\u001b[1;33m(\u001b[0m\u001b[0mself\u001b[0m\u001b[1;33m,\u001b[0m \u001b[0mstate\u001b[0m\u001b[1;33m)\u001b[0m\u001b[1;33m:\u001b[0m\u001b[1;33m\u001b[0m\u001b[1;33m\u001b[0m\u001b[0m\n",
      "\u001b[1;31mAttributeError\u001b[0m: ndim"
     ]
    }
   ],
   "source": [
    "gn"
   ]
  },
  {
   "cell_type": "code",
   "execution_count": 41,
   "metadata": {},
   "outputs": [
    {
     "data": {
      "text/plain": [
       "(178, 13)"
      ]
     },
     "execution_count": 41,
     "metadata": {},
     "output_type": "execute_result"
    }
   ],
   "source": [
    "wine.data.shape"
   ]
  },
  {
   "cell_type": "code",
   "execution_count": 71,
   "metadata": {},
   "outputs": [
    {
     "data": {
      "text/plain": [
       "(178, 13)"
      ]
     },
     "execution_count": 71,
     "metadata": {},
     "output_type": "execute_result"
    }
   ],
   "source": [
    "wine.data.shape"
   ]
  },
  {
   "cell_type": "code",
   "execution_count": 85,
   "metadata": {},
   "outputs": [
    {
     "data": {
      "text/plain": [
       "(178,)"
      ]
     },
     "execution_count": 85,
     "metadata": {},
     "output_type": "execute_result"
    }
   ],
   "source": [
    "wine.target.shape"
   ]
  },
  {
   "cell_type": "code",
   "execution_count": 86,
   "metadata": {},
   "outputs": [
    {
     "data": {
      "text/plain": [
       "(17,)"
      ]
     },
     "execution_count": 86,
     "metadata": {},
     "output_type": "execute_result"
    }
   ],
   "source": [
    "y.shape"
   ]
  },
  {
   "cell_type": "code",
   "execution_count": 158,
   "metadata": {},
   "outputs": [],
   "source": [
    "os.chdir(r'C:\\Users\\timdaugird\\Google Drive\\legant_lab\\_projects\\200217_adipogen_zstacks\\cell_profiler_output\\dcts_output')"
   ]
  },
  {
   "cell_type": "code",
   "execution_count": 159,
   "metadata": {},
   "outputs": [],
   "source": [
    "df_whole.to_csv('data_for_nb_training.csv')"
   ]
  },
  {
   "cell_type": "code",
   "execution_count": 160,
   "metadata": {},
   "outputs": [
    {
     "data": {
      "text/plain": [
       "GaussianNB(priors=None, var_smoothing=1e-09)"
      ]
     },
     "execution_count": 160,
     "metadata": {},
     "output_type": "execute_result"
    }
   ],
   "source": [
    "model"
   ]
  },
  {
   "cell_type": "code",
   "execution_count": 162,
   "metadata": {},
   "outputs": [],
   "source": [
    "mod = model.fit(x_train, y_train)"
   ]
  },
  {
   "cell_type": "code",
   "execution_count": 171,
   "metadata": {},
   "outputs": [
    {
     "data": {
      "text/plain": [
       "{'priors': None, 'var_smoothing': 1e-09}"
      ]
     },
     "execution_count": 171,
     "metadata": {},
     "output_type": "execute_result"
    }
   ],
   "source": [
    "(model.get_params())"
   ]
  },
  {
   "cell_type": "code",
   "execution_count": 65,
   "metadata": {},
   "outputs": [
    {
     "data": {
      "text/plain": [
       "0      False\n",
       "1      False\n",
       "2      False\n",
       "3      False\n",
       "4      False\n",
       "       ...  \n",
       "371    False\n",
       "372    False\n",
       "373    False\n",
       "374    False\n",
       "375    False\n",
       "Length: 376, dtype: bool"
      ]
     },
     "execution_count": 65,
     "metadata": {},
     "output_type": "execute_result"
    }
   ],
   "source": [
    "df_whole['AreaShape_MinorAxisLength.1'] == df_whole['AreaShape_MinorAxisLength.2']"
   ]
  },
  {
   "cell_type": "code",
   "execution_count": 66,
   "metadata": {},
   "outputs": [
    {
     "data": {
      "text/plain": [
       "0     -58.060958\n",
       "1      87.324161\n",
       "2     -42.679831\n",
       "3     -13.256940\n",
       "4      22.393151\n",
       "         ...    \n",
       "371   -89.277824\n",
       "372    18.844186\n",
       "373   -27.338654\n",
       "374   -37.278933\n",
       "375     5.704488\n",
       "Name: AreaShape_MinorAxisLength.1, Length: 376, dtype: float64"
      ]
     },
     "execution_count": 66,
     "metadata": {},
     "output_type": "execute_result"
    }
   ],
   "source": [
    "df_whole['AreaShape_MinorAxisLength.1']"
   ]
  },
  {
   "cell_type": "code",
   "execution_count": 67,
   "metadata": {},
   "outputs": [
    {
     "data": {
      "text/plain": [
       "0      238.697316\n",
       "1      224.029428\n",
       "2      198.948844\n",
       "3      215.040300\n",
       "4      210.783407\n",
       "          ...    \n",
       "371     27.894660\n",
       "372    180.784048\n",
       "373    192.339789\n",
       "374    258.449122\n",
       "375    162.795758\n",
       "Name: AreaShape_MinorAxisLength.2, Length: 376, dtype: float64"
      ]
     },
     "execution_count": 67,
     "metadata": {},
     "output_type": "execute_result"
    }
   ],
   "source": [
    "df_whole['AreaShape_MinorAxisLength.2']"
   ]
  },
  {
   "cell_type": "markdown",
   "metadata": {},
   "source": [
    "### I am going to once again try and pull the appropriate data out of the original dataframe"
   ]
  },
  {
   "cell_type": "code",
   "execution_count": 7,
   "metadata": {},
   "outputs": [],
   "source": [
    "'''pull the image number and object number from each'''\n",
    "\n",
    "obj_numb = df_whole.ObjectNumber\n",
    "img_numb = df_whole.ImageNumber"
   ]
  },
  {
   "cell_type": "code",
   "execution_count": 8,
   "metadata": {},
   "outputs": [],
   "source": [
    "'''read in the original data set'''\n",
    "os.chdir(r'C:\\Users\\timdaugird\\Google Drive\\legant_lab\\_projects\\200217_adipogen_zstacks\\cell_profiler_output\\dcts_output')\n",
    "df_orig = pd.read_csv('MyExpt_nuclei.csv')"
   ]
  },
  {
   "cell_type": "code",
   "execution_count": 9,
   "metadata": {},
   "outputs": [
    {
     "data": {
      "text/plain": [
       "5541"
      ]
     },
     "execution_count": 9,
     "metadata": {},
     "output_type": "execute_result"
    }
   ],
   "source": [
    "'''I think that the object number shoule be unique for each entry'''\n",
    "len(df_orig)"
   ]
  },
  {
   "cell_type": "code",
   "execution_count": 10,
   "metadata": {},
   "outputs": [
    {
     "data": {
      "text/plain": [
       "47"
      ]
     },
     "execution_count": 10,
     "metadata": {},
     "output_type": "execute_result"
    }
   ],
   "source": [
    "len(np.unique(df_orig.ObjectNumber))"
   ]
  },
  {
   "cell_type": "code",
   "execution_count": 23,
   "metadata": {},
   "outputs": [
    {
     "data": {
      "text/html": [
       "<div>\n",
       "<style scoped>\n",
       "    .dataframe tbody tr th:only-of-type {\n",
       "        vertical-align: middle;\n",
       "    }\n",
       "\n",
       "    .dataframe tbody tr th {\n",
       "        vertical-align: top;\n",
       "    }\n",
       "\n",
       "    .dataframe thead th {\n",
       "        text-align: right;\n",
       "    }\n",
       "</style>\n",
       "<table border=\"1\" class=\"dataframe\">\n",
       "  <thead>\n",
       "    <tr style=\"text-align: right;\">\n",
       "      <th></th>\n",
       "      <th>Unnamed: 0</th>\n",
       "      <th>ImageNumber</th>\n",
       "      <th>ObjectNumber</th>\n",
       "      <th>AreaShape_Area</th>\n",
       "      <th>AreaShape_Center</th>\n",
       "      <th>AreaShape_Center.1</th>\n",
       "      <th>AreaShape_Center.2</th>\n",
       "      <th>AreaShape_Compactness</th>\n",
       "      <th>AreaShape_Eccentricity</th>\n",
       "      <th>AreaShape_EulerNumber</th>\n",
       "      <th>...</th>\n",
       "      <th>Location_CenterMassIntensity_X_dapi</th>\n",
       "      <th>Location_CenterMassIntensity_Y_dapi</th>\n",
       "      <th>Location_CenterMassIntensity_Z_dapi</th>\n",
       "      <th>Location_Center_X</th>\n",
       "      <th>Location_Center_Y</th>\n",
       "      <th>Location_Center_Z</th>\n",
       "      <th>Location_MaxIntensity_X_dapi</th>\n",
       "      <th>Location_MaxIntensity_Y_dapi</th>\n",
       "      <th>Location_MaxIntensity_Z_dapi</th>\n",
       "      <th>in_object</th>\n",
       "    </tr>\n",
       "  </thead>\n",
       "  <tbody>\n",
       "    <tr>\n",
       "      <th>0</th>\n",
       "      <td>0</td>\n",
       "      <td>1</td>\n",
       "      <td>1</td>\n",
       "      <td>8331</td>\n",
       "      <td>282.0</td>\n",
       "      <td>0.0</td>\n",
       "      <td>1.0</td>\n",
       "      <td>2.352487</td>\n",
       "      <td>0.968781</td>\n",
       "      <td>1.0</td>\n",
       "      <td>...</td>\n",
       "      <td>280.604103</td>\n",
       "      <td>18.974834</td>\n",
       "      <td>0.0</td>\n",
       "      <td>279.505582</td>\n",
       "      <td>20.227464</td>\n",
       "      <td>0</td>\n",
       "      <td>351.0</td>\n",
       "      <td>4.0</td>\n",
       "      <td>0.0</td>\n",
       "      <td>0.0</td>\n",
       "    </tr>\n",
       "    <tr>\n",
       "      <th>1</th>\n",
       "      <td>1</td>\n",
       "      <td>1</td>\n",
       "      <td>2</td>\n",
       "      <td>49529</td>\n",
       "      <td>2043.0</td>\n",
       "      <td>89.0</td>\n",
       "      <td>1.0</td>\n",
       "      <td>1.809739</td>\n",
       "      <td>0.919641</td>\n",
       "      <td>1.0</td>\n",
       "      <td>...</td>\n",
       "      <td>1976.412703</td>\n",
       "      <td>155.525121</td>\n",
       "      <td>0.0</td>\n",
       "      <td>1972.332613</td>\n",
       "      <td>160.861556</td>\n",
       "      <td>0</td>\n",
       "      <td>2043.0</td>\n",
       "      <td>376.0</td>\n",
       "      <td>0.0</td>\n",
       "      <td>0.0</td>\n",
       "    </tr>\n",
       "    <tr>\n",
       "      <th>2</th>\n",
       "      <td>2</td>\n",
       "      <td>1</td>\n",
       "      <td>3</td>\n",
       "      <td>54217</td>\n",
       "      <td>1186.0</td>\n",
       "      <td>186.0</td>\n",
       "      <td>1.0</td>\n",
       "      <td>1.018289</td>\n",
       "      <td>0.560011</td>\n",
       "      <td>1.0</td>\n",
       "      <td>...</td>\n",
       "      <td>1184.478240</td>\n",
       "      <td>188.679428</td>\n",
       "      <td>0.0</td>\n",
       "      <td>1185.255252</td>\n",
       "      <td>186.132394</td>\n",
       "      <td>0</td>\n",
       "      <td>1121.0</td>\n",
       "      <td>226.0</td>\n",
       "      <td>0.0</td>\n",
       "      <td>1.0</td>\n",
       "    </tr>\n",
       "    <tr>\n",
       "      <th>3</th>\n",
       "      <td>3</td>\n",
       "      <td>1</td>\n",
       "      <td>4</td>\n",
       "      <td>46013</td>\n",
       "      <td>455.0</td>\n",
       "      <td>474.0</td>\n",
       "      <td>1.0</td>\n",
       "      <td>1.013055</td>\n",
       "      <td>0.511901</td>\n",
       "      <td>1.0</td>\n",
       "      <td>...</td>\n",
       "      <td>457.863619</td>\n",
       "      <td>470.246954</td>\n",
       "      <td>0.0</td>\n",
       "      <td>457.088214</td>\n",
       "      <td>468.432573</td>\n",
       "      <td>0</td>\n",
       "      <td>511.0</td>\n",
       "      <td>513.0</td>\n",
       "      <td>0.0</td>\n",
       "      <td>1.0</td>\n",
       "    </tr>\n",
       "    <tr>\n",
       "      <th>4</th>\n",
       "      <td>4</td>\n",
       "      <td>1</td>\n",
       "      <td>5</td>\n",
       "      <td>38938</td>\n",
       "      <td>1336.0</td>\n",
       "      <td>473.0</td>\n",
       "      <td>1.0</td>\n",
       "      <td>1.025519</td>\n",
       "      <td>0.598589</td>\n",
       "      <td>1.0</td>\n",
       "      <td>...</td>\n",
       "      <td>1346.701876</td>\n",
       "      <td>470.424959</td>\n",
       "      <td>0.0</td>\n",
       "      <td>1344.709461</td>\n",
       "      <td>465.271765</td>\n",
       "      <td>0</td>\n",
       "      <td>1286.0</td>\n",
       "      <td>531.0</td>\n",
       "      <td>0.0</td>\n",
       "      <td>1.0</td>\n",
       "    </tr>\n",
       "    <tr>\n",
       "      <th>...</th>\n",
       "      <td>...</td>\n",
       "      <td>...</td>\n",
       "      <td>...</td>\n",
       "      <td>...</td>\n",
       "      <td>...</td>\n",
       "      <td>...</td>\n",
       "      <td>...</td>\n",
       "      <td>...</td>\n",
       "      <td>...</td>\n",
       "      <td>...</td>\n",
       "      <td>...</td>\n",
       "      <td>...</td>\n",
       "      <td>...</td>\n",
       "      <td>...</td>\n",
       "      <td>...</td>\n",
       "      <td>...</td>\n",
       "      <td>...</td>\n",
       "      <td>...</td>\n",
       "      <td>...</td>\n",
       "      <td>...</td>\n",
       "      <td>...</td>\n",
       "    </tr>\n",
       "    <tr>\n",
       "      <th>371</th>\n",
       "      <td>371</td>\n",
       "      <td>119</td>\n",
       "      <td>5</td>\n",
       "      <td>43660</td>\n",
       "      <td>684.0</td>\n",
       "      <td>777.0</td>\n",
       "      <td>1.0</td>\n",
       "      <td>1.020885</td>\n",
       "      <td>0.562426</td>\n",
       "      <td>1.0</td>\n",
       "      <td>...</td>\n",
       "      <td>682.957034</td>\n",
       "      <td>787.376642</td>\n",
       "      <td>0.0</td>\n",
       "      <td>682.833646</td>\n",
       "      <td>787.113468</td>\n",
       "      <td>0</td>\n",
       "      <td>736.0</td>\n",
       "      <td>834.0</td>\n",
       "      <td>0.0</td>\n",
       "      <td>1.0</td>\n",
       "    </tr>\n",
       "    <tr>\n",
       "      <th>372</th>\n",
       "      <td>372</td>\n",
       "      <td>119</td>\n",
       "      <td>6</td>\n",
       "      <td>73024</td>\n",
       "      <td>1242.0</td>\n",
       "      <td>1104.0</td>\n",
       "      <td>1.0</td>\n",
       "      <td>1.094695</td>\n",
       "      <td>0.713009</td>\n",
       "      <td>1.0</td>\n",
       "      <td>...</td>\n",
       "      <td>1262.052340</td>\n",
       "      <td>1084.101227</td>\n",
       "      <td>0.0</td>\n",
       "      <td>1274.157702</td>\n",
       "      <td>1073.073277</td>\n",
       "      <td>0</td>\n",
       "      <td>1183.0</td>\n",
       "      <td>1142.0</td>\n",
       "      <td>0.0</td>\n",
       "      <td>0.0</td>\n",
       "    </tr>\n",
       "    <tr>\n",
       "      <th>373</th>\n",
       "      <td>373</td>\n",
       "      <td>119</td>\n",
       "      <td>7</td>\n",
       "      <td>24606</td>\n",
       "      <td>123.0</td>\n",
       "      <td>1485.0</td>\n",
       "      <td>1.0</td>\n",
       "      <td>1.003381</td>\n",
       "      <td>0.302988</td>\n",
       "      <td>1.0</td>\n",
       "      <td>...</td>\n",
       "      <td>123.863960</td>\n",
       "      <td>1484.220579</td>\n",
       "      <td>0.0</td>\n",
       "      <td>123.851865</td>\n",
       "      <td>1483.026213</td>\n",
       "      <td>0</td>\n",
       "      <td>182.0</td>\n",
       "      <td>1499.0</td>\n",
       "      <td>0.0</td>\n",
       "      <td>1.0</td>\n",
       "    </tr>\n",
       "    <tr>\n",
       "      <th>374</th>\n",
       "      <td>374</td>\n",
       "      <td>119</td>\n",
       "      <td>8</td>\n",
       "      <td>42792</td>\n",
       "      <td>1826.0</td>\n",
       "      <td>1695.0</td>\n",
       "      <td>1.0</td>\n",
       "      <td>1.348277</td>\n",
       "      <td>0.882464</td>\n",
       "      <td>1.0</td>\n",
       "      <td>...</td>\n",
       "      <td>1760.025239</td>\n",
       "      <td>1685.401802</td>\n",
       "      <td>0.0</td>\n",
       "      <td>1757.533394</td>\n",
       "      <td>1686.956230</td>\n",
       "      <td>0</td>\n",
       "      <td>1751.0</td>\n",
       "      <td>1674.0</td>\n",
       "      <td>0.0</td>\n",
       "      <td>0.0</td>\n",
       "    </tr>\n",
       "    <tr>\n",
       "      <th>375</th>\n",
       "      <td>375</td>\n",
       "      <td>119</td>\n",
       "      <td>9</td>\n",
       "      <td>72402</td>\n",
       "      <td>1165.0</td>\n",
       "      <td>1864.0</td>\n",
       "      <td>1.0</td>\n",
       "      <td>1.018092</td>\n",
       "      <td>0.539940</td>\n",
       "      <td>1.0</td>\n",
       "      <td>...</td>\n",
       "      <td>1159.549002</td>\n",
       "      <td>1869.009236</td>\n",
       "      <td>0.0</td>\n",
       "      <td>1158.104610</td>\n",
       "      <td>1874.074887</td>\n",
       "      <td>0</td>\n",
       "      <td>1114.0</td>\n",
       "      <td>1820.0</td>\n",
       "      <td>0.0</td>\n",
       "      <td>1.0</td>\n",
       "    </tr>\n",
       "  </tbody>\n",
       "</table>\n",
       "<p>376 rows × 47 columns</p>\n",
       "</div>"
      ],
      "text/plain": [
       "     Unnamed: 0  ImageNumber  ObjectNumber  AreaShape_Area  AreaShape_Center  \\\n",
       "0             0            1             1            8331             282.0   \n",
       "1             1            1             2           49529            2043.0   \n",
       "2             2            1             3           54217            1186.0   \n",
       "3             3            1             4           46013             455.0   \n",
       "4             4            1             5           38938            1336.0   \n",
       "..          ...          ...           ...             ...               ...   \n",
       "371         371          119             5           43660             684.0   \n",
       "372         372          119             6           73024            1242.0   \n",
       "373         373          119             7           24606             123.0   \n",
       "374         374          119             8           42792            1826.0   \n",
       "375         375          119             9           72402            1165.0   \n",
       "\n",
       "     AreaShape_Center.1  AreaShape_Center.2  AreaShape_Compactness  \\\n",
       "0                   0.0                 1.0               2.352487   \n",
       "1                  89.0                 1.0               1.809739   \n",
       "2                 186.0                 1.0               1.018289   \n",
       "3                 474.0                 1.0               1.013055   \n",
       "4                 473.0                 1.0               1.025519   \n",
       "..                  ...                 ...                    ...   \n",
       "371               777.0                 1.0               1.020885   \n",
       "372              1104.0                 1.0               1.094695   \n",
       "373              1485.0                 1.0               1.003381   \n",
       "374              1695.0                 1.0               1.348277   \n",
       "375              1864.0                 1.0               1.018092   \n",
       "\n",
       "     AreaShape_Eccentricity  AreaShape_EulerNumber  ...  \\\n",
       "0                  0.968781                    1.0  ...   \n",
       "1                  0.919641                    1.0  ...   \n",
       "2                  0.560011                    1.0  ...   \n",
       "3                  0.511901                    1.0  ...   \n",
       "4                  0.598589                    1.0  ...   \n",
       "..                      ...                    ...  ...   \n",
       "371                0.562426                    1.0  ...   \n",
       "372                0.713009                    1.0  ...   \n",
       "373                0.302988                    1.0  ...   \n",
       "374                0.882464                    1.0  ...   \n",
       "375                0.539940                    1.0  ...   \n",
       "\n",
       "     Location_CenterMassIntensity_X_dapi  Location_CenterMassIntensity_Y_dapi  \\\n",
       "0                             280.604103                            18.974834   \n",
       "1                            1976.412703                           155.525121   \n",
       "2                            1184.478240                           188.679428   \n",
       "3                             457.863619                           470.246954   \n",
       "4                            1346.701876                           470.424959   \n",
       "..                                   ...                                  ...   \n",
       "371                           682.957034                           787.376642   \n",
       "372                          1262.052340                          1084.101227   \n",
       "373                           123.863960                          1484.220579   \n",
       "374                          1760.025239                          1685.401802   \n",
       "375                          1159.549002                          1869.009236   \n",
       "\n",
       "     Location_CenterMassIntensity_Z_dapi  Location_Center_X  \\\n",
       "0                                    0.0         279.505582   \n",
       "1                                    0.0        1972.332613   \n",
       "2                                    0.0        1185.255252   \n",
       "3                                    0.0         457.088214   \n",
       "4                                    0.0        1344.709461   \n",
       "..                                   ...                ...   \n",
       "371                                  0.0         682.833646   \n",
       "372                                  0.0        1274.157702   \n",
       "373                                  0.0         123.851865   \n",
       "374                                  0.0        1757.533394   \n",
       "375                                  0.0        1158.104610   \n",
       "\n",
       "     Location_Center_Y  Location_Center_Z  Location_MaxIntensity_X_dapi  \\\n",
       "0            20.227464                  0                         351.0   \n",
       "1           160.861556                  0                        2043.0   \n",
       "2           186.132394                  0                        1121.0   \n",
       "3           468.432573                  0                         511.0   \n",
       "4           465.271765                  0                        1286.0   \n",
       "..                 ...                ...                           ...   \n",
       "371         787.113468                  0                         736.0   \n",
       "372        1073.073277                  0                        1183.0   \n",
       "373        1483.026213                  0                         182.0   \n",
       "374        1686.956230                  0                        1751.0   \n",
       "375        1874.074887                  0                        1114.0   \n",
       "\n",
       "     Location_MaxIntensity_Y_dapi  Location_MaxIntensity_Z_dapi  in_object  \n",
       "0                             4.0                           0.0        0.0  \n",
       "1                           376.0                           0.0        0.0  \n",
       "2                           226.0                           0.0        1.0  \n",
       "3                           513.0                           0.0        1.0  \n",
       "4                           531.0                           0.0        1.0  \n",
       "..                            ...                           ...        ...  \n",
       "371                         834.0                           0.0        1.0  \n",
       "372                        1142.0                           0.0        0.0  \n",
       "373                        1499.0                           0.0        1.0  \n",
       "374                        1674.0                           0.0        0.0  \n",
       "375                        1820.0                           0.0        1.0  \n",
       "\n",
       "[376 rows x 47 columns]"
      ]
     },
     "execution_count": 23,
     "metadata": {},
     "output_type": "execute_result"
    }
   ],
   "source": [
    "df_whole"
   ]
  },
  {
   "cell_type": "code",
   "execution_count": 30,
   "metadata": {},
   "outputs": [],
   "source": [
    "df_whole_.sort_values(['ImageNumber', 'ObjectNumber'], inplace = True)"
   ]
  },
  {
   "cell_type": "code",
   "execution_count": 31,
   "metadata": {},
   "outputs": [
    {
     "data": {
      "text/plain": [
       "0       282.0\n",
       "1      2043.0\n",
       "2      1186.0\n",
       "3       455.0\n",
       "4      1336.0\n",
       "        ...  \n",
       "371     684.0\n",
       "372    1242.0\n",
       "373     123.0\n",
       "374    1826.0\n",
       "375    1165.0\n",
       "Name: AreaShape_Center, Length: 376, dtype: float64"
      ]
     },
     "execution_count": 31,
     "metadata": {},
     "output_type": "execute_result"
    }
   ],
   "source": [
    "df_whole.AreaShape_Center == "
   ]
  },
  {
   "cell_type": "code",
   "execution_count": null,
   "metadata": {},
   "outputs": [],
   "source": []
  }
 ],
 "metadata": {
  "kernelspec": {
   "display_name": "Python 3",
   "language": "python",
   "name": "python3"
  },
  "language_info": {
   "codemirror_mode": {
    "name": "ipython",
    "version": 3
   },
   "file_extension": ".py",
   "mimetype": "text/x-python",
   "name": "python",
   "nbconvert_exporter": "python",
   "pygments_lexer": "ipython3",
   "version": "3.7.6"
  }
 },
 "nbformat": 4,
 "nbformat_minor": 4
}
