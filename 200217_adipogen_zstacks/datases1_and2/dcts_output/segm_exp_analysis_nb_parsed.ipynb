{
 "cells": [
  {
   "cell_type": "markdown",
   "metadata": {},
   "source": [
    "### I would like to run through pretty much the same analysis of the cell proflier output but would like to use my NB classifier to parse the data set instead"
   ]
  },
  {
   "cell_type": "code",
   "execution_count": 1,
   "metadata": {},
   "outputs": [],
   "source": [
    "import os\n",
    "import numpy as np\n",
    "import pandas as pd\n",
    "import matplotlib.pyplot as plt\n",
    "import seaborn as sns\n",
    "from sklearn.model_selection import train_test_split\n",
    "from sklearn.naive_bayes import GaussianNB\n",
    "from sklearn.preprocessing import StandardScaler\n",
    "from sklearn.metrics import accuracy_score, precision_score, confusion_matrix"
   ]
  },
  {
   "cell_type": "markdown",
   "metadata": {},
   "source": [
    "### First thing that I would like to do is check to make sure NB model is working as anticipated"
   ]
  },
  {
   "cell_type": "code",
   "execution_count": 2,
   "metadata": {},
   "outputs": [
    {
     "data": {
      "text/plain": [
       "GaussianNB(priors=None, var_smoothing=1e-09)"
      ]
     },
     "execution_count": 2,
     "metadata": {},
     "output_type": "execute_result"
    }
   ],
   "source": [
    "os.chdir(r'C:\\Users\\LegantLab\\Documents\\git\\tad\\Legant_lab\\200217_adipogen_zstacks\\datases1_and2\\dcts_output')\n",
    "\n",
    "df_whole = pd.read_csv('data_for_nb_training.csv')\n",
    "\n",
    "\n",
    "'''split the data into train and target sets. In this caes x will be the train data and y will be the target parameter'''\n",
    "df = df_whole.copy() # make a copy of original df. I am going to alter this a little bit in order to pull out train and test cats\n",
    "\n",
    "target_cat_name = 'in_object'\n",
    "\n",
    "'''remove unwanted categories'''\n",
    "unwanted_cat = ['Unnamed: 0']#, 'ImageNumber', 'ObjectNumber']\n",
    "df.drop(unwanted_cat, axis = 1, inplace = True)\n",
    "\n",
    "'''define train and target data'''\n",
    "x = df.drop('in_object', axis = 1)\n",
    "y = df[target_cat_name]\n",
    "\n",
    "'''split data into train and test sets'''\n",
    "x_train, x_test, y_train, y_test = train_test_split(x, y, test_size = .25, random_state = 42)\n",
    "\n",
    "'''this is a feature scaling step. This will standardize all of the data in order to pull everything into the same range'''\n",
    "\n",
    "sc_X = StandardScaler()\n",
    "x_train = sc_X.fit_transform(x_train)\n",
    "x_test = sc_X.transform(x_test)\n",
    "\n",
    "'''set up gaussian naive bayes model and fit it to the data'''\n",
    "model = GaussianNB()\n",
    "model.fit(x_train, y_train)"
   ]
  },
  {
   "cell_type": "code",
   "execution_count": 3,
   "metadata": {},
   "outputs": [],
   "source": [
    "'''make predictions based on the trained data'''\n",
    "y_pred = model.predict(x_test)\n"
   ]
  },
  {
   "cell_type": "code",
   "execution_count": 4,
   "metadata": {},
   "outputs": [
    {
     "name": "stdout",
     "output_type": "stream",
     "text": [
      "accuracy:  0.8936170212765957  precision:  0.9122807017543859\n"
     ]
    }
   ],
   "source": [
    "'''double check accuracy and precisiton of model'''\n",
    "accuracy = accuracy_score(y_test, y_pred)\n",
    "precision = precision_score(y_test, y_pred)\n",
    "\n",
    "print('accuracy: ', accuracy, ' precision: ', precision)\n"
   ]
  },
  {
   "cell_type": "markdown",
   "metadata": {},
   "source": [
    "### With that all working well I am just going to run through the same training but with all of the data instead of just the training dta"
   ]
  },
  {
   "cell_type": "code",
   "execution_count": 5,
   "metadata": {},
   "outputs": [
    {
     "data": {
      "text/plain": [
       "GaussianNB(priors=None, var_smoothing=1e-09)"
      ]
     },
     "execution_count": 5,
     "metadata": {},
     "output_type": "execute_result"
    }
   ],
   "source": [
    "'''This is same as above it just doesn't split data into train and test,'''\n",
    "df = df_whole.copy() # make a copy of original df. I am going to alter this a little bit in order to pull out train and test cats\n",
    "\n",
    "target_cat_name = 'in_object'\n",
    "\n",
    "'''remove unwanted categories'''\n",
    "unwanted_cat = ['Unnamed: 0']#, 'ImageNumber', 'ObjectNumber']\n",
    "df.drop(unwanted_cat, axis = 1, inplace = True)\n",
    "\n",
    "'''define train and target data'''\n",
    "x_train = df.drop('in_object', axis = 1)\n",
    "y_train = df[target_cat_name]\n",
    "\n",
    "#'''split data into train and test sets'''\n",
    "#x_train, x_test, y_train, y_test = train_test_split(x, y, test_size = .25, random_state = 42)\n",
    "\n",
    "\n",
    "\n",
    "\n",
    "'''this is a feature scaling step. This will standardize all of the data in order to pull everything into the same range'''\n",
    "\n",
    "sc_X = StandardScaler()\n",
    "x_train = sc_X.fit_transform(x_train)\n",
    "#x_test = sc_X.transform(x_test)\n",
    "\n",
    "'''set up gaussian naive bayes model and fit it to the data'''\n",
    "model = GaussianNB()\n",
    "model.fit(x_train, y_train)"
   ]
  },
  {
   "cell_type": "markdown",
   "metadata": {},
   "source": [
    "### I need to generate the data frames that I would like to use for this analysis first. "
   ]
  },
  {
   "cell_type": "code",
   "execution_count": 23,
   "metadata": {},
   "outputs": [],
   "source": [
    "'''this is script that will read in the orignal dataframe. It takes in the orignal .csv file that is the output \n",
    "of CellProfiler. It returns two data frames with the time parameter added to each df. It splits the one large \n",
    "data frame according to whether or not the data is from the first set of images or the second set of images.\n",
    "After it adds the appropriate time parameter to each to each df'''\n",
    "\n",
    "'''change to directory with .csv flie'''\n",
    "#os.chdir(r'C:\\Users\\timdaugird\\Google Drive\\legant_lab\\_projects\\200217_adipogen_zstacks\\cell_profiler_output\\dcts_output')\n",
    "\n",
    "df = pd.read_csv('MyExpt_nuclei.csv') #this the output of cell profiler\n",
    "\n",
    "'''split data sets'''\n",
    "df1_ = df.loc[df.ImageNumber <=120]\n",
    "df2_ = df.loc[df.ImageNumber > 120]\n",
    "\n",
    "'''list of times associated with each set of images'''\n",
    "times_lst = [-2, -1, 0, 2/24, 4/24, 6/24, 8/24, 1, 2, 3, 4, 6 ]\n",
    "times_lst = np.round(times_lst, 3)\n",
    "\n",
    "\n",
    "'''this is script to add the time parameter to each dataframe.'''\n",
    "\n",
    "'''start of with the first df'''\n",
    "img_numb_lst1 = list(range(np.min(df1_.ImageNumber), np.max(df1_.ImageNumber) + 2, 10)) #image numbers on lower and upper bounds for each time\n",
    "\n",
    "\n",
    "df_lst = [] #list to be populated\n",
    "\n",
    "for i in range(12):\n",
    "    df_ = df1_.loc[df1_.ImageNumber >= img_numb_lst1[i]] \n",
    "    df_ = df_.loc[df_.ImageNumber < img_numb_lst1[i+1]] #pull out specificed range of images\n",
    "    df_['time'] = np.zeros(len(df_)) # put in temporary array\n",
    "    df_.time = df_.time + times_lst[i] #add appropriate time\n",
    "    df_lst.append(df_) #append to running list\n",
    "    \n",
    "df1 = pd.concat(df_lst) #concat all df's into one bit one\n",
    "\n",
    "'''this is the same thing as the code immediatly above but for the second dataframe'''\n",
    "img_numb_lst2 = list(range(np.min(df2_.ImageNumber), np.max(df2_.ImageNumber) + 2, 10))\n",
    "df_lst = []\n",
    "\n",
    "for i in range(12):\n",
    "    df_ = df2_.loc[df2_.ImageNumber >= img_numb_lst2[i]]\n",
    "    df_ = df_.loc[df_.ImageNumber < img_numb_lst2[i+1]] #pull out specificed range of images\n",
    "    df_['time'] = np.zeros(len(df_)) # put in temporary array\n",
    "    df_.time = df_.time + times_lst[i]\n",
    "    df_lst.append(df_)\n",
    "    \n",
    "df2 = pd.concat(df_lst)"
   ]
  },
  {
   "cell_type": "code",
   "execution_count": 24,
   "metadata": {},
   "outputs": [
    {
     "data": {
      "text/plain": [
       "2808"
      ]
     },
     "execution_count": 24,
     "metadata": {},
     "output_type": "execute_result"
    }
   ],
   "source": [
    "len(df1)"
   ]
  },
  {
   "cell_type": "code",
   "execution_count": 25,
   "metadata": {},
   "outputs": [
    {
     "data": {
      "text/plain": [
       "2733"
      ]
     },
     "execution_count": 25,
     "metadata": {},
     "output_type": "execute_result"
    }
   ],
   "source": [
    "len(df2)"
   ]
  },
  {
   "cell_type": "code",
   "execution_count": 26,
   "metadata": {},
   "outputs": [],
   "source": [
    "'''make list of features to be used in classification'''\n",
    "training_cats = list(df) #list of all of the features in the training df\n",
    "#training_cats = training_cats[1:-1] #get rid of a couple of unwanted categories this is the unwanted: 1 as well as the in_count features\n"
   ]
  },
  {
   "cell_type": "code",
   "execution_count": 27,
   "metadata": {},
   "outputs": [],
   "source": [
    "'''pull the categories out of the df that are used for classifictation'''\n",
    "x_train_df1 = df1[training_cats]\n",
    "x_train_df2 = df2[training_cats]"
   ]
  },
  {
   "cell_type": "code",
   "execution_count": 28,
   "metadata": {},
   "outputs": [
    {
     "data": {
      "text/plain": [
       "(2808, 109)"
      ]
     },
     "execution_count": 28,
     "metadata": {},
     "output_type": "execute_result"
    }
   ],
   "source": [
    "np.array(x_train_df1).shape"
   ]
  },
  {
   "cell_type": "code",
   "execution_count": 29,
   "metadata": {},
   "outputs": [
    {
     "data": {
      "text/plain": [
       "(94, 109)"
      ]
     },
     "execution_count": 29,
     "metadata": {},
     "output_type": "execute_result"
    }
   ],
   "source": [
    "x_test.shape"
   ]
  },
  {
   "cell_type": "code",
   "execution_count": 30,
   "metadata": {},
   "outputs": [],
   "source": [
    "'''this is a feature scaling step. This will standardize all of the data in order to pull everything into the same range'''\n",
    "sc_X = StandardScaler()\n",
    "x_train_df1 = sc_X.fit_transform(x_train_df1)\n",
    "x_train_df2 = sc_X.fit_transform(x_train_df2)\n"
   ]
  },
  {
   "cell_type": "code",
   "execution_count": 35,
   "metadata": {},
   "outputs": [],
   "source": [
    "'''add the predictions to the data frame and keep only the predicted in entries'''\n",
    "\n",
    "df1['in_object'] = model.predict(x_train_df1) # add predictions to the df\n",
    "df1_nb_parsed = df1.loc[df1.in_object == 1] # keep only the predicted values\n",
    "\n",
    "df2['in_object'] = model.predict(x_train_df2) \n",
    "df2_nb_parsed = df2.loc[df2.in_object == 1]"
   ]
  },
  {
   "cell_type": "code",
   "execution_count": 36,
   "metadata": {},
   "outputs": [],
   "source": [
    "'''create parsed data frames using original parameters'''\n",
    "df1_thresh_parsed = df1.loc[df1.AreaShape_Area > 20000]\n",
    "df1_thresh_parsed = df1_thresh_parsed[df1_thresh_parsed.AreaShape_Eccentricity >= .55]\n",
    "\n",
    "df2_thresh_parsed = df2.loc[df2.AreaShape_Area > 20000]\n",
    "df2_thresh_parsed = df2_thresh_parsed[df2_thresh_parsed.AreaShape_Eccentricity >= .55]\n"
   ]
  },
  {
   "cell_type": "code",
   "execution_count": 37,
   "metadata": {},
   "outputs": [
    {
     "data": {
      "text/plain": [
       "1726"
      ]
     },
     "execution_count": 37,
     "metadata": {},
     "output_type": "execute_result"
    }
   ],
   "source": [
    "len(df1_nb_parsed)"
   ]
  },
  {
   "cell_type": "code",
   "execution_count": 38,
   "metadata": {},
   "outputs": [
    {
     "data": {
      "text/plain": [
       "1695"
      ]
     },
     "execution_count": 38,
     "metadata": {},
     "output_type": "execute_result"
    }
   ],
   "source": [
    "len(df2_nb_parsed)"
   ]
  },
  {
   "cell_type": "code",
   "execution_count": 39,
   "metadata": {},
   "outputs": [
    {
     "data": {
      "text/plain": [
       "0.6201975850713501"
      ]
     },
     "execution_count": 39,
     "metadata": {},
     "output_type": "execute_result"
    }
   ],
   "source": [
    "len(df2_nb_parsed) / len(df2)"
   ]
  },
  {
   "cell_type": "code",
   "execution_count": 40,
   "metadata": {},
   "outputs": [
    {
     "data": {
      "text/plain": [
       "0.4921331869740212"
      ]
     },
     "execution_count": 40,
     "metadata": {},
     "output_type": "execute_result"
    }
   ],
   "source": [
    "len(df2_thresh_parsed) / len(df2)"
   ]
  },
  {
   "cell_type": "code",
   "execution_count": 56,
   "metadata": {},
   "outputs": [
    {
     "data": {
      "text/plain": [
       "<matplotlib.axes._subplots.AxesSubplot at 0x1d30a3bc7c8>"
      ]
     },
     "execution_count": 56,
     "metadata": {},
     "output_type": "execute_result"
    }
   ],
   "source": [
    "'''look at how distributions of areas are affected'''\n",
    "\n",
    "plt.subplot(131)\n",
    "sns.distplot(df2.AreaShape_Area)\n",
    "plt.subplot(132)\n",
    "sns.distplot(df2_thresh_parsed.AreaShape_Area)\n",
    "plt.subplot(133)\n",
    "sns.distplot(df2_nb_parsed.AreaShape_Area)"
   ]
  },
  {
   "cell_type": "code",
   "execution_count": 57,
   "metadata": {},
   "outputs": [
    {
     "data": {
      "text/plain": [
       "<matplotlib.legend.Legend at 0x1d30a9b2708>"
      ]
     },
     "execution_count": 57,
     "metadata": {},
     "output_type": "execute_result"
    }
   ],
   "source": [
    "sns.distplot(df2.AreaShape_Area)\n",
    "sns.distplot(df2_thresh_parsed.AreaShape_Area)\n",
    "sns.distplot(df2_nb_parsed.AreaShape_Area)\n",
    "plt.legend(['orig', 'threh', 'nb'])"
   ]
  },
  {
   "cell_type": "code",
   "execution_count": 41,
   "metadata": {},
   "outputs": [
    {
     "data": {
      "image/png": "[encoded data removed]",
      "text/plain": [
       "<Figure size 432x288 with 1 Axes>"
      ]
     },
     "metadata": {
      "needs_background": "light"
     },
     "output_type": "display_data"
    }
   ],
   "source": [
    "ax = sns.lineplot(df1_thresh_parsed.time, df1_thresh_parsed.Intensity_IntegratedIntensity_cebp)\n",
    "ax = sns.lineplot(df1_nb_parsed.time, df1_nb_parsed.Intensity_IntegratedIntensity_cebp)\n",
    "\n",
    "plt.legend(['thresh_filter', 'nb_filter'])\n",
    "plt.show()"
   ]
  },
  {
   "cell_type": "code",
   "execution_count": 42,
   "metadata": {},
   "outputs": [
    {
     "data": {
      "image/png": "[encoded data removed]",
      "text/plain": [
       "<Figure size 432x288 with 1 Axes>"
      ]
     },
     "metadata": {
      "needs_background": "light"
     },
     "output_type": "display_data"
    }
   ],
   "source": [
    "ax = sns.lineplot(df2_thresh_parsed.time, df2_thresh_parsed.Intensity_IntegratedIntensity_cebp)\n",
    "ax = sns.lineplot(df2_nb_parsed.time, df2_nb_parsed.Intensity_IntegratedIntensity_cebp)\n",
    "\n",
    "plt.legend(['thresh_filter', 'nb_filter'])\n",
    "plt.show()"
   ]
  },
  {
   "cell_type": "code",
   "execution_count": 43,
   "metadata": {},
   "outputs": [
    {
     "data": {
      "image/png": "[encoded data removed]",
      "text/plain": [
       "<Figure size 432x288 with 1 Axes>"
      ]
     },
     "metadata": {
      "needs_background": "light"
     },
     "output_type": "display_data"
    }
   ],
   "source": [
    "ax = sns.lineplot(df1_nb_parsed.time, df1_nb_parsed.Intensity_IntegratedIntensity_cebp, color = 'm')\n",
    "ax = sns.lineplot(df2_nb_parsed.time, df2_nb_parsed.Intensity_IntegratedIntensity_cebp, color = 'y')\n",
    "\n",
    "plt.legend(['df1', 'df2'])\n",
    "plt.show()"
   ]
  },
  {
   "cell_type": "markdown",
   "metadata": {},
   "source": [
    "### I am thinking that the above looks pretty okay. I am actually quite happy with it thus far. "
   ]
  },
  {
   "cell_type": "code",
   "execution_count": 44,
   "metadata": {},
   "outputs": [],
   "source": [
    "df1_nb_parsed.to_csv('df1_nb_parsed.csv')\n",
    "df2_nb_parsed.to_csv('df2_nb_parsed.csv')"
   ]
  },
  {
   "cell_type": "code",
   "execution_count": 78,
   "metadata": {},
   "outputs": [],
   "source": [
    "\n",
    "'''temporary lists to be populated with the number of objects'''\n",
    "df1_orig_ens = []\n",
    "df1_ens = []\n",
    "df2_orig_ens = []\n",
    "df2_ens = []\n",
    "\n",
    "'''iterate over the times and figure out how many entries there are for each df at a given time point.'''\n",
    "for i in np.unique(df1.time):\n",
    "    '''original df1'''\n",
    "    df_ = df1.loc[df1.time == i] # pull out single time \n",
    "    df1_orig_ens.append(len(df_)) #append list with number of objects at given time point\n",
    "    \n",
    "    '''parsed df1'''\n",
    "    df_ = df1_nb_parsed.loc[df1_nb_parsed.time == i]\n",
    "    df1_ens.append(len(df_))\n",
    "    \n",
    "    '''original df2'''\n",
    "    df_ = df2.loc[df2.time == i]\n",
    "    df2_orig_ens.append(len(df_))\n",
    "    \n",
    "    '''parsed df2'''\n",
    "    df_ = df2_nb_parsed.loc[df2_nb_parsed.time == i]\n",
    "    df2_ens.append(len(df_))\n",
    "    \n",
    "df_ens = pd.DataFrame({'time_point' : times_lst,\n",
    "                     'original_df1_N' : df1_orig_ens,\n",
    "                     'parsed_df1_N' : df1_ens,\n",
    "                     'original_df2_N' : df2_orig_ens,\n",
    "                     'parsed_df2_N' : df2_ens})\n",
    "    "
   ]
  },
  {
   "cell_type": "code",
   "execution_count": 79,
   "metadata": {},
   "outputs": [
    {
     "data": {
      "text/html": [
       "<div>\n",
       "<style scoped>\n",
       "    .dataframe tbody tr th:only-of-type {\n",
       "        vertical-align: middle;\n",
       "    }\n",
       "\n",
       "    .dataframe tbody tr th {\n",
       "        vertical-align: top;\n",
       "    }\n",
       "\n",
       "    .dataframe thead th {\n",
       "        text-align: right;\n",
       "    }\n",
       "</style>\n",
       "<table border=\"1\" class=\"dataframe\">\n",
       "  <thead>\n",
       "    <tr style=\"text-align: right;\">\n",
       "      <th></th>\n",
       "      <th>time_point</th>\n",
       "      <th>original_df1_N</th>\n",
       "      <th>parsed_df1_N</th>\n",
       "      <th>original_df2_N</th>\n",
       "      <th>parsed_df2_N</th>\n",
       "    </tr>\n",
       "  </thead>\n",
       "  <tbody>\n",
       "    <tr>\n",
       "      <th>0</th>\n",
       "      <td>-2.000</td>\n",
       "      <td>221</td>\n",
       "      <td>131</td>\n",
       "      <td>253</td>\n",
       "      <td>131</td>\n",
       "    </tr>\n",
       "    <tr>\n",
       "      <th>1</th>\n",
       "      <td>-1.000</td>\n",
       "      <td>230</td>\n",
       "      <td>162</td>\n",
       "      <td>207</td>\n",
       "      <td>162</td>\n",
       "    </tr>\n",
       "    <tr>\n",
       "      <th>2</th>\n",
       "      <td>0.000</td>\n",
       "      <td>223</td>\n",
       "      <td>140</td>\n",
       "      <td>226</td>\n",
       "      <td>140</td>\n",
       "    </tr>\n",
       "    <tr>\n",
       "      <th>3</th>\n",
       "      <td>0.083</td>\n",
       "      <td>208</td>\n",
       "      <td>131</td>\n",
       "      <td>190</td>\n",
       "      <td>131</td>\n",
       "    </tr>\n",
       "    <tr>\n",
       "      <th>4</th>\n",
       "      <td>0.167</td>\n",
       "      <td>239</td>\n",
       "      <td>143</td>\n",
       "      <td>210</td>\n",
       "      <td>143</td>\n",
       "    </tr>\n",
       "    <tr>\n",
       "      <th>5</th>\n",
       "      <td>0.250</td>\n",
       "      <td>190</td>\n",
       "      <td>134</td>\n",
       "      <td>236</td>\n",
       "      <td>134</td>\n",
       "    </tr>\n",
       "    <tr>\n",
       "      <th>6</th>\n",
       "      <td>0.333</td>\n",
       "      <td>179</td>\n",
       "      <td>121</td>\n",
       "      <td>201</td>\n",
       "      <td>121</td>\n",
       "    </tr>\n",
       "    <tr>\n",
       "      <th>7</th>\n",
       "      <td>1.000</td>\n",
       "      <td>220</td>\n",
       "      <td>141</td>\n",
       "      <td>216</td>\n",
       "      <td>141</td>\n",
       "    </tr>\n",
       "    <tr>\n",
       "      <th>8</th>\n",
       "      <td>2.000</td>\n",
       "      <td>251</td>\n",
       "      <td>164</td>\n",
       "      <td>230</td>\n",
       "      <td>164</td>\n",
       "    </tr>\n",
       "    <tr>\n",
       "      <th>9</th>\n",
       "      <td>3.000</td>\n",
       "      <td>276</td>\n",
       "      <td>181</td>\n",
       "      <td>256</td>\n",
       "      <td>181</td>\n",
       "    </tr>\n",
       "    <tr>\n",
       "      <th>10</th>\n",
       "      <td>4.000</td>\n",
       "      <td>255</td>\n",
       "      <td>172</td>\n",
       "      <td>241</td>\n",
       "      <td>172</td>\n",
       "    </tr>\n",
       "    <tr>\n",
       "      <th>11</th>\n",
       "      <td>6.000</td>\n",
       "      <td>316</td>\n",
       "      <td>106</td>\n",
       "      <td>267</td>\n",
       "      <td>106</td>\n",
       "    </tr>\n",
       "  </tbody>\n",
       "</table>\n",
       "</div>"
      ],
      "text/plain": [
       "    time_point  original_df1_N  parsed_df1_N  original_df2_N  parsed_df2_N\n",
       "0       -2.000             221           131             253           131\n",
       "1       -1.000             230           162             207           162\n",
       "2        0.000             223           140             226           140\n",
       "3        0.083             208           131             190           131\n",
       "4        0.167             239           143             210           143\n",
       "5        0.250             190           134             236           134\n",
       "6        0.333             179           121             201           121\n",
       "7        1.000             220           141             216           141\n",
       "8        2.000             251           164             230           164\n",
       "9        3.000             276           181             256           181\n",
       "10       4.000             255           172             241           172\n",
       "11       6.000             316           106             267           106"
      ]
     },
     "execution_count": 79,
     "metadata": {},
     "output_type": "execute_result"
    }
   ],
   "source": [
    "df_ens"
   ]
  },
  {
   "cell_type": "code",
   "execution_count": 81,
   "metadata": {},
   "outputs": [
    {
     "data": {
      "text/plain": [
       "<matplotlib.axes._subplots.AxesSubplot at 0x1d30f6be248>"
      ]
     },
     "execution_count": 81,
     "metadata": {},
     "output_type": "execute_result"
    }
   ],
   "source": [
    "sns.violinplot(df2_nb_parsed.time, df2_nb_parsed.AreaShape_Area)"
   ]
  },
  {
   "cell_type": "code",
   "execution_count": 82,
   "metadata": {},
   "outputs": [
    {
     "name": "stderr",
     "output_type": "stream",
     "text": [
      "C:\\Users\\timdaugird\\AppData\\Roaming\\Python\\Python37\\site-packages\\ipykernel_launcher.py:3: SettingWithCopyWarning: \n",
      "A value is trying to be set on a copy of a slice from a DataFrame.\n",
      "Try using .loc[row_indexer,col_indexer] = value instead\n",
      "\n",
      "See the caveats in the documentation: https://pandas.pydata.org/pandas-docs/stable/user_guide/indexing.html#returning-a-view-versus-a-copy\n",
      "  This is separate from the ipykernel package so we can avoid doing imports until\n"
     ]
    }
   ],
   "source": [
    "'''make one big df from the df2'''\n",
    "df2_thresh_parsed['df_id'] = np.zeros(len(df2_thresh_parsed))\n",
    "df2_nb_parsed['df_id'] = np.ones(len(df2_nb_parsed))\n",
    "\n",
    "df2_big = pd.concat([df2_thresh_parsed, df2_nb_parsed])\n"
   ]
  },
  {
   "cell_type": "code",
   "execution_count": 88,
   "metadata": {},
   "outputs": [
    {
     "data": {
      "text/plain": [
       "<matplotlib.axes._subplots.AxesSubplot at 0x1d3196562c8>"
      ]
     },
     "execution_count": 88,
     "metadata": {},
     "output_type": "execute_result"
    }
   ],
   "source": [
    "sns.boxplot(df2_big.time, df2_big.AreaShape_Area, hue = df2_big.df_id, fliersize = 0)\n",
    "#plt.legend(['thresh', 'nb'])"
   ]
  },
  {
   "cell_type": "code",
   "execution_count": 91,
   "metadata": {},
   "outputs": [
    {
     "data": {
      "text/plain": [
       "<matplotlib.legend.Legend at 0x1d31c19c748>"
      ]
     },
     "execution_count": 91,
     "metadata": {},
     "output_type": "execute_result"
    }
   ],
   "source": [
    "sns.lineplot(df2_thresh_parsed.time, df2_thresh_parsed.AreaShape_Area)\n",
    "sns.lineplot(df2_nb_parsed.time, df2_nb_parsed.AreaShape_Area)\n",
    "plt.legend(['thresh', 'nb'])"
   ]
  },
  {
   "cell_type": "code",
   "execution_count": null,
   "metadata": {},
   "outputs": [],
   "source": []
  }
 ],
 "metadata": {
  "kernelspec": {
   "display_name": "Python 3",
   "language": "python",
   "name": "python3"
  },
  "language_info": {
   "codemirror_mode": {
    "name": "ipython",
    "version": 3
   },
   "file_extension": ".py",
   "mimetype": "text/x-python",
   "name": "python",
   "nbconvert_exporter": "python",
   "pygments_lexer": "ipython3",
   "version": "3.7.6"
  }
 },
 "nbformat": 4,
 "nbformat_minor": 4
}
