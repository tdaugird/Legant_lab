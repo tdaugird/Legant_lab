{
 "cells": [
  {
   "cell_type": "markdown",
   "metadata": {},
   "source": [
    "### This sorts through one big folder to split fields of view into seperate folders. "
   ]
  },
  {
   "cell_type": "code",
   "execution_count": 2,
   "metadata": {},
   "outputs": [],
   "source": [
    "import os\n",
    "import shutil\n",
    "import numpy as np"
   ]
  },
  {
   "cell_type": "code",
   "execution_count": 3,
   "metadata": {},
   "outputs": [],
   "source": [
    "working_dir = r'Z:\\TAD\\200610_adipogenesis_timecourse_r10_v2\\sm_z_stacks\\stat459'\n",
    "\n",
    "os.chdir(working_dir)\n",
    "\n",
    "dir_names_ = []\n",
    "for i in os.listdir():\n",
    "    if i.endswith('.tif'):\n",
    "        dir_names_.append(i[:4])\n",
    "dir_names = list(np.unique(dir_names_))\n",
    "\n",
    "for i in dir_names:\n",
    "    os.mkdir(i)\n",
    "\n",
    "for i in dir_names:\n",
    "    destination_dir = working_dir + '\\\\' + i\n",
    "    tiff_files = []\n",
    "    for j in os.listdir():\n",
    "        if (j.endswith('.tif')):\n",
    "            tiff_files.append(j)\n",
    "    for j in tiff_files:\n",
    "        if (j[:4] in i):\n",
    "            shutil.move(working_dir + '\\\\' + j, destination_dir + '\\\\' + j) "
   ]
  },
  {
   "cell_type": "code",
   "execution_count": 20,
   "metadata": {},
   "outputs": [],
   "source": [
    "os.chdir(r'Z:\\TAD\\200610_adipogenesis_timecourse_r10_v2\\sm_z_stacks\\stat453\\xy3z')"
   ]
  },
  {
   "cell_type": "code",
   "execution_count": 21,
   "metadata": {},
   "outputs": [
    {
     "data": {
      "text/plain": [
       "['xy3z01c1.tif',\n",
       " 'xy3z01c2.tif',\n",
       " 'xy3z01c3.tif',\n",
       " 'xy3z02c1.tif',\n",
       " 'xy3z02c2.tif',\n",
       " 'xy3z02c3.tif',\n",
       " 'xy3z03c1.tif',\n",
       " 'xy3z03c2.tif',\n",
       " 'xy3z03c3.tif',\n",
       " 'xy3z04c1.tif',\n",
       " 'xy3z04c2.tif',\n",
       " 'xy3z04c3.tif',\n",
       " 'xy3z05c1.tif',\n",
       " 'xy3z05c2.tif',\n",
       " 'xy3z05c3.tif',\n",
       " 'xy3z06c1.tif',\n",
       " 'xy3z06c2.tif',\n",
       " 'xy3z06c3.tif',\n",
       " 'xy3z07c1.tif',\n",
       " 'xy3z07c2.tif',\n",
       " 'xy3z07c3.tif',\n",
       " 'xy3z08c1.tif',\n",
       " 'xy3z08c2.tif',\n",
       " 'xy3z08c3.tif',\n",
       " 'xy3z09c1.tif',\n",
       " 'xy3z09c2.tif',\n",
       " 'xy3z09c3.tif',\n",
       " 'xy3z10c1.tif',\n",
       " 'xy3z10c2.tif',\n",
       " 'xy3z10c3.tif',\n",
       " 'xy3z11c1.tif',\n",
       " 'xy3z11c2.tif',\n",
       " 'xy3z11c3.tif']"
      ]
     },
     "execution_count": 21,
     "metadata": {},
     "output_type": "execute_result"
    }
   ],
   "source": [
    "os.listdir()"
   ]
  },
  {
   "cell_type": "code",
   "execution_count": 22,
   "metadata": {},
   "outputs": [
    {
     "data": {
      "text/plain": [
       "['xy13z01c1.tif',\n",
       " 'xy13z01c2.tif',\n",
       " 'xy13z01c3.tif',\n",
       " 'xy13z02c1.tif',\n",
       " 'xy13z02c2.tif',\n",
       " 'xy13z02c3.tif',\n",
       " 'xy13z03c1.tif',\n",
       " 'xy13z03c2.tif',\n",
       " 'xy13z03c3.tif',\n",
       " 'xy13z04c1.tif',\n",
       " 'xy13z04c2.tif',\n",
       " 'xy13z04c3.tif',\n",
       " 'xy13z05c1.tif',\n",
       " 'xy13z05c2.tif',\n",
       " 'xy13z05c3.tif',\n",
       " 'xy13z06c1.tif',\n",
       " 'xy13z06c2.tif',\n",
       " 'xy13z06c3.tif',\n",
       " 'xy13z07c1.tif',\n",
       " 'xy13z07c2.tif',\n",
       " 'xy13z07c3.tif',\n",
       " 'xy13z08c1.tif',\n",
       " 'xy13z08c2.tif',\n",
       " 'xy13z08c3.tif',\n",
       " 'xy13z09c1.tif',\n",
       " 'xy13z09c2.tif',\n",
       " 'xy13z09c3.tif',\n",
       " 'xy13z10c1.tif',\n",
       " 'xy13z10c2.tif',\n",
       " 'xy13z10c3.tif',\n",
       " 'xy13z11c1.tif',\n",
       " 'xy13z11c2.tif',\n",
       " 'xy13z11c3.tif']"
      ]
     },
     "execution_count": 22,
     "metadata": {},
     "output_type": "execute_result"
    }
   ],
   "source": [
    "new_name_lst = []\n",
    "\n",
    "for i in os.listdir():\n",
    "    #print(i[:2] +'0' + i[2:])\n",
    "    #new_name_lst.append((i[:2] +'09' + i[3:]))\n",
    "    new_name_lst.append(i[:2] +'1' + i[2:])\n",
    "new_name_lst"
   ]
  },
  {
   "cell_type": "code",
   "execution_count": 19,
   "metadata": {},
   "outputs": [],
   "source": [
    "for i in range(len(os.listdir())):\n",
    "    os.rename(os.listdir()[i], new_name_lst[i] )"
   ]
  },
  {
   "cell_type": "code",
   "execution_count": null,
   "metadata": {},
   "outputs": [],
   "source": []
  }
 ],
 "metadata": {
  "kernelspec": {
   "display_name": "Python 3",
   "language": "python",
   "name": "python3"
  },
  "language_info": {
   "codemirror_mode": {
    "name": "ipython",
    "version": 3
   },
   "file_extension": ".py",
   "mimetype": "text/x-python",
   "name": "python",
   "nbconvert_exporter": "python",
   "pygments_lexer": "ipython3",
   "version": "3.7.6"
  }
 },
 "nbformat": 4,
 "nbformat_minor": 4
}
