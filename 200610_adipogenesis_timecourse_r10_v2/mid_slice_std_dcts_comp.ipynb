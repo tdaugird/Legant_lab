{
 "cells": [
  {
   "cell_type": "markdown",
   "metadata": {},
   "source": [
    "### This is script for comparing methods for finding middle slice in a z-stack using either the standard deviation or the shannon entropy of the discrete cosine transform\n",
    "\n",
    "\n",
    "### Much of this is a somewhat cleaned up version of the find_mid_slice.ipynb. It finds the middle slice through determining the max shannon entropy of the distinct cosine transformation. "
   ]
  },
  {
   "cell_type": "code",
   "execution_count": 1,
   "metadata": {},
   "outputs": [],
   "source": [
    "import os\n",
    "import numpy as np\n",
    "import pandas as pd\n",
    "from skimage import io\n",
    "import matplotlib.pyplot as plt\n",
    "import seaborn as sns\n",
    "from scipy.fftpack import dct"
   ]
  },
  {
   "cell_type": "code",
   "execution_count": 2,
   "metadata": {},
   "outputs": [],
   "source": [
    "'''this is most recent verion of this function as of 04-17-20. This updated version can change to different directories. it also returns arrays that are the\n",
    "appropriate data type'''\n",
    "def make_z_stack(num_channels, directory = os.getcwd(), bit_depth = 'uint16'):\n",
    "    \n",
    "    ###Get home directory to switch back to at the end\n",
    "    home_dir = os.getcwd()\n",
    "    \n",
    "    #change to directory that has set of .tiff files\n",
    "    if directory != os.getcwd():\n",
    "        os.chdir(directory)\n",
    "    \n",
    "    #the data type that you would like the final images to be\n",
    "  #  if bit_depth == 16:\n",
    "  #      bit = 'uint16'\n",
    "  #  if bit_depth == 8:\n",
    "  #      bit = 'uint8'\n",
    "  #  if bit_depth ==:\n",
    "  #      bit = np.float32\n",
    "    bit = bit_depth\n",
    "        \n",
    "        \n",
    "    ## if stupid Thumbs.db is present in the file then this will remove it\n",
    "    if 'Thumbs.db' in os.listdir():\n",
    "        os.remove('Thumbs.db')\n",
    "        \n",
    "    \n",
    "    ###generate list of sorted images\n",
    "    image_lst = np.sort(os.listdir())\n",
    "    ### figure out shape of empty zeros array for image\n",
    "    img_ = io.imread(image_lst[0])\n",
    "    n_row = img_.shape[0]\n",
    "    n_col = img_.shape[1]\n",
    "    n_plane = int(len(image_lst) / num_channels)\n",
    "    #shape_tupple = np.zeros((n_z, n_row, n_col))\n",
    "    \n",
    "    ### generate some empyt arrays to be filled up\n",
    "    c1_img = np.ndarray((n_plane, n_row, n_col), dtype = bit)\n",
    "    c2_img = np.ndarray((n_plane, n_row, n_col), dtype = bit)\n",
    "    c3_img = np.ndarray((n_plane, n_row, n_col), dtype = bit)\n",
    "    c4_img = np.ndarray((n_plane, n_row, n_col), dtype = bit)\n",
    "    c5_img = np.ndarray((n_plane, n_row, n_col), dtype = bit)\n",
    "    \n",
    "    ###read in and generate z-stack for each channel\n",
    "    z_slice = 0\n",
    "    for i in range(0 , (len(image_lst))- num_channels, num_channels):\n",
    "        if num_channels == 1:\n",
    "            c1_img[z_slice, :, :] = io.imread(image_lst[i])\n",
    "        if num_channels == 2:\n",
    "            c1_img[z_slice, :, :] = io.imread(image_lst[i])\n",
    "            c2_img[z_slice, :, :] = io.imread(image_lst[i + 1])\n",
    "        if num_channels == 3:\n",
    "            c1_img[z_slice, :, :] = io.imread(image_lst[i])\n",
    "            c2_img[z_slice, :, :] = io.imread(image_lst[i + 1])\n",
    "            c3_img[z_slice, :, :] = io.imread(image_lst[i + 2])\n",
    "        if num_channels == 4:\n",
    "            c1_img[z_slice, :, :] = io.imread(image_lst[i])\n",
    "            c2_img[z_slice, :, :] = io.imread(image_lst[i + 1])\n",
    "            c3_img[z_slice, :, :] = io.imread(image_lst[i + 2])\n",
    "            c4_img[z_slice, :, :] = io.imread(image_lst[i + 3])\n",
    "        if num_channels == 5:\n",
    "            c1_img[z_slice, :, :] = io.imread(image_lst[i])\n",
    "            c2_img[z_slice, :, :] = io.imread(image_lst[i + 1])\n",
    "            c3_img[z_slice, :, :] = io.imread(image_lst[i + 2])\n",
    "            c4_img[z_slice, :, :] = io.imread(image_lst[i + 3])\n",
    "            c5_img[z_slice, :, :] = io.imread(image_lst[i + 4])\n",
    "        z_slice += 1\n",
    "     \n",
    "    ###change back to original directory\n",
    "    os.chdir(home_dir)\n",
    "    \n",
    "    \n",
    "    if num_channels == 1:\n",
    "        c1_img = c1_img.astype(bit)\n",
    "        return(c1_img)\n",
    "    if num_channels == 2:\n",
    "        c1_img = c1_img.astype(bit)\n",
    "        c2_img = c2_img.astype(bit)\n",
    "        return(c1_img, c2_img)\n",
    "    if num_channels == 3:\n",
    "        c1_img = c1_img.astype(bit)\n",
    "        c2_img = c2_img.astype(bit)\n",
    "        c3_img = c2_img.astype(bit)\n",
    "        return(c1_img, c2_img, c3_img)\n",
    "    if num_channels == 4:\n",
    "        c1_img = c1_img.astype(bit)\n",
    "        c2_img = c2_img.astype(bit)\n",
    "        c3_img = c3_img.astype(bit)\n",
    "        c4_img = c4_img.astype(bit)\n",
    "        return(c1_img, c2_img, c3_img, c4_img)\n",
    "\n",
    "    if num_channels  == 5:\n",
    "        c1_img = c1_img.astype(bit)\n",
    "        c2_img = c2_img.astype(bit)\n",
    "        c3_img = c3_img.astype(bit)\n",
    "        c4_img = c4_img.astype(bit)\n",
    "        c5_img = c5_imglastype(bit)\n",
    "        return(c1_img.astype(bit), c2_img.astype(bit), c3_img.astype(bit), c4_img.astype(bit), c5_img.astype(bit))\n"
   ]
  },
  {
   "cell_type": "code",
   "execution_count": 3,
   "metadata": {},
   "outputs": [],
   "source": [
    "'''This will calculate and return the shannon entropy of the normalized discrete cosine transform. This is \n",
    "taken from strategy used in doi: 10.1038/nbt.3708. takes in a 2D array and spits out a scaler, the dcst.\n",
    "'''\n",
    "def dcts(img_):\n",
    "    dis_cos = dct(img_) #take the discrete cosine transform of the image\n",
    "    l2 = np.sqrt(np.sum(np.square(img_))) #perform l2 normalization\n",
    "    inner_term = np.divide(dis_cos, l2) #inner term of the shannon enropy\n",
    "    '''need to get rid of any zeros that occur in inner term'''\n",
    "    inner_term[inner_term == 0] = .0001\n",
    "    first_term = np.abs(inner_term) #first term of shannon entropy\n",
    "    second_term = np.log2(np.abs(inner_term)) #second term of shannon entropy \n",
    "    return(np.multiply(-1, np.sum(np.multiply(first_term, second_term))))\n",
    "    #return(second_term)\n",
    "                        "
   ]
  },
  {
   "cell_type": "code",
   "execution_count": 17,
   "metadata": {},
   "outputs": [],
   "source": [
    "c1, c2, c3, c4 = make_z_stack(4, r'D:\\200217_adipogen_zstacks\\stad442\\xy01', bit_depth = np.float32)"
   ]
  },
  {
   "cell_type": "code",
   "execution_count": 18,
   "metadata": {},
   "outputs": [],
   "source": [
    "'''this iterates over each of the stacks and pulls out the dcts and the std of each slice and places them into\n",
    "respective lists'''\n",
    "\n",
    "#lists to be populated with the dcts of each channel\n",
    "c1_dcts_lst = []\n",
    "c2_dcts_lst = []\n",
    "c3_dcts_lst = []\n",
    "c4_dcts_lst = []\n",
    "\n",
    "#lists to be populated with the std of each channel\n",
    "c1_std_lst = []\n",
    "c2_std_lst = []\n",
    "c3_std_lst = []\n",
    "c4_std_lst = []\n",
    "\n",
    "\n",
    "for i in range(44):\n",
    "    c1_slice  = c1[i, :, :]\n",
    "    c2_slice = c2[i, :, :]\n",
    "    c3_slice = c3[i, :, :]\n",
    "    c4_slice = c4[i, :, :]\n",
    "    \n",
    "    c1_dcts_lst.append(dcts(c1_slice))\n",
    "    c2_dcts_lst.append(dcts(c2_slice))\n",
    "    c3_dcts_lst.append(dcts(c3_slice))\n",
    "    c4_dcts_lst.append(dcts(c4_slice))\n",
    "    \n",
    "    c1_std_lst.append(np.std(c1_slice.flatten()))\n",
    "    c2_std_lst.append(np.std(c2_slice.flatten()))\n",
    "    c3_std_lst.append(np.std(c3_slice.flatten()))\n",
    "    c4_std_lst.append(np.std(c4_slice.flatten()))\n",
    "    "
   ]
  },
  {
   "cell_type": "code",
   "execution_count": 12,
   "metadata": {},
   "outputs": [],
   "source": [
    "%matplotlib qt"
   ]
  },
  {
   "cell_type": "code",
   "execution_count": 23,
   "metadata": {},
   "outputs": [
    {
     "data": {
      "text/plain": [
       "<matplotlib.legend.Legend at 0x217aec8df88>"
      ]
     },
     "execution_count": 23,
     "metadata": {},
     "output_type": "execute_result"
    }
   ],
   "source": [
    "slice_lst = list(range(44))\n",
    "ax = plt.plot(slice_lst, c1_std_lst)\n",
    "ax = plt.plot(slice_lst, c2_std_lst)\n",
    "ax = plt.plot(slice_lst, c3_std_lst)\n",
    "ax = plt.plot(slice_lst, c4_std_lst)\n",
    "plt.legend(['cebp_b', 'cjun', 'rnap', 'dapi'])\n"
   ]
  },
  {
   "cell_type": "code",
   "execution_count": 20,
   "metadata": {},
   "outputs": [
    {
     "name": "stdout",
     "output_type": "stream",
     "text": [
      "{'cebp_b': 0, 'klf4': 0, 'cdk8': 0, 'dapi': 0}\n"
     ]
    }
   ],
   "source": [
    "temp_dict = {'cebp_b' : int((np.argwhere(c1_std_lst == np.max(c1_std_lst)))),\n",
    "             'klf4' : int((np.argwhere(c2_std_lst == np.max(c2_std_lst)))),\n",
    "             'cdk8' : int((np.argwhere(c3_std_lst == np.max(c3_std_lst)))),\n",
    "             'dapi' : int((np.argwhere(c4_std_lst == np.max(c4_std_lst))))}\n",
    "print(temp_dict)"
   ]
  },
  {
   "cell_type": "code",
   "execution_count": 22,
   "metadata": {},
   "outputs": [
    {
     "data": {
      "text/plain": [
       "<matplotlib.legend.Legend at 0x217aed12f08>"
      ]
     },
     "execution_count": 22,
     "metadata": {},
     "output_type": "execute_result"
    }
   ],
   "source": [
    "slice_lst = list(range(44))\n",
    "ax = plt.plot(slice_lst, c1_dcts_lst)\n",
    "ax = plt.plot(slice_lst, c2_dcts_lst)\n",
    "ax = plt.plot(slice_lst, c3_dcts_lst)\n",
    "ax = plt.plot(slice_lst, c4_dcts_lst)\n",
    "plt.legend(['cebp_b', 'cjun', 'rnap', 'dapi'])"
   ]
  },
  {
   "cell_type": "code",
   "execution_count": 24,
   "metadata": {},
   "outputs": [
    {
     "name": "stdout",
     "output_type": "stream",
     "text": [
      "{'cebp_b': 25, 'klf4': 26, 'cdk8': 24, 'dapi': 25}\n"
     ]
    }
   ],
   "source": [
    "dcts_dict = {'cebp_b' : int((np.argwhere(c1_dcts_lst == np.max(c1_dcts_lst)))),\n",
    "             'klf4' : int((np.argwhere(c2_dcts_lst == np.max(c2_dcts_lst)))),\n",
    "             'cdk8' : int((np.argwhere(c3_dcts_lst == np.max(c3_dcts_lst)))),\n",
    "             'dapi' : int((np.argwhere(c4_dcts_lst == np.max(c4_dcts_lst))))}\n",
    "print(dcts_dict)"
   ]
  },
  {
   "cell_type": "code",
   "execution_count": 142,
   "metadata": {},
   "outputs": [],
   "source": [
    "ax = plt.plot(list(range(44)), c1_dcts_lst, color = 'b')"
   ]
  },
  {
   "cell_type": "code",
   "execution_count": 144,
   "metadata": {},
   "outputs": [
    {
     "data": {
      "text/plain": [
       "array([[29]], dtype=int64)"
      ]
     },
     "execution_count": 144,
     "metadata": {},
     "output_type": "execute_result"
    }
   ],
   "source": [
    "np.argwhere(c1_dcts_lst == np.max(c1_dcts_lst))"
   ]
  },
  {
   "cell_type": "code",
   "execution_count": 133,
   "metadata": {},
   "outputs": [
    {
     "data": {
      "image/png": "[encoded data removed]",
      "text/plain": [
       "<Figure size 432x288 with 2 Axes>"
      ]
     },
     "metadata": {
      "needs_background": "light"
     },
     "output_type": "display_data"
    }
   ],
   "source": [
    "\n",
    "fig, ax1 = plt.subplots()\n",
    "\n",
    "ax2 = ax1.twinx()\n",
    "ax1.plot(list(range(44)), c1_dcts_lst, color = 'b', label = 'dcts')\n",
    "\n",
    "ax2.plot(list(range(44)), c1_std_lst, color = 'orange', label = 'std')\n",
    "\n",
    "ax1.set_xlabel('z-slice')\n",
    "ax1.set_ylabel('dcts')\n",
    "ax2.set_ylabel('std')\n",
    "\n",
    "#plt.legend(['dcts', 'std'])\n",
    "ax1.legend(loc = 0)\n",
    "ax2.legend()\n",
    "plt.show()"
   ]
  },
  {
   "cell_type": "code",
   "execution_count": 124,
   "metadata": {},
   "outputs": [
    {
     "data": {
      "text/plain": [
       "<matplotlib.legend.Legend at 0x1ee087db248>"
      ]
     },
     "execution_count": 124,
     "metadata": {},
     "output_type": "execute_result"
    },
    {
     "data": {
      "image/png": "[encoded data removed]",
      "text/plain": [
       "<Figure size 432x288 with 1 Axes>"
      ]
     },
     "metadata": {
      "needs_background": "light"
     },
     "output_type": "display_data"
    }
   ],
   "source": [
    "ax = plt.subplot(111)\n",
    "\n",
    "ax.plot(list(range(44)), c1_dcts_lst, label = 'dcts')\n",
    "ax.plot(list(range(44)), np.multiply(c1_std_lst, 100), label = 'std * 150')\n",
    "ax.legend()"
   ]
  },
  {
   "cell_type": "code",
   "execution_count": 75,
   "metadata": {},
   "outputs": [
    {
     "data": {
      "text/plain": [
       "array([[23]], dtype=int64)"
      ]
     },
     "execution_count": 75,
     "metadata": {},
     "output_type": "execute_result"
    }
   ],
   "source": [
    "np.argwhere(c1_std_lst == np.max(c1_std_lst))"
   ]
  },
  {
   "cell_type": "code",
   "execution_count": 79,
   "metadata": {},
   "outputs": [
    {
     "data": {
      "text/plain": [
       "array([[25]], dtype=int64)"
      ]
     },
     "execution_count": 79,
     "metadata": {},
     "output_type": "execute_result"
    }
   ],
   "source": [
    "np.argwhere(c1_dcts_lst == np.max(c1_dcts_lst))"
   ]
  },
  {
   "cell_type": "code",
   "execution_count": null,
   "metadata": {},
   "outputs": [],
   "source": [
    "c1_dc"
   ]
  },
  {
   "cell_type": "code",
   "execution_count": 45,
   "metadata": {},
   "outputs": [],
   "source": [
    "c13 = c1[21, :, :]"
   ]
  },
  {
   "cell_type": "code",
   "execution_count": 46,
   "metadata": {},
   "outputs": [
    {
     "name": "stderr",
     "output_type": "stream",
     "text": [
      "C:\\Users\\timdaugird\\AppData\\Roaming\\Python\\Python37\\site-packages\\ipykernel_launcher.py:8: RuntimeWarning: divide by zero encountered in log2\n",
      "  \n",
      "C:\\Users\\timdaugird\\AppData\\Roaming\\Python\\Python37\\site-packages\\ipykernel_launcher.py:9: RuntimeWarning: invalid value encountered in multiply\n",
      "  if __name__ == '__main__':\n"
     ]
    },
    {
     "data": {
      "text/plain": [
       "nan"
      ]
     },
     "execution_count": 46,
     "metadata": {},
     "output_type": "execute_result"
    }
   ],
   "source": [
    "dcts(c13)"
   ]
  },
  {
   "cell_type": "code",
   "execution_count": 47,
   "metadata": {},
   "outputs": [],
   "source": [
    "jnk_ = dct(c13)"
   ]
  },
  {
   "cell_type": "code",
   "execution_count": 48,
   "metadata": {},
   "outputs": [],
   "source": [
    "l2_jnk = np.sqrt(np.sum(np.square(jnk_)))"
   ]
  },
  {
   "cell_type": "code",
   "execution_count": 51,
   "metadata": {},
   "outputs": [],
   "source": [
    "inner_term = np.divide(jnk_, l2_jnk)\n"
   ]
  },
  {
   "cell_type": "code",
   "execution_count": 53,
   "metadata": {},
   "outputs": [
    {
     "data": {
      "text/plain": [
       "-0.010719897"
      ]
     },
     "execution_count": 53,
     "metadata": {},
     "output_type": "execute_result"
    }
   ],
   "source": [
    "np.min(inner_term)"
   ]
  },
  {
   "cell_type": "code",
   "execution_count": 54,
   "metadata": {},
   "outputs": [
    {
     "name": "stderr",
     "output_type": "stream",
     "text": [
      "C:\\Users\\timdaugird\\AppData\\Roaming\\Python\\Python37\\site-packages\\ipykernel_launcher.py:2: RuntimeWarning: divide by zero encountered in log2\n",
      "  \n"
     ]
    }
   ],
   "source": [
    "first_term = np.abs(inner_term)\n",
    "second_term = np.log2(np.abs(inner_term))"
   ]
  },
  {
   "cell_type": "code",
   "execution_count": 55,
   "metadata": {},
   "outputs": [
    {
     "name": "stderr",
     "output_type": "stream",
     "text": [
      "C:\\Users\\timdaugird\\AppData\\Roaming\\Python\\Python37\\site-packages\\ipykernel_launcher.py:1: RuntimeWarning: divide by zero encountered in log2\n",
      "  \"\"\"Entry point for launching an IPython kernel.\n"
     ]
    }
   ],
   "source": [
    "second_term = np.log2(np.abs(inner_term))"
   ]
  },
  {
   "cell_type": "code",
   "execution_count": 56,
   "metadata": {},
   "outputs": [
    {
     "data": {
      "text/plain": [
       "0.0"
      ]
     },
     "execution_count": 56,
     "metadata": {},
     "output_type": "execute_result"
    }
   ],
   "source": [
    "np.min(np.abs(inner_term))"
   ]
  },
  {
   "cell_type": "code",
   "execution_count": 63,
   "metadata": {},
   "outputs": [
    {
     "data": {
      "text/plain": [
       "array([[1195, 1721]], dtype=int64)"
      ]
     },
     "execution_count": 63,
     "metadata": {},
     "output_type": "execute_result"
    }
   ],
   "source": [
    "np.argwhere(inner_term == 0)"
   ]
  },
  {
   "cell_type": "code",
   "execution_count": 60,
   "metadata": {},
   "outputs": [
    {
     "data": {
      "text/plain": [
       "0.01071"
      ]
     },
     "execution_count": 60,
     "metadata": {},
     "output_type": "execute_result"
    }
   ],
   "source": [
    "np.abs(-0.01071)"
   ]
  },
  {
   "cell_type": "code",
   "execution_count": null,
   "metadata": {},
   "outputs": [],
   "source": []
  }
 ],
 "metadata": {
  "kernelspec": {
   "display_name": "Python 3",
   "language": "python",
   "name": "python3"
  },
  "language_info": {
   "codemirror_mode": {
    "name": "ipython",
    "version": 3
   },
   "file_extension": ".py",
   "mimetype": "text/x-python",
   "name": "python",
   "nbconvert_exporter": "python",
   "pygments_lexer": "ipython3",
   "version": "3.7.6"
  }
 },
 "nbformat": 4,
 "nbformat_minor": 4
}
