{
 "cells": [
  {
   "cell_type": "markdown",
   "metadata": {},
   "source": [
    "### This is testing script to pull the most in focus slice out of images based on shannon entropy of normalized discrete cosine transform. This is similar to previous scripts but it is looking at nd2 files instead of a series of .tiffs"
   ]
  },
  {
   "cell_type": "code",
   "execution_count": 1,
   "metadata": {},
   "outputs": [],
   "source": [
    "import os\n",
    "import numpy as np\n",
    "import pandas as pd\n",
    "import matplotlib.pyplot as plt\n",
    "%gui qt\n",
    "import napari\n",
    "from skimage import io\n",
    "import seaborn as sns\n",
    "from nd2reader import ND2Reader"
   ]
  },
  {
   "cell_type": "code",
   "execution_count": 35,
   "metadata": {},
   "outputs": [],
   "source": [
    "orig_img_dir = r'Z:\\TAD\\200610_adipogenesis_timecourse_r10_v2\\gr-rxr-set'\n",
    "new_img_dri = r'Z:\\TAD\\200610_adipogenesis_timecourse_r10_v2\\gr-rxr-set\\temp_imgs'"
   ]
  },
  {
   "cell_type": "code",
   "execution_count": 36,
   "metadata": {},
   "outputs": [],
   "source": [
    "os.chdir(orig_img_dir)"
   ]
  },
  {
   "cell_type": "code",
   "execution_count": 3,
   "metadata": {},
   "outputs": [
    {
     "data": {
      "text/plain": [
       "['dapi0.tif',\n",
       " 'dapi0_segm_.tiff',\n",
       " 'dapi1.tif',\n",
       " 'dapi1_segm_.tiff',\n",
       " 'dapi2.tif',\n",
       " 'dapi2_segm_.tiff',\n",
       " 'stad424',\n",
       " 'stad425_rois002.nd2',\n",
       " 'stad425_rois003.nd2',\n",
       " 'stad425_rois004.nd2']"
      ]
     },
     "execution_count": 3,
     "metadata": {},
     "output_type": "execute_result"
    }
   ],
   "source": [
    "os.listdir()\n"
   ]
  },
  {
   "cell_type": "code",
   "execution_count": 23,
   "metadata": {},
   "outputs": [],
   "source": [
    "'''This will calculate and return the shannon entropy of the normalized discrete cosine transform. This is \n",
    "taken from strategy used in doi: 10.1038/nbt.3708. takes in a 2D array and spits out a scaler, the dcst.\n",
    "'''\n",
    "def dcts(img_):\n",
    "    dis_cos = dct(img_) #take the discrete cosine transform of the image\n",
    "    l2 = np.sqrt(np.sum(np.square(img_))) #perform l2 normalization\n",
    "    inner_term = np.divide(dis_cos, l2) #inner term of the shannon enropy\n",
    "    '''need to get rid of any zeros that occur in inner term'''\n",
    "    inner_term[inner_term == 0] = .0001\n",
    "    first_term = np.abs(inner_term) #first term of shannon entropy\n",
    "    second_term = np.log2(np.abs(inner_term)) #second term of shannon entropy \n",
    "    return(np.multiply(-1, np.sum(np.multiply(first_term, second_term))))"
   ]
  },
  {
   "cell_type": "code",
   "execution_count": 4,
   "metadata": {},
   "outputs": [],
   "source": [
    "img_filename_lst = ['stad425_rois002.nd2',\n",
    " 'stad425_rois003.nd2',\n",
    " 'stad425_rois004.nd2']"
   ]
  },
  {
   "cell_type": "code",
   "execution_count": 26,
   "metadata": {},
   "outputs": [],
   "source": [
    "roi2_multipoints = ND2Reader('stad425_rois002.nd2')\n",
    "roi4_multipoints = ND2Reader('stad425_rois004.nd2')"
   ]
  },
  {
   "cell_type": "code",
   "execution_count": 27,
   "metadata": {},
   "outputs": [
    {
     "data": {
      "text/plain": [
       "{'x': 2048, 'y': 2044, 'c': 4, 't': 1, 'z': 45}"
      ]
     },
     "execution_count": 27,
     "metadata": {},
     "output_type": "execute_result"
    }
   ],
   "source": [
    "roi2_multipoints.sizes"
   ]
  },
  {
   "cell_type": "code",
   "execution_count": 28,
   "metadata": {},
   "outputs": [],
   "source": [
    "''' this is working out how to hanlde the data and pull the mid slice from each of these images'''\n",
    "img_filename_lst = ['stad425_rois002.nd2', 'stad425_rois004.nd2'] #list of .nd2 files to be read\n",
    "\n",
    "'''iterate over each files of view in eahc .nds file and save the most in focus single z-slice into a new .tiff file'''\n",
    "\n",
    "for img_file in :\n",
    "    multipoints_nd2 = ND2Reader(img_file) #read in .nd2 file. this is either 5 or 6 dimensional pims like image\n",
    "    multipoints_nd2.bundle_axes = 'czyx' #bundle the czyx dimensions together\n",
    "    if 'v' in multipoints_nd2.sizes: # this checks to see if there are multipole fields of view in the .nd2 image. It will iterate over FOVs if this is the case\n",
    "        multipoints_nd2.iter_axes = 'v' #turn the field of view int othe 'index' fro the the images\n",
    "        multipoints_5d_array = np.array(multipoints_nd2).astype('uint16') #converst the image into a 16bit array for easier handling. It takes aa moment to read this large file into memory but I think that it is worht i int hte longs end\n",
    "        \n",
    "        for fov in multipoints_5d_array: # iterate over the fields of view\n",
    "            dcts_lst = [] #list to be appended with the dcts of each slice in the image\n",
    "            dapi_3d = multipoints_5d_array[fov, 3, :, :, :] #pull out just the dapi channel\n",
    "            for zslice in range(dapi_3d.shape[0]): #iterate over the zslices in the dapi image\n",
    "                dapi_slice = dapi_3d[zslice, :, :] #pull out an individaul slice\n",
    "                dcts_lst.append(dcts(dapi_3d)) #append the shannaon entropy of discreate cosine transform to list\n",
    "            min_entropy = np.argwhere(np.array(dcts_lst) == np.min(dcts_lst))  #find position in the list of the minimum entropy\n",
    "            os.chdir(new_img_dir) #change to new directory for image\n",
    "            for channel in range(img_5d_multi.shape[1]):\n",
    "                io.imsave(filename[:-4])\n",
    "    else: # if the .nd2 file only contains a single field of view than it heads down this path. This is the same as above minus an iteration\n",
    "        dcts_lst = [] #empyt list to be poulated with DCTS of each z-slice in the image\n",
    "        multipoints_4d_array = np.array(multipoints_nd2).astype('uint16') #convert .nd2 file into numpy arra\n",
    "        dapi_3d = multipoints_4d_array[3, :, :, :] # pull out just the dapi chanel\n",
    "        for zslice in range(dapi_3d.shape[0]): #iterate over the z-slices in the dapi image\n",
    "                dapi_slice = dapi_3d[zslice, :, :] #look at a single slice in the dapi channel\n",
    "                dcts_lst.append(dcts(dapi_slice)) #determine the DCTS of the image and add it to running list\n",
    "     \n",
    "            "
   ]
  },
  {
   "cell_type": "code",
   "execution_count": 40,
   "metadata": {},
   "outputs": [
    {
     "data": {
      "text/plain": [
       "'stad425_rois002'"
      ]
     },
     "execution_count": 40,
     "metadata": {},
     "output_type": "execute_result"
    }
   ],
   "source": [
    "img_filename_lst[0][:-4]"
   ]
  },
  {
   "cell_type": "code",
   "execution_count": 24,
   "metadata": {},
   "outputs": [],
   "source": [
    "roi2_multipoints.bundle_axes = 'czyx'"
   ]
  },
  {
   "cell_type": "code",
   "execution_count": 25,
   "metadata": {},
   "outputs": [],
   "source": [
    "roi4_multipoints.bundle_axes = 'czyx'"
   ]
  },
  {
   "cell_type": "code",
   "execution_count": 45,
   "metadata": {},
   "outputs": [
    {
     "name": "stdout",
     "output_type": "stream",
     "text": [
      "<FramesSequenceND>\n",
      "Axes: 6\n",
      "Axis 'x' size: 2048\n",
      "Axis 'y' size: 2044\n",
      "Axis 'c' size: 4\n",
      "Axis 't' size: 1\n",
      "Axis 'z' size: 25\n",
      "Axis 'v' size: 5\n",
      "Pixel Datatype: <class 'numpy.float64'>\n"
     ]
    }
   ],
   "source": [
    "print(imgs)"
   ]
  },
  {
   "cell_type": "code",
   "execution_count": null,
   "metadata": {},
   "outputs": [],
   "source": []
  }
 ],
 "metadata": {
  "kernelspec": {
   "display_name": "img_analysis",
   "language": "python",
   "name": "img_analysis"
  },
  "language_info": {
   "codemirror_mode": {
    "name": "ipython",
    "version": 3
   },
   "file_extension": ".py",
   "mimetype": "text/x-python",
   "name": "python",
   "nbconvert_exporter": "python",
   "pygments_lexer": "ipython3",
   "version": "3.7.6"
  }
 },
 "nbformat": 4,
 "nbformat_minor": 4
}
