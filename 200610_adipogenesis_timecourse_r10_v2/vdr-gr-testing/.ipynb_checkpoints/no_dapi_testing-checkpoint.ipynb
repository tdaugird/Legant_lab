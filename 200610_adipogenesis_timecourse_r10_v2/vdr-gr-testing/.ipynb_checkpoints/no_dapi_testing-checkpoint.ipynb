{
 "cells": [
  {
   "cell_type": "markdown",
   "metadata": {},
   "source": [
    "Nuclei masks for images that to not have DAPI\n",
    "\n",
    "A few of the images from this data set do not have dapi as I forgot when I was mounting. As a result I need to figure out a decent way to segment nuclei images from the other channels. "
   ]
  },
  {
   "cell_type": "code",
   "execution_count": 1,
   "metadata": {},
   "outputs": [],
   "source": [
    "import os\n",
    "import numpy as np\n",
    "from skimage import io\n",
    "from skimage.filters import threshold_otsu, gaussian\n",
    "from nd2reader import ND2Reader\n",
    "from datetime import datetime\n",
    "import matplotlib.pyplot as plt\n",
    "import napari\n",
    "from scipy.fftpack import dct"
   ]
  },
  {
   "cell_type": "markdown",
   "metadata": {},
   "source": [
    "# Read in sample image\n",
    "This is for reading in a .nd2 file. The original file has a total of 6 channels. There are multiple FOV's. These are also z-stacks with three colors. C1 = CEBPb-AF647. C2-AF555 = GR, C3 = VDR-AF488"
   ]
  },
  {
   "cell_type": "code",
   "execution_count": 2,
   "metadata": {},
   "outputs": [],
   "source": [
    "gr_vdr_dir = r'Z:\\TAD\\200610_adipogenesis_timecourse_r10_v2\\gr-rxr-set'\n",
    "os.chdir(gr_vdr_dir)\n"
   ]
  },
  {
   "cell_type": "code",
   "execution_count": 3,
   "metadata": {},
   "outputs": [],
   "source": [
    "nd2_multipoints = ND2Reader('stad430_rois002.nd2') # read in a vdr-gr-cebpb image that has no dapi\n",
    "nd2_multipoints.bundle_axes = 'czyx' #bundle the channel and zyx coordinates\n",
    "nd2_multipoints.iter_axes = 'v' # set the index to the field of view\n",
    "img_5d = np.array(nd2_multipoints[:2], dtype = float) #change the pims image into a numpy array containing float"
   ]
  },
  {
   "cell_type": "code",
   "execution_count": 4,
   "metadata": {},
   "outputs": [
    {
     "data": {
      "text/plain": [
       "(2, 3, 25, 2044, 2048)"
      ]
     },
     "execution_count": 4,
     "metadata": {},
     "output_type": "execute_result"
    }
   ],
   "source": [
    "img_5d.shape"
   ]
  },
  {
   "cell_type": "markdown",
   "metadata": {},
   "source": [
    "# First Pass:\n",
    "As a first pass this is not doing as great of a job as I would have hoped. I am still getting a good bit of background on the CEBPb channel\n",
    "\n",
    "on second pass it looks like it is actually the 488 image that is add all of the background"
   ]
  },
  {
   "cell_type": "code",
   "execution_count": 5,
   "metadata": {},
   "outputs": [],
   "source": [
    "'''this is function to normalize 3d array. It takes in a 3d array and divides each voxel by the 98%'''\n",
    "def normalize_img(img_, percentile = .98):\n",
    "    normer = np.quantile(img_, percentile)\n",
    "    return(np.divide(img_, normer))"
   ]
  },
  {
   "cell_type": "code",
   "execution_count": 59,
   "metadata": {},
   "outputs": [],
   "source": [
    "\n",
    "'''this is for generating image that is the averaged mip from each channel for each fov'''\n",
    "img_dict = {} #dictionary to contain the mips\n",
    "\n",
    "img_5d_ = img_5d[:2, :, :, :, :]\n",
    "\n",
    "for fov in range(img_5d_.shape[0]): #iterate over the fields of view\n",
    "    img_4d = img_5d_[fov, :, :, :] #pull out a single filed of view. This has all three c and zyx\n",
    "    img_4d = img_4d[:-1, :, :, :]\n",
    "    img_4d = np.moveaxis(img_4d, 0, -1) #move the channel to the last axis\n",
    "    img_4d_blurred = gaussian(img_4d, 5, multichannel = True) #apply a gaussian filter to each channel in the image\n",
    "    #c1_3d = img_4d[0, :, :, :] #cebp zstack\n",
    "    #c2_3d = img_4d[1, :, :, :] #gr zstack\n",
    "    #c3_3d = img_4d[2, :, :, :] #vdr zstack\n",
    "    #c1_3d_blurred = gaussian(c1_3d, 3) #apply a guassian filter to the image\n",
    "    #c2_3d_blurred = gaussian(c2_3d, 3)\n",
    "    #c3_3d_blurred = gaussian(c3_3d, 3)\n",
    "    #c1_3d_normed = normalize_img(c1_3d_blurred) #normalize the blurred image\n",
    "    #c2_3d_normed = normalize_img(c2_3d_blurred)\n",
    "    #c3_3d_normed = normalize_img(c3_3d_blurred)\n",
    "    #new_img = np.zeros((c1_3d.shape[0], c1_3d.shape[1], c1_3d.shape[2])) #this is new 3d array to be populated with maximum values\n",
    "    channel_max = np.mean(img_4d_blurred, axis = -1)\n",
    "    z_max = np.max(channel_max, axis = 0)\n",
    "    img_dict.update({'max_img'+str(fov) : z_max})\n"
   ]
  },
  {
   "cell_type": "code",
   "execution_count": 60,
   "metadata": {},
   "outputs": [
    {
     "data": {
      "text/plain": [
       "<matplotlib.image.AxesImage at 0x1fa8fd26b48>"
      ]
     },
     "execution_count": 60,
     "metadata": {},
     "output_type": "execute_result"
    }
   ],
   "source": [
    "fix, axes = plt.subplots(1, 3)\n",
    "axes = axes.flatten()\n",
    "\n",
    "axes[0].imshow(img_4d[12, :, :, 0])\n",
    "axes[1].imshow(img_4d[12, :, :, 1])\n",
    "#axes[2].imshow(img_4d[12, :, :, 2])\n",
    "axes[2].imshow(z_max)"
   ]
  },
  {
   "cell_type": "code",
   "execution_count": 32,
   "metadata": {},
   "outputs": [],
   "source": [
    "z_mean = np.copy(z_max)\n",
    "channel_max = np.max(img_4d_blurred, axis = -1)\n",
    "z_max = np.max(channel_max, axis = 0)"
   ]
  },
  {
   "cell_type": "code",
   "execution_count": 37,
   "metadata": {},
   "outputs": [],
   "source": [
    "z_mean_ = np.mean(img_4d_blurred, axis = -1)\n",
    "z_mean_ = np.mean(channel_max, axis = 0)"
   ]
  },
  {
   "cell_type": "code",
   "execution_count": 39,
   "metadata": {},
   "outputs": [],
   "source": [
    "z_mean_ = z_mean_.astype('float32')\n",
    "io.imsave('z_mean_.tif', z_mean_)"
   ]
  },
  {
   "cell_type": "code",
   "execution_count": 36,
   "metadata": {},
   "outputs": [],
   "source": [
    "io.imsave('z_mean.tif', z_mean)\n",
    "io.imsave('z_max.tif', z_max)"
   ]
  },
  {
   "cell_type": "code",
   "execution_count": 35,
   "metadata": {},
   "outputs": [],
   "source": [
    "z_mean = z_mean.astype('float32')\n",
    "z_max = z_max.astype('float32')"
   ]
  },
  {
   "cell_type": "code",
   "execution_count": 29,
   "metadata": {},
   "outputs": [],
   "source": [
    "%matplotlib qt"
   ]
  },
  {
   "cell_type": "code",
   "execution_count": 31,
   "metadata": {},
   "outputs": [
    {
     "data": {
      "text/plain": [
       "<matplotlib.image.AxesImage at 0x1fa6152c648>"
      ]
     },
     "execution_count": 31,
     "metadata": {},
     "output_type": "execute_result"
    }
   ],
   "source": [
    "fix, axes = plt.subplots(1, 4)\n",
    "axes = axes.flatten()\n",
    "\n",
    "axes[0].imshow(img_4d[12, :, :, 0])\n",
    "axes[1].imshow(img_4d[12, :, :, 1])\n",
    "axes[2].imshow(img_4d[12, :, :, 2])\n",
    "axes[3].imshow(z_max)"
   ]
  },
  {
   "cell_type": "markdown",
   "metadata": {},
   "source": [
    "# Filter to get rid of bg in CEBPb \n",
    "I am going to do a little bit of filtering to try and get rid of the background in the cebp b channel"
   ]
  },
  {
   "cell_type": "code",
   "execution_count": 49,
   "metadata": {},
   "outputs": [],
   "source": [
    "img_4d = img_5d[1, :, :, :]"
   ]
  },
  {
   "cell_type": "code",
   "execution_count": 58,
   "metadata": {},
   "outputs": [
    {
     "data": {
      "text/plain": [
       "<matplotlib.image.AxesImage at 0x1fb9f8a39c8>"
      ]
     },
     "execution_count": 58,
     "metadata": {},
     "output_type": "execute_result"
    }
   ],
   "source": [
    "c2_3d = img_4d[1, :, :, :]\n",
    "c3_3d = img_4d[2, :, :, :]\n",
    "\n",
    "c23_meaned = (c2_3d + c3_3d) / 2\n",
    "c23_meaned = gaussian(c23_meaned, 5)\n",
    "#c2_max = np.max(c2_3d, axis = 0)\n",
    "#c3_max = np.max(c3_3d, axis = 0)\n",
    "#c2_max_blurred = gaussian(c2_max, 5)\n",
    "#c3_max_blurred = gaussian(c3_max, 5)\n",
    "c23_meaned_mip = np.max(c23_meaned, axis = 0)\n",
    "\n",
    "\n",
    "c23_thresh = threshold_otsu(c23_meaned_mip)\n",
    "c23_mask = np.array(c23_meaned_mip > c23_thresh)\n",
    "\n",
    "fig, axes = plt.subplots(1,3)\n",
    "axes = axes.flatten()\n",
    "\n",
    "axes[0].imshow(c2_3d[12, :, :])\n",
    "axes[1].imshow(c3_3d[12, :, :])\n",
    "axes[2].imshow(c23_mask)"
   ]
  },
  {
   "cell_type": "code",
   "execution_count": 53,
   "metadata": {},
   "outputs": [
    {
     "data": {
      "text/plain": [
       "()"
      ]
     },
     "execution_count": 53,
     "metadata": {},
     "output_type": "execute_result"
    }
   ],
   "source": [
    "c23_meaned.shape"
   ]
  },
  {
   "cell_type": "code",
   "execution_count": 51,
   "metadata": {},
   "outputs": [
    {
     "data": {
      "text/plain": [
       "<Image layer 'c2_3d' at 0x1fb8db5b608>"
      ]
     },
     "execution_count": 51,
     "metadata": {},
     "output_type": "execute_result"
    }
   ],
   "source": [
    "viewer = napari.Viewer()\n",
    "viewer.add_image(c2_3d)"
   ]
  },
  {
   "cell_type": "markdown",
   "metadata": {},
   "source": [
    "# Pull middle slice instead\n",
    "This is still not working exactly as I would like but I think that much of the background can be overcome by just finding the middle slice"
   ]
  },
  {
   "cell_type": "code",
   "execution_count": 4,
   "metadata": {},
   "outputs": [],
   "source": [
    "'''This will calculate and return the shannon entropy of the normalized discrete cosine transform. This is \n",
    "taken from strategy used in doi: 10.1038/nbt.3708. takes in a 2D array and spits out a scaler, the dcst.\n",
    "'''\n",
    "def dcts(img_):\n",
    "    dis_cos = dct(img_) #take the discrete cosine transform of the image\n",
    "    l2 = np.sqrt(np.sum(np.square(img_))) #perform l2 normalization\n",
    "    inner_term = np.divide(dis_cos, l2) #inner term of the shannon enropy\n",
    "    '''need to get rid of any zeros that occur in inner term'''\n",
    "    inner_term[inner_term == 0] = .0001\n",
    "    first_term = np.abs(inner_term) #first term of shannon entropy\n",
    "    second_term = np.log2(np.abs(inner_term)) #second term of shannon entropy \n",
    "    return(np.multiply(-1, np.sum(np.multiply(first_term, second_term))))\n",
    "    #return(second_term)"
   ]
  },
  {
   "cell_type": "code",
   "execution_count": 5,
   "metadata": {},
   "outputs": [],
   "source": [
    "'''this is function to normalize 3d array. It takes in a 3d array and divides each voxel by the 98%'''\n",
    "def normalize_img(img_, percentile = .98):\n",
    "    normer = np.quantile(img_, percentile)\n",
    "    return(np.divide(img_, normer))"
   ]
  },
  {
   "cell_type": "code",
   "execution_count": 21,
   "metadata": {},
   "outputs": [],
   "source": [
    "'''this is for generating image that is the averaged mip from each channel for each fov'''\n",
    "img_dict = {} #dictionary to contain the mips\n",
    "\n",
    "img_5d_ = img_5d[:2, :, :, :, :]\n",
    "\n",
    "for fov in range(img_5d_.shape[0]): #iterate over the fields of view\n",
    "    img_4d = img_5d_[fov, :, :, :] #pull out a single filed of view. This has all three c and zyx\n",
    "    \n",
    "    ''' I would like to find where the middle slice is first'''\n",
    "    c2_3d = img_4d[2, :, :, :] #vdr zstack\n",
    "    dcts_lst = [] #dictionary to be populated with the DCTS of each slice inf c2_3d\n",
    "    for zslice in range(c2_3d.shape[0]): #iterate over each slice in the z stack pull out the DCTS\n",
    "        c2_ = c2_3d[zslice, :, :] #choose individual slice\n",
    "        dcts_lst.append(dcts(c2_)) #append the runnining list with the value of DCTS for this slice\n",
    "    mid_slice = np.argwhere(np.array(dcts_lst) == np.max(dcts_lst)) #max value of DCTS lst is the middle slice\n",
    "    \n",
    "    '''from there I would like to get a mip of the middle regions of the image'''\n",
    "    z_bottom = int(max([0, mid_slice - 3])) # put in fail safe in case mid slice is at bottom os stack\n",
    "    z_top = int(min([mid_slice + 3, c2_3d.shape[0]])) #put in fail safe in case mid slice is at top of stack\n",
    "    img_4d_mid_region = img_4d[:, z_bottom:z_top, :, :] #pull out only the middle seven z-slices\n",
    "    img_4d_mid_region = np.moveaxis(img_4d_mid_region, 0, -1) #move the channel to the last axis\n",
    "    img_4d_blurred = gaussian(img_4d_mid_region, 5, multichannel = True) #apply a gaussian filter to each channel in the image\n",
    "    '''prior to combining everything together I would like to normalize all of the channels'''\n",
    "    for chan in range(img_4d_blurred.shape[-1]):\n",
    "        img_4d_blurred[:, :, :, chan] = normalize_img(img_4d_blurred[:, :, :, chan])\n",
    "    channel_mean = np.mean(img_4d_blurred, axis = -1) #average all three channels together\n",
    "    z_max = np.max(channel_mean, axis = 0) #make a mip of all three merged channels\n",
    "    img_dict.update({'max_img'+str(fov) : z_max})"
   ]
  },
  {
   "cell_type": "code",
   "execution_count": 12,
   "metadata": {},
   "outputs": [],
   "source": [
    "'''make a copy of z max for a little more down stream processing.'''\n",
    "z_max3 = np.copy(z_max)"
   ]
  },
  {
   "cell_type": "code",
   "execution_count": 18,
   "metadata": {},
   "outputs": [],
   "source": [
    "'''save .tif file'''\n",
    "z_max3 = z_max3.astype('float32')\n",
    "\n",
    "io.imsave('zmax_3chan.tif', z_max3)"
   ]
  },
  {
   "cell_type": "code",
   "execution_count": 23,
   "metadata": {},
   "outputs": [
    {
     "name": "stderr",
     "output_type": "stream",
     "text": [
      "C:\\Users\\LegantLab\\anaconda3\\lib\\site-packages\\ipykernel_launcher.py:11: UserWarning: img_c3.tif is a low contrast image\n",
      "  # This is added back by InteractiveShellApp.init_path()\n"
     ]
    }
   ],
   "source": [
    "#'need to put image into XYCZT'\n",
    "img_4d_temp = img_4d[:, z_bottom:z_top, :, :]\n",
    "\n",
    "\n",
    "#img_4d_temp1 = np.moveaxis(img_4d_temp, 0, -1) #makes order zyxc\n",
    "#img_4d_temp2 = np.moveaxis(img_4d_temp1, 0, -1) #makes order yxcz\n",
    "#img_4d_temp3 = np.moveaxis(img_4d_temp2, 0, 1) #makes order xycz\n",
    "\n",
    "io.imsave('img_c1.tif',  img_4d_temp[0, :, :, :].astype('uint16'))\n",
    "io.imsave('img_c2.tif',  img_4d_temp[1, :, :, :].astype('uint16'))\n",
    "io.imsave('img_c3.tif',  img_4d_temp[2, :, :, :].astype('uint16'))"
   ]
  },
  {
   "cell_type": "code",
   "execution_count": 19,
   "metadata": {},
   "outputs": [],
   "source": [
    "img_"
   ]
  },
  {
   "cell_type": "code",
   "execution_count": 48,
   "metadata": {},
   "outputs": [
    {
     "data": {
      "text/plain": [
       "(3, 6, 2044, 2048)"
      ]
     },
     "execution_count": 48,
     "metadata": {},
     "output_type": "execute_result"
    }
   ],
   "source": [
    "img_4d_temp.shape"
   ]
  },
  {
   "cell_type": "code",
   "execution_count": 49,
   "metadata": {},
   "outputs": [
    {
     "data": {
      "text/plain": [
       "(6, 2044, 2048, 3)"
      ]
     },
     "execution_count": 49,
     "metadata": {},
     "output_type": "execute_result"
    }
   ],
   "source": [
    "img_4d_temp1.shape"
   ]
  },
  {
   "cell_type": "code",
   "execution_count": 50,
   "metadata": {},
   "outputs": [
    {
     "data": {
      "text/plain": [
       "(2048, 2044, 3, 6)"
      ]
     },
     "execution_count": 50,
     "metadata": {},
     "output_type": "execute_result"
    }
   ],
   "source": [
    "img_4d_temp3.shape\n"
   ]
  },
  {
   "cell_type": "code",
   "execution_count": 41,
   "metadata": {},
   "outputs": [],
   "source": [
    "'''this is same as above but exclude the cebp b channel from the mip.\n",
    "It is for generating image that is the averaged mip from each channel for each fov'''\n",
    "img_dict = {} #dictionary to contain the mips\n",
    "\n",
    "img_5d_ = img_5d[:2, :, :, :, :]\n",
    "\n",
    "for fov in range(img_5d_.shape[0]): #iterate over the fields of view\n",
    "    img_4d = img_5d_[fov, :, :, :] #pull out a single filed of view. This has all three c and zyx\n",
    "    \n",
    "    ''' I would like to find where the middle slice is first'''\n",
    "    c2_3d = img_4d[2, :, :, :] #vdr zstack\n",
    "    dcts_lst = [] #dictionary to be populated with the DCTS of each slice inf c2_3d\n",
    "    for zslice in range(c2_3d.shape[0]): #iterate over each slice in the z stack pull out the DCTS\n",
    "        c2_ = c2_3d[zslice, :, :] #choose individual slice\n",
    "        dcts_lst.append(dcts(c2_)) #append the runnining list with the value of DCTS for this slice\n",
    "    mid_slice = np.argwhere(np.array(dcts_lst) == np.max(dcts_lst)) #max value of DCTS lst is the middle slice\n",
    "    \n",
    "    '''from there I would like to get a mip of the middle regions of the image'''\n",
    "    z_bottom = int(max([0, mid_slice - 3])) # put in fail safe in case mid slice is at bottom os stack\n",
    "    z_top = int(min([mid_slice + 3, c2_3d.shape[0]])) #put in fail safe in case mid slice is at top of stack\n",
    "    img_4d_mid_region = img_4d[1:, z_bottom:z_top, :, :] #pull out only the middle seven z-slices. This sis the only part that is different from above \n",
    "    img_4d_mid_region = np.moveaxis(img_4d_mid_region, 0, -1) #move the channel to the last axis\n",
    "    img_4d_blurred = gaussian(img_4d_mid_region, 5, multichannel = True) #apply a gaussian filter to each channel in the image\n",
    "    '''prior to combining everything together I would like to normalize all of the channels'''\n",
    "    for chan in range(img_4d_blurred.shape[-1]):\n",
    "        img_4d_blurred[:, :, :, chan] = normalize_img(img_4d_blurred[:, :, :, chan])\n",
    "    channel_mean = np.mean(img_4d_blurred, axis = -1) #average all three channels together\n",
    "    z_max_ = np.max(channel_mean, axis = 0) #make a mip of two merged channels\n",
    "    img_dict.update({'max_img'+str(fov) : z_max_})"
   ]
  },
  {
   "cell_type": "code",
   "execution_count": 42,
   "metadata": {},
   "outputs": [],
   "source": [
    "'''make a copy of z_max_ for some comparison with the 3 channel version of the same thing'''\n",
    "z_max2 = np.copy(z_max_)"
   ]
  },
  {
   "cell_type": "code",
   "execution_count": 43,
   "metadata": {},
   "outputs": [],
   "source": [
    "z_max2 = z_max2.astype('float32')\n",
    "\n",
    "io.imsave('z_max_2chan2.tif', z_max2)"
   ]
  },
  {
   "cell_type": "code",
   "execution_count": 28,
   "metadata": {},
   "outputs": [
    {
     "data": {
      "text/plain": [
       "(1, 25, 2044, 2048)"
      ]
     },
     "execution_count": 28,
     "metadata": {},
     "output_type": "execute_result"
    }
   ],
   "source": [
    "c2_3d.shape"
   ]
  },
  {
   "cell_type": "code",
   "execution_count": 30,
   "metadata": {},
   "outputs": [
    {
     "data": {
      "text/plain": [
       "[<matplotlib.lines.Line2D at 0x22095e10f48>]"
      ]
     },
     "execution_count": 30,
     "metadata": {},
     "output_type": "execute_result"
    },
    {
     "data": {
      "image/png": "[encoded data removed]",
      "text/plain": [
       "<Figure size 432x288 with 1 Axes>"
      ]
     },
     "metadata": {
      "needs_background": "light"
     },
     "output_type": "display_data"
    }
   ],
   "source": [
    "plt.plot(list(range(len(dcts_lst))), dcts_lst)"
   ]
  },
  {
   "cell_type": "code",
   "execution_count": 40,
   "metadata": {},
   "outputs": [
    {
     "name": "stderr",
     "output_type": "stream",
     "text": [
      "C:\\Users\\LegantLab\\anaconda3\\lib\\site-packages\\ipykernel_launcher.py:7: UserWarning: c3.tif is a low contrast image\n",
      "  import sys\n"
     ]
    }
   ],
   "source": [
    "c1_3d = img_4d[0, :, :, :].astype('uint16')\n",
    "c2_3d = img_4d[1, :, :, :].astype('uint16')\n",
    "c3_3d = img_4d[2, :, :, :].astype('uint16')\n",
    "\n",
    "io.imsave('c1.tif', c1_3d)\n",
    "io.imsave('c2.tif', c2_3d)\n",
    "io.imsave('c3.tif', c3_3d)"
   ]
  },
  {
   "cell_type": "code",
   "execution_count": 60,
   "metadata": {},
   "outputs": [],
   "source": [
    "'''this is same as above but exclude the cebp b and only use the middle slice not a mip'''\n",
    "\n",
    "img_dict = {} #dictionary to contain the mips\n",
    "\n",
    "img_5d_ = img_5d[:2, :, :, :, :]\n",
    "\n",
    "for fov in range(img_5d_.shape[0]): #iterate over the fields of view\n",
    "    img_4d = img_5d_[fov, :, :, :] #pull out a single filed of view. This has all three c and zyx\n",
    "    \n",
    "    ''' I would like to find where the middle slice is first'''\n",
    "    c2_3d = img_4d[1, :, :, :] #vdr zstack\n",
    "    \n",
    "    dcts_lst = [] #dictionary to be populated with the DCTS of each slice inf c2_3d\n",
    "    for zslice in range(c2_3d.shape[0]): #iterate over each slice in the z stack pull out the DCTS\n",
    "        c2_ = c2_3d[zslice, :, :] #choose individual slice\n",
    "        dcts_lst.append(dcts(c2_)) #append the runnining list with the value of DCTS for this slice\n",
    "    mid_slice = np.argwhere(np.array(dcts_lst) == np.max(dcts_lst)) #max value of DCTS lst is the middle slice\n",
    "    \n",
    "    '''from there I would like to get a mip of the middle regions of the image'''\n",
    "    #z_bottom = int(max([0, mid_slice - 3])) # put in fail safe in case mid slice is at bottom os stack\n",
    "    #z_top = int(min([mid_slice + 3, c2_3d.shape[0]])) #put in fail safe in case mid slice is at top of stack\n",
    "    img_4d = np.moveaxis(img_4d, 0, -1) #move the channel to the last axis\n",
    "    img_4d_mid_region = img_4d[mid_slice, :, :, :] #pull out only the middle seven z-slices. This sis the only part that is different from above \n",
    "    img_4d_mid_region = img_4d[:, :, 1:]\n",
    "    img_4d_blurred = gaussian(img_4d_mid_region, 5, multichannel = True) #apply a gaussian filter to each channel in the image\n",
    "    '''prior to combining everything together I would like to normalize all of the channels'''\n",
    "    for chan in range(img_4d_blurred.shape[-1]):\n",
    "        img_4d_blurred[:, :, :, chan] = normalize_img(img_4d_blurred[:, :, :, chan])\n",
    "    channel_mean = np.mean(img_4d_blurred, axis = -1) #average two channels together\n",
    "    #z_max_ = np.max(channel_mean, axis = 0) #make a mip of two merged channels\n",
    "    img_dict.update({'max_img'+str(fov) : channel_mean})"
   ]
  },
  {
   "cell_type": "code",
   "execution_count": 61,
   "metadata": {},
   "outputs": [
    {
     "data": {
      "text/plain": [
       "(25, 2044, 2047, 3)"
      ]
     },
     "execution_count": 61,
     "metadata": {},
     "output_type": "execute_result"
    }
   ],
   "source": [
    "img_4d_mid_region.shape"
   ]
  },
  {
   "cell_type": "code",
   "execution_count": 62,
   "metadata": {},
   "outputs": [
    {
     "data": {
      "text/plain": [
       "(25, 2044, 2047)"
      ]
     },
     "execution_count": 62,
     "metadata": {},
     "output_type": "execute_result"
    }
   ],
   "source": [
    "channel_mean.shape"
   ]
  },
  {
   "cell_type": "code",
   "execution_count": null,
   "metadata": {},
   "outputs": [],
   "source": []
  },
  {
   "cell_type": "code",
   "execution_count": null,
   "metadata": {},
   "outputs": [],
   "source": []
  },
  {
   "cell_type": "code",
   "execution_count": 36,
   "metadata": {},
   "outputs": [
    {
     "data": {
      "text/plain": [
       "'this is from when I was thinking about trying to keep everything lazily loaded. After working on this for a little bit I realized that this is not worth\\nthe effort'"
      ]
     },
     "execution_count": 36,
     "metadata": {},
     "output_type": "execute_result"
    }
   ],
   "source": [
    "#''this is from when I was thinking about trying to keep everything lazily loaded. After working on this for a little bit I realized that this is not worth\n",
    "#the effort'''\n",
    "#for fov in nd2_multipoints:\n",
    "#    new_img = np.zeros([nd2_multipoints.sizes['z'], nd2_multipoints.sizes['y'], nd2_multipoints.sizes['x']]) #create empty array to be populated with max from each channel\n",
    "#    fov_zidx = fov.iter_axes = 'z' # change index to z for iteration\n",
    "#    for zidx in fov_zidx: # iterate over the z axis of the multidimiensional image. Still all three channels\n",
    "#        fov_yidx = zidx.iter_axes = 'y' #change index over to y for iteration\n",
    "#        for yidx in fov_yidx: #iterate over the y\n",
    "#            fov_xidx = yidx.iter_axes = 'x' #\n",
    "#            for xidx in fov_xidx:\n",
    "#                \n",
    "#                new_img[zidx, yidx, xidx] = max([fov_xidx[0], fov_xidx[1], fov_xidx[2]])"
   ]
  },
  {
   "cell_type": "code",
   "execution_count": 26,
   "metadata": {},
   "outputs": [],
   "source": [
    "new_img = np.zeros([nd2_multipoints.sizes['z'], nd2_multipoints.sizes['y'], nd2_multipoints.sizes['x']])"
   ]
  },
  {
   "cell_type": "code",
   "execution_count": 27,
   "metadata": {},
   "outputs": [
    {
     "data": {
      "text/plain": [
       "(25, 2044, 2048)"
      ]
     },
     "execution_count": 27,
     "metadata": {},
     "output_type": "execute_result"
    }
   ],
   "source": [
    "new_img.shape"
   ]
  },
  {
   "cell_type": "code",
   "execution_count": 34,
   "metadata": {},
   "outputs": [],
   "source": [
    "'''just a little random speed test'''\n",
    "import datetime"
   ]
  },
  {
   "cell_type": "code",
   "execution_count": 36,
   "metadata": {},
   "outputs": [],
   "source": [
    "np.random.seed(42)\n",
    "test_mat = np.random.randint(0, 100, (5000, 5000))"
   ]
  },
  {
   "cell_type": "code",
   "execution_count": 37,
   "metadata": {},
   "outputs": [
    {
     "data": {
      "text/plain": [
       "array([[51, 92, 14, ..., 38, 79, 96],\n",
       "       [84, 60,  8, ..., 79, 18,  7],\n",
       "       [37, 37, 52, ..., 46, 80, 29],\n",
       "       ...,\n",
       "       [63, 26, 37, ..., 47, 23, 95],\n",
       "       [52, 81, 41, ...,  9, 25, 91],\n",
       "       [64, 43, 22, ..., 54, 53, 20]])"
      ]
     },
     "execution_count": 37,
     "metadata": {},
     "output_type": "execute_result"
    }
   ],
   "source": [
    "test_mat"
   ]
  },
  {
   "cell_type": "code",
   "execution_count": 38,
   "metadata": {},
   "outputs": [
    {
     "name": "stdout",
     "output_type": "stream",
     "text": [
      "0:00:11.080464\n"
     ]
    }
   ],
   "source": [
    "start = datetime.datetime.now()\n",
    "np.linalg.inv(test_mat)\n",
    "print(datetime.datetime.now() - start)"
   ]
  },
  {
   "cell_type": "code",
   "execution_count": null,
   "metadata": {},
   "outputs": [],
   "source": []
  }
 ],
 "metadata": {
  "kernelspec": {
   "display_name": "img_analysis",
   "language": "python",
   "name": "img_analysis"
  },
  "language_info": {
   "codemirror_mode": {
    "name": "ipython",
    "version": 3
   },
   "file_extension": ".py",
   "mimetype": "text/x-python",
   "name": "python",
   "nbconvert_exporter": "python",
   "pygments_lexer": "ipython3",
   "version": "3.7.6"
  }
 },
 "nbformat": 4,
 "nbformat_minor": 4
}
