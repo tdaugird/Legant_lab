{
 "cells": [
  {
   "cell_type": "markdown",
   "metadata": {},
   "source": [
    "### This is testing script to pull the most in focus slice out of images based on shannon entropy of normalized discrete cosine transform. This is similar to previous scripts but it is looking at nd2 files instead of a series of .tiffs"
   ]
  },
  {
   "cell_type": "code",
   "execution_count": 1,
   "metadata": {},
   "outputs": [],
   "source": [
    "import os\n",
    "import numpy as np\n",
    "import pandas as pd\n",
    "import matplotlib.pyplot as plt\n",
    "%gui qt\n",
    "import napari\n",
    "from skimage import io\n",
    "import seaborn as sns\n",
    "from nd2reader import ND2Reader"
   ]
  },
  {
   "cell_type": "code",
   "execution_count": 35,
   "metadata": {},
   "outputs": [],
   "source": [
    "orig_img_dir = r'Z:\\TAD\\200610_adipogenesis_timecourse_r10_v2\\gr-rxr-set'\n",
    "new_img_dri = r'Z:\\TAD\\200610_adipogenesis_timecourse_r10_v2\\gr-rxr-set\\temp_imgs'"
   ]
  },
  {
   "cell_type": "code",
   "execution_count": 36,
   "metadata": {},
   "outputs": [],
   "source": [
    "os.chdir(orig_img_dir)"
   ]
  },
  {
   "cell_type": "code",
   "execution_count": 3,
   "metadata": {},
   "outputs": [
    {
     "data": {
      "text/plain": [
       "['dapi0.tif',\n",
       " 'dapi0_segm_.tiff',\n",
       " 'dapi1.tif',\n",
       " 'dapi1_segm_.tiff',\n",
       " 'dapi2.tif',\n",
       " 'dapi2_segm_.tiff',\n",
       " 'stad424',\n",
       " 'stad425_rois002.nd2',\n",
       " 'stad425_rois003.nd2',\n",
       " 'stad425_rois004.nd2']"
      ]
     },
     "execution_count": 3,
     "metadata": {},
     "output_type": "execute_result"
    }
   ],
   "source": [
    "os.listdir()\n"
   ]
  },
  {
   "cell_type": "code",
   "execution_count": 23,
   "metadata": {},
   "outputs": [],
   "source": [
    "'''This will calculate and return the shannon entropy of the normalized discrete cosine transform. This is \n",
    "taken from strategy used in doi: 10.1038/nbt.3708. takes in a 2D array and spits out a scaler, the dcst.\n",
    "'''\n",
    "def dcts(img_):\n",
    "    dis_cos = dct(img_) #take the discrete cosine transform of the image\n",
    "    l2 = np.sqrt(np.sum(np.square(img_))) #perform l2 normalization\n",
    "    inner_term = np.divide(dis_cos, l2) #inner term of the shannon enropy\n",
    "    '''need to get rid of any zeros that occur in inner term'''\n",
    "    inner_term[inner_term == 0] = .0001\n",
    "    first_term = np.abs(inner_term) #first term of shannon entropy\n",
    "    second_term = np.log2(np.abs(inner_term)) #second term of shannon entropy \n",
    "    return(np.multiply(-1, np.sum(np.multiply(first_term, second_term))))"
   ]
  },
  {
   "cell_type": "code",
   "execution_count": 4,
   "metadata": {},
   "outputs": [],
   "source": [
    "img_filename_lst = ['stad425_rois002.nd2',\n",
    " 'stad425_rois003.nd2',\n",
    " 'stad425_rois004.nd2']"
   ]
  },
  {
   "cell_type": "code",
   "execution_count": 26,
   "metadata": {},
   "outputs": [],
   "source": [
    "roi2_multipoints = ND2Reader('stad425_rois002.nd2')\n",
    "roi4_multipoints = ND2Reader('stad425_rois004.nd2')"
   ]
  },
  {
   "cell_type": "code",
   "execution_count": 27,
   "metadata": {},
   "outputs": [
    {
     "data": {
      "text/plain": [
       "{'x': 2048, 'y': 2044, 'c': 4, 't': 1, 'z': 45}"
      ]
     },
     "execution_count": 27,
     "metadata": {},
     "output_type": "execute_result"
    }
   ],
   "source": [
    "roi2_multipoints.sizes"
   ]
  },
  {
   "cell_type": "code",
   "execution_count": 28,
   "metadata": {},
   "outputs": [],
   "source": [
    "''' this is working out how to hanlde the data and pull the mid slice from each of these images'''\n",
    "img_filename_lst = ['stad425_rois002.nd2', 'stad425_rois004.nd2']\n",
    "img_dict = {}\n",
    "\n",
    "for img_file in :\n",
    "    multipoints_nd2 = ND2Reader(img_file)\n",
    "    multipoints_nd2.bundle_axes = 'czyx'\n",
    "    if 'v' in multipoints_nd2.sizes:\n",
    "        multipoints_nd2.iter_axes = 'v' \n",
    "        multipoints_5d_array = np.array(multipoints_nd2).astype('uint16')\n",
    "        \n",
    "        \n",
    "        for fov in multipoints_5d_array:\n",
    "            dcts_lst = []\n",
    "            dapi_3d = multipoints_5d_array[fov, 3, :, :, :]\n",
    "            for zslice in range(dapi_3d.shape[0]):\n",
    "                dapi_slice = dapi_3d[zslice, :, :]\n",
    "                dcts_lst.append(dcts(dapi_3d))\n",
    "            min_entropy = np.argwhere(np.array(dcts_lst) == np.min(dcts_lst)) \n",
    "            os.chdir(new_img_dir)\n",
    "            for channel in range(img_5d_multi.shape[1]):\n",
    "                io.imsave(filename[:-4])\n",
    "    else:\n",
    "        dcts_lst = []\n",
    "        multipoints_4d_array = np.array(multipoints_nd2).astype('uint16')\n",
    "        dapi_3d = multipoints_4d_array[3, :, :, :]\n",
    "        for zslice in range(dapi_3d.shape[0]):\n",
    "                dapi_slice = dapi_3d[zslice, :, :]\n",
    "                dcts_lst.append(dcts(dapi_slice))\n",
    "     \n",
    "            "
   ]
  },
  {
   "cell_type": "code",
   "execution_count": 40,
   "metadata": {},
   "outputs": [
    {
     "data": {
      "text/plain": [
       "'stad425_rois002'"
      ]
     },
     "execution_count": 40,
     "metadata": {},
     "output_type": "execute_result"
    }
   ],
   "source": [
    "img_filename_lst[0][:-4]"
   ]
  },
  {
   "cell_type": "code",
   "execution_count": 24,
   "metadata": {},
   "outputs": [],
   "source": [
    "roi2_multipoints.bundle_axes = 'czyx'"
   ]
  },
  {
   "cell_type": "code",
   "execution_count": 25,
   "metadata": {},
   "outputs": [],
   "source": [
    "roi4_multipoints.bundle_axes = 'czyx'"
   ]
  },
  {
   "cell_type": "code",
   "execution_count": null,
   "metadata": {},
   "outputs": [],
   "source": []
  }
 ],
 "metadata": {
  "kernelspec": {
   "display_name": "img_analysis",
   "language": "python",
   "name": "img_analysis"
  },
  "language_info": {
   "codemirror_mode": {
    "name": "ipython",
    "version": 3
   },
   "file_extension": ".py",
   "mimetype": "text/x-python",
   "name": "python",
   "nbconvert_exporter": "python",
   "pygments_lexer": "ipython3",
   "version": "3.7.6"
  }
 },
 "nbformat": 4,
 "nbformat_minor": 4
}
