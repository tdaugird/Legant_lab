{
 "cells": [
  {
   "cell_type": "code",
   "execution_count": 33,
   "metadata": {},
   "outputs": [],
   "source": [
    "import os\n",
    "import numpy as np\n",
    "import pandas as pd\n",
    "import matplotlib.pyplot as plt\n",
    "%gui qt\n",
    "import napari\n",
    "from skimage import io\n",
    "import seaborn as sns\n",
    "from nd2reader import ND2Reader\n",
    "from scipy.fftpack import dct"
   ]
  },
  {
   "cell_type": "code",
   "execution_count": 24,
   "metadata": {},
   "outputs": [],
   "source": [
    "%matplotlib qt"
   ]
  },
  {
   "cell_type": "code",
   "execution_count": 4,
   "metadata": {},
   "outputs": [],
   "source": [
    "os.chdir(r'Z:\\TAD\\200610_adipogenesis_timecourse_r10_v2\\gr-rxr-set')"
   ]
  },
  {
   "cell_type": "code",
   "execution_count": 5,
   "metadata": {},
   "outputs": [
    {
     "data": {
      "text/plain": [
       "['stad424',\n",
       " 'stad424_test.nd2',\n",
       " 'stad424_test_dic.nd2',\n",
       " 'stad424_test_dic001.nd2']"
      ]
     },
     "execution_count": 5,
     "metadata": {},
     "output_type": "execute_result"
    }
   ],
   "source": [
    "os.listdir()"
   ]
  },
  {
   "cell_type": "code",
   "execution_count": 9,
   "metadata": {},
   "outputs": [],
   "source": [
    "fl_multipoints = ND2Reader('stad424_test.nd2')"
   ]
  },
  {
   "cell_type": "code",
   "execution_count": 12,
   "metadata": {},
   "outputs": [],
   "source": [
    "fl_multipoints.bundle_axes = 'czyx'\n",
    "fl_multipoints.iter_axes = 'v'"
   ]
  },
  {
   "cell_type": "code",
   "execution_count": 13,
   "metadata": {},
   "outputs": [],
   "source": [
    "dic_multipoints = ND2Reader('stad424_test_dic001.nd2')"
   ]
  },
  {
   "cell_type": "code",
   "execution_count": 14,
   "metadata": {},
   "outputs": [],
   "source": [
    "dic_multipoints.bundle_axes = 'czyx'\n",
    "dic_multipoints.iter_axes = 'v'"
   ]
  },
  {
   "cell_type": "code",
   "execution_count": 15,
   "metadata": {},
   "outputs": [
    {
     "name": "stderr",
     "output_type": "stream",
     "text": [
      "C:\\Users\\LegantLab\\anaconda3\\lib\\site-packages\\nd2reader\\parser.py:292: UserWarning: ND2 file contains gap frames which are represented by np.nan-filled arrays; to convert to zeros use e.g. np.nan_to_num(array)\n",
      "  warnings.warn('ND2 file contains gap frames which are represented by np.nan-filled arrays; to convert to zeros use e.g. np.nan_to_num(array)')\n"
     ]
    }
   ],
   "source": [
    "fl_multi_arr = np.array(fl_multipoints).astype('uint16')\n",
    "dic_multi_arr = np.array(dic_multipoints).astype('uint16')"
   ]
  },
  {
   "cell_type": "code",
   "execution_count": 20,
   "metadata": {},
   "outputs": [
    {
     "data": {
      "text/plain": [
       "<Image layer 'Image [1]' at 0x1a881c79c08>"
      ]
     },
     "execution_count": 20,
     "metadata": {},
     "output_type": "execute_result"
    }
   ],
   "source": [
    "viewer = napari.Viewer()\n",
    "viewer.add_image(fl_multi_arr[0, :, :, :, :])\n",
    "viewer.add_image(dic_multi_arr[0, :, :, :, :])"
   ]
  },
  {
   "cell_type": "code",
   "execution_count": 17,
   "metadata": {},
   "outputs": [
    {
     "data": {
      "text/plain": [
       "(3, 4, 45, 2044, 2048)"
      ]
     },
     "execution_count": 17,
     "metadata": {},
     "output_type": "execute_result"
    }
   ],
   "source": [
    "fl_multi_arr.shape"
   ]
  },
  {
   "cell_type": "code",
   "execution_count": 60,
   "metadata": {},
   "outputs": [
    {
     "data": {
      "text/plain": [
       "<matplotlib.image.AxesImage at 0x1a8916d4f08>"
      ]
     },
     "execution_count": 60,
     "metadata": {},
     "output_type": "execute_result"
    }
   ],
   "source": [
    "fig, axes = plt.subplots(2,2)\n",
    "axes = axes.flatten()\n",
    "\n",
    "axes[0].imshow(fl_multi_arr[1, 0, 23, :, :])\n",
    "axes[1].imshow(fl_multi_arr[1, 1, 23, :, :])\n",
    "axes[2].imshow(fl_multi_arr[1, 2, 23, :, :])\n",
    "axes[3].imshow(fl_multi_arr[1, 3, 23, :, :])"
   ]
  },
  {
   "cell_type": "code",
   "execution_count": 40,
   "metadata": {},
   "outputs": [],
   "source": [
    "'''This will calculate and return the shannon entropy of the normalized discrete cosine transform. This is \n",
    "taken from strategy used in doi: 10.1038/nbt.3708. takes in a 2D array and spits out a scaler, the dcst.\n",
    "'''\n",
    "def dcts(img_):\n",
    "    dis_cos = dct(img_) #take the discrete cosine transform of the image\n",
    "    l2 = np.sqrt(np.sum(np.square(img_))) #perform l2 normalization\n",
    "    inner_term = np.divide(dis_cos, l2) #inner term of the shannon enropy\n",
    "    '''need to get rid of any zeros that occur in inner term'''\n",
    "    inner_term[inner_term == 0] = .0001\n",
    "    first_term = np.abs(inner_term) #first term of shannon entropy\n",
    "    second_term = np.log2(np.abs(inner_term)) #second term of shannon entropy \n",
    "    return(np.multiply(-1, np.sum(np.multiply(first_term, second_term))))\n",
    "    #return(second_term)"
   ]
  },
  {
   "cell_type": "code",
   "execution_count": 27,
   "metadata": {},
   "outputs": [],
   "source": [
    "'''This will calculate and return the shannon entropy of the normalized discrete cosine transform. This is \n",
    "taken from strategy used in doi: 10.1038/nbt.3708. takes in a 2D array and spits out a scaler, the dcst.\n",
    "'''\n",
    "def dcts(img_):\n",
    "    dis_cos = dct(img_) #take the discrete cosine transform of the image\n",
    "    l2 = np.sqrt(np.sum(np.square(img_))) #perform l2 normalization\n",
    "    inner_term = np.divide(dis_cos, l2) #inner term of the shannon enropy\n",
    "    '''need to get rid of any zeros that occur in inner term'''\n",
    "    inner_term[inner_term == 0] = .0001\n",
    "    first_term = np.abs(inner_term) #first term of shannon entropy\n",
    "    second_term = np.log2(np.abs(inner_term)) #second term of shannon entropy \n",
    "    return(np.multiply(-1, np.sum(np.multiply(first_term, second_term))))\n",
    "    #return(second_term)"
   ]
  },
  {
   "cell_type": "code",
   "execution_count": 67,
   "metadata": {},
   "outputs": [],
   "source": [
    "img_number = 0\n",
    "\n",
    "for img_number in range(fl_multi_arr.shape[0]):\n",
    "    dcts_lst = []\n",
    "    \n",
    "    dapi_img = fl_multi_arr[img_number, 3, :, :, :]\n",
    "    for zslice in range(dapi_img.shape[0]):\n",
    "        dapi_slice = dapi_img[zslice, :, :]\n",
    "        dcts_lst.append(dcts(dapi_slice))\n",
    "    min_entropy = np.argwhere(np.array(dcts_lst) == np.min(dcts_lst))\n",
    "    io.imsave('dapi' + str(img_number) + '.tif', dapi_img[min_entropy, :, :])\n",
    "    \n",
    "    \n",
    "\n"
   ]
  },
  {
   "cell_type": "code",
   "execution_count": null,
   "metadata": {},
   "outputs": [],
   "source": []
  },
  {
   "cell_type": "code",
   "execution_count": null,
   "metadata": {},
   "outputs": [],
   "source": [
    "c1_img = fl_multi_arr[img_number, 0, :, :, :]\n",
    "c2_img = fl_multi_arr[img_number, 1, :, :, :]\n",
    "c3_img = fl_multi_arr[img_number, 2, :, :, :]\n",
    "c4_img = fl_multi_arr[img_number, 3, :, :, :]\n",
    "\n",
    "c1_dcts_lst = []\n",
    "c2_dcts_lst = []\n",
    "c3_dcts_lst = []\n",
    "c4_dcts_lst = []\n",
    "\n",
    "for i in range(c1.shape[0]):\n",
    "    c1_dcts_lst.append(dcts(c1_img[i, :, :]))\n",
    "    c2_dcts_lst.append(dcts(c2_img[i, :, :]))\n",
    "    c3_dcts_lst.append(dcts(c3_img[i, :, :]))\n",
    "    c4_dcts_lst.append(dcts(c4_img[i, :, :]))"
   ]
  },
  {
   "cell_type": "code",
   "execution_count": 54,
   "metadata": {},
   "outputs": [
    {
     "data": {
      "text/plain": [
       "(3, 4, 45, 2044, 2048)"
      ]
     },
     "execution_count": 54,
     "metadata": {},
     "output_type": "execute_result"
    }
   ],
   "source": [
    "fl_multi_arr.shape"
   ]
  },
  {
   "cell_type": "code",
   "execution_count": 43,
   "metadata": {},
   "outputs": [],
   "source": [
    "dcts_lst_lst = [c1_dcts_lst, c2_dcts_lst, c3_dcts_lst, c4_dcts_lst]\n",
    "\n",
    "for i in range(len(dcts_lst_lst)):\n",
    "    dcts_lst_ = dcts_lst_lst[i]\n",
    "    ax = plt.plot(list(range(len(dcts_lst_))), dcts_lst_)"
   ]
  },
  {
   "cell_type": "code",
   "execution_count": 53,
   "metadata": {},
   "outputs": [
    {
     "data": {
      "text/plain": [
       "[<matplotlib.lines.Line2D at 0x1a88263d408>]"
      ]
     },
     "execution_count": 53,
     "metadata": {},
     "output_type": "execute_result"
    }
   ],
   "source": [
    "plt.plot(list(range(len(dcts_lst_))), c4_dcts_lst)"
   ]
  },
  {
   "cell_type": "code",
   "execution_count": 37,
   "metadata": {},
   "outputs": [
    {
     "data": {
      "text/plain": [
       "['stad424',\n",
       " 'stad424_test.nd2',\n",
       " 'stad424_test_dic.nd2',\n",
       " 'stad424_test_dic001.nd2',\n",
       " 'test.tif']"
      ]
     },
     "execution_count": 37,
     "metadata": {},
     "output_type": "execute_result"
    }
   ],
   "source": [
    "os.listdir()"
   ]
  },
  {
   "cell_type": "code",
   "execution_count": null,
   "metadata": {},
   "outputs": [],
   "source": []
  }
 ],
 "metadata": {
  "kernelspec": {
   "display_name": "img_analysis",
   "language": "python",
   "name": "img_analysis"
  },
  "language_info": {
   "codemirror_mode": {
    "name": "ipython",
    "version": 3
   },
   "file_extension": ".py",
   "mimetype": "text/x-python",
   "name": "python",
   "nbconvert_exporter": "python",
   "pygments_lexer": "ipython3",
   "version": "3.7.6"
  }
 },
 "nbformat": 4,
 "nbformat_minor": 4
}
