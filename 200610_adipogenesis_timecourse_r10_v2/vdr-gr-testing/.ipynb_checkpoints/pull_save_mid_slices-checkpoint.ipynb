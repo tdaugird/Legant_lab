{
 "cells": [
  {
   "cell_type": "markdown",
   "metadata": {},
   "source": [
    "This is batch sctipt to pull the mid slice out from each z-stack of the vdr-gr data set"
   ]
  },
  {
   "cell_type": "code",
   "execution_count": 1,
   "metadata": {},
   "outputs": [],
   "source": [
    "import os\n",
    "import numpy as np\n",
    "from skimage import io\n",
    "from skimage.filters import threshold_otsu, gaussian\n",
    "from nd2reader import ND2Reader\n",
    "from datetime import datetime\n",
    "import matplotlib.pyplot as plt\n",
    "import napari\n",
    "from scipy.fftpack import dct\n",
    "from datetime import datetime\n",
    "import pandas as pd"
   ]
  },
  {
   "cell_type": "markdown",
   "metadata": {},
   "source": [
    "# Figure out images to be used"
   ]
  },
  {
   "cell_type": "code",
   "execution_count": 2,
   "metadata": {},
   "outputs": [],
   "source": [
    "os.chdir(r'Y:\\TAD\\200610_adipogenesis_timecourse_r10_v2\\gr-rxr-set')"
   ]
  },
  {
   "cell_type": "code",
   "execution_count": 4,
   "metadata": {},
   "outputs": [
    {
     "data": {
      "text/plain": [
       "['not_used',\n",
       " 'stad424_rois002.nd2',\n",
       " 'stad425_rois001.nd2',\n",
       " 'stad425_rois002.nd2',\n",
       " 'stad425_rois003.nd2',\n",
       " 'stad425_rois004.nd2',\n",
       " 'stad425_rois005.nd2',\n",
       " 'stad426_rois001.nd2',\n",
       " 'stad426_rois002.nd2',\n",
       " 'stad427_rois001.nd2',\n",
       " 'stad427_rois002.nd2',\n",
       " 'stad428_rois001.nd2',\n",
       " 'stad428_rois002.nd2',\n",
       " 'stad430_rois001.nd2',\n",
       " 'stad430_rois002.nd2',\n",
       " 'stad431_rois001.nd2',\n",
       " 'stad431_rois002.nd2',\n",
       " 'stad432_rois001.nd2',\n",
       " 'stad433_rois001.nd2',\n",
       " 'stad433_rois002.nd2',\n",
       " 'stad434_rois001.nd2',\n",
       " 'stad435_rois001.nd2']"
      ]
     },
     "execution_count": 4,
     "metadata": {},
     "output_type": "execute_result"
    }
   ],
   "source": [
    "os.listdir()"
   ]
  },
  {
   "cell_type": "code",
   "execution_count": 3,
   "metadata": {},
   "outputs": [],
   "source": [
    "'''set up directories for reading and writing'''\n",
    "mid_slices_dir = r'Y:\\TAD\\200610_adipogenesis_timecourse_r10_v2\\gr-rxr-set\\mid_slices'\n",
    "nd2_dir = r'Y:\\TAD\\200610_adipogenesis_timecourse_r10_v2\\gr-rxr-set'"
   ]
  },
  {
   "cell_type": "markdown",
   "metadata": {},
   "source": [
    "# Helper functions\n"
   ]
  },
  {
   "cell_type": "code",
   "execution_count": 4,
   "metadata": {},
   "outputs": [],
   "source": [
    "'''this is function to normalize 3d array. It takes in a 3d array and divides each voxel by the 98%'''\n",
    "def normalize_img(img_, percentile = .98):\n",
    "    normer = np.quantile(img_, percentile)\n",
    "    return(np.divide(img_, normer))"
   ]
  },
  {
   "cell_type": "code",
   "execution_count": 5,
   "metadata": {},
   "outputs": [],
   "source": [
    "'''This will calculate and return the shannon entropy of the normalized discrete cosine transform. This is \n",
    "taken from strategy used in doi: 10.1038/nbt.3708. takes in a 2D array and spits out a scaler, the dcst.\n",
    "'''\n",
    "def dcts(img_):\n",
    "    dis_cos = dct(img_) #take the discrete cosine transform of the image\n",
    "    l2 = np.sqrt(np.sum(np.square(img_))) #perform l2 normalization\n",
    "    inner_term = np.divide(dis_cos, l2) #inner term of the shannon enropy\n",
    "    '''need to get rid of any zeros that occur in inner term'''\n",
    "    inner_term[inner_term == 0] = .001\n",
    "    first_term = np.abs(inner_term) #first term of shannon entropy\n",
    "    second_term = np.log2(np.abs(inner_term)) #second term of shannon entropy \n",
    "    return(np.multiply(-1, np.sum(np.multiply(first_term, second_term))))\n",
    "    #return(second_term)"
   ]
  },
  {
   "cell_type": "markdown",
   "metadata": {},
   "source": [
    "# running script"
   ]
  },
  {
   "cell_type": "code",
   "execution_count": 24,
   "metadata": {},
   "outputs": [
    {
     "name": "stdout",
     "output_type": "stream",
     "text": [
      "2020-06-30 07:53:23.356214 ::::: working on file 1 of 19\n",
      "       fov 0 of 8\n"
     ]
    },
    {
     "name": "stderr",
     "output_type": "stream",
     "text": [
      "C:\\Users\\LegantLab\\anaconda3\\lib\\site-packages\\ipykernel_launcher.py:105: UserWarning: stad424_rois002_fov0_c3.tif is a low contrast image\n"
     ]
    },
    {
     "name": "stdout",
     "output_type": "stream",
     "text": [
      "       fov 1 of 8\n"
     ]
    },
    {
     "name": "stderr",
     "output_type": "stream",
     "text": [
      "C:\\Users\\LegantLab\\anaconda3\\lib\\site-packages\\ipykernel_launcher.py:105: UserWarning: stad424_rois002_fov1_c3.tif is a low contrast image\n"
     ]
    },
    {
     "name": "stdout",
     "output_type": "stream",
     "text": [
      "       fov 2 of 8\n"
     ]
    },
    {
     "name": "stderr",
     "output_type": "stream",
     "text": [
      "C:\\Users\\LegantLab\\anaconda3\\lib\\site-packages\\ipykernel_launcher.py:105: UserWarning: stad424_rois002_fov2_c3.tif is a low contrast image\n"
     ]
    },
    {
     "name": "stdout",
     "output_type": "stream",
     "text": [
      "       fov 3 of 8\n",
      "       fov 4 of 8\n",
      "       fov 5 of 8\n",
      "       fov 6 of 8\n",
      "       fov 7 of 8\n",
      "       fov 0 of 8\n"
     ]
    },
    {
     "name": "stderr",
     "output_type": "stream",
     "text": [
      "C:\\Users\\LegantLab\\anaconda3\\lib\\site-packages\\ipykernel_launcher.py:105: UserWarning: stad425_rois001_fov0_c3.tif is a low contrast image\n"
     ]
    },
    {
     "name": "stdout",
     "output_type": "stream",
     "text": [
      "       fov 1 of 8\n"
     ]
    },
    {
     "name": "stderr",
     "output_type": "stream",
     "text": [
      "C:\\Users\\LegantLab\\anaconda3\\lib\\site-packages\\ipykernel_launcher.py:105: UserWarning: stad425_rois001_fov1_c3.tif is a low contrast image\n"
     ]
    },
    {
     "name": "stdout",
     "output_type": "stream",
     "text": [
      "       fov 2 of 8\n"
     ]
    },
    {
     "name": "stderr",
     "output_type": "stream",
     "text": [
      "C:\\Users\\LegantLab\\anaconda3\\lib\\site-packages\\ipykernel_launcher.py:105: UserWarning: stad425_rois001_fov2_c3.tif is a low contrast image\n"
     ]
    },
    {
     "name": "stdout",
     "output_type": "stream",
     "text": [
      "       fov 3 of 8\n",
      "       fov 4 of 8\n",
      "       fov 5 of 8\n",
      "       fov 6 of 8\n",
      "       fov 7 of 8\n",
      "       fov 0 of 8\n"
     ]
    },
    {
     "name": "stderr",
     "output_type": "stream",
     "text": [
      "C:\\Users\\LegantLab\\anaconda3\\lib\\site-packages\\ipykernel_launcher.py:105: UserWarning: stad425_rois004_fov0_c3.tif is a low contrast image\n"
     ]
    },
    {
     "name": "stdout",
     "output_type": "stream",
     "text": [
      "       fov 1 of 8\n"
     ]
    },
    {
     "name": "stderr",
     "output_type": "stream",
     "text": [
      "C:\\Users\\LegantLab\\anaconda3\\lib\\site-packages\\ipykernel_launcher.py:105: UserWarning: stad425_rois004_fov1_c3.tif is a low contrast image\n"
     ]
    },
    {
     "name": "stdout",
     "output_type": "stream",
     "text": [
      "       fov 2 of 8\n"
     ]
    },
    {
     "name": "stderr",
     "output_type": "stream",
     "text": [
      "C:\\Users\\LegantLab\\anaconda3\\lib\\site-packages\\ipykernel_launcher.py:105: UserWarning: stad425_rois004_fov2_c3.tif is a low contrast image\n"
     ]
    },
    {
     "name": "stdout",
     "output_type": "stream",
     "text": [
      "       fov 3 of 8\n",
      "       fov 4 of 8\n",
      "       fov 5 of 8\n",
      "       fov 6 of 8\n",
      "       fov 7 of 8\n",
      "       fov 0 of 8\n"
     ]
    },
    {
     "name": "stderr",
     "output_type": "stream",
     "text": [
      "C:\\Users\\LegantLab\\anaconda3\\lib\\site-packages\\ipykernel_launcher.py:105: UserWarning: stad425_rois005_fov0_c3.tif is a low contrast image\n"
     ]
    },
    {
     "name": "stdout",
     "output_type": "stream",
     "text": [
      "       fov 1 of 8\n"
     ]
    },
    {
     "name": "stderr",
     "output_type": "stream",
     "text": [
      "C:\\Users\\LegantLab\\anaconda3\\lib\\site-packages\\ipykernel_launcher.py:105: UserWarning: stad425_rois005_fov1_c3.tif is a low contrast image\n"
     ]
    },
    {
     "name": "stdout",
     "output_type": "stream",
     "text": [
      "       fov 2 of 8\n"
     ]
    },
    {
     "name": "stderr",
     "output_type": "stream",
     "text": [
      "C:\\Users\\LegantLab\\anaconda3\\lib\\site-packages\\ipykernel_launcher.py:105: UserWarning: stad425_rois005_fov2_c3.tif is a low contrast image\n"
     ]
    },
    {
     "name": "stdout",
     "output_type": "stream",
     "text": [
      "       fov 3 of 8\n",
      "       fov 4 of 8\n",
      "       fov 5 of 8\n",
      "       fov 6 of 8\n",
      "       fov 7 of 8\n",
      "       fov 0 of 8\n"
     ]
    },
    {
     "name": "stderr",
     "output_type": "stream",
     "text": [
      "C:\\Users\\LegantLab\\anaconda3\\lib\\site-packages\\ipykernel_launcher.py:105: UserWarning: stad426_rois001_fov0_c3.tif is a low contrast image\n"
     ]
    },
    {
     "name": "stdout",
     "output_type": "stream",
     "text": [
      "       fov 1 of 8\n"
     ]
    },
    {
     "name": "stderr",
     "output_type": "stream",
     "text": [
      "C:\\Users\\LegantLab\\anaconda3\\lib\\site-packages\\ipykernel_launcher.py:105: UserWarning: stad426_rois001_fov1_c3.tif is a low contrast image\n"
     ]
    },
    {
     "name": "stdout",
     "output_type": "stream",
     "text": [
      "       fov 2 of 8\n"
     ]
    },
    {
     "name": "stderr",
     "output_type": "stream",
     "text": [
      "C:\\Users\\LegantLab\\anaconda3\\lib\\site-packages\\ipykernel_launcher.py:105: UserWarning: stad426_rois001_fov2_c3.tif is a low contrast image\n"
     ]
    },
    {
     "name": "stdout",
     "output_type": "stream",
     "text": [
      "       fov 3 of 8\n",
      "       fov 4 of 8\n",
      "       fov 5 of 8\n",
      "       fov 6 of 8\n",
      "       fov 7 of 8\n",
      "       fov 0 of 8\n"
     ]
    },
    {
     "name": "stderr",
     "output_type": "stream",
     "text": [
      "C:\\Users\\LegantLab\\anaconda3\\lib\\site-packages\\ipykernel_launcher.py:105: UserWarning: stad426_rois002_fov0_c3.tif is a low contrast image\n"
     ]
    },
    {
     "name": "stdout",
     "output_type": "stream",
     "text": [
      "       fov 1 of 8\n"
     ]
    },
    {
     "name": "stderr",
     "output_type": "stream",
     "text": [
      "C:\\Users\\LegantLab\\anaconda3\\lib\\site-packages\\ipykernel_launcher.py:105: UserWarning: stad426_rois002_fov1_c3.tif is a low contrast image\n"
     ]
    },
    {
     "name": "stdout",
     "output_type": "stream",
     "text": [
      "       fov 2 of 8\n"
     ]
    },
    {
     "name": "stderr",
     "output_type": "stream",
     "text": [
      "C:\\Users\\LegantLab\\anaconda3\\lib\\site-packages\\ipykernel_launcher.py:105: UserWarning: stad426_rois002_fov2_c3.tif is a low contrast image\n"
     ]
    },
    {
     "name": "stdout",
     "output_type": "stream",
     "text": [
      "       fov 3 of 8\n",
      "       fov 4 of 8\n",
      "       fov 5 of 8\n",
      "       fov 6 of 8\n",
      "       fov 7 of 8\n",
      "       fov 0 of 8\n"
     ]
    },
    {
     "name": "stderr",
     "output_type": "stream",
     "text": [
      "C:\\Users\\LegantLab\\anaconda3\\lib\\site-packages\\ipykernel_launcher.py:105: UserWarning: stad427_rois001_fov0_c3.tif is a low contrast image\n"
     ]
    },
    {
     "name": "stdout",
     "output_type": "stream",
     "text": [
      "       fov 1 of 8\n"
     ]
    },
    {
     "name": "stderr",
     "output_type": "stream",
     "text": [
      "C:\\Users\\LegantLab\\anaconda3\\lib\\site-packages\\ipykernel_launcher.py:105: UserWarning: stad427_rois001_fov1_c3.tif is a low contrast image\n"
     ]
    },
    {
     "name": "stdout",
     "output_type": "stream",
     "text": [
      "       fov 2 of 8\n"
     ]
    },
    {
     "name": "stderr",
     "output_type": "stream",
     "text": [
      "C:\\Users\\LegantLab\\anaconda3\\lib\\site-packages\\ipykernel_launcher.py:105: UserWarning: stad427_rois001_fov2_c3.tif is a low contrast image\n"
     ]
    },
    {
     "name": "stdout",
     "output_type": "stream",
     "text": [
      "       fov 3 of 8\n",
      "       fov 4 of 8\n",
      "       fov 5 of 8\n",
      "       fov 6 of 8\n",
      "       fov 7 of 8\n",
      "       fov 0 of 8\n"
     ]
    },
    {
     "name": "stderr",
     "output_type": "stream",
     "text": [
      "C:\\Users\\LegantLab\\anaconda3\\lib\\site-packages\\ipykernel_launcher.py:105: UserWarning: stad427_rois002_fov0_c3.tif is a low contrast image\n"
     ]
    },
    {
     "name": "stdout",
     "output_type": "stream",
     "text": [
      "       fov 1 of 8\n"
     ]
    },
    {
     "name": "stderr",
     "output_type": "stream",
     "text": [
      "C:\\Users\\LegantLab\\anaconda3\\lib\\site-packages\\ipykernel_launcher.py:105: UserWarning: stad427_rois002_fov1_c3.tif is a low contrast image\n"
     ]
    },
    {
     "name": "stdout",
     "output_type": "stream",
     "text": [
      "       fov 2 of 8\n"
     ]
    },
    {
     "name": "stderr",
     "output_type": "stream",
     "text": [
      "C:\\Users\\LegantLab\\anaconda3\\lib\\site-packages\\ipykernel_launcher.py:105: UserWarning: stad427_rois002_fov2_c3.tif is a low contrast image\n"
     ]
    },
    {
     "name": "stdout",
     "output_type": "stream",
     "text": [
      "       fov 3 of 8\n",
      "       fov 4 of 8\n",
      "       fov 5 of 8\n",
      "       fov 6 of 8\n",
      "       fov 7 of 8\n",
      "       fov 0 of 8\n"
     ]
    },
    {
     "name": "stderr",
     "output_type": "stream",
     "text": [
      "C:\\Users\\LegantLab\\anaconda3\\lib\\site-packages\\ipykernel_launcher.py:105: UserWarning: stad428_rois001_fov0_c3.tif is a low contrast image\n"
     ]
    },
    {
     "name": "stdout",
     "output_type": "stream",
     "text": [
      "       fov 1 of 8\n"
     ]
    },
    {
     "name": "stderr",
     "output_type": "stream",
     "text": [
      "C:\\Users\\LegantLab\\anaconda3\\lib\\site-packages\\ipykernel_launcher.py:105: UserWarning: stad428_rois001_fov1_c3.tif is a low contrast image\n"
     ]
    },
    {
     "name": "stdout",
     "output_type": "stream",
     "text": [
      "       fov 2 of 8\n"
     ]
    },
    {
     "name": "stderr",
     "output_type": "stream",
     "text": [
      "C:\\Users\\LegantLab\\anaconda3\\lib\\site-packages\\ipykernel_launcher.py:105: UserWarning: stad428_rois001_fov2_c3.tif is a low contrast image\n"
     ]
    },
    {
     "name": "stdout",
     "output_type": "stream",
     "text": [
      "       fov 3 of 8\n",
      "       fov 4 of 8\n",
      "       fov 5 of 8\n",
      "       fov 6 of 8\n",
      "       fov 7 of 8\n",
      "       fov 0 of 8\n"
     ]
    },
    {
     "name": "stderr",
     "output_type": "stream",
     "text": [
      "C:\\Users\\LegantLab\\anaconda3\\lib\\site-packages\\ipykernel_launcher.py:105: UserWarning: stad428_rois002_fov0_c3.tif is a low contrast image\n"
     ]
    },
    {
     "name": "stdout",
     "output_type": "stream",
     "text": [
      "       fov 1 of 8\n"
     ]
    },
    {
     "name": "stderr",
     "output_type": "stream",
     "text": [
      "C:\\Users\\LegantLab\\anaconda3\\lib\\site-packages\\ipykernel_launcher.py:105: UserWarning: stad428_rois002_fov1_c3.tif is a low contrast image\n"
     ]
    },
    {
     "name": "stdout",
     "output_type": "stream",
     "text": [
      "       fov 2 of 8\n"
     ]
    },
    {
     "name": "stderr",
     "output_type": "stream",
     "text": [
      "C:\\Users\\LegantLab\\anaconda3\\lib\\site-packages\\ipykernel_launcher.py:105: UserWarning: stad428_rois002_fov2_c3.tif is a low contrast image\n"
     ]
    },
    {
     "name": "stdout",
     "output_type": "stream",
     "text": [
      "       fov 3 of 8\n",
      "       fov 4 of 8\n",
      "       fov 5 of 8\n",
      "       fov 6 of 8\n",
      "       fov 7 of 8\n",
      "       fov 0 of 8\n"
     ]
    },
    {
     "name": "stderr",
     "output_type": "stream",
     "text": [
      "C:\\Users\\LegantLab\\anaconda3\\lib\\site-packages\\ipykernel_launcher.py:105: UserWarning: stad430_rois001_fov0_c3.tif is a low contrast image\n"
     ]
    },
    {
     "name": "stdout",
     "output_type": "stream",
     "text": [
      "       fov 1 of 8\n"
     ]
    },
    {
     "name": "stderr",
     "output_type": "stream",
     "text": [
      "C:\\Users\\LegantLab\\anaconda3\\lib\\site-packages\\ipykernel_launcher.py:105: UserWarning: stad430_rois001_fov1_c3.tif is a low contrast image\n"
     ]
    },
    {
     "name": "stdout",
     "output_type": "stream",
     "text": [
      "       fov 2 of 8\n"
     ]
    },
    {
     "name": "stderr",
     "output_type": "stream",
     "text": [
      "C:\\Users\\LegantLab\\anaconda3\\lib\\site-packages\\ipykernel_launcher.py:105: UserWarning: stad430_rois001_fov2_c3.tif is a low contrast image\n"
     ]
    },
    {
     "name": "stdout",
     "output_type": "stream",
     "text": [
      "       fov 3 of 8\n",
      "       fov 4 of 8\n",
      "       fov 5 of 8\n",
      "       fov 6 of 8\n",
      "       fov 7 of 8\n",
      "       fov 0 of 8\n"
     ]
    },
    {
     "name": "stderr",
     "output_type": "stream",
     "text": [
      "C:\\Users\\LegantLab\\anaconda3\\lib\\site-packages\\ipykernel_launcher.py:105: UserWarning: stad430_rois002_fov0_c3.tif is a low contrast image\n"
     ]
    },
    {
     "name": "stdout",
     "output_type": "stream",
     "text": [
      "       fov 1 of 8\n"
     ]
    },
    {
     "name": "stderr",
     "output_type": "stream",
     "text": [
      "C:\\Users\\LegantLab\\anaconda3\\lib\\site-packages\\ipykernel_launcher.py:105: UserWarning: stad430_rois002_fov1_c3.tif is a low contrast image\n"
     ]
    },
    {
     "name": "stdout",
     "output_type": "stream",
     "text": [
      "       fov 2 of 8\n"
     ]
    },
    {
     "name": "stderr",
     "output_type": "stream",
     "text": [
      "C:\\Users\\LegantLab\\anaconda3\\lib\\site-packages\\ipykernel_launcher.py:105: UserWarning: stad430_rois002_fov2_c3.tif is a low contrast image\n"
     ]
    },
    {
     "name": "stdout",
     "output_type": "stream",
     "text": [
      "       fov 3 of 8\n",
      "       fov 4 of 8\n",
      "       fov 5 of 8\n",
      "       fov 6 of 8\n",
      "       fov 7 of 8\n",
      "       fov 0 of 8\n"
     ]
    },
    {
     "name": "stderr",
     "output_type": "stream",
     "text": [
      "C:\\Users\\LegantLab\\anaconda3\\lib\\site-packages\\ipykernel_launcher.py:105: UserWarning: stad431_rois001_fov0_c3.tif is a low contrast image\n"
     ]
    },
    {
     "name": "stdout",
     "output_type": "stream",
     "text": [
      "       fov 1 of 8\n"
     ]
    },
    {
     "name": "stderr",
     "output_type": "stream",
     "text": [
      "C:\\Users\\LegantLab\\anaconda3\\lib\\site-packages\\ipykernel_launcher.py:105: UserWarning: stad431_rois001_fov1_c3.tif is a low contrast image\n"
     ]
    },
    {
     "name": "stdout",
     "output_type": "stream",
     "text": [
      "       fov 2 of 8\n"
     ]
    },
    {
     "name": "stderr",
     "output_type": "stream",
     "text": [
      "C:\\Users\\LegantLab\\anaconda3\\lib\\site-packages\\ipykernel_launcher.py:105: UserWarning: stad431_rois001_fov2_c3.tif is a low contrast image\n"
     ]
    },
    {
     "name": "stdout",
     "output_type": "stream",
     "text": [
      "       fov 3 of 8\n",
      "       fov 4 of 8\n",
      "       fov 5 of 8\n",
      "       fov 6 of 8\n",
      "       fov 7 of 8\n",
      "       fov 0 of 8\n"
     ]
    },
    {
     "name": "stderr",
     "output_type": "stream",
     "text": [
      "C:\\Users\\LegantLab\\anaconda3\\lib\\site-packages\\ipykernel_launcher.py:105: UserWarning: stad431_rois002_fov0_c3.tif is a low contrast image\n"
     ]
    },
    {
     "name": "stdout",
     "output_type": "stream",
     "text": [
      "       fov 1 of 8\n"
     ]
    },
    {
     "name": "stderr",
     "output_type": "stream",
     "text": [
      "C:\\Users\\LegantLab\\anaconda3\\lib\\site-packages\\ipykernel_launcher.py:105: UserWarning: stad431_rois002_fov1_c3.tif is a low contrast image\n"
     ]
    },
    {
     "name": "stdout",
     "output_type": "stream",
     "text": [
      "       fov 2 of 8\n"
     ]
    },
    {
     "name": "stderr",
     "output_type": "stream",
     "text": [
      "C:\\Users\\LegantLab\\anaconda3\\lib\\site-packages\\ipykernel_launcher.py:105: UserWarning: stad431_rois002_fov2_c3.tif is a low contrast image\n"
     ]
    },
    {
     "name": "stdout",
     "output_type": "stream",
     "text": [
      "       fov 3 of 8\n",
      "       fov 4 of 8\n",
      "       fov 5 of 8\n",
      "       fov 6 of 8\n",
      "       fov 7 of 8\n",
      "       fov 0 of 8\n"
     ]
    },
    {
     "name": "stderr",
     "output_type": "stream",
     "text": [
      "C:\\Users\\LegantLab\\anaconda3\\lib\\site-packages\\ipykernel_launcher.py:105: UserWarning: stad432_rois001_fov0_c3.tif is a low contrast image\n"
     ]
    },
    {
     "name": "stdout",
     "output_type": "stream",
     "text": [
      "       fov 1 of 8\n"
     ]
    },
    {
     "name": "stderr",
     "output_type": "stream",
     "text": [
      "C:\\Users\\LegantLab\\anaconda3\\lib\\site-packages\\ipykernel_launcher.py:105: UserWarning: stad432_rois001_fov1_c3.tif is a low contrast image\n"
     ]
    },
    {
     "name": "stdout",
     "output_type": "stream",
     "text": [
      "       fov 2 of 8\n"
     ]
    },
    {
     "name": "stderr",
     "output_type": "stream",
     "text": [
      "C:\\Users\\LegantLab\\anaconda3\\lib\\site-packages\\ipykernel_launcher.py:105: UserWarning: stad432_rois001_fov2_c3.tif is a low contrast image\n"
     ]
    },
    {
     "name": "stdout",
     "output_type": "stream",
     "text": [
      "       fov 3 of 8\n",
      "       fov 4 of 8\n",
      "       fov 5 of 8\n",
      "       fov 6 of 8\n",
      "       fov 7 of 8\n",
      "       fov 0 of 8\n"
     ]
    },
    {
     "name": "stderr",
     "output_type": "stream",
     "text": [
      "C:\\Users\\LegantLab\\anaconda3\\lib\\site-packages\\ipykernel_launcher.py:105: UserWarning: stad433_rois001_fov0_c3.tif is a low contrast image\n"
     ]
    },
    {
     "name": "stdout",
     "output_type": "stream",
     "text": [
      "       fov 1 of 8\n"
     ]
    },
    {
     "name": "stderr",
     "output_type": "stream",
     "text": [
      "C:\\Users\\LegantLab\\anaconda3\\lib\\site-packages\\ipykernel_launcher.py:105: UserWarning: stad433_rois001_fov1_c3.tif is a low contrast image\n"
     ]
    },
    {
     "name": "stdout",
     "output_type": "stream",
     "text": [
      "       fov 2 of 8\n"
     ]
    },
    {
     "name": "stderr",
     "output_type": "stream",
     "text": [
      "C:\\Users\\LegantLab\\anaconda3\\lib\\site-packages\\ipykernel_launcher.py:105: UserWarning: stad433_rois001_fov2_c3.tif is a low contrast image\n"
     ]
    },
    {
     "name": "stdout",
     "output_type": "stream",
     "text": [
      "       fov 3 of 8\n",
      "       fov 4 of 8\n",
      "       fov 5 of 8\n",
      "       fov 6 of 8\n",
      "       fov 7 of 8\n",
      "       fov 0 of 8\n"
     ]
    },
    {
     "name": "stderr",
     "output_type": "stream",
     "text": [
      "C:\\Users\\LegantLab\\anaconda3\\lib\\site-packages\\ipykernel_launcher.py:105: UserWarning: stad433_rois002_fov0_c3.tif is a low contrast image\n"
     ]
    },
    {
     "name": "stdout",
     "output_type": "stream",
     "text": [
      "       fov 1 of 8\n"
     ]
    },
    {
     "name": "stderr",
     "output_type": "stream",
     "text": [
      "C:\\Users\\LegantLab\\anaconda3\\lib\\site-packages\\ipykernel_launcher.py:105: UserWarning: stad433_rois002_fov1_c3.tif is a low contrast image\n"
     ]
    },
    {
     "name": "stdout",
     "output_type": "stream",
     "text": [
      "       fov 2 of 8\n"
     ]
    },
    {
     "name": "stderr",
     "output_type": "stream",
     "text": [
      "C:\\Users\\LegantLab\\anaconda3\\lib\\site-packages\\ipykernel_launcher.py:105: UserWarning: stad433_rois002_fov2_c3.tif is a low contrast image\n"
     ]
    },
    {
     "name": "stdout",
     "output_type": "stream",
     "text": [
      "       fov 3 of 8\n",
      "       fov 4 of 8\n",
      "       fov 5 of 8\n",
      "       fov 6 of 8\n",
      "       fov 7 of 8\n",
      "       fov 0 of 8\n"
     ]
    },
    {
     "name": "stderr",
     "output_type": "stream",
     "text": [
      "C:\\Users\\LegantLab\\anaconda3\\lib\\site-packages\\ipykernel_launcher.py:105: UserWarning: stad434_rois001_fov0_c3.tif is a low contrast image\n"
     ]
    },
    {
     "name": "stdout",
     "output_type": "stream",
     "text": [
      "       fov 1 of 8\n"
     ]
    },
    {
     "name": "stderr",
     "output_type": "stream",
     "text": [
      "C:\\Users\\LegantLab\\anaconda3\\lib\\site-packages\\ipykernel_launcher.py:105: UserWarning: stad434_rois001_fov1_c3.tif is a low contrast image\n"
     ]
    },
    {
     "name": "stdout",
     "output_type": "stream",
     "text": [
      "       fov 2 of 8\n"
     ]
    },
    {
     "name": "stderr",
     "output_type": "stream",
     "text": [
      "C:\\Users\\LegantLab\\anaconda3\\lib\\site-packages\\ipykernel_launcher.py:105: UserWarning: stad434_rois001_fov2_c3.tif is a low contrast image\n"
     ]
    },
    {
     "name": "stdout",
     "output_type": "stream",
     "text": [
      "       fov 3 of 8\n",
      "       fov 4 of 8\n",
      "       fov 5 of 8\n",
      "       fov 6 of 8\n",
      "       fov 7 of 8\n",
      "       fov 0 of 8\n"
     ]
    },
    {
     "name": "stderr",
     "output_type": "stream",
     "text": [
      "C:\\Users\\LegantLab\\anaconda3\\lib\\site-packages\\ipykernel_launcher.py:105: UserWarning: stad435_rois001_fov0_c3.tif is a low contrast image\n"
     ]
    },
    {
     "name": "stdout",
     "output_type": "stream",
     "text": [
      "       fov 1 of 8\n"
     ]
    },
    {
     "name": "stderr",
     "output_type": "stream",
     "text": [
      "C:\\Users\\LegantLab\\anaconda3\\lib\\site-packages\\ipykernel_launcher.py:105: UserWarning: stad435_rois001_fov1_c3.tif is a low contrast image\n"
     ]
    },
    {
     "name": "stdout",
     "output_type": "stream",
     "text": [
      "       fov 2 of 8\n"
     ]
    },
    {
     "name": "stderr",
     "output_type": "stream",
     "text": [
      "C:\\Users\\LegantLab\\anaconda3\\lib\\site-packages\\ipykernel_launcher.py:105: UserWarning: stad435_rois001_fov2_c3.tif is a low contrast image\n"
     ]
    },
    {
     "name": "stdout",
     "output_type": "stream",
     "text": [
      "       fov 3 of 8\n",
      "       fov 4 of 8\n",
      "       fov 5 of 8\n",
      "       fov 6 of 8\n",
      "       fov 7 of 8\n"
     ]
    }
   ],
   "source": [
    "imgs_used = ['stad424_rois002.nd2', #these should be all of the images used.\n",
    "             'stad425_rois001.nd2',\n",
    "             'stad425_rois004.nd2',\n",
    "             'stad425_rois005.nd2',\n",
    "             'stad426_rois001.nd2',\n",
    "             'stad426_rois002.nd2',\n",
    "             'stad427_rois001.nd2',\n",
    "             'stad427_rois002.nd2',\n",
    "             'stad428_rois001.nd2',\n",
    "             'stad428_rois002.nd2',\n",
    "             'stad430_rois001.nd2', #everything from here on only has 3 channels\n",
    "             'stad430_rois002.nd2',  \n",
    "             'stad431_rois001.nd2',\n",
    "             'stad431_rois002.nd2',\n",
    "             'stad432_rois001.nd2',\n",
    "             'stad433_rois001.nd2',\n",
    "             'stad433_rois002.nd2',\n",
    "             'stad434_rois001.nd2',\n",
    "             'stad435_rois001.nd2']\n",
    "\n",
    "#imgs_used = imgs_used[1:3] #make a subset of images for testing.\n",
    "#imgs_used = ['stad425_rois004.nd2'] #for testing 4 channel images\n",
    "#imgs_used = ['stad430_rois002.nd2'] #for testing 3 channel images \n",
    "\n",
    "\n",
    "\n",
    "'''iterate over all of the .nd2 files in the list'''\n",
    "for nd2_file in imgs_used:\n",
    "    \n",
    "    '''time keeping'''\n",
    "    nd2_count = 1\n",
    "    print(datetime.now(), '::::: working on file ' +str(nd2_count) + ' of ' + str(len(imgs_used)))\n",
    "    nd2_count += 1\n",
    "    \n",
    "    \n",
    "    nd2_multipoints = ND2Reader(nd2_file) # read in a vdr-gr-cebpb image that \n",
    "    nd2_multipoints.bundle_axes = 'czyx' #bundle the channel and zyx coordinates\n",
    "    nd2_multipoints.iter_axes = 'v' # set the index to the field of view\n",
    "    #img_5d = np.array(nd2_multipoints, dtype = 'uint16') #change the pims image into a numpy array 16bit integers\n",
    "\n",
    "   \n",
    "    for fov in range(img_5d.shape[0]): #iterate over the fields of view\n",
    "        print('       fov ' + str(fov) + ' of ' + str(img_5d.shape[0]))\n",
    "        img_4d = img_5d[fov, :, :, :] #pull out a single filed of view. This has all three c and zyx\n",
    "        \n",
    "        if img_4d.shape[0] == 4: #check to see if the image has three channel\n",
    "            ''' I would like to find where the middle slice is first'''\n",
    "            img_4d_ = np.cpy(img_4d)\n",
    "            c1_3d = img_4d_[0, :, :, :]\n",
    "            c2_3d = img_4d_[1, :, :, :]\n",
    "            c3_3d = img_4d_[2, :, :, :] #vdr zstack\n",
    "            c4_3d = img_4d_[3, :, :, :]\n",
    "        \n",
    "            dcts_lst = [] #list to be populated with the DCTS of each slice inf c2_3d\n",
    "            for zslice in range(c3_3d.shape[0]): #iterate over each slice in the z stack pull out the DCTS\n",
    "                c2_ = c3_3d[zslice, :, :].astype('float32') #choose individual slice\n",
    "                dcts_lst.append(dcts(c2_)) #append the runnining list with the value of DCTS for this slice\n",
    "            dcts_lst = pd.Series(dcts_lst).dropna()\n",
    "            mid_slice = np.argwhere(np.array(dcts_lst) == np.max(dcts_lst)) #max value of DCTS lst is the middle slice       \n",
    " \n",
    "            '''base on the higher entropy of DCT, pull togetehr images for eac hchannel'''\n",
    "            c1_slice = c1_3d[mid_slice, :, :] #cebp\n",
    "            c2_slice = c2_3d[mid_slice, :, :] #gr\n",
    "            c3_slice = c3_3d[mid_slice, :, :] #vdr\n",
    "            c4_slice = c4_3d[mid_slice, :, :] #dapi\n",
    "            '''write the single plane images into .tif files'''\n",
    "            os.chdir(mid_slices_dir)\n",
    "            base_name = nd2_file[:-4] # this will be the base for the saved .tif files \n",
    "            io.imsave(base_name+'_fov'+str(fov)+'_c1.tif', c1_slice)\n",
    "            io.imsave(base_name+'_fov'+str(fov)+'_c2.tif', c2_slice)\n",
    "            io.imsave(base_name+'_fov'+str(fov)+'_c3.tif', c3_slice)\n",
    "            io.imsave(base_name+'_fov'+str(fov)+'_c4.tif', c4_slice)\n",
    "            os.chdir(nd2_dir) #change \n",
    "            \n",
    "        if img_4d.shape[0] == 3: #check to see if the image has three channel\n",
    "            img_4d_ = np.copy(img_4d) #have to make a copy and pull out seperate zstacks otherwise they get effed as I start to mess with the original image\n",
    "            c1_3d = img_4d_[0, :, :, :].astype('uint16') #cebpb zstack\n",
    "            c2_3d = img_4d_[1, :, :, :].astype('uint16') #GR zstack\n",
    "            c3_3d = img_4d_[2, :, :, :].astype('uint16') #VDR zstack\n",
    "            '''fine the most in focus zslice'''\n",
    "            dcts_lst = [] #list to be populated with 0the DCTS of each slice inf c2_3d\n",
    "            for zslice in range(c2_3d.shape[0]): #iterate over each slice in the z stack pull out the DCTS\n",
    "                c2_ = c3_3d[zslice, :, :].astype('float') #choose individual slice\n",
    "                dcts_lst.append(dcts(c2_)) #append the runnining list with the value of DCTS for this slice\n",
    "            dcts_lst = pd.Series(dcts_lst).dropna()\n",
    "            mid_slice = int(np.argwhere(np.array(dcts_lst) == np.max(dcts_lst))) #max value of DCTS lst is the middle slice\n",
    "            \n",
    "            '''from there I would like to get a mip of the middle regions of the image'''\n",
    "\n",
    "            img_4d = np.moveaxis(img_4d, 0, -1) #move the channel to the last axis\n",
    "            img_4d_mid_region = img_4d[mid_slice, :, :, :] #pull out only the middle seven z-slices. This sis the only part that is different from above \n",
    "            img_4d_blurred = gaussian(img_4d_mid_region, 7, multichannel = True) #apply a gaussian filter to each channel in the image\n",
    "            '''prior to combining everything together I would like to normalize all of the channels'''\n",
    "            for chan in range(img_4d_blurred.shape[-1]):\n",
    "                img_4d_blurred[:, :, chan] = normalize_img(img_4d_blurred[:, :, chan])\n",
    "            channel_mean = np.mean(img_4d_blurred, axis = -1) #average two channels together\n",
    "\n",
    "\n",
    "            c1_slice = c1_3d[mid_slice, :, :] #cebp\n",
    "            c2_slice = c2_3d[mid_slice, :, :] #gr\n",
    "            c3_slice = c3_3d[mid_slice, :, :] #vdr\n",
    "                \n",
    "                \n",
    "            '''write the single plane images into .tif files'''\n",
    "            os.chdir(mid_slices_dir)\n",
    "            base_name = nd2_file[:-4] # this will be the base for the saved .tif files \n",
    "            io.imsave(base_name+'_fov'+str(fov)+'_c1.tif', c1_slice)\n",
    "            io.imsave(base_name+'_fov'+str(fov)+'_c2.tif', c2_slice)\n",
    "            io.imsave(base_name+'_fov'+str(fov)+'_c3.tif', c3_slice)\n",
    "            io.imsave(base_name+'_fov'+str(fov)+'_c4.tif', channel_mean.astype('float32'))\n",
    "            os.chdir(nd2_dir) #change back to directory with the original .nd2 files\n",
    "    "
   ]
  },
  {
   "cell_type": "markdown",
   "metadata": {},
   "source": [
    "# debugging"
   ]
  },
  {
   "cell_type": "markdown",
   "metadata": {},
   "source": [
    "## Figuring out how to integrate script from no_dapi_testing.ipynb"
   ]
  },
  {
   "cell_type": "code",
   "execution_count": 13,
   "metadata": {},
   "outputs": [
    {
     "data": {
      "text/plain": [
       "(array([2.818471e+06, 9.195780e+05, 2.851340e+05, 1.292420e+05,\n",
       "        2.826800e+04, 4.521000e+03, 3.820000e+02, 2.180000e+02,\n",
       "        1.640000e+02, 1.340000e+02]),\n",
       " array([0.287321  , 0.4845512 , 0.68178139, 0.87901159, 1.07624179,\n",
       "        1.27347198, 1.47070218, 1.66793237, 1.86516257, 2.06239276,\n",
       "        2.25962296]),\n",
       " <a list of 10 Patch objects>)"
      ]
     },
     "execution_count": 13,
     "metadata": {},
     "output_type": "execute_result"
    },
    {
     "data": {
      "image/png": "[encoded data removed]",
      "text/plain": [
       "<Figure size 432x288 with 1 Axes>"
      ]
     },
     "metadata": {
      "needs_background": "light"
     },
     "output_type": "display_data"
    }
   ],
   "source": [
    "plt.hist(channel_mean.flatten())"
   ]
  },
  {
   "cell_type": "code",
   "execution_count": 14,
   "metadata": {},
   "outputs": [
    {
     "data": {
      "text/plain": [
       "4186112"
      ]
     },
     "execution_count": 14,
     "metadata": {},
     "output_type": "execute_result"
    }
   ],
   "source": [
    "len(np.unique(channel_mean))"
   ]
  },
  {
   "cell_type": "code",
   "execution_count": 15,
   "metadata": {},
   "outputs": [],
   "source": [
    "chan_ = np.around(channel_mean, 3)"
   ]
  },
  {
   "cell_type": "code",
   "execution_count": 23,
   "metadata": {},
   "outputs": [
    {
     "data": {
      "text/plain": [
       "1696"
      ]
     },
     "execution_count": 23,
     "metadata": {},
     "output_type": "execute_result"
    }
   ],
   "source": [
    "len(np.unique(chan_)) "
   ]
  },
  {
   "cell_type": "code",
   "execution_count": 20,
   "metadata": {},
   "outputs": [
    {
     "data": {
      "text/plain": [
       "65536"
      ]
     },
     "execution_count": 20,
     "metadata": {},
     "output_type": "execute_result"
    }
   ],
   "source": [
    "2 ** 16"
   ]
  },
  {
   "cell_type": "code",
   "execution_count": 10,
   "metadata": {},
   "outputs": [
    {
     "data": {
      "text/plain": [
       "(25, 2044, 2048)"
      ]
     },
     "execution_count": 10,
     "metadata": {},
     "output_type": "execute_result"
    }
   ],
   "source": [
    "c1_3d.shape"
   ]
  },
  {
   "cell_type": "code",
   "execution_count": 11,
   "metadata": {},
   "outputs": [],
   "source": [
    "io.imsave('c1_testing.tif', c1_3d)"
   ]
  },
  {
   "cell_type": "code",
   "execution_count": 200,
   "metadata": {},
   "outputs": [
    {
     "data": {
      "text/plain": [
       "2140988331"
      ]
     },
     "execution_count": 200,
     "metadata": {},
     "output_type": "execute_result"
    }
   ],
   "source": [
    "np.sum(c1_3d)"
   ]
  },
  {
   "cell_type": "code",
   "execution_count": 201,
   "metadata": {},
   "outputs": [
    {
     "data": {
      "text/plain": [
       "(25, 2044, 2048)"
      ]
     },
     "execution_count": 201,
     "metadata": {},
     "output_type": "execute_result"
    }
   ],
   "source": [
    "c1_3d.shape"
   ]
  },
  {
   "cell_type": "code",
   "execution_count": 203,
   "metadata": {},
   "outputs": [
    {
     "data": {
      "text/plain": [
       "3411971789"
      ]
     },
     "execution_count": 203,
     "metadata": {},
     "output_type": "execute_result"
    }
   ],
   "source": [
    "np.sum(c1_3d[mid_slice, :, :])"
   ]
  },
  {
   "cell_type": "code",
   "execution_count": 185,
   "metadata": {},
   "outputs": [],
   "source": [
    "img_4d_mid_region = np.moveaxis(img_4d, 0, -1)[mid_slice, :, :, :] #pull out only the most in focus slice"
   ]
  },
  {
   "cell_type": "code",
   "execution_count": 186,
   "metadata": {},
   "outputs": [
    {
     "data": {
      "text/plain": [
       "(2044, 2048, 3)"
      ]
     },
     "execution_count": 186,
     "metadata": {},
     "output_type": "execute_result"
    }
   ],
   "source": [
    "img_4d_mid_region.shape"
   ]
  },
  {
   "cell_type": "code",
   "execution_count": 187,
   "metadata": {},
   "outputs": [
    {
     "data": {
      "text/plain": [
       "858018827"
      ]
     },
     "execution_count": 187,
     "metadata": {},
     "output_type": "execute_result"
    }
   ],
   "source": [
    "np.sum(img_4d)"
   ]
  },
  {
   "cell_type": "code",
   "execution_count": 188,
   "metadata": {},
   "outputs": [
    {
     "data": {
      "text/plain": [
       "0"
      ]
     },
     "execution_count": 188,
     "metadata": {},
     "output_type": "execute_result"
    }
   ],
   "source": [
    "np.sum(img_4d_mid_region)"
   ]
  },
  {
   "cell_type": "code",
   "execution_count": 154,
   "metadata": {},
   "outputs": [],
   "source": [
    "img_4d_mid_region = np.moveaxis(img_4d_mid_region, 0, -1) #move the channel to the last axis"
   ]
  },
  {
   "cell_type": "code",
   "execution_count": 158,
   "metadata": {},
   "outputs": [
    {
     "data": {
      "text/plain": [
       "(2044, 2048, 3)"
      ]
     },
     "execution_count": 158,
     "metadata": {},
     "output_type": "execute_result"
    }
   ],
   "source": [
    "img_4d_mid_region.shape"
   ]
  },
  {
   "cell_type": "code",
   "execution_count": 157,
   "metadata": {},
   "outputs": [
    {
     "data": {
      "image/png": "[encoded data removed]",
      "text/plain": [
       "<Figure size 432x288 with 3 Axes>"
      ]
     },
     "metadata": {
      "needs_background": "light"
     },
     "output_type": "display_data"
    }
   ],
   "source": [
    "fig, axes = plt.subplots(1,3)\n",
    "\n",
    "axes = axes.flatten()\n",
    "\n",
    "for i in range(3):\n",
    "    axes[i].imshow(img_4d_mid_region[:, :, i])"
   ]
  },
  {
   "cell_type": "code",
   "execution_count": 143,
   "metadata": {},
   "outputs": [],
   "source": [
    "for chan in range(img_4d_mid_region.shape[-1]):\n",
    "    img_4d_mid_region[:, :, chan] = normalize_img(img_4d_mid_region[:, :, chan])\n",
    "    img_4d_mid_region[:, :, chan] = gaussian(img_4d_mid_region[:, :, chan], 7)"
   ]
  },
  {
   "cell_type": "code",
   "execution_count": 144,
   "metadata": {},
   "outputs": [
    {
     "data": {
      "image/png": "[encoded data removed]",
      "text/plain": [
       "<Figure size 432x288 with 3 Axes>"
      ]
     },
     "metadata": {
      "needs_background": "light"
     },
     "output_type": "display_data"
    }
   ],
   "source": [
    "fig, axes = plt.subplots(1,3)\n",
    "\n",
    "axes = axes.flatten()\n",
    "\n",
    "for i in range(3):\n",
    "    axes[i].imshow(img_4d_mid_region[:, :, i])"
   ]
  },
  {
   "cell_type": "code",
   "execution_count": 132,
   "metadata": {},
   "outputs": [
    {
     "data": {
      "text/plain": [
       "<matplotlib.image.AxesImage at 0x24846e4a4c8>"
      ]
     },
     "execution_count": 132,
     "metadata": {},
     "output_type": "execute_result"
    },
    {
     "data": {
      "image/png": "[encoded data removed]",
      "text/plain": [
       "<Figure size 432x288 with 1 Axes>"
      ]
     },
     "metadata": {
      "needs_background": "light"
     },
     "output_type": "display_data"
    }
   ],
   "source": [
    "plt.imshow(img_4d_mid_region[:, :, 0])"
   ]
  },
  {
   "cell_type": "code",
   "execution_count": 129,
   "metadata": {},
   "outputs": [
    {
     "data": {
      "text/plain": [
       "(2044, 2048)"
      ]
     },
     "execution_count": 129,
     "metadata": {},
     "output_type": "execute_result"
    }
   ],
   "source": [
    "c4_slice.shape"
   ]
  },
  {
   "cell_type": "code",
   "execution_count": 87,
   "metadata": {},
   "outputs": [
    {
     "data": {
      "text/plain": [
       "(3, 25, 2044, 2048)"
      ]
     },
     "execution_count": 87,
     "metadata": {},
     "output_type": "execute_result"
    }
   ],
   "source": [
    "img_4d.shape"
   ]
  },
  {
   "cell_type": "code",
   "execution_count": 95,
   "metadata": {},
   "outputs": [
    {
     "data": {
      "text/plain": [
       "array([], shape=(0, 1), dtype=int64)"
      ]
     },
     "execution_count": 95,
     "metadata": {},
     "output_type": "execute_result"
    }
   ],
   "source": [
    "np.argwhere(np.array(dcts_lst) == np.max(dcts_lst))"
   ]
  },
  {
   "cell_type": "code",
   "execution_count": 106,
   "metadata": {},
   "outputs": [],
   "source": [
    "'''this works through random nas still showing up in dcts'''\n",
    "jnk = pd.Series(dcts_lst).dropna()\n",
    "\n"
   ]
  },
  {
   "cell_type": "code",
   "execution_count": 110,
   "metadata": {},
   "outputs": [],
   "source": [
    "io.imsave('c3.tif', c2_3d)"
   ]
  },
  {
   "cell_type": "code",
   "execution_count": 116,
   "metadata": {},
   "outputs": [
    {
     "data": {
      "text/plain": [
       "<matplotlib.image.AxesImage at 0x24846946948>"
      ]
     },
     "execution_count": 116,
     "metadata": {},
     "output_type": "execute_result"
    },
    {
     "data": {
      "image/png": "[encoded data removed]",
      "text/plain": [
       "<Figure size 432x288 with 1 Axes>"
      ]
     },
     "metadata": {
      "needs_background": "light"
     },
     "output_type": "display_data"
    }
   ],
   "source": [
    "plt.imshow(c1_3d[mid_slice, :, :])"
   ]
  },
  {
   "cell_type": "code",
   "execution_count": 112,
   "metadata": {},
   "outputs": [
    {
     "data": {
      "text/plain": [
       "[<matplotlib.lines.Line2D at 0x24847ec6608>]"
      ]
     },
     "execution_count": 112,
     "metadata": {},
     "output_type": "execute_result"
    },
    {
     "data": {
      "image/png": "[encoded data removed]",
      "text/plain": [
       "<Figure size 432x288 with 1 Axes>"
      ]
     },
     "metadata": {
      "needs_background": "light"
     },
     "output_type": "display_data"
    }
   ],
   "source": [
    "plt.plot(list(range(len(dcts_lst))), dcts_lst)"
   ]
  },
  {
   "cell_type": "code",
   "execution_count": 113,
   "metadata": {},
   "outputs": [
    {
     "data": {
      "text/plain": [
       "16"
      ]
     },
     "execution_count": 113,
     "metadata": {},
     "output_type": "execute_result"
    }
   ],
   "source": [
    "mid_slice"
   ]
  },
  {
   "cell_type": "code",
   "execution_count": 125,
   "metadata": {},
   "outputs": [
    {
     "data": {
      "text/plain": [
       "(3, 2044, 2048)"
      ]
     },
     "execution_count": 125,
     "metadata": {},
     "output_type": "execute_result"
    }
   ],
   "source": [
    "img_4d_mid_region.shape"
   ]
  },
  {
   "cell_type": "code",
   "execution_count": 123,
   "metadata": {},
   "outputs": [
    {
     "data": {
      "text/plain": [
       "<matplotlib.image.AxesImage at 0x24846c53f88>"
      ]
     },
     "execution_count": 123,
     "metadata": {},
     "output_type": "execute_result"
    },
    {
     "data": {
      "image/png": "[encoded data removed]",
      "text/plain": [
       "<Figure size 432x288 with 2 Axes>"
      ]
     },
     "metadata": {
      "needs_background": "light"
     },
     "output_type": "display_data"
    }
   ],
   "source": [
    "fig, axes = plt.subplots(1,2)\n",
    "\n",
    "axes = axes.flatten()\n",
    "\n",
    "axes[0].imshow(c4_slice)\n",
    "axes[1].imshow(c1_slice)"
   ]
  },
  {
   "cell_type": "markdown",
   "metadata": {},
   "source": [
    "## figure out the why the dcts is not working\n",
    "### This whole thing had to do with a data type misunderstanding. Running the DCTS on integers fucks things up"
   ]
  },
  {
   "cell_type": "code",
   "execution_count": 66,
   "metadata": {},
   "outputs": [
    {
     "data": {
      "text/plain": [
       "(2044, 2048)"
      ]
     },
     "execution_count": 66,
     "metadata": {},
     "output_type": "execute_result"
    }
   ],
   "source": [
    "# the images seem like they are the right dimensions\n",
    "c2_.shape"
   ]
  },
  {
   "cell_type": "code",
   "execution_count": 48,
   "metadata": {},
   "outputs": [
    {
     "data": {
      "text/plain": [
       "(5, 4, 25, 2044, 2048)"
      ]
     },
     "execution_count": 48,
     "metadata": {},
     "output_type": "execute_result"
    }
   ],
   "source": [
    "img_5d.shape"
   ]
  },
  {
   "cell_type": "code",
   "execution_count": 85,
   "metadata": {},
   "outputs": [
    {
     "data": {
      "text/plain": [
       "[<matplotlib.lines.Line2D at 0x24846fff288>]"
      ]
     },
     "execution_count": 85,
     "metadata": {},
     "output_type": "execute_result"
    },
    {
     "data": {
      "image/png": "[encoded data removed]",
      "text/plain": [
       "<Figure size 432x288 with 1 Axes>"
      ]
     },
     "metadata": {
      "needs_background": "light"
     },
     "output_type": "display_data"
    }
   ],
   "source": [
    "plt.plot(list(range(len(dcts_lst))), dcts_lst)"
   ]
  },
  {
   "cell_type": "code",
   "execution_count": 69,
   "metadata": {},
   "outputs": [],
   "source": [
    "'''write the last image and check to see what is happending there'''\n",
    "os.chdir(mid_slices_dir)\n",
    "io.imsave('new.tif', c3_3d.astype('float32'))"
   ]
  },
  {
   "cell_type": "code",
   "execution_count": 70,
   "metadata": {},
   "outputs": [],
   "source": [
    "jnk = io.imread('new.tif')"
   ]
  },
  {
   "cell_type": "code",
   "execution_count": 71,
   "metadata": {},
   "outputs": [],
   "source": [
    "dcts_lst = []\n",
    "\n",
    "for zslice in range(jnk_.shape[0]):\n",
    "    jnk_slice = jnk_[zslice, :, :]\n",
    "    dcts_lst.append(dcts(jnk_slice))"
   ]
  },
  {
   "cell_type": "code",
   "execution_count": 80,
   "metadata": {},
   "outputs": [
    {
     "data": {
      "text/plain": [
       "[<matplotlib.lines.Line2D at 0x2484791b648>]"
      ]
     },
     "execution_count": 80,
     "metadata": {},
     "output_type": "execute_result"
    },
    {
     "data": {
      "image/png": "[encoded data removed]",
      "text/plain": [
       "<Figure size 432x288 with 1 Axes>"
      ]
     },
     "metadata": {
      "needs_background": "light"
     },
     "output_type": "display_data"
    }
   ],
   "source": [
    "plt.plot(list(range(len(dcts_lst))), dcts_lst)"
   ]
  },
  {
   "cell_type": "code",
   "execution_count": 78,
   "metadata": {},
   "outputs": [],
   "source": [
    "'''this is copied and pasted from the script above'''\n",
    "dcts_lst = [] #list to be populated with the DCTS of each slice inf c2_3d\n",
    "for zslice in range(c3_3d.shape[0]): #iterate over each slice in the z stack pull out the DCTS\n",
    "    c2_ = c3_3d[zslice, :, :].astype('float32') #choose individual slice\n",
    "    dcts_lst.append(dcts(c2_)) #append the runnining list with the value of DCTS for this slice\n",
    "mid_slice = np.argwhere(np.array(dcts_lst) == np.max(dcts_lst)) #max value of DCTS lst is the middle slice"
   ]
  },
  {
   "cell_type": "code",
   "execution_count": 79,
   "metadata": {},
   "outputs": [
    {
     "data": {
      "text/plain": [
       "[<matplotlib.lines.Line2D at 0x248478b3688>]"
      ]
     },
     "execution_count": 79,
     "metadata": {},
     "output_type": "execute_result"
    },
    {
     "data": {
      "image/png": "[encoded data removed]",
      "text/plain": [
       "<Figure size 432x288 with 1 Axes>"
      ]
     },
     "metadata": {
      "needs_background": "light"
     },
     "output_type": "display_data"
    }
   ],
   "source": [
    "plt.plot(list(range(len(dcts_lst))), dcts_lst)"
   ]
  },
  {
   "cell_type": "code",
   "execution_count": 41,
   "metadata": {},
   "outputs": [
    {
     "name": "stdout",
     "output_type": "stream",
     "text": [
      "(2044, 2048)\n",
      "(2044, 2048)\n",
      "(2044, 2048)\n",
      "(2044, 2048)\n",
      "(2044, 2048)\n",
      "(2044, 2048)\n",
      "(2044, 2048)\n",
      "(2044, 2048)\n",
      "(2044, 2048)\n",
      "(2044, 2048)\n",
      "(2044, 2048)\n",
      "(2044, 2048)\n",
      "(2044, 2048)\n",
      "(2044, 2048)\n",
      "(2044, 2048)\n",
      "(2044, 2048)\n",
      "(2044, 2048)\n",
      "(2044, 2048)\n",
      "(2044, 2048)\n",
      "(2044, 2048)\n",
      "(2044, 2048)\n",
      "(2044, 2048)\n",
      "(2044, 2048)\n",
      "(2044, 2048)\n",
      "(2044, 2048)\n"
     ]
    }
   ],
   "source": [
    "dcts_lst1 = [] #list to be populated with the DCTS of each slice inf c2_3d\n",
    "dcts_lst2 = []\n",
    "dcts_lst3 = []\n",
    "for zslice in range(c2_3d.shape[0]): #iterate over each slice in the z stack pull out the DCTS\n",
    "    c1_ = c1_3d[zslice, :, :] #choose individual slice\n",
    "    c2_ = c2_3d[zslice, :, :] #choose individual slice\n",
    "    c3_ = c3_3d[zslice, :, :] #choose individual slice\n",
    "\n",
    "    dcts_lst1.append(dcts(c1_)) #append the runnining list with the value of DCTS for this slice\n",
    "    dcts_lst2.append(dcts(c2_)) #append the runnining list with the value of DCTS for this slice\n",
    "    dcts_lst3.append(dcts(c3_)) #append the runnining list with the value of DCTS for this slice"
   ]
  },
  {
   "cell_type": "code",
   "execution_count": 44,
   "metadata": {},
   "outputs": [
    {
     "data": {
      "text/plain": [
       "[<matplotlib.lines.Line2D at 0x24625391748>]"
      ]
     },
     "execution_count": 44,
     "metadata": {},
     "output_type": "execute_result"
    },
    {
     "data": {
      "image/png": "[encoded data removed]",
      "text/plain": [
       "<Figure size 432x288 with 1 Axes>"
      ]
     },
     "metadata": {
      "needs_background": "light"
     },
     "output_type": "display_data"
    }
   ],
   "source": [
    "#plt.plot(list(range(len(dcts_lst))), dcts_lst1, color = 'r')\n",
    "#plt.plot(list(range(len(dcts_lst))), dcts_lst2, color = 'b')\n",
    "plt.plot(list(range(len(dcts_lst))), dcts_lst3, color = 'orange')"
   ]
  },
  {
   "cell_type": "code",
   "execution_count": 61,
   "metadata": {},
   "outputs": [],
   "source": [
    "jnk_ = io.imread('new.tif')"
   ]
  },
  {
   "cell_type": "code",
   "execution_count": 62,
   "metadata": {},
   "outputs": [
    {
     "data": {
      "text/plain": [
       "(25, 2044, 2048)"
      ]
     },
     "execution_count": 62,
     "metadata": {},
     "output_type": "execute_result"
    }
   ],
   "source": [
    "jnk_.shape"
   ]
  },
  {
   "cell_type": "code",
   "execution_count": 63,
   "metadata": {},
   "outputs": [],
   "source": [
    "dcts_lst = []\n",
    "\n",
    "for zslice in range(jnk_.shape[0]):\n",
    "    jnk_slice = jnk_[zslice, :, :]\n",
    "    dcts_lst.append(dcts(jnk_slice))"
   ]
  },
  {
   "cell_type": "code",
   "execution_count": 64,
   "metadata": {},
   "outputs": [
    {
     "data": {
      "text/plain": [
       "[<matplotlib.lines.Line2D at 0x24845f52c08>]"
      ]
     },
     "execution_count": 64,
     "metadata": {},
     "output_type": "execute_result"
    },
    {
     "data": {
      "image/png": "[encoded data removed]",
      "text/plain": [
       "<Figure size 432x288 with 1 Axes>"
      ]
     },
     "metadata": {
      "needs_background": "light"
     },
     "output_type": "display_data"
    }
   ],
   "source": [
    "plt.plot(list(range(len(dcts_lst))), dcts_lst)"
   ]
  },
  {
   "cell_type": "code",
   "execution_count": 12,
   "metadata": {},
   "outputs": [],
   "source": [
    "jnk = 'stad424_rois002.nd2'"
   ]
  },
  {
   "cell_type": "code",
   "execution_count": 13,
   "metadata": {},
   "outputs": [
    {
     "data": {
      "text/plain": [
       "'stad424_rois002'"
      ]
     },
     "execution_count": 13,
     "metadata": {},
     "output_type": "execute_result"
    }
   ],
   "source": [
    "jnk[:-4]"
   ]
  },
  {
   "cell_type": "code",
   "execution_count": null,
   "metadata": {},
   "outputs": [],
   "source": []
  }
 ],
 "metadata": {
  "kernelspec": {
   "display_name": "img_analysis",
   "language": "python",
   "name": "img_analysis"
  },
  "language_info": {
   "codemirror_mode": {
    "name": "ipython",
    "version": 3
   },
   "file_extension": ".py",
   "mimetype": "text/x-python",
   "name": "python",
   "nbconvert_exporter": "python",
   "pygments_lexer": "ipython3",
   "version": "3.7.6"
  }
 },
 "nbformat": 4,
 "nbformat_minor": 4
}
