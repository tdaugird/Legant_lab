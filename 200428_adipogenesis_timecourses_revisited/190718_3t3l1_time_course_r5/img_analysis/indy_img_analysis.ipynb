{
 "cells": [
  {
   "cell_type": "markdown",
   "metadata": {},
   "source": [
    "### With frustrations abounding regarding the ppar intensity in and out of the cebp blobs I am going to look at an individual image a little closer"
   ]
  },
  {
   "cell_type": "code",
   "execution_count": 299,
   "metadata": {},
   "outputs": [],
   "source": [
    "import os\n",
    "import numpy as np\n",
    "import pandas as pd\n",
    "import matplotlib.pyplot as plt\n",
    "import seaborn as sns\n",
    "from skimage import io, measure, exposure, morphology\n",
    "from scipy.ndimage.filters import gaussian_laplace\n",
    "from skimage.filters import gaussian\n",
    "from scipy import ndimage as ndi\n",
    "from skimage.feature import blob_dog, blob_log, blob_doh\n"
   ]
  },
  {
   "cell_type": "code",
   "execution_count": 300,
   "metadata": {},
   "outputs": [],
   "source": [
    "ppar_palette = sns.color_palette('PuRd', 20)\n",
    "cebp_palette = sns.color_palette('YlGn', 20)\n",
    "dapi_palette = sns.color_palette('Blues', 20)\n",
    "area_palette = sns.color_palette('Greys', 20)"
   ]
  },
  {
   "cell_type": "code",
   "execution_count": 288,
   "metadata": {},
   "outputs": [],
   "source": [
    "os.chdir(r'Z:\\TAD\\200428_adipogenesis_timecourses_revisited\\190718_3t3l1_time_course_r5\\stad3-42-xy3_cebp_segm_cell7_blob_testing')"
   ]
  },
  {
   "cell_type": "code",
   "execution_count": 301,
   "metadata": {},
   "outputs": [],
   "source": [
    "plt.style.use('dark_background')"
   ]
  },
  {
   "cell_type": "code",
   "execution_count": 304,
   "metadata": {},
   "outputs": [],
   "source": [
    "cebp_n_blob = io.imread('cabp_n_blob.tif')\n",
    "cebp_blob = io.imread('cebp_blob.tif')\n",
    "cebp_nucleus = io.imread('cebp_nucleus.tif')\n",
    "cebp_orig = io.imread('cebp_orig.tif')\n",
    "dapi_blob = io.imread('dapi_blob.tif')\n",
    "dapi_nucleus = io.imread('dapi_nucleus.tif')\n",
    "dapi_n_blob = io.imread('dapi_n_blob.tif')\n",
    "dapi_orig = io.imread('dapi_orig.tif')\n",
    "mask_blob = io.imread('mask_blob.tif')\n",
    "mask_nucleus = io.imread('mask_nucleus.tif')\n",
    "mask_n_blob = io.imread('mask_n_blob.tif')\n",
    "ppar_blob = io.imread('ppar_blob.tif')\n",
    "ppar_nucleus = io.imread('ppar_nucleus.tif')\n",
    "ppar_n_blob = io.imread('ppar_n_blob.tif')\n",
    "ppar_orig = io.imread('ppar_orig.tif')"
   ]
  },
  {
   "cell_type": "code",
   "execution_count": 314,
   "metadata": {},
   "outputs": [
    {
     "data": {
      "text/plain": [
       "<matplotlib.legend.Legend at 0x1b586c84bc8>"
      ]
     },
     "execution_count": 314,
     "metadata": {},
     "output_type": "execute_result"
    }
   ],
   "source": [
    "ppar_n_blob_flat = ppar_n_blob.flatten()\n",
    "ppar_n_blob_flat = ppar_n_blob_flat[ppar_n_blob_flat > 0]\n",
    "binner = np.linspace(1, 10000, 100)\n",
    "ax = sns.distplot(ppar_n_blob_flat, bins = binner, color = ppar_palette[12])\n",
    "\n",
    "ppar_blob_flat = ppar_blob.flatten()\n",
    "ppar_blob_flat = ppar_blob_flat[ppar_blob_flat > 0]\n",
    "ax = sns.distplot(ppar_blob_flat, bins = binner, color = area_palette[1])\n",
    "\n",
    "plt.legend(['ppar out of blobs', 'ppar in blobs'])"
   ]
  },
  {
   "cell_type": "code",
   "execution_count": null,
   "metadata": {},
   "outputs": [],
   "source": []
  },
  {
   "cell_type": "code",
   "execution_count": 33,
   "metadata": {},
   "outputs": [
    {
     "data": {
      "image/png": "[encoded data removed]",
      "text/plain": [
       "<Figure size 432x288 with 1 Axes>"
      ]
     },
     "metadata": {
      "needs_background": "light"
     },
     "output_type": "display_data"
    }
   ],
   "source": [
    "ppar_n_blob_bq = ppar_n_blob_flat[ppar_n_blob_flat < np.quantile(ppar_n_blob_flat, .1)]\n",
    "ppar_blob_bq = ppar_blob_flat[ppar_blob_flat < np.quantile(ppar_blob_flat, .1)]\n",
    "\n",
    "ax = sns.distplot(ppar_n_blob_bq, bins = 100)\n",
    "ax = sns.distplot(ppar_blob_bq, bins = 100)"
   ]
  },
  {
   "cell_type": "code",
   "execution_count": 109,
   "metadata": {},
   "outputs": [],
   "source": [
    "ppar_normed = ppar_nucleus / np.max(ppar_nucleus)\n"
   ]
  },
  {
   "cell_type": "code",
   "execution_count": 110,
   "metadata": {},
   "outputs": [],
   "source": [
    "def dot_2d(struct_img, s2_param):\n",
    "    bw = np.zeros(struct_img.shape, dtype=bool)\n",
    "    for fid in range(len(s2_param)):\n",
    "        log_sigma = s2_param[fid][0]\n",
    "        responce = np.zeros_like(struct_img)\n",
    "        responce = -1*(log_sigma**2)*ndi.filters.gaussian_laplace(struct_img, log_sigma)\n",
    "        bw = np.logical_or(bw, responce>s2_param[fid][1])\n",
    "    return bw"
   ]
  },
  {
   "cell_type": "code",
   "execution_count": 114,
   "metadata": {},
   "outputs": [],
   "source": [
    "%matplotlib qt"
   ]
  },
  {
   "cell_type": "code",
   "execution_count": 118,
   "metadata": {},
   "outputs": [
    {
     "data": {
      "text/plain": [
       "<matplotlib.image.AxesImage at 0x1b5fd015888>"
      ]
     },
     "execution_count": 118,
     "metadata": {},
     "output_type": "execute_result"
    }
   ],
   "source": [
    "ppar_dots = dot_2d(ppar_normed, [[.6, .03]])\n",
    "\n",
    "fig, axes = plt.subplots(1,2)\n",
    "axes = axes.flatten()\n",
    "\n",
    "axes[0].imshow(ppar_normed)\n",
    "axes[1].imshow(ppar_dots)\n"
   ]
  },
  {
   "cell_type": "code",
   "execution_count": 177,
   "metadata": {},
   "outputs": [],
   "source": [
    "ppar_blob = blob_log(ppar_normed, max_sigma=3, num_sigma=1, threshold=.05)"
   ]
  },
  {
   "cell_type": "code",
   "execution_count": 178,
   "metadata": {},
   "outputs": [
    {
     "data": {
      "text/plain": [
       "(61, 3)"
      ]
     },
     "execution_count": 178,
     "metadata": {},
     "output_type": "execute_result"
    }
   ],
   "source": [
    "ppar_blob.shape"
   ]
  },
  {
   "cell_type": "code",
   "execution_count": 270,
   "metadata": {},
   "outputs": [
    {
     "data": {
      "text/plain": [
       "array([1., 1., 1., 1., 1., 1., 1., 1., 1., 1., 1., 1., 1., 1., 1., 1., 1.,\n",
       "       1., 1., 1., 1., 1., 1., 1., 1., 1., 1., 1., 1., 1., 1., 1., 1., 1.,\n",
       "       1., 1., 1., 1., 1., 1., 1., 1., 1., 1., 1., 1., 1., 1., 1., 1., 1.,\n",
       "       1., 1., 1., 1., 1., 1., 1., 1., 1., 1.])"
      ]
     },
     "execution_count": 270,
     "metadata": {},
     "output_type": "execute_result"
    }
   ],
   "source": [
    "y = ppar_blob[:, 0]\n",
    "x = ppar_blob[:, 1]\n",
    "r = ppar_blob[:, 2]\n",
    "\n",
    "r"
   ]
  },
  {
   "cell_type": "code",
   "execution_count": null,
   "metadata": {},
   "outputs": [],
   "source": []
  },
  {
   "cell_type": "code",
   "execution_count": 283,
   "metadata": {},
   "outputs": [],
   "source": [
    "fig, ax = plt.subplots()\n",
    "#ax = axes.ravel()\n",
    "\n",
    "\n",
    "for idx in [0]:\n",
    "    ax.imshow(exposure.rescale_intensity(ppar_nucleus))\n",
    "    ax.scatter(ringx, ringy, color = 'y', s = .15)\n",
    "    for blob in ppar_blob:\n",
    "        y, x, r = blob\n",
    "        c = plt.Circle((x, y), r, color='r', linewidth=1, fill=False)\n",
    "        ax.add_patch(c)\n",
    "    ax.set_axis_off()"
   ]
  },
  {
   "cell_type": "code",
   "execution_count": 257,
   "metadata": {},
   "outputs": [],
   "source": [
    "blob_erosion = morphology.binary_erosion(mask_blob, morphology.disk(1))\n",
    "cebp_ring = np.subtract(mask_blob, blob_erosion)"
   ]
  },
  {
   "cell_type": "code",
   "execution_count": 259,
   "metadata": {},
   "outputs": [],
   "source": [
    "cebp_ring_ = np.multiply(1, cebp_ring)\n",
    "\n",
    "ax = plt.imshow(ppar_nucleus)\n",
    "ax = plt.scatter(ringx, ringy, color = 'r', marker = ',', s= .15)"
   ]
  },
  {
   "cell_type": "code",
   "execution_count": 281,
   "metadata": {},
   "outputs": [],
   "source": [
    "ringy = np.argwhere(cebp_ring == 1)[:, 0]\n",
    "ringx = np.argwhere(cebp_ring == 1)[:, 1]\n",
    "\n",
    "#ringy = ringy[::2]\n",
    "#ringx = ringx[::2]"
   ]
  },
  {
   "cell_type": "code",
   "execution_count": 236,
   "metadata": {},
   "outputs": [
    {
     "data": {
      "text/plain": [
       "array([ 11,  11,  11, ..., 154, 155, 155], dtype=int64)"
      ]
     },
     "execution_count": 236,
     "metadata": {},
     "output_type": "execute_result"
    }
   ],
   "source": [
    "ringx"
   ]
  },
  {
   "cell_type": "markdown",
   "metadata": {},
   "source": [
    "### just for shits and giggles I will do a quick analysis on this"
   ]
  },
  {
   "cell_type": "code",
   "execution_count": 264,
   "metadata": {},
   "outputs": [],
   "source": [
    "blob_x = np.argwhere(mask_blob == 1)[:, 1]\n",
    "blob_y = np.argwhere(mask_blob == 1)[:, 0]"
   ]
  },
  {
   "cell_type": "code",
   "execution_count": 271,
   "metadata": {},
   "outputs": [],
   "source": [
    "ppar_x = x.copy()\n",
    "ppar_y = y.copy()"
   ]
  },
  {
   "cell_type": "code",
   "execution_count": 277,
   "metadata": {},
   "outputs": [],
   "source": [
    "point_distances = []\n",
    "\n",
    "\n",
    "for x_p, y_p in zip(ppar_x * .065, ppar_y * .065):\n",
    "    min_dist = 1000\n",
    "    for x_c, y_c in zip(blob_x * .065, blob_y * .065):\n",
    "        dist_ = np.sqrt((x_p - x_c) **2 + (y_p - y_c) ** 2)\n",
    "        min_dist = np.min([min_dist, dist_])\n",
    "    point_distances.append(min_dist)"
   ]
  },
  {
   "cell_type": "code",
   "execution_count": 280,
   "metadata": {},
   "outputs": [
    {
     "data": {
      "text/plain": [
       "(array([17., 15., 15.,  7.,  1.,  3.,  1.,  0.,  1.,  1.]),\n",
       " array([0.        , 0.26744953, 0.53489906, 0.80234858, 1.06979811,\n",
       "        1.33724764, 1.60469717, 1.8721467 , 2.13959622, 2.40704575,\n",
       "        2.67449528]),\n",
       " <a list of 10 Patch objects>)"
      ]
     },
     "execution_count": 280,
     "metadata": {},
     "output_type": "execute_result"
    }
   ],
   "source": [
    "plt.hist(point_distances)"
   ]
  },
  {
   "cell_type": "code",
   "execution_count": 269,
   "metadata": {},
   "outputs": [
    {
     "data": {
      "text/plain": [
       "198.0"
      ]
     },
     "execution_count": 269,
     "metadata": {},
     "output_type": "execute_result"
    }
   ],
   "source": [
    "x"
   ]
  },
  {
   "cell_type": "code",
   "execution_count": null,
   "metadata": {},
   "outputs": [],
   "source": []
  }
 ],
 "metadata": {
  "kernelspec": {
   "display_name": "Python 3",
   "language": "python",
   "name": "python3"
  },
  "language_info": {
   "codemirror_mode": {
    "name": "ipython",
    "version": 3
   },
   "file_extension": ".py",
   "mimetype": "text/x-python",
   "name": "python",
   "nbconvert_exporter": "python",
   "pygments_lexer": "ipython3",
   "version": "3.7.6"
  }
 },
 "nbformat": 4,
 "nbformat_minor": 4
}
