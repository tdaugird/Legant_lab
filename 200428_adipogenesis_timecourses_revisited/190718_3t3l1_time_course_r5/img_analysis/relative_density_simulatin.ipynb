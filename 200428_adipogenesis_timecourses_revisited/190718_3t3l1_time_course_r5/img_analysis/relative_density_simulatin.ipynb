{
 "cells": [
  {
   "cell_type": "markdown",
   "metadata": {},
   "source": [
    "This is quick simulation to make sure that using relative density is a reasonible metric to be using"
   ]
  },
  {
   "cell_type": "code",
   "execution_count": 1,
   "metadata": {},
   "outputs": [],
   "source": [
    "import numpy as np\n",
    "from skimage.morphology import binary_dilation, disk\n",
    "import matplotlib.pyplot as plt\n",
    "import pandas as pd\n",
    "import seaborn as sns"
   ]
  },
  {
   "cell_type": "code",
   "execution_count": 3,
   "metadata": {},
   "outputs": [],
   "source": [
    "'''make a masked image that is a single 1 pixel in the middle of 100x100 zeros'''\n",
    "mask = np.zeros([100, 100])\n",
    "mask[49, 49] = 1"
   ]
  },
  {
   "cell_type": "code",
   "execution_count": null,
   "metadata": {},
   "outputs": [],
   "source": []
  },
  {
   "cell_type": "code",
   "execution_count": 73,
   "metadata": {},
   "outputs": [],
   "source": [
    "'''this is simulation if the intensity is uniformly distributed across the nucleus'''\n",
    "\n",
    "areas = [] #running list of the areas. This should serve as a positive ctrl\n",
    "mus = [] #this is the mean 'intensity' in the masked area\n",
    "dilation_numbers = [] # the is the amou\n",
    "relative_densities = []\n",
    "\n",
    "for iter in range(50): #repeat things 50 times \n",
    "    norm_img = np.random.normal(50, 10, (100, 100)) # this is the uniformly distributed image. \n",
    "    mask_running = np.copy(mask) #this is the mask\n",
    "    mu_total = np.mean(norm_img)\n",
    "    for dilation in range(50): #the number of times to dilate the mask\n",
    "        dilation_numbers.append(dilation) #keep track of the number of times that the mask has been dilated\n",
    "        test_img = np.multiply(mask_running, norm_img) #multiply the masked image by the uniformly distributed image\n",
    "        areas.append(np.sum(mask_running)) #keep track of the area\n",
    "        mu_mask = np.mean(test_img[test_img > 0])\n",
    "        mus.append(mu_mask) #get the mean intensity in the masked region\n",
    "        relative_densities.append(mu_mask / mu_total)\n",
    "        mask_running = binary_dilation(mask_running, disk(1)) #dilate the mask by one pixel"
   ]
  },
  {
   "cell_type": "code",
   "execution_count": 76,
   "metadata": {},
   "outputs": [],
   "source": [
    "df = pd.DataFrame({'areas' : areas,\n",
    "                 'mus' : mus,\n",
    "                 'dilation' : dilation_numbers,\n",
    "                  'relative_density' : relative_densities})"
   ]
  },
  {
   "cell_type": "code",
   "execution_count": 77,
   "metadata": {},
   "outputs": [
    {
     "data": {
      "text/plain": [
       "<matplotlib.axes._subplots.AxesSubplot at 0x24bdc0987c8>"
      ]
     },
     "execution_count": 77,
     "metadata": {},
     "output_type": "execute_result"
    },
    {
     "data": {
      "image/png": "[encoded data removed]",
      "text/plain": [
       "<Figure size 432x288 with 1 Axes>"
      ]
     },
     "metadata": {
      "needs_background": "light"
     },
     "output_type": "display_data"
    }
   ],
   "source": [
    "sns.lineplot(df.dilation, df.relative_density)"
   ]
  },
  {
   "cell_type": "code",
   "execution_count": 83,
   "metadata": {},
   "outputs": [],
   "source": [
    "'''this is simulation this is simulation of there being highest intensity around the center of the mask'''\n",
    "\n",
    "areas = [] #running list of the areas. This should serve as a positive ctrl\n",
    "mus = [] #this is the mean 'intensity' in the masked area\n",
    "dilation_numbers = [] # the is the amou\n",
    "\n",
    "relative_densities = []\n",
    "\n",
    "for iter in range(50): #repeat things 50 times \n",
    "    norm_img = np.random.normal(50, 10, (100, 100)) # this is the uniformly distributed image. \n",
    "    bright_spot = np.random.normal(100, 10, (10, 10)) #mask a random bright 10 x 10 square\n",
    "    norm_img[45:55, 45:55] = bright_spot # put the bright square in the middle of \n",
    "    mask_running = np.copy(mask) #this is the mask\n",
    "    mu_total = np.mean(norm_img)\n",
    "    for dilation in range(25): #the number of times to dilate the mask\n",
    "        dilation_numbers.append(dilation) #keep track of the number of times that the mask has been dilated\n",
    "        test_img = np.multiply(mask_running, norm_img) #multiply the masked image by the uniformly distributed image\n",
    "        areas.append(np.sum(mask_running)) #keep track of the area\n",
    "        mu_mask = np.mean(test_img[test_img > 0])\n",
    "        mus.append(mu_mask) #get the mean intensity in the masked region\n",
    "        relative_densities.append(mu_mask / mu_total)\n",
    "        mask_running = binary_dilation(mask_running, disk(1)) #dilate the mask by one pixel"
   ]
  },
  {
   "cell_type": "code",
   "execution_count": 84,
   "metadata": {},
   "outputs": [],
   "source": [
    "df = pd.DataFrame({'areas' : areas,\n",
    "                 'mus' : mus,\n",
    "                 'dilation' : dilation_numbers,\n",
    "                  'relative_density' : relative_densities})"
   ]
  },
  {
   "cell_type": "code",
   "execution_count": 86,
   "metadata": {},
   "outputs": [
    {
     "data": {
      "text/plain": [
       "<matplotlib.axes._subplots.AxesSubplot at 0x24bdc012548>"
      ]
     },
     "execution_count": 86,
     "metadata": {},
     "output_type": "execute_result"
    },
    {
     "data": {
      "image/png": "[encoded data removed]",
      "text/plain": [
       "<Figure size 432x288 with 1 Axes>"
      ]
     },
     "metadata": {
      "needs_background": "light"
     },
     "output_type": "display_data"
    }
   ],
   "source": [
    "sns.lineplot(df.dilation, df.relative_density)"
   ]
  },
  {
   "cell_type": "code",
   "execution_count": 9,
   "metadata": {},
   "outputs": [],
   "source": [
    "'''this is simulation this is simulation of there being highest intensity in area just outside of the mask the center of the mask'''\n",
    "\n",
    "areas = [] #running list of the areas. This should serve as a positive ctrl\n",
    "mus = [] #this is the mean 'intensity' in the masked area\n",
    "dilation_numbers = [] # the is the amou\n",
    "\n",
    "relative_densities = []\n",
    "\n",
    "for iter in range(50): #repeat things 50 times \n",
    "    norm_img = np.random.normal(50, 10, (100, 100)) # this is the uniformly distributed image. \n",
    "    bright_spot = np.random.normal(100, 10, (10, 10))\n",
    "    norm_img[55:65, 45:55] = bright_spot\n",
    "    mask_running = np.copy(mask) #this is the mask\n",
    "    mu_total = np.mean(norm_img)\n",
    "    for dilation in range(40): #the number of times to dilate the mask\n",
    "        dilation_numbers.append(dilation) #keep track of the number of times that the mask has been dilated\n",
    "        test_img = np.multiply(mask_running, norm_img) #multiply the masked image by the uniformly distributed image\n",
    "        areas.append(np.sum(mask_running)) #keep track of the area\n",
    "\n",
    "        mu_mask = np.mean(test_img[test_img > 0])\n",
    "        mus.append(mu_mask) #get the mean intensity in the masked region\n",
    "        relative_densities.append(mu_mask / mu_total)\n",
    "        mask_running = binary_dilation(mask_running, disk(1)) #dilate the mask by one pixel"
   ]
  },
  {
   "cell_type": "code",
   "execution_count": 10,
   "metadata": {},
   "outputs": [],
   "source": [
    "df = pd.DataFrame({'areas' : areas,\n",
    "                 'mus' : mus,\n",
    "                 'dilation' : dilation_numbers,\n",
    "                  'relative_density' : relative_densities})"
   ]
  },
  {
   "cell_type": "code",
   "execution_count": null,
   "metadata": {},
   "outputs": [],
   "source": [
    "sns.lineplot(df.dilation, df.relative_density)"
   ]
  },
  {
   "cell_type": "code",
   "execution_count": 8,
   "metadata": {},
   "outputs": [
    {
     "data": {
      "text/plain": [
       "2000"
      ]
     },
     "execution_count": 8,
     "metadata": {},
     "output_type": "execute_result"
    }
   ],
   "source": []
  },
  {
   "cell_type": "code",
   "execution_count": null,
   "metadata": {},
   "outputs": [],
   "source": [
    "|"
   ]
  }
 ],
 "metadata": {
  "kernelspec": {
   "display_name": "Python 3",
   "language": "python",
   "name": "python3"
  },
  "language_info": {
   "codemirror_mode": {
    "name": "ipython",
    "version": 3
   },
   "file_extension": ".py",
   "mimetype": "text/x-python",
   "name": "python",
   "nbconvert_exporter": "python",
   "pygments_lexer": "ipython3",
   "version": "3.7.6"
  }
 },
 "nbformat": 4,
 "nbformat_minor": 4
}
