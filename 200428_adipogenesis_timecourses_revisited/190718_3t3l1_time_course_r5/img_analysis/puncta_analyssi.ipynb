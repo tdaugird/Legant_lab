{
 "cells": [
  {
   "cell_type": "markdown",
   "metadata": {},
   "source": [
    "this is looking at whether ppar spots are located around the periphery of blobs"
   ]
  },
  {
   "cell_type": "code",
   "execution_count": 1,
   "metadata": {},
   "outputs": [],
   "source": [
    "import os\n",
    "import numpy as np\n",
    "import pandas as pd\n",
    "%matplotlib qt\n",
    "import matplotlib.pyplot as plt\n",
    "import seaborn as sns\n",
    "from skimage import io\n",
    "from skimage import measure, morphology\n",
    "from scipy.ndimage.filters import gaussian_laplace\n",
    "from skimage.filters import gaussian\n",
    "from skimage.morphology import remove_small_objects, binary_closing, ball , dilation, binary_erosion, disk\n",
    "from skimage.filters import threshold_otsu\n",
    "from skimage.transform import rotate\n",
    "from scipy import ndimage as ndi\n",
    "from skimage.exposure import rescale_intensity\n",
    "from skimage.feature import blob_log\n"
   ]
  },
  {
   "cell_type": "markdown",
   "metadata": {},
   "source": [
    "# directories for images etc."
   ]
  },
  {
   "cell_type": "code",
   "execution_count": 2,
   "metadata": {},
   "outputs": [],
   "source": [
    "segm_img_dir = r'Z:\\TAD\\200428_adipogenesis_timecourses_revisited\\190718_3t3l1_time_course_r5\\filtered_segm_imgs' #directory of segmented images\n",
    "cebp_segm_dir = r'Z:\\TAD\\200428_adipogenesis_timecourses_revisited\\190718_3t3l1_time_course_r5\\cebp_segm_imgs2'\n",
    "dapi_segm_dir = r'Z:\\TAD\\200428_adipogenesis_timecourses_revisited\\190718_3t3l1_time_course_r5\\dapi_segm_imgs2'\n",
    "orig_img_dir_base = r'Z:\\TAD\\190718_3t3l1_time_course_r5' #directory that has subdirectories with original images "
   ]
  },
  {
   "cell_type": "markdown",
   "metadata": {},
   "source": [
    "# Main script:\n",
    "## determine the minimum distance of ppar puncta from cebpb hubs"
   ]
  },
  {
   "cell_type": "code",
   "execution_count": 10,
   "metadata": {},
   "outputs": [],
   "source": [
    "'''this is just the global analysis to try and make sure things are generally working the way that I would expect'''\n",
    "\n",
    "'''series of lists to be populated with values in the script'''\n",
    "\n",
    "df_lst = []\n",
    "point_distances_dapi =[]\n",
    "point_distances_cebp = []\n",
    "point_distances_rndm = []\n",
    "\n",
    "\n",
    "os.chdir(cebp_segm_dir)\n",
    "\n",
    "'''pull all of the .tif files out of the directory and put them into a list'''\n",
    "cebp_segm_img_lst = []\n",
    "for filename in os.listdir():\n",
    "    if '.tif' in filename:\n",
    "        cebp_segm_img_lst.append(filename)\n",
    "\n",
    "        \n",
    "filename_base = 'this is for a little later in code to check if files are already read into memory'\n",
    "\n",
    "#########################################################\n",
    "cebp_segm_img_lst = cebp_segm_img_lst[12:20] #this is temporary while working on code\n",
    "################################################\n",
    "\n",
    "time_count = 1\n",
    "index_count = 1\n",
    "for segm_cebp_img_filename in cebp_segm_img_lst:\n",
    "    #print(str(datetime.now()) + '---working on ' + str(time_count) + ' of ' + str(len(cebp_segm_img_lst)))\n",
    "    time_count += 1\n",
    "    \n",
    "    global_dict_temp = {}\n",
    "    os.chdir(cebp_segm_dir)\n",
    "    #global_dict_temp.update({'index_count' : index_count})\n",
    "    index_count += 1\n",
    "    #global_dict_temp.update({'segm_img_name' : segm_cebp_img_filename})\n",
    "    \n",
    "\n",
    "   \n",
    "    \n",
    "    cebp_segm_img = io.imread(segm_cebp_img_filename) #read in cebp single cell segmented image\n",
    "    #cebp_segm_img = binary_erosion(cebp_segm_img, disk(3))\n",
    "    \n",
    "    '''some images have more than 10 images which throws off the naming conventions. This should handle this'''\n",
    "    if len(segm_cebp_img_filename) == 32:\n",
    "        segm_dapi_img_filename = segm_cebp_img_filename[:-19] +'dapi'+segm_cebp_img_filename[-15:]\n",
    "        file_name_test = segm_cebp_img_filename[:-20]\n",
    "        cell_number_ref = segm_cebp_img_filename[-5]\n",
    "    if len(segm_cebp_img_filename) == 33:\n",
    "        segm_dapi_img_filename = segm_cebp_img_filename[:-20] +'dapi'+segm_cebp_img_filename[-16:]\n",
    "        file_name_test = segm_cebp_img_filename[:-21]\n",
    "        cell_number_ref = segm_cebp_img_filename[-6:-4]\n",
    "    \n",
    "    os.chdir(dapi_segm_dir) #switch over to segmented dapi directory and read in segmented dapi image'''\n",
    "    dapi_segm_img = io.imread(segm_dapi_img_filename) #read in the segmented dapi image\n",
    "    \n",
    "    \n",
    "    '''the segmented nuclei image and the fluorescent images may already be in memory, in which case can save time by just leaving them\n",
    "    there and not reading them in over and over'''\n",
    "    if filename_base != file_name_test:\n",
    "        '''read in segmented nuclei and fluorescent images'''\n",
    "        filename_base = file_name_test #change filename_base to appropriate base name\n",
    "        os.chdir(segm_img_dir) #switch over to the segmented nuceli image directory and pull out the individual nuclei'''\n",
    "        nuclei_segm_img = io.imread(filename_base+'segm_parsed.tiff') #pull out the base filename in order to identify other images associated with this mask'''\n",
    "        os.chdir(orig_img_dir_base+'\\\\'+filename_base[:-4]) #switch over to the directory with the original fluoresence images and read in dapi, cebp and ppar images'''\n",
    "        dapi_orig_img = io.imread(filename_base+'c1.tif') #read in original dapi image\n",
    "        ppar_orig_img = io.imread(filename_base+'c3.tif') #read in original ppar image\n",
    "    \n",
    "        cebp_orig_img = io.imread(filename_base+'c4.tif') #read in original cebp image\n",
    "    ##############################################################################################################################\n",
    "    ############################ whole cell analysis######################################################################\n",
    "    #######################################################################################################################\n",
    "    '''pull out the individual nuclei from this image that corresponds to the segmented cebp and dapi images'''\n",
    "    labeled_nuclei_segm_img = measure.label(nuclei_segm_img) #label the objects within the image \n",
    "    nuclei_number = int(cell_number_ref) #find the associated nucleus in the image based on the filename\n",
    "    nucleus_segm_img = np.array(labeled_nuclei_segm_img == nuclei_number).astype('uint16') #pull out the single nuclues\n",
    "    \n",
    "\n",
    "   \n",
    "    \n",
    "    #cebp_segm_img = io.imread(segm_cebp_img_filename) #read in cebp single cell segmented image\n",
    "    #cebp_segm_img = binary_erosion(cebp_segm_img, disk(3))\n",
    "    \n",
    "    '''some images have more than 10 images which throws off the naming conventions. This should handle this'''\n",
    "    if len(segm_cebp_img_filename) == 32:\n",
    "        segm_dapi_img_filename = segm_cebp_img_filename[:-19] +'dapi'+segm_cebp_img_filename[-15:]\n",
    "        file_name_test = segm_cebp_img_filename[:-20]\n",
    "        cell_number_ref = segm_cebp_img_filename[-5]\n",
    "    if len(segm_cebp_img_filename) == 33:\n",
    "        segm_dapi_img_filename = segm_cebp_img_filename[:-20] +'dapi'+segm_cebp_img_filename[-16:]\n",
    "        file_name_test = segm_cebp_img_filename[:-21]\n",
    "        cell_number_ref = segm_cebp_img_filename[-6:-4]\n",
    "    \n",
    "    os.chdir(dapi_segm_dir) #switch over to segmented dapi directory and read in segmented dapi image'''\n",
    "    dapi_segm_img = io.imread(segm_dapi_img_filename) #read in the segmented dapi image\n",
    "    \n",
    "    \n",
    "    '''the segmented nuclei image and the fluorescent images may already be in memory, in which case can save time by just leaving them\n",
    "    there and not reading them in over and over'''\n",
    "    if filename_base != file_name_test:\n",
    "        '''read in segmented nuclei and fluorescent images'''\n",
    "        filename_base = file_name_test #change filename_base to appropriate base name\n",
    "        os.chdir(segm_img_dir) #switch over to the segmented nuceli image directory and pull out the individual nuclei'''\n",
    "        nuclei_segm_img = io.imread(filename_base+'segm_parsed.tiff') #pull out the base filename in order to identify other images associated with this mask'''\n",
    "        os.chdir(orig_img_dir_base+'\\\\'+filename_base[:-4]) #switch over to the directory with the original fluoresence images and read in dapi, cebp and ppar images'''\n",
    "        dapi_orig_img = io.imread(filename_base+'c1.tif') #read in original dapi image\n",
    "        ppar_orig_img = io.imread(filename_base+'c3.tif') #read in original ppar image\n",
    "        cebp_orig_img = io.imread(filename_base+'c4.tif') #read in original cebp image\n",
    "        \n",
    "    ##############################################################################################################################\n",
    "    ############################ whole cell analysis######################################################################\n",
    "    #######################################################################################################################\n",
    "    '''pull out the individual nuclei from this image that corresponds to the segmented cebp and dapi images'''\n",
    "    labeled_nuclei_segm_img = measure.label(nuclei_segm_img) #label the objects within the image \n",
    "    nuclei_number = int(cell_number_ref) #find the associated nucleus in the image based on the filename\n",
    "    nucleus_segm_img = np.array(labeled_nuclei_segm_img == nuclei_number).astype('uint16') #pull out the single nuclues\n",
    "    \n",
    "    \n",
    "    \n",
    "    \n",
    "    '''this iterates ove each of the blobs rotates and translates them to somewhere random in the nuclues'''\n",
    "    \n",
    "    nucleus_erode = binary_erosion(nucleus_segm_img, disk(15)) #reode the segmented nucleus image so won't chooose points too close to the edge a little later on\n",
    "    \n",
    "    labeled_blob_segm_img = measure.label(cebp_segm_img) #label the blobs within the image \n",
    "    \n",
    "    new_blob_img = np.zeros([nucleus_segm_img.shape[0], nucleus_segm_img.shape[1]]).astype('uint16') #set up array of zeros with same shape as original image\n",
    "    \n",
    "    for labeled_blob in np.unique(labeled_blob_segm_img)[1:]: #iterate over the blobs\n",
    "        indy_blob = np.array(labeled_blob_segm_img == labeled_blob).astype('uint8') #choose an individual blob to look at\n",
    "        minr_b, minc_b, maxr_b, maxc_b = measure.regionprops(indy_blob)[0].bbox # find coordinates of a bounding box around the individual blob\n",
    "        angle = int(np.random.randint(0, 360, 1)) #choose a random angle to ratate the blob\n",
    "        indy_blob_rotate = rotate(indy_blob[minr_b:maxr_b, minc_b: maxc_b], angle) # rotate the blob\n",
    "        thresh = threshold_otsu(indy_blob_rotate)\n",
    "        indy_blob_rotate = np.array(indy_blob_rotate > thresh).astype('uint8') # turn rotated blob back into binary ineteger\n",
    "        y_center_blob, x_center_blob = measure.regionprops(indy_blob_rotate)[0].centroid # find the center of the rotated blob\n",
    "        x_center_blob = int(x_center_blob)\n",
    "        y_center_blob = int(y_center_blob)\n",
    "        nucleus_coordinate = np.argwhere(nucleus_erode == 1) # choose random new coordinates within the nucleus\n",
    "        rand_coord_numb = int(np.random.randint(0, len(nucleus_coordinate), 1))\n",
    "        new_y_center, new_x_center = nucleus_coordinate[rand_coord_numb] # record the x and y coordinates of the randomly chosen new center\n",
    "        translate_y = int(new_y_center) - y_center_blob #amount to translate rotated blob\n",
    "        translate_x = int(new_x_center) - x_center_blob #amount to translate rotated blob\n",
    "        orig_rotated_blob_coords = np.argwhere(indy_blob_rotate == 1) # generated list of original coordinates for the rotated blob\n",
    "        ycoords_rotated_orig_pos = orig_rotated_blob_coords[:, 0] #coordinates for the \n",
    "        xcoords_rotated_orig_pos = orig_rotated_blob_coords[:, 1]\n",
    "        ycoords_rotated_new_pos = ycoords_rotated_orig_pos + translate_y\n",
    "        xcoords_rotated_new_pos = xcoords_rotated_orig_pos + translate_x\n",
    "        \n",
    "        for new_y, new_x in zip(ycoords_rotated_new_pos, xcoords_rotated_new_pos):\n",
    "            new_blob_img[new_y, new_x] = 1\n",
    "        new_blob_img = np.multiply(nucleus_segm_img, new_blob_img)\n",
    "\n",
    "#nuclei_number = int(cell_number_ref) #find the associated nucleus in the image based on the filename\n",
    "#nucleus_segm_img = np.array(labeled_nuclei_segm_img == nuclei_number).astype('uint16') #pull out the single nuclues\n",
    "    \n",
    "    \n",
    "    \n",
    "    minr, minc, maxr, maxc = measure.regionprops(nucleus_segm_img)[0].bbox\n",
    "    ppar_normed_img = ppar_orig_img / np.quantile(ppar_orig_img[minr:maxr, minc:maxc], .98)\n",
    "    ppar_dots = blob_log(ppar_normed_img[minr:maxr, minc:maxc], max_sigma=5, num_sigma=3, threshold=.2)\n",
    "    #ppar_dots = blob_log(ppar_nucleus_img, max_sigma=3, num_sigma=1, threshold=.05)\n",
    "    ppar_nucleus_img = np.multiply(ppar_normed_img, nucleus_segm_img)\n",
    "    \n",
    "    blob_erosion = morphology.binary_erosion(cebp_segm_img, morphology.disk(1))\n",
    "    cebp_ring = np.subtract(cebp_segm_img, blob_erosion)\n",
    "    \n",
    "    ringy = np.argwhere(cebp_ring == 1)[:, 0]\n",
    "    ringx = np.argwhere(cebp_ring == 1)[:, 1]\n",
    "    \n",
    "    blob_x_cebp = np.argwhere(cebp_segm_img == 1)[:, 1]\n",
    "    blob_y_cebp = np.argwhere(cebp_segm_img == 1)[:, 0]\n",
    "    \n",
    "    blob_x_dapi = np.argwhere(dapi_segm_img == 1)[:, 1]\n",
    "    blob_y_dapi = np.argwhere(dapi_segm_img == 1)[:, 0]\n",
    "    \n",
    "    blob_x_rndm = np.argwhere(new_blob_img == 1)[:, 1]\n",
    "    blob_y_rndm = np.argwhere(new_blob_img == 1)[:, 0]\n",
    "    \n",
    "    \n",
    "    ppar_x = ppar_dots[:, 1]\n",
    "    ppar_x = ppar_x + minc\n",
    "    ppar_y = ppar_dots[:, 0]\n",
    "    ppar_y = ppar_y + minr\n",
    "    \n",
    "    for x_p, y_p in zip(ppar_x, ppar_y):\n",
    "        min_dist_cebp = 1000\n",
    "        min_dist_dapi = 1000\n",
    "        min_dist_rndm = 1000\n",
    "        for x_c, y_c in zip(blob_x_cebp, blob_y_cebp):\n",
    "            dist_ = np.sqrt((x_p - x_c) **2 + (y_p - y_c) ** 2)\n",
    "            min_dist_cebp = np.min([min_dist_cebp, dist_])\n",
    "        for x_d, y_d in zip(blob_x_dapi, blob_y_dapi):\n",
    "            dist_ = np.sqrt((x_p - x_d) **2 + (y_p - y_d) ** 2)\n",
    "            min_dist_dapi = np.min([min_dist_dapi, dist_])\n",
    "        for x_r, y_r in zip(blob_x_rndm, blob_y_rndm):\n",
    "            dist_ = np.sqrt((x_p - x_r)**2 + (y_p - y_r) ** 2)\n",
    "            min_dist_rndm = np.min([min_dist_rndm, dist_])\n",
    "        point_distances_cebp.append(min_dist_cebp)\n",
    "        point_distances_dapi.append(min_dist_dapi)\n",
    "        point_distances_rndm.append(min_dist_rndm)\n",
    "        \n",
    "    #ppar_blob = blob_log(ppar_nucleus_img, max_sigma=8, num_sigma=5, threshold=.05)   \n",
    "    \n",
    "   #y = ppar_dots[:, 0]\n",
    "   #x = \n",
    "   #\n",
    "   #y = y +minr\n",
    "   #x = x +minc\n",
    "   #\n",
    "   # fig, ax = plt.subplots()\n",
    "   # #ax = axes.ravel()\n",
    "   # for idx in [0]:\n",
    "   #     ax.imshow(ppar_nucleus_img)\n",
    "   #     #ax.imshow(ppar_orig_img)\n",
    "   #     ax.scatter(ringx, ringy, color = 'y', s = .15)\n",
    "   #     for blob in ppar_dots:\n",
    "   #         y, x, r = blob\n",
    "   #         y = y + minr\n",
    "   #         x = x + minc\n",
    "   #         c = plt.Circle((x, y), r, color='r', linewidth=1, fill=False)\n",
    "   #         ax.add_patch(c)\n",
    "   #         ax.set_axis_off()\n",
    "    \n",
    "\n",
    "\n",
    "    \n",
    "    \n",
    "    \n",
    "    "
   ]
  },
  {
   "cell_type": "code",
   "execution_count": 9,
   "metadata": {},
   "outputs": [
    {
     "data": {
      "text/plain": [
       "['stad3-42-xy3_cebp_segm_cell11.tif', 'stad3-42-xy3_cebp_segm_cell12.tif']"
      ]
     },
     "execution_count": 9,
     "metadata": {},
     "output_type": "execute_result"
    }
   ],
   "source": [
    "cebp_segm_img_lst"
   ]
  },
  {
   "cell_type": "markdown",
   "metadata": {},
   "source": [
    "# Make graphs from lists"
   ]
  },
  {
   "cell_type": "code",
   "execution_count": 11,
   "metadata": {},
   "outputs": [],
   "source": [
    "ax = plt.hist(np.array(point_distances_cebp)[np.array(point_distances_cebp) > 0], density = True, cumulative= 1, bins = np.linspace(1, 4, 40))\n",
    "ax = plt.hist(np.array(point_distances_dapi)[np.array(point_distances_dapi) > 0], density = True, cumulative= 1, bins = np.linspace(1, 4, 40), color = 'r')"
   ]
  },
  {
   "cell_type": "code",
   "execution_count": 12,
   "metadata": {},
   "outputs": [],
   "source": [
    "n_c, b_c, p_c = plt.hist(np.array(point_distances_cebp), density = True, cumulative = True, bins = np.linspace(0, 40, 41))\n",
    "n_d, b_d, p_d =  plt.hist(np.array(point_distances_dapi), density = True, cumulative= True, bins = np.linspace(0, 40, 41))\n",
    "n_r, b_r, p_r =  plt.hist(np.array(point_distances_rndm), density = True, cumulative= True, bins = np.linspace(0, 40, 41))"
   ]
  },
  {
   "cell_type": "code",
   "execution_count": 13,
   "metadata": {},
   "outputs": [],
   "source": [
    "plt.style.use('dark_background')"
   ]
  },
  {
   "cell_type": "code",
   "execution_count": 14,
   "metadata": {},
   "outputs": [
    {
     "data": {
      "text/plain": [
       "[<matplotlib.lines.Line2D at 0x2295a671c08>]"
      ]
     },
     "execution_count": 14,
     "metadata": {},
     "output_type": "execute_result"
    }
   ],
   "source": [
    "plt.plot(b_c[:-1], n_c)\n",
    "plt.plot(b_d[:-1], n_d)\n",
    "plt.plot(b_d[:-1], n_r)"
   ]
  },
  {
   "cell_type": "code",
   "execution_count": 21,
   "metadata": {},
   "outputs": [],
   "source": [
    "ax = plt.hist(np.array(point_distances_cebp), density = True, bins = np.linspace(0, 40, 40))\n",
    "ax = plt.hist(np.array(point_distances_rndm), density = True, bins = np.linspace(0, 40, 40), color = 'r')"
   ]
  },
  {
   "cell_type": "markdown",
   "metadata": {},
   "source": [
    "# Make dataframe from lists\n",
    "\n",
    "## 1 = cebp, 2 = dapi, 3 = random"
   ]
  },
  {
   "cell_type": "code",
   "execution_count": 15,
   "metadata": {},
   "outputs": [],
   "source": [
    "''' make a dataframe out of the lists'''\n",
    "running_df_lst = []\n",
    "lst_o_lsts = [point_distances_cebp, point_distances_dapi, point_distances_rndm]\n",
    "\n",
    "count = 0\n",
    "\n",
    "for i in lst_o_lsts:\n",
    "    hubs_lst = np.zeros(len(i))\n",
    "    hubs_lst += count\n",
    "    df_ = pd.DataFrame({'hub' : hubs_lst,\n",
    "                       'dist' : i})\n",
    "    running_df_lst.append(df_)\n",
    "    count+= 1\n",
    "df_whole = pd.concat(running_df_lst)\n"
   ]
  },
  {
   "cell_type": "markdown",
   "metadata": {},
   "source": [
    "# Make graphs from df "
   ]
  },
  {
   "cell_type": "code",
   "execution_count": 16,
   "metadata": {},
   "outputs": [],
   "source": [
    "from scipy import stats"
   ]
  },
  {
   "cell_type": "code",
   "execution_count": 17,
   "metadata": {},
   "outputs": [
    {
     "data": {
      "text/plain": [
       "Ttest_indResult(statistic=-1.492929550120054, pvalue=0.1360965954381619)"
      ]
     },
     "execution_count": 17,
     "metadata": {},
     "output_type": "execute_result"
    }
   ],
   "source": [
    "stats.ttest_ind(point_distances_dapi, point_distances_rndm)"
   ]
  },
  {
   "cell_type": "code",
   "execution_count": 18,
   "metadata": {},
   "outputs": [],
   "source": [
    "\n",
    "df_whole['um'] = df_whole.dist * .065"
   ]
  },
  {
   "cell_type": "code",
   "execution_count": 19,
   "metadata": {},
   "outputs": [],
   "source": [
    "ax = sns.stripplot(df_whole.hub, df_whole.um)\n",
    "ax = sns.pointplot(df_whole.hub, df_whole.um , join = False, color = 'r', ci = 'sd')"
   ]
  },
  {
   "cell_type": "code",
   "execution_count": 20,
   "metadata": {},
   "outputs": [],
   "source": [
    "ax = sns.violinplot(df_whole.hub, df_whole.um)"
   ]
  },
  {
   "cell_type": "code",
   "execution_count": 35,
   "metadata": {},
   "outputs": [],
   "source": [
    "df_ = df_whole.loc[df_whole.dist <= np.quantile(df_whole.dist, .98)]\n",
    "ax = sns.violinplot(df_.hub, df_.um)"
   ]
  },
  {
   "cell_type": "code",
   "execution_count": 29,
   "metadata": {},
   "outputs": [
    {
     "data": {
      "text/plain": [
       "Ttest_indResult(statistic=-21.289723386696497, pvalue=8.764928998969672e-94)"
      ]
     },
     "execution_count": 29,
     "metadata": {},
     "output_type": "execute_result"
    }
   ],
   "source": [
    "point_distances = np.array(point_distances)\n",
    "point_distances_dapi = np.array(point_distances_dapi)\n",
    "\n",
    "point_distances_ = point_distances[point_distances > 0]\n",
    "point_distances_dapi_ = point_distances_dapi[point_distances_dapi > 0]\n",
    "\n",
    "stats.ttest_ind(point_distances_, point_distances_dapi_)"
   ]
  },
  {
   "cell_type": "code",
   "execution_count": 21,
   "metadata": {},
   "outputs": [],
   "source": [
    "os.chdir(r'Y:\\TAD\\200904_aggregate_puncta_analysis\\ppar')"
   ]
  },
  {
   "cell_type": "code",
   "execution_count": 22,
   "metadata": {},
   "outputs": [],
   "source": [
    "df_whole.to_csv('pppar_puncta_dists.csv')"
   ]
  },
  {
   "cell_type": "code",
   "execution_count": 30,
   "metadata": {},
   "outputs": [],
   "source": [
    "binner = np.arange(0, 6, .1)\n",
    "\n",
    "ax = sns.kdeplot(df_whole.loc[df_whole.hub == 0].um, label = 'CEBPb aggregate')\n",
    "ax = sns.kdeplot(df_whole.loc[df_whole.hub == 1].um, label = 'heterochromatin')\n",
    "ax = sns.kdeplot(df_whole.loc[df_whole.hub == 2].um, label = 'random mask')\n",
    "\n"
   ]
  },
  {
   "cell_type": "code",
   "execution_count": 32,
   "metadata": {},
   "outputs": [],
   "source": [
    "df_ = df_whole.loc[df_whole.um < np.quantile(df_whole.um, .95)]\n",
    "\n",
    "ax = sns.violinplot(df_.hub, df_.um)"
   ]
  },
  {
   "cell_type": "markdown",
   "metadata": {},
   "source": [
    "# working on ripley's functions"
   ]
  },
  {
   "cell_type": "code",
   "execution_count": 16,
   "metadata": {},
   "outputs": [
    {
     "data": {
      "text/plain": [
       "4.4661196804384895"
      ]
     },
     "execution_count": 16,
     "metadata": {},
     "output_type": "execute_result"
    }
   ],
   "source": [
    "np.max(df_whole.um) # maximum distance to take graph out to"
   ]
  },
  {
   "cell_type": "code",
   "execution_count": 18,
   "metadata": {},
   "outputs": [
    {
     "data": {
      "text/plain": [
       "85.0"
      ]
     },
     "execution_count": 18,
     "metadata": {},
     "output_type": "execute_result"
    }
   ],
   "source": [
    "len(df_whole) / 3 # number of PPARg puncta"
   ]
  },
  {
   "cell_type": "code",
   "execution_count": 20,
   "metadata": {},
   "outputs": [
    {
     "data": {
      "text/plain": [
       "(array([0.27058824, 0.54901961, 0.72941176, 0.81960784, 0.88627451,\n",
       "        0.92941176, 0.95686275, 0.98431373, 0.99607843, 1.        ]),\n",
       " array([0.        , 0.44661197, 0.89322394, 1.3398359 , 1.78644787,\n",
       "        2.23305984, 2.67967181, 3.12628378, 3.57289574, 4.01950771,\n",
       "        4.46611968]),\n",
       " <a list of 10 Patch objects>)"
      ]
     },
     "execution_count": 20,
     "metadata": {},
     "output_type": "execute_result"
    }
   ],
   "source": [
    "plt.hist(df_whole.um, density= True, cumulative= 1)"
   ]
  },
  {
   "cell_type": "markdown",
   "metadata": {},
   "source": [
    "# Random stuff that I wrote along the way"
   ]
  },
  {
   "cell_type": "code",
   "execution_count": 14,
   "metadata": {},
   "outputs": [
    {
     "ename": "SyntaxError",
     "evalue": "invalid syntax (<ipython-input-14-13c61b48c6b7>, line 4)",
     "output_type": "error",
     "traceback": [
      "\u001b[1;36m  File \u001b[1;32m\"<ipython-input-14-13c61b48c6b7>\"\u001b[1;36m, line \u001b[1;32m4\u001b[0m\n\u001b[1;33m    axes[0].imshow([minr:maxr, minc:maxc])\u001b[0m\n\u001b[1;37m                        ^\u001b[0m\n\u001b[1;31mSyntaxError\u001b[0m\u001b[1;31m:\u001b[0m invalid syntax\n"
     ]
    }
   ],
   "source": [
    "fig, axes = plt.subplots(2,4)\n",
    "axes = axes.flatten()\n",
    "\n",
    "axes[0].imshow([minr:maxr, minc:maxc])\n",
    "axes[1].imshow(nucleus_segm_img[minr:maxr, minc:maxc])"
   ]
  },
  {
   "cell_type": "code",
   "execution_count": 55,
   "metadata": {},
   "outputs": [],
   "source": [
    "'''this makes an image of the perimeter of nucleus mask. this is over kill as I could have just done a dilation and erosion then \n",
    "did argwhere'''\n",
    "ppar_dots = blob_log(ppar_normed_img[minr:maxr, minc:maxc], max_sigma=5, num_sigma=3, threshold=.2)  \n",
    "    \n",
    "y = ppar_dots[:, 0]\n",
    "x = ppar_dots[:, 1]\n",
    "\n",
    "y = y +minr\n",
    "x = x +minc\n",
    "\n",
    "fig, ax = plt.subplots()\n",
    "#ax = axes.ravel()\n",
    "for idx in [0]:\n",
    "    ax.imshow(ppar_nucleus_img)\n",
    "    #ax.imshow(ppar_orig_img)\n",
    "    ax.scatter(ringx, ringy, color = 'y', s = .5)\n",
    "    for blob in ppar_dots:\n",
    "        y, x, r = blob\n",
    "        y = y + minr\n",
    "        x = x + minc\n",
    "        c = plt.Circle((x, y), 2, color='r', linewidth=1, fill=False)\n",
    "        ax.add_patch(c)\n",
    "        ax.set_axis_off()"
   ]
  },
  {
   "cell_type": "code",
   "execution_count": 57,
   "metadata": {},
   "outputs": [
    {
     "data": {
      "text/plain": [
       "<matplotlib.image.AxesImage at 0x193da37d808>"
      ]
     },
     "execution_count": 57,
     "metadata": {},
     "output_type": "execute_result"
    }
   ],
   "source": [
    "fig, axes = plt.subplots()\n",
    "\n",
    "axes.imshow(ppar_nucleus_img)"
   ]
  },
  {
   "cell_type": "code",
   "execution_count": 104,
   "metadata": {},
   "outputs": [
    {
     "data": {
      "text/plain": [
       "<matplotlib.image.AxesImage at 0x226c6d57948>"
      ]
     },
     "execution_count": 104,
     "metadata": {},
     "output_type": "execute_result"
    }
   ],
   "source": [
    "fig, axes = plt.subplots(2,2)\n",
    "axes = axes.flatten()\n",
    "\n",
    "axes[0].imshow(perim_img1[minr:maxr, minc:maxc])\n",
    "axes[1].imshow(perim_img2[minr:maxr, minc:maxc])\n",
    "axes[2].imshow(perim_img3[minr:maxr, minc:maxc])\n",
    "axes[3].imshow(perim_img4[minr:maxr, minc:maxc])"
   ]
  },
  {
   "cell_type": "code",
   "execution_count": 67,
   "metadata": {},
   "outputs": [],
   "source": [
    "fig, axes = plt.subplots(2,3)\n",
    "\n",
    "axes = axes.flatten()\n",
    "\n",
    "\n",
    "axes[1].imshow(cebp_orig_img[minr:maxr, minc:maxc])\n",
    "axes[0].imshow(dapi_orig_img[minr:maxr, minc:maxc])\n",
    "axes[2].imshow(ppar_orig_img[minr:maxr, minc:maxc])\n",
    "axes[4].imshow(cebp_segm_img[minr:maxr, minc:maxc])\n",
    "axes[3].imshow(dapi_segm_img[minr:maxr, minc:maxc])\n",
    "axes[5].imshow(new_blob_img[minr:maxr, minc:maxc])\n",
    "plt.setp(plt.gcf().get_axes(), xticks=[], yticks=[]);"
   ]
  },
  {
   "cell_type": "code",
   "execution_count": 47,
   "metadata": {},
   "outputs": [],
   "source": [
    "ppar_blob = blob_log(ppar_nucleus_img, max_sigma=8, num_sigma=5, threshold=.05)   \n",
    "\n",
    "y = ppar_dots[:, 0]\n",
    "x = ppar_dots[:, 1]\n",
    "\n",
    "y = y +minr\n",
    "x = x +minc\n",
    "#\n",
    "fig, ax = plt.subplots()\n",
    " #ax = axes.ravel()\n",
    "for idx in [0]:\n",
    "    ax.imshow(ppar_nucleus_img)\n",
    "     #ax.imshow(ppar_orig_img)\n",
    "    ax.scatter(ringx, ringy, color = 'y', s = .15)\n",
    "    for blob in ppar_dots:\n",
    "        y, x, r = blob\n",
    "        y = y + minr\n",
    "        x = x + minc\n",
    "        c = plt.Circle((x, y), 2, color='r', linewidth=2, fill=False)\n",
    "        ax.add_patch(c)\n",
    "        ax.set_axis_off()\n",
    " "
   ]
  },
  {
   "cell_type": "code",
   "execution_count": 120,
   "metadata": {},
   "outputs": [
    {
     "data": {
      "text/plain": [
       "array([[1236, 1386],\n",
       "       [1236, 1387],\n",
       "       [1236, 1388],\n",
       "       ...,\n",
       "       [1453, 1324],\n",
       "       [1454, 1311],\n",
       "       [1454, 1312]], dtype=int64)"
      ]
     },
     "execution_count": 120,
     "metadata": {},
     "output_type": "execute_result"
    }
   ],
   "source": [
    "from skimage.morphology import binary_erosion, disk\n",
    "\n",
    "binary_img_erode = binary_erosion(binary_img, disk(1))\n",
    "binary_img_perim = binary_img - binary_img_erode\n",
    "\n",
    "np.argwhere(binary_img_perim == 1)"
   ]
  },
  {
   "cell_type": "code",
   "execution_count": 130,
   "metadata": {},
   "outputs": [],
   "source": [
    "def one_or_zero(percint_one = .15, 1):\n",
    "    rand_ = float(np.random.random_sample(1))\n",
    "    if rand_ < percint_one:\n",
    "        return(1)\n",
    "    else:\n",
    "        return(0)"
   ]
  },
  {
   "cell_type": "code",
   "execution_count": 135,
   "metadata": {},
   "outputs": [],
   "source": [
    "rand_img = np.zeros([nucleus_segm_img.shape[0], nucleus_segm_img.shape[1]]).astype('uint16')\n",
    "\n",
    "portion_blob = np.sum(cebp_segm_img) / np.sum(nucleus_segm_img)\n",
    "\n",
    "for yer in range(minr -1,maxr +1):\n",
    "    for xer in range(minc - 1, maxc  + 1):\n",
    "        rand_img[yer, xer] = one_or_zero(portion_blob)\n",
    "rand_img = np.multiply(rand_img, nucleus_segm_img)"
   ]
  },
  {
   "cell_type": "code",
   "execution_count": 158,
   "metadata": {},
   "outputs": [],
   "source": [
    "prob1_lst = []\n",
    "prob0_lst = []\n",
    "\n",
    "for yer, xer in np.argwhere(nucleus_segm_img == 1):\n",
    "    ybefore = cebp_segm_img[yer -1, xer]\n",
    "    yafter = cebp_segm_img[yer +1, xer]\n",
    "    xbefore =cebp_segm_img[yer, xer -1]\n",
    "    xafter = cebp_segm_img[yer, xer + 1]\n",
    "    mean_around = (ybefore+yafter+xbefore+xafter) / 4\n",
    "    if cebp_segm_img[yer, xer] ==1:\n",
    "        prob1_lst.append(mean_around)\n",
    "    else:\n",
    "        prob0_lst.append(mean_around)\n",
    "\n",
    "            \n",
    "prob1_blob = np.sum(prob1_lst) / len(prob1_lst)\n",
    "prob0_blob = np.sum(prob0_lst) / len(prob0_lst)\n",
    "\n",
    "\n",
    "rndm_blob_img = np.copy(cebp_segm_img)\n",
    "\n",
    "for index in range(100):\n",
    "    for yer, xer in np.argwhere(nucleus_segm_img == 1):\n",
    "        new_x = xer.copy()\n",
    "        new_y = yer.copy()\n",
    "        rand = float(np.random.random_sample(1))\n",
    "        if rand <= .25:\n",
    "            new_x += 1\n",
    "        if rand > .25 and rand <= .5:\n",
    "            new_x -= 1\n",
    "        if rand > .5 and rand <= .75:\n",
    "            new_y += 1\n",
    "        else:\n",
    "            new_y -= 1   \n",
    "        if rndm_blob_img[yer,xer] == 1:\n",
    "            rndm_blob_img[new_y, new_x] = one_or_zero(prob1_blob)\n",
    "        else:\n",
    "            rndm_blob_img[new_y, new_x] = one_or_zero(prob0_blob)\n",
    "        \n"
   ]
  },
  {
   "cell_type": "code",
   "execution_count": 156,
   "metadata": {},
   "outputs": [
    {
     "data": {
      "text/plain": [
       "0.012246405637324544"
      ]
     },
     "execution_count": 156,
     "metadata": {},
     "output_type": "execute_result"
    }
   ],
   "source": [
    "prob0_blob"
   ]
  },
  {
   "cell_type": "code",
   "execution_count": 159,
   "metadata": {},
   "outputs": [
    {
     "data": {
      "text/plain": [
       "<matplotlib.image.AxesImage at 0x22681a8cd88>"
      ]
     },
     "execution_count": 159,
     "metadata": {},
     "output_type": "execute_result"
    }
   ],
   "source": [
    "fig, axes = plt.subplots(1, 3)\n",
    "axes = axes.flatten()\n",
    "\n",
    "axes[0].imshow(nucleus_segm_img[minr:maxr, minc:maxc])\n",
    "axes[1].imshow(cebp_segm_img[minr:maxr, minc:maxc])\n",
    "axes[2].imshow(rndm_blob_img[minr:maxr, minc:maxc])"
   ]
  },
  {
   "cell_type": "code",
   "execution_count": 14,
   "metadata": {},
   "outputs": [
    {
     "ename": "IndexError",
     "evalue": "index 2044 is out of bounds for axis 1 with size 2044",
     "output_type": "error",
     "traceback": [
      "\u001b[1;31m---------------------------------------------------------------------------\u001b[0m",
      "\u001b[1;31mIndexError\u001b[0m                                Traceback (most recent call last)",
      "\u001b[1;32m<ipython-input-14-faff1d9f50a7>\u001b[0m in \u001b[0;36m<module>\u001b[1;34m\u001b[0m\n\u001b[0;32m     31\u001b[0m \u001b[1;33m\u001b[0m\u001b[0m\n\u001b[0;32m     32\u001b[0m     \u001b[1;32mfor\u001b[0m \u001b[0mnew_y\u001b[0m\u001b[1;33m,\u001b[0m \u001b[0mnew_x\u001b[0m \u001b[1;32min\u001b[0m \u001b[0mzip\u001b[0m\u001b[1;33m(\u001b[0m\u001b[0mycoords_rotated_new_pos\u001b[0m\u001b[1;33m,\u001b[0m \u001b[0mxcoords_rotated_new_pos\u001b[0m\u001b[1;33m)\u001b[0m\u001b[1;33m:\u001b[0m\u001b[1;33m\u001b[0m\u001b[1;33m\u001b[0m\u001b[0m\n\u001b[1;32m---> 33\u001b[1;33m         \u001b[0mnew_blob_img\u001b[0m\u001b[1;33m[\u001b[0m\u001b[0mnew_y\u001b[0m\u001b[1;33m,\u001b[0m \u001b[0mnew_x\u001b[0m\u001b[1;33m]\u001b[0m \u001b[1;33m=\u001b[0m \u001b[1;36m1\u001b[0m\u001b[1;33m\u001b[0m\u001b[1;33m\u001b[0m\u001b[0m\n\u001b[0m\u001b[0;32m     34\u001b[0m     \u001b[0mnew_blob_img\u001b[0m \u001b[1;33m=\u001b[0m \u001b[0mnp\u001b[0m\u001b[1;33m.\u001b[0m\u001b[0mmultiply\u001b[0m\u001b[1;33m(\u001b[0m\u001b[0mnucleus_segm_img\u001b[0m\u001b[1;33m,\u001b[0m \u001b[0mnew_blob_img\u001b[0m\u001b[1;33m)\u001b[0m\u001b[1;33m\u001b[0m\u001b[1;33m\u001b[0m\u001b[0m\n\u001b[0;32m     35\u001b[0m \u001b[1;33m\u001b[0m\u001b[0m\n",
      "\u001b[1;31mIndexError\u001b[0m: index 2044 is out of bounds for axis 1 with size 2044"
     ]
    }
   ],
   "source": [
    "'''this iterates ove each of the blobs rotates and translates them to somewhere random in the nuclues'''\n",
    "\n",
    "from skimage.transform import rotate\n",
    "\n",
    "nucleus_erode = binary_erosion(nucleus_segm_img, disk(15)) #reode the segmented nucleus image so won't chooose points too close to the edge a little later on\n",
    "\n",
    "labeled_blob_segm_img = measure.label(cebp_segm_img) #label the blobs within the image \n",
    "\n",
    "new_blob_img = np.zeros([nucleus_segm_img.shape[0], nucleus_segm_img.shape[1]]).astype('uint16') #set up array of zeros with same shape as original image\n",
    "\n",
    "for labeled_blob in np.unique(labeled_blob_segm_img)[1:]: #iterate over the blobs\n",
    "    indy_blob = np.array(labeled_blob_segm_img == labeled_blob).astype('uint8') #choose an individual blob to look at\n",
    "    minr_b, minc_b, maxr_b, maxc_b = measure.regionprops(indy_blob)[0].bbox # find coordinates of a bounding box around the individual blob\n",
    "    angle = int(np.random.randint(0, 360, 1)) #choose a random angle to ratate the blob\n",
    "    indy_blob_rotate = rotate(indy_blob[minr_b:maxr_b, minc_b: maxc_b], angle) # rotate the blob\n",
    "    thresh = threshold_otsu(indy_blob_rotate)\n",
    "    indy_blob_rotate = np.array(indy_blob_rotate > thresh).astype('uint8') # turn rotated blob back into binary ineteger\n",
    "    y_center_blob, x_center_blob = measure.regionprops(indy_blob_rotate)[0].centroid # find the center of the rotated blob\n",
    "    x_center_blob = int(x_center_blob)\n",
    "    y_center_blob = int(y_center_blob)\n",
    "    nucleus_coordinate = np.argwhere(nucleus_erode == 1) # choose random new coordinates within the nucleus\n",
    "    rand_coord_numb = int(np.random.randint(0, len(nucleus_coordinate), 1))\n",
    "    new_y_center, new_x_center = nucleus_coordinate[rand_coord_numb] # record the x and y coordinates of the randomly chosen new center\n",
    "    translate_y = int(new_y_center) - y_center_blob #amount to translate rotated blob\n",
    "    translate_x = int(new_x_center) - x_center_blob #amount to translate rotated blob\n",
    "    orig_rotated_blob_coords = np.argwhere(indy_blob_rotate == 1) # generated list of original coordinates for the rotated blob\n",
    "    ycoords_rotated_orig_pos = orig_rotated_blob_coords[:, 0] #coordinates for the \n",
    "    xcoords_rotated_orig_pos = orig_rotated_blob_coords[:, 1]\n",
    "    ycoords_rotated_new_pos = ycoords_rotated_orig_pos + translate_y\n",
    "    xcoords_rotated_new_pos = xcoords_rotated_orig_pos + translate_x\n",
    "    \n",
    "    for new_y, new_x in zip(ycoords_rotated_new_pos, xcoords_rotated_new_pos):\n",
    "        new_blob_img[new_y, new_x] = 1\n",
    "    new_blob_img = np.multiply(nucleus_segm_img, new_blob_img)\n",
    "\n",
    "#nuclei_number = int(cell_number_ref) #find the associated nucleus in the image based on the filename\n",
    "#nucleus_segm_img = np.array(labeled_nuclei_segm_img == nuclei_number).astype('uint16') #pull out the single nuclues"
   ]
  },
  {
   "cell_type": "code",
   "execution_count": 15,
   "metadata": {},
   "outputs": [
    {
     "data": {
      "text/plain": [
       "<matplotlib.image.AxesImage at 0x193d9e05588>"
      ]
     },
     "execution_count": 15,
     "metadata": {},
     "output_type": "execute_result"
    }
   ],
   "source": [
    "fig, axes = plt.subplots(1,3)\n",
    "axes = axes.flatten()\n",
    "\n",
    "axes[0].imshow(nucleus_segm_img[minr:maxr, minc:maxc])\n",
    "axes[1].imshow(cebp_segm_img[minr:maxr, minc:maxc])\n",
    "axes[2].imshow(new_blob_img[minr:maxr, minc:maxc])"
   ]
  },
  {
   "cell_type": "code",
   "execution_count": 227,
   "metadata": {},
   "outputs": [
    {
     "data": {
      "text/plain": [
       "<matplotlib.image.AxesImage at 0x22693325e08>"
      ]
     },
     "execution_count": 227,
     "metadata": {},
     "output_type": "execute_result"
    }
   ],
   "source": [
    "fig, axes = plt.subplots(1,2)\n",
    "axes = axes.flatten()\n",
    "\n",
    "axes[0].imshow(nucleus_segm_img[minr:maxr, minc:maxc])\n",
    "axes[1].imshow(nucleus_erode[minr:maxr, minc:maxc])\n",
    "#plt.imshow(indy_blob_rotate)\n"
   ]
  },
  {
   "cell_type": "code",
   "execution_count": 188,
   "metadata": {},
   "outputs": [],
   "source": [
    "\n",
    "jnk = rotate(indy_blob[minr_b:maxr_b, minc_b: maxc_b], angle)\n",
    "thresh = threshold_otsu(jnk)\n",
    "jnk = jnk > thresh"
   ]
  },
  {
   "cell_type": "code",
   "execution_count": 189,
   "metadata": {},
   "outputs": [
    {
     "data": {
      "text/plain": [
       "<matplotlib.image.AxesImage at 0x226a2c093c8>"
      ]
     },
     "execution_count": 189,
     "metadata": {},
     "output_type": "execute_result"
    }
   ],
   "source": [
    "fig, axes = plt.subplots(1,2)\n",
    "axes = axes.flatten()\n",
    "\n",
    "axes[0].imshow(indy_blob[minr_b: maxr_b, minc_b: maxc_b])\n",
    "axes[1].imshow(jnk)"
   ]
  },
  {
   "cell_type": "code",
   "execution_count": 176,
   "metadata": {},
   "outputs": [
    {
     "data": {
      "text/plain": [
       "array([0.00000000e+00, 2.97958641e-05, 6.71230996e-05, 7.55971266e-05,\n",
       "       1.95598333e-04, 2.23986589e-04, 2.23986589e-04, 3.43163560e-04,\n",
       "       3.43163560e-04, 3.44540842e-04, 4.71890364e-04, 4.81401613e-04,\n",
       "       5.97406956e-04, 6.18262385e-04, 6.25429126e-04, 6.58429777e-04,\n",
       "       7.31299742e-04, 8.06422993e-04, 8.44616341e-04, 9.01600491e-04,\n",
       "       3.06883858e-03, 3.06883858e-03, 3.20561144e-03, 3.22832481e-03,\n",
       "       3.22832481e-03, 3.31286190e-03, 3.32229308e-03, 3.37826121e-03,\n",
       "       3.44964822e-03, 3.44972267e-03, 3.45211158e-03, 3.51218077e-03,\n",
       "       3.58897235e-03, 3.60113981e-03, 3.65412910e-03, 3.66337502e-03,\n",
       "       3.72105530e-03, 3.72583312e-03, 3.79534939e-03, 3.80023579e-03,\n",
       "       3.85791607e-03, 3.89750646e-03, 3.91513576e-03, 3.92156863e-03])"
      ]
     },
     "execution_count": 176,
     "metadata": {},
     "output_type": "execute_result"
    }
   ],
   "source": [
    "np.unique(jnk)"
   ]
  },
  {
   "cell_type": "code",
   "execution_count": 73,
   "metadata": {},
   "outputs": [
    {
     "data": {
      "text/plain": [
       "0.09849125233740619"
      ]
     },
     "execution_count": 73,
     "metadata": {},
     "output_type": "execute_result"
    }
   ],
   "source": [
    "cebp_sing_cell = np.multiply(cebp_segm_img, nucleus_segm_img)\n",
    "\n",
    "np.sum(cebp_sing_cell) / np.sum(nucleus_segm_img)"
   ]
  },
  {
   "cell_type": "code",
   "execution_count": 74,
   "metadata": {},
   "outputs": [
    {
     "data": {
      "text/plain": [
       "0.07758907758907758"
      ]
     },
     "execution_count": 74,
     "metadata": {},
     "output_type": "execute_result"
    }
   ],
   "source": [
    "np.sum(new_blob_img) / np.sum(nucleus_segm_img)"
   ]
  },
  {
   "cell_type": "code",
   "execution_count": 75,
   "metadata": {},
   "outputs": [],
   "source": [
    "new_blob_img_erode = binary_erosion(new_blob_img, disk(1))\n",
    "\n",
    "new_blob_ring = new_blob_img - new_blob_img_erode\n",
    "\n",
    "cebp_sing_cell_erode = binary_erosion(cebp_sing_cell, disk(1))\n",
    "\n",
    "cebp_sing_cell_ring = cebp_sing_cell - cebp_sing_cell_erode"
   ]
  },
  {
   "cell_type": "code",
   "execution_count": 76,
   "metadata": {},
   "outputs": [
    {
     "data": {
      "text/plain": [
       "1160"
      ]
     },
     "execution_count": 76,
     "metadata": {},
     "output_type": "execute_result"
    }
   ],
   "source": [
    "np.sum(cebp_sing_cell_ring)"
   ]
  },
  {
   "cell_type": "code",
   "execution_count": 77,
   "metadata": {},
   "outputs": [
    {
     "data": {
      "text/plain": [
       "892"
      ]
     },
     "execution_count": 77,
     "metadata": {},
     "output_type": "execute_result"
    }
   ],
   "source": [
    "np.sum(new_blob_ring)"
   ]
  },
  {
   "cell_type": "code",
   "execution_count": 138,
   "metadata": {},
   "outputs": [
    {
     "data": {
      "text/plain": [
       "23"
      ]
     },
     "execution_count": 138,
     "metadata": {},
     "output_type": "execute_result"
    }
   ],
   "source": [
    "np.max(measure.label(cebp_segm_img)) "
   ]
  },
  {
   "cell_type": "code",
   "execution_count": 37,
   "metadata": {},
   "outputs": [],
   "source": [
    "from scipy.spatial import ConvexHull, convex_hull_plot_2d\n",
    "points = np.argwhere(nucleus_segm_img == 1)\n",
    "hull = ConvexHull(points)"
   ]
  },
  {
   "cell_type": "code",
   "execution_count": 44,
   "metadata": {},
   "outputs": [],
   "source": [
    "for simplex in hull.simplices:\n",
    "    plt.scatter(points[simplex, 0], points[simplex, 1])"
   ]
  },
  {
   "cell_type": "code",
   "execution_count": 43,
   "metadata": {},
   "outputs": [
    {
     "data": {
      "text/plain": [
       "array([[   17,     0],\n",
       "       [  308,   231],\n",
       "       [ 9863, 13598],\n",
       "       [16612, 23197],\n",
       "       [25301, 23197],\n",
       "       [ 2504,   566],\n",
       "       [ 8409,  5857],\n",
       "       [   54,    17],\n",
       "       [  865,  1429],\n",
       "       [  865,   308],\n",
       "       [ 7205,  6045],\n",
       "       [ 7205,  9863],\n",
       "       [ 2214,  1429],\n",
       "       [ 2214,  2503],\n",
       "       [ 4592,  6045],\n",
       "       [39036, 39014],\n",
       "       [38980, 38775],\n",
       "       [38980, 39014],\n",
       "       [32773, 30999],\n",
       "       [35549, 34405],\n",
       "       [15211, 13598],\n",
       "       [15211, 16612],\n",
       "       [27349, 30999],\n",
       "       [27349, 25301],\n",
       "       [   18,     0],\n",
       "       [   18,    55],\n",
       "       [  162,   566],\n",
       "       [  162,    55],\n",
       "       [ 2802,  5857],\n",
       "       [ 2802,  2504],\n",
       "       [20841, 22490],\n",
       "       [20841, 18020],\n",
       "       [15444, 13599],\n",
       "       [15444, 18020],\n",
       "       [10935, 13599],\n",
       "       [39015, 39037],\n",
       "       [39015, 38981],\n",
       "       [38938, 38889],\n",
       "       [38938, 38981],\n",
       "       [37445, 36830],\n",
       "       [37445, 37670],\n",
       "       [38498, 38889],\n",
       "       [38498, 37670],\n",
       "       [24371, 26447],\n",
       "       [27574, 26447],\n",
       "       [34577, 36830],\n",
       "       [34577, 33879],\n",
       "       [31804, 31000],\n",
       "       [  161,   231],\n",
       "       [  161,    54],\n",
       "       [ 3912,  2503],\n",
       "       [ 3912,  4592],\n",
       "       [39038, 39037],\n",
       "       [39038, 39036],\n",
       "       [33150, 34405],\n",
       "       [33150, 32773],\n",
       "       [38711, 38775],\n",
       "       [38711, 35549],\n",
       "       [ 9864,  8409],\n",
       "       [ 9864, 10935],\n",
       "       [23198, 22490],\n",
       "       [23198, 24371],\n",
       "       [29750, 31000],\n",
       "       [29750, 27574],\n",
       "       [32963, 33879],\n",
       "       [32963, 31804]], dtype=int32)"
      ]
     },
     "execution_count": 43,
     "metadata": {},
     "output_type": "execute_result"
    }
   ],
   "source": [
    "hull.simplices"
   ]
  },
  {
   "cell_type": "code",
   "execution_count": 4,
   "metadata": {},
   "outputs": [],
   "source": [
    "'''this makes an image of the perimeter of nucleus mask. this is over kill as I could have just done a dilation and erosion then \n",
    "did argwhere'''\n",
    "ppar_dots = blob_log(ppar_normed_img[minr:maxr, minc:maxc], max_sigma=5, num_sigma=3, threshold=.2)  \n",
    "    \n",
    "y = ppar_dots[:, 0]\n",
    "x = ppar_dots[:, 1]\n",
    "\n",
    "y = y +minr\n",
    "x = x +minc\n",
    "\n",
    "fig, ax = plt.subplots()\n",
    "#ax = axes.ravel()\n",
    "for idx in [0]:\n",
    "    ax.imshow(ppar_nucleus_img)\n",
    "    #ax.imshow(ppar_orig_img)\n",
    "    ax.scatter(ringx, ringy, color = 'y', s = .5)\n",
    "    for blob in ppar_dots:\n",
    "        y, x, r = blob\n",
    "        y = y + minr\n",
    "        x = x + minc\n",
    "        c = plt.Circle((x, y), 2, color='r', linewidth=1, fill=False)\n",
    "        ax.add_patch(c)\n",
    "        ax.set_axis_off()"
   ]
  },
  {
   "cell_type": "code",
   "execution_count": 5,
   "metadata": {},
   "outputs": [],
   "source": [
    "ppar_testing = ppar_orig_img[minr:maxr, minc:maxc]"
   ]
  },
  {
   "cell_type": "code",
   "execution_count": 32,
   "metadata": {},
   "outputs": [],
   "source": [
    "\n",
    "\n",
    "def ab_dot_detecter(dotty_img, log_sigma_max = 20, log_sigma_num = 5, log_thresh = .01, norm_p = 1):\n",
    "    normed_img = dotty_img /  np.quantile(dotty_img, norm_p)\n",
    "    dots = blob_log(normed_img, max_sigma= log_sigma_max, num_sigma= log_sigma_num, threshold= log_thresh)\n",
    "    \n",
    "    dots_y_coord = dots[:, 0]\n",
    "    dots_x_coord = dots[:, 1]\n",
    "    \n",
    "    return(dots_y_coord, dots_x_coord)"
   ]
  },
  {
   "cell_type": "code",
   "execution_count": 33,
   "metadata": {},
   "outputs": [
    {
     "name": "stderr",
     "output_type": "stream",
     "text": [
      "C:\\Users\\LegantLab\\anaconda3\\lib\\site-packages\\skimage\\feature\\blob.py:125: RuntimeWarning: invalid value encountered in double_scalars\n",
      "  r1 = blob1[-1] / blob2[-1]\n",
      "C:\\Users\\LegantLab\\anaconda3\\lib\\site-packages\\skimage\\feature\\blob.py:126: RuntimeWarning: divide by zero encountered in true_divide\n",
      "  pos1 = blob1[:ndim] / (max_sigma * root_ndim)\n",
      "C:\\Users\\LegantLab\\anaconda3\\lib\\site-packages\\skimage\\feature\\blob.py:127: RuntimeWarning: divide by zero encountered in true_divide\n",
      "  pos2 = blob2[:ndim] / (max_sigma * root_ndim)\n",
      "C:\\Users\\LegantLab\\anaconda3\\lib\\site-packages\\skimage\\feature\\blob.py:129: RuntimeWarning: invalid value encountered in subtract\n",
      "  d = np.sqrt(np.sum((pos2 - pos1)**2))\n"
     ]
    }
   ],
   "source": [
    "y_, x_ = ab_dot_detecter(ppar_testing)"
   ]
  },
  {
   "cell_type": "code",
   "execution_count": null,
   "metadata": {},
   "outputs": [],
   "source": [
    "fig, ax = plt.subplots()\n",
    "#ax = axes.ravel()\n",
    "for idx in [0]:\n",
    "    ax.imshow(ppar_nucleus_img)\n",
    "    #ax.imshow(ppar_orig_img)\n",
    "    ax.scatter(ringx, ringy, color = 'y', s = .5)\n",
    "    for blob in ppar_dots:\n",
    "        y, x, r = blob\n",
    "        y = y + minr\n",
    "        x = x + minc\n",
    "        c = plt.Circle((x, y), 2, color='r', linewidth=1, fill=False)\n",
    "        ax.add_patch(c)\n",
    "        ax.set_axis_off()"
   ]
  },
  {
   "cell_type": "code",
   "execution_count": 35,
   "metadata": {},
   "outputs": [
    {
     "ename": "ValueError",
     "evalue": "setting an array element with a sequence.",
     "output_type": "error",
     "traceback": [
      "\u001b[1;31m---------------------------------------------------------------------------\u001b[0m",
      "\u001b[1;31mTypeError\u001b[0m                                 Traceback (most recent call last)",
      "\u001b[1;31mTypeError\u001b[0m: only size-1 arrays can be converted to Python scalars",
      "\nThe above exception was the direct cause of the following exception:\n",
      "\u001b[1;31mValueError\u001b[0m                                Traceback (most recent call last)",
      "\u001b[1;32m<ipython-input-35-a09253557d14>\u001b[0m in \u001b[0;36m<module>\u001b[1;34m\u001b[0m\n\u001b[0;32m      3\u001b[0m \u001b[0max\u001b[0m\u001b[1;33m.\u001b[0m\u001b[0mimshow\u001b[0m\u001b[1;33m(\u001b[0m\u001b[0mppar_nucleus_img\u001b[0m\u001b[1;33m)\u001b[0m\u001b[1;33m\u001b[0m\u001b[1;33m\u001b[0m\u001b[0m\n\u001b[0;32m      4\u001b[0m \u001b[0mc\u001b[0m \u001b[1;33m=\u001b[0m \u001b[0mplt\u001b[0m\u001b[1;33m.\u001b[0m\u001b[0mCircle\u001b[0m\u001b[1;33m(\u001b[0m\u001b[1;33m(\u001b[0m\u001b[0mx_\u001b[0m\u001b[1;33m,\u001b[0m \u001b[0my_\u001b[0m\u001b[1;33m)\u001b[0m\u001b[1;33m,\u001b[0m \u001b[1;36m2\u001b[0m\u001b[1;33m,\u001b[0m \u001b[0mcolor\u001b[0m\u001b[1;33m=\u001b[0m\u001b[1;34m'r'\u001b[0m\u001b[1;33m,\u001b[0m \u001b[0mlinewidth\u001b[0m\u001b[1;33m=\u001b[0m\u001b[1;36m1\u001b[0m\u001b[1;33m,\u001b[0m \u001b[0mfill\u001b[0m\u001b[1;33m=\u001b[0m\u001b[1;32mFalse\u001b[0m\u001b[1;33m)\u001b[0m\u001b[1;33m\u001b[0m\u001b[1;33m\u001b[0m\u001b[0m\n\u001b[1;32m----> 5\u001b[1;33m \u001b[0max\u001b[0m\u001b[1;33m.\u001b[0m\u001b[0madd_patch\u001b[0m\u001b[1;33m(\u001b[0m\u001b[0mc\u001b[0m\u001b[1;33m)\u001b[0m\u001b[1;33m\u001b[0m\u001b[1;33m\u001b[0m\u001b[0m\n\u001b[0m",
      "\u001b[1;32m~\\anaconda3\\lib\\site-packages\\matplotlib\\axes\\_base.py\u001b[0m in \u001b[0;36madd_patch\u001b[1;34m(self, p)\u001b[0m\n\u001b[0;32m   1969\u001b[0m         \u001b[1;32mif\u001b[0m \u001b[0mp\u001b[0m\u001b[1;33m.\u001b[0m\u001b[0mget_clip_path\u001b[0m\u001b[1;33m(\u001b[0m\u001b[1;33m)\u001b[0m \u001b[1;32mis\u001b[0m \u001b[1;32mNone\u001b[0m\u001b[1;33m:\u001b[0m\u001b[1;33m\u001b[0m\u001b[1;33m\u001b[0m\u001b[0m\n\u001b[0;32m   1970\u001b[0m             \u001b[0mp\u001b[0m\u001b[1;33m.\u001b[0m\u001b[0mset_clip_path\u001b[0m\u001b[1;33m(\u001b[0m\u001b[0mself\u001b[0m\u001b[1;33m.\u001b[0m\u001b[0mpatch\u001b[0m\u001b[1;33m)\u001b[0m\u001b[1;33m\u001b[0m\u001b[1;33m\u001b[0m\u001b[0m\n\u001b[1;32m-> 1971\u001b[1;33m         \u001b[0mself\u001b[0m\u001b[1;33m.\u001b[0m\u001b[0m_update_patch_limits\u001b[0m\u001b[1;33m(\u001b[0m\u001b[0mp\u001b[0m\u001b[1;33m)\u001b[0m\u001b[1;33m\u001b[0m\u001b[1;33m\u001b[0m\u001b[0m\n\u001b[0m\u001b[0;32m   1972\u001b[0m         \u001b[0mself\u001b[0m\u001b[1;33m.\u001b[0m\u001b[0mpatches\u001b[0m\u001b[1;33m.\u001b[0m\u001b[0mappend\u001b[0m\u001b[1;33m(\u001b[0m\u001b[0mp\u001b[0m\u001b[1;33m)\u001b[0m\u001b[1;33m\u001b[0m\u001b[1;33m\u001b[0m\u001b[0m\n\u001b[0;32m   1973\u001b[0m         \u001b[0mp\u001b[0m\u001b[1;33m.\u001b[0m\u001b[0m_remove_method\u001b[0m \u001b[1;33m=\u001b[0m \u001b[0mself\u001b[0m\u001b[1;33m.\u001b[0m\u001b[0mpatches\u001b[0m\u001b[1;33m.\u001b[0m\u001b[0mremove\u001b[0m\u001b[1;33m\u001b[0m\u001b[1;33m\u001b[0m\u001b[0m\n",
      "\u001b[1;32m~\\anaconda3\\lib\\site-packages\\matplotlib\\axes\\_base.py\u001b[0m in \u001b[0;36m_update_patch_limits\u001b[1;34m(self, patch)\u001b[0m\n\u001b[0;32m   1989\u001b[0m         \u001b[0mvertices\u001b[0m \u001b[1;33m=\u001b[0m \u001b[0mpatch\u001b[0m\u001b[1;33m.\u001b[0m\u001b[0mget_path\u001b[0m\u001b[1;33m(\u001b[0m\u001b[1;33m)\u001b[0m\u001b[1;33m.\u001b[0m\u001b[0mvertices\u001b[0m\u001b[1;33m\u001b[0m\u001b[1;33m\u001b[0m\u001b[0m\n\u001b[0;32m   1990\u001b[0m         \u001b[1;32mif\u001b[0m \u001b[0mvertices\u001b[0m\u001b[1;33m.\u001b[0m\u001b[0msize\u001b[0m \u001b[1;33m>\u001b[0m \u001b[1;36m0\u001b[0m\u001b[1;33m:\u001b[0m\u001b[1;33m\u001b[0m\u001b[1;33m\u001b[0m\u001b[0m\n\u001b[1;32m-> 1991\u001b[1;33m             \u001b[0mxys\u001b[0m \u001b[1;33m=\u001b[0m \u001b[0mpatch\u001b[0m\u001b[1;33m.\u001b[0m\u001b[0mget_patch_transform\u001b[0m\u001b[1;33m(\u001b[0m\u001b[1;33m)\u001b[0m\u001b[1;33m.\u001b[0m\u001b[0mtransform\u001b[0m\u001b[1;33m(\u001b[0m\u001b[0mvertices\u001b[0m\u001b[1;33m)\u001b[0m\u001b[1;33m\u001b[0m\u001b[1;33m\u001b[0m\u001b[0m\n\u001b[0m\u001b[0;32m   1992\u001b[0m             \u001b[1;32mif\u001b[0m \u001b[0mpatch\u001b[0m\u001b[1;33m.\u001b[0m\u001b[0mget_data_transform\u001b[0m\u001b[1;33m(\u001b[0m\u001b[1;33m)\u001b[0m \u001b[1;33m!=\u001b[0m \u001b[0mself\u001b[0m\u001b[1;33m.\u001b[0m\u001b[0mtransData\u001b[0m\u001b[1;33m:\u001b[0m\u001b[1;33m\u001b[0m\u001b[1;33m\u001b[0m\u001b[0m\n\u001b[0;32m   1993\u001b[0m                 patch_to_data = (patch.get_data_transform() -\n",
      "\u001b[1;32m~\\anaconda3\\lib\\site-packages\\matplotlib\\patches.py\u001b[0m in \u001b[0;36mget_patch_transform\u001b[1;34m(self)\u001b[0m\n\u001b[0;32m   1503\u001b[0m \u001b[1;33m\u001b[0m\u001b[0m\n\u001b[0;32m   1504\u001b[0m     \u001b[1;32mdef\u001b[0m \u001b[0mget_patch_transform\u001b[0m\u001b[1;33m(\u001b[0m\u001b[0mself\u001b[0m\u001b[1;33m)\u001b[0m\u001b[1;33m:\u001b[0m\u001b[1;33m\u001b[0m\u001b[1;33m\u001b[0m\u001b[0m\n\u001b[1;32m-> 1505\u001b[1;33m         \u001b[0mself\u001b[0m\u001b[1;33m.\u001b[0m\u001b[0m_recompute_transform\u001b[0m\u001b[1;33m(\u001b[0m\u001b[1;33m)\u001b[0m\u001b[1;33m\u001b[0m\u001b[1;33m\u001b[0m\u001b[0m\n\u001b[0m\u001b[0;32m   1506\u001b[0m         \u001b[1;32mreturn\u001b[0m \u001b[0mself\u001b[0m\u001b[1;33m.\u001b[0m\u001b[0m_patch_transform\u001b[0m\u001b[1;33m\u001b[0m\u001b[1;33m\u001b[0m\u001b[0m\n\u001b[0;32m   1507\u001b[0m \u001b[1;33m\u001b[0m\u001b[0m\n",
      "\u001b[1;32m~\\anaconda3\\lib\\site-packages\\matplotlib\\patches.py\u001b[0m in \u001b[0;36m_recompute_transform\u001b[1;34m(self)\u001b[0m\n\u001b[0;32m   1494\u001b[0m             \u001b[1;33m.\u001b[0m\u001b[0mscale\u001b[0m\u001b[1;33m(\u001b[0m\u001b[0mwidth\u001b[0m \u001b[1;33m*\u001b[0m \u001b[1;36m0.5\u001b[0m\u001b[1;33m,\u001b[0m \u001b[0mheight\u001b[0m \u001b[1;33m*\u001b[0m \u001b[1;36m0.5\u001b[0m\u001b[1;33m)\u001b[0m\u001b[0;31m \u001b[0m\u001b[0;31m\\\u001b[0m\u001b[1;33m\u001b[0m\u001b[1;33m\u001b[0m\u001b[0m\n\u001b[0;32m   1495\u001b[0m             \u001b[1;33m.\u001b[0m\u001b[0mrotate_deg\u001b[0m\u001b[1;33m(\u001b[0m\u001b[0mself\u001b[0m\u001b[1;33m.\u001b[0m\u001b[0mangle\u001b[0m\u001b[1;33m)\u001b[0m\u001b[0;31m \u001b[0m\u001b[0;31m\\\u001b[0m\u001b[1;33m\u001b[0m\u001b[1;33m\u001b[0m\u001b[0m\n\u001b[1;32m-> 1496\u001b[1;33m             \u001b[1;33m.\u001b[0m\u001b[0mtranslate\u001b[0m\u001b[1;33m(\u001b[0m\u001b[1;33m*\u001b[0m\u001b[0mcenter\u001b[0m\u001b[1;33m)\u001b[0m\u001b[1;33m\u001b[0m\u001b[1;33m\u001b[0m\u001b[0m\n\u001b[0m\u001b[0;32m   1497\u001b[0m \u001b[1;33m\u001b[0m\u001b[0m\n\u001b[0;32m   1498\u001b[0m     \u001b[1;32mdef\u001b[0m \u001b[0mget_path\u001b[0m\u001b[1;33m(\u001b[0m\u001b[0mself\u001b[0m\u001b[1;33m)\u001b[0m\u001b[1;33m:\u001b[0m\u001b[1;33m\u001b[0m\u001b[1;33m\u001b[0m\u001b[0m\n",
      "\u001b[1;32m~\\anaconda3\\lib\\site-packages\\matplotlib\\transforms.py\u001b[0m in \u001b[0;36mtranslate\u001b[1;34m(self, tx, ty)\u001b[0m\n\u001b[0;32m   1969\u001b[0m         \"\"\"\n\u001b[0;32m   1970\u001b[0m         translate_mtx = np.array(\n\u001b[1;32m-> 1971\u001b[1;33m             [[1.0, 0.0, tx], [0.0, 1.0, ty], [0.0, 0.0, 1.0]], float)\n\u001b[0m\u001b[0;32m   1972\u001b[0m         \u001b[0mself\u001b[0m\u001b[1;33m.\u001b[0m\u001b[0m_mtx\u001b[0m \u001b[1;33m=\u001b[0m \u001b[0mnp\u001b[0m\u001b[1;33m.\u001b[0m\u001b[0mdot\u001b[0m\u001b[1;33m(\u001b[0m\u001b[0mtranslate_mtx\u001b[0m\u001b[1;33m,\u001b[0m \u001b[0mself\u001b[0m\u001b[1;33m.\u001b[0m\u001b[0m_mtx\u001b[0m\u001b[1;33m)\u001b[0m\u001b[1;33m\u001b[0m\u001b[1;33m\u001b[0m\u001b[0m\n\u001b[0;32m   1973\u001b[0m         \u001b[0mself\u001b[0m\u001b[1;33m.\u001b[0m\u001b[0minvalidate\u001b[0m\u001b[1;33m(\u001b[0m\u001b[1;33m)\u001b[0m\u001b[1;33m\u001b[0m\u001b[1;33m\u001b[0m\u001b[0m\n",
      "\u001b[1;31mValueError\u001b[0m: setting an array element with a sequence."
     ]
    }
   ],
   "source": [
    "fig, ax = plt.subplots()\n",
    "\n",
    "ax.imshow(ppar_nucleus_img)\n",
    "c = plt.Circle((x_, y_), 2, color='r', linewidth=1, fill=False)\n",
    "ax.add_patch(c)"
   ]
  },
  {
   "cell_type": "code",
   "execution_count": 37,
   "metadata": {},
   "outputs": [
    {
     "ename": "AttributeError",
     "evalue": "module 'matplotlib.pyplot' has no attribute 'add_patch'",
     "output_type": "error",
     "traceback": [
      "\u001b[1;31m---------------------------------------------------------------------------\u001b[0m",
      "\u001b[1;31mAttributeError\u001b[0m                            Traceback (most recent call last)",
      "\u001b[1;32m<ipython-input-37-ff44915d4be9>\u001b[0m in \u001b[0;36m<module>\u001b[1;34m\u001b[0m\n\u001b[1;32m----> 1\u001b[1;33m \u001b[0mplt\u001b[0m\u001b[1;33m.\u001b[0m\u001b[0madd_patch\u001b[0m\u001b[1;33m(\u001b[0m\u001b[0mc\u001b[0m\u001b[1;33m)\u001b[0m\u001b[1;33m\u001b[0m\u001b[1;33m\u001b[0m\u001b[0m\n\u001b[0m",
      "\u001b[1;31mAttributeError\u001b[0m: module 'matplotlib.pyplot' has no attribute 'add_patch'"
     ]
    }
   ],
   "source": [
    "plt.add_patch(c)"
   ]
  },
  {
   "cell_type": "code",
   "execution_count": 17,
   "metadata": {},
   "outputs": [],
   "source": [
    "normed_img_ = dotty_img_ /  np.quantile(dotty_img_, 1)\n",
    "dots_ = blob_log(normed_img_, max_sigma = 5, num_sigma= 3, threshold= .2)"
   ]
  },
  {
   "cell_type": "code",
   "execution_count": 39,
   "metadata": {},
   "outputs": [
    {
     "data": {
      "text/plain": [
       "<matplotlib.collections.PathCollection at 0x1d9532a67c8>"
      ]
     },
     "execution_count": 39,
     "metadata": {},
     "output_type": "execute_result"
    }
   ],
   "source": [
    "plt.imshow(ppar_testing)\n",
    "plt.scatter(x_, y_, s=80, facecolors='none', edgecolors='r')"
   ]
  },
  {
   "cell_type": "code",
   "execution_count": null,
   "metadata": {},
   "outputs": [],
   "source": []
  }
 ],
 "metadata": {
  "kernelspec": {
   "display_name": "img_analysis",
   "language": "python",
   "name": "img_analysis"
  },
  "language_info": {
   "codemirror_mode": {
    "name": "ipython",
    "version": 3
   },
   "file_extension": ".py",
   "mimetype": "text/x-python",
   "name": "python",
   "nbconvert_exporter": "python",
   "pygments_lexer": "ipython3",
   "version": "3.7.6"
  }
 },
 "nbformat": 4,
 "nbformat_minor": 4
}
