{
 "cells": [
  {
   "cell_type": "markdown",
   "metadata": {},
   "source": [
    "### This is some initial script for looking at intensities of PPARg around the periphery of the CEBPb hubs. This will make mean intensites for categories. it will also look at intensities in regions as the rings get larger and larger around the periphery of hubs"
   ]
  },
  {
   "cell_type": "code",
   "execution_count": 1,
   "metadata": {},
   "outputs": [],
   "source": [
    "import os\n",
    "import numpy as np\n",
    "import pandas as pd\n",
    "import matplotlib.pyplot as plt\n",
    "import seaborn as sns"
   ]
  },
  {
   "cell_type": "code",
   "execution_count": 2,
   "metadata": {},
   "outputs": [],
   "source": [
    "df_orig = pd.read_csv('day3_lots.csv')\n"
   ]
  },
  {
   "cell_type": "code",
   "execution_count": 3,
   "metadata": {},
   "outputs": [],
   "source": [
    "'''determine the mean intensity for each area around the heterochromatin'''\n",
    "\n",
    "area_heteroc_name_lst = []\n",
    "dapi_heteroc_name_lst = []\n",
    "cebp_heteroc_name_lst = []\n",
    "ppar_heteroc_name_lst = []\n",
    "\n",
    "for col in list(df_orig): #iterate over all of the columns in the df and pull out the ones that are the area of rings around heterochromatin\n",
    "    if 'heteroc' in str(col):\n",
    "        if 'area_p' in str(col):\n",
    "            area_heteroc_name_lst.append(col)\n",
    "        if 'dapi_p' in str(col):\n",
    "            dapi_heteroc_name_lst.append(col)\n",
    "        if 'cebp_p' in str(col):\n",
    "            cebp_heteroc_name_lst.append(col)\n",
    "        if 'ppar_p' in str(col):\n",
    "            ppar_heteroc_name_lst.append(col)\n",
    "for area in range(len(area_heteroc_name_lst)): #make categoiries that are the mean intensity in each of the designated reings around the heteroc\n",
    "    df_orig['mean_'+dapi_heteroc_name_lst[area]] = np.divide(df_orig[dapi_heteroc_name_lst[area]], df_orig[area_heteroc_name_lst[area]])\n",
    "    df_orig['mean_'+cebp_heteroc_name_lst[area]] = np.divide(df_orig[dapi_heteroc_name_lst[area]], df_orig[area_heteroc_name_lst[area]])\n",
    "    df_orig['mean_'+ppar_heteroc_name_lst[area]] = np.divide(df_orig[dapi_heteroc_name_lst[area]], df_orig[area_heteroc_name_lst[area]])\n",
    "\n",
    "    \n",
    "'''determine the mean intensity in each of the cebp blob areas''' \n",
    "area_blob_name_lst = []\n",
    "dapi_blob_name_lst = []\n",
    "cebp_blob_name_lst = []\n",
    "ppar_blob_name_lst = []\n",
    "\n",
    "for col in list(df_orig): #iterarte over teh columns of he df and pull out hte ones that are increasingly larger rings around the cebpb blobs\n",
    "    if 'blob' in str(col):\n",
    "        if 'area_p' in str(col):\n",
    "            area_blob_name_lst.append(col)\n",
    "        if 'dapi_p' in str(col):\n",
    "            dapi_blob_name_lst.append(col)\n",
    "        if 'cebp_p' in str(col):\n",
    "            cebp_blob_name_lst.append(col)\n",
    "        if 'ppar_p' in str(col):\n",
    "            ppar_blob_name_lst.append(col)\n",
    "for area in range(len(area_blob_name_lst)): #determine the mean intensity for each fluor. channel in the designated areas\n",
    "    df_orig['mean_'+dapi_blob_name_lst[area]] = np.divide(df_orig[dapi_blob_name_lst[area]], df_orig[area_blob_name_lst[area]])\n",
    "    df_orig['mean_'+cebp_blob_name_lst[area]] = np.divide(df_orig[dapi_blob_name_lst[area]], df_orig[area_blob_name_lst[area]])\n",
    "    df_orig['mean_'+ppar_blob_name_lst[area]] = np.divide(df_orig[dapi_blob_name_lst[area]], df_orig[area_blob_name_lst[area]])"
   ]
  },
  {
   "cell_type": "code",
   "execution_count": 6,
   "metadata": {},
   "outputs": [],
   "source": [
    "'''make parameters that are the intesities over integrated area. This will make a new column for integrated areas and intensities. It then uses this\n",
    "newly created column for creating the next integrated area'''\n",
    "\n",
    "area_lst = np.copy(area_heteroc_name_lst)\n",
    "dapi_lst = np.copy(dapi_heteroc_name_lst)\n",
    "cebp_lst = np.copy(cebp_heteroc_name_lst)\n",
    "ppar_lst = np.copy(ppar_heteroc_name_lst)\n",
    "\n",
    "\n",
    "'''set up the first elements for generating parameters for mean intensities over integrated area'''\n",
    "area_array1 = df_orig[area_heteroc_name_lst[0]]\n",
    "dapi_array1 = df_orig[dapi_heteroc_name_lst[0]]\n",
    "cebp_array1 = df_orig[cebp_heteroc_name_lst[0]]\n",
    "ppar_array1 = df_orig[ppar_heteroc_name_lst[0]]\n",
    "\n",
    "for i in range(1, len(area_lst)):\n",
    "    area_array2 = df_orig[area_lst[i]] #make array of chosen element\n",
    "    df_orig[area_lst[i][:5] + 'integ_' + area_lst[i][5:]] = area_array2 + area_array1 #make a new category that is integrated area\n",
    "    df_orig['normed_'+area_lst[i][:5] + 'integ_' + area_lst[i][5:]] = np.divide(df_orig[area_lst[i][:5] + 'integ_' + area_lst[i][5:]],\n",
    "                                                                                  df_orig.area_nucleus)\n",
    "    area_array1 = df_orig[area_lst[i][:5] + 'integ_' + area_lst[i][5:]]\n",
    "    \n",
    "    \n",
    "    dapi_array2 = df_orig[dapi_lst[i]]\n",
    "    df_orig[dapi_lst[i][:5] + 'integ_' + dapi_lst[i][5:]] = dapi_array2 + dapi_array1\n",
    "    df_orig['normed_'+dapi_lst[i][:5] + 'integ_' + dapi_lst[i][5:]] = np.divide(df_orig[dapi_lst[i][:5] + 'integ_' + dapi_lst[i][5:]],\n",
    "                                                                                  df_orig.dapi_nucleus)\n",
    "    dapi_array1 = df_orig[dapi_lst[i][:5] + 'integ_' + dapi_lst[i][5:]]\n",
    "    \n",
    "                                                                                  \n",
    "    cebp_array2 = df_orig[cebp_lst[i]]\n",
    "    df_orig[cebp_lst[i][:5] + 'integ_' + cebp_lst[i][5:]] = cebp_array2 + cebp_array1\n",
    "    df_orig['normed_'+cebp_lst[i][:5] + 'integ_' + cebp_lst[i][5:]] = np.divide(df_orig[cebp_lst[i][:5] + 'integ_' + cebp_lst[i][5:]],\n",
    "                                                                                 df_orig.cebp_nucleus)\n",
    "    cebp_array1 = df_orig[area_lst[i][:5] + 'integ_' + area_lst[i][5:]]\n",
    "    \n",
    "    ppar_array2 = df_orig[ppar_lst[i]]\n",
    "    df_orig[ppar_lst[i][:5] + 'integ_' + ppar_lst[i][5:]] = ppar_array2 + ppar_array1\n",
    "    df_orig['normed_'+ppar_lst[i][:5] + 'integ_' + ppar_lst[i][5:]] = np.divide(df_orig[ppar_lst[i][:5] + 'integ_' + ppar_lst[i][5:]],\n",
    "                                                                                df_orig.ppar_nucleus)\n",
    "    ppar_array1 = df_orig[ppar_lst[i][:5] + 'integ_' + ppar_lst[i][5:]]\n",
    "    \n"
   ]
  },
  {
   "cell_type": "code",
   "execution_count": null,
   "metadata": {},
   "outputs": [],
   "source": [
    "\n",
    "\n"
   ]
  },
  {
   "cell_type": "code",
   "execution_count": 8,
   "metadata": {},
   "outputs": [],
   "source": [
    "normed_integ_lst = []\n",
    "\n",
    "for cat in list(df_orig):\n",
    "    if 'normed_area' in cat:\n",
    "        normed_integ_lst.append(cat)"
   ]
  },
  {
   "cell_type": "code",
   "execution_count": 9,
   "metadata": {},
   "outputs": [
    {
     "data": {
      "text/plain": [
       "['normed_area_integ_p2_heteroc',\n",
       " 'normed_area_integ_p3_heteroc',\n",
       " 'normed_area_integ_p4_heteroc']"
      ]
     },
     "execution_count": 9,
     "metadata": {},
     "output_type": "execute_result"
    }
   ],
   "source": [
    "normed_integ_lst"
   ]
  },
  {
   "cell_type": "code",
   "execution_count": 12,
   "metadata": {},
   "outputs": [],
   "source": [
    "df_area = df_orig[normed_integ_lst]"
   ]
  },
  {
   "cell_type": "code",
   "execution_count": 13,
   "metadata": {},
   "outputs": [
    {
     "data": {
      "text/html": [
       "<div>\n",
       "<style scoped>\n",
       "    .dataframe tbody tr th:only-of-type {\n",
       "        vertical-align: middle;\n",
       "    }\n",
       "\n",
       "    .dataframe tbody tr th {\n",
       "        vertical-align: top;\n",
       "    }\n",
       "\n",
       "    .dataframe thead th {\n",
       "        text-align: right;\n",
       "    }\n",
       "</style>\n",
       "<table border=\"1\" class=\"dataframe\">\n",
       "  <thead>\n",
       "    <tr style=\"text-align: right;\">\n",
       "      <th></th>\n",
       "      <th>normed_area_integ_p2_heteroc</th>\n",
       "      <th>normed_area_integ_p3_heteroc</th>\n",
       "      <th>normed_area_integ_p4_heteroc</th>\n",
       "    </tr>\n",
       "  </thead>\n",
       "  <tbody>\n",
       "    <tr>\n",
       "      <th>0</th>\n",
       "      <td>0.021343</td>\n",
       "      <td>0.035968</td>\n",
       "      <td>0.049619</td>\n",
       "    </tr>\n",
       "    <tr>\n",
       "      <th>1</th>\n",
       "      <td>0.029302</td>\n",
       "      <td>0.049423</td>\n",
       "      <td>0.068274</td>\n",
       "    </tr>\n",
       "  </tbody>\n",
       "</table>\n",
       "</div>"
      ],
      "text/plain": [
       "   normed_area_integ_p2_heteroc  normed_area_integ_p3_heteroc  \\\n",
       "0                      0.021343                      0.035968   \n",
       "1                      0.029302                      0.049423   \n",
       "\n",
       "   normed_area_integ_p4_heteroc  \n",
       "0                      0.049619  \n",
       "1                      0.068274  "
      ]
     },
     "execution_count": 13,
     "metadata": {},
     "output_type": "execute_result"
    }
   ],
   "source": [
    "df_area"
   ]
  },
  {
   "cell_type": "code",
   "execution_count": null,
   "metadata": {},
   "outputs": [],
   "source": [
    "integrated_dict = {}\n",
    "\n",
    "for col in range(1, len(area_heteroc_name_lst)):\n",
    "    first_col_area = df_orig[area_heteroc_name_lst[col - 1]]\n",
    "    second_col_area = df_orig[area_heteroc_name_lst[col]]\n",
    "    integrated_dict.update({area_heteroc_name_lst[col][:5] + 'integ_' + area_heteroc_name_lst[col][5:] :\n",
    "                            np.subtract(second_col_area, first_col_area)})\n",
    "    first_col_dapi = df_orig[dapi_heteroc_name_lst[col - 1]]\n",
    "    second_col_dapi = df_orig[dapi_heteroc_name_lst[col]]\n",
    "    integrated_dict.update({dapi_heteroc_name_lst[col][:5] + 'integ_' + dapi_heteroc_name_lst[col][5:] :\n",
    "                            np.subtract(second_col_dapi, first_col_dapi)})\n",
    "    first_col_cebp = df_orig[cebp_heteroc_name_lst[col - 1]]\n",
    "    second_col_cebp = df_orig[cebp_heteroc_name_lst[col]]\n",
    "    integrated_dict.update({cebp_heteroc_name_lst[col][:5] + 'integ_' + cebp_heteroc_name_lst[col][5:] :\n",
    "                            np.subtract(second_col_cebp, first_col_cebp)})\n",
    "    first_col_ppar = df_orig[ppar_heteroc_name_lst[col - 1]]\n",
    "    second_col_ppar = df_orig[ppar_heteroc_name_lst[col]]\n",
    "    integrated_dict.update({ppar_heteroc_name_lst[col][:5] + 'integ_' + ppar_heteroc_name_lst[col][5:] :\n",
    "                            np.subtract(second_col_ppar, first_col_ppar)})"
   ]
  },
  {
   "cell_type": "code",
   "execution_count": 54,
   "metadata": {},
   "outputs": [
    {
     "data": {
      "text/plain": [
       "['dapi_p1_heteroc', 'dapi_p2_heteroc', 'dapi_p3_heteroc', 'dapi_p4_heteroc']"
      ]
     },
     "execution_count": 54,
     "metadata": {},
     "output_type": "execute_result"
    }
   ],
   "source": [
    "dapi_heteroc_name_lst"
   ]
  },
  {
   "cell_type": "code",
   "execution_count": 50,
   "metadata": {},
   "outputs": [
    {
     "data": {
      "text/plain": [
       "['Unnamed: 0',\n",
       " 'index_count',\n",
       " 'segm_img_name',\n",
       " 'day',\n",
       " 'area_nucleus',\n",
       " 'x_coord',\n",
       " 'y_coord',\n",
       " 'dapi_nucleus',\n",
       " 'cebp_nucleus',\n",
       " 'ppar_nucleus',\n",
       " 'area_blob',\n",
       " 'dapi_blob',\n",
       " 'cebp_blob',\n",
       " 'ppar_blob',\n",
       " 'area_n_blob',\n",
       " 'dapi_n_blob',\n",
       " 'cebp_n_blob',\n",
       " 'ppar_n_blob',\n",
       " 'area_heteroc',\n",
       " 'dapi_heteroc',\n",
       " 'cebp_heteroc',\n",
       " 'ppar_heteroc',\n",
       " 'area_n_heteroc',\n",
       " 'dapi_n_heteroc',\n",
       " 'cebp_n_heteroc',\n",
       " 'ppar_n_heteroc',\n",
       " 'area_m1_heteroc',\n",
       " 'dapi_m1_heteroc',\n",
       " 'cebp_m1_heteroc',\n",
       " 'ppar_m1_heteroc',\n",
       " 'area_n_m1_heteroc',\n",
       " 'dapi_n_m1_heteroc',\n",
       " 'cebp_n_m1_heteroc',\n",
       " 'ppar_n_m1_heteroc',\n",
       " 'area_m2_heteroc',\n",
       " 'dapi_m2_heteroc',\n",
       " 'cebp_m2_heteroc',\n",
       " 'ppar_m2_heteroc',\n",
       " 'area_n_m2_heteroc',\n",
       " 'dapi_n_m2_heteroc',\n",
       " 'cebp_n_m2_heteroc',\n",
       " 'ppar_n_m2_heteroc',\n",
       " 'area_m3_heteroc',\n",
       " 'dapi_m3_heteroc',\n",
       " 'cebp_m3_heteroc',\n",
       " 'ppar_m3_heteroc',\n",
       " 'area_n_m3_heteroc',\n",
       " 'dapi_n_m3_heteroc',\n",
       " 'cebp_n_m3_heteroc',\n",
       " 'ppar_n_m3_heteroc',\n",
       " 'area_m4_heteroc',\n",
       " 'dapi_m4_heteroc',\n",
       " 'cebp_m4_heteroc',\n",
       " 'ppar_m4_heteroc',\n",
       " 'area_n_m4_heteroc',\n",
       " 'dapi_n_m4_heteroc',\n",
       " 'cebp_n_m4_heteroc',\n",
       " 'ppar_n_m4_heteroc',\n",
       " 'area_p1_heteroc',\n",
       " 'dapi_p1_heteroc',\n",
       " 'cebp_p1_heteroc',\n",
       " 'ppar_p1_heteroc',\n",
       " 'area_n_p4_heteroc',\n",
       " 'dapi_n_p4_heteroc',\n",
       " 'cebp_n_p4_heteroc',\n",
       " 'ppar_n_p4_heteroc',\n",
       " 'area_p2_heteroc',\n",
       " 'dapi_p2_heteroc',\n",
       " 'cebp_p2_heteroc',\n",
       " 'ppar_p2_heteroc',\n",
       " 'area_p3_heteroc',\n",
       " 'dapi_p3_heteroc',\n",
       " 'cebp_p3_heteroc',\n",
       " 'ppar_p3_heteroc',\n",
       " 'area_p4_heteroc',\n",
       " 'dapi_p4_heteroc',\n",
       " 'cebp_p4_heteroc',\n",
       " 'ppar_p4_heteroc',\n",
       " 'area_m1_blob',\n",
       " 'dapi_m1_blob',\n",
       " 'cebp_m1_blob',\n",
       " 'ppar_m1_blob',\n",
       " 'area_n_m1_blob',\n",
       " 'dapi_n_m1_blob',\n",
       " 'cebp_n_m1_blob',\n",
       " 'ppar_n_m1_blob',\n",
       " 'area_m2_blob',\n",
       " 'dapi_m2_blob',\n",
       " 'cebp_m2_blob',\n",
       " 'ppar_m2_blob',\n",
       " 'area_n_m2_blob',\n",
       " 'dapi_n_m2_blob',\n",
       " 'cebp_n_m2_blob',\n",
       " 'ppar_n_m2_blob',\n",
       " 'area_m3_blob',\n",
       " 'dapi_m3_blob',\n",
       " 'cebp_m3_blob',\n",
       " 'ppar_m3_blob',\n",
       " 'area_n_m3_blob',\n",
       " 'dapi_n_m3_blob',\n",
       " 'cebp_n_m3_blob',\n",
       " 'ppar_n_m3_blob',\n",
       " 'area_m4_blob',\n",
       " 'dapi_m4_blob',\n",
       " 'cebp_m4_blob',\n",
       " 'ppar_m4_blob',\n",
       " 'area_n_m4_blob',\n",
       " 'dapi_n_m4_blob',\n",
       " 'cebp_n_m4_blob',\n",
       " 'ppar_n_m4_blob',\n",
       " 'area_p1_blob',\n",
       " 'dapi_p1_blob',\n",
       " 'cebp_p1_blob',\n",
       " 'ppar_p1_blob',\n",
       " 'area_n_p1_blob',\n",
       " 'dapi_n_p1_blob',\n",
       " 'cebp_n_p1_blob',\n",
       " 'ppar_n_p1_blob',\n",
       " 'area_p2_blob',\n",
       " 'dapi_p2_blob',\n",
       " 'cebp_p2_blob',\n",
       " 'ppar_p2_blob',\n",
       " 'area_n_p2_blob',\n",
       " 'dapi_n_p2_blob',\n",
       " 'cebp_n_p2_blob',\n",
       " 'ppar_n_p2_blob',\n",
       " 'area_p3_blob',\n",
       " 'dapi_p3_blob',\n",
       " 'cebp_p3_blob',\n",
       " 'ppar_p3_blob',\n",
       " 'area_n_p3_blob',\n",
       " 'dapi_n_p3_blob',\n",
       " 'cebp_n_p3_blob',\n",
       " 'ppar_n_p3_blob',\n",
       " 'area_p4_blob',\n",
       " 'dapi_p4_blob',\n",
       " 'cebp_p4_blob',\n",
       " 'ppar_p4_blob',\n",
       " 'area_n_p4_blob',\n",
       " 'dapi_n_p4_blob',\n",
       " 'cebp_n_p4_blob',\n",
       " 'ppar_n_p4_blob']"
      ]
     },
     "execution_count": 50,
     "metadata": {},
     "output_type": "execute_result"
    }
   ],
   "source": [
    "list(df)"
   ]
  },
  {
   "cell_type": "code",
   "execution_count": null,
   "metadata": {},
   "outputs": [],
   "source": []
  },
  {
   "cell_type": "code",
   "execution_count": null,
   "metadata": {},
   "outputs": [],
   "source": []
  },
  {
   "cell_type": "code",
   "execution_count": null,
   "metadata": {},
   "outputs": [],
   "source": []
  },
  {
   "cell_type": "code",
   "execution_count": null,
   "metadata": {},
   "outputs": [],
   "source": []
  },
  {
   "cell_type": "code",
   "execution_count": 41,
   "metadata": {},
   "outputs": [],
   "source": [
    "areas_heteroc_lst = []\n",
    "\n",
    "for cat in list(df):\n",
    "    if 'area_p' in str(cat) and 'heteroc' in str(cat):\n",
    "        areas_heteroc_lst.append(cat)\n",
    "df_areas1 = df[areas_heteroc_lst]\n",
    "df_areas2 = df_areas1.copy()\n",
    "\n",
    "df_areas = pd.concat([df_areas1, df_areas2])"
   ]
  },
  {
   "cell_type": "code",
   "execution_count": null,
   "metadata": {},
   "outputs": [],
   "source": []
  },
  {
   "cell_type": "code",
   "execution_count": 42,
   "metadata": {},
   "outputs": [
    {
     "data": {
      "text/html": [
       "<div>\n",
       "<style scoped>\n",
       "    .dataframe tbody tr th:only-of-type {\n",
       "        vertical-align: middle;\n",
       "    }\n",
       "\n",
       "    .dataframe tbody tr th {\n",
       "        vertical-align: top;\n",
       "    }\n",
       "\n",
       "    .dataframe thead th {\n",
       "        text-align: right;\n",
       "    }\n",
       "</style>\n",
       "<table border=\"1\" class=\"dataframe\">\n",
       "  <thead>\n",
       "    <tr style=\"text-align: right;\">\n",
       "      <th></th>\n",
       "      <th>area_p1_heteroc</th>\n",
       "      <th>area_p2_heteroc</th>\n",
       "      <th>area_p3_heteroc</th>\n",
       "      <th>area_p4_heteroc</th>\n",
       "    </tr>\n",
       "  </thead>\n",
       "  <tbody>\n",
       "    <tr>\n",
       "      <th>0</th>\n",
       "      <td>570</td>\n",
       "      <td>612</td>\n",
       "      <td>810</td>\n",
       "      <td>756</td>\n",
       "    </tr>\n",
       "    <tr>\n",
       "      <th>1</th>\n",
       "      <td>921</td>\n",
       "      <td>994</td>\n",
       "      <td>1315</td>\n",
       "      <td>1232</td>\n",
       "    </tr>\n",
       "    <tr>\n",
       "      <th>0</th>\n",
       "      <td>570</td>\n",
       "      <td>612</td>\n",
       "      <td>810</td>\n",
       "      <td>756</td>\n",
       "    </tr>\n",
       "    <tr>\n",
       "      <th>1</th>\n",
       "      <td>921</td>\n",
       "      <td>994</td>\n",
       "      <td>1315</td>\n",
       "      <td>1232</td>\n",
       "    </tr>\n",
       "  </tbody>\n",
       "</table>\n",
       "</div>"
      ],
      "text/plain": [
       "   area_p1_heteroc  area_p2_heteroc  area_p3_heteroc  area_p4_heteroc\n",
       "0              570              612              810              756\n",
       "1              921              994             1315             1232\n",
       "0              570              612              810              756\n",
       "1              921              994             1315             1232"
      ]
     },
     "execution_count": 42,
     "metadata": {},
     "output_type": "execute_result"
    }
   ],
   "source": [
    "df_areas"
   ]
  },
  {
   "cell_type": "code",
   "execution_count": 47,
   "metadata": {},
   "outputs": [],
   "source": [
    "dist_lst = []\n",
    "\n",
    "for col in list(df_areas):\n",
    "    if len(col) == 15:\n",
    "        dist_lst.append(int(col[6]))\n",
    "        \n",
    "    if len(col) == 16:\n",
    "        dist_lst.append(int(col[6:8]))"
   ]
  },
  {
   "cell_type": "code",
   "execution_count": 49,
   "metadata": {},
   "outputs": [
    {
     "data": {
      "text/plain": [
       "[1, 2, 3, 4]"
      ]
     },
     "execution_count": 49,
     "metadata": {},
     "output_type": "execute_result"
    }
   ],
   "source": [
    "dist_lst"
   ]
  },
  {
   "cell_type": "code",
   "execution_count": 27,
   "metadata": {},
   "outputs": [
    {
     "data": {
      "text/plain": [
       "'area_p1_heteroc'"
      ]
     },
     "execution_count": 27,
     "metadata": {},
     "output_type": "execute_result"
    }
   ],
   "source": [
    "col"
   ]
  },
  {
   "cell_type": "code",
   "execution_count": null,
   "metadata": {},
   "outputs": [],
   "source": []
  }
 ],
 "metadata": {
  "kernelspec": {
   "display_name": "Python 3",
   "language": "python",
   "name": "python3"
  },
  "language_info": {
   "codemirror_mode": {
    "name": "ipython",
    "version": 3
   },
   "file_extension": ".py",
   "mimetype": "text/x-python",
   "name": "python",
   "nbconvert_exporter": "python",
   "pygments_lexer": "ipython3",
   "version": "3.7.6"
  }
 },
 "nbformat": 4,
 "nbformat_minor": 4
}
