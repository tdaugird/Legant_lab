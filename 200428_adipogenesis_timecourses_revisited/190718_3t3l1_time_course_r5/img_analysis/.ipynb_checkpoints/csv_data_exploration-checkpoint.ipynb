{
 "cells": [
  {
   "cell_type": "markdown",
   "metadata": {},
   "source": [
    "### this is data exploration of the output .csv files that I generated."
   ]
  },
  {
   "cell_type": "code",
   "execution_count": 34,
   "metadata": {},
   "outputs": [],
   "source": [
    "import os\n",
    "import numpy as np\n",
    "import pandas as pd\n",
    "%matplotlib qt\n",
    "import matplotlib.pyplot as plt\n",
    "import seaborn as sns\n",
    "plt.style.use('dark_background')"
   ]
  },
  {
   "cell_type": "code",
   "execution_count": 52,
   "metadata": {},
   "outputs": [],
   "source": [
    "whole_cell = pd.read_csv('whole_cell_df.csv')\n",
    "subcell_g = pd.read_csv('global_third_df.csv')\n",
    "subcell_b = pd.read_csv('sub-cell_second_df.csv')"
   ]
  },
  {
   "cell_type": "code",
   "execution_count": 59,
   "metadata": {},
   "outputs": [],
   "source": [
    "ppar_palette = sns.color_palette(sns.cubehelix_palette(20))\n",
    "cebp_palette = sns.color_palette(sns.color_palette(\"BuGn_r\", 20))\n",
    "dapi_palette = sns.color_palette(sns.color_palette(\"Blues\", 20))"
   ]
  },
  {
   "cell_type": "markdown",
   "metadata": {},
   "source": [
    "### start off with some controls to make sure everything is working as planned"
   ]
  },
  {
   "cell_type": "code",
   "execution_count": 17,
   "metadata": {},
   "outputs": [],
   "source": [
    "'''whole cell ppar gamma expression over time'''\n",
    "ax = sns.lineplot(whole_cell.day, whole_cell.ppar_integrated, color = 'magenta', ci = 'sd')"
   ]
  },
  {
   "cell_type": "code",
   "execution_count": 14,
   "metadata": {},
   "outputs": [],
   "source": [
    "'''whole cell cebp expression over time lineplot'''\n",
    "ax = sns.lineplot(whole_cell.day, whole_cell.cebp_integrated, color = 'lawngreen', ci = 'sd')"
   ]
  },
  {
   "cell_type": "code",
   "execution_count": 128,
   "metadata": {},
   "outputs": [],
   "source": [
    "'''whole cell ppar and cebpb'''\n",
    "ax1 = sns.lineplot(whole_cell.day, whole_cell.cebp_integrated, color = cebp_palette[9])\n",
    "ax2 = ax1.twinx()\n",
    "ax2 = sns.lineplot(whole_cell.day, whole_cell.ppar_integrated, color = ppar_palette[9])"
   ]
  },
  {
   "cell_type": "code",
   "execution_count": 144,
   "metadata": {},
   "outputs": [],
   "source": [
    "'''whole cell ppar and cebpb'''\n",
    "ax1 = sns.lineplot(whole_cell.day, whole_cell.dapi_mean, color = dapi_palette[9])\n",
    "ax2 = ax1.twinx()\n",
    "ax2 = sns.lineplot(whole_cell.day, whole_cell.area, color = area_palette[9])"
   ]
  },
  {
   "cell_type": "code",
   "execution_count": 143,
   "metadata": {},
   "outputs": [],
   "source": [
    "'''generate new label for average intensity'''\n",
    "whole_cell['ppar_mean'] = np.divide(whole_cell.ppar_integrated, whole_cell.area)\n",
    "whole_cell['cebp_mean'] = np.divide(whole_cell.cebp_integrated, whole_cell.area)\n",
    "whole_cell['dapi_mean'] = np.divide(whole_cell.dapi_integrated, whole_cell.area)"
   ]
  },
  {
   "cell_type": "code",
   "execution_count": 18,
   "metadata": {},
   "outputs": [],
   "source": [
    "'''whole cell average ppar and cebp beta'''\n",
    "ax1 = sns.lineplot(whole_cell.day, whole_cell.cebp_mean, color = cebp_palette[9])\n",
    "ax2 = ax1.twinx()\n",
    "ax2 = sns.lineplot(whole_cell.day, whole_cell.ppar_mean, color = ppar_palette[9])"
   ]
  },
  {
   "cell_type": "code",
   "execution_count": 129,
   "metadata": {},
   "outputs": [],
   "source": [
    "'''generat variable that is just random intergers for making pretty graphs '''\n",
    "whole_cell['rndm'] = np.random.randint(0, 14, len(whole_cell))"
   ]
  },
  {
   "cell_type": "code",
   "execution_count": 130,
   "metadata": {},
   "outputs": [],
   "source": [
    "ppar_palette = sns.color_palette(sns.cubehelix_palette(20))\n",
    "ax = sns.stripplot(whole_cell.day, whole_cell.ppar_integrated, hue = whole_cell.rndm, palette = ppar_palette)\n",
    "ax.legend_.remove()\n",
    "ax = sns.pointplot(whole_cell.day, whole_cell.ppar_integrated, color = ppar_palette[0], errwidth = 3, ci = 'sd', capsize = .3)\n"
   ]
  },
  {
   "cell_type": "code",
   "execution_count": 39,
   "metadata": {},
   "outputs": [],
   "source": [
    "cebp_palette = sns.color_palette(sns.color_palette(\"BuGn_r\", 20))\n",
    "ax = sns.stripplot(whole_cell.day, whole_cell.cebp_integrated, hue = whole_cell.rndm, palette = cebp_palette)\n",
    "ax.legend_.remove()\n",
    "ax = sns.pointplot(whole_cell.day, whole_cell.cebp_integrated, color = cebp_palette[-1], errwidth = 3, ci = 'sd', capsize = .3)b"
   ]
  },
  {
   "cell_type": "code",
   "execution_count": null,
   "metadata": {},
   "outputs": [],
   "source": []
  },
  {
   "cell_type": "markdown",
   "metadata": {},
   "source": [
    "### For the sake of plots I think that I am going to get rid of 98 and 2 percentile for each plot"
   ]
  },
  {
   "cell_type": "code",
   "execution_count": 139,
   "metadata": {},
   "outputs": [],
   "source": [
    "whole_cell = pd.read_csv('whole_cell_df.csv')\n",
    "whole_cell['rndm'] = np.random.randint(0, 14, len(whole_cell))\n",
    "#whole_cell = whole_cell.loc[whole_cell.ppar_integrated < whole_cell.ppar_integrated.quantile(.98)]\n",
    "#whole_cell = whole_cell.loc[whole_cell.ppar_integrated > whole_cell.ppar_integrated.quantile(.02)]\n",
    "#whole_cell = whole_cell.loc[whole_cell.cebp_integrated < whole_cell.cebp_integrated.quantile(.98)]\n",
    "#whole_cell = whole_cell.loc[whole_cell.cebp_integrated > whole_cell.cebp_integrated.quantile(.02)]\n",
    "#whole_cell = whole_cell.loc[whole_cell.dapi_integrated < whole_cell.dapi_integrated.quantile(.98)]\n",
    "#whole_cell = whole_cell.loc[whole_cell.dapi_integrated > whole_cell.dapi_integrated.quantile(.02)]\n",
    "whole_cell = whole_cell.loc[whole_cell.area < whole_cell.area.quantile(.98)]\n",
    "whole_cell = whole_cell.loc[whole_cell.area > whole_cell.area.quantile(.02)]\n",
    "whole_cell.day = np.around(whole_cell.day, 3)"
   ]
  },
  {
   "cell_type": "code",
   "execution_count": 132,
   "metadata": {},
   "outputs": [],
   "source": [
    "ppar_palette = sns.color_palette(sns.cubehelix_palette(20))\n",
    "ax = sns.stripplot(whole_cell.day, whole_cell.ppar_integrated, hue = whole_cell.rndm, palette = ppar_palette)\n",
    "ax.legend_.remove()\n",
    "ax = sns.pointplot(whole_cell.day, whole_cell.ppar_integrated, color = ppar_palette[0], errwidth = 3, ci = 'sd', capsize = .3)"
   ]
  },
  {
   "cell_type": "code",
   "execution_count": 134,
   "metadata": {},
   "outputs": [],
   "source": [
    "cebp_palette = sns.color_palette(sns.color_palette(\"BuGn_r\", 20))\n",
    "ax = sns.stripplot(whole_cell.day, whole_cell.cebp_integrated, hue = whole_cell.rndm, palette = cebp_palette)\n",
    "ax.legend_.remove()\n",
    "ax = sns.pointplot(whole_cell.day, whole_cell.cebp_integrated, color = cebp_palette[-1], errwidth = 3, ci = 'sd', capsize = .3)"
   ]
  },
  {
   "cell_type": "code",
   "execution_count": 137,
   "metadata": {},
   "outputs": [],
   "source": [
    "dapi_palette = sns.color_palette(sns.color_palette(\"Blues\", 20))\n",
    "ax = sns.stripplot(whole_cell.day, whole_cell.dapi_integrated, hue = whole_cell.rndm, palette = dapi_palette)\n",
    "ax.legend_.remove()\n",
    "ax = sns.pointplot(whole_cell.day, whole_cell.dapi_integrated, color = dapi_palette[9], errwidth = 3, ci = 'sd', capsize = .3)"
   ]
  },
  {
   "cell_type": "code",
   "execution_count": 140,
   "metadata": {},
   "outputs": [],
   "source": [
    "area_palette = sns.color_palette(sns.color_palette(\"Greys\", 20))\n",
    "ax = sns.stripplot(whole_cell.day, whole_cell.area, hue = whole_cell.rndm, palette = area_palette)\n",
    "ax.legend_.remove()\n",
    "ax = sns.pointplot(whole_cell.day, whole_cell.area, color = area_palette[9], errwidth = 3, ci = 'sd', capsize = .3)"
   ]
  },
  {
   "cell_type": "code",
   "execution_count": 78,
   "metadata": {},
   "outputs": [
    {
     "data": {
      "text/plain": [
       "{'-3.0': 24,\n",
       " '-1.0': 221,\n",
       " '0.0': 185,\n",
       " '0.083': 201,\n",
       " '0.167': 238,\n",
       " '0.25': 195,\n",
       " '0.33': 221,\n",
       " '1.0': 193,\n",
       " '2.0': 248,\n",
       " '3.0': 253,\n",
       " '4.0': 219,\n",
       " '6.0': 157}"
      ]
     },
     "execution_count": 78,
     "metadata": {},
     "output_type": "execute_result"
    }
   ],
   "source": [
    "'''figure how many cells are at each timepoint'''\n",
    "whole_cell = pd.read_csv('whole_cell_df.csv')\n",
    "whole_cell.day = np.around(whole_cell.day, 3)\n",
    "ens_dict = {}\n",
    "\n",
    "times_lst = []\n",
    "ens_lst = []\n",
    "\n",
    "for i in np.unique(whole_cell.day):\n",
    "    df_ = whole_cell.loc[whole_cell.day == i]\n",
    "    times_lst.append(i)\n",
    "    ens_lst.append(len(df_))\n",
    "    \n",
    "for i in range(len(times_lst)):\n",
    "    ens_dict.update({str(times_lst[i]) : ens_lst[i]})\n",
    "ens_dict    "
   ]
  },
  {
   "cell_type": "code",
   "execution_count": 79,
   "metadata": {},
   "outputs": [
    {
     "data": {
      "text/plain": [
       "0.16942675159235668"
      ]
     },
     "execution_count": 79,
     "metadata": {},
     "output_type": "execute_result"
    }
   ],
   "source": [
    "len(subcell_g) / len(whole_cell)"
   ]
  },
  {
   "cell_type": "markdown",
   "metadata": {},
   "source": [
    "### I think that all of that looks pretty okay so I will now move on to doing the sub cellular analysis\n",
    "\n",
    "### first thing will be some control plots"
   ]
  },
  {
   "cell_type": "code",
   "execution_count": 8,
   "metadata": {},
   "outputs": [],
   "source": [
    "ax1 = sns.lineplot(subcell_g.day, subcell_g.cebp_nucleus, color = 'lawngreen')\n",
    "ax2 = ax1.twinx()\n",
    "ax2 = sns.lineplot(subcell_g.day, subcell_g.ppar_nucleus, color = 'magenta')"
   ]
  },
  {
   "cell_type": "code",
   "execution_count": 54,
   "metadata": {},
   "outputs": [],
   "source": [
    "subcell_g['rndm'] = np.random.randint(0, 19, len(subcell_g))\n",
    "subcell_g.day = np.around(subcell_g.day, 3)"
   ]
  },
  {
   "cell_type": "code",
   "execution_count": 87,
   "metadata": {},
   "outputs": [],
   "source": [
    "ax = sns.stripplot(subcell_g.day, subcell_g.ppar_nucleus, hue = subcell_g.rndm, palette = ppar_palette)\n",
    "ax.legend_.remove()\n",
    "ax = sns.pointplot(subcell_g.day, subcell_g.ppar_nucleus, color = ppar_palette[0], errwidth = 3, ci = 'sd', capsize = .3)"
   ]
  },
  {
   "cell_type": "code",
   "execution_count": 88,
   "metadata": {},
   "outputs": [],
   "source": [
    "ax = sns.stripplot(subcell_g.day, subcell_g.cebp_nucleus, hue = subcell_g.rndm, palette = cebp_palette)\n",
    "ax.legend_.remove()\n",
    "ax = sns.pointplot(subcell_g.day, subcell_g.cebp_nucleus, color = cebp_palette[0], errwidth = 3, ci = 'sd', capsize = .3)"
   ]
  },
  {
   "cell_type": "code",
   "execution_count": 55,
   "metadata": {},
   "outputs": [],
   "source": [
    "'''I need to make some new parameters for the mean intensity of categories first for the heterochromatin'''\n",
    "subcell_g['mean_dapi_heteroc'] = np.divide(subcell_g.dapi_heteroc, subcell_g.area_heteroc)\n",
    "subcell_g['mean_dapi_n_heteroc'] = np.divide(subcell_g.dapi_n_heteroc, subcell_g.area_n_heteroc)"
   ]
  },
  {
   "cell_type": "code",
   "execution_count": 43,
   "metadata": {},
   "outputs": [
    {
     "data": {
      "text/plain": [
       "<matplotlib.legend.Legend at 0x1998bd39f08>"
      ]
     },
     "execution_count": 43,
     "metadata": {},
     "output_type": "execute_result"
    }
   ],
   "source": [
    "'''now I would like to do some controls for the subcellular segmentation'''\n",
    "\n",
    "\n",
    "ax = sns.distplot(subcell_g.mean_dapi_heteroc, color = dapi_palette[-1])\n",
    "ax = sns.distplot(subcell_g.mean_dapi_n_heteroc, color = dapi_palette[0])\n",
    "ax.legend(['dapi heterochromatin', 'dapi not heterochromatin'])"
   ]
  },
  {
   "cell_type": "code",
   "execution_count": 107,
   "metadata": {},
   "outputs": [],
   "source": [
    "'''next is controls for the cebp segmentation'''\n",
    "subcell_g['mean_cebp_blob'] = np.divide(subcell_g.cebp_blob, subcell_g.area_blob)\n",
    "subcell_g['mean_cebp_n_blob'] = np.divide(subcell_g.cebp_n_blob, subcell_g.area_n_blob)"
   ]
  },
  {
   "cell_type": "code",
   "execution_count": 45,
   "metadata": {},
   "outputs": [
    {
     "data": {
      "text/plain": [
       "<matplotlib.legend.Legend at 0x1998fc6d948>"
      ]
     },
     "execution_count": 45,
     "metadata": {},
     "output_type": "execute_result"
    }
   ],
   "source": [
    "ax = sns.distplot(subcell_g.mean_cebp_blob, color = cebp_palette[-1])\n",
    "ax = sns.distplot(subcell_g.mean_cebp_n_blob, color = cebp_palette[0])\n",
    "ax.legend(['cebp blob', 'cebp not blob'])"
   ]
  },
  {
   "cell_type": "markdown",
   "metadata": {},
   "source": [
    "### I thnk these might look a little bit better if I threw them in violin plots. which means creating a couple of new dfs"
   ]
  },
  {
   "cell_type": "code",
   "execution_count": 46,
   "metadata": {},
   "outputs": [],
   "source": [
    "'''creat dapi control df'''\n",
    "dapi_heteroc_df = pd.DataFrame({'mean_dapi' : subcell_g.mean_dapi_heteroc,\n",
    "                              'heteroc_bool' : np.ones(len(subcell_g.mean_dapi_heteroc))})\n",
    "dapi_n_heteroc_df = pd.DataFrame({'mean_dapi' : subcell_g.mean_dapi_n_heteroc,\n",
    "                              'heteroc_bool' : np.zeros(len(subcell_g.mean_dapi_heteroc))})\n",
    "dapi_ctrl_df = pd.concat([dapi_heteroc_df, dapi_n_heteroc_df])"
   ]
  },
  {
   "cell_type": "code",
   "execution_count": 47,
   "metadata": {},
   "outputs": [],
   "source": [
    "ax = sns.violinplot(dapi_ctrl_df.heteroc_bool, dapi_ctrl_df.mean_dapi, palette= sns.color_palette([dapi_palette[0], dapi_palette[-1]]))"
   ]
  },
  {
   "cell_type": "code",
   "execution_count": 108,
   "metadata": {},
   "outputs": [],
   "source": [
    "'''create cebp control df'''\n",
    "cebp_blob_df = pd.DataFrame({'mean_cebp' : subcell_g.mean_cebp_blob,\n",
    "                              'blob_bool' : np.ones(len(subcell_g))})\n",
    "cebp_n_blob_df = pd.DataFrame({'mean_cebp' : subcell_g.mean_cebp_n_blob,\n",
    "                              'blob_bool' : np.zeros(len(subcell_g))})\n",
    "cebp_ctrl_df = pd.concat([cebp_blob_df, cebp_n_blob_df])"
   ]
  },
  {
   "cell_type": "code",
   "execution_count": 109,
   "metadata": {},
   "outputs": [],
   "source": [
    "ax = sns.violinplot(cebp_ctrl_df.blob_bool, cebp_ctrl_df.mean_cebp, palette= sns.color_palette([cebp_palette[-1], cebp_palette[0]]))"
   ]
  },
  {
   "cell_type": "code",
   "execution_count": 121,
   "metadata": {},
   "outputs": [],
   "source": [
    "ax = sns.distplot(ppar_blob_df.mean_ppar)\n",
    "ax = sns.distplot(ppar_n_blob_df.mean_ppar)"
   ]
  },
  {
   "cell_type": "code",
   "execution_count": 122,
   "metadata": {},
   "outputs": [],
   "source": [
    "'''create cebp control df'''\n",
    "df_late = subcell_g.loc[subcell_g.day >= 3]\n",
    "ppar_blob_df = pd.DataFrame({'mean_ppar' : np.divide(df_late.ppar_blob, df_late.area_blob),\n",
    "                              'blob_bool' : np.ones(len(df_late))})\n",
    "ppar_n_blob_df = pd.DataFrame({'mean_ppar' : np.divide(df_late.ppar_n_blob, df_late.area_n_blob),\n",
    "                              'blob_bool' : np.zeros(len(df_late))})\n",
    "ppar_ctrl_df = pd.concat([ppar_blob_df, ppar_n_blob_df])"
   ]
  },
  {
   "cell_type": "code",
   "execution_count": 125,
   "metadata": {},
   "outputs": [],
   "source": [
    "ax = sns.violinplot(ppar_ctrl_df.blob_bool, ppar_ctrl_df.mean_ppar, palette= sns.color_palette([ppar_palette[-5], ppar_palette[5]]))"
   ]
  },
  {
   "cell_type": "code",
   "execution_count": 124,
   "metadata": {},
   "outputs": [],
   "source": [
    "'''create cebp control df'''\n",
    "df_late = subcell_g.loc[subcell_g.day >= 3]\n",
    "ppar_blob_df = pd.DataFrame({'mean_ppar' : np.divide(df_late.ppar_heteroc, df_late.area_heteroc),\n",
    "                              'blob_bool' : np.ones(len(df_late))})\n",
    "ppar_n_blob_df = pd.DataFrame({'mean_ppar' : np.divide(df_late.ppar_n_heteroc, df_late.area_n_heteroc),\n",
    "                              'blob_bool' : np.zeros(len(df_late))})\n",
    "ppar_ctrl_df = pd.concat([ppar_blob_df, ppar_n_blob_df])"
   ]
  },
  {
   "cell_type": "code",
   "execution_count": 126,
   "metadata": {},
   "outputs": [
    {
     "data": {
      "text/plain": [
       "<matplotlib.axes._subplots.AxesSubplot at 0x1998fc3b948>"
      ]
     },
     "execution_count": 126,
     "metadata": {},
     "output_type": "execute_result"
    }
   ],
   "source": [
    "sns.distplot(np.divide(df_late.ppar_heteroc, df_late.area_heteroc) / np.divide(df_late.ppar_n_heteroc, df_late.area_n_heteroc))"
   ]
  },
  {
   "cell_type": "markdown",
   "metadata": {},
   "source": [
    "### I think that with these controls looking good I can move on to some actual analysis of things\n",
    "\n",
    "### first I need to creat some mean parameters for all of the categories"
   ]
  },
  {
   "cell_type": "code",
   "execution_count": 58,
   "metadata": {},
   "outputs": [],
   "source": [
    "'''creat a bunch of parameters for mean intensities for each channel in each region'''\n",
    "subcell_g = pd.read_csv('global_third_df.csv')\n",
    "subcell_g['rndm'] = np.random.randint(0, 19, len(subcell_g))\n",
    "subcell_g.day = np.around(subcell_g.day, 3)\n",
    "\n",
    "'''average intensities in nucleus'''\n",
    "subcell_g['dapi_nucleus_mean'] = np.divide(subcell_g.dapi_nucleus, subcell_g.area_nucleus)\n",
    "subcell_g['cebp_nucleus_mean'] = np.divide(subcell_g.cebp_nucleus, subcell_g.area_nucleus)\n",
    "subcell_g['ppar_nucleus_mean'] = np.divide(subcell_g.ppar_nucleus, subcell_g.area_nucleus)\n",
    "\n",
    "'''average intensities in the heterochromatin'''\n",
    "subcell_g['dapi_heteroc_mean'] = np.divide(subcell_g.dapi_heteroc, subcell_g.area_heteroc)\n",
    "subcell_g['cebp_heteroc_mean'] = np.divide(subcell_g.cebp_heteroc, subcell_g.area_heteroc)\n",
    "subcell_g['ppar_heteroc_mean'] = np.divide(subcell_g.ppar_heteroc, subcell_g.area_heteroc)\n",
    "\n",
    "'''average intensities not in the heterochromatin'''\n",
    "subcell_g['dapi_n_heteroc_mean'] = np.divide(subcell_g.dapi_n_heteroc, subcell_g.area_n_heteroc)\n",
    "subcell_g['cebp_n_heteroc_mean'] = np.divide(subcell_g.cebp_n_heteroc, subcell_g.area_n_heteroc)\n",
    "subcell_g['ppar_n_heteroc_mean'] = np.divide(subcell_g.ppar_n_heteroc, subcell_g.area_n_heteroc)\n",
    "\n",
    "'''average intensites in +3 heterochromatin'''\n",
    "subcell_g['dapi_p3_heteroc_mean'] = np.divide(subcell_g.dapi_p3_heteroc, subcell_g.area_p3_heteroc)\n",
    "subcell_g['cebp_p3_heteroc_mean'] = np.divide(subcell_g.cebp_p3_heteroc, subcell_g.area_p3_heteroc)\n",
    "subcell_g['ppar_p3_heteroc_mean'] = np.divide(subcell_g.ppar_p3_heteroc, subcell_g.area_p3_heteroc)\n",
    "\n",
    "'''average intensities not in the +3 heterocrhomatin'''\n",
    "subcell_g['dapi_n_p3_heteroc_mean'] = np.divide(subcell_g.dapi_n_p3_heteroc, subcell_g.area_n_p3_heteroc)\n",
    "subcell_g['cebp_n_p3_heteroc_mean'] = np.divide(subcell_g.cebp_n_p3_heteroc, subcell_g.area_n_p3_heteroc)\n",
    "subcell_g['ppar_n_p3_heteroc_mean'] = np.divide(subcell_g.ppar_n_p3_heteroc, subcell_g.area_n_p3_heteroc)\n",
    "\n",
    "'''average intensities in the cebp blobs'''\n",
    "subcell_g['dapi_blob_mean'] = np.divide(subcell_g.dapi_blob, subcell_g.area_blob)\n",
    "subcell_g['cebp_blob_mean'] = np.divide(subcell_g.cebp_blob, subcell_g.area_blob)\n",
    "subcell_g['ppar_blob_mean'] = np.divide(subcell_g.ppar_blob, subcell_g.area_blob)\n",
    "\n",
    "'''average intensities not in the cebp blobs'''\n",
    "subcell_g['dapi_n_blob_mean'] = np.divide(subcell_g.dapi_n_blob, subcell_g.area_n_blob)\n",
    "subcell_g['cebp_n_blob_mean'] = np.divide(subcell_g.cebp_n_blob, subcell_g.area_n_blob)\n",
    "subcell_g['ppar_n_blob_mean'] = np.divide(subcell_g.ppar_n_blob, subcell_g.area_n_blob)\n",
    "\n",
    "'''average intensities in the +1 cebp blobs'''\n",
    "subcell_g['dapi_p1_blob_mean'] = np.divide(subcell_g.dapi_p1_blob, subcell_g.area_p1_blob)\n",
    "subcell_g['cebp_p1_blob_mean'] = np.divide(subcell_g.cebp_p1_blob, subcell_g.area_p1_blob)\n",
    "subcell_g['ppar_p1_blob_mean'] = np.divide(subcell_g.ppar_p1_blob, subcell_g.area_p1_blob)\n",
    "\n",
    "'''average intensities not in the +1 cebp blobs'''\n",
    "subcell_g['dapi_n_p1_blob_mean'] = np.divide(subcell_g.dapi_n_p1_blob, subcell_g.area_n_p1_blob)\n",
    "subcell_g['cebp_n_p1_blob_mean'] = np.divide(subcell_g.cebp_n_p1_blob, subcell_g.area_n_p1_blob)\n",
    "subcell_g['ppar_n_p1_blob_mean'] = np.divide(subcell_g.ppar_n_p1_blob, subcell_g.area_n_p1_blob)\n",
    "\n",
    "'''average intensities in the +2 cebp blobs'''\n",
    "subcell_g['dapi_p2_blob_mean'] = np.divide(subcell_g.dapi_p2_blob, subcell_g.area_p2_blob)\n",
    "subcell_g['cebp_p2_blob_mean'] = np.divide(subcell_g.cebp_p2_blob, subcell_g.area_p2_blob)\n",
    "subcell_g['ppar_p2_blob_mean'] = np.divide(subcell_g.ppar_p2_blob, subcell_g.area_p2_blob)\n",
    "\n",
    "'''average intentisites in the +1 and +2 blobs'''\n",
    "subcell_g['p2_integ_area'] = np.add(subcell_g.area_p1_blob, subcell_g.area_p2_blob)\n",
    "subcell_g['dapi_p2int_blob_mean'] = np.divide(np.add(subcell_g.dapi_p1_blob, subcell_g.dapi_p2_blob), subcell_g.p2_integ_area)\n",
    "subcell_g['cebp_p2int_blob_mean'] = np.divide(np.add(subcell_g.cebp_p1_blob, subcell_g.cebp_p2_blob), subcell_g.p2_integ_area)\n",
    "subcell_g['ppar_p2int_blob_mean'] = np.divide(np.add(subcell_g.ppar_p1_blob, subcell_g.ppar_p2_blob), subcell_g.p2_integ_area)\n",
    "\n",
    "'''average intensities not in the +2 cebp blobs'''\n",
    "subcell_g['dapi_n_p2_blob_mean'] = np.divide(subcell_g.dapi_n_p2_blob, subcell_g.area_n_p2_blob)\n",
    "subcell_g['cebp_n_p2_blob_mean'] = np.divide(subcell_g.cebp_n_p2_blob, subcell_g.area_n_p2_blob)\n",
    "subcell_g['ppar_n_p2_blob_mean'] = np.divide(subcell_g.ppar_n_p2_blob, subcell_g.area_n_p2_blob)\n",
    "\n",
    "'''average intensities in the +3 cebp blobs'''\n",
    "subcell_g['dapi_p3_blob_mean'] = np.divide(subcell_g.dapi_p3_blob, subcell_g.area_p3_blob)\n",
    "subcell_g['cebp_p3_blob_mean'] = np.divide(subcell_g.cebp_p3_blob, subcell_g.area_p3_blob)\n",
    "subcell_g['ppar_p3_blob_mean'] = np.divide(subcell_g.ppar_p3_blob, subcell_g.area_p3_blob)\n",
    "\n",
    "'''average intentisites in the +1, + 2 and +3 blobs'''\n",
    "subcell_g['p3_integ_area'] = np.add(subcell_g.p2_integ_area, subcell_g.area_p3_blob)\n",
    "subcell_g['dapi_p3int_blob_mean'] = np.divide(np.add(subcell_g.dapi_p3_blob, subcell_g.dapi_p2int_blob_mean), subcell_g.p3_integ_area)\n",
    "subcell_g['cebp_p3int_blob_mean'] = np.divide(np.add(subcell_g.cebp_p3_blob, subcell_g.cebp_p2int_blob_mean), subcell_g.p3_integ_area)\n",
    "subcell_g['ppar_p3int_blob_mean'] = np.divide(np.add(subcell_g.ppar_p3_blob, subcell_g.ppar_p2int_blob_mean), subcell_g.p3_integ_area)\n",
    "\n",
    "'''average intensities not in the +3 cebp blobs'''\n",
    "subcell_g['dapi_n_p3_blob_mean'] = np.divide(subcell_g.dapi_n_p3_blob, subcell_g.area_n_p3_blob)\n",
    "subcell_g['cebp_n_p3_blob_mean'] = np.divide(subcell_g.cebp_n_p3_blob, subcell_g.area_n_p3_blob)\n",
    "subcell_g['ppar_n_p3_blob_mean'] = np.divide(subcell_g.ppar_n_p3_blob, subcell_g.area_n_p3_blob)\n",
    "\n",
    "'''average intensities in the +4 cebp blobs'''\n",
    "subcell_g['dapi_p4_blob_mean'] = np.divide(subcell_g.dapi_p4_blob, subcell_g.area_p4_blob)\n",
    "subcell_g['cebp_p4_blob_mean'] = np.divide(subcell_g.cebp_p4_blob, subcell_g.area_p4_blob)\n",
    "subcell_g['ppar_p4_blob_mean'] = np.divide(subcell_g.ppar_p4_blob, subcell_g.area_p4_blob)\n",
    "\n",
    "'''average intentisites in the +1, + 2, +4 and +3 blobs'''\n",
    "subcell_g['p4_integ_area'] = np.add(subcell_g.p3_integ_area, subcell_g.area_p4_blob)\n",
    "subcell_g['dapi_p4int_blob_mean'] = np.divide(np.add(subcell_g.dapi_p4_blob, subcell_g.dapi_p3int_blob_mean), subcell_g.p4_integ_area)\n",
    "subcell_g['cebp_p4int_blob_mean'] = np.divide(np.add(subcell_g.cebp_p4_blob, subcell_g.cebp_p3int_blob_mean), subcell_g.p4_integ_area)\n",
    "subcell_g['ppar_p4int_blob_mean'] = np.divide(np.add(subcell_g.ppar_p4_blob, subcell_g.ppar_p3int_blob_mean), subcell_g.p4_integ_area)\n",
    "\n",
    "'''average intensities not in the +4 cebp blobs'''\n",
    "subcell_g['dapi_n_p4_blob_mean'] = np.divide(subcell_g.dapi_n_p4_blob, subcell_g.area_n_p4_blob)\n",
    "subcell_g['cebp_n_p4_blob_mean'] = np.divide(subcell_g.cebp_n_p4_blob, subcell_g.area_n_p4_blob)\n",
    "subcell_g['ppar_n_p4_blob_mean'] = np.divide(subcell_g.ppar_n_p4_blob, subcell_g.area_n_p4_blob)\n",
    "\n",
    "'''average intensities in the +5 cebp blobs'''\n",
    "subcell_g['dapi_p5_blob_mean'] = np.divide(subcell_g.dapi_p5_blob, subcell_g.area_p5_blob)\n",
    "subcell_g['cebp_p5_blob_mean'] = np.divide(subcell_g.cebp_p5_blob, subcell_g.area_p5_blob)\n",
    "subcell_g['ppar_p5_blob_mean'] = np.divide(subcell_g.ppar_p5_blob, subcell_g.area_p5_blob)\n",
    "\n",
    "'''average intentisites in the +1, + 2, +3 and +5 blobs'''\n",
    "subcell_g['p5_integ_area'] = np.add(subcell_g.p4_integ_area, subcell_g.area_p5_blob)\n",
    "subcell_g['dapi_p5int_blob_mean'] = np.divide(np.add(subcell_g.dapi_p5_blob, subcell_g.dapi_p4int_blob_mean), subcell_g.p5_integ_area)\n",
    "subcell_g['cebp_p5int_blob_mean'] = np.divide(np.add(subcell_g.cebp_p5_blob, subcell_g.cebp_p4int_blob_mean), subcell_g.p5_integ_area)\n",
    "subcell_g['ppar_p5int_blob_mean'] = np.divide(np.add(subcell_g.ppar_p5_blob, subcell_g.ppar_p4int_blob_mean), subcell_g.p5_integ_area)\n",
    "\n",
    "'''average intensities not in the +5 cebp blobs'''\n",
    "subcell_g['dapi_n_p5_blob_mean'] = np.divide(subcell_g.dapi_n_p5_blob, subcell_g.area_n_p5_blob)\n",
    "subcell_g['cebp_n_p5_blob_mean'] = np.divide(subcell_g.cebp_n_p5_blob, subcell_g.area_n_p5_blob)\n",
    "subcell_g['ppar_n_p5_blob_mean'] = np.divide(subcell_g.ppar_n_p5_blob, subcell_g.area_n_p5_blob)\n",
    "\n",
    "'''average intensities in the +5 cebp blobs'''\n",
    "subcell_g['dapi_p6_blob_mean'] = np.divide(subcell_g.dapi_p6_blob, subcell_g.area_p6_blob)\n",
    "subcell_g['cebp_p6_blob_mean'] = np.divide(subcell_g.cebp_p6_blob, subcell_g.area_p6_blob)\n",
    "subcell_g['ppar_p6_blob_mean'] = np.divide(subcell_g.ppar_p6_blob, subcell_g.area_p6_blob)\n",
    "\n",
    "'''average intentisites in the +1, + 2, +3 and +5 blobs'''\n",
    "subcell_g['p6_integ_area'] = np.add(subcell_g.p5_integ_area, subcell_g.area_p6_blob)\n",
    "subcell_g['dapi_p6int_blob_mean'] = np.divide(np.add(subcell_g.dapi_p6_blob, subcell_g.dapi_p5int_blob_mean), subcell_g.p6_integ_area)\n",
    "subcell_g['cebp_p6int_blob_mean'] = np.divide(np.add(subcell_g.cebp_p6_blob, subcell_g.cebp_p5int_blob_mean), subcell_g.p6_integ_area)\n",
    "subcell_g['ppar_p6int_blob_mean'] = np.divide(np.add(subcell_g.ppar_p6_blob, subcell_g.ppar_p5int_blob_mean), subcell_g.p6_integ_area)\n",
    "\n",
    "'''average intensities not in the +5 cebp blobs'''\n",
    "subcell_g['dapi_n_p6_blob_mean'] = np.divide(subcell_g.dapi_n_p6_blob, subcell_g.area_n_p6_blob)\n",
    "subcell_g['cebp_n_p6_blob_mean'] = np.divide(subcell_g.cebp_n_p6_blob, subcell_g.area_n_p6_blob)\n",
    "subcell_g['ppar_n_p6_blob_mean'] = np.divide(subcell_g.ppar_n_p6_blob, subcell_g.area_n_p6_blob)\n",
    "\n",
    "#'''average intensities in the +3 cebp blobs'''\n",
    "#subcell_g['dapi_p3_blob_mean'] = np.divide(subcell_g.dapi_p3_blob, subcell_g.area_p3_blob)\n",
    "#subcell_g['cebp_p3_blob_mean'] = np.divide(subcell_g.cebp_p3_blob, subcell_g.area_p3_blob)\n",
    "#subcell_g['ppar_p3_blob_mean'] = np.divide(subcell_g.ppar_p3_blob, subcell_g.area_p3_blob)\n",
    "#\n",
    "#'''average intentisites in the +1, + 2 and +3 blobs'''\n",
    "#subcell_g['p3_integ_area'] = np.add(subcell_g.p2_integ_area, subcell_g.area_p3_blob)\n",
    "#subcell_g['dapi_p3int_blob_mean'] = np.divide(np.add(subcell_g.dapi_p3_blob, subcell_g.dapi_p2int_blob_mean), subcell_g.p3_integ_area)\n",
    "#subcell_g['cebp_p3int_blob_mean'] = np.divide(np.add(subcell_g.cebp_p3_blob, subcell_g.cebp_p2int_blob_mean), subcell_g.p3_integ_area)\n",
    "#subcell_g['ppar_p3int_blob_mean'] = np.divide(np.add(subcell_g.ppar_p3_blob, subcell_g.ppar_p2int_blob_mean), subcell_g.p3_integ_area)\n",
    "#\n",
    "#'''average intensities not in the +3 cebp blobs'''\n",
    "#subcell_g['dapi_n_p3_blob_mean'] = np.divide(subcell_g.dapi_n_p3_blob, subcell_g.area_n_p3_blob)\n",
    "#subcell_g['cebp_n_p3_blob_mean'] = np.divide(subcell_g.cebp_n_p3_blob, subcell_g.area_n_p3_blob)\n",
    "#subcell_g['ppar_n_p3_blob_mean'] = np.divide(subcell_g.ppar_n_p3_blob, subcell_g.area_n_p3_blob)\n",
    "#\n",
    "'''average intensities in the +7 cebp blobs'''\n",
    "subcell_g['dapi_p7_blob_mean'] = np.divide(subcell_g.dapi_p7_blob, subcell_g.area_p7_blob)\n",
    "subcell_g['cebp_p7_blob_mean'] = np.divide(subcell_g.cebp_p7_blob, subcell_g.area_p7_blob)\n",
    "subcell_g['ppar_p7_blob_mean'] = np.divide(subcell_g.ppar_p7_blob, subcell_g.area_p7_blob)\n",
    "\n",
    "'''average intentisites in the +1, + 2 and +3 blobs'''\n",
    "subcell_g['p7_integ_area'] = np.add(subcell_g.p6_integ_area, subcell_g.area_p7_blob)\n",
    "subcell_g['dapi_p7int_blob_mean'] = np.divide(np.add(subcell_g.dapi_p7_blob, subcell_g.dapi_p6int_blob_mean), subcell_g.p7_integ_area)\n",
    "subcell_g['cebp_p7int_blob_mean'] = np.divide(np.add(subcell_g.cebp_p7_blob, subcell_g.cebp_p6int_blob_mean), subcell_g.p7_integ_area)\n",
    "subcell_g['ppar_p7int_blob_mean'] = np.divide(np.add(subcell_g.ppar_p7_blob, subcell_g.ppar_p6int_blob_mean), subcell_g.p7_integ_area)\n",
    "\n",
    "'''average intensities not in the +3 cebp blobs'''\n",
    "subcell_g['dapi_n_p7_blob_mean'] = np.divide(subcell_g.dapi_n_p7_blob, subcell_g.area_n_p7_blob)\n",
    "subcell_g['cebp_n_p7_blob_mean'] = np.divide(subcell_g.cebp_n_p7_blob, subcell_g.area_n_p7_blob)\n",
    "subcell_g['ppar_n_p7_blob_mean'] = np.divide(subcell_g.ppar_n_p7_blob, subcell_g.area_n_p7_blob)\n"
   ]
  },
  {
   "cell_type": "code",
   "execution_count": 223,
   "metadata": {},
   "outputs": [],
   "source": [
    "ax = sns.distplot(subcell_g.ppar_blob_mean / subcell_g.ppar_n_blob_mean, color = cebp_palette[4])"
   ]
  },
  {
   "cell_type": "code",
   "execution_count": 60,
   "metadata": {},
   "outputs": [],
   "source": [
    "'''create a violinplot looking at cebp intensities as move away from blobs'''\n",
    "\n",
    "df_blob = pd.DataFrame({'cebp_inten' : subcell_g.cebp_blob_mean,\n",
    "                       'dist' : np.zeros(len(subcell_g))})\n",
    "df_p1_blob = pd.DataFrame({'cebp_inten' : subcell_g.cebp_p1_blob_mean,\n",
    "                       'dist' : np.zeros(len(subcell_g)) + 1})\n",
    "df_p2_blob = pd.DataFrame({'cebp_inten' : subcell_g.cebp_p2_blob_mean,\n",
    "                       'dist' : np.zeros(len(subcell_g)) + 2})\n",
    "df_p3_blob = pd.DataFrame({'cebp_inten' : subcell_g.cebp_p3_blob_mean,\n",
    "                       'dist' : np.zeros(len(subcell_g)) + 3})\n",
    "df_p4_blob = pd.DataFrame({'cebp_inten' : subcell_g.cebp_p4_blob_mean,\n",
    "                       'dist' : np.zeros(len(subcell_g)) + 4})\n",
    "df_p5_blob = pd.DataFrame({'cebp_inten' : subcell_g.cebp_p5_blob_mean,\n",
    "                       'dist' : np.zeros(len(subcell_g)) + 5})\n",
    "df_p5_blob = pd.DataFrame({'cebp_inten' : subcell_g.cebp_p6_blob_mean,\n",
    "                       'dist' : np.zeros(len(subcell_g)) + 6})\n",
    "df_p7_blob = pd.DataFrame({'cebp_inten' : subcell_g.cebp_p7_blob_mean,\n",
    "                       'dist' : np.zeros(len(subcell_g)) + 7})\n",
    "df_p8_blob = pd.DataFrame({'cebp_inten' : subcell_g.cebp_n_p7_blob_mean,\n",
    "                       'dist' : np.zeros(len(subcell_g)) + 8})\n",
    "df_blob = pd.concat([df_blob, df_p1_blob, df_p2_blob, df_p3_blob, df_p5_blob, df_p7_blob, df_p8_blob])\n",
    "\n",
    "ax = sns.violinplot(df_blob.dist, df_blob.cebp_inten, palette= cebp_palette)"
   ]
  },
  {
   "cell_type": "code",
   "execution_count": 61,
   "metadata": {},
   "outputs": [],
   "source": [
    "'''create lineplot looking at cebp intensites as move away from blob '''\n",
    "df0 = subcell_g.loc[subcell_g.day == 0]\n",
    "df0 = df0.iloc[:25, :]\n",
    "\n",
    "df_blob = pd.DataFrame({'name' : df0.segm_cebp_imagename,\n",
    "                       'cebp_inten' : df0.cebp_blob_mean,\n",
    "                      'dist' : np.zeros(len(df0))})\n",
    "df_p1_blob = pd.DataFrame({'name' : df0.segm_cebp_imagename,\n",
    "                           'cebp_inten' : df0.cebp_p1_blob_mean,\n",
    "                           'dist' : np.zeros(len(df0)) + 1})\n",
    "df_p2_blob = pd.DataFrame({'name' : df0.segm_cebp_imagename,\n",
    "                           'cebp_inten' : df0.cebp_p2_blob_mean,\n",
    "                           'dist' : np.zeros(len(df0)) + 2})\n",
    "df_p3_blob = pd.DataFrame({'name' : df0.segm_cebp_imagename,\n",
    "                           'cebp_inten' : df0.cebp_p3_blob_mean,\n",
    "                           'dist' : np.zeros(len(df0)) + 3})\n",
    "df_p3_bl4b = pd.DataFrame({'name' : df0.segm_cebp_imagename,\n",
    "                           'cebp_inten' : df0.cebp_p4_blob_mean,\n",
    "                           'dist' : np.zeros(len(df0)) + 4})\n",
    "df_p5_blob = pd.DataFrame({'name' : df0.segm_cebp_imagename,\n",
    "                           'cebp_inten' : df0.cebp_p5_blob_mean,\n",
    "                           'dist' : np.zeros(len(df0)) + 5})\n",
    "df_p6_blob = pd.DataFrame({'name' : df0.segm_cebp_imagename,\n",
    "                           'cebp_inten' : df0.cebp_p6_blob_mean,\n",
    "                           'dist' : np.zeros(len(df0)) + 6})\n",
    "df_p7_blob = pd.DataFrame({'name' : df0.segm_cebp_imagename,\n",
    "                           'cebp_inten' : df0.cebp_p7_blob_mean,\n",
    "                           'dist' : np.zeros(len(df0)) + 7})\n",
    "df_p8_blob = pd.DataFrame({'name' : df0.segm_cebp_imagename,\n",
    "                           'cebp_inten' : df0.cebp_n_p7_blob_mean,\n",
    "                           'dist' : np.zeros(len(df0)) + 8})\n",
    "\n",
    "df_blob = pd.concat([df_blob, df_p1_blob, df_p2_blob, df_p3_blob, df_p5_blob, df_p7_blob, df_p8_blob])\n"
   ]
  },
  {
   "cell_type": "code",
   "execution_count": 62,
   "metadata": {},
   "outputs": [],
   "source": [
    "\n",
    "\n",
    "temp_palette = sns.color_palette(sns.color_palette(\"BuGn_r\", len(np.unique(df_blob.name))))\n",
    "\n",
    "ax = sns.lineplot(df_blob.dist, df_blob.cebp_inten, hue = df_blob.name, palette = temp_palette)\n",
    "ax.legend_.remove()"
   ]
  },
  {
   "cell_type": "code",
   "execution_count": 142,
   "metadata": {},
   "outputs": [
    {
     "data": {
      "text/plain": [
       "45"
      ]
     },
     "execution_count": 142,
     "metadata": {},
     "output_type": "execute_result"
    }
   ],
   "source": [
    "len(df0)"
   ]
  },
  {
   "cell_type": "markdown",
   "metadata": {},
   "source": [
    "### As of right now it seems like most everything is working as I would expect. I suppose that now it it time to actually dig into whether or not there are trends in the cebp blobs"
   ]
  },
  {
   "cell_type": "code",
   "execution_count": 67,
   "metadata": {},
   "outputs": [],
   "source": [
    "areas_palette = sns.color_palette('Greys', 20)\n",
    "ax = sns.stripplot(subcell_g.day, subcell_g.area_nucleus, hue = subcell_g.rndm, palette= areas_palette)\n",
    "ax.legend_.remove()\n",
    "ax = sns.pointplot(subcell_g.day, subcell_g.area_nucleus, color = areas_palette[9], errwidth = 3, ci = 'sd', capsize = .3)"
   ]
  },
  {
   "cell_type": "code",
   "execution_count": 63,
   "metadata": {},
   "outputs": [],
   "source": [
    "'''look at number of cebp beta blobs per cell'''\n",
    "blobs_palette = sns.color_palette('Reds', 20)\n",
    "\n",
    "ax = sns.stripplot(subcell_g.day, subcell_g.count_blob, hue = subcell_g.rndm, palette= blobs_palette)\n",
    "ax.legend_.remove()\n",
    "ax = sns.pointplot(subcell_g.day, subcell_g.count_blob, color = blobs_palette[9], errwidth = 3, ci = 'sd', capsize = .3)"
   ]
  },
  {
   "cell_type": "code",
   "execution_count": 64,
   "metadata": {},
   "outputs": [],
   "source": [
    "'''determine how much of the total nuclear area is occupied by cebp beta blobs'''\n",
    "subcell_g['area_portion_blob'] = np.divide(subcell_g.area_blob, subcell_g.area_nucleus)"
   ]
  },
  {
   "cell_type": "code",
   "execution_count": 65,
   "metadata": {},
   "outputs": [],
   "source": [
    "blobs_palette = sns.color_palette('Oranges', 20)\n",
    "\n",
    "ax = sns.stripplot(subcell_g.day, subcell_g.area_portion_blob, hue = subcell_g.rndm, palette= blobs_palette)\n",
    "ax.legend_.remove()\n",
    "ax = sns.pointplot(subcell_g.day, subcell_g.area_portion_blob, color = blobs_palette[9], errwidth = 3, ci = 'sd', capsize = .3)"
   ]
  },
  {
   "cell_type": "markdown",
   "metadata": {},
   "source": [
    "### Now I would like to see if the blobs are getting brighter relative to the rest of the cell"
   ]
  },
  {
   "cell_type": "code",
   "execution_count": 68,
   "metadata": {},
   "outputs": [],
   "source": [
    "ax = sns.stripplot(subcell_g.day, subcell_g.cebp_blob, hue = subcell_g.rndm, palette = cebp_palette)\n",
    "ax.legend_.remove()\n",
    "ax = sns.pointplot(subcell_g.day, subcell_g.cebp_blob, color = cebp_palette[9], errwidth = 3, ci = 'sd', capsize = .3)"
   ]
  },
  {
   "cell_type": "code",
   "execution_count": 69,
   "metadata": {},
   "outputs": [
    {
     "data": {
      "text/plain": [
       "<matplotlib.legend.Legend at 0x1998be56048>"
      ]
     },
     "execution_count": 69,
     "metadata": {},
     "output_type": "execute_result"
    }
   ],
   "source": [
    "ax1 = sns.lineplot(subcell_g.day, subcell_g.cebp_n_blob, color = cebp_palette[-1], legend = \"full\")\n",
    "ax2 = ax1.twinx()\n",
    "ax2 = sns.lineplot(subcell_g.day, subcell_g.cebp_blob, color = cebp_palette[9], legend = \"full\")\n",
    "\n",
    "plt.legend(['cebp not in blobs'])"
   ]
  },
  {
   "cell_type": "code",
   "execution_count": 71,
   "metadata": {},
   "outputs": [],
   "source": [
    "subcell_g['cebp_blob_normed'] = np.divide(subcell_g.cebp_blob_mean, subcell_g.cebp_nucleus_mean)"
   ]
  },
  {
   "cell_type": "code",
   "execution_count": 72,
   "metadata": {},
   "outputs": [],
   "source": [
    "ax = sns.stripplot(subcell_g.day, subcell_g.cebp_blob_normed, hue = subcell_g.rndm, palette = cebp_palette)\n",
    "ax.legend_.remove()\n",
    "ax = sns.pointplot(subcell_g.day, subcell_g.cebp_blob_normed, color = cebp_palette[9], errwidth = 3, ci = 'sd', capsize = .3)"
   ]
  },
  {
   "cell_type": "code",
   "execution_count": 175,
   "metadata": {},
   "outputs": [],
   "source": [
    "subcell_g['cebp_blob_normed_n_blob'] = np.divide(subcell_g.cebp_blob_mean, subcell_g.cebp_n_blob_mean)"
   ]
  },
  {
   "cell_type": "code",
   "execution_count": 176,
   "metadata": {},
   "outputs": [],
   "source": [
    "ax = sns.stripplot(subcell_g.day, subcell_g.cebp_blob_normed_n_blob, hue = subcell_g.rndm, palette = cebp_palette)\n",
    "ax.legend_.remove()\n",
    "ax = sns.pointplot(subcell_g.day, subcell_g.cebp_blob_normed_n_blob, color = cebp_palette[14], errwidth = 3, ci = 'sd', capsize = .3)"
   ]
  },
  {
   "cell_type": "code",
   "execution_count": 216,
   "metadata": {},
   "outputs": [],
   "source": [
    "ax1 = sns.pointplot(subcell_g.day, subcell_g.cebp_blob_normed, color = cebp_palette[9])\n",
    "ax2 = ax1.twinx()\n",
    "ax2 = sns.pointplot(subcell_g.day, subcell_g.cebp_nucleus_mean, color = 'lawngreen')\n",
    "#plt.legend([ 'cebp_nucleus_mean'])"
   ]
  },
  {
   "cell_type": "code",
   "execution_count": 184,
   "metadata": {},
   "outputs": [],
   "source": [
    "ax1 = sns.pointplot(subcell_g.day, subcell_g.cebp_blob, color = cebp_palette[9])\n",
    "ax2 = ax1.twinx()\n",
    "ax2 = sns.pointplot(subcell_g.day, subcell_g.cebp_n_blob, color = cebp_palette[14])\n"
   ]
  },
  {
   "cell_type": "markdown",
   "metadata": {},
   "source": [
    "### That is all rather interesting but I think that rather than dwell I should as well look a little at the sub cellular locaiton of ppar in the later time points"
   ]
  },
  {
   "cell_type": "code",
   "execution_count": 192,
   "metadata": {},
   "outputs": [],
   "source": [
    "'''plot to see what days to dig into further'''\n",
    "ax = sns.stripplot(subcell_g.day, (np.divide(subcell_g.ppar_nuclues_mean, np.mean(subcell_g.loc[subcell_g.day == 6].ppar_nuclues_mean))))"
   ]
  },
  {
   "cell_type": "code",
   "execution_count": 75,
   "metadata": {},
   "outputs": [],
   "source": [
    "'''create violin looking at cebp intensites as move away from blob '''\n",
    "df3 = subcell_g.loc[subcell_g.day == 3]\n",
    "#df0 = df0.iloc[:25, :]\n",
    "\n",
    "df_blob = pd.DataFrame({'name' : df3.segm_cebp_imagename,\n",
    "                       'ppar_inten' : df3.ppar_blob_mean,\n",
    "                      'dist' : np.zeros(len(df3))})\n",
    "df_p1_blob = pd.DataFrame({'name' : df3.segm_cebp_imagename,\n",
    "                           'ppar_inten' : df3.ppar_p1_blob_mean,\n",
    "                           'dist' : np.zeros(len(df3)) + 1})\n",
    "df_p2_blob = pd.DataFrame({'name' : df3.segm_cebp_imagename,\n",
    "                           'ppar_inten' : df3.ppar_p2_blob_mean,\n",
    "                           'dist' : np.zeros(len(df3)) + 2})\n",
    "df_p3_blob = pd.DataFrame({'name' : df3.segm_cebp_imagename,\n",
    "                           'ppar_inten' : df3.ppar_p3_blob_mean,\n",
    "                           'dist' : np.zeros(len(df3)) + 3})\n",
    "df_p4_blob = pd.DataFrame({'name' : df3.segm_cebp_imagename,\n",
    "                           'ppar_inten' : df3.ppar_p4_blob_mean,\n",
    "                           'dist' : np.zeros(len(df3)) + 4})\n",
    "df_p5_blob = pd.DataFrame({'name' : df3.segm_cebp_imagename,\n",
    "                           'ppar_inten' : df3.ppar_p5_blob_mean,\n",
    "                           'dist' : np.zeros(len(df3)) + 5})\n",
    "df_p6_blob = pd.DataFrame({'name' : df3.segm_cebp_imagename,\n",
    "                           'ppar_inten' : df3.ppar_p6_blob_mean,\n",
    "                           'dist' : np.zeros(len(df3)) + 6})\n",
    "df_p7_blob = pd.DataFrame({'name' : df3.segm_cebp_imagename,\n",
    "                           'ppar_inten' : df3.ppar_p7_blob_mean,\n",
    "                           'dist' : np.zeros(len(df3)) + 7})\n",
    "df_p8_blob = pd.DataFrame({'name' : df3.segm_cebp_imagename,\n",
    "                           'ppar_inten' : df3.ppar_n_p7_blob_mean,\n",
    "                           'dist' : np.zeros(len(df3)) + 8})\n",
    "\n",
    "df_blob = pd.concat([df_blob, df_p1_blob, df_p2_blob, df_p3_blob, df_p4_blob, df_p5_blob, df_p6_blob, df_p7_blob, df_p8_blob])"
   ]
  },
  {
   "cell_type": "code",
   "execution_count": 299,
   "metadata": {},
   "outputs": [],
   "source": [
    "df_blob['day'] = np.zeros(len(df_blob)) + 3\n",
    "df_blob3 = df_blob.copy()"
   ]
  },
  {
   "cell_type": "code",
   "execution_count": 297,
   "metadata": {},
   "outputs": [
    {
     "data": {
      "text/html": [
       "<div>\n",
       "<style scoped>\n",
       "    .dataframe tbody tr th:only-of-type {\n",
       "        vertical-align: middle;\n",
       "    }\n",
       "\n",
       "    .dataframe tbody tr th {\n",
       "        vertical-align: top;\n",
       "    }\n",
       "\n",
       "    .dataframe thead th {\n",
       "        text-align: right;\n",
       "    }\n",
       "</style>\n",
       "<table border=\"1\" class=\"dataframe\">\n",
       "  <thead>\n",
       "    <tr style=\"text-align: right;\">\n",
       "      <th></th>\n",
       "      <th>name</th>\n",
       "      <th>ppar_inten</th>\n",
       "      <th>dist</th>\n",
       "      <th>day</th>\n",
       "    </tr>\n",
       "  </thead>\n",
       "  <tbody>\n",
       "    <tr>\n",
       "      <th>305</th>\n",
       "      <td>stad3-42-xy5_cebp_segm_cell4.tif</td>\n",
       "      <td>1768.695885</td>\n",
       "      <td>8.0</td>\n",
       "      <td>3.0</td>\n",
       "    </tr>\n",
       "    <tr>\n",
       "      <th>321</th>\n",
       "      <td>stad3-43-xy5_cebp_segm_cell2.tif</td>\n",
       "      <td>1877.007123</td>\n",
       "      <td>7.0</td>\n",
       "      <td>3.0</td>\n",
       "    </tr>\n",
       "    <tr>\n",
       "      <th>321</th>\n",
       "      <td>stad3-43-xy5_cebp_segm_cell2.tif</td>\n",
       "      <td>1883.145325</td>\n",
       "      <td>8.0</td>\n",
       "      <td>3.0</td>\n",
       "    </tr>\n",
       "    <tr>\n",
       "      <th>321</th>\n",
       "      <td>stad3-43-xy5_cebp_segm_cell2.tif</td>\n",
       "      <td>1895.852370</td>\n",
       "      <td>5.0</td>\n",
       "      <td>3.0</td>\n",
       "    </tr>\n",
       "    <tr>\n",
       "      <th>305</th>\n",
       "      <td>stad3-42-xy5_cebp_segm_cell4.tif</td>\n",
       "      <td>1908.727238</td>\n",
       "      <td>7.0</td>\n",
       "      <td>3.0</td>\n",
       "    </tr>\n",
       "    <tr>\n",
       "      <th>...</th>\n",
       "      <td>...</td>\n",
       "      <td>...</td>\n",
       "      <td>...</td>\n",
       "      <td>...</td>\n",
       "    </tr>\n",
       "    <tr>\n",
       "      <th>302</th>\n",
       "      <td>stad3-42-xy5_cebp_segm_cell15.tif</td>\n",
       "      <td>22792.798643</td>\n",
       "      <td>5.0</td>\n",
       "      <td>3.0</td>\n",
       "    </tr>\n",
       "    <tr>\n",
       "      <th>302</th>\n",
       "      <td>stad3-42-xy5_cebp_segm_cell15.tif</td>\n",
       "      <td>23093.281988</td>\n",
       "      <td>3.0</td>\n",
       "      <td>3.0</td>\n",
       "    </tr>\n",
       "    <tr>\n",
       "      <th>302</th>\n",
       "      <td>stad3-42-xy5_cebp_segm_cell15.tif</td>\n",
       "      <td>23258.070117</td>\n",
       "      <td>2.0</td>\n",
       "      <td>3.0</td>\n",
       "    </tr>\n",
       "    <tr>\n",
       "      <th>302</th>\n",
       "      <td>stad3-42-xy5_cebp_segm_cell15.tif</td>\n",
       "      <td>23348.456679</td>\n",
       "      <td>1.0</td>\n",
       "      <td>3.0</td>\n",
       "    </tr>\n",
       "    <tr>\n",
       "      <th>302</th>\n",
       "      <td>stad3-42-xy5_cebp_segm_cell15.tif</td>\n",
       "      <td>24156.988630</td>\n",
       "      <td>0.0</td>\n",
       "      <td>3.0</td>\n",
       "    </tr>\n",
       "  </tbody>\n",
       "</table>\n",
       "<p>224 rows × 4 columns</p>\n",
       "</div>"
      ],
      "text/plain": [
       "                                  name    ppar_inten  dist  day\n",
       "305   stad3-42-xy5_cebp_segm_cell4.tif   1768.695885   8.0  3.0\n",
       "321   stad3-43-xy5_cebp_segm_cell2.tif   1877.007123   7.0  3.0\n",
       "321   stad3-43-xy5_cebp_segm_cell2.tif   1883.145325   8.0  3.0\n",
       "321   stad3-43-xy5_cebp_segm_cell2.tif   1895.852370   5.0  3.0\n",
       "305   stad3-42-xy5_cebp_segm_cell4.tif   1908.727238   7.0  3.0\n",
       "..                                 ...           ...   ...  ...\n",
       "302  stad3-42-xy5_cebp_segm_cell15.tif  22792.798643   5.0  3.0\n",
       "302  stad3-42-xy5_cebp_segm_cell15.tif  23093.281988   3.0  3.0\n",
       "302  stad3-42-xy5_cebp_segm_cell15.tif  23258.070117   2.0  3.0\n",
       "302  stad3-42-xy5_cebp_segm_cell15.tif  23348.456679   1.0  3.0\n",
       "302  stad3-42-xy5_cebp_segm_cell15.tif  24156.988630   0.0  3.0\n",
       "\n",
       "[224 rows x 4 columns]"
      ]
     },
     "execution_count": 297,
     "metadata": {},
     "output_type": "execute_result"
    }
   ],
   "source": [
    "df_blob3.sort_values('ppar_inten')"
   ]
  },
  {
   "cell_type": "code",
   "execution_count": 76,
   "metadata": {},
   "outputs": [],
   "source": [
    "ax = sns.violinplot(df_blob.dist, df_blob.ppar_inten, color = ppar_palette[9])"
   ]
  },
  {
   "cell_type": "code",
   "execution_count": 211,
   "metadata": {},
   "outputs": [],
   "source": [
    "'''create violin looking at cebp intensites as move away from blob '''\n",
    "df3 = subcell_g.loc[subcell_g.day == 4]\n",
    "#df0 = df0.iloc[:25, :]\n",
    "\n",
    "df_blob = pd.DataFrame({'name' : df3.segm_cebp_imagename,\n",
    "                       'ppar_inten' : df3.ppar_blob_mean,\n",
    "                      'dist' : np.zeros(len(df3))})\n",
    "df_p1_blob = pd.DataFrame({'name' : df3.segm_cebp_imagename,\n",
    "                           'ppar_inten' : df3.ppar_p1_blob_mean,\n",
    "                           'dist' : np.zeros(len(df3)) + 1})\n",
    "df_p2_blob = pd.DataFrame({'name' : df3.segm_cebp_imagename,\n",
    "                           'ppar_inten' : df3.ppar_p2_blob_mean,\n",
    "                           'dist' : np.zeros(len(df3)) + 2})\n",
    "df_p3_blob = pd.DataFrame({'name' : df3.segm_cebp_imagename,\n",
    "                           'ppar_inten' : df3.ppar_p3_blob_mean,\n",
    "                           'dist' : np.zeros(len(df3)) + 3})\n",
    "df_p5_blob = pd.DataFrame({'name' : df3.segm_cebp_imagename,\n",
    "                           'ppar_inten' : df3.ppar_p5_blob_mean,\n",
    "                           'dist' : np.zeros(len(df3)) + 5})\n",
    "df_p7_blob = pd.DataFrame({'name' : df3.segm_cebp_imagename,\n",
    "                           'ppar_inten' : df3.ppar_p7_blob_mean,\n",
    "                           'dist' : np.zeros(len(df3)) + 7})\n",
    "df_p8_blob = pd.DataFrame({'name' : df3.segm_cebp_imagename,\n",
    "                           'ppar_inten' : df3.ppar_n_p7_blob_mean,\n",
    "                           'dist' : np.zeros(len(df3)) + 8})\n",
    "\n",
    "df_blob = pd.concat([df_blob, df_p1_blob, df_p2_blob, df_p3_blob, df_p5_blob, df_p7_blob, df_p8_blob])"
   ]
  },
  {
   "cell_type": "code",
   "execution_count": 204,
   "metadata": {},
   "outputs": [],
   "source": [
    "ax = sns.violinplot(df_blob.dist, df_blob.ppar_inten, color = ppar_palette[13])"
   ]
  },
  {
   "cell_type": "code",
   "execution_count": 212,
   "metadata": {},
   "outputs": [],
   "source": [
    "df_blob['day'] = np.zeros(len(df_blob)) + 4\n",
    "df_blob4 = df_blob.copy()"
   ]
  },
  {
   "cell_type": "code",
   "execution_count": 77,
   "metadata": {},
   "outputs": [],
   "source": [
    "'''create violin looking at cebp intensites as move away from blob '''\n",
    "df3 = subcell_g.loc[subcell_g.day == 6]\n",
    "#df0 = df0.iloc[:25, :]\n",
    "\n",
    "df_blob = pd.DataFrame({'name' : df3.segm_cebp_imagename,\n",
    "                       'ppar_inten' : df3.ppar_blob_mean,\n",
    "                      'dist' : np.zeros(len(df3))})\n",
    "df_p1_blob = pd.DataFrame({'name' : df3.segm_cebp_imagename,\n",
    "                           'ppar_inten' : df3.ppar_p1_blob_mean,\n",
    "                           'dist' : np.zeros(len(df3)) + 1})\n",
    "df_p2_blob = pd.DataFrame({'name' : df3.segm_cebp_imagename,\n",
    "                           'ppar_inten' : df3.ppar_p2_blob_mean,\n",
    "                           'dist' : np.zeros(len(df3)) + 2})\n",
    "df_p3_blob = pd.DataFrame({'name' : df3.segm_cebp_imagename,\n",
    "                           'ppar_inten' : df3.ppar_p3_blob_mean,\n",
    "                           'dist' : np.zeros(len(df3)) + 3})\n",
    "df_p4_blob = pd.DataFrame({'name' : df3.segm_cebp_imagename,\n",
    "                           'ppar_inten' : df3.ppar_p4_blob_mean,\n",
    "                           'dist' : np.zeros(len(df3)) + 4})\n",
    "df_p5_blob = pd.DataFrame({'name' : df3.segm_cebp_imagename,\n",
    "                           'ppar_inten' : df3.ppar_p5_blob_mean,\n",
    "                           'dist' : np.zeros(len(df3)) + 5})\n",
    "df_p6_blob = pd.DataFrame({'name' : df3.segm_cebp_imagename,\n",
    "                           'ppar_inten' : df3.ppar_p6_blob_mean,\n",
    "                           'dist' : np.zeros(len(df3)) + 6})\n",
    "df_p7_blob = pd.DataFrame({'name' : df3.segm_cebp_imagename,\n",
    "                           'ppar_inten' : df3.ppar_p7_blob_mean,\n",
    "                           'dist' : np.zeros(len(df3)) + 7})\n",
    "df_p8_blob = pd.DataFrame({'name' : df3.segm_cebp_imagename,\n",
    "                           'ppar_inten' : df3.ppar_n_p7_blob_mean,\n",
    "                           'dist' : np.zeros(len(df3)) + 8})\n",
    "\n",
    "df_blob = pd.concat([df_blob, df_p1_blob, df_p2_blob, df_p3_blob,  df_p4_blob, df_p5_blob,  df_p6_blob, df_p7_blob, df_p8_blob])"
   ]
  },
  {
   "cell_type": "code",
   "execution_count": 78,
   "metadata": {},
   "outputs": [],
   "source": [
    "df_blob['day'] = np.zeros(len(df_blob)) + 6\n",
    "df_blob6 = df_blob.copy()"
   ]
  },
  {
   "cell_type": "code",
   "execution_count": 79,
   "metadata": {},
   "outputs": [],
   "source": [
    "ax = sns.violinplot(df_blob.dist, df_blob.ppar_inten, color = ppar_palette[15])"
   ]
  },
  {
   "cell_type": "code",
   "execution_count": 216,
   "metadata": {},
   "outputs": [],
   "source": [
    "df_blob_catted = pd.concat([df_blob3, df_blob4, df_blob6])"
   ]
  },
  {
   "cell_type": "code",
   "execution_count": 223,
   "metadata": {},
   "outputs": [],
   "source": [
    "temp_palette = sns.color_palette([ppar_palette[9],ppar_palette[13],ppar_palette[15]])\n",
    "ax = sns.pointplot(df_blob_catted.dist, df_blob_catted.ppar_inten, hue = df_blob_catted.day, palette= temp_palette, dodge = .4)"
   ]
  },
  {
   "cell_type": "code",
   "execution_count": 304,
   "metadata": {},
   "outputs": [
    {
     "data": {
      "text/plain": [
       "array(['stad3-42-xy5_cebp_segm_cell1.tif',\n",
       "       'stad3-42-xy5_cebp_segm_cell10.tif',\n",
       "       'stad3-42-xy5_cebp_segm_cell11.tif',\n",
       "       'stad3-42-xy5_cebp_segm_cell12.tif',\n",
       "       'stad3-42-xy5_cebp_segm_cell13.tif',\n",
       "       'stad3-42-xy5_cebp_segm_cell15.tif',\n",
       "       'stad3-43-xy5_cebp_segm_cell18.tif',\n",
       "       'stad3-43-xy5_cebp_segm_cell3.tif'], dtype=object)"
      ]
     },
     "execution_count": 304,
     "metadata": {},
     "output_type": "execute_result"
    }
   ],
   "source": [
    "df_blobs3 = df_blob3.sort_values('ppar_inten')\n",
    "\n",
    "df_first = df_blob3.iloc[:, :]\n",
    "df_mid = df_blobs3.iloc[20:25, :]\n",
    "df_last = df_blobs3.iloc[-6:, :]\n",
    "df_blob3_ = pd.concat([df_first, df_mid, df_last])\n",
    "#df_blob3_.dropna()\n",
    "df_blob3_unique_names = np.unique(df_blob3_.name)\n",
    "df_blob3_unique_names"
   ]
  },
  {
   "cell_type": "code",
   "execution_count": 308,
   "metadata": {},
   "outputs": [],
   "source": [
    "df_lst_ = []\n",
    "\n",
    "for i in df_blob3_unique_names:\n",
    "    df_ = df_blob3.loc[df_blob3.name == i]\n",
    "    df_lst_.append(df_)\n",
    "\n",
    "df_blob3_temp = pd.concat(df_lst_)"
   ]
  },
  {
   "cell_type": "code",
   "execution_count": 310,
   "metadata": {},
   "outputs": [],
   "source": [
    "temp_palette = sns.cubehelix_palette(8)\n",
    "ax = sns.lineplot(df_blob3_temp.dist, df_blob3_temp.ppar_inten, hue = df_blob3_temp.name, palette = temp_palette)\n",
    "ax.legend_.remove()"
   ]
  },
  {
   "cell_type": "code",
   "execution_count": 292,
   "metadata": {},
   "outputs": [
    {
     "data": {
      "text/plain": [
       "array(['stad3-42-xy5_cebp_segm_cell1.tif',\n",
       "       'stad3-42-xy5_cebp_segm_cell10.tif',\n",
       "       'stad3-42-xy5_cebp_segm_cell11.tif',\n",
       "       'stad3-42-xy5_cebp_segm_cell12.tif',\n",
       "       'stad3-42-xy5_cebp_segm_cell13.tif',\n",
       "       'stad3-42-xy5_cebp_segm_cell14.tif',\n",
       "       'stad3-42-xy5_cebp_segm_cell15.tif',\n",
       "       'stad3-42-xy5_cebp_segm_cell2.tif',\n",
       "       'stad3-42-xy5_cebp_segm_cell3.tif',\n",
       "       'stad3-42-xy5_cebp_segm_cell4.tif',\n",
       "       'stad3-42-xy5_cebp_segm_cell5.tif',\n",
       "       'stad3-42-xy5_cebp_segm_cell6.tif',\n",
       "       'stad3-42-xy5_cebp_segm_cell7.tif',\n",
       "       'stad3-42-xy5_cebp_segm_cell8.tif',\n",
       "       'stad3-42-xy5_cebp_segm_cell9.tif',\n",
       "       'stad3-43-xy5_cebp_segm_cell1.tif',\n",
       "       'stad3-43-xy5_cebp_segm_cell10.tif',\n",
       "       'stad3-43-xy5_cebp_segm_cell11.tif',\n",
       "       'stad3-43-xy5_cebp_segm_cell12.tif',\n",
       "       'stad3-43-xy5_cebp_segm_cell13.tif',\n",
       "       'stad3-43-xy5_cebp_segm_cell14.tif',\n",
       "       'stad3-43-xy5_cebp_segm_cell15.tif',\n",
       "       'stad3-43-xy5_cebp_segm_cell16.tif',\n",
       "       'stad3-43-xy5_cebp_segm_cell17.tif',\n",
       "       'stad3-43-xy5_cebp_segm_cell18.tif',\n",
       "       'stad3-43-xy5_cebp_segm_cell2.tif',\n",
       "       'stad3-43-xy5_cebp_segm_cell3.tif',\n",
       "       'stad3-43-xy5_cebp_segm_cell4.tif',\n",
       "       'stad3-43-xy5_cebp_segm_cell5.tif',\n",
       "       'stad3-43-xy5_cebp_segm_cell6.tif',\n",
       "       'stad3-43-xy5_cebp_segm_cell7.tif',\n",
       "       'stad3-43-xy5_cebp_segm_cell9.tif'], dtype=object)"
      ]
     },
     "execution_count": 292,
     "metadata": {},
     "output_type": "execute_result"
    }
   ],
   "source": [
    "np.unique(df_blob3_.name.dropna())"
   ]
  },
  {
   "cell_type": "code",
   "execution_count": 290,
   "metadata": {},
   "outputs": [
    {
     "ename": "SyntaxError",
     "evalue": "unexpected EOF while parsing (<ipython-input-290-1a0d1db73614>, line 1)",
     "output_type": "error",
     "traceback": [
      "\u001b[1;36m  File \u001b[1;32m\"<ipython-input-290-1a0d1db73614>\"\u001b[1;36m, line \u001b[1;32m1\u001b[0m\n\u001b[1;33m    len(np.unique(df_blob3.name)\u001b[0m\n\u001b[1;37m                                ^\u001b[0m\n\u001b[1;31mSyntaxError\u001b[0m\u001b[1;31m:\u001b[0m unexpected EOF while parsing\n"
     ]
    }
   ],
   "source": [
    "len()"
   ]
  },
  {
   "cell_type": "markdown",
   "metadata": {},
   "source": [
    "### It looks like there may be something there but I will have to dig into it a little bit further"
   ]
  },
  {
   "cell_type": "code",
   "execution_count": 224,
   "metadata": {},
   "outputs": [],
   "source": [
    "subcell_g['ppar_blob_relative'] = np.divide(subcell_g.ppar_blob_mean, subcell_g.ppar_nucleus_mean)\n",
    "subcell_g['ppar_p1_blob_relative'] = np.divide(subcell_g.ppar_p1_blob_mean, subcell_g.ppar_nucleus_mean)\n",
    "subcell_g['ppar_p2_blob_relative'] = np.divide(subcell_g.ppar_p2_blob_mean, subcell_g.ppar_nucleus_mean)\n",
    "subcell_g['ppar_p3_blob_relative'] = np.divide(subcell_g.ppar_p3_blob_mean, subcell_g.ppar_nucleus_mean)\n",
    "subcell_g['ppar_p5_blob_relative'] = np.divide(subcell_g.ppar_p5_blob_mean, subcell_g.ppar_nucleus_mean)\n",
    "subcell_g['ppar_p7_blob_relative'] = np.divide(subcell_g.ppar_p7_blob_mean, subcell_g.ppar_nucleus_mean)"
   ]
  },
  {
   "cell_type": "code",
   "execution_count": 225,
   "metadata": {},
   "outputs": [],
   "source": [
    "'''create violin looking at cebp intensites as move away from blob '''\n",
    "df3 = subcell_g.loc[subcell_g.day == 3]\n",
    "#df0 = df0.iloc[:25, :]\n",
    "\n",
    "df_blob = pd.DataFrame({'name' : df3.segm_cebp_imagename,\n",
    "                       'ppar_inten' : df3.ppar_blob_relative,\n",
    "                      'dist' : np.zeros(len(df3)),\n",
    "                       'rand' : df3.rndm})\n",
    "df_p1_blob = pd.DataFrame({'name' : df3.segm_cebp_imagename,\n",
    "                           'ppar_inten' : df3.ppar_p1_blob_relative,\n",
    "                           'dist' : np.zeros(len(df3)) + 1,\n",
    "                       'rand' : df3.rndm})\n",
    "df_p2_blob = pd.DataFrame({'name' : df3.segm_cebp_imagename,\n",
    "                           'ppar_inten' : df3.ppar_p2_blob_relative,\n",
    "                           'dist' : np.zeros(len(df3)) + 2,\n",
    "                       'rand' : df3.rndm})\n",
    "df_p3_blob = pd.DataFrame({'name' : df3.segm_cebp_imagename,\n",
    "                           'ppar_inten' : df3.ppar_p3_blob_relative,\n",
    "                           'dist' : np.zeros(len(df3)) + 3,\n",
    "                       'rand' : df3.rndm})\n",
    "df_p4_blob = pd.DataFrame({'name' : df3.segm_cebp_imagename,\n",
    "                           'ppar_inten' : df3.ppar_p3_blob_relative,\n",
    "                           'dist' : np.zeros(len(df3)) + 4,\n",
    "                       'rand' : df3.rndm})\n",
    "df_p5_blob = pd.DataFrame({'name' : df3.segm_cebp_imagename,\n",
    "                           'ppar_inten' : df3.ppar_p5_blob_relative,\n",
    "                           'dist' : np.zeros(len(df3)) + 5,\n",
    "                       'rand' : df3.rndm})\n",
    "df_p6_blob = pd.DataFrame({'name' : df3.segm_cebp_imagename,\n",
    "                           'ppar_inten' : df3.ppar_p5_blob_relative,\n",
    "                           'dist' : np.zeros(len(df3)) + 6,\n",
    "                       'rand' : df3.rndm})\n",
    "df_p7_blob = pd.DataFrame({'name' : df3.segm_cebp_imagename,\n",
    "                           'ppar_inten' : df3.ppar_p7_blob_relative,\n",
    "                           'dist' : np.zeros(len(df3)) + 7,\n",
    "                       'rand' : df3.rndm})\n",
    "#df_p8_blob = pd.DataFrame({'name' : df3.segm_cebp_imagename,\n",
    "                         #  'ppar_inten' : np.ones(len(df3)),\n",
    "                          # 'dist' : np.zeros(len(df3)) + 8,\n",
    "                       #'rand' : df3.rndm})\n",
    "\n",
    "df_blob = pd.concat([df_blob, df_p1_blob, df_p2_blob, df_p3_blob, df_p4_blob, df_p5_blob, df_p6_blob, df_p7_blob])"
   ]
  },
  {
   "cell_type": "code",
   "execution_count": 227,
   "metadata": {},
   "outputs": [],
   "source": [
    "ax = sns.stripplot(df_blob.dist, df_blob.ppar_inten, hue = df_blob.rand, palette = ppar_palette)\n",
    "ax.legend_.remove()\n",
    "ax = sns.pointplot(df_blob.dist, df_blob.ppar_inten, color = ppar_palette[5])"
   ]
  },
  {
   "cell_type": "code",
   "execution_count": 212,
   "metadata": {},
   "outputs": [],
   "source": [
    "'''create violin looking at cebp intensites as move away from blob '''\n",
    "df3 = subcell_g.loc[subcell_g.day == 3]\n",
    "#df0 = df0.iloc[:25, :]\n",
    "\n",
    "df_area_blob = pd.DataFrame({'name' : df3.segm_cebp_imagename,\n",
    "                       'area' : df3.area_blob,\n",
    "                      'dist' : np.zeros(len(df3)),\n",
    "                       'rand' : df3.rndm})\n",
    "df_area_p1_blob = pd.DataFrame({'name' : df3.segm_cebp_imagename,\n",
    "                           'area' : df3.area_p1_blob,\n",
    "                           'dist' : np.zeros(len(df3)) + 1,\n",
    "                       'rand' : df3.rndm})\n",
    "df_area_p2_blob = pd.DataFrame({'name' : df3.segm_cebp_imagename,\n",
    "                           'area' : df3.p2_integ_area,\n",
    "                           'dist' : np.zeros(len(df3)) + 2,\n",
    "                       'rand' : df3.rndm})\n",
    "df_area_p3_blob = pd.DataFrame({'name' : df3.segm_cebp_imagename,\n",
    "                           'area' : df3.p3_integ_area,\n",
    "                           'dist' : np.zeros(len(df3)) + 3,\n",
    "                       'rand' : df3.rndm})\n",
    "df_area_p4_blob = pd.DataFrame({'name' : df3.segm_cebp_imagename,\n",
    "                           'area' : df3.p4_integ_area,\n",
    "                           'dist' : np.zeros(len(df3)) + 4,\n",
    "                       'rand' : df3.rndm})\n",
    "df_area_p5_blob = pd.DataFrame({'name' : df3.segm_cebp_imagename,\n",
    "                           'area' : df3.p5_integ_area,\n",
    "                           'dist' : np.zeros(len(df3)) + 5,\n",
    "                       'rand' : df3.rndm})\n",
    "df_area_p6_blob = pd.DataFrame({'name' : df3.segm_cebp_imagename,\n",
    "                           'area' : df3.p6_integ_area,\n",
    "                           'dist' : np.zeros(len(df3)) + 6,\n",
    "                       'rand' : df3.rndm})\n",
    "df_area_p7_blob = pd.DataFrame({'name' : df3.segm_cebp_imagename,\n",
    "                           'area' : df3.p7_integ_area,\n",
    "                           'dist' : np.zeros(len(df3)) + 7,\n",
    "                       'rand' : df3.rndm})\n",
    "#df_p8_blob = pd.DataFrame({'name' : df3.segm_cebp_imagename,\n",
    " #                          'ppar_inten' : np.ones(len(df3)),\n",
    "  #                         'dist' : np.zeros(len(df3)) + 8,\n",
    "   #                    'rand' : df3.rndm})\n",
    "\n",
    "df_blob = pd.concat([df_area_blob, df_area_p1_blob, df_area_p2_blob, df_area_p3_blob, df_area_p4_blob,\n",
    "                     df_area_p5_blob, df_area_p6_blob, df_area_p7_blob])"
   ]
  },
  {
   "cell_type": "code",
   "execution_count": null,
   "metadata": {},
   "outputs": [],
   "source": []
  },
  {
   "cell_type": "code",
   "execution_count": 213,
   "metadata": {},
   "outputs": [],
   "source": [
    "\n",
    "\n",
    "ax = sns.stripplot(df_blob.dist, df_blob.area, hue = df_blob.rand, palette = areas_palette)\n",
    "ax.legend_.remove()\n",
    "ax = sns.pointplot(df_blob.dist, df_blob.area, color = areas_palette[6])"
   ]
  },
  {
   "cell_type": "code",
   "execution_count": 332,
   "metadata": {},
   "outputs": [],
   "source": [
    "df3_blob3_relative = df_blob.copy()"
   ]
  },
  {
   "cell_type": "code",
   "execution_count": 333,
   "metadata": {},
   "outputs": [],
   "source": [
    "'''create violin looking at cebp intensites as move away from blob '''\n",
    "df3 = subcell_g.loc[subcell_g.day == 4]\n",
    "#df0 = df0.iloc[:25, :]\n",
    "\n",
    "df_blob = pd.DataFrame({'name' : df3.segm_cebp_imagename,\n",
    "                       'ppar_inten' : df3.ppar_blob_relative,\n",
    "                      'dist' : np.zeros(len(df3)),\n",
    "                       'rand' : df3.rndm})\n",
    "df_p1_blob = pd.DataFrame({'name' : df3.segm_cebp_imagename,\n",
    "                           'ppar_inten' : df3.ppar_p1_blob_relative,\n",
    "                           'dist' : np.zeros(len(df3)) + 1,\n",
    "                       'rand' : df3.rndm})\n",
    "df_p2_blob = pd.DataFrame({'name' : df3.segm_cebp_imagename,\n",
    "                           'ppar_inten' : df3.ppar_p2_blob_relative,\n",
    "                           'dist' : np.zeros(len(df3)) + 2,\n",
    "                       'rand' : df3.rndm})\n",
    "df_p3_blob = pd.DataFrame({'name' : df3.segm_cebp_imagename,\n",
    "                           'ppar_inten' : df3.ppar_p3_blob_relative,\n",
    "                           'dist' : np.zeros(len(df3)) + 3,\n",
    "                       'rand' : df3.rndm})\n",
    "df_p5_blob = pd.DataFrame({'name' : df3.segm_cebp_imagename,\n",
    "                           'ppar_inten' : df3.ppar_p5_blob_relative,\n",
    "                           'dist' : np.zeros(len(df3)) + 5,\n",
    "                       'rand' : df3.rndm})\n",
    "df_p7_blob = pd.DataFrame({'name' : df3.segm_cebp_imagename,\n",
    "                           'ppar_inten' : df3.ppar_p7_blob_relative,\n",
    "                           'dist' : np.zeros(len(df3)) + 7,\n",
    "                       'rand' : df3.rndm})\n",
    "df_p8_blob = pd.DataFrame({'name' : df3.segm_cebp_imagename,\n",
    "                           'ppar_inten' : np.ones(len(df3)),\n",
    "                           'dist' : np.zeros(len(df3)) + 8,\n",
    "                       'rand' : df3.rndm})\n",
    "\n",
    "df_blob = pd.concat([df_blob, df_p1_blob, df_p2_blob, df_p3_blob, df_p5_blob, df_p7_blob, df_p8_blob])"
   ]
  },
  {
   "cell_type": "code",
   "execution_count": 334,
   "metadata": {},
   "outputs": [],
   "source": [
    "ax = sns.stripplot(df_blob.dist, df_blob.ppar_inten, hue = df_blob.rand, palette = ppar_palette)\n",
    "ax.legend_.remove()\n",
    "ax = sns.pointplot(df_blob.dist, df_blob.ppar_inten, color = ppar_palette[9])"
   ]
  },
  {
   "cell_type": "code",
   "execution_count": 335,
   "metadata": {},
   "outputs": [],
   "source": [
    "df_blob4_relative = df_blob.copy()"
   ]
  },
  {
   "cell_type": "code",
   "execution_count": 336,
   "metadata": {},
   "outputs": [],
   "source": [
    "'''create violin looking at cebp intensites as move away from blob '''\n",
    "df3 = subcell_g.loc[subcell_g.day == 6]\n",
    "#df0 = df0.iloc[:25, :]\n",
    "\n",
    "df_blob = pd.DataFrame({'name' : df3.segm_cebp_imagename,\n",
    "                       'ppar_inten' : df3.ppar_blob_relative,\n",
    "                      'dist' : np.zeros(len(df3)),\n",
    "                       'rand' : df3.rndm})\n",
    "df_p1_blob = pd.DataFrame({'name' : df3.segm_cebp_imagename,\n",
    "                           'ppar_inten' : df3.ppar_p1_blob_relative,\n",
    "                           'dist' : np.zeros(len(df3)) + 1,\n",
    "                       'rand' : df3.rndm})\n",
    "df_p2_blob = pd.DataFrame({'name' : df3.segm_cebp_imagename,\n",
    "                           'ppar_inten' : df3.ppar_p2_blob_relative,\n",
    "                           'dist' : np.zeros(len(df3)) + 2,\n",
    "                       'rand' : df3.rndm})\n",
    "df_p3_blob = pd.DataFrame({'name' : df3.segm_cebp_imagename,\n",
    "                           'ppar_inten' : df3.ppar_p3_blob_relative,\n",
    "                           'dist' : np.zeros(len(df3)) + 3,\n",
    "                       'rand' : df3.rndm})\n",
    "df_p5_blob = pd.DataFrame({'name' : df3.segm_cebp_imagename,\n",
    "                           'ppar_inten' : df3.ppar_p5_blob_relative,\n",
    "                           'dist' : np.zeros(len(df3)) + 5,\n",
    "                       'rand' : df3.rndm})\n",
    "df_p7_blob = pd.DataFrame({'name' : df3.segm_cebp_imagename,\n",
    "                           'ppar_inten' : df3.ppar_p7_blob_relative,\n",
    "                           'dist' : np.zeros(len(df3)) + 7,\n",
    "                       'rand' : df3.rndm})\n",
    "df_p8_blob = pd.DataFrame({'name' : df3.segm_cebp_imagename,\n",
    "                           'ppar_inten' : np.ones(len(df3)),\n",
    "                           'dist' : np.zeros(len(df3)) + 8,\n",
    "                       'rand' : df3.rndm})\n",
    "\n",
    "df_blob = pd.concat([df_blob, df_p1_blob, df_p2_blob, df_p3_blob, df_p5_blob, df_p7_blob, df_p8_blob])"
   ]
  },
  {
   "cell_type": "code",
   "execution_count": 337,
   "metadata": {},
   "outputs": [],
   "source": [
    "ax = sns.stripplot(df_blob.dist, df_blob.ppar_inten, hue = df_blob.rand, palette = ppar_palette)\n",
    "ax.legend_.remove()\n",
    "ax = sns.pointplot(df_blob.dist, df_blob.ppar_inten, color = ppar_palette[12])"
   ]
  },
  {
   "cell_type": "markdown",
   "metadata": {},
   "source": [
    "### I still a little concerned that this is saying that ppar signal is in the blobs but I think this may be due to over zealous segmentation"
   ]
  },
  {
   "cell_type": "code",
   "execution_count": 339,
   "metadata": {},
   "outputs": [],
   "source": [
    "subcell_g['ppar_heteroc_relative'] = np.divide(subcell_g.ppar_heteroc_mean, subcell_g.ppar_nucleus_mean)\n",
    "subcell_g['ppar_p3_heteroc_relative'] = np.divide(subcell_g.ppar_p3_heteroc_mean, subcell_g.ppar_nucleus_mean)"
   ]
  },
  {
   "cell_type": "code",
   "execution_count": 341,
   "metadata": {},
   "outputs": [],
   "source": [
    "df3 = subcell_g.loc[subcell_g.day == 3]\n",
    "\n",
    "\n",
    "\n",
    "df_blob = pd.DataFrame({'name' : df3.segm_cebp_imagename,\n",
    "                       'ppar_inten' : df3.ppar_heteroc_relative,\n",
    "                      'dist' : np.zeros(len(df3)),\n",
    "                       'rand' : df3.rndm})\n",
    "df_p3_blob = pd.DataFrame({'name' : df3.segm_cebp_imagename,\n",
    "                           'ppar_inten' : df3.ppar_p3_heteroc_relative,\n",
    "                           'dist' : np.zeros(len(df3)) + 1,\n",
    "                       'rand' : df3.rndm})\n",
    "df_p8_blob = pd.DataFrame({'name' : df3.segm_cebp_imagename,\n",
    "                           'ppar_inten' : np.ones(len(df3)),\n",
    "                           'dist' : np.zeros(len(df3)) + 8,\n",
    "                       'rand' : df3.rndm})\n",
    "df_heteroc3 = pd.concat([df_blob, df_p3_blob, df_p8_blob])"
   ]
  },
  {
   "cell_type": "code",
   "execution_count": 343,
   "metadata": {},
   "outputs": [],
   "source": [
    "ax = sns.stripplot(df_heteroc3.dist, df_heteroc3.ppar_inten, hue = df_heteroc3.rand, palette = ppar_palette)\n",
    "ax.legend_.remove()\n",
    "ax = sns.pointplot(df_heteroc3.dist, df_heteroc3.ppar_inten, color = dapi_palette[5])"
   ]
  },
  {
   "cell_type": "code",
   "execution_count": 94,
   "metadata": {},
   "outputs": [],
   "source": [
    "subcell_g['ppar_p1_blob_relative'] = np.divide(subcell_g.ppar_p1_blob_mean, subcell_g.ppar_nucleus_mean)\n",
    "subcell_g['ppar_p2int_blob_relative'] = np.divide(subcell_g.ppar_p2int_blob_mean, subcell_g.ppar_nucleus_mean)\n",
    "subcell_g['ppar_p3int_blob_relative'] = np.divide(subcell_g.ppar_p3int_blob_mean, subcell_g.ppar_nucleus_mean)\n",
    "subcell_g['ppar_p4int_blob_relative'] = np.divide(subcell_g.ppar_p4int_blob_mean, subcell_g.ppar_nucleus_mean)\n",
    "subcell_g['ppar_p5int_blob_relative'] = np.divide(subcell_g.ppar_p5int_blob_mean, subcell_g.ppar_nucleus_mean)\n",
    "subcell_g['ppar_p6int_blob_relative'] = np.divide(subcell_g.ppar_p6int_blob_mean, subcell_g.ppar_nucleus_mean)\n",
    "subcell_g['ppar_p7int_blob_relative'] = np.divide(subcell_g.ppar_p7int_blob_mean, subcell_g.ppar_nucleus_mean)"
   ]
  },
  {
   "cell_type": "code",
   "execution_count": 228,
   "metadata": {},
   "outputs": [],
   "source": [
    "'''create violin looking at integrated PPARg intensites as move away from blob '''\n",
    "df3 = subcell_g.loc[subcell_g.day == 3]\n",
    "#df0 = df0.iloc[:25, :]\n",
    "\n",
    "df_blob = pd.DataFrame({'name' : df3.segm_cebp_imagename,\n",
    "                       'ppar_inten' : df3.ppar_blob_relative,\n",
    "                      'dist' : np.zeros(len(df3)),\n",
    "                       'rand' : df3.rndm})\n",
    "df_p1_blob = pd.DataFrame({'name' : df3.segm_cebp_imagename,\n",
    "                           'ppar_inten' : df3.ppar_p1_blob_relative,\n",
    "                           'dist' : np.zeros(len(df3)) + 1,\n",
    "                       'rand' : df3.rndm})\n",
    "df_p2_blob = pd.DataFrame({'name' : df3.segm_cebp_imagename,\n",
    "                           'ppar_inten' : df3.ppar_p2int_blob_relative,\n",
    "                           'dist' : np.zeros(len(df3)) + 2,\n",
    "                       'rand' : df3.rndm})\n",
    "df_p3_blob = pd.DataFrame({'name' : df3.segm_cebp_imagename,\n",
    "                           'ppar_inten' : df3.ppar_p3int_blob_relative,\n",
    "                           'dist' : np.zeros(len(df3)) + 3,\n",
    "                       'rand' : df3.rndm})\n",
    "df_p4_blob = pd.DataFrame({'name' : df3.segm_cebp_imagename,\n",
    "                           'ppar_inten' : df3.ppar_p4int_blob_relative,\n",
    "                           'dist' : np.zeros(len(df3)) + 4,\n",
    "                       'rand' : df3.rndm})\n",
    "df_p5_blob = pd.DataFrame({'name' : df3.segm_cebp_imagename,\n",
    "                           'ppar_inten' : df3.ppar_p5int_blob_relative,\n",
    "                           'dist' : np.zeros(len(df3)) + 5,\n",
    "                       'rand' : df3.rndm})\n",
    "df_p6_blob = pd.DataFrame({'name' : df3.segm_cebp_imagename,\n",
    "                           'ppar_inten' : df3.ppar_p6int_blob_relative,\n",
    "                           'dist' : np.zeros(len(df3)) + 6,\n",
    "                       'rand' : df3.rndm})\n",
    "df_p7_blob = pd.DataFrame({'name' : df3.segm_cebp_imagename,\n",
    "                           'ppar_inten' : df3.ppar_p7int_blob_relative,\n",
    "                           'dist' : np.zeros(len(df3)) + 7,\n",
    "                       'rand' : df3.rndm})\n",
    "#df_p8_blob = pd.DataFrame({'name' : df3.segm_cebp_imagename,\n",
    "#                           'ppar_inten' : np.ones(len(df3)),\n",
    "#                           'dist' : np.zeros(len(df3)) + 8,\n",
    "#                       'rand' : df3.rndm})\n",
    "\n",
    "df_blob = pd.concat([df_blob, df_p1_blob, df_p2_blob, df_p3_blob, df_p4_blob, df_p5_blob, df_p6_blob, df_p7_blob])"
   ]
  },
  {
   "cell_type": "code",
   "execution_count": 230,
   "metadata": {},
   "outputs": [],
   "source": [
    "ax = sns.stripplot(df_blob.dist, df_blob.ppar_inten, hue = df_blob.rand, palette = ppar_palette)\n",
    "ax.legend_.remove()\n",
    "ax = sns.pointplot(df_blob.dist, df_blob.ppar_inten, color = ppar_palette[5])"
   ]
  },
  {
   "cell_type": "code",
   "execution_count": 103,
   "metadata": {},
   "outputs": [
    {
     "ename": "AttributeError",
     "evalue": "'DataFrame' object has no attribute 'ppar_p2int_blob'",
     "output_type": "error",
     "traceback": [
      "\u001b[1;31m---------------------------------------------------------------------------\u001b[0m",
      "\u001b[1;31mAttributeError\u001b[0m                            Traceback (most recent call last)",
      "\u001b[1;32m<ipython-input-103-39d1677c21e1>\u001b[0m in \u001b[0;36m<module>\u001b[1;34m\u001b[0m\n\u001b[0;32m     12\u001b[0m                        'rand' : df3.rndm})\n\u001b[0;32m     13\u001b[0m df_p2_blob = pd.DataFrame({'name' : df3.segm_cebp_imagename,\n\u001b[1;32m---> 14\u001b[1;33m                            \u001b[1;34m'ppar_inten'\u001b[0m \u001b[1;33m:\u001b[0m \u001b[0mdf3\u001b[0m\u001b[1;33m.\u001b[0m\u001b[0mppar_p2int_blob\u001b[0m\u001b[1;33m,\u001b[0m\u001b[1;33m\u001b[0m\u001b[1;33m\u001b[0m\u001b[0m\n\u001b[0m\u001b[0;32m     15\u001b[0m                            \u001b[1;34m'dist'\u001b[0m \u001b[1;33m:\u001b[0m \u001b[0mnp\u001b[0m\u001b[1;33m.\u001b[0m\u001b[0mzeros\u001b[0m\u001b[1;33m(\u001b[0m\u001b[0mlen\u001b[0m\u001b[1;33m(\u001b[0m\u001b[0mdf3\u001b[0m\u001b[1;33m)\u001b[0m\u001b[1;33m)\u001b[0m \u001b[1;33m+\u001b[0m \u001b[1;36m2\u001b[0m\u001b[1;33m,\u001b[0m\u001b[1;33m\u001b[0m\u001b[1;33m\u001b[0m\u001b[0m\n\u001b[0;32m     16\u001b[0m                        'rand' : df3.rndm})\n",
      "\u001b[1;32m~\\anaconda3\\lib\\site-packages\\pandas\\core\\generic.py\u001b[0m in \u001b[0;36m__getattr__\u001b[1;34m(self, name)\u001b[0m\n\u001b[0;32m   5272\u001b[0m             \u001b[1;32mif\u001b[0m \u001b[0mself\u001b[0m\u001b[1;33m.\u001b[0m\u001b[0m_info_axis\u001b[0m\u001b[1;33m.\u001b[0m\u001b[0m_can_hold_identifiers_and_holds_name\u001b[0m\u001b[1;33m(\u001b[0m\u001b[0mname\u001b[0m\u001b[1;33m)\u001b[0m\u001b[1;33m:\u001b[0m\u001b[1;33m\u001b[0m\u001b[1;33m\u001b[0m\u001b[0m\n\u001b[0;32m   5273\u001b[0m                 \u001b[1;32mreturn\u001b[0m \u001b[0mself\u001b[0m\u001b[1;33m[\u001b[0m\u001b[0mname\u001b[0m\u001b[1;33m]\u001b[0m\u001b[1;33m\u001b[0m\u001b[1;33m\u001b[0m\u001b[0m\n\u001b[1;32m-> 5274\u001b[1;33m             \u001b[1;32mreturn\u001b[0m \u001b[0mobject\u001b[0m\u001b[1;33m.\u001b[0m\u001b[0m__getattribute__\u001b[0m\u001b[1;33m(\u001b[0m\u001b[0mself\u001b[0m\u001b[1;33m,\u001b[0m \u001b[0mname\u001b[0m\u001b[1;33m)\u001b[0m\u001b[1;33m\u001b[0m\u001b[1;33m\u001b[0m\u001b[0m\n\u001b[0m\u001b[0;32m   5275\u001b[0m \u001b[1;33m\u001b[0m\u001b[0m\n\u001b[0;32m   5276\u001b[0m     \u001b[1;32mdef\u001b[0m \u001b[0m__setattr__\u001b[0m\u001b[1;33m(\u001b[0m\u001b[0mself\u001b[0m\u001b[1;33m,\u001b[0m \u001b[0mname\u001b[0m\u001b[1;33m:\u001b[0m \u001b[0mstr\u001b[0m\u001b[1;33m,\u001b[0m \u001b[0mvalue\u001b[0m\u001b[1;33m)\u001b[0m \u001b[1;33m->\u001b[0m \u001b[1;32mNone\u001b[0m\u001b[1;33m:\u001b[0m\u001b[1;33m\u001b[0m\u001b[1;33m\u001b[0m\u001b[0m\n",
      "\u001b[1;31mAttributeError\u001b[0m: 'DataFrame' object has no attribute 'ppar_p2int_blob'"
     ]
    }
   ],
   "source": [
    "'''create violin looking at integrated PPARg intensites as move away from blob '''\n",
    "df3 = subcell_g.loc[subcell_g.day == 6]\n",
    "#df0 = df0.iloc[:25, :]\n",
    "\n",
    "df_blob = pd.DataFrame({'name' : df3.segm_cebp_imagename,\n",
    "                       'ppar_inten' : df3.ppar_blob,\n",
    "                      'dist' : np.zeros(len(df3)),\n",
    "                       'rand' : df3.rndm})\n",
    "df_p1_blob = pd.DataFrame({'name' : df3.segm_cebp_imagename,\n",
    "                           'ppar_inten' : df3.ppar_p1_blob,\n",
    "                           'dist' : np.zeros(len(df3)) + 1,\n",
    "                       'rand' : df3.rndm})\n",
    "df_p2_blob = pd.DataFrame({'name' : df3.segm_cebp_imagename,\n",
    "                           'ppar_inten' : df3.ppar_p2int_blob,\n",
    "                           'dist' : np.zeros(len(df3)) + 2,\n",
    "                       'rand' : df3.rndm})\n",
    "df_p3_blob = pd.DataFrame({'name' : df3.segm_cebp_imagename,\n",
    "                           'ppar_inten' : df3.ppar_p3int_blob,\n",
    "                           'dist' : np.zeros(len(df3)) + 3,\n",
    "                       'rand' : df3.rndm})\n",
    "df_p4_blob = pd.DataFrame({'name' : df3.segm_cebp_imagename,\n",
    "                           'ppar_inten' : df3.ppar_p4int_blob,\n",
    "                           'dist' : np.zeros(len(df3)) + 4,\n",
    "                       'rand' : df3.rndm})\n",
    "df_p5_blob = pd.DataFrame({'name' : df3.segm_cebp_imagename,\n",
    "                           'ppar_inten' : df3.ppar_p5int_blob,\n",
    "                           'dist' : np.zeros(len(df3)) + 5,\n",
    "                       'rand' : df3.rndm})\n",
    "df_p6_blob = pd.DataFrame({'name' : df3.segm_cebp_imagename,\n",
    "                           'ppar_inten' : df3.ppar_p6int_blob,\n",
    "                           'dist' : np.zeros(len(df3)) + 6,\n",
    "                       'rand' : df3.rndm})\n",
    "df_p7_blob = pd.DataFrame({'name' : df3.segm_cebp_imagename,\n",
    "                           'ppar_inten' : df3.ppar_p7int_blob,\n",
    "                           'dist' : np.zeros(len(df3)) + 7,\n",
    "                       'rand' : df3.rndm})\n",
    "#df_p8_blob = pd.DataFrame({'name' : df3.segm_cebp_imagename,\n",
    "#                           'ppar_inten' : np.ones(len(df3)),\n",
    "#                           'dist' : np.zeros(len(df3)) + 8,\n",
    "#                       'rand' : df3.rndm})\n",
    "\n",
    "df_blob = pd.concat([df_blob, df_p1_blob, df_p2_blob, df_p3_blob, df_p4_blob, df_p5_blob, df_p6_blob, df_p7_blob])"
   ]
  },
  {
   "cell_type": "code",
   "execution_count": 105,
   "metadata": {},
   "outputs": [
    {
     "data": {
      "text/plain": [
       "['Unnamed: 0',\n",
       " 'segm_cebp_imagename',\n",
       " 'day',\n",
       " 'area_nucleus',\n",
       " 'xcoord_nucleus',\n",
       " 'ycoord_nucleus',\n",
       " 'dapi_nucleus',\n",
       " 'cebp_nucleus',\n",
       " 'ppar_nucleus',\n",
       " 'count_heteroc',\n",
       " 'area_heteroc',\n",
       " 'dapi_heteroc',\n",
       " 'cebp_heteroc',\n",
       " 'ppar_heteroc',\n",
       " 'area_n_heteroc',\n",
       " 'dapi_n_heteroc',\n",
       " 'cebp_n_heteroc',\n",
       " 'ppar_n_heteroc',\n",
       " 'area_p3_heteroc',\n",
       " 'dapi_p3_heteroc',\n",
       " 'cebp_p3_heteroc',\n",
       " 'ppar_p3_heteroc',\n",
       " 'area_n_p3_heteroc',\n",
       " 'dapi_n_p3_heteroc',\n",
       " 'cebp_n_p3_heteroc',\n",
       " 'ppar_n_p3_heteroc',\n",
       " 'area_blob',\n",
       " 'count_blob',\n",
       " 'dapi_blob',\n",
       " 'cebp_blob',\n",
       " 'ppar_blob',\n",
       " 'area_n_blob',\n",
       " 'dapi_n_blob',\n",
       " 'cebp_n_blob',\n",
       " 'ppar_n_blob',\n",
       " 'area_p1_blob',\n",
       " 'dapi_p1_blob',\n",
       " 'cebp_p1_blob',\n",
       " 'ppar_p1_blob',\n",
       " 'area_n_p1_blob',\n",
       " 'dapi_n_p1_blob',\n",
       " 'cebp_n_p1_blob',\n",
       " 'ppar_n_p1_blob',\n",
       " 'area_p2_blob',\n",
       " 'dapi_p2_blob',\n",
       " 'cebp_p2_blob',\n",
       " 'ppar_p2_blob',\n",
       " 'area_n_p2_blob',\n",
       " 'dapi_n_p2_blob',\n",
       " 'cebp_n_p2_blob',\n",
       " 'ppar_n_p2_blob',\n",
       " 'area_p3_blob',\n",
       " 'dapi_p3_blob',\n",
       " 'cebp_p3_blob',\n",
       " 'ppar_p3_blob',\n",
       " 'area_n_p3_blob',\n",
       " 'dapi_n_p3_blob',\n",
       " 'cebp_n_p3_blob',\n",
       " 'ppar_n_p3_blob',\n",
       " 'area_p4_blob',\n",
       " 'dapi_p4_blob',\n",
       " 'cebp_p4_blob',\n",
       " 'ppar_p4_blob',\n",
       " 'area_n_p4_blob',\n",
       " 'dapi_n_p4_blob',\n",
       " 'cebp_n_p4_blob',\n",
       " 'ppar_n_p4_blob',\n",
       " 'area_p5_blob',\n",
       " 'dapi_p5_blob',\n",
       " 'cebp_p5_blob',\n",
       " 'ppar_p5_blob',\n",
       " 'area_n_p5_blob',\n",
       " 'dapi_n_p5_blob',\n",
       " 'cebp_n_p5_blob',\n",
       " 'ppar_n_p5_blob',\n",
       " 'area_p6_blob',\n",
       " 'dapi_p6_blob',\n",
       " 'cebp_p6_blob',\n",
       " 'ppar_p6_blob',\n",
       " 'area_n_p6_blob',\n",
       " 'dapi_n_p6_blob',\n",
       " 'cebp_n_p6_blob',\n",
       " 'ppar_n_p6_blob',\n",
       " 'area_p7_blob',\n",
       " 'dapi_p7_blob',\n",
       " 'cebp_p7_blob',\n",
       " 'ppar_p7_blob',\n",
       " 'area_n_p7_blob',\n",
       " 'dapi_n_p7_blob',\n",
       " 'cebp_n_p7_blob',\n",
       " 'ppar_n_p7_blob',\n",
       " 'rndm',\n",
       " 'dapi_nucleus_mean',\n",
       " 'cebp_nucleus_mean',\n",
       " 'ppar_nucleus_mean',\n",
       " 'dapi_heteroc_mean',\n",
       " 'cebp_heteroc_mean',\n",
       " 'ppar_heteroc_mean',\n",
       " 'dapi_n_heteroc_mean',\n",
       " 'cebp_n_heteroc_mean',\n",
       " 'ppar_n_heteroc_mean',\n",
       " 'dapi_p3_heteroc_mean',\n",
       " 'cebp_p3_heteroc_mean',\n",
       " 'ppar_p3_heteroc_mean',\n",
       " 'dapi_n_p3_heteroc_mean',\n",
       " 'cebp_n_p3_heteroc_mean',\n",
       " 'ppar_n_p3_heteroc_mean',\n",
       " 'dapi_blob_mean',\n",
       " 'cebp_blob_mean',\n",
       " 'ppar_blob_mean',\n",
       " 'dapi_n_blob_mean',\n",
       " 'cebp_n_blob_mean',\n",
       " 'ppar_n_blob_mean',\n",
       " 'dapi_p1_blob_mean',\n",
       " 'cebp_p1_blob_mean',\n",
       " 'ppar_p1_blob_mean',\n",
       " 'dapi_n_p1_blob_mean',\n",
       " 'cebp_n_p1_blob_mean',\n",
       " 'ppar_n_p1_blob_mean',\n",
       " 'dapi_p2_blob_mean',\n",
       " 'cebp_p2_blob_mean',\n",
       " 'ppar_p2_blob_mean',\n",
       " 'p2_integ_area',\n",
       " 'dapi_p2int_blob_mean',\n",
       " 'cebp_p2int_blob_mean',\n",
       " 'ppar_p2int_blob_mean',\n",
       " 'dapi_n_p2_blob_mean',\n",
       " 'cebp_n_p2_blob_mean',\n",
       " 'ppar_n_p2_blob_mean',\n",
       " 'dapi_p3_blob_mean',\n",
       " 'cebp_p3_blob_mean',\n",
       " 'ppar_p3_blob_mean',\n",
       " 'p3_integ_area',\n",
       " 'dapi_p3int_blob_mean',\n",
       " 'cebp_p3int_blob_mean',\n",
       " 'ppar_p3int_blob_mean',\n",
       " 'dapi_n_p3_blob_mean',\n",
       " 'cebp_n_p3_blob_mean',\n",
       " 'ppar_n_p3_blob_mean',\n",
       " 'dapi_p4_blob_mean',\n",
       " 'cebp_p4_blob_mean',\n",
       " 'ppar_p4_blob_mean',\n",
       " 'p4_integ_area',\n",
       " 'dapi_p4int_blob_mean',\n",
       " 'cebp_p4int_blob_mean',\n",
       " 'ppar_p4int_blob_mean',\n",
       " 'dapi_n_p4_blob_mean',\n",
       " 'cebp_n_p4_blob_mean',\n",
       " 'ppar_n_p4_blob_mean',\n",
       " 'dapi_p5_blob_mean',\n",
       " 'cebp_p5_blob_mean',\n",
       " 'ppar_p5_blob_mean',\n",
       " 'p5_integ_area',\n",
       " 'dapi_p5int_blob_mean',\n",
       " 'cebp_p5int_blob_mean',\n",
       " 'ppar_p5int_blob_mean',\n",
       " 'dapi_n_p5_blob_mean',\n",
       " 'cebp_n_p5_blob_mean',\n",
       " 'ppar_n_p5_blob_mean',\n",
       " 'dapi_p6_blob_mean',\n",
       " 'cebp_p6_blob_mean',\n",
       " 'ppar_p6_blob_mean',\n",
       " 'p6_integ_area',\n",
       " 'dapi_p6int_blob_mean',\n",
       " 'cebp_p6int_blob_mean',\n",
       " 'ppar_p6int_blob_mean',\n",
       " 'dapi_n_p6_blob_mean',\n",
       " 'cebp_n_p6_blob_mean',\n",
       " 'ppar_n_p6_blob_mean',\n",
       " 'dapi_p7_blob_mean',\n",
       " 'cebp_p7_blob_mean',\n",
       " 'ppar_p7_blob_mean',\n",
       " 'p7_integ_area',\n",
       " 'dapi_p7int_blob_mean',\n",
       " 'cebp_p7int_blob_mean',\n",
       " 'ppar_p7int_blob_mean',\n",
       " 'dapi_n_p7_blob_mean',\n",
       " 'cebp_n_p7_blob_mean',\n",
       " 'ppar_n_p7_blob_mean',\n",
       " 'area_portion_blob',\n",
       " 'cebp_blob_normed',\n",
       " 'ppar_blob_relative',\n",
       " 'ppar_p1_blob_relative',\n",
       " 'ppar_p2_blob_relative',\n",
       " 'ppar_p3_blob_relative',\n",
       " 'ppar_p5_blob_relative',\n",
       " 'ppar_p7_blob_relative',\n",
       " 'ppar_p2int_blob_relative',\n",
       " 'ppar_p3int_blob_relative',\n",
       " 'ppar_p4int_blob_relative',\n",
       " 'ppar_p5int_blob_relative',\n",
       " 'ppar_p6int_blob_relative',\n",
       " 'ppar_p7int_blob_relative']"
      ]
     },
     "execution_count": 105,
     "metadata": {},
     "output_type": "execute_result"
    }
   ],
   "source": [
    "list(subcell_g)"
   ]
  },
  {
   "cell_type": "markdown",
   "metadata": {},
   "source": [
    "### I need to generat some more figures for group meeting presentation"
   ]
  },
  {
   "cell_type": "code",
   "execution_count": 145,
   "metadata": {},
   "outputs": [
    {
     "data": {
      "text/plain": [
       "['Unnamed: 0',\n",
       " 'label',\n",
       " 'area',\n",
       " 'centroid-0',\n",
       " 'centroid-1',\n",
       " 'day',\n",
       " 'dapi_integrated',\n",
       " 'cebp_integrated',\n",
       " 'ppar_integrated',\n",
       " 'rndm',\n",
       " 'ppar_mean',\n",
       " 'cebp_mean',\n",
       " 'dapi_mean']"
      ]
     },
     "execution_count": 145,
     "metadata": {},
     "output_type": "execute_result"
    }
   ],
   "source": [
    "list(whole_cell)"
   ]
  },
  {
   "cell_type": "code",
   "execution_count": 148,
   "metadata": {},
   "outputs": [],
   "source": [
    "cebp_std_lst = []\n",
    "cebp_time_lst = []\n",
    "\n",
    "for i in np.unique(whole_cell.day):\n",
    "    cebp_time_lst.append(i)\n",
    "    df_ = whole_cell.loc[whole_cell.day == i]\n",
    "    cebp_std_lst.append(np.std(df_.cebp_mean))"
   ]
  },
  {
   "cell_type": "code",
   "execution_count": 149,
   "metadata": {},
   "outputs": [
    {
     "data": {
      "text/plain": [
       "[<matplotlib.lines.Line2D at 0x1998c3bbf08>]"
      ]
     },
     "execution_count": 149,
     "metadata": {},
     "output_type": "execute_result"
    }
   ],
   "source": [
    "plt.plot(cebp_time_lst, cebp_std_lst, color = cebp_palette[11])"
   ]
  },
  {
   "cell_type": "code",
   "execution_count": 150,
   "metadata": {},
   "outputs": [
    {
     "data": {
      "text/plain": [
       "399"
      ]
     },
     "execution_count": 150,
     "metadata": {},
     "output_type": "execute_result"
    }
   ],
   "source": [
    "len(subcell_g)"
   ]
  },
  {
   "cell_type": "code",
   "execution_count": 151,
   "metadata": {},
   "outputs": [
    {
     "data": {
      "text/plain": [
       "2260"
      ]
     },
     "execution_count": 151,
     "metadata": {},
     "output_type": "execute_result"
    }
   ],
   "source": [
    "len(whole_cell)"
   ]
  },
  {
   "cell_type": "code",
   "execution_count": 152,
   "metadata": {},
   "outputs": [],
   "source": [
    "ax = sns.stripplot(subcell_b.day, subcell_b.cebp_blob)"
   ]
  },
  {
   "cell_type": "code",
   "execution_count": 154,
   "metadata": {},
   "outputs": [
    {
     "data": {
      "text/plain": [
       "4"
      ]
     },
     "execution_count": 154,
     "metadata": {},
     "output_type": "execute_result"
    }
   ],
   "source": [
    "int(np.random.randint(0, 19, 1))"
   ]
  },
  {
   "cell_type": "code",
   "execution_count": 158,
   "metadata": {},
   "outputs": [
    {
     "name": "stderr",
     "output_type": "stream",
     "text": [
      "C:\\Users\\LegantLab\\anaconda3\\lib\\site-packages\\ipykernel_launcher.py:4: SettingWithCopyWarning: \n",
      "A value is trying to be set on a copy of a slice from a DataFrame.\n",
      "Try using .loc[row_indexer,col_indexer] = value instead\n",
      "\n",
      "See the caveats in the documentation: https://pandas.pydata.org/pandas-docs/stable/user_guide/indexing.html#returning-a-view-versus-a-copy\n",
      "  after removing the cwd from sys.path.\n"
     ]
    }
   ],
   "source": [
    "df_lst_temp = []\n",
    "for i in np.unique(subcell_b.segm_cebp_imagename_blob_lst):\n",
    "    df_ = subcell_b.loc[subcell_b.segm_cebp_imagename_blob_lst == i]\n",
    "    df_['rand'] = int(np.random.randint(0, 19, 1))\n",
    "    df_lst_temp.append(df_)\n",
    "df = pd.concat(df_lst_temp)"
   ]
  },
  {
   "cell_type": "code",
   "execution_count": 161,
   "metadata": {},
   "outputs": [],
   "source": [
    "df.day = np.around(df.day, 3)"
   ]
  },
  {
   "cell_type": "code",
   "execution_count": 187,
   "metadata": {},
   "outputs": [],
   "source": [
    "ax = sns.pointplot(df.day, df.cebp_blob, hue = df.rand, palette= cebp_temp_palette, dodge= .75, ci ='sd', join= False)\n",
    "ax.legend_.remove()\n",
    "#ax = sns.lineplot(subcell_g.day, subcell_g.cebp_blob, ci = 'none', color = cebp_palette[5])"
   ]
  },
  {
   "cell_type": "code",
   "execution_count": 168,
   "metadata": {},
   "outputs": [],
   "source": [
    "ax = sns.pointplot(subcell_g.day, subcell_g.cebp_nucleus, ci = None, color = cebp_palette[5])"
   ]
  },
  {
   "cell_type": "code",
   "execution_count": 186,
   "metadata": {},
   "outputs": [],
   "source": [
    "cebp_temp_palette = [cebp_palette[0],\n",
    "                    cebp_palette[19],\n",
    "                     cebp_palette[1],\n",
    "                    cebp_palette[18],\n",
    "                     cebp_palette[2],\n",
    "                    cebp_palette[17],\n",
    "                     cebp_palette[3],\n",
    "                    cebp_palette[16],\n",
    "                     cebp_palette[4],\n",
    "                    cebp_palette[15],\n",
    "                     cebp_palette[5],\n",
    "                    cebp_palette[14],\n",
    "                     cebp_palette[5],\n",
    "                    cebp_palette[13],\n",
    "                     cebp_palette[7],\n",
    "                    cebp_palette[12],\n",
    "                     cebp_palette[8],\n",
    "                    cebp_palette[11],\n",
    "                     cebp_palette[9],\n",
    "                    cebp_palette[10],\n",
    "                    ]"
   ]
  },
  {
   "cell_type": "code",
   "execution_count": 183,
   "metadata": {},
   "outputs": [
    {
     "data": {
      "text/plain": [
       "20"
      ]
     },
     "execution_count": 183,
     "metadata": {},
     "output_type": "execute_result"
    }
   ],
   "source": [
    "len(cebp_palette)"
   ]
  },
  {
   "cell_type": "code",
   "execution_count": 193,
   "metadata": {},
   "outputs": [],
   "source": [
    "ax = sns.distplot(subcell_g.cebp_heteroc_mean / subcell_g.cebp_n_heteroc_mean, color = cebp_palette[3])"
   ]
  },
  {
   "cell_type": "code",
   "execution_count": 191,
   "metadata": {},
   "outputs": [],
   "source": [
    "df3 = subcell_g.loc[subcell_g.day >= 3]\n",
    "ax = sns.distplot(df3.ppar_heteroc / subcell_g.ppar_n_heteroc, color = ppar_palette[3])"
   ]
  },
  {
   "cell_type": "code",
   "execution_count": 194,
   "metadata": {},
   "outputs": [],
   "source": [
    "ax = sns.distplot(subcell_g.dapi_heteroc_mean / subcell_g.dapi_n_heteroc_mean, color = dapi_palette[3])"
   ]
  },
  {
   "cell_type": "code",
   "execution_count": null,
   "metadata": {},
   "outputs": [],
   "source": []
  },
  {
   "cell_type": "code",
   "execution_count": 231,
   "metadata": {},
   "outputs": [],
   "source": [
    "subcell_g['dapi_p1_blob_relative'] = np.divide(subcell_g.dapi_p1_blob_mean, subcell_g.dapi_nucleus_mean)\n",
    "subcell_g['dapi_p2int_blob_relative'] = np.divide(subcell_g.dapi_p2int_blob_mean, subcell_g.dapi_nucleus_mean)\n",
    "subcell_g['dapi_p3int_blob_relative'] = np.divide(subcell_g.dapi_p3int_blob_mean, subcell_g.dapi_nucleus_mean)\n",
    "subcell_g['dapi_p4int_blob_relative'] = np.divide(subcell_g.dapi_p4int_blob_mean, subcell_g.dapi_nucleus_mean)\n",
    "subcell_g['dapi_p5int_blob_relative'] = np.divide(subcell_g.dapi_p5int_blob_mean, subcell_g.dapi_nucleus_mean)\n",
    "subcell_g['dapi_p6int_blob_relative'] = np.divide(subcell_g.dapi_p6int_blob_mean, subcell_g.dapi_nucleus_mean)\n",
    "subcell_g['dapi_p7int_blob_relative'] = np.divide(subcell_g.dapi_p7int_blob_mean, subcell_g.dapi_nucleus_mean)"
   ]
  },
  {
   "cell_type": "code",
   "execution_count": 232,
   "metadata": {},
   "outputs": [],
   "source": [
    "'''create violin looking at integrated PPARg intensites as move away from blob '''\n",
    "df3 = subcell_g.loc[subcell_g.day == 3]\n",
    "#df0 = df0.iloc[:25, :]\n",
    "\n",
    "df_blob = pd.DataFrame({'name' : df3.segm_cebp_imagename,\n",
    "                       'ppar_inten' : df3.dapi_blob_relative,\n",
    "                      'dist' : np.zeros(len(df3)),\n",
    "                       'rand' : df3.rndm})\n",
    "df_p1_blob = pd.DataFrame({'name' : df3.segm_cebp_imagename,\n",
    "                           'ppar_inten' : df3.dapi_p1_blob_relative,\n",
    "                           'dist' : np.zeros(len(df3)) + 1,\n",
    "                       'rand' : df3.rndm})\n",
    "df_p2_blob = pd.DataFrame({'name' : df3.segm_cebp_imagename,\n",
    "                           'ppar_inten' : df3.dapi_p2int_blob_relative,\n",
    "                           'dist' : np.zeros(len(df3)) + 2,\n",
    "                       'rand' : df3.rndm})\n",
    "df_p3_blob = pd.DataFrame({'name' : df3.segm_cebp_imagename,\n",
    "                           'ppar_inten' : df3.dapi_p3int_blob_relative,\n",
    "                           'dist' : np.zeros(len(df3)) + 3,\n",
    "                       'rand' : df3.rndm})\n",
    "df_p4_blob = pd.DataFrame({'name' : df3.segm_cebp_imagename,\n",
    "                           'ppar_inten' : df3.dapi_p4int_blob_relative,\n",
    "                           'dist' : np.zeros(len(df3)) + 4,\n",
    "                       'rand' : df3.rndm})\n",
    "df_p5_blob = pd.DataFrame({'name' : df3.segm_cebp_imagename,\n",
    "                           'ppar_inten' : df3.dapi_p5int_blob_relative,\n",
    "                           'dist' : np.zeros(len(df3)) + 5,\n",
    "                       'rand' : df3.rndm})\n",
    "df_p6_blob = pd.DataFrame({'name' : df3.segm_cebp_imagename,\n",
    "                           'ppar_inten' : df3.dapi_p6int_blob_relative,\n",
    "                           'dist' : np.zeros(len(df3)) + 6,\n",
    "                       'rand' : df3.rndm})\n",
    "df_p7_blob = pd.DataFrame({'name' : df3.segm_cebp_imagename,\n",
    "                           'ppar_inten' : df3.dapi_p7int_blob_relative,\n",
    "                           'dist' : np.zeros(len(df3)) + 7,\n",
    "                       'rand' : df3.rndm})\n",
    "#df_p8_blob = pd.DataFrame({'name' : df3.segm_cebp_imagename,\n",
    "#                           'ppar_inten' : np.ones(len(df3)),\n",
    "#                           'dist' : np.zeros(len(df3)) + 8,\n",
    "#                       'rand' : df3.rndm})\n",
    "\n",
    "df_blob = pd.concat([df_blob, df_p1_blob, df_p2_blob, df_p3_blob, df_p4_blob, df_p5_blob, df_p6_blob, df_p7_blob])"
   ]
  },
  {
   "cell_type": "code",
   "execution_count": 233,
   "metadata": {},
   "outputs": [],
   "source": [
    "ax = sns.stripplot(df_blob.dist, df_blob.ppar_inten, hue = df_blob.rand, palette = dapi_palette)\n",
    "ax.legend_.remove()\n",
    "ax = sns.pointplot(df_blob.dist, df_blob.ppar_inten, color = dapi_palette[12])"
   ]
  },
  {
   "cell_type": "code",
   "execution_count": 200,
   "metadata": {},
   "outputs": [],
   "source": [
    "\n",
    "subcell_g['dapi_blob_relative'] = np.divide(subcell_g.dapi_blob_mean, subcell_g.dapi_nucleus_mean)\n",
    "subcell_g['dapi_p1_blob_relative'] = np.divide(subcell_g.dapi_p1_blob_mean, subcell_g.dapi_nucleus_mean)\n",
    "subcell_g['dapi_p2_blob_relative'] = np.divide(subcell_g.dapi_p2_blob_mean, subcell_g.dapi_nucleus_mean)\n",
    "subcell_g['dapi_p3_blob_relative'] = np.divide(subcell_g.dapi_p3_blob_mean, subcell_g.dapi_nucleus_mean)\n",
    "subcell_g['dapi_p5_blob_relative'] = np.divide(subcell_g.dapi_p5_blob_mean, subcell_g.dapi_nucleus_mean)\n",
    "subcell_g['dapi_p7_blob_relative'] = np.divide(subcell_g.dapi_p7_blob_mean, subcell_g.dapi_nucleus_mean)"
   ]
  },
  {
   "cell_type": "code",
   "execution_count": 201,
   "metadata": {},
   "outputs": [],
   "source": [
    "'''create violin looking at cebp intensites as move away from blob '''\n",
    "df3 = subcell_g.loc[subcell_g.day == 3]\n",
    "#df0 = df0.iloc[:25, :]\n",
    "\n",
    "df_blob = pd.DataFrame({'name' : df3.segm_cebp_imagename,\n",
    "                       'ppar_inten' : df3.dapi_blob_relative,\n",
    "                      'dist' : np.zeros(len(df3)),\n",
    "                       'rand' : df3.rndm})\n",
    "df_p1_blob = pd.DataFrame({'name' : df3.segm_cebp_imagename,\n",
    "                           'ppar_inten' : df3.dapi_p1_blob_relative,\n",
    "                           'dist' : np.zeros(len(df3)) + 1,\n",
    "                       'rand' : df3.rndm})\n",
    "df_p2_blob = pd.DataFrame({'name' : df3.segm_cebp_imagename,\n",
    "                           'ppar_inten' : df3.dapi_p2_blob_relative,\n",
    "                           'dist' : np.zeros(len(df3)) + 2,\n",
    "                       'rand' : df3.rndm})\n",
    "df_p3_blob = pd.DataFrame({'name' : df3.segm_cebp_imagename,\n",
    "                           'ppar_inten' : df3.dapi_p3_blob_relative,\n",
    "                           'dist' : np.zeros(len(df3)) + 3,\n",
    "                       'rand' : df3.rndm})\n",
    "df_p4_blob = pd.DataFrame({'name' : df3.segm_cebp_imagename,\n",
    "                           'ppar_inten' : df3.dapi_p3_blob_relative,\n",
    "                           'dist' : np.zeros(len(df3)) + 4,\n",
    "                       'rand' : df3.rndm})\n",
    "df_p5_blob = pd.DataFrame({'name' : df3.segm_cebp_imagename,\n",
    "                           'ppar_inten' : df3.dapi_p5_blob_relative,\n",
    "                           'dist' : np.zeros(len(df3)) + 5,\n",
    "                       'rand' : df3.rndm})\n",
    "df_p6_blob = pd.DataFrame({'name' : df3.segm_cebp_imagename,\n",
    "                           'ppar_inten' : df3.dapi_p5_blob_relative,\n",
    "                           'dist' : np.zeros(len(df3)) + 6,\n",
    "                       'rand' : df3.rndm})\n",
    "df_p7_blob = pd.DataFrame({'name' : df3.segm_cebp_imagename,\n",
    "                           'ppar_inten' : df3.dapi_p7_blob_relative,\n",
    "                           'dist' : np.zeros(len(df3)) + 7,\n",
    "                       'rand' : df3.rndm})\n",
    "#df_p8_blob = pd.DataFrame({'name' : df3.segm_cebp_imagename,\n",
    "                         #  'ppar_inten' : np.ones(len(df3)),\n",
    "                          # 'dist' : np.zeros(len(df3)) + 8,\n",
    "                       #'rand' : df3.rndm})\n",
    "\n",
    "df_blob = pd.concat([df_blob, df_p1_blob, df_p2_blob, df_p3_blob, df_p4_blob, df_p5_blob, df_p6_blob, df_p7_blob])"
   ]
  },
  {
   "cell_type": "code",
   "execution_count": 202,
   "metadata": {},
   "outputs": [],
   "source": [
    "ax = sns.stripplot(df_blob.dist, df_blob.ppar_inten, hue = df_blob.rand, palette = dapi_palette)\n",
    "ax.legend_.remove()\n",
    "ax = sns.pointplot(df_blob.dist, df_blob.ppar_inten, color = dapi_palette[5])"
   ]
  },
  {
   "cell_type": "code",
   "execution_count": null,
   "metadata": {},
   "outputs": [],
   "source": []
  },
  {
   "cell_type": "code",
   "execution_count": 80,
   "metadata": {},
   "outputs": [],
   "source": []
  },
  {
   "cell_type": "code",
   "execution_count": 204,
   "metadata": {},
   "outputs": [],
   "source": [
    "'''create violin looking at cebp intensites as move away from blob '''\n",
    "df3 = subcell_g.loc[subcell_g.day == 3]\n",
    "#df0 = df0.iloc[:25, :]\n",
    "\n",
    "df_blob = pd.DataFrame({'name' : df3.segm_cebp_imagename,\n",
    "                       'ppar_inten' : df3.ppar_blob_mean,\n",
    "                      'dist' : np.zeros(len(df3)),\n",
    "                       'rand' : df3.rndm})\n",
    "df_p1_blob = pd.DataFrame({'name' : df3.segm_cebp_imagename,\n",
    "                           'ppar_inten' : df3.ppar_p1_blob_mean,\n",
    "                           'dist' : np.zeros(len(df3)) + 1,\n",
    "                       'rand' : df3.rndm})\n",
    "df_p2_blob = pd.DataFrame({'name' : df3.segm_cebp_imagename,\n",
    "                           'ppar_inten' : df3.ppar_p2_blob_mean,\n",
    "                           'dist' : np.zeros(len(df3)) + 2,\n",
    "                       'rand' : df3.rndm})\n",
    "df_p3_blob = pd.DataFrame({'name' : df3.segm_cebp_imagename,\n",
    "                           'ppar_inten' : df3.ppar_p3_blob_mean,\n",
    "                           'dist' : np.zeros(len(df3)) + 3,\n",
    "                       'rand' : df3.rndm})\n",
    "df_p4_blob = pd.DataFrame({'name' : df3.segm_cebp_imagename,\n",
    "                           'ppar_inten' : df3.ppar_p3_blob_mean,\n",
    "                           'dist' : np.zeros(len(df3)) + 4,\n",
    "                       'rand' : df3.rndm})\n",
    "df_p5_blob = pd.DataFrame({'name' : df3.segm_cebp_imagename,\n",
    "                           'ppar_inten' : df3.ppar_p5_blob_mean,\n",
    "                           'dist' : np.zeros(len(df3)) + 5,\n",
    "                       'rand' : df3.rndm})\n",
    "df_p6_blob = pd.DataFrame({'name' : df3.segm_cebp_imagename,\n",
    "                           'ppar_inten' : df3.ppar_p5_blob_mean,\n",
    "                           'dist' : np.zeros(len(df3)) + 6,\n",
    "                       'rand' : df3.rndm})\n",
    "df_p7_blob = pd.DataFrame({'name' : df3.segm_cebp_imagename,\n",
    "                           'ppar_inten' : df3.ppar_p7_blob_mean,\n",
    "                           'dist' : np.zeros(len(df3)) + 7,\n",
    "                       'rand' : df3.rndm})\n",
    "#df_p8_blob = pd.DataFrame({'name' : df3.segm_cebp_imagename,\n",
    "                         #  'ppar_inten' : np.ones(len(df3)),\n",
    "                          # 'dist' : np.zeros(len(df3)) + 8,\n",
    "                       #'rand' : df3.rndm})\n",
    "\n",
    "df_blob = pd.concat([df_blob, df_p1_blob, df_p2_blob, df_p3_blob, df_p4_blob, df_p5_blob, df_p6_blob, df_p7_blob])"
   ]
  },
  {
   "cell_type": "code",
   "execution_count": 205,
   "metadata": {},
   "outputs": [],
   "source": [
    "ax = sns.stripplot(df_blob.dist, df_blob.ppar_inten, hue = df_blob.rand, palette = ppar_palette)\n",
    "ax.legend_.remove()\n",
    "ax = sns.pointplot(df_blob.dist, df_blob.ppar_inten, color = ppar_palette[5])"
   ]
  },
  {
   "cell_type": "code",
   "execution_count": null,
   "metadata": {},
   "outputs": [],
   "source": []
  }
 ],
 "metadata": {
  "kernelspec": {
   "display_name": "Python 3",
   "language": "python",
   "name": "python3"
  },
  "language_info": {
   "codemirror_mode": {
    "name": "ipython",
    "version": 3
   },
   "file_extension": ".py",
   "mimetype": "text/x-python",
   "name": "python",
   "nbconvert_exporter": "python",
   "pygments_lexer": "ipython3",
   "version": "3.7.6"
  }
 },
 "nbformat": 4,
 "nbformat_minor": 4
}
