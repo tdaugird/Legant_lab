{
 "cells": [
  {
   "cell_type": "markdown",
   "metadata": {},
   "source": [
    "### This is some preliminary analysis of this dataset now that everything is parsed correctly"
   ]
  },
  {
   "cell_type": "code",
   "execution_count": 88,
   "metadata": {},
   "outputs": [],
   "source": [
    "import os\n",
    "import numpy as np\n",
    "import pandas as pd\n",
    "%matplotlib qt\n",
    "import matplotlib.pyplot as plt\n",
    "import seaborn as sns\n",
    "plt.style.use('dark_background')\n",
    "from scipy.optimize import curve_fit"
   ]
  },
  {
   "cell_type": "code",
   "execution_count": 2,
   "metadata": {},
   "outputs": [],
   "source": [
    "df = pd.read_csv('df_parsed_p_times.csv')"
   ]
  },
  {
   "cell_type": "code",
   "execution_count": 3,
   "metadata": {},
   "outputs": [],
   "source": [
    "df.day = np.around(df.day, 2)"
   ]
  },
  {
   "cell_type": "code",
   "execution_count": 33,
   "metadata": {},
   "outputs": [],
   "source": [
    "df['color'] = np.random.randint(0, 20, len(df))\n",
    "df = df.loc[df.Intensity_IntegratedIntensity_cebp <= df.Intensity_IntegratedIntensity_cebp.quantile(.95)]\n",
    "df = df.loc[df.Intensity_IntegratedIntensity_cebp >= df.Intensity_IntegratedIntensity_cebp.quantile(.05)]\n",
    "f = df.loc[df.Intensity_IntegratedIntensity_ppar <= df.Intensity_IntegratedIntensity_ppar.quantile(.95)]\n",
    "df = df.loc[df.Intensity_IntegratedIntensity_ppar >= df.Intensity_IntegratedIntensity_ppar.quantile(.05)]"
   ]
  },
  {
   "cell_type": "code",
   "execution_count": 57,
   "metadata": {},
   "outputs": [],
   "source": [
    "'''first thing that I would like to do is look at the PPARg'''\n",
    "ax = sns.lineplot(df.day, df.Intensity_IntegratedIntensity_ppar, color = 'magenta')"
   ]
  },
  {
   "cell_type": "code",
   "execution_count": 58,
   "metadata": {},
   "outputs": [],
   "source": [
    "'''lineplot for cebpb'''\n",
    "ax = sns.lineplot(df.day, df.Intensity_IntegratedIntensity_cebp, color = 'lawngreen')"
   ]
  },
  {
   "cell_type": "code",
   "execution_count": 70,
   "metadata": {},
   "outputs": [
    {
     "data": {
      "text/plain": [
       "<matplotlib.legend.Legend at 0x11c63f91208>"
      ]
     },
     "execution_count": 70,
     "metadata": {},
     "output_type": "execute_result"
    }
   ],
   "source": [
    "'''strip plot of the ppar gamma'''\n",
    "ax = sns.stripplot(df.day, df.Intensity_IntegratedIntensity_ppar, hue = df.color, palette= sns.color_palette('Purples', 20))\n",
    "ax = sns.pointplot(df.day, df.Intensity_IntegratedIntensity_ppar, ci = 'sd', color = 'w', errwidth = 5, capsize = .2)\n",
    "plt.legend([])"
   ]
  },
  {
   "cell_type": "code",
   "execution_count": 69,
   "metadata": {},
   "outputs": [],
   "source": [
    "'''strip plot of the cebp beta'''\n",
    "ax = sns.stripplot(df.day, df.Intensity_IntegratedIntensity_cebp, hue = df.color, palette= sns.color_palette('Greens', 20))\n",
    "plt.legend([])\n",
    "ax = sns.pointplot(df.day, df.Intensity_IntegratedIntensity_cebp, ci = 'sd', color = 'w', errwidth = 5, capsize=.2)\n",
    "\n",
    "#ax = sns.boxplot(df.day, df.Intensity_IntegratedIntensity_cebp, fliersize = 0)"
   ]
  },
  {
   "cell_type": "code",
   "execution_count": 40,
   "metadata": {},
   "outputs": [],
   "source": [
    "ax = sns.stripplot(df.day, df.AreaShape_Area, color = 'm')\n",
    "ax = sns.pointplot(df.day, df.AreaShape_Area, ci = 'sd')"
   ]
  },
  {
   "cell_type": "code",
   "execution_count": 56,
   "metadata": {},
   "outputs": [
    {
     "data": {
      "text/plain": [
       "<matplotlib.legend.Legend at 0x11c3cc53a08>"
      ]
     },
     "execution_count": 56,
     "metadata": {},
     "output_type": "execute_result"
    }
   ],
   "source": [
    "sns.lineplot(df.day, df.Intensity_IntegratedIntensity_cebp, color = 'lawngreen')\n",
    "plt.legend(['CEBPb'])\n",
    "ax2 = plt.twinx()\n",
    "sns.lineplot(df.day, df.Intensity_IntegratedIntensity_ppar, color = 'magenta', ax = ax2)\n",
    "plt.legend(['PPARg'])"
   ]
  },
  {
   "cell_type": "code",
   "execution_count": 73,
   "metadata": {},
   "outputs": [],
   "source": [
    "df6 =  (df.loc[df.day == 6])"
   ]
  },
  {
   "cell_type": "code",
   "execution_count": 74,
   "metadata": {},
   "outputs": [
    {
     "data": {
      "text/plain": [
       "<matplotlib.axes._subplots.AxesSubplot at 0x11c70523e88>"
      ]
     },
     "execution_count": 74,
     "metadata": {},
     "output_type": "execute_result"
    }
   ],
   "source": [
    "sns.rugplot(df6.Intensity_IntegratedIntensity_ppar)"
   ]
  },
  {
   "cell_type": "code",
   "execution_count": 80,
   "metadata": {},
   "outputs": [
    {
     "data": {
      "text/plain": [
       "[<matplotlib.lines.Line2D at 0x11c0d59a088>]"
      ]
     },
     "execution_count": 80,
     "metadata": {},
     "output_type": "execute_result"
    }
   ],
   "source": [
    "n, bins, patches = plt.hist(df6.Intensity_IntegratedIntensity_ppar, cumulative = -1)\n",
    "plt.plot(bins[:-1], n)"
   ]
  },
  {
   "cell_type": "markdown",
   "metadata": {},
   "source": [
    "### I would like to see if I can now fit an exponential decay to the 1-cdf"
   ]
  },
  {
   "cell_type": "code",
   "execution_count": 146,
   "metadata": {},
   "outputs": [],
   "source": [
    "y_hist, x_hist, patch = plt.hist(df.Intensity_IntegratedIntensity_ppar,  density = 1, cumulative = -1,  bins = 300)\n",
    "x_hist = x_hist[:-1]\n"
   ]
  },
  {
   "cell_type": "code",
   "execution_count": 147,
   "metadata": {},
   "outputs": [
    {
     "data": {
      "text/plain": [
       "[<matplotlib.lines.Line2D at 0x11c021c8ec8>]"
      ]
     },
     "execution_count": 147,
     "metadata": {},
     "output_type": "execute_result"
    }
   ],
   "source": [
    "plt.plot(x_hist, y_hist)"
   ]
  },
  {
   "cell_type": "code",
   "execution_count": 148,
   "metadata": {},
   "outputs": [],
   "source": [
    "'''single component exponential decay'''\n",
    "def one_comp_exp_decay(t, A, tau):\n",
    "    return(A * np.exp(-t / tau))"
   ]
  },
  {
   "cell_type": "code",
   "execution_count": 150,
   "metadata": {},
   "outputs": [],
   "source": [
    "popt1, pcov1 = curve_fit(one_comp_exp_decay, x_hist, y_hist)"
   ]
  },
  {
   "cell_type": "code",
   "execution_count": 151,
   "metadata": {},
   "outputs": [],
   "source": [
    "'''two component exponential decay'''\n",
    "def two_comp_exp_decay(t, f_slow, tau_slow, tau_fast):\n",
    "    return(f_slow * np.exp(-t / tau_slow) + (1-f_slow) * np.exp(-t / tau_fast))"
   ]
  },
  {
   "cell_type": "code",
   "execution_count": 152,
   "metadata": {},
   "outputs": [],
   "source": [
    "popt2, pcov2 = curve_fit(two_comp_exp_decay, x_hist, y_hist)"
   ]
  },
  {
   "cell_type": "code",
   "execution_count": 155,
   "metadata": {},
   "outputs": [
    {
     "data": {
      "text/plain": [
       "[<matplotlib.lines.Line2D at 0x11c097ecf88>]"
      ]
     },
     "execution_count": 155,
     "metadata": {},
     "output_type": "execute_result"
    }
   ],
   "source": [
    "#plt.hist(df6.Intensity_IntegratedIntensity_ppar, density=1, cumulative= -1, bins = 300)\n",
    "plt.plot(x_hist,  one_comp_exp_decay(x_hist, *popt1))\n",
    "#plt.plot(x_hist, two_comp_exp_decay(x_hist, *popt2), color = 'r')"
   ]
  },
  {
   "cell_type": "code",
   "execution_count": 132,
   "metadata": {},
   "outputs": [],
   "source": [
    "'''two component exponential decay'''\n",
    "def three_comp_exp_decay(t, f1, tau1, f2, tau2, tau3):\n",
    "    return(f1 * np.exp(-t / tau1) + f2 * np.exp(-1 / tau2) + (1 - f1 - f2) * np.exp(-1 / tau3))"
   ]
  },
  {
   "cell_type": "code",
   "execution_count": 133,
   "metadata": {},
   "outputs": [
    {
     "name": "stderr",
     "output_type": "stream",
     "text": [
      "C:\\Users\\LegantLab\\anaconda3\\lib\\site-packages\\scipy\\optimize\\minpack.py:808: OptimizeWarning: Covariance of the parameters could not be estimated\n",
      "  category=OptimizeWarning)\n"
     ]
    }
   ],
   "source": [
    "popt3, pcov3 = curve_fit(three_comp_exp_decay, x_hist, y_hist)"
   ]
  },
  {
   "cell_type": "code",
   "execution_count": 134,
   "metadata": {},
   "outputs": [],
   "source": [
    "'''two component exponential decay'''\n",
    "def exp_decay_two(t, A1, tau1, A2, tau2):\n",
    "    return(A1 * np.exp(-t / tau1) + A2 * np.exp(-t / tau2))"
   ]
  },
  {
   "cell_type": "code",
   "execution_count": 121,
   "metadata": {},
   "outputs": [],
   "source": [
    "popt2, pcov2 = curve_fit(exp_decay_two, x_hist, y_hist)"
   ]
  },
  {
   "cell_type": "code",
   "execution_count": 135,
   "metadata": {},
   "outputs": [
    {
     "data": {
      "text/plain": [
       "[<matplotlib.lines.Line2D at 0x11c018fa308>]"
      ]
     },
     "execution_count": 135,
     "metadata": {},
     "output_type": "execute_result"
    }
   ],
   "source": [
    "plt.plot(x_hist, three_comp_exp_decay(x_hist, *popt3))"
   ]
  },
  {
   "cell_type": "code",
   "execution_count": 156,
   "metadata": {},
   "outputs": [
    {
     "data": {
      "text/plain": [
       "<matplotlib.axes._subplots.AxesSubplot at 0x11c097c4cc8>"
      ]
     },
     "execution_count": 156,
     "metadata": {},
     "output_type": "execute_result"
    }
   ],
   "source": [
    "sns.kdeplot(df6.Intensity_IntegratedIntensity_ppar)"
   ]
  },
  {
   "cell_type": "code",
   "execution_count": 157,
   "metadata": {},
   "outputs": [],
   "source": [
    "dfp25 = df.loc[df.day == .25]"
   ]
  },
  {
   "cell_type": "code",
   "execution_count": 158,
   "metadata": {},
   "outputs": [
    {
     "data": {
      "text/plain": [
       "146"
      ]
     },
     "execution_count": 158,
     "metadata": {},
     "output_type": "execute_result"
    }
   ],
   "source": [
    "len(dfp25)"
   ]
  },
  {
   "cell_type": "code",
   "execution_count": 161,
   "metadata": {},
   "outputs": [
    {
     "data": {
      "text/plain": [
       "<matplotlib.axes._subplots.AxesSubplot at 0x11c094417c8>"
      ]
     },
     "execution_count": 161,
     "metadata": {},
     "output_type": "execute_result"
    }
   ],
   "source": [
    "sns.distplot(dfp25.Intensity_IntegratedIntensity_cebp, bins = 20)"
   ]
  },
  {
   "cell_type": "code",
   "execution_count": null,
   "metadata": {},
   "outputs": [],
   "source": []
  }
 ],
 "metadata": {
  "kernelspec": {
   "display_name": "Python 3",
   "language": "python",
   "name": "python3"
  },
  "language_info": {
   "codemirror_mode": {
    "name": "ipython",
    "version": 3
   },
   "file_extension": ".py",
   "mimetype": "text/x-python",
   "name": "python",
   "nbconvert_exporter": "python",
   "pygments_lexer": "ipython3",
   "version": "3.7.6"
  }
 },
 "nbformat": 4,
 "nbformat_minor": 4
}
