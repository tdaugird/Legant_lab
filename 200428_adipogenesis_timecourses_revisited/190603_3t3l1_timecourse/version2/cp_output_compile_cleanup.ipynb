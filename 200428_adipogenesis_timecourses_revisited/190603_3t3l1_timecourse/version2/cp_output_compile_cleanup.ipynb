{
 "cells": [
  {
   "cell_type": "markdown",
   "metadata": {},
   "source": [
    "#### This is analysis of the 190603_3t3l1_timecourse. This takes in the different output .csv files from  cell profiler. It adds the appropriate times to each data frame and compiles everything together. It then uses the random tree classifier that I developed in classifier_testing.ipynb to parse out the good looking objects"
   ]
  },
  {
   "cell_type": "code",
   "execution_count": 1,
   "metadata": {},
   "outputs": [],
   "source": [
    "import os\n",
    "import numpy as np\n",
    "import pandas as pd\n",
    "import matplotlib.pyplot as plt\n",
    "import seaborn as sns\n",
    "#Import Random Forest Model\n",
    "from sklearn.ensemble import RandomForestClassifier\n",
    "from sklearn.preprocessing import StandardScaler"
   ]
  },
  {
   "cell_type": "code",
   "execution_count": 2,
   "metadata": {},
   "outputs": [],
   "source": [
    "os.chdir(r'C:\\Users\\LegantLab\\Documents\\git\\tad\\Legant_lab\\200428_adipogenesis_timecourses_revisited\\190603_3t3l1_timecourse\\version2')"
   ]
  },
  {
   "cell_type": "code",
   "execution_count": 3,
   "metadata": {},
   "outputs": [
    {
     "data": {
      "text/plain": [
       "['.ipynb_checkpoints',\n",
       " '63_kb_run',\n",
       " '8kb_run',\n",
       " 'cp_output_compile_cleanup.ipynb',\n",
       " 'image_ids_whole.csv',\n",
       " 'MyExpt_t0_Experiment.csv',\n",
       " 'MyExpt_t0_Image.csv',\n",
       " 'MyExpt_t0_nuclei.csv',\n",
       " 'MyExpt_t2d_Experiment.csv',\n",
       " 'MyExpt_t2d_Image.csv',\n",
       " 'MyExpt_t2d_nuclei.csv',\n",
       " 'MyExpt_t4d_Experiment.csv',\n",
       " 'MyExpt_t4d_Image.csv',\n",
       " 'MyExpt_t4d_nuclei.csv',\n",
       " 'MyExpt_t4h_Experiment.csv',\n",
       " 'MyExpt_t4h_Image.csv',\n",
       " 'MyExpt_t4h_nuclei.csv',\n",
       " 'MyExpt_t6d_Experiment.csv',\n",
       " 'MyExpt_t6d_Image.csv',\n",
       " 'MyExpt_t6d_nuclei.csv',\n",
       " 'MyExpt_whole_111kb_t2dnuclei.csv',\n",
       " 'old',\n",
       " 'segm_111kb_test.cpproj',\n",
       " 'segm_190603_revist_111kb_run.cpproj',\n",
       " 'segm_190603_revist_multi.cpproj',\n",
       " 'segm_190603_revist_whole_run.cpproj',\n",
       " 'segm_190603_t4h.cpproj',\n",
       " 'split_111kb_imgs.ipynb']"
      ]
     },
     "execution_count": 3,
     "metadata": {},
     "output_type": "execute_result"
    }
   ],
   "source": [
    "os.listdir()"
   ]
  },
  {
   "cell_type": "code",
   "execution_count": 4,
   "metadata": {},
   "outputs": [],
   "source": [
    "'''read in the data sets'''\n",
    "df_t0 = pd.read_csv('MyExpt_t0_nuclei.csv')\n",
    "df_tp167 = pd.read_csv('MyExpt_t4h_nuclei.csv')\n",
    "df_t2d = pd.read_csv('MyExpt_t2d_nuclei.csv')\n",
    "df_t4d = pd.read_csv('MyExpt_t4d_nuclei.csv')\n",
    "df_t6d = pd.read_csv('MyExpt_t6d_nuclei.csv')\n"
   ]
  },
  {
   "cell_type": "code",
   "execution_count": 5,
   "metadata": {},
   "outputs": [],
   "source": [
    "'''make one big data frame from the individual dataframes'''\n",
    "\n",
    "df_indy_times_lst = [df_t0, df_tp167, df_t2d, df_t4d, df_t6d] #list of dfs over which to iterate\n",
    "times_lst = [0, .167, 2, 4, 6] #associated time. Lines up with the df_indy_times_lst\n",
    "\n",
    "df_lst_4_concat = [] #empty list to be populated with dfs that have time parameter added to them\n",
    "\n",
    "for i in range(len(df_indy_times_lst)): #iterate over the individual dataframes and add the approprieate time\n",
    "    df_ = df_indy_times_lst[i]\n",
    "    time_ = times_lst[i]\n",
    "    \n",
    "    df_['day'] = np.zeros(len(df_))\n",
    "    df_['day'] += time_\n",
    "    \n",
    "    df_lst_4_concat.append(df_)\n",
    "    \n",
    "df_whole = pd.concat(df_lst_4_concat)"
   ]
  },
  {
   "cell_type": "code",
   "execution_count": null,
   "metadata": {},
   "outputs": [],
   "source": []
  },
  {
   "cell_type": "code",
   "execution_count": 6,
   "metadata": {},
   "outputs": [
    {
     "data": {
      "text/html": [
       "<div>\n",
       "<style scoped>\n",
       "    .dataframe tbody tr th:only-of-type {\n",
       "        vertical-align: middle;\n",
       "    }\n",
       "\n",
       "    .dataframe tbody tr th {\n",
       "        vertical-align: top;\n",
       "    }\n",
       "\n",
       "    .dataframe thead th {\n",
       "        text-align: right;\n",
       "    }\n",
       "</style>\n",
       "<table border=\"1\" class=\"dataframe\">\n",
       "  <thead>\n",
       "    <tr style=\"text-align: right;\">\n",
       "      <th></th>\n",
       "      <th>ImageNumber</th>\n",
       "      <th>ObjectNumber</th>\n",
       "      <th>AreaShape_Area</th>\n",
       "      <th>AreaShape_Center_X</th>\n",
       "      <th>AreaShape_Center_Y</th>\n",
       "      <th>AreaShape_Center_Z</th>\n",
       "      <th>AreaShape_Compactness</th>\n",
       "      <th>AreaShape_Eccentricity</th>\n",
       "      <th>AreaShape_EulerNumber</th>\n",
       "      <th>AreaShape_Extent</th>\n",
       "      <th>...</th>\n",
       "      <th>Location_MaxIntensity_X_dapi</th>\n",
       "      <th>Location_MaxIntensity_X_ppar</th>\n",
       "      <th>Location_MaxIntensity_Y_cebp</th>\n",
       "      <th>Location_MaxIntensity_Y_dapi</th>\n",
       "      <th>Location_MaxIntensity_Y_ppar</th>\n",
       "      <th>Location_MaxIntensity_Z_cebp</th>\n",
       "      <th>Location_MaxIntensity_Z_dapi</th>\n",
       "      <th>Location_MaxIntensity_Z_ppar</th>\n",
       "      <th>Number_Object_Number</th>\n",
       "      <th>day</th>\n",
       "    </tr>\n",
       "  </thead>\n",
       "  <tbody>\n",
       "    <tr>\n",
       "      <th>0</th>\n",
       "      <td>1</td>\n",
       "      <td>1</td>\n",
       "      <td>3392</td>\n",
       "      <td>407.0</td>\n",
       "      <td>0.0</td>\n",
       "      <td>1.0</td>\n",
       "      <td>3.381213</td>\n",
       "      <td>0.986288</td>\n",
       "      <td>1.0</td>\n",
       "      <td>0.660822</td>\n",
       "      <td>...</td>\n",
       "      <td>403.0</td>\n",
       "      <td>438.0</td>\n",
       "      <td>1.0</td>\n",
       "      <td>0.0</td>\n",
       "      <td>8.0</td>\n",
       "      <td>0.0</td>\n",
       "      <td>0.0</td>\n",
       "      <td>0.0</td>\n",
       "      <td>1</td>\n",
       "      <td>0.0</td>\n",
       "    </tr>\n",
       "    <tr>\n",
       "      <th>1</th>\n",
       "      <td>1</td>\n",
       "      <td>2</td>\n",
       "      <td>50291</td>\n",
       "      <td>2000.0</td>\n",
       "      <td>1.0</td>\n",
       "      <td>1.0</td>\n",
       "      <td>1.367869</td>\n",
       "      <td>0.875080</td>\n",
       "      <td>1.0</td>\n",
       "      <td>0.743290</td>\n",
       "      <td>...</td>\n",
       "      <td>2040.0</td>\n",
       "      <td>1872.0</td>\n",
       "      <td>41.0</td>\n",
       "      <td>4.0</td>\n",
       "      <td>5.0</td>\n",
       "      <td>0.0</td>\n",
       "      <td>0.0</td>\n",
       "      <td>0.0</td>\n",
       "      <td>2</td>\n",
       "      <td>0.0</td>\n",
       "    </tr>\n",
       "    <tr>\n",
       "      <th>2</th>\n",
       "      <td>1</td>\n",
       "      <td>3</td>\n",
       "      <td>4883</td>\n",
       "      <td>2573.0</td>\n",
       "      <td>0.0</td>\n",
       "      <td>1.0</td>\n",
       "      <td>2.477601</td>\n",
       "      <td>0.973482</td>\n",
       "      <td>1.0</td>\n",
       "      <td>0.749386</td>\n",
       "      <td>...</td>\n",
       "      <td>2586.0</td>\n",
       "      <td>2576.0</td>\n",
       "      <td>0.0</td>\n",
       "      <td>0.0</td>\n",
       "      <td>8.0</td>\n",
       "      <td>0.0</td>\n",
       "      <td>0.0</td>\n",
       "      <td>0.0</td>\n",
       "      <td>3</td>\n",
       "      <td>0.0</td>\n",
       "    </tr>\n",
       "    <tr>\n",
       "      <th>3</th>\n",
       "      <td>1</td>\n",
       "      <td>4</td>\n",
       "      <td>25260</td>\n",
       "      <td>3063.0</td>\n",
       "      <td>0.0</td>\n",
       "      <td>1.0</td>\n",
       "      <td>1.363309</td>\n",
       "      <td>0.869610</td>\n",
       "      <td>1.0</td>\n",
       "      <td>0.702447</td>\n",
       "      <td>...</td>\n",
       "      <td>3092.0</td>\n",
       "      <td>3010.0</td>\n",
       "      <td>8.0</td>\n",
       "      <td>30.0</td>\n",
       "      <td>2.0</td>\n",
       "      <td>0.0</td>\n",
       "      <td>0.0</td>\n",
       "      <td>0.0</td>\n",
       "      <td>4</td>\n",
       "      <td>0.0</td>\n",
       "    </tr>\n",
       "    <tr>\n",
       "      <th>4</th>\n",
       "      <td>1</td>\n",
       "      <td>5</td>\n",
       "      <td>1</td>\n",
       "      <td>3235.0</td>\n",
       "      <td>4.0</td>\n",
       "      <td>1.0</td>\n",
       "      <td>0.000000</td>\n",
       "      <td>0.000000</td>\n",
       "      <td>1.0</td>\n",
       "      <td>1.000000</td>\n",
       "      <td>...</td>\n",
       "      <td>3235.0</td>\n",
       "      <td>3235.0</td>\n",
       "      <td>4.0</td>\n",
       "      <td>4.0</td>\n",
       "      <td>4.0</td>\n",
       "      <td>0.0</td>\n",
       "      <td>0.0</td>\n",
       "      <td>0.0</td>\n",
       "      <td>5</td>\n",
       "      <td>0.0</td>\n",
       "    </tr>\n",
       "  </tbody>\n",
       "</table>\n",
       "<p>5 rows × 119 columns</p>\n",
       "</div>"
      ],
      "text/plain": [
       "   ImageNumber  ObjectNumber  AreaShape_Area  AreaShape_Center_X  \\\n",
       "0            1             1            3392               407.0   \n",
       "1            1             2           50291              2000.0   \n",
       "2            1             3            4883              2573.0   \n",
       "3            1             4           25260              3063.0   \n",
       "4            1             5               1              3235.0   \n",
       "\n",
       "   AreaShape_Center_Y  AreaShape_Center_Z  AreaShape_Compactness  \\\n",
       "0                 0.0                 1.0               3.381213   \n",
       "1                 1.0                 1.0               1.367869   \n",
       "2                 0.0                 1.0               2.477601   \n",
       "3                 0.0                 1.0               1.363309   \n",
       "4                 4.0                 1.0               0.000000   \n",
       "\n",
       "   AreaShape_Eccentricity  AreaShape_EulerNumber  AreaShape_Extent  ...  \\\n",
       "0                0.986288                    1.0          0.660822  ...   \n",
       "1                0.875080                    1.0          0.743290  ...   \n",
       "2                0.973482                    1.0          0.749386  ...   \n",
       "3                0.869610                    1.0          0.702447  ...   \n",
       "4                0.000000                    1.0          1.000000  ...   \n",
       "\n",
       "   Location_MaxIntensity_X_dapi  Location_MaxIntensity_X_ppar  \\\n",
       "0                         403.0                         438.0   \n",
       "1                        2040.0                        1872.0   \n",
       "2                        2586.0                        2576.0   \n",
       "3                        3092.0                        3010.0   \n",
       "4                        3235.0                        3235.0   \n",
       "\n",
       "   Location_MaxIntensity_Y_cebp  Location_MaxIntensity_Y_dapi  \\\n",
       "0                           1.0                           0.0   \n",
       "1                          41.0                           4.0   \n",
       "2                           0.0                           0.0   \n",
       "3                           8.0                          30.0   \n",
       "4                           4.0                           4.0   \n",
       "\n",
       "   Location_MaxIntensity_Y_ppar  Location_MaxIntensity_Z_cebp  \\\n",
       "0                           8.0                           0.0   \n",
       "1                           5.0                           0.0   \n",
       "2                           8.0                           0.0   \n",
       "3                           2.0                           0.0   \n",
       "4                           4.0                           0.0   \n",
       "\n",
       "   Location_MaxIntensity_Z_dapi  Location_MaxIntensity_Z_ppar  \\\n",
       "0                           0.0                           0.0   \n",
       "1                           0.0                           0.0   \n",
       "2                           0.0                           0.0   \n",
       "3                           0.0                           0.0   \n",
       "4                           0.0                           0.0   \n",
       "\n",
       "   Number_Object_Number  day  \n",
       "0                     1  0.0  \n",
       "1                     2  0.0  \n",
       "2                     3  0.0  \n",
       "3                     4  0.0  \n",
       "4                     5  0.0  \n",
       "\n",
       "[5 rows x 119 columns]"
      ]
     },
     "execution_count": 6,
     "metadata": {},
     "output_type": "execute_result"
    }
   ],
   "source": [
    "df_whole.head()"
   ]
  },
  {
   "cell_type": "code",
   "execution_count": 9,
   "metadata": {},
   "outputs": [
    {
     "data": {
      "text/plain": [
       "11067"
      ]
     },
     "execution_count": 9,
     "metadata": {},
     "output_type": "execute_result"
    }
   ],
   "source": [
    "len(df_whole)"
   ]
  },
  {
   "cell_type": "markdown",
   "metadata": {},
   "source": [
    "### Cool. I think that should be all of the immediate clean up and concatination that I need to do. I can do a couple of quick checks to make sure that things are working as planned"
   ]
  },
  {
   "cell_type": "code",
   "execution_count": 11,
   "metadata": {},
   "outputs": [
    {
     "data": {
      "image/png": "[encoded data removed]",
      "text/plain": [
       "<Figure size 432x288 with 1 Axes>"
      ]
     },
     "metadata": {
      "needs_background": "light"
     },
     "output_type": "display_data"
    }
   ],
   "source": [
    "ax = plt.hist(df_whole.day, bins = 50)"
   ]
  },
  {
   "cell_type": "code",
   "execution_count": 12,
   "metadata": {},
   "outputs": [
    {
     "data": {
      "image/png": "[encoded data removed]",
      "text/plain": [
       "<Figure size 432x288 with 1 Axes>"
      ]
     },
     "metadata": {
      "needs_background": "light"
     },
     "output_type": "display_data"
    }
   ],
   "source": [
    "ax = sns.distplot(df_whole.AreaShape_Area)"
   ]
  },
  {
   "cell_type": "code",
   "execution_count": 14,
   "metadata": {},
   "outputs": [
    {
     "data": {
      "image/png": "[encoded data removed]",
      "text/plain": [
       "<Figure size 432x288 with 1 Axes>"
      ]
     },
     "metadata": {
      "needs_background": "light"
     },
     "output_type": "display_data"
    }
   ],
   "source": [
    "ax = sns.lineplot(df_whole.day, df_whole.Intensity_IntegratedIntensity_ppar)"
   ]
  },
  {
   "cell_type": "code",
   "execution_count": 36,
   "metadata": {},
   "outputs": [
    {
     "data": {
      "text/plain": [
       "(-100, 2500)"
      ]
     },
     "execution_count": 36,
     "metadata": {},
     "output_type": "execute_result"
    },
    {
     "data": {
      "image/png": "[encoded data removed]",
      "text/plain": [
       "<Figure size 432x288 with 1 Axes>"
      ]
     },
     "metadata": {
      "needs_background": "light"
     },
     "output_type": "display_data"
    }
   ],
   "source": [
    "ax = sns.boxplot(df_whole.time, df_whole.Intensity_IntegratedIntensity_ppar, fliersize = 0)\n",
    "plt.ylim(-100, 2500)"
   ]
  },
  {
   "cell_type": "code",
   "execution_count": 16,
   "metadata": {},
   "outputs": [
    {
     "data": {
      "image/png": "[encoded data removed]",
      "text/plain": [
       "<Figure size 432x288 with 1 Axes>"
      ]
     },
     "metadata": {
      "needs_background": "light"
     },
     "output_type": "display_data"
    }
   ],
   "source": [
    "ax = sns.lineplot(df_whole.day, df_whole.Intensity_IntegratedIntensity_dapi)"
   ]
  },
  {
   "cell_type": "code",
   "execution_count": 18,
   "metadata": {},
   "outputs": [
    {
     "data": {
      "image/png": "[encoded data removed]",
      "text/plain": [
       "<Figure size 432x288 with 1 Axes>"
      ]
     },
     "metadata": {
      "needs_background": "light"
     },
     "output_type": "display_data"
    }
   ],
   "source": [
    "ax = sns.lineplot(df_whole.day,df_whole.Intensity_MeanIntensity_cebp)"
   ]
  },
  {
   "cell_type": "markdown",
   "metadata": {},
   "source": [
    "### I am using the random tree classifier that I developed a based on the smaller images. I tried it out on a little bit of data from the larger images and it appears to perform with a comprable level of precision on those so I think that this is a good strategy to take going forward"
   ]
  },
  {
   "cell_type": "code",
   "execution_count": 7,
   "metadata": {},
   "outputs": [],
   "source": [
    "'''chane to the directory with the training data'''\n",
    "os.chdir(r'C:\\Users\\LegantLab\\Documents\\git\\tad\\Legant_lab\\200428_adipogenesis_timecourses_revisited\\190603_3t3l1_timecourse\\version2\\8kb_run\\annotation_csvs')"
   ]
  },
  {
   "cell_type": "code",
   "execution_count": 8,
   "metadata": {},
   "outputs": [],
   "source": [
    "df_train_orig = pd.read_csv('annotated_training.csv')"
   ]
  },
  {
   "cell_type": "code",
   "execution_count": 9,
   "metadata": {},
   "outputs": [],
   "source": [
    "keep_cats = [ 'AreaShape_Area',\n",
    " #'AreaShape_Center_X',\n",
    " #'AreaShape_Center_Y',\n",
    " #'AreaShape_Center_Z',\n",
    " 'AreaShape_Compactness',\n",
    " 'AreaShape_Eccentricity',\n",
    " 'AreaShape_EulerNumber',\n",
    " 'AreaShape_Extent',\n",
    " 'AreaShape_FormFactor',\n",
    " 'AreaShape_MajorAxisLength',\n",
    " 'AreaShape_MaxFeretDiameter',\n",
    " 'AreaShape_MaximumRadius',\n",
    " 'AreaShape_MeanRadius',\n",
    " 'AreaShape_MedianRadius',\n",
    " 'AreaShape_MinFeretDiameter',\n",
    " 'AreaShape_MinorAxisLength',\n",
    " 'AreaShape_Orientation',\n",
    " 'AreaShape_Perimeter',\n",
    " 'AreaShape_Solidity',\n",
    " 'AreaShape_Zernike_0_0',\n",
    " 'AreaShape_Zernike_1_1',\n",
    " 'AreaShape_Zernike_2_0',\n",
    " 'AreaShape_Zernike_2_2',\n",
    " 'AreaShape_Zernike_3_1',\n",
    " 'AreaShape_Zernike_3_3',\n",
    " 'AreaShape_Zernike_4_0',\n",
    " 'AreaShape_Zernike_4_2',\n",
    " 'AreaShape_Zernike_4_4',\n",
    " 'AreaShape_Zernike_5_1',\n",
    " 'AreaShape_Zernike_5_3',\n",
    " 'AreaShape_Zernike_5_5',\n",
    " 'AreaShape_Zernike_6_0',\n",
    " 'AreaShape_Zernike_6_2',\n",
    " 'AreaShape_Zernike_6_4',\n",
    " 'AreaShape_Zernike_6_6',\n",
    " 'AreaShape_Zernike_7_1',\n",
    " 'AreaShape_Zernike_7_3',\n",
    " 'AreaShape_Zernike_7_5',\n",
    " 'AreaShape_Zernike_7_7',\n",
    " 'AreaShape_Zernike_8_0',\n",
    " 'AreaShape_Zernike_8_2',\n",
    " 'AreaShape_Zernike_8_4',\n",
    " 'AreaShape_Zernike_8_6',\n",
    " 'AreaShape_Zernike_8_8',\n",
    " 'AreaShape_Zernike_9_1',\n",
    " 'AreaShape_Zernike_9_3',\n",
    " 'AreaShape_Zernike_9_5',\n",
    " 'AreaShape_Zernike_9_7',\n",
    " 'AreaShape_Zernike_9_9',\n",
    "\n",
    " 'Intensity_IntegratedIntensityEdge_dapi',\n",
    "\n",
    " 'Intensity_IntegratedIntensity_dapi',\n",
    "\n",
    " 'Intensity_LowerQuartileIntensity_dapi',\n",
    "\n",
    " 'Intensity_MADIntensity_dapi',\n",
    "\n",
    " 'Intensity_MassDisplacement_dapi',\n",
    "\n",
    " 'Intensity_MaxIntensityEdge_dapi',\n",
    "\n",
    " 'Intensity_MaxIntensity_dapi',\n",
    "\n",
    " 'Intensity_MeanIntensityEdge_dapi',\n",
    "\n",
    " 'Intensity_MeanIntensity_dapi',\n",
    "\n",
    " 'Intensity_MedianIntensity_dapi',\n",
    "\n",
    " 'Intensity_MinIntensityEdge_dapi',\n",
    "\n",
    " 'Intensity_MinIntensity_dapi',\n",
    "\n",
    " 'Intensity_StdIntensityEdge_dapi',\n",
    "\n",
    " 'Intensity_StdIntensity_dapi',\n",
    "\n",
    " 'Intensity_UpperQuartileIntensity_dapi',\n",
    "'in_object']"
   ]
  },
  {
   "cell_type": "code",
   "execution_count": 12,
   "metadata": {},
   "outputs": [],
   "source": [
    "df_whole = df_whole.dropna()"
   ]
  },
  {
   "cell_type": "code",
   "execution_count": 13,
   "metadata": {},
   "outputs": [
    {
     "ename": "NameError",
     "evalue": "name 'df_whole_' is not defined",
     "output_type": "error",
     "traceback": [
      "\u001b[1;31m---------------------------------------------------------------------------\u001b[0m",
      "\u001b[1;31mNameError\u001b[0m                                 Traceback (most recent call last)",
      "\u001b[1;32m<ipython-input-13-1e928de54826>\u001b[0m in \u001b[0;36m<module>\u001b[1;34m\u001b[0m\n\u001b[1;32m----> 1\u001b[1;33m \u001b[0mlen\u001b[0m\u001b[1;33m(\u001b[0m\u001b[0mdf_whole_\u001b[0m\u001b[1;33m)\u001b[0m \u001b[1;33m/\u001b[0m \u001b[0mlen\u001b[0m\u001b[1;33m(\u001b[0m\u001b[0mdf_whole\u001b[0m\u001b[1;33m)\u001b[0m\u001b[1;33m\u001b[0m\u001b[1;33m\u001b[0m\u001b[0m\n\u001b[0m",
      "\u001b[1;31mNameError\u001b[0m: name 'df_whole_' is not defined"
     ]
    }
   ],
   "source": [
    "len(df_whole_) / len(df_whole)"
   ]
  },
  {
   "cell_type": "code",
   "execution_count": 14,
   "metadata": {},
   "outputs": [
    {
     "name": "stdout",
     "output_type": "stream",
     "text": [
      "ImageNumber  :  0\n",
      "ObjectNumber  :  0\n",
      "AreaShape_Area  :  0\n",
      "AreaShape_Center_X  :  0\n",
      "AreaShape_Center_Y  :  0\n",
      "AreaShape_Center_Z  :  0\n",
      "AreaShape_Compactness  :  0\n",
      "AreaShape_Eccentricity  :  0\n",
      "AreaShape_EulerNumber  :  0\n",
      "AreaShape_Extent  :  0\n",
      "AreaShape_FormFactor  :  0\n",
      "AreaShape_MajorAxisLength  :  0\n",
      "AreaShape_MaxFeretDiameter  :  0\n",
      "AreaShape_MaximumRadius  :  0\n",
      "AreaShape_MeanRadius  :  0\n",
      "AreaShape_MedianRadius  :  0\n",
      "AreaShape_MinFeretDiameter  :  0\n",
      "AreaShape_MinorAxisLength  :  0\n",
      "AreaShape_Orientation  :  0\n",
      "AreaShape_Perimeter  :  0\n",
      "AreaShape_Solidity  :  0\n",
      "AreaShape_Zernike_0_0  :  0\n",
      "AreaShape_Zernike_1_1  :  0\n",
      "AreaShape_Zernike_2_0  :  0\n",
      "AreaShape_Zernike_2_2  :  0\n",
      "AreaShape_Zernike_3_1  :  0\n",
      "AreaShape_Zernike_3_3  :  0\n",
      "AreaShape_Zernike_4_0  :  0\n",
      "AreaShape_Zernike_4_2  :  0\n",
      "AreaShape_Zernike_4_4  :  0\n",
      "AreaShape_Zernike_5_1  :  0\n",
      "AreaShape_Zernike_5_3  :  0\n",
      "AreaShape_Zernike_5_5  :  0\n",
      "AreaShape_Zernike_6_0  :  0\n",
      "AreaShape_Zernike_6_2  :  0\n",
      "AreaShape_Zernike_6_4  :  0\n",
      "AreaShape_Zernike_6_6  :  0\n",
      "AreaShape_Zernike_7_1  :  0\n",
      "AreaShape_Zernike_7_3  :  0\n",
      "AreaShape_Zernike_7_5  :  0\n",
      "AreaShape_Zernike_7_7  :  0\n",
      "AreaShape_Zernike_8_0  :  0\n",
      "AreaShape_Zernike_8_2  :  0\n",
      "AreaShape_Zernike_8_4  :  0\n",
      "AreaShape_Zernike_8_6  :  0\n",
      "AreaShape_Zernike_8_8  :  0\n",
      "AreaShape_Zernike_9_1  :  0\n",
      "AreaShape_Zernike_9_3  :  0\n",
      "AreaShape_Zernike_9_5  :  0\n",
      "AreaShape_Zernike_9_7  :  0\n",
      "AreaShape_Zernike_9_9  :  0\n",
      "Intensity_IntegratedIntensityEdge_cebp  :  0\n",
      "Intensity_IntegratedIntensityEdge_dapi  :  0\n",
      "Intensity_IntegratedIntensityEdge_ppar  :  0\n",
      "Intensity_IntegratedIntensity_cebp  :  0\n",
      "Intensity_IntegratedIntensity_dapi  :  0\n",
      "Intensity_IntegratedIntensity_ppar  :  0\n",
      "Intensity_LowerQuartileIntensity_cebp  :  0\n",
      "Intensity_LowerQuartileIntensity_dapi  :  0\n",
      "Intensity_LowerQuartileIntensity_ppar  :  0\n",
      "Intensity_MADIntensity_cebp  :  0\n",
      "Intensity_MADIntensity_dapi  :  0\n",
      "Intensity_MADIntensity_ppar  :  0\n",
      "Intensity_MassDisplacement_cebp  :  0\n",
      "Intensity_MassDisplacement_dapi  :  0\n",
      "Intensity_MassDisplacement_ppar  :  0\n",
      "Intensity_MaxIntensityEdge_cebp  :  0\n",
      "Intensity_MaxIntensityEdge_dapi  :  0\n",
      "Intensity_MaxIntensityEdge_ppar  :  0\n",
      "Intensity_MaxIntensity_cebp  :  0\n",
      "Intensity_MaxIntensity_dapi  :  0\n",
      "Intensity_MaxIntensity_ppar  :  0\n",
      "Intensity_MeanIntensityEdge_cebp  :  0\n",
      "Intensity_MeanIntensityEdge_dapi  :  0\n",
      "Intensity_MeanIntensityEdge_ppar  :  0\n",
      "Intensity_MeanIntensity_cebp  :  0\n",
      "Intensity_MeanIntensity_dapi  :  0\n",
      "Intensity_MeanIntensity_ppar  :  0\n",
      "Intensity_MedianIntensity_cebp  :  0\n",
      "Intensity_MedianIntensity_dapi  :  0\n",
      "Intensity_MedianIntensity_ppar  :  0\n",
      "Intensity_MinIntensityEdge_cebp  :  0\n",
      "Intensity_MinIntensityEdge_dapi  :  0\n",
      "Intensity_MinIntensityEdge_ppar  :  0\n",
      "Intensity_MinIntensity_cebp  :  0\n",
      "Intensity_MinIntensity_dapi  :  0\n",
      "Intensity_MinIntensity_ppar  :  0\n",
      "Intensity_StdIntensityEdge_cebp  :  0\n",
      "Intensity_StdIntensityEdge_dapi  :  0\n",
      "Intensity_StdIntensityEdge_ppar  :  0\n",
      "Intensity_StdIntensity_cebp  :  0\n",
      "Intensity_StdIntensity_dapi  :  0\n",
      "Intensity_StdIntensity_ppar  :  0\n",
      "Intensity_UpperQuartileIntensity_cebp  :  0\n",
      "Intensity_UpperQuartileIntensity_dapi  :  0\n",
      "Intensity_UpperQuartileIntensity_ppar  :  0\n",
      "Location_CenterMassIntensity_X_cebp  :  0\n",
      "Location_CenterMassIntensity_X_dapi  :  0\n",
      "Location_CenterMassIntensity_X_ppar  :  0\n",
      "Location_CenterMassIntensity_Y_cebp  :  0\n",
      "Location_CenterMassIntensity_Y_dapi  :  0\n",
      "Location_CenterMassIntensity_Y_ppar  :  0\n",
      "Location_CenterMassIntensity_Z_cebp  :  0\n",
      "Location_CenterMassIntensity_Z_dapi  :  0\n",
      "Location_CenterMassIntensity_Z_ppar  :  0\n",
      "Location_Center_X  :  0\n",
      "Location_Center_Y  :  0\n",
      "Location_Center_Z  :  0\n",
      "Location_MaxIntensity_X_cebp  :  0\n",
      "Location_MaxIntensity_X_dapi  :  0\n",
      "Location_MaxIntensity_X_ppar  :  0\n",
      "Location_MaxIntensity_Y_cebp  :  0\n",
      "Location_MaxIntensity_Y_dapi  :  0\n",
      "Location_MaxIntensity_Y_ppar  :  0\n",
      "Location_MaxIntensity_Z_cebp  :  0\n",
      "Location_MaxIntensity_Z_dapi  :  0\n",
      "Location_MaxIntensity_Z_ppar  :  0\n",
      "Number_Object_Number  :  0\n",
      "day  :  0\n"
     ]
    }
   ],
   "source": [
    "for i in list(df_whole):\n",
    "    print(i, ' : ', np.sum(df_whole[i].isna()))"
   ]
  },
  {
   "cell_type": "code",
   "execution_count": 15,
   "metadata": {},
   "outputs": [],
   "source": [
    "\n",
    "'''read in the training data and drop categories and entries that are of no use'''\n",
    "df_train = df_train_orig[keep_cats] # make a copy of original df. I am going to alter this a little bit in order to pull out train and test cats\n",
    "df_train = df_train.dropna()\n",
    "\n",
    "'''parse out the relavent parameters our of the test data for classificaiton'''\n",
    "\n",
    "df_ = df_whole[keep_cats[:-1]]\n",
    "\n",
    "\n",
    "'''this is target category for the training the classifier'''\n",
    "target_cat_name = 'in_object'\n",
    "\n",
    "'''remove unwanted categories'''\n",
    "#unwanted_cat = ['Unnamed: 0']#, 'ImageNumber', 'ObjectNumber']\n",
    "#df_train.drop(unwanted_cat, axis = 1, inplace = True)\n",
    "\n",
    "'''define train and target data'''\n",
    "x_train = df_train.drop('in_object', axis = 1)\n",
    "y_train = df_train[target_cat_name]\n",
    "\n",
    "x_test = df_\n",
    "#y_test = df_whole.[target_cat_name]\n",
    "\n",
    "#'''split data into train and test sets'''\n",
    "#x_train, x_test, y_train, y_test = train_test_split(x, y, test_size = .25, random_state = 42)\n",
    "\n",
    "'''this is a feature scaling step. This will standardize all of the data in order to pull everything into the same range'''\n",
    "sc_X = StandardScaler()\n",
    "x_train = sc_X.fit_transform(x_train)\n",
    "x_test = sc_X.transform(x_test)\n",
    "\n",
    "'''random forest classifier'''\n",
    "clf=RandomForestClassifier(n_estimators=100)\n",
    "\n",
    "#Train the model using the training sets y_pred=clf.predict(X_test)\n",
    "clf.fit(x_train,y_train)\n",
    "\n",
    "df_whole['in_object'] = clf.predict(x_test)\n",
    "\n",
    "df_parsed = df_whole.loc[df_whole.in_object == 1]\n"
   ]
  },
  {
   "cell_type": "code",
   "execution_count": 16,
   "metadata": {},
   "outputs": [
    {
     "data": {
      "text/plain": [
       "0.4280442804428044"
      ]
     },
     "execution_count": 16,
     "metadata": {},
     "output_type": "execute_result"
    }
   ],
   "source": [
    "len(df_parsed) / len(df_whole)"
   ]
  },
  {
   "cell_type": "code",
   "execution_count": 17,
   "metadata": {},
   "outputs": [
    {
     "data": {
      "text/plain": [
       "4640"
      ]
     },
     "execution_count": 17,
     "metadata": {},
     "output_type": "execute_result"
    }
   ],
   "source": [
    "len(df_parsed)"
   ]
  },
  {
   "cell_type": "code",
   "execution_count": 18,
   "metadata": {},
   "outputs": [
    {
     "data": {
      "text/plain": [
       "<matplotlib.legend.Legend at 0x14785b7ddc8>"
      ]
     },
     "execution_count": 18,
     "metadata": {},
     "output_type": "execute_result"
    },
    {
     "data": {
      "image/png": "[encoded data removed]",
      "text/plain": [
       "<Figure size 432x288 with 1 Axes>"
      ]
     },
     "metadata": {
      "needs_background": "light"
     },
     "output_type": "display_data"
    }
   ],
   "source": [
    "ax = sns.distplot(df_parsed.AreaShape_Area)\n",
    "ax = sns.distplot(df_whole.AreaShape_Area)\n",
    "plt.legend(['parsed', 'orig'])"
   ]
  },
  {
   "cell_type": "code",
   "execution_count": 20,
   "metadata": {},
   "outputs": [
    {
     "data": {
      "image/png": "[encoded data removed]",
      "text/plain": [
       "<Figure size 432x288 with 1 Axes>"
      ]
     },
     "metadata": {
      "needs_background": "light"
     },
     "output_type": "display_data"
    }
   ],
   "source": [
    "ax = sns.lineplot(df_parsed.day, df_parsed.Intensity_IntegratedIntensity_ppar, color = 'firebrick')"
   ]
  },
  {
   "cell_type": "code",
   "execution_count": 21,
   "metadata": {},
   "outputs": [
    {
     "data": {
      "image/png": "[encoded data removed]",
      "text/plain": [
       "<Figure size 432x288 with 1 Axes>"
      ]
     },
     "metadata": {
      "needs_background": "light"
     },
     "output_type": "display_data"
    }
   ],
   "source": [
    "ax = sns.lineplot(df_parsed.day, df_parsed.Intensity_IntegratedIntensity_cebp, color = 'gold')"
   ]
  },
  {
   "cell_type": "code",
   "execution_count": 25,
   "metadata": {},
   "outputs": [],
   "source": [
    "df = df_parsed.copy()"
   ]
  },
  {
   "cell_type": "code",
   "execution_count": 27,
   "metadata": {},
   "outputs": [
    {
     "data": {
      "image/png": "[encoded data removed]",
      "text/plain": [
       "<Figure size 432x288 with 1 Axes>"
      ]
     },
     "metadata": {
      "needs_background": "light"
     },
     "output_type": "display_data"
    }
   ],
   "source": [
    "'''start making a category for the noramialized CEBPb expression'''\n",
    "cebp_normer = np.mean(df.loc[df.day == 0].Intensity_IntegratedIntensity_cebp) # median expression at t= 0\n",
    "df['cebp_normed'] = np.divide(df.Intensity_IntegratedIntensity_cebp, cebp_normer) - 1 # make a parameter of normalized cebp integrated expression\n",
    "ax = sns.lineplot(df.day, df.cebp_normed)"
   ]
  },
  {
   "cell_type": "code",
   "execution_count": 28,
   "metadata": {},
   "outputs": [
    {
     "data": {
      "text/plain": [
       "413"
      ]
     },
     "metadata": {},
     "output_type": "display_data"
    },
    {
     "data": {
      "text/plain": [
       "789"
      ]
     },
     "metadata": {},
     "output_type": "display_data"
    },
    {
     "data": {
      "text/plain": [
       "1503"
      ]
     },
     "metadata": {},
     "output_type": "display_data"
    },
    {
     "data": {
      "text/plain": [
       "1677"
      ]
     },
     "metadata": {},
     "output_type": "display_data"
    },
    {
     "data": {
      "text/plain": [
       "258"
      ]
     },
     "metadata": {},
     "output_type": "display_data"
    }
   ],
   "source": [
    "for i in np.unique(df.day):\n",
    "    df_ = df.loc[df.day == i]\n",
    "    display(len(df_))"
   ]
  },
  {
   "cell_type": "markdown",
   "metadata": {},
   "source": [
    "### With things looking the way that I they are I think that it might be a better use of my time right now to just push the raw and parsed dfs into .csv files and return to this a little later\n"
   ]
  },
  {
   "cell_type": "code",
   "execution_count": 29,
   "metadata": {},
   "outputs": [],
   "source": [
    "os.chdir(r'C:\\Users\\LegantLab\\Documents\\git\\tad\\Legant_lab\\200428_adipogenesis_timecourses_revisited\\190603_3t3l1_timecourse\\version2')"
   ]
  },
  {
   "cell_type": "code",
   "execution_count": 30,
   "metadata": {},
   "outputs": [],
   "source": [
    "df.to_csv('df_parsed.csv')"
   ]
  },
  {
   "cell_type": "code",
   "execution_count": 31,
   "metadata": {},
   "outputs": [],
   "source": [
    "'''this is just regeneration of the original dataframe with the added day parameter'''\n",
    "\n",
    "'''read in the data sets'''\n",
    "df_t0 = pd.read_csv('MyExpt_t0_nuclei.csv')\n",
    "df_tp167 = pd.read_csv('MyExpt_t4h_nuclei.csv')\n",
    "df_t2d = pd.read_csv('MyExpt_t2d_nuclei.csv')\n",
    "df_t4d = pd.read_csv('MyExpt_t4d_nuclei.csv')\n",
    "df_t6d = pd.read_csv('MyExpt_t6d_nuclei.csv')\n",
    "\n",
    "\n",
    "'''make one big data frame from the individual dataframes'''\n",
    "\n",
    "df_indy_times_lst = [df_t0, df_tp167, df_t2d, df_t4d, df_t6d] #list of dfs over which to iterate\n",
    "times_lst = [0, .167, 2, 4, 6] #associated time. Lines up with the df_indy_times_lst\n",
    "\n",
    "df_lst_4_concat = [] #empty list to be populated with dfs that have time parameter added to them\n",
    "\n",
    "for i in range(len(df_indy_times_lst)): #iterate over the individual dataframes and add the approprieate time\n",
    "    df_ = df_indy_times_lst[i]\n",
    "    time_ = times_lst[i]\n",
    "    \n",
    "    df_['day'] = np.zeros(len(df_))\n",
    "    df_['day'] += time_\n",
    "    \n",
    "    df_lst_4_concat.append(df_)\n",
    "    \n",
    "df_whole = pd.concat(df_lst_4_concat)"
   ]
  },
  {
   "cell_type": "code",
   "execution_count": 32,
   "metadata": {},
   "outputs": [],
   "source": [
    "df_whole.to_csv('df_raw.csv')"
   ]
  },
  {
   "cell_type": "code",
   "execution_count": null,
   "metadata": {},
   "outputs": [],
   "source": []
  }
 ],
 "metadata": {
  "kernelspec": {
   "display_name": "Python 3",
   "language": "python",
   "name": "python3"
  },
  "language_info": {
   "codemirror_mode": {
    "name": "ipython",
    "version": 3
   },
   "file_extension": ".py",
   "mimetype": "text/x-python",
   "name": "python",
   "nbconvert_exporter": "python",
   "pygments_lexer": "ipython3",
   "version": "3.7.6"
  }
 },
 "nbformat": 4,
 "nbformat_minor": 4
}
