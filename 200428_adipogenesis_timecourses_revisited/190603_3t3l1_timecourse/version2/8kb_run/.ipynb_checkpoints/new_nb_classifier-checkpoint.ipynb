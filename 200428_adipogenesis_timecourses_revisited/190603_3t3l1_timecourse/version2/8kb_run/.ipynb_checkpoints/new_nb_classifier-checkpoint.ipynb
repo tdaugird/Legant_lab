{
 "cells": [
  {
   "cell_type": "markdown",
   "metadata": {},
   "source": [
    "### this is version of NB classifier for the 8kb images. I would like to see if I can get it up and running pretty okay"
   ]
  },
  {
   "cell_type": "code",
   "execution_count": 19,
   "metadata": {},
   "outputs": [],
   "source": [
    "import os\n",
    "import numpy as np\n",
    "import pandas as pd\n",
    "import matplotlib.pyplot as plt\n",
    "import seaborn as sns\n",
    "from sklearn.model_selection import train_test_split\n",
    "from sklearn.naive_bayes import GaussianNB\n",
    "from sklearn.preprocessing import StandardScaler\n",
    "from sklearn.metrics import accuracy_score, precision_score, confusion_matrix"
   ]
  },
  {
   "cell_type": "markdown",
   "metadata": {},
   "source": [
    "### First I will need to compile all of my data together into one training set"
   ]
  },
  {
   "cell_type": "code",
   "execution_count": 20,
   "metadata": {},
   "outputs": [],
   "source": [
    "'''change to directory with annotated .csv files'''\n",
    "os.chdir(r'C:\\Users\\LegantLab\\Documents\\git\\tad\\Legant_lab\\200428_adipogenesis_timecourses_revisited\\190603_3t3l1_timecourse\\version2\\8kb_run\\annotation_csvs')"
   ]
  },
  {
   "cell_type": "code",
   "execution_count": 21,
   "metadata": {},
   "outputs": [
    {
     "data": {
      "text/plain": [
       "['df_in_img1814.csv',\n",
       " 'df_in_img1816.csv',\n",
       " 'df_in_img1821.csv',\n",
       " 'df_in_img1822.csv',\n",
       " 'df_in_img1852.csv',\n",
       " 'df_in_img1854.csv',\n",
       " 'df_in_img1881.csv',\n",
       " 'df_in_img1882.csv',\n",
       " 'df_in_img1883.csv',\n",
       " 'df_in_img1884.csv',\n",
       " 'df_out_img1814.csv',\n",
       " 'df_out_img1816.csv',\n",
       " 'df_out_img1821.csv',\n",
       " 'df_out_img1822.csv',\n",
       " 'df_out_img1852.csv',\n",
       " 'df_out_img1854.csv',\n",
       " 'df_out_img1881.csv',\n",
       " 'df_out_img1882.csv',\n",
       " 'df_out_img1883.csv',\n",
       " 'df_out_img1884.csv']"
      ]
     },
     "execution_count": 21,
     "metadata": {},
     "output_type": "execute_result"
    }
   ],
   "source": [
    "os.listdir()"
   ]
  },
  {
   "cell_type": "code",
   "execution_count": 22,
   "metadata": {},
   "outputs": [],
   "source": [
    "'''generate one big datafrme from the multiple annotated .csv files'''\n",
    "df_in_file_lst = ['df_in_img1814.csv',\n",
    " 'df_in_img1816.csv',\n",
    " 'df_in_img1821.csv',\n",
    " 'df_in_img1822.csv',\n",
    " 'df_in_img1852.csv',\n",
    " 'df_in_img1854.csv',\n",
    " 'df_in_img1881.csv',\n",
    " 'df_in_img1882.csv',\n",
    " 'df_in_img1883.csv',\n",
    " 'df_in_img1884.csv']\n",
    "df_out_file_lst = [ 'df_out_img1814.csv',\n",
    " 'df_out_img1816.csv',\n",
    " 'df_out_img1821.csv',\n",
    " 'df_out_img1822.csv',\n",
    " 'df_out_img1852.csv',\n",
    " 'df_out_img1854.csv',\n",
    " 'df_out_img1881.csv',\n",
    " 'df_out_img1882.csv',\n",
    " 'df_out_img1883.csv',\n",
    " 'df_out_img1884.csv']\n",
    "\n",
    "'''lists to be populated with dfs and concated a little later'''\n",
    "df_lst = []\n",
    "\n",
    "'''iterate over the .csv files and pull together one big dataframe'''\n",
    "\n",
    "for i in range(0, len(df_in_file_lst)):\n",
    "    df_in_ = pd.read_csv(df_in_file_lst[i])\n",
    "    df_in_['in_object'] = np.ones(len(df_in_))\n",
    "    df_lst.append(df_in_)\n",
    "for i in range(0, len(df_out_file_lst)):\n",
    "    df_out_ = pd.read_csv(df_out_file_lst[i])\n",
    "    df_out_['in_object'] = np.zeros(len(df_out_))\n",
    "    df_lst.append(df_out_)\n",
    "df_test = pd.concat(df_lst)"
   ]
  },
  {
   "cell_type": "code",
   "execution_count": 5,
   "metadata": {},
   "outputs": [],
   "source": [
    "df_in_whole = df_test.loc[df_test.in_object == 1]\n",
    "df_out_whole = df_test.loc[df_test.in_object == 0]\n",
    "\n",
    "\n",
    "#list(df_test)"
   ]
  },
  {
   "cell_type": "code",
   "execution_count": 6,
   "metadata": {},
   "outputs": [
    {
     "data": {
      "text/plain": [
       "129"
      ]
     },
     "execution_count": 6,
     "metadata": {},
     "output_type": "execute_result"
    }
   ],
   "source": [
    "len(df_in_whole)"
   ]
  },
  {
   "cell_type": "code",
   "execution_count": 7,
   "metadata": {},
   "outputs": [
    {
     "data": {
      "text/plain": [
       "200"
      ]
     },
     "execution_count": 7,
     "metadata": {},
     "output_type": "execute_result"
    }
   ],
   "source": [
    "len(df_out_whole)"
   ]
  },
  {
   "cell_type": "code",
   "execution_count": 8,
   "metadata": {},
   "outputs": [],
   "source": [
    "df_out_parsed = df_out_whole.iloc[:len(df_in_whole), :]"
   ]
  },
  {
   "cell_type": "code",
   "execution_count": 9,
   "metadata": {},
   "outputs": [
    {
     "data": {
      "text/plain": [
       "(129, 120)"
      ]
     },
     "execution_count": 9,
     "metadata": {},
     "output_type": "execute_result"
    }
   ],
   "source": [
    "df_in_whole.shape"
   ]
  },
  {
   "cell_type": "code",
   "execution_count": 10,
   "metadata": {},
   "outputs": [
    {
     "data": {
      "text/plain": [
       "(129, 120)"
      ]
     },
     "execution_count": 10,
     "metadata": {},
     "output_type": "execute_result"
    }
   ],
   "source": [
    "df_out_parsed.shape"
   ]
  },
  {
   "cell_type": "code",
   "execution_count": 11,
   "metadata": {},
   "outputs": [],
   "source": [
    "df_test = pd.concat([df_in_whole, df_out_parsed])"
   ]
  },
  {
   "cell_type": "code",
   "execution_count": 23,
   "metadata": {},
   "outputs": [],
   "source": [
    "'''I would like to only make a classifier that is based on the shape, size and dapi.'''\n",
    "keep_cats = [ 'AreaShape_Area',\n",
    " #'AreaShape_Center_X',\n",
    " #'AreaShape_Center_Y',\n",
    " #'AreaShape_Center_Z',\n",
    " 'AreaShape_Compactness',\n",
    " 'AreaShape_Eccentricity',\n",
    " 'AreaShape_EulerNumber',\n",
    " 'AreaShape_Extent',\n",
    " 'AreaShape_FormFactor',\n",
    " 'AreaShape_MajorAxisLength',\n",
    " 'AreaShape_MaxFeretDiameter',\n",
    " 'AreaShape_MaximumRadius',\n",
    " 'AreaShape_MeanRadius',\n",
    " 'AreaShape_MedianRadius',\n",
    " 'AreaShape_MinFeretDiameter',\n",
    " 'AreaShape_MinorAxisLength',\n",
    " 'AreaShape_Orientation',\n",
    " 'AreaShape_Perimeter',\n",
    " 'AreaShape_Solidity',\n",
    " 'AreaShape_Zernike_0_0',\n",
    " 'AreaShape_Zernike_1_1',\n",
    " 'AreaShape_Zernike_2_0',\n",
    " 'AreaShape_Zernike_2_2',\n",
    " 'AreaShape_Zernike_3_1',\n",
    " 'AreaShape_Zernike_3_3',\n",
    " 'AreaShape_Zernike_4_0',\n",
    " 'AreaShape_Zernike_4_2',\n",
    " 'AreaShape_Zernike_4_4',\n",
    " 'AreaShape_Zernike_5_1',\n",
    " 'AreaShape_Zernike_5_3',\n",
    " 'AreaShape_Zernike_5_5',\n",
    " 'AreaShape_Zernike_6_0',\n",
    " 'AreaShape_Zernike_6_2',\n",
    " 'AreaShape_Zernike_6_4',\n",
    " 'AreaShape_Zernike_6_6',\n",
    " 'AreaShape_Zernike_7_1',\n",
    " 'AreaShape_Zernike_7_3',\n",
    " 'AreaShape_Zernike_7_5',\n",
    " 'AreaShape_Zernike_7_7',\n",
    " 'AreaShape_Zernike_8_0',\n",
    " 'AreaShape_Zernike_8_2',\n",
    " 'AreaShape_Zernike_8_4',\n",
    " 'AreaShape_Zernike_8_6',\n",
    " 'AreaShape_Zernike_8_8',\n",
    " 'AreaShape_Zernike_9_1',\n",
    " 'AreaShape_Zernike_9_3',\n",
    " 'AreaShape_Zernike_9_5',\n",
    " 'AreaShape_Zernike_9_7',\n",
    " 'AreaShape_Zernike_9_9',\n",
    "\n",
    " 'Intensity_IntegratedIntensityEdge_dapi',\n",
    "\n",
    " 'Intensity_IntegratedIntensity_dapi',\n",
    "\n",
    " 'Intensity_LowerQuartileIntensity_dapi',\n",
    "\n",
    " 'Intensity_MADIntensity_dapi',\n",
    "\n",
    " 'Intensity_MassDisplacement_dapi',\n",
    "\n",
    " 'Intensity_MaxIntensityEdge_dapi',\n",
    "\n",
    " 'Intensity_MaxIntensity_dapi',\n",
    "\n",
    " 'Intensity_MeanIntensityEdge_dapi',\n",
    "\n",
    " 'Intensity_MeanIntensity_dapi',\n",
    "\n",
    " 'Intensity_MedianIntensity_dapi',\n",
    "\n",
    " 'Intensity_MinIntensityEdge_dapi',\n",
    "\n",
    " 'Intensity_MinIntensity_dapi',\n",
    "\n",
    " 'Intensity_StdIntensityEdge_dapi',\n",
    "\n",
    " 'Intensity_StdIntensity_dapi',\n",
    "\n",
    " 'Intensity_UpperQuartileIntensity_dapi',\n",
    "'in_object']"
   ]
  },
  {
   "cell_type": "code",
   "execution_count": 37,
   "metadata": {},
   "outputs": [
    {
     "data": {
      "text/plain": [
       "GaussianNB(priors=None, var_smoothing=1e-09)"
      ]
     },
     "execution_count": 37,
     "metadata": {},
     "output_type": "execute_result"
    }
   ],
   "source": [
    "\n",
    "\n",
    "'''split the data into train and target sets. In this caes x will be the train data and y will be the target parameter'''\n",
    "df = df_test[keep_cats] # make a copy of original df. I am going to alter this a little bit in order to pull out train and test cats\n",
    "df = df.dropna()\n",
    "\n",
    "target_cat_name = 'in_object'\n",
    "\n",
    "'''remove unwanted categories'''\n",
    "#unwanted_cat = ['Unnamed: 0']#, 'ImageNumber', 'ObjectNumber']\n",
    "#df.drop(unwanted_cat, axis = 1, inplace = True)\n",
    "\n",
    "'''define train and target data'''\n",
    "x = df.drop('in_object', axis = 1)\n",
    "y = df[target_cat_name]\n",
    "\n",
    "'''split data into train and test sets'''\n",
    "x_train, x_test, y_train, y_test = train_test_split(x, y, test_size = .25, random_state = 42)\n",
    "\n",
    "'''this is a feature scaling step. This will standardize all of the data in order to pull everything into the same range'''\n",
    "\n",
    "sc_X = StandardScaler()\n",
    "x_train = sc_X.fit_transform(x_train)\n",
    "x_test = sc_X.transform(x_test)\n",
    "\n",
    "'''set up gaussian naive bayes model and fit it to the data'''\n",
    "model = GaussianNB()\n",
    "model.fit(x_train, y_train)"
   ]
  },
  {
   "cell_type": "code",
   "execution_count": 38,
   "metadata": {},
   "outputs": [
    {
     "data": {
      "text/plain": [
       "258"
      ]
     },
     "execution_count": 38,
     "metadata": {},
     "output_type": "execute_result"
    }
   ],
   "source": [
    "len(df_test)"
   ]
  },
  {
   "cell_type": "code",
   "execution_count": null,
   "metadata": {},
   "outputs": [],
   "source": []
  },
  {
   "cell_type": "code",
   "execution_count": null,
   "metadata": {},
   "outputs": [],
   "source": []
  },
  {
   "cell_type": "code",
   "execution_count": 39,
   "metadata": {},
   "outputs": [],
   "source": [
    "'''make predictions based on the trained data'''\n",
    "y_pred = model.predict(x_test)\n"
   ]
  },
  {
   "cell_type": "code",
   "execution_count": 40,
   "metadata": {},
   "outputs": [
    {
     "name": "stdout",
     "output_type": "stream",
     "text": [
      "accuracy:  0.8548387096774194  precision:  0.7894736842105263\n"
     ]
    }
   ],
   "source": [
    "'''double check accuracy and precisiton of model'''\n",
    "accuracy = accuracy_score(y_test, y_pred)\n",
    "precision = precision_score(y_test, y_pred)\n",
    "\n",
    "print('accuracy: ', accuracy, ' precision: ', precision)"
   ]
  },
  {
   "cell_type": "code",
   "execution_count": 41,
   "metadata": {},
   "outputs": [
    {
     "data": {
      "text/plain": [
       "0.5201612903225806"
      ]
     },
     "execution_count": 41,
     "metadata": {},
     "output_type": "execute_result"
    }
   ],
   "source": [
    "len(df.loc[df.in_object == 1]) / len(df)"
   ]
  },
  {
   "cell_type": "code",
   "execution_count": 42,
   "metadata": {},
   "outputs": [
    {
     "data": {
      "text/plain": [
       "array([[23,  8],\n",
       "       [ 1, 30]], dtype=int64)"
      ]
     },
     "execution_count": 42,
     "metadata": {},
     "output_type": "execute_result"
    }
   ],
   "source": [
    "confusion_matrix(y_test, y_pred)"
   ]
  },
  {
   "cell_type": "code",
   "execution_count": 42,
   "metadata": {},
   "outputs": [
    {
     "data": {
      "text/plain": [
       "0.38636363636363635"
      ]
     },
     "execution_count": 42,
     "metadata": {},
     "output_type": "execute_result"
    }
   ],
   "source": [
    "np.sum(df_test.in_object) / len(df_test)"
   ]
  },
  {
   "cell_type": "code",
   "execution_count": 14,
   "metadata": {},
   "outputs": [
    {
     "data": {
      "text/plain": [
       "80"
      ]
     },
     "execution_count": 14,
     "metadata": {},
     "output_type": "execute_result"
    }
   ],
   "source": [
    "len(y_pred)"
   ]
  },
  {
   "cell_type": "code",
   "execution_count": 15,
   "metadata": {},
   "outputs": [
    {
     "data": {
      "text/plain": [
       "80"
      ]
     },
     "execution_count": 15,
     "metadata": {},
     "output_type": "execute_result"
    }
   ],
   "source": [
    "len(y_test)"
   ]
  },
  {
   "cell_type": "code",
   "execution_count": 16,
   "metadata": {},
   "outputs": [
    {
     "data": {
      "text/plain": [
       "318"
      ]
     },
     "execution_count": 16,
     "metadata": {},
     "output_type": "execute_result"
    }
   ],
   "source": [
    "len(df)"
   ]
  },
  {
   "cell_type": "code",
   "execution_count": 43,
   "metadata": {},
   "outputs": [
    {
     "data": {
      "text/plain": [
       "<matplotlib.axes._subplots.AxesSubplot at 0x2a4d327f9c8>"
      ]
     },
     "execution_count": 43,
     "metadata": {},
     "output_type": "execute_result"
    },
    {
     "data": {
      "image/png": "[encoded data removed]",
      "text/plain": [
       "<Figure size 432x288 with 1 Axes>"
      ]
     },
     "metadata": {
      "needs_background": "light"
     },
     "output_type": "display_data"
    }
   ],
   "source": [
    "sns.distplot(df_in_whole.AreaShape_Area)"
   ]
  },
  {
   "cell_type": "code",
   "execution_count": 44,
   "metadata": {},
   "outputs": [
    {
     "data": {
      "text/plain": [
       "<matplotlib.axes._subplots.AxesSubplot at 0x2a4d2f23788>"
      ]
     },
     "execution_count": 44,
     "metadata": {},
     "output_type": "execute_result"
    },
    {
     "data": {
      "image/png": "[encoded data removed]",
      "text/plain": [
       "<Figure size 432x288 with 1 Axes>"
      ]
     },
     "metadata": {
      "needs_background": "light"
     },
     "output_type": "display_data"
    }
   ],
   "source": [
    "sns.distplot(df_out_whole.AreaShape_Area)"
   ]
  },
  {
   "cell_type": "code",
   "execution_count": 13,
   "metadata": {},
   "outputs": [],
   "source": [
    "from sklearn.model_selection import train_test_split"
   ]
  },
  {
   "cell_type": "code",
   "execution_count": 24,
   "metadata": {},
   "outputs": [],
   "source": [
    "#Import Random Forest Model\n",
    "from sklearn.ensemble import RandomForestClassifier\n",
    "'''split the data into train and target sets. In this caes x will be the train data and y will be the target parameter'''\n",
    "df = df_test[keep_cats] # make a copy of original df. I am going to alter this a little bit in order to pull out train and test cats\n",
    "df = df.dropna()\n",
    "\n",
    "target_cat_name = 'in_object'\n",
    "\n",
    "'''remove unwanted categories'''\n",
    "#unwanted_cat = ['Unnamed: 0']#, 'ImageNumber', 'ObjectNumber']\n",
    "#df.drop(unwanted_cat, axis = 1, inplace = True)\n",
    "\n",
    "'''define train and target data'''\n",
    "x = df.drop('in_object', axis = 1)\n",
    "y = df[target_cat_name]\n",
    "\n",
    "'''split data into train and test sets'''\n",
    "x_train, x_test, y_train, y_test = train_test_split(x, y, test_size = .25, random_state = 42)\n",
    "\n",
    "'''this is a feature scaling step. This will standardize all of the data in order to pull everything into the same range'''\n",
    "\n",
    "sc_X = StandardScaler()\n",
    "x_train = sc_X.fit_transform(x_train)\n",
    "x_test = sc_X.transform(x_test)\n",
    "\n",
    "'''random forest classifier'''\n",
    "clf=RandomForestClassifier(n_estimators=100)\n",
    "\n",
    "#Train the model using the training sets y_pred=clf.predict(X_test)\n",
    "clf.fit(x_train,y_train)\n",
    "\n",
    "y_pred=clf.predict(x_test)"
   ]
  },
  {
   "cell_type": "code",
   "execution_count": 25,
   "metadata": {},
   "outputs": [],
   "source": [
    "'''make predictions based on the trained data'''\n",
    "y_pred = clf.predict(x_test)"
   ]
  },
  {
   "cell_type": "code",
   "execution_count": 26,
   "metadata": {},
   "outputs": [
    {
     "name": "stdout",
     "output_type": "stream",
     "text": [
      "accuracy:  0.8625  precision:  0.896551724137931\n"
     ]
    }
   ],
   "source": [
    "'''double check accuracy and precisiton of model'''\n",
    "accuracy = accuracy_score(y_test, y_pred)\n",
    "precision = precision_score(y_test, y_pred)\n",
    "\n",
    "print('accuracy: ', accuracy, ' precision: ', precision)"
   ]
  },
  {
   "cell_type": "code",
   "execution_count": 27,
   "metadata": {},
   "outputs": [
    {
     "data": {
      "text/plain": [
       "array([[43,  3],\n",
       "       [ 8, 26]], dtype=int64)"
      ]
     },
     "execution_count": 27,
     "metadata": {},
     "output_type": "execute_result"
    }
   ],
   "source": [
    "confusion_matrix(y_test, y_pred)"
   ]
  },
  {
   "cell_type": "code",
   "execution_count": null,
   "metadata": {},
   "outputs": [],
   "source": []
  }
 ],
 "metadata": {
  "kernelspec": {
   "display_name": "Python 3",
   "language": "python",
   "name": "python3"
  },
  "language_info": {
   "codemirror_mode": {
    "name": "ipython",
    "version": 3
   },
   "file_extension": ".py",
   "mimetype": "text/x-python",
   "name": "python",
   "nbconvert_exporter": "python",
   "pygments_lexer": "ipython3",
   "version": "3.7.6"
  }
 },
 "nbformat": 4,
 "nbformat_minor": 4
}
