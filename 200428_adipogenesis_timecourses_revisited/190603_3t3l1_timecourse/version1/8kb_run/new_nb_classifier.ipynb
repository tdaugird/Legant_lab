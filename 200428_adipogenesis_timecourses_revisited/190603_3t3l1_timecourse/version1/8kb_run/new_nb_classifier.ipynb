{
 "cells": [
  {
   "cell_type": "markdown",
   "metadata": {},
   "source": [
    "### this is version of NB classifier for the 8kb images. I would like to see if I can get it up and running pretty okay"
   ]
  },
  {
   "cell_type": "code",
   "execution_count": 1,
   "metadata": {},
   "outputs": [],
   "source": [
    "import os\n",
    "import numpy as np\n",
    "import pandas as pd\n",
    "import matplotlib.pyplot as plt\n",
    "import seaborn as sns\n",
    "from sklearn.model_selection import train_test_split\n",
    "from sklearn.naive_bayes import GaussianNB\n",
    "from sklearn.preprocessing import StandardScaler\n",
    "from sklearn.metrics import accuracy_score, precision_score, confusion_matrix"
   ]
  },
  {
   "cell_type": "markdown",
   "metadata": {},
   "source": [
    "### First I will need to compile all of my data together into one training set"
   ]
  },
  {
   "cell_type": "code",
   "execution_count": 2,
   "metadata": {},
   "outputs": [],
   "source": [
    "'''change to directory with annotated .csv files'''\n",
    "os.chdir(r'C:\\Users\\LegantLab\\Documents\\git\\tad\\Legant_lab\\200428_adipogenesis_timecourses_revisited\\190603_3t3l1_timecourse\\8kb_run\\annotation_csvs')"
   ]
  },
  {
   "cell_type": "code",
   "execution_count": 3,
   "metadata": {},
   "outputs": [
    {
     "data": {
      "text/plain": [
       "['df_in_img1814.csv',\n",
       " 'df_in_img1816.csv',\n",
       " 'df_in_img1821.csv',\n",
       " 'df_in_img1822.csv',\n",
       " 'df_in_img1854.csv',\n",
       " 'df_in_img1882.csv',\n",
       " 'df_in_img1883.csv',\n",
       " 'df_out_img1814.csv',\n",
       " 'df_out_img1816.csv',\n",
       " 'df_out_img1821.csv',\n",
       " 'df_out_img1822.csv',\n",
       " 'df_out_img1854.csv',\n",
       " 'df_out_img1882.csv',\n",
       " 'df_out_img1883.csv']"
      ]
     },
     "execution_count": 3,
     "metadata": {},
     "output_type": "execute_result"
    }
   ],
   "source": [
    "os.listdir()"
   ]
  },
  {
   "cell_type": "code",
   "execution_count": 36,
   "metadata": {},
   "outputs": [],
   "source": [
    "'''generate one big datafrme from the multiple annotated .csv files'''\n",
    "df_in_file_lst = ['df_in_img1814.csv',\n",
    " 'df_in_img1816.csv',\n",
    " 'df_in_img1821.csv',\n",
    "'df_in_img1822.csv',\n",
    " 'df_in_img1854.csv',\n",
    " 'df_in_img1882.csv',\n",
    " 'df_in_img1883.csv']\n",
    "df_out_file_lst = [ 'df_out_img1814.csv',\n",
    " 'df_out_img1816.csv',\n",
    " 'df_out_img1821.csv',\n",
    "'df_out_img1822.csv',\n",
    " 'df_out_img1854.csv',\n",
    " 'df_out_img1882.csv',\n",
    " 'df_out_img1883.csv']\n",
    "\n",
    "'''lists to be populated with dfs and concated a little later'''\n",
    "df_lst = []\n",
    "\n",
    "'''iterate over the .csv files and pull together one big dataframe'''\n",
    "\n",
    "for i in range(0, len(df_in_file_lst)):\n",
    "    df_in_ = pd.read_csv(df_in_file_lst[i])\n",
    "    df_in_['in_object'] = np.ones(len(df_in_))\n",
    "    df_lst.append(df_in_)\n",
    "for i in range(0, len(df_out_file_lst)):\n",
    "    df_out_ = pd.read_csv(df_out_file_lst[i])\n",
    "    df_out_['in_object'] = np.zeros(len(df_out_))\n",
    "    df_lst.append(df_out_)\n",
    "df_test = pd.concat(df_lst)"
   ]
  },
  {
   "cell_type": "code",
   "execution_count": 37,
   "metadata": {},
   "outputs": [],
   "source": [
    "'''I would like to only make a classifier that is based on the shape, size and dapi.'''\n",
    "keep_cats = [\n",
    " 'AreaShape_Area',\n",
    " 'AreaShape_Center_X',\n",
    " 'AreaShape_Center_Y',\n",
    " 'AreaShape_Center_Z',\n",
    " 'AreaShape_Compactness',\n",
    " 'AreaShape_Eccentricity',\n",
    " 'AreaShape_EulerNumber',\n",
    " 'AreaShape_Extent',\n",
    " 'AreaShape_FormFactor',\n",
    " 'AreaShape_MajorAxisLength',\n",
    " 'AreaShape_MaxFeretDiameter',\n",
    " 'AreaShape_MaximumRadius',\n",
    " 'AreaShape_MeanRadius',\n",
    " 'AreaShape_MedianRadius',\n",
    " 'AreaShape_MinFeretDiameter',\n",
    " 'AreaShape_MinorAxisLength',\n",
    " 'AreaShape_Orientation',\n",
    " 'AreaShape_Perimeter',\n",
    " 'AreaShape_Solidity',\n",
    " 'Intensity_IntegratedIntensityEdge_dapi',\n",
    " 'Intensity_IntegratedIntensity_dapi',\n",
    " 'Intensity_LowerQuartileIntensity_dapi',\n",
    " 'Intensity_MADIntensity_dapi', \n",
    " 'Intensity_MaxIntensityEdge_dapi',\n",
    " 'Intensity_MaxIntensity_dapi',\n",
    " 'Intensity_MeanIntensityEdge_dapi',\n",
    " 'Intensity_MeanIntensity_dapi',\n",
    " 'Intensity_MedianIntensity_dapi',\n",
    " 'Intensity_MinIntensityEdge_dapi',\n",
    " 'Intensity_MinIntensity_dapi',\n",
    " 'Intensity_StdIntensityEdge_dapi',\n",
    " 'Intensity_StdIntensity_dapi',\n",
    " 'Intensity_UpperQuartileIntensity_dapi',\n",
    " 'Location_CenterMassIntensity_X_dapi',\n",
    " 'Location_CenterMassIntensity_Y_dapi',\n",
    " 'Location_CenterMassIntensity_Z_dapi',\n",
    " 'Location_Center_X',\n",
    " 'Location_Center_Y',\n",
    " 'Location_Center_Z',\n",
    " 'Location_MaxIntensity_X_dapi',\n",
    " 'Location_MaxIntensity_Y_dapi',\n",
    " 'Location_MaxIntensity_Z_dapi',\n",
    " 'in_object']"
   ]
  },
  {
   "cell_type": "code",
   "execution_count": 38,
   "metadata": {},
   "outputs": [
    {
     "data": {
      "text/plain": [
       "GaussianNB(priors=None, var_smoothing=1e-09)"
      ]
     },
     "execution_count": 38,
     "metadata": {},
     "output_type": "execute_result"
    }
   ],
   "source": [
    "\n",
    "\n",
    "'''split the data into train and target sets. In this caes x will be the train data and y will be the target parameter'''\n",
    "df = df_test[keep_cats] # make a copy of original df. I am going to alter this a little bit in order to pull out train and test cats\n",
    "\n",
    "target_cat_name = 'in_object'\n",
    "\n",
    "'''remove unwanted categories'''\n",
    "#unwanted_cat = ['Unnamed: 0']#, 'ImageNumber', 'ObjectNumber']\n",
    "#df.drop(unwanted_cat, axis = 1, inplace = True)\n",
    "\n",
    "'''define train and target data'''\n",
    "x = df.drop('in_object', axis = 1)\n",
    "y = df[target_cat_name]\n",
    "\n",
    "'''split data into train and test sets'''\n",
    "x_train, x_test, y_train, y_test = train_test_split(x, y, test_size = .25, random_state = 42)\n",
    "\n",
    "'''this is a feature scaling step. This will standardize all of the data in order to pull everything into the same range'''\n",
    "\n",
    "sc_X = StandardScaler()\n",
    "x_train = sc_X.fit_transform(x_train)\n",
    "x_test = sc_X.transform(x_test)\n",
    "\n",
    "'''set up gaussian naive bayes model and fit it to the data'''\n",
    "model = GaussianNB()\n",
    "model.fit(x_train, y_train)"
   ]
  },
  {
   "cell_type": "code",
   "execution_count": 39,
   "metadata": {},
   "outputs": [],
   "source": [
    "'''make predictions based on the trained data'''\n",
    "y_pred = model.predict(x_test)\n"
   ]
  },
  {
   "cell_type": "code",
   "execution_count": 40,
   "metadata": {},
   "outputs": [
    {
     "name": "stdout",
     "output_type": "stream",
     "text": [
      "accuracy:  0.6909090909090909  precision:  0.48484848484848486\n"
     ]
    }
   ],
   "source": [
    "'''double check accuracy and precisiton of model'''\n",
    "accuracy = accuracy_score(y_test, y_pred)\n",
    "precision = precision_score(y_test, y_pred)\n",
    "\n",
    "print('accuracy: ', accuracy, ' precision: ', precision)"
   ]
  },
  {
   "cell_type": "code",
   "execution_count": 41,
   "metadata": {},
   "outputs": [
    {
     "data": {
      "text/plain": [
       "array([[22, 17],\n",
       "       [ 0, 16]], dtype=int64)"
      ]
     },
     "execution_count": 41,
     "metadata": {},
     "output_type": "execute_result"
    }
   ],
   "source": [
    "confusion_matrix(y_test, y_pred)"
   ]
  },
  {
   "cell_type": "code",
   "execution_count": 42,
   "metadata": {},
   "outputs": [
    {
     "data": {
      "text/plain": [
       "0.38636363636363635"
      ]
     },
     "execution_count": 42,
     "metadata": {},
     "output_type": "execute_result"
    }
   ],
   "source": [
    "np.sum(df_test.in_object) / len(df_test)"
   ]
  },
  {
   "cell_type": "code",
   "execution_count": null,
   "metadata": {},
   "outputs": [],
   "source": []
  }
 ],
 "metadata": {
  "kernelspec": {
   "display_name": "Python 3",
   "language": "python",
   "name": "python3"
  },
  "language_info": {
   "codemirror_mode": {
    "name": "ipython",
    "version": 3
   },
   "file_extension": ".py",
   "mimetype": "text/x-python",
   "name": "python",
   "nbconvert_exporter": "python",
   "pygments_lexer": "ipython3",
   "version": "3.7.6"
  }
 },
 "nbformat": 4,
 "nbformat_minor": 4
}
