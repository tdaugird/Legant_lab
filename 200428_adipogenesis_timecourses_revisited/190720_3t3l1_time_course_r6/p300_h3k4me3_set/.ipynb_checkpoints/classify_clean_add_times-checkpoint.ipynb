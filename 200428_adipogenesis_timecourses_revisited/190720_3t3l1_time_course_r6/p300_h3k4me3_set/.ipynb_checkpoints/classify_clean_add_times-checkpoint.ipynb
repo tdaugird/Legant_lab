{
 "cells": [
  {
   "cell_type": "markdown",
   "metadata": {},
   "source": [
    "### this tries touse classifier from 190718 data set on new data"
   ]
  },
  {
   "cell_type": "code",
   "execution_count": 1,
   "metadata": {},
   "outputs": [],
   "source": [
    "import os\n",
    "import numpy as np\n",
    "import pandas as pd\n",
    "import matplotlib.pyplot as plt\n",
    "import seaborn as sns\n",
    "from sklearn.ensemble import RandomForestClassifier\n",
    "from sklearn.naive_bayes import GaussianNB\n",
    "from sklearn.model_selection import train_test_split\n",
    "from sklearn.preprocessing import StandardScaler\n",
    "from sklearn.metrics import accuracy_score, precision_score, confusion_matrix"
   ]
  },
  {
   "cell_type": "code",
   "execution_count": 3,
   "metadata": {},
   "outputs": [
    {
     "data": {
      "text/plain": [
       "RandomForestClassifier(bootstrap=True, ccp_alpha=0.0, class_weight=None,\n",
       "                       criterion='gini', max_depth=None, max_features='auto',\n",
       "                       max_leaf_nodes=None, max_samples=None,\n",
       "                       min_impurity_decrease=0.0, min_impurity_split=None,\n",
       "                       min_samples_leaf=1, min_samples_split=2,\n",
       "                       min_weight_fraction_leaf=0.0, n_estimators=100,\n",
       "                       n_jobs=None, oob_score=False, random_state=None,\n",
       "                       verbose=0, warm_start=False)"
      ]
     },
     "execution_count": 3,
     "metadata": {},
     "output_type": "execute_result"
    }
   ],
   "source": [
    "'''firsr thing will be to develop rndm tree classifier'''\n",
    "\n",
    "\n",
    "'''chane to the directory with the training data'''\n",
    "os.chdir(r'C:\\Users\\LegantLab\\Documents\\git\\tad\\Legant_lab\\200428_adipogenesis_timecourses_revisited\\190718_3t3l1_time_course_r5\\annotated_csvs')\n",
    "df_train_orig = pd.read_csv('annotated_compiled_data.csv')\n",
    "keep_cats = [ 'AreaShape_Area',\n",
    " #'AreaShape_Center_X',\n",
    " #'AreaShape_Center_Y',\n",
    " #'AreaShape_Center_Z',\n",
    " 'AreaShape_Compactness',\n",
    " 'AreaShape_Eccentricity',\n",
    " 'AreaShape_EulerNumber',\n",
    " 'AreaShape_Extent',\n",
    " 'AreaShape_FormFactor',\n",
    " 'AreaShape_MajorAxisLength',\n",
    " 'AreaShape_MaxFeretDiameter',\n",
    " 'AreaShape_MaximumRadius',\n",
    " 'AreaShape_MeanRadius',\n",
    " 'AreaShape_MedianRadius',\n",
    " 'AreaShape_MinFeretDiameter',\n",
    " 'AreaShape_MinorAxisLength',\n",
    " 'AreaShape_Orientation',\n",
    " 'AreaShape_Perimeter',\n",
    " 'AreaShape_Solidity',\n",
    " 'AreaShape_Zernike_0_0',\n",
    " 'AreaShape_Zernike_1_1',\n",
    " 'AreaShape_Zernike_2_0',\n",
    " 'AreaShape_Zernike_2_2',\n",
    " 'AreaShape_Zernike_3_1',\n",
    " 'AreaShape_Zernike_3_3',\n",
    " 'AreaShape_Zernike_4_0',\n",
    " 'AreaShape_Zernike_4_2',\n",
    " 'AreaShape_Zernike_4_4',\n",
    " 'AreaShape_Zernike_5_1',\n",
    " 'AreaShape_Zernike_5_3',\n",
    " 'AreaShape_Zernike_5_5',\n",
    " 'AreaShape_Zernike_6_0',\n",
    " 'AreaShape_Zernike_6_2',\n",
    " 'AreaShape_Zernike_6_4',\n",
    " 'AreaShape_Zernike_6_6',\n",
    " 'AreaShape_Zernike_7_1',\n",
    " 'AreaShape_Zernike_7_3',\n",
    " 'AreaShape_Zernike_7_5',\n",
    " 'AreaShape_Zernike_7_7',\n",
    " 'AreaShape_Zernike_8_0',\n",
    " 'AreaShape_Zernike_8_2',\n",
    " 'AreaShape_Zernike_8_4',\n",
    " 'AreaShape_Zernike_8_6',\n",
    " 'AreaShape_Zernike_8_8',\n",
    " 'AreaShape_Zernike_9_1',\n",
    " 'AreaShape_Zernike_9_3',\n",
    " 'AreaShape_Zernike_9_5',\n",
    " 'AreaShape_Zernike_9_7',\n",
    " 'AreaShape_Zernike_9_9',\n",
    " 'Intensity_IntegratedIntensityEdge_dapi',\n",
    " 'Intensity_IntegratedIntensity_dapi',\n",
    " 'Intensity_LowerQuartileIntensity_dapi',\n",
    " 'Intensity_MADIntensity_dapi',\n",
    " 'Intensity_MassDisplacement_dapi',\n",
    " 'Intensity_MaxIntensityEdge_dapi',\n",
    " 'Intensity_MaxIntensity_dapi',\n",
    " 'Intensity_MeanIntensityEdge_dapi',\n",
    " 'Intensity_MeanIntensity_dapi',\n",
    " 'Intensity_MedianIntensity_dapi',\n",
    " 'Intensity_MinIntensityEdge_dapi',\n",
    " 'Intensity_MinIntensity_dapi',\n",
    " 'Intensity_StdIntensityEdge_dapi',\n",
    " 'Intensity_StdIntensity_dapi',\n",
    " 'Intensity_UpperQuartileIntensity_dapi',\n",
    "'in_object']\n",
    "\n",
    "\n",
    "\n",
    "\n",
    "'''read in the training data and drop categories and entries that are of no use'''\n",
    "df_train = df_train_orig[keep_cats] # make a copy of original df. I am going to alter this a little bit in order to pull out train and test cats\n",
    "df_train = df_train.dropna()\n",
    "\n",
    "'''this is target category for the training the classifier'''\n",
    "target_cat_name = 'in_object'\n",
    "\n",
    "'''remove unwanted categories'''\n",
    "#unwanted_cat = ['Unnamed: 0']#, 'ImageNumber', 'ObjectNumber']\n",
    "#df_train.drop(unwanted_cat, axis = 1, inplace = True)\n",
    "\n",
    "'''define train and target data'''\n",
    "x_train = df_train.drop('in_object', axis = 1)\n",
    "y_train = df_train[target_cat_name]\n",
    "\n",
    "#x_test = df_\n",
    "#y_test = df_whole.[target_cat_name]\n",
    "\n",
    "#'''split data into train and test sets'''\n",
    "#x_train, x_test, y_train, y_test = train_test_split(x, y, test_size = .25, random_state = 42)\n",
    "\n",
    "'''this is a feature scaling step. This will standardize all of the data in order to pull everything into the same range'''\n",
    "sc_X = StandardScaler()\n",
    "x_train = sc_X.fit_transform(x_train)\n",
    "#x_test = sc_X.transform(x_test)\n",
    "\n",
    "'''random forest classifier'''\n",
    "clf=RandomForestClassifier(n_estimators=100)\n",
    "\n",
    "#Train the model using the training sets y_pred=clf.predict(X_test)\n",
    "clf.fit(x_train,y_train)"
   ]
  },
  {
   "cell_type": "code",
   "execution_count": 5,
   "metadata": {},
   "outputs": [],
   "source": [
    "'''next i need to compile my annotated test data from the 190720 data set'''\n",
    "os.chdir(r'C:\\Users\\LegantLab\\Documents\\git\\tad\\Legant_lab\\200428_adipogenesis_timecourses_revisited\\190720_3t3l1_time_course_r6\\h3k4me1_gr_set\\annotated_csvs')\n"
   ]
  },
  {
   "cell_type": "code",
   "execution_count": 6,
   "metadata": {},
   "outputs": [
    {
     "data": {
      "text/plain": [
       "['df_in_stad3-52-xy3c1.csv',\n",
       " 'df_in_stad3-55-xy6c1.csv',\n",
       " 'df_out_stad3-52-xy3c1.csv',\n",
       " 'df_out_stad3-55-xy6c1.csv']"
      ]
     },
     "execution_count": 6,
     "metadata": {},
     "output_type": "execute_result"
    }
   ],
   "source": [
    "os.listdir()"
   ]
  },
  {
   "cell_type": "code",
   "execution_count": 11,
   "metadata": {},
   "outputs": [
    {
     "data": {
      "text/plain": [
       "0.9846153846153847"
      ]
     },
     "execution_count": 11,
     "metadata": {},
     "output_type": "execute_result"
    }
   ],
   "source": [
    "dfin1 = pd.read_csv('df_in_stad3-52-xy3c1.csv')\n",
    "dfin1['in_object'] =np.ones(len(dfin1))\n",
    "dfin2 = pd.read_csv('df_in_stad3-55-xy6c1.csv')\n",
    "dfin2['in_object'] =np.ones(len(dfin2))\n",
    "dfout1 = pd.read_csv('df_out_stad3-52-xy3c1.csv')\n",
    "dfout1['in_object'] =np.zeros(len(dfout1))\n",
    "dfout2 = pd.read_csv('df_out_stad3-55-xy6c1.csv')\n",
    "dfout2['in_object'] =np.zeros(len(dfout2))\n",
    "\n",
    "df_test_whole_ = pd.concat([dfin1, dfin2, dfout1, dfout2])\n",
    "df_test_whole = df_test_whole_.dropna()\n",
    "len(df_test_whole) / len(df_test_whole_)"
   ]
  },
  {
   "cell_type": "code",
   "execution_count": 12,
   "metadata": {},
   "outputs": [
    {
     "name": "stdout",
     "output_type": "stream",
     "text": [
      "accuracy:  0.796875  precision:  0.8571428571428571\n"
     ]
    },
    {
     "data": {
      "text/plain": [
       "array([[21,  5],\n",
       "       [ 8, 30]], dtype=int64)"
      ]
     },
     "execution_count": 12,
     "metadata": {},
     "output_type": "execute_result"
    }
   ],
   "source": [
    "df_test = df_test_whole[keep_cats]\n",
    "x_test = df_test.drop('in_object', axis = 1)\n",
    "x_test = sc_X.transform(x_test)\n",
    "y_test = df_test[target_cat_name]\n",
    "'''make predictions based on the trained data'''\n",
    "y_pred = clf.predict(x_test)\n",
    "'''double check accuracy and precisiton of model'''\n",
    "accuracy = accuracy_score(y_test, y_pred)\n",
    "precision = precision_score(y_test, y_pred)\n",
    "\n",
    "print('accuracy: ', accuracy, ' precision: ', precision)\n",
    "confusion_matrix(df_test.in_object, y_pred)"
   ]
  },
  {
   "cell_type": "markdown",
   "metadata": {},
   "source": [
    "### I think that this is working well enough that I can move on from here"
   ]
  },
  {
   "cell_type": "code",
   "execution_count": 14,
   "metadata": {},
   "outputs": [],
   "source": [
    "os.chdir(r'C:\\Users\\LegantLab\\Documents\\git\\tad\\Legant_lab\\200428_adipogenesis_timecourses_revisited\\190720_3t3l1_time_course_r6\\h3k4me1_gr_set')\n",
    "df_orig_ = pd.read_csv('MyExpt_wholenuclei.csv')"
   ]
  },
  {
   "cell_type": "code",
   "execution_count": 15,
   "metadata": {},
   "outputs": [
    {
     "data": {
      "text/plain": [
       "0.9594078319006686"
      ]
     },
     "execution_count": 15,
     "metadata": {},
     "output_type": "execute_result"
    }
   ],
   "source": [
    "df_orig = df_orig_.dropna()\n",
    "len(df_orig) / len(df_orig_)"
   ]
  },
  {
   "cell_type": "code",
   "execution_count": 21,
   "metadata": {},
   "outputs": [
    {
     "name": "stderr",
     "output_type": "stream",
     "text": [
      "C:\\Users\\LegantLab\\anaconda3\\lib\\site-packages\\ipykernel_launcher.py:8: SettingWithCopyWarning: \n",
      "A value is trying to be set on a copy of a slice from a DataFrame.\n",
      "Try using .loc[row_indexer,col_indexer] = value instead\n",
      "\n",
      "See the caveats in the documentation: https://pandas.pydata.org/pandas-docs/stable/user_guide/indexing.html#returning-a-view-versus-a-copy\n",
      "  \n"
     ]
    }
   ],
   "source": [
    "x_test = df_orig[keep_cats[:-1]]\n",
    "#x_test = df_test.drop('in_object', axis = 1)\n",
    "x_test = sc_X.transform(x_test)\n",
    "\n",
    "'''make predictions based on the trained data'''\n",
    "y_pred = clf.predict(x_test)\n",
    "'''double check accuracy and precisiton of model'''\n",
    "df_orig['pred'] = y_pred"
   ]
  },
  {
   "cell_type": "code",
   "execution_count": 22,
   "metadata": {},
   "outputs": [],
   "source": [
    "df_parsed = df_orig.loc[df_orig.pred == 1]"
   ]
  },
  {
   "cell_type": "code",
   "execution_count": 23,
   "metadata": {},
   "outputs": [
    {
     "data": {
      "text/plain": [
       "0.4917869586859134"
      ]
     },
     "execution_count": 23,
     "metadata": {},
     "output_type": "execute_result"
    }
   ],
   "source": [
    "len(df_parsed) / len(df_orig)"
   ]
  },
  {
   "cell_type": "code",
   "execution_count": 24,
   "metadata": {},
   "outputs": [
    {
     "data": {
      "text/plain": [
       "90"
      ]
     },
     "execution_count": 24,
     "metadata": {},
     "output_type": "execute_result"
    }
   ],
   "source": [
    "np.max(df_parsed.ImageNumber)"
   ]
  },
  {
   "cell_type": "code",
   "execution_count": 41,
   "metadata": {},
   "outputs": [],
   "source": [
    "lower_ranges = list(range(1, 92, 9))[:-1]\n",
    "upper_ranges = list(range(1, 92, 9))[1:]\n",
    "times_lst = [-3, -2, -1, 0, .083, .167, .25, .33, 1, 6]\n",
    "\n",
    "df_running_lst = []\n",
    "for i in range(len(lower_ranges)):\n",
    "    df_ = df_orig.loc[(df_orig.ImageNumber >= lower_ranges[i])]\n",
    "    df_ = df_.loc[df_.ImageNumber < upper_ranges[i]]\n",
    "    #print('l: ', lower_ranges[i], ' u: ', upper_ranges[i])\n",
    "    df_['day'] = np.zeros(len(df_))\n",
    "    df_['day'] += times_lst[i]\n",
    "    df_running_lst.append(df_)\n",
    "df_orig_p_times = pd.concat(df_running_lst)"
   ]
  },
  {
   "cell_type": "code",
   "execution_count": 42,
   "metadata": {},
   "outputs": [],
   "source": [
    "'''add times to the parsed dataframe'''\n",
    "lower_ranges = list(range(1, 92, 9))[:-1]\n",
    "upper_ranges = list(range(1, 92, 9))[1:]\n",
    "times_lst = [-3, -2, -1, 0, .083, .167, .25, .33, 1, 6]\n",
    "\n",
    "df_running_lst = []\n",
    "for i in range(len(lower_ranges)):\n",
    "    df_ = df_parsed.loc[(df_parsed.ImageNumber >= lower_ranges[i])]\n",
    "    df_ = df_.loc[df_.ImageNumber < upper_ranges[i]]\n",
    "    #print('l: ', lower_ranges[i], ' u: ', upper_ranges[i])\n",
    "    df_['day'] = np.zeros(len(df_))\n",
    "    df_['day'] += times_lst[i]\n",
    "    df_running_lst.append(df_)\n",
    "df_parsed_p_times = pd.concat(df_running_lst)"
   ]
  },
  {
   "cell_type": "code",
   "execution_count": 46,
   "metadata": {},
   "outputs": [
    {
     "data": {
      "image/png": "[encoded data removed]",
      "text/plain": [
       "<Figure size 432x288 with 1 Axes>"
      ]
     },
     "metadata": {
      "needs_background": "light"
     },
     "output_type": "display_data"
    }
   ],
   "source": [
    "ax = sns.lineplot(df_orig_p_times.day, df_orig_p_times.Intensity_IntegratedIntensity_cebp)\n",
    "ax = sns.lineplot(df_parsed_p_times.day, df_parsed_p_times.Intensity_IntegratedIntensity_cebp, color = 'r')"
   ]
  },
  {
   "cell_type": "code",
   "execution_count": 47,
   "metadata": {},
   "outputs": [],
   "source": [
    "df_orig_p_times.to_csv('df_orig_p_timest.csv')\n",
    "df_parsed_p_times.to_csv('df_parsed_p_times.csv')"
   ]
  },
  {
   "cell_type": "code",
   "execution_count": 48,
   "metadata": {},
   "outputs": [],
   "source": [
    "df_parsed = df_parsed_p_times.copy()\n",
    "df_orig = df_orig_p_times.copy()"
   ]
  },
  {
   "cell_type": "code",
   "execution_count": 49,
   "metadata": {},
   "outputs": [],
   "source": [
    "en_orig = []\n",
    "en_parsed = []\n",
    "\n",
    "for i in np.unique(df_parsed.day):\n",
    "    df_p_ = df_parsed.loc[df_parsed.day == i]\n",
    "    en_parsed.append(len(df_p_))\n",
    "    df_o_ = df_orig.loc[df_orig.day == 1]\n",
    "    en_orig.append(len(df_o_))\n",
    "    \n",
    "ens_df = pd.DataFrame({'time' : np.unique(df_parsed.day),\n",
    "                       'n_orig' : en_orig,\n",
    "                      'n_parsed' : en_parsed,\n",
    "                      'portion_kept' : np.divide(en_parsed, en_orig)})"
   ]
  },
  {
   "cell_type": "code",
   "execution_count": 50,
   "metadata": {},
   "outputs": [
    {
     "data": {
      "text/html": [
       "<div>\n",
       "<style scoped>\n",
       "    .dataframe tbody tr th:only-of-type {\n",
       "        vertical-align: middle;\n",
       "    }\n",
       "\n",
       "    .dataframe tbody tr th {\n",
       "        vertical-align: top;\n",
       "    }\n",
       "\n",
       "    .dataframe thead th {\n",
       "        text-align: right;\n",
       "    }\n",
       "</style>\n",
       "<table border=\"1\" class=\"dataframe\">\n",
       "  <thead>\n",
       "    <tr style=\"text-align: right;\">\n",
       "      <th></th>\n",
       "      <th>time</th>\n",
       "      <th>n_orig</th>\n",
       "      <th>n_parsed</th>\n",
       "      <th>portion_kept</th>\n",
       "    </tr>\n",
       "  </thead>\n",
       "  <tbody>\n",
       "    <tr>\n",
       "      <th>0</th>\n",
       "      <td>-3.000</td>\n",
       "      <td>273</td>\n",
       "      <td>51</td>\n",
       "      <td>0.186813</td>\n",
       "    </tr>\n",
       "    <tr>\n",
       "      <th>1</th>\n",
       "      <td>-2.000</td>\n",
       "      <td>273</td>\n",
       "      <td>102</td>\n",
       "      <td>0.373626</td>\n",
       "    </tr>\n",
       "    <tr>\n",
       "      <th>2</th>\n",
       "      <td>-1.000</td>\n",
       "      <td>273</td>\n",
       "      <td>97</td>\n",
       "      <td>0.355311</td>\n",
       "    </tr>\n",
       "    <tr>\n",
       "      <th>3</th>\n",
       "      <td>0.000</td>\n",
       "      <td>273</td>\n",
       "      <td>108</td>\n",
       "      <td>0.395604</td>\n",
       "    </tr>\n",
       "    <tr>\n",
       "      <th>4</th>\n",
       "      <td>0.083</td>\n",
       "      <td>273</td>\n",
       "      <td>74</td>\n",
       "      <td>0.271062</td>\n",
       "    </tr>\n",
       "    <tr>\n",
       "      <th>5</th>\n",
       "      <td>0.167</td>\n",
       "      <td>273</td>\n",
       "      <td>107</td>\n",
       "      <td>0.391941</td>\n",
       "    </tr>\n",
       "    <tr>\n",
       "      <th>6</th>\n",
       "      <td>0.250</td>\n",
       "      <td>273</td>\n",
       "      <td>107</td>\n",
       "      <td>0.391941</td>\n",
       "    </tr>\n",
       "    <tr>\n",
       "      <th>7</th>\n",
       "      <td>0.330</td>\n",
       "      <td>273</td>\n",
       "      <td>107</td>\n",
       "      <td>0.391941</td>\n",
       "    </tr>\n",
       "    <tr>\n",
       "      <th>8</th>\n",
       "      <td>1.000</td>\n",
       "      <td>273</td>\n",
       "      <td>133</td>\n",
       "      <td>0.487179</td>\n",
       "    </tr>\n",
       "    <tr>\n",
       "      <th>9</th>\n",
       "      <td>6.000</td>\n",
       "      <td>273</td>\n",
       "      <td>102</td>\n",
       "      <td>0.373626</td>\n",
       "    </tr>\n",
       "  </tbody>\n",
       "</table>\n",
       "</div>"
      ],
      "text/plain": [
       "    time  n_orig  n_parsed  portion_kept\n",
       "0 -3.000     273        51      0.186813\n",
       "1 -2.000     273       102      0.373626\n",
       "2 -1.000     273        97      0.355311\n",
       "3  0.000     273       108      0.395604\n",
       "4  0.083     273        74      0.271062\n",
       "5  0.167     273       107      0.391941\n",
       "6  0.250     273       107      0.391941\n",
       "7  0.330     273       107      0.391941\n",
       "8  1.000     273       133      0.487179\n",
       "9  6.000     273       102      0.373626"
      ]
     },
     "execution_count": 50,
     "metadata": {},
     "output_type": "execute_result"
    }
   ],
   "source": [
    "ens_df"
   ]
  },
  {
   "cell_type": "code",
   "execution_count": 51,
   "metadata": {},
   "outputs": [
    {
     "data": {
      "image/png": "[encoded data removed]",
      "text/plain": [
       "<Figure size 432x288 with 1 Axes>"
      ]
     },
     "metadata": {
      "needs_background": "light"
     },
     "output_type": "display_data"
    }
   ],
   "source": [
    "ax = sns.lineplot(df_parsed.day, df_parsed.Intensity_IntegratedIntensity_gr)"
   ]
  },
  {
   "cell_type": "code",
   "execution_count": 52,
   "metadata": {},
   "outputs": [
    {
     "data": {
      "image/png": "[encoded data removed]",
      "text/plain": [
       "<Figure size 432x288 with 1 Axes>"
      ]
     },
     "metadata": {
      "needs_background": "light"
     },
     "output_type": "display_data"
    }
   ],
   "source": [
    "ax = sns.lineplot(df_parsed.day, df_parsed.Intensity_IntegratedIntensity_h3k4me1)"
   ]
  },
  {
   "cell_type": "code",
   "execution_count": 55,
   "metadata": {},
   "outputs": [
    {
     "data": {
      "image/png": "[encoded data removed]",
      "text/plain": [
       "<Figure size 432x288 with 1 Axes>"
      ]
     },
     "metadata": {
      "needs_background": "light"
     },
     "output_type": "display_data"
    }
   ],
   "source": [
    "ax = sns.stripplot(df_parsed.day, df_parsed.Intensity_IntegratedIntensity_cebp)"
   ]
  },
  {
   "cell_type": "code",
   "execution_count": null,
   "metadata": {},
   "outputs": [],
   "source": []
  }
 ],
 "metadata": {
  "kernelspec": {
   "display_name": "Python 3",
   "language": "python",
   "name": "python3"
  },
  "language_info": {
   "codemirror_mode": {
    "name": "ipython",
    "version": 3
   },
   "file_extension": ".py",
   "mimetype": "text/x-python",
   "name": "python",
   "nbconvert_exporter": "python",
   "pygments_lexer": "ipython3",
   "version": "3.7.6"
  }
 },
 "nbformat": 4,
 "nbformat_minor": 4
}
