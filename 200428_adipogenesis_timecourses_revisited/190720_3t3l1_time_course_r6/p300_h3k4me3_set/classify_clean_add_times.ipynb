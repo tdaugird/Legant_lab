{
 "cells": [
  {
   "cell_type": "markdown",
   "metadata": {},
   "source": [
    "### this tries touse classifier from 190718 data set on new data"
   ]
  },
  {
   "cell_type": "code",
   "execution_count": 58,
   "metadata": {},
   "outputs": [],
   "source": [
    "import os\n",
    "import numpy as np\n",
    "import pandas as pd\n",
    "import matplotlib.pyplot as plt\n",
    "import seaborn as sns\n",
    "from sklearn.ensemble import RandomForestClassifier\n",
    "from sklearn.naive_bayes import GaussianNB\n",
    "from sklearn.model_selection import train_test_split\n",
    "from sklearn.preprocessing import StandardScaler\n",
    "from sklearn.metrics import accuracy_score, precision_score, confusion_matrix\n",
    "from scipy import stats"
   ]
  },
  {
   "cell_type": "code",
   "execution_count": 2,
   "metadata": {},
   "outputs": [
    {
     "data": {
      "text/plain": [
       "RandomForestClassifier(bootstrap=True, ccp_alpha=0.0, class_weight=None,\n",
       "                       criterion='gini', max_depth=None, max_features='auto',\n",
       "                       max_leaf_nodes=None, max_samples=None,\n",
       "                       min_impurity_decrease=0.0, min_impurity_split=None,\n",
       "                       min_samples_leaf=1, min_samples_split=2,\n",
       "                       min_weight_fraction_leaf=0.0, n_estimators=100,\n",
       "                       n_jobs=None, oob_score=False, random_state=None,\n",
       "                       verbose=0, warm_start=False)"
      ]
     },
     "execution_count": 2,
     "metadata": {},
     "output_type": "execute_result"
    }
   ],
   "source": [
    "'''firsr thing will be to develop rndm tree classifier'''\n",
    "\n",
    "\n",
    "'''chane to the directory with the training data'''\n",
    "os.chdir(r'C:\\Users\\LegantLab\\Documents\\git\\tad\\Legant_lab\\200428_adipogenesis_timecourses_revisited\\190718_3t3l1_time_course_r5\\annotated_csvs')\n",
    "df_train_orig = pd.read_csv('annotated_compiled_data.csv')\n",
    "keep_cats = [ 'AreaShape_Area',\n",
    " #'AreaShape_Center_X',\n",
    " #'AreaShape_Center_Y',\n",
    " #'AreaShape_Center_Z',\n",
    " 'AreaShape_Compactness',\n",
    " 'AreaShape_Eccentricity',\n",
    " 'AreaShape_EulerNumber',\n",
    " 'AreaShape_Extent',\n",
    " 'AreaShape_FormFactor',\n",
    " 'AreaShape_MajorAxisLength',\n",
    " 'AreaShape_MaxFeretDiameter',\n",
    " 'AreaShape_MaximumRadius',\n",
    " 'AreaShape_MeanRadius',\n",
    " 'AreaShape_MedianRadius',\n",
    " 'AreaShape_MinFeretDiameter',\n",
    " 'AreaShape_MinorAxisLength',\n",
    " 'AreaShape_Orientation',\n",
    " 'AreaShape_Perimeter',\n",
    " 'AreaShape_Solidity',\n",
    " 'AreaShape_Zernike_0_0',\n",
    " 'AreaShape_Zernike_1_1',\n",
    " 'AreaShape_Zernike_2_0',\n",
    " 'AreaShape_Zernike_2_2',\n",
    " 'AreaShape_Zernike_3_1',\n",
    " 'AreaShape_Zernike_3_3',\n",
    " 'AreaShape_Zernike_4_0',\n",
    " 'AreaShape_Zernike_4_2',\n",
    " 'AreaShape_Zernike_4_4',\n",
    " 'AreaShape_Zernike_5_1',\n",
    " 'AreaShape_Zernike_5_3',\n",
    " 'AreaShape_Zernike_5_5',\n",
    " 'AreaShape_Zernike_6_0',\n",
    " 'AreaShape_Zernike_6_2',\n",
    " 'AreaShape_Zernike_6_4',\n",
    " 'AreaShape_Zernike_6_6',\n",
    " 'AreaShape_Zernike_7_1',\n",
    " 'AreaShape_Zernike_7_3',\n",
    " 'AreaShape_Zernike_7_5',\n",
    " 'AreaShape_Zernike_7_7',\n",
    " 'AreaShape_Zernike_8_0',\n",
    " 'AreaShape_Zernike_8_2',\n",
    " 'AreaShape_Zernike_8_4',\n",
    " 'AreaShape_Zernike_8_6',\n",
    " 'AreaShape_Zernike_8_8',\n",
    " 'AreaShape_Zernike_9_1',\n",
    " 'AreaShape_Zernike_9_3',\n",
    " 'AreaShape_Zernike_9_5',\n",
    " 'AreaShape_Zernike_9_7',\n",
    " 'AreaShape_Zernike_9_9',\n",
    " 'Intensity_IntegratedIntensityEdge_dapi',\n",
    " 'Intensity_IntegratedIntensity_dapi',\n",
    " 'Intensity_LowerQuartileIntensity_dapi',\n",
    " 'Intensity_MADIntensity_dapi',\n",
    " 'Intensity_MassDisplacement_dapi',\n",
    " 'Intensity_MaxIntensityEdge_dapi',\n",
    " 'Intensity_MaxIntensity_dapi',\n",
    " 'Intensity_MeanIntensityEdge_dapi',\n",
    " 'Intensity_MeanIntensity_dapi',\n",
    " 'Intensity_MedianIntensity_dapi',\n",
    " 'Intensity_MinIntensityEdge_dapi',\n",
    " 'Intensity_MinIntensity_dapi',\n",
    " 'Intensity_StdIntensityEdge_dapi',\n",
    " 'Intensity_StdIntensity_dapi',\n",
    " 'Intensity_UpperQuartileIntensity_dapi',\n",
    "'in_object']\n",
    "\n",
    "\n",
    "\n",
    "\n",
    "'''read in the training data and drop categories and entries that are of no use'''\n",
    "df_train = df_train_orig[keep_cats] # make a copy of original df. I am going to alter this a little bit in order to pull out train and test cats\n",
    "df_train = df_train.dropna()\n",
    "\n",
    "'''this is target category for the training the classifier'''\n",
    "target_cat_name = 'in_object'\n",
    "\n",
    "'''remove unwanted categories'''\n",
    "#unwanted_cat = ['Unnamed: 0']#, 'ImageNumber', 'ObjectNumber']\n",
    "#df_train.drop(unwanted_cat, axis = 1, inplace = True)\n",
    "\n",
    "'''define train and target data'''\n",
    "x_train = df_train.drop('in_object', axis = 1)\n",
    "y_train = df_train[target_cat_name]\n",
    "\n",
    "#x_test = df_\n",
    "#y_test = df_whole.[target_cat_name]\n",
    "\n",
    "#'''split data into train and test sets'''\n",
    "#x_train, x_test, y_train, y_test = train_test_split(x, y, test_size = .25, random_state = 42)\n",
    "\n",
    "'''this is a feature scaling step. This will standardize all of the data in order to pull everything into the same range'''\n",
    "sc_X = StandardScaler()\n",
    "x_train = sc_X.fit_transform(x_train)\n",
    "#x_test = sc_X.transform(x_test)\n",
    "\n",
    "'''random forest classifier'''\n",
    "clf=RandomForestClassifier(n_estimators=100)\n",
    "\n",
    "#Train the model using the training sets y_pred=clf.predict(X_test)\n",
    "clf.fit(x_train,y_train)"
   ]
  },
  {
   "cell_type": "code",
   "execution_count": 5,
   "metadata": {},
   "outputs": [],
   "source": []
  },
  {
   "cell_type": "code",
   "execution_count": 6,
   "metadata": {},
   "outputs": [
    {
     "data": {
      "text/plain": [
       "['df_in_stad3-52-xy3c1.csv',\n",
       " 'df_in_stad3-55-xy6c1.csv',\n",
       " 'df_out_stad3-52-xy3c1.csv',\n",
       " 'df_out_stad3-55-xy6c1.csv']"
      ]
     },
     "execution_count": 6,
     "metadata": {},
     "output_type": "execute_result"
    }
   ],
   "source": []
  },
  {
   "cell_type": "code",
   "execution_count": null,
   "metadata": {},
   "outputs": [],
   "source": []
  },
  {
   "cell_type": "code",
   "execution_count": 12,
   "metadata": {},
   "outputs": [
    {
     "name": "stdout",
     "output_type": "stream",
     "text": [
      "accuracy:  0.796875  precision:  0.8571428571428571\n"
     ]
    },
    {
     "data": {
      "text/plain": [
       "array([[21,  5],\n",
       "       [ 8, 30]], dtype=int64)"
      ]
     },
     "execution_count": 12,
     "metadata": {},
     "output_type": "execute_result"
    }
   ],
   "source": []
  },
  {
   "cell_type": "markdown",
   "metadata": {},
   "source": [
    "### I think that this is working well enough that I can move on from here"
   ]
  },
  {
   "cell_type": "code",
   "execution_count": 29,
   "metadata": {},
   "outputs": [],
   "source": [
    "os.chdir(r'C:\\Users\\LegantLab\\Documents\\git\\tad\\Legant_lab\\200428_adipogenesis_timecourses_revisited\\190720_3t3l1_time_course_r6\\p300_h3k4me3_set')\n",
    "df_orig_ = pd.read_csv('MyExpt_wholenuclei.csv')"
   ]
  },
  {
   "cell_type": "code",
   "execution_count": 30,
   "metadata": {},
   "outputs": [
    {
     "data": {
      "text/plain": [
       "0.863961813842482"
      ]
     },
     "execution_count": 30,
     "metadata": {},
     "output_type": "execute_result"
    }
   ],
   "source": [
    "df_orig = df_orig_.dropna()\n",
    "len(df_orig) / len(df_orig_)"
   ]
  },
  {
   "cell_type": "code",
   "execution_count": 31,
   "metadata": {},
   "outputs": [
    {
     "name": "stderr",
     "output_type": "stream",
     "text": [
      "C:\\Users\\LegantLab\\anaconda3\\lib\\site-packages\\ipykernel_launcher.py:8: SettingWithCopyWarning: \n",
      "A value is trying to be set on a copy of a slice from a DataFrame.\n",
      "Try using .loc[row_indexer,col_indexer] = value instead\n",
      "\n",
      "See the caveats in the documentation: https://pandas.pydata.org/pandas-docs/stable/user_guide/indexing.html#returning-a-view-versus-a-copy\n",
      "  \n"
     ]
    }
   ],
   "source": [
    "x_test = df_orig[keep_cats[:-1]]\n",
    "#x_test = df_test.drop('in_object', axis = 1)\n",
    "x_test = sc_X.transform(x_test)\n",
    "\n",
    "'''make predictions based on the trained data'''\n",
    "y_pred = clf.predict(x_test)\n",
    "'''double check accuracy and precisiton of model'''\n",
    "df_orig['pred'] = y_pred"
   ]
  },
  {
   "cell_type": "code",
   "execution_count": 32,
   "metadata": {},
   "outputs": [],
   "source": [
    "df_parsed = df_orig.loc[df_orig.pred == 1]"
   ]
  },
  {
   "cell_type": "code",
   "execution_count": 33,
   "metadata": {},
   "outputs": [
    {
     "data": {
      "text/plain": [
       "0.4185082872928177"
      ]
     },
     "execution_count": 33,
     "metadata": {},
     "output_type": "execute_result"
    }
   ],
   "source": [
    "len(df_parsed) / len(df_orig)"
   ]
  },
  {
   "cell_type": "code",
   "execution_count": 34,
   "metadata": {},
   "outputs": [
    {
     "data": {
      "text/plain": [
       "63"
      ]
     },
     "execution_count": 34,
     "metadata": {},
     "output_type": "execute_result"
    }
   ],
   "source": [
    "np.max(df_parsed.ImageNumber)"
   ]
  },
  {
   "cell_type": "code",
   "execution_count": 11,
   "metadata": {},
   "outputs": [
    {
     "name": "stdout",
     "output_type": "stream",
     "text": [
      "l:  1  u:  10  t:  -2\n",
      "l:  10  u:  19  t:  -1\n",
      "l:  19  u:  28  t:  0.083\n",
      "l:  28  u:  37  t:  0.167\n",
      "l:  37  u:  46  t:  0.25\n",
      "l:  46  u:  55  t:  0.33\n",
      "l:  55  u:  64  t:  1\n"
     ]
    }
   ],
   "source": [
    "lower_ranges = list(range(1, 65, 9))[:-1]\n",
    "upper_ranges = list(range(1, 65, 9))[1:]\n",
    "times_lst = [ -2, -1, .083, .167, .25, .33, 1]\n",
    "\n",
    "df_running_lst = []\n",
    "for i in range(len(lower_ranges)):\n",
    "    print('l: ', lower_ranges[i], ' u: ', upper_ranges[i], ' t: ', times_lst[i])"
   ]
  },
  {
   "cell_type": "code",
   "execution_count": 78,
   "metadata": {},
   "outputs": [],
   "source": [
    "lower_ranges = list(range(1, 65, 9))[:-1]\n",
    "upper_ranges = list(range(1, 65, 9))[1:]\n",
    "times_lst = [ -2, -1, .083, .167, 0, .33, 1]\n",
    "\n",
    "df_running_lst = []\n",
    "for i in range(len(lower_ranges)):\n",
    "    df_ = df_orig.loc[(df_orig.ImageNumber >= lower_ranges[i])]\n",
    "    df_ = df_.loc[df_.ImageNumber < upper_ranges[i]]\n",
    "    #print('l: ', lower_ranges[i], ' u: ', upper_ranges[i])\n",
    "    df_['day'] = np.zeros(len(df_))\n",
    "    df_['day'] += times_lst[i]\n",
    "    df_running_lst.append(df_)\n",
    "df_orig_p_times = pd.concat(df_running_lst)"
   ]
  },
  {
   "cell_type": "code",
   "execution_count": 36,
   "metadata": {},
   "outputs": [
    {
     "name": "stdout",
     "output_type": "stream",
     "text": [
      "9\n",
      "9\n",
      "9\n",
      "9\n",
      "9\n",
      "9\n",
      "9\n"
     ]
    }
   ],
   "source": [
    "for i in np.unique(df_orig_p_times.day):\n",
    "    df_ = df_orig_p_times.loc[df_orig_p_times.day == i]\n",
    "    print(len(np.unique(df_.ImageNumber)))"
   ]
  },
  {
   "cell_type": "code",
   "execution_count": 79,
   "metadata": {},
   "outputs": [],
   "source": [
    "lower_ranges = list(range(1, 65, 9))[:-1]\n",
    "upper_ranges = list(range(1, 65, 9))[1:]\n",
    "times_lst = [ -2, -1, .083, .167, 0, .33, 1]\n",
    "\n",
    "df_running_lst = []\n",
    "for i in range(len(lower_ranges)):\n",
    "    df_ = df_parsed.loc[(df_parsed.ImageNumber >= lower_ranges[i])]\n",
    "    df_ = df_.loc[df_.ImageNumber < upper_ranges[i]]\n",
    "    #print('l: ', lower_ranges[i], ' u: ', upper_ranges[i])\n",
    "    df_['day'] = np.zeros(len(df_))\n",
    "    df_['day'] += times_lst[i]\n",
    "    df_running_lst.append(df_)\n",
    "df_parsed_p_times = pd.concat(df_running_lst)"
   ]
  },
  {
   "cell_type": "code",
   "execution_count": 80,
   "metadata": {},
   "outputs": [],
   "source": [
    "ax = sns.lineplot(df_orig_p_times.day, df_orig_p_times.Intensity_IntegratedIntensity_cebp)\n",
    "ax = sns.lineplot(df_parsed_p_times.day, df_parsed_p_times.Intensity_IntegratedIntensity_cebp, color = 'r')"
   ]
  },
  {
   "cell_type": "code",
   "execution_count": 28,
   "metadata": {},
   "outputs": [
    {
     "data": {
      "text/plain": [
       "0.33"
      ]
     },
     "execution_count": 28,
     "metadata": {},
     "output_type": "execute_result"
    }
   ],
   "source": [
    "np.max(df_parsed_p_times.day)"
   ]
  },
  {
   "cell_type": "code",
   "execution_count": 86,
   "metadata": {},
   "outputs": [],
   "source": [
    "df_orig_p_times.to_csv('df_orig_p_timest.csv')\n",
    "df_parsed_p_times.to_csv('df_parsed_p_times.csv')"
   ]
  },
  {
   "cell_type": "code",
   "execution_count": 70,
   "metadata": {},
   "outputs": [],
   "source": [
    "df_parsed = df_parsed_p_times.copy()\n",
    "df_orig = df_orig_p_times.copy()"
   ]
  },
  {
   "cell_type": "code",
   "execution_count": 42,
   "metadata": {},
   "outputs": [],
   "source": [
    "en_orig = []\n",
    "en_parsed = []\n",
    "\n",
    "for i in np.unique(df_parsed.day):\n",
    "    df_p_ = df_parsed.loc[df_parsed.day == i]\n",
    "    en_parsed.append(len(df_p_))\n",
    "    df_o_ = df_orig.loc[df_orig.day == 1]\n",
    "    en_orig.append(len(df_o_))\n",
    "    \n",
    "ens_df = pd.DataFrame({'time' : np.unique(df_parsed.day),\n",
    "                       'n_orig' : en_orig,\n",
    "                      'n_parsed' : en_parsed,\n",
    "                      'portion_kept' : np.divide(en_parsed, en_orig)})"
   ]
  },
  {
   "cell_type": "code",
   "execution_count": 43,
   "metadata": {},
   "outputs": [
    {
     "data": {
      "text/html": [
       "<div>\n",
       "<style scoped>\n",
       "    .dataframe tbody tr th:only-of-type {\n",
       "        vertical-align: middle;\n",
       "    }\n",
       "\n",
       "    .dataframe tbody tr th {\n",
       "        vertical-align: top;\n",
       "    }\n",
       "\n",
       "    .dataframe thead th {\n",
       "        text-align: right;\n",
       "    }\n",
       "</style>\n",
       "<table border=\"1\" class=\"dataframe\">\n",
       "  <thead>\n",
       "    <tr style=\"text-align: right;\">\n",
       "      <th></th>\n",
       "      <th>time</th>\n",
       "      <th>n_orig</th>\n",
       "      <th>n_parsed</th>\n",
       "      <th>portion_kept</th>\n",
       "    </tr>\n",
       "  </thead>\n",
       "  <tbody>\n",
       "    <tr>\n",
       "      <th>0</th>\n",
       "      <td>-2.000</td>\n",
       "      <td>207</td>\n",
       "      <td>80</td>\n",
       "      <td>0.386473</td>\n",
       "    </tr>\n",
       "    <tr>\n",
       "      <th>1</th>\n",
       "      <td>-1.000</td>\n",
       "      <td>207</td>\n",
       "      <td>84</td>\n",
       "      <td>0.405797</td>\n",
       "    </tr>\n",
       "    <tr>\n",
       "      <th>2</th>\n",
       "      <td>0.083</td>\n",
       "      <td>207</td>\n",
       "      <td>114</td>\n",
       "      <td>0.550725</td>\n",
       "    </tr>\n",
       "    <tr>\n",
       "      <th>3</th>\n",
       "      <td>0.167</td>\n",
       "      <td>207</td>\n",
       "      <td>81</td>\n",
       "      <td>0.391304</td>\n",
       "    </tr>\n",
       "    <tr>\n",
       "      <th>4</th>\n",
       "      <td>0.250</td>\n",
       "      <td>207</td>\n",
       "      <td>44</td>\n",
       "      <td>0.212560</td>\n",
       "    </tr>\n",
       "    <tr>\n",
       "      <th>5</th>\n",
       "      <td>0.330</td>\n",
       "      <td>207</td>\n",
       "      <td>98</td>\n",
       "      <td>0.473430</td>\n",
       "    </tr>\n",
       "    <tr>\n",
       "      <th>6</th>\n",
       "      <td>1.000</td>\n",
       "      <td>207</td>\n",
       "      <td>105</td>\n",
       "      <td>0.507246</td>\n",
       "    </tr>\n",
       "  </tbody>\n",
       "</table>\n",
       "</div>"
      ],
      "text/plain": [
       "    time  n_orig  n_parsed  portion_kept\n",
       "0 -2.000     207        80      0.386473\n",
       "1 -1.000     207        84      0.405797\n",
       "2  0.083     207       114      0.550725\n",
       "3  0.167     207        81      0.391304\n",
       "4  0.250     207        44      0.212560\n",
       "5  0.330     207        98      0.473430\n",
       "6  1.000     207       105      0.507246"
      ]
     },
     "execution_count": 43,
     "metadata": {},
     "output_type": "execute_result"
    }
   ],
   "source": [
    "ens_df"
   ]
  },
  {
   "cell_type": "code",
   "execution_count": 81,
   "metadata": {},
   "outputs": [],
   "source": [
    "ax = sns.lineplot(df_parsed.day, df_parsed.Intensity_IntegratedIntensity_gr)"
   ]
  },
  {
   "cell_type": "code",
   "execution_count": 84,
   "metadata": {},
   "outputs": [],
   "source": [
    "ax = sns.lineplot(df_parsed.day, df_parsed.Intensity_IntegratedIntensity_h3k4me1)"
   ]
  },
  {
   "cell_type": "code",
   "execution_count": null,
   "metadata": {},
   "outputs": [],
   "source": []
  },
  {
   "cell_type": "code",
   "execution_count": 83,
   "metadata": {},
   "outputs": [],
   "source": [
    "ax = sns.stripplot(df_parsed.day, df_parsed.Intensity_IntegratedIntensity_cebp)"
   ]
  },
  {
   "cell_type": "code",
   "execution_count": 24,
   "metadata": {},
   "outputs": [
    {
     "data": {
      "image/png": "[encoded data removed]",
      "text/plain": [
       "<Figure size 432x288 with 1 Axes>"
      ]
     },
     "metadata": {
      "needs_background": "light"
     },
     "output_type": "display_data"
    }
   ],
   "source": [
    "ax = sns.stripplot(df_orig.day, df_orig.Intensity_IntegratedIntensity_cebp)"
   ]
  },
  {
   "cell_type": "code",
   "execution_count": 85,
   "metadata": {},
   "outputs": [],
   "source": [
    "os.chdir(r'C:\\Users\\LegantLab\\Documents\\git\\tad\\Legant_lab\\200428_adipogenesis_timecourses_revisited\\190720_3t3l1_time_course_r6\\p300_h3k4me3_set')"
   ]
  },
  {
   "cell_type": "code",
   "execution_count": 47,
   "metadata": {},
   "outputs": [],
   "source": [
    "df_diff = pd.read_csv('df_parsed_p_times.csv')"
   ]
  },
  {
   "cell_type": "code",
   "execution_count": 71,
   "metadata": {},
   "outputs": [
    {
     "name": "stderr",
     "output_type": "stream",
     "text": [
      "C:\\Users\\LegantLab\\anaconda3\\lib\\site-packages\\ipykernel_launcher.py:6: SettingWithCopyWarning: \n",
      "A value is trying to be set on a copy of a slice from a DataFrame.\n",
      "Try using .loc[row_indexer,col_indexer] = value instead\n",
      "\n",
      "See the caveats in the documentation: https://pandas.pydata.org/pandas-docs/stable/user_guide/indexing.html#returning-a-view-versus-a-copy\n",
      "  \n",
      "C:\\Users\\LegantLab\\anaconda3\\lib\\site-packages\\ipykernel_launcher.py:7: SettingWithCopyWarning: \n",
      "A value is trying to be set on a copy of a slice from a DataFrame.\n",
      "Try using .loc[row_indexer,col_indexer] = value instead\n",
      "\n",
      "See the caveats in the documentation: https://pandas.pydata.org/pandas-docs/stable/user_guide/indexing.html#returning-a-view-versus-a-copy\n",
      "  import sys\n"
     ]
    }
   ],
   "source": [
    "keep_cats = ['Intensity_IntegratedIntensity_cebp',\n",
    "             'day']\n",
    "df_diff_ = df_diff[keep_cats]\n",
    "df_parsed_ = df_parsed[keep_cats]\n",
    "\n",
    "df_diff_['old'] = np.ones(len(df_diff_))\n",
    "df_parsed_['old'] = np.zeros(len(df_parsed_))\n",
    "\n",
    "df_catted = pd.concat([df_diff_, df_parsed_])\n",
    "\n",
    "df_catted.day = np.around(df_catted.day, 3)"
   ]
  },
  {
   "cell_type": "code",
   "execution_count": 74,
   "metadata": {},
   "outputs": [],
   "source": [
    "ax = sns.stripplot(df_catted.day, df_catted.Intensity_IntegratedIntensity_cebp, hue = df_catted.old, dodge = 1)"
   ]
  },
  {
   "cell_type": "code",
   "execution_count": 53,
   "metadata": {},
   "outputs": [],
   "source": [
    "%matplotlib qt"
   ]
  },
  {
   "cell_type": "code",
   "execution_count": 76,
   "metadata": {},
   "outputs": [
    {
     "name": "stderr",
     "output_type": "stream",
     "text": [
      "C:\\Users\\LegantLab\\anaconda3\\lib\\site-packages\\pandas\\core\\generic.py:5303: SettingWithCopyWarning: \n",
      "A value is trying to be set on a copy of a slice from a DataFrame.\n",
      "Try using .loc[row_indexer,col_indexer] = value instead\n",
      "\n",
      "See the caveats in the documentation: https://pandas.pydata.org/pandas-docs/stable/user_guide/indexing.html#returning-a-view-versus-a-copy\n",
      "  self[name] = value\n"
     ]
    }
   ],
   "source": [
    "df_diff_.day = np.around(df_diff_.day, 3)"
   ]
  },
  {
   "cell_type": "code",
   "execution_count": 77,
   "metadata": {},
   "outputs": [
    {
     "name": "stdout",
     "output_type": "stream",
     "text": [
      "-3.0 ttest:  Ttest_indResult(statistic=nan, pvalue=nan)\n",
      "-2.0 ttest:  Ttest_indResult(statistic=0.7250458396916846, pvalue=0.4693654000486178)\n",
      "-1.0 ttest:  Ttest_indResult(statistic=3.345734980970333, pvalue=0.0009999075672718757)\n",
      "0.0 ttest:  Ttest_indResult(statistic=-1.1135836367176488, pvalue=0.26723910904044)\n",
      "0.083 ttest:  Ttest_indResult(statistic=5.395827262729953, pvalue=2.058399535107697e-07)\n",
      "0.167 ttest:  Ttest_indResult(statistic=0.18344930914266255, pvalue=0.8546453140213649)\n",
      "0.25 ttest:  Ttest_indResult(statistic=nan, pvalue=nan)\n",
      "0.33 ttest:  Ttest_indResult(statistic=4.315425208923639, pvalue=2.4875159683916045e-05)\n",
      "1.0 ttest:  Ttest_indResult(statistic=0.5457653864592051, pvalue=0.5857427138185993)\n",
      "6.0 ttest:  Ttest_indResult(statistic=nan, pvalue=nan)\n"
     ]
    }
   ],
   "source": [
    "name = 'Intensity_IntegratedIntensity_cebp'\n",
    "for i in np.unique(df_diff_.day):\n",
    "    df_ = df_diff_.loc[df_diff_.day == i]\n",
    "    print(i, 'ttest: ', stats.ttest_ind(df_[name], df_parsed.loc[df_parsed.day == i][name]))"
   ]
  },
  {
   "cell_type": "code",
   "execution_count": 69,
   "metadata": {},
   "outputs": [],
   "source": [
    "'''add times to the parsed dataframe'''\n",
    "lower_ranges = list(range(1, 65, 9))[:-1]\n",
    "upper_ranges = list(range(1, 65, 9))[1:]\n",
    "times_lst = [ -2, -1, .083, .167, 0, .33, 1]\n",
    "\n",
    "df_running_lst = []\n",
    "for i in range(len(lower_ranges)):\n",
    "    df_ = df_parsed.loc[(df_parsed.ImageNumber >= lower_ranges[i])]\n",
    "    df_ = df_.loc[df_.ImageNumber < upper_ranges[i]]\n",
    "    #print('l: ', lower_ranges[i], ' u: ', upper_ranges[i])\n",
    "    df_['day'] = np.zeros(len(df_))\n",
    "    df_['day'] += times_lst[i]\n",
    "    df_running_lst.append(df_)\n",
    "df_parsed_p_times = pd.concat(df_running_lst)"
   ]
  },
  {
   "cell_type": "code",
   "execution_count": 63,
   "metadata": {},
   "outputs": [],
   "source": [
    "ax = sns.stripplot(df_parsed_p_times.day, df_parsed_p_times.Intensity_IntegratedIntensity_cebp)"
   ]
  },
  {
   "cell_type": "code",
   "execution_count": 87,
   "metadata": {},
   "outputs": [
    {
     "data": {
      "text/html": [
       "<div>\n",
       "<style scoped>\n",
       "    .dataframe tbody tr th:only-of-type {\n",
       "        vertical-align: middle;\n",
       "    }\n",
       "\n",
       "    .dataframe tbody tr th {\n",
       "        vertical-align: top;\n",
       "    }\n",
       "\n",
       "    .dataframe thead th {\n",
       "        text-align: right;\n",
       "    }\n",
       "</style>\n",
       "<table border=\"1\" class=\"dataframe\">\n",
       "  <thead>\n",
       "    <tr style=\"text-align: right;\">\n",
       "      <th></th>\n",
       "      <th>ImageNumber</th>\n",
       "      <th>ObjectNumber</th>\n",
       "      <th>AreaShape_Area</th>\n",
       "      <th>AreaShape_Center_X</th>\n",
       "      <th>AreaShape_Center_Y</th>\n",
       "      <th>AreaShape_Center_Z</th>\n",
       "      <th>AreaShape_Compactness</th>\n",
       "      <th>AreaShape_Eccentricity</th>\n",
       "      <th>AreaShape_EulerNumber</th>\n",
       "      <th>AreaShape_Extent</th>\n",
       "      <th>...</th>\n",
       "      <th>Location_MaxIntensity_Y_dapi</th>\n",
       "      <th>Location_MaxIntensity_Y_gr</th>\n",
       "      <th>Location_MaxIntensity_Y_h3k4me1</th>\n",
       "      <th>Location_MaxIntensity_Z_cebp</th>\n",
       "      <th>Location_MaxIntensity_Z_dapi</th>\n",
       "      <th>Location_MaxIntensity_Z_gr</th>\n",
       "      <th>Location_MaxIntensity_Z_h3k4me1</th>\n",
       "      <th>Number_Object_Number</th>\n",
       "      <th>pred</th>\n",
       "      <th>day</th>\n",
       "    </tr>\n",
       "  </thead>\n",
       "  <tbody>\n",
       "    <tr>\n",
       "      <th>1</th>\n",
       "      <td>1</td>\n",
       "      <td>2</td>\n",
       "      <td>55610</td>\n",
       "      <td>1363.0</td>\n",
       "      <td>223.0</td>\n",
       "      <td>1.0</td>\n",
       "      <td>1.041011</td>\n",
       "      <td>0.658078</td>\n",
       "      <td>1.0</td>\n",
       "      <td>0.755550</td>\n",
       "      <td>...</td>\n",
       "      <td>292.0</td>\n",
       "      <td>164.0</td>\n",
       "      <td>138.0</td>\n",
       "      <td>0.0</td>\n",
       "      <td>0.0</td>\n",
       "      <td>0.0</td>\n",
       "      <td>0.0</td>\n",
       "      <td>2</td>\n",
       "      <td>1.0</td>\n",
       "      <td>-2.0</td>\n",
       "    </tr>\n",
       "    <tr>\n",
       "      <th>2</th>\n",
       "      <td>1</td>\n",
       "      <td>3</td>\n",
       "      <td>86040</td>\n",
       "      <td>198.0</td>\n",
       "      <td>307.0</td>\n",
       "      <td>1.0</td>\n",
       "      <td>1.022447</td>\n",
       "      <td>0.578800</td>\n",
       "      <td>1.0</td>\n",
       "      <td>0.754598</td>\n",
       "      <td>...</td>\n",
       "      <td>265.0</td>\n",
       "      <td>272.0</td>\n",
       "      <td>395.0</td>\n",
       "      <td>0.0</td>\n",
       "      <td>0.0</td>\n",
       "      <td>0.0</td>\n",
       "      <td>0.0</td>\n",
       "      <td>3</td>\n",
       "      <td>1.0</td>\n",
       "      <td>-2.0</td>\n",
       "    </tr>\n",
       "    <tr>\n",
       "      <th>3</th>\n",
       "      <td>1</td>\n",
       "      <td>4</td>\n",
       "      <td>37055</td>\n",
       "      <td>1855.0</td>\n",
       "      <td>512.0</td>\n",
       "      <td>1.0</td>\n",
       "      <td>1.172446</td>\n",
       "      <td>0.810396</td>\n",
       "      <td>1.0</td>\n",
       "      <td>0.732095</td>\n",
       "      <td>...</td>\n",
       "      <td>500.0</td>\n",
       "      <td>524.0</td>\n",
       "      <td>473.0</td>\n",
       "      <td>0.0</td>\n",
       "      <td>0.0</td>\n",
       "      <td>0.0</td>\n",
       "      <td>0.0</td>\n",
       "      <td>4</td>\n",
       "      <td>1.0</td>\n",
       "      <td>-2.0</td>\n",
       "    </tr>\n",
       "    <tr>\n",
       "      <th>4</th>\n",
       "      <td>1</td>\n",
       "      <td>5</td>\n",
       "      <td>53516</td>\n",
       "      <td>1360.0</td>\n",
       "      <td>719.0</td>\n",
       "      <td>1.0</td>\n",
       "      <td>1.066476</td>\n",
       "      <td>0.682524</td>\n",
       "      <td>1.0</td>\n",
       "      <td>0.756806</td>\n",
       "      <td>...</td>\n",
       "      <td>767.0</td>\n",
       "      <td>658.0</td>\n",
       "      <td>809.0</td>\n",
       "      <td>0.0</td>\n",
       "      <td>0.0</td>\n",
       "      <td>0.0</td>\n",
       "      <td>0.0</td>\n",
       "      <td>5</td>\n",
       "      <td>1.0</td>\n",
       "      <td>-2.0</td>\n",
       "    </tr>\n",
       "    <tr>\n",
       "      <th>5</th>\n",
       "      <td>1</td>\n",
       "      <td>6</td>\n",
       "      <td>48873</td>\n",
       "      <td>1168.0</td>\n",
       "      <td>948.0</td>\n",
       "      <td>1.0</td>\n",
       "      <td>1.028447</td>\n",
       "      <td>0.608367</td>\n",
       "      <td>1.0</td>\n",
       "      <td>0.731719</td>\n",
       "      <td>...</td>\n",
       "      <td>945.0</td>\n",
       "      <td>1042.0</td>\n",
       "      <td>966.0</td>\n",
       "      <td>0.0</td>\n",
       "      <td>0.0</td>\n",
       "      <td>0.0</td>\n",
       "      <td>0.0</td>\n",
       "      <td>6</td>\n",
       "      <td>1.0</td>\n",
       "      <td>-2.0</td>\n",
       "    </tr>\n",
       "  </tbody>\n",
       "</table>\n",
       "<p>5 rows × 141 columns</p>\n",
       "</div>"
      ],
      "text/plain": [
       "   ImageNumber  ObjectNumber  AreaShape_Area  AreaShape_Center_X  \\\n",
       "1            1             2           55610              1363.0   \n",
       "2            1             3           86040               198.0   \n",
       "3            1             4           37055              1855.0   \n",
       "4            1             5           53516              1360.0   \n",
       "5            1             6           48873              1168.0   \n",
       "\n",
       "   AreaShape_Center_Y  AreaShape_Center_Z  AreaShape_Compactness  \\\n",
       "1               223.0                 1.0               1.041011   \n",
       "2               307.0                 1.0               1.022447   \n",
       "3               512.0                 1.0               1.172446   \n",
       "4               719.0                 1.0               1.066476   \n",
       "5               948.0                 1.0               1.028447   \n",
       "\n",
       "   AreaShape_Eccentricity  AreaShape_EulerNumber  AreaShape_Extent  ...  \\\n",
       "1                0.658078                    1.0          0.755550  ...   \n",
       "2                0.578800                    1.0          0.754598  ...   \n",
       "3                0.810396                    1.0          0.732095  ...   \n",
       "4                0.682524                    1.0          0.756806  ...   \n",
       "5                0.608367                    1.0          0.731719  ...   \n",
       "\n",
       "   Location_MaxIntensity_Y_dapi  Location_MaxIntensity_Y_gr  \\\n",
       "1                         292.0                       164.0   \n",
       "2                         265.0                       272.0   \n",
       "3                         500.0                       524.0   \n",
       "4                         767.0                       658.0   \n",
       "5                         945.0                      1042.0   \n",
       "\n",
       "   Location_MaxIntensity_Y_h3k4me1  Location_MaxIntensity_Z_cebp  \\\n",
       "1                            138.0                           0.0   \n",
       "2                            395.0                           0.0   \n",
       "3                            473.0                           0.0   \n",
       "4                            809.0                           0.0   \n",
       "5                            966.0                           0.0   \n",
       "\n",
       "   Location_MaxIntensity_Z_dapi  Location_MaxIntensity_Z_gr  \\\n",
       "1                           0.0                         0.0   \n",
       "2                           0.0                         0.0   \n",
       "3                           0.0                         0.0   \n",
       "4                           0.0                         0.0   \n",
       "5                           0.0                         0.0   \n",
       "\n",
       "   Location_MaxIntensity_Z_h3k4me1  Number_Object_Number  pred  day  \n",
       "1                              0.0                     2   1.0 -2.0  \n",
       "2                              0.0                     3   1.0 -2.0  \n",
       "3                              0.0                     4   1.0 -2.0  \n",
       "4                              0.0                     5   1.0 -2.0  \n",
       "5                              0.0                     6   1.0 -2.0  \n",
       "\n",
       "[5 rows x 141 columns]"
      ]
     },
     "execution_count": 87,
     "metadata": {},
     "output_type": "execute_result"
    }
   ],
   "source": [
    "df_parsed.head()"
   ]
  },
  {
   "cell_type": "code",
   "execution_count": null,
   "metadata": {},
   "outputs": [],
   "source": []
  }
 ],
 "metadata": {
  "kernelspec": {
   "display_name": "Python 3",
   "language": "python",
   "name": "python3"
  },
  "language_info": {
   "codemirror_mode": {
    "name": "ipython",
    "version": 3
   },
   "file_extension": ".py",
   "mimetype": "text/x-python",
   "name": "python",
   "nbconvert_exporter": "python",
   "pygments_lexer": "ipython3",
   "version": "3.7.6"
  }
 },
 "nbformat": 4,
 "nbformat_minor": 4
}
